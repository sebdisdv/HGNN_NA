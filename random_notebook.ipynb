{
 "cells": [
  {
   "cell_type": "code",
   "execution_count": 1,
   "metadata": {},
   "outputs": [],
   "source": [
    "# from torch_geometric.data import HeteroData\n",
    "# import torch"
   ]
  },
  {
   "cell_type": "code",
   "execution_count": 2,
   "metadata": {},
   "outputs": [],
   "source": [
    "# def create_fake_datasets(n) -> HeteroData:\n",
    "#     datas = []\n",
    "#     for _ in range(n):\n",
    "#         data = HeteroData()\n",
    "#         data['activity'].x = torch.rand(size=[3,10]) # 3 activities X 10 features\n",
    "#         data['resource_static'].x = torch.rand(size=[1,5]) # 1 static resources X 5 features\n",
    "#         data['resource_dynamic'].x = torch.rand(size=[3,8]) # 1 dynamic resources(one node for each acivity so 3 in total) X 8 features\n",
    "#         # data['attribute'].x = torch.rand(size=[3,2]) # 3 attributes(one for each activity) X 2 features\n",
    "#         data[('activity', 'follows', 'activity')].edge_attribute = torch.rand(size=[3,1]) # 3 edges a1a2 a2a3 a1a3 X 1 timedelta\n",
    "#         data[('activity', 'has', 'resource_static')].edge_attribute = torch.rand(size=[3,4]) # 3 edges one per activity X 4 features\n",
    "#         #data[('activity', 'has', 'resource_dynamic')].edge_attribute -> only connection\n",
    "#         data[('resource_dynamic', 'resource_delta', 'resource_dynamic')].edge_attribute = torch.rand(size=[2, 1]) # (n-1) activities X 1 delta resource\n",
    "#         # data[('activity', 'has', 'attribute')].edge_index = torch.tensor([[0,1,2],[0,1,2]], dtype=torch.int64)\n",
    "#         data[('activity', 'follows', 'activity')].edge_index = torch.tensor([[0,1],[0,2],[1,2]], dtype=torch.int64)\n",
    "#         data[('activity', 'has', 'resource_static')].edge_index = torch.tensor([[0,1,2],[0,0,0]], dtype=torch.int64)\n",
    "#         data[('resource_dynamic', 'resource_delta', 'resource_dynamic')].edge_index = torch.tensor([[0,1],[1,2]], dtype=torch.int64)\n",
    "#         data[('activity', 'has', 'resource_dynamic')].edge_index = torch.tensor([[0,1,2],[0,1,2]], dtype=torch.int64)\n",
    "#         datas.append(data)\n",
    "#     return datas"
   ]
  },
  {
   "cell_type": "code",
   "execution_count": null,
   "metadata": {},
   "outputs": [],
   "source": [
    "# from torch_geometric.transforms import ToUndirected, NormalizeFeatures\n",
    "\n",
    "# print(ToUndirected()(data))\n",
    "# model\n",
    "# data.x_dict\n",
    "# data.edge_index_dict"
   ]
  },
  {
   "cell_type": "code",
   "execution_count": null,
   "metadata": {},
   "outputs": [],
   "source": [
    "# with torch.no_grad():\n",
    "#     a = model(data.x_dict, data.edge_index_dict)"
   ]
  },
  {
   "cell_type": "markdown",
   "metadata": {},
   "source": [
    "{\n",
    "                        (\"activity\", \"follows\", \"activity\"): GATConv(\n",
    "                            (-1, -1), hid, add_self_loops=False\n",
    "                        ),\n",
    "                        (\"activity\", \"has\", \"resource_static\"): GATConv(\n",
    "                            (-1, -1), hid, add_self_loops=False\n",
    "                        ),\n",
    "                        (\n",
    "                            \"resource_dynamic\",\n",
    "                            \"resource_delta\",\n",
    "                            \"resource_dynamic\",\n",
    "                        ): GATConv((-1, -1), hid, add_self_loops=False),\n",
    "                        (\"activity\", \"has\", \"resource_dynamic\"): GATConv(\n",
    "                            (-1, -1), hid, add_self_loops=False\n",
    "                        ),\n",
    "                        ('activity', 'has', 'attribute') : GATConv((-1,-1), hid, add_self_loops=False)\n",
    "                    },"
   ]
  }
 ],
 "metadata": {
  "kernelspec": {
   "display_name": "hgnn_env",
   "language": "python",
   "name": "python3"
  },
  "language_info": {
   "codemirror_mode": {
    "name": "ipython",
    "version": 3
   },
   "file_extension": ".py",
   "mimetype": "text/x-python",
   "name": "python",
   "nbconvert_exporter": "python",
   "pygments_lexer": "ipython3",
   "version": "3.10.12"
  }
 },
 "nbformat": 4,
 "nbformat_minor": 2
}
