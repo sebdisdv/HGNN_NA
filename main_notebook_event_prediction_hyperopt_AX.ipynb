{
 "cells": [
  {
   "cell_type": "code",
   "execution_count": 1,
   "metadata": {},
   "outputs": [
    {
     "name": "stdout",
     "output_type": "stream",
     "text": [
      "/home/sebdis/ProcessMining/HGNN/HGNN_NA\n",
      "/home/sebdis/ProcessMining/HGNN/HGNN_NA/data/datasets/original/\n",
      "/home/sebdis/ProcessMining/HGNN/HGNN_NA/data/datasets/processed/\n",
      "/home/sebdis/ProcessMining/HGNN/HGNN_NA/data/datasets/graphs/\n"
     ]
    }
   ],
   "source": [
    "import torch\n",
    "import pickle\n",
    "import numpy as np\n",
    "import pandas as pd\n",
    "import os\n",
    "\n",
    "from os.path import dirname\n",
    "\n",
    "\n",
    "\n",
    "root_path = dirname(os.getcwd()) + \"/HGNN_NA\"\n",
    "\n",
    "pd.set_option(\"display.max_columns\", None)\n",
    "data_dir = root_path + \"/data/datasets/original/\"\n",
    "data_dir_processed = root_path + \"/data/datasets/processed/\"\n",
    "data_dir_graphs = root_path + \"/data/datasets/graphs/\"\n",
    "\n",
    "print(root_path, data_dir, data_dir_processed, data_dir_graphs, sep=\"\\n\")\n",
    "\n",
    "device = torch.device(\"cuda:0\" if torch.cuda.is_available() else \"cpu\")\n",
    "# device = \"cpu\""
   ]
  },
  {
   "cell_type": "code",
   "execution_count": 2,
   "metadata": {},
   "outputs": [],
   "source": [
    "dataset = \"BPI_Challenge_2012_A\""
   ]
  },
  {
   "cell_type": "code",
   "execution_count": 3,
   "metadata": {},
   "outputs": [
    {
     "name": "stdout",
     "output_type": "stream",
     "text": [
      "   org:resource lifecycle:transition           Activity  time:timestamp  \\\n",
      "0           112             COMPLETE        A_SUBMITTED        0.000000   \n",
      "1           112             COMPLETE  A_PARTLYSUBMITTED        0.000000   \n",
      "2           112             COMPLETE      A_PREACCEPTED        3.970292   \n",
      "3         10862             COMPLETE         A_ACCEPTED       10.592602   \n",
      "4         10862             COMPLETE        A_FINALIZED       10.596260   \n",
      "\n",
      "   case:REG_DATE  CaseID  case:AMOUNT_REQ org:resource:role  \n",
      "0       8.881836  173688         9.903488            Role 3  \n",
      "1       8.881836  173688         9.903488            Role 3  \n",
      "2       8.881836  173688         9.903488            Role 3  \n",
      "3       8.881836  173688         9.903488            Role 1  \n",
      "4       8.881836  173688         9.903488            Role 1  \n"
     ]
    }
   ],
   "source": [
    "tab_all = pd.read_csv(data_dir_processed+dataset+\"_processed_all.csv\")\n",
    "print(tab_all.head())\n",
    "list_activities = list(tab_all[\"Activity\"].unique())\n",
    "list_org_resource = list(tab_all['org:resource'].unique())\n",
    "list_org_resource_roles = list(tab_all[\"org:resource:role\"].unique())"
   ]
  },
  {
   "cell_type": "code",
   "execution_count": null,
   "metadata": {},
   "outputs": [],
   "source": [
    "tab_all['org:resource:role'].value_counts()"
   ]
  },
  {
   "cell_type": "code",
   "execution_count": 4,
   "metadata": {},
   "outputs": [],
   "source": [
    "import random\n",
    "\n",
    "torch.manual_seed(0)\n",
    "torch.cuda.manual_seed(0)\n",
    "random.seed(0)\n",
    "np.random.seed(0)"
   ]
  },
  {
   "cell_type": "code",
   "execution_count": 5,
   "metadata": {},
   "outputs": [],
   "source": [
    "with open(data_dir_graphs + dataset + \"_TRAIN_event_prediction_newF_onehot_lessEdgesWclass_wRole.pkl\", \"rb\") as f:\n",
    "    X_train = pickle.load(f)\n",
    "with open(data_dir_graphs + dataset + \"_VALID_event_prediction_newF_onehot_lessEdgesWclass_wRole.pkl\", \"rb\") as f:\n",
    "    X_valid = pickle.load(f)\n",
    "with open(data_dir_graphs + dataset + \"_TEST_event_prediction_newF_onehot_lessEdgesWclass_wRole.pkl\", \"rb\") as f:\n",
    "    X_test = pickle.load(f)"
   ]
  },
  {
   "cell_type": "code",
   "execution_count": null,
   "metadata": {},
   "outputs": [],
   "source": [
    "\n",
    "with open(data_dir_graphs + dataset + \"_TRAIN_event_prediction_SEMIFINAL_NOATTR.pkl\", \"rb\") as f:\n",
    "    X_train = pickle.load(f)\n",
    "with open(data_dir_graphs + dataset + \"_VALID_event_prediction_SEMIFINAL_NOATTR.pkl\", \"rb\") as f:\n",
    "    X_valid = pickle.load(f)\n",
    "with open(data_dir_graphs + dataset + \"_TEST_event_prediction_SEMIFINAL_NOATTR.pkl\", \"rb\") as f:\n",
    "    X_test = pickle.load(f)"
   ]
  },
  {
   "cell_type": "code",
   "execution_count": 6,
   "metadata": {},
   "outputs": [],
   "source": [
    "\n",
    "from torch_geometric.data import Dataset\n",
    "from torch_geometric.loader import DataLoader\n",
    "from torch_geometric.transforms import ToUndirected, NormalizeFeatures\n",
    "\n",
    "transform = ToUndirected()\n",
    "\n",
    "with torch.no_grad():\n",
    "        for i in range(len(X_train)):\n",
    "                X_train[i] = transform(X_train[i])\n",
    "        for i in range(len(X_valid)):\n",
    "                X_valid[i] = transform(X_valid[i])\n",
    "        for i in range(len(X_test)):\n",
    "                X_test[i] = transform(X_test[i])\n",
    "    \n",
    "\n",
    "\n",
    "\n",
    "\n"
   ]
  },
  {
   "cell_type": "code",
   "execution_count": 7,
   "metadata": {},
   "outputs": [],
   "source": [
    "edge_types = set()\n",
    "node_types = set()\n",
    "for i in range(len(X_train)):\n",
    "    n, edge_type = X_train[i].metadata()\n",
    "    for x in n:\n",
    "        node_types.add(x)\n",
    "    for x in edge_type:\n",
    "        edge_types.add(x)\n",
    "for i in range(len(X_valid)):\n",
    "    n, edge_type = X_valid[i].metadata()\n",
    "    for x in n:\n",
    "        node_types.add(x)\n",
    "    for x in edge_type:\n",
    "        edge_types.add(x)\n",
    "for i in range(len(X_test)):\n",
    "    n, edge_type = X_test[i].metadata()\n",
    "    for x in n:\n",
    "        node_types.add(x)\n",
    "    for x in edge_type:\n",
    "        edge_types.add(x)\n",
    "node_types = list(node_types)\n",
    "edge_types = list(edge_types)"
   ]
  },
  {
   "cell_type": "code",
   "execution_count": null,
   "metadata": {},
   "outputs": [],
   "source": [
    "#node_types, edge_types = X_train[0].metadata()"
   ]
  },
  {
   "cell_type": "code",
   "execution_count": 8,
   "metadata": {},
   "outputs": [],
   "source": [
    "def get_weights(load, key):\n",
    "    weights = []\n",
    "    \n",
    "    cl_train = [0 for _ in tab_all[key].unique()]\n",
    "    \n",
    "    print(cl_train)\n",
    "    \n",
    "    for i,x in enumerate(load):\n",
    "\n",
    "        \n",
    "        classes = x.y[key]\n",
    "\n",
    "        # print(classes)\n",
    "        \n",
    "        for c in list(classes):\n",
    "            try:\n",
    "                cl_train[c] +=1\n",
    "            except KeyError:\n",
    "                cl_train[c] = 1\n",
    "    s = sum(cl_train)\n",
    "    \n",
    "    print(cl_train)\n",
    "    \n",
    "    weights = [s/x if x > 0 else 0 for x in cl_train]\n",
    "\n",
    "    # weights = [0.7,0.7,1,0.7,0.7,0.7,0.7,0.7,0.7,0.7]\n",
    "    weights = torch.tensor(weights, device=device)\n",
    "    print(weights)\n",
    "    return weights\n",
    "    "
   ]
  },
  {
   "cell_type": "code",
   "execution_count": 25,
   "metadata": {},
   "outputs": [
    {
     "data": {
      "text/plain": [
       "{('org:resource', 'related_to', 'org:resource'): 2,\n",
       " ('Activity', 'followed_by', 'Activity'): 2,\n",
       " ('time:timestamp', 'related_to', 'time:timestamp'): 2,\n",
       " ('org:resource:role', 'related_to', 'org:resource:role'): 2}"
      ]
     },
     "execution_count": 25,
     "metadata": {},
     "output_type": "execute_result"
    }
   ],
   "source": [
    "edge_features_dims = {}\n",
    "for i in range(len(X_train)):\n",
    "    for k in X_train[i].edge_attr_dict.keys():\n",
    "        edge_features_dims[k] = X_train[i].edge_attr_dict[k].shape[1]\n",
    "for i in range(len(X_valid)):\n",
    "    for k in X_train[i].edge_attr_dict.keys():\n",
    "        edge_features_dims[k] = X_train[i].edge_attr_dict[k].shape[1]\n",
    "for i in range(len(X_test)):\n",
    "    for k in X_train[i].edge_attr_dict.keys():\n",
    "        edge_features_dims[k] = X_train[i].edge_attr_dict[k].shape[1]\n",
    "edge_features_dims"
   ]
  },
  {
   "cell_type": "code",
   "execution_count": 10,
   "metadata": {},
   "outputs": [
    {
     "name": "stdout",
     "output_type": "stream",
     "text": [
      "[0, 0, 0, 0, 0, 0, 0, 0, 0, 0]\n",
      "[2683, 1238, 1238, 1586, 4155, 2636, 0, 3851, 1238, 0]\n",
      "tensor([ 6.9419, 15.0444, 15.0444, 11.7434,  4.4826,  7.0656,  0.0000,  4.8364,\n",
      "        15.0444,  0.0000], device='cuda:0')\n",
      "[0, 0, 0]\n",
      "[9394, 4215, 5016]\n",
      "tensor([1.9826, 4.4187, 3.7131], device='cuda:0')\n"
     ]
    }
   ],
   "source": [
    "act_weights = get_weights(DataLoader(X_train, batch_size=1024, shuffle=False), \"Activity\")\n",
    "res_roles_weights = get_weights(DataLoader(X_train, batch_size=1024, shuffle=False), \"org:resource:role\")\n"
   ]
  },
  {
   "cell_type": "markdown",
   "metadata": {},
   "source": [
    "## Hyperopt"
   ]
  },
  {
   "cell_type": "code",
   "execution_count": 11,
   "metadata": {},
   "outputs": [],
   "source": [
    "from ax.service.managed_loop import optimize"
   ]
  },
  {
   "cell_type": "code",
   "execution_count": 12,
   "metadata": {},
   "outputs": [],
   "source": [
    "from torch_geometric.nn import (\n",
    "    HeteroConv,\n",
    "    global_mean_pool,\n",
    "    GATv2Conv,\n",
    ")\n",
    "from torch.nn import (\n",
    "    ModuleList,\n",
    "    Module,\n",
    "    Sequential,\n",
    "    Linear,\n",
    "  )\n",
    "from typing_extensions import Self"
   ]
  },
  {
   "cell_type": "code",
   "execution_count": 13,
   "metadata": {},
   "outputs": [],
   "source": [
    "class HGNN(Module):\n",
    "\n",
    "    def __init__(self, out_act, out_org_resource,out_org_resource_role,nodes_relations, relations_with_features, parameters) -> Self:  # type: ignore\n",
    "        super().__init__()\n",
    "\n",
    "        # List of convolutional layers\n",
    "        \n",
    "        hid = parameters[\"hid\"]\n",
    "        layers = parameters[\"layers\"]\n",
    "        aggregation = parameters[\"aggregation\"]\n",
    "        n_heads = parameters[\"heads\"]\n",
    "     \n",
    "        \n",
    "        self.convs = ModuleList()\n",
    "        for _ in range(layers):\n",
    "            conv = HeteroConv(\n",
    "                {\n",
    "                    relation: (\n",
    "                        GATv2Conv((-1,-1), add_self_loops=False, out_channels=hid, heads=n_heads, concat=False)\n",
    "                        if relation not in relations_with_features\n",
    "                        else GATv2Conv((-1,-1), add_self_loops=False, out_channels=hid,heads=n_heads, edge_dim=relations_with_features[relation], concat=False)\n",
    "                    )\n",
    "                    for relation in nodes_relations\n",
    "                },\n",
    "                aggr=aggregation,\n",
    "            )\n",
    "\n",
    "            self.convs.append(conv)\n",
    "\n",
    "        self.fc_NA = Linear(hid, out_act)\n",
    "            #Linear(hid*n_heads, out_act)\n",
    "       \n",
    "        self.fc_timestamp = Linear(hid, 1)\n",
    "            #Linear(hid*n_heads, 1)\n",
    "       \n",
    "        self.fc_org_resource = Linear(hid, out_org_resource)\n",
    "            #Linear(hid*n_heads, out_org_resource)\n",
    "        \n",
    "        self.fc_org_resource_role = Linear(hid, out_org_resource_role)\n",
    "        \n",
    "        \n",
    "\n",
    "    def forward(self, batch):\n",
    "\n",
    "        for i in range(len(self.convs)):\n",
    "            batch.x_dict = self.convs[i]( \n",
    "                batch.x_dict, batch.edge_index_dict, batch.edge_attr_dict\n",
    "            )\n",
    "\n",
    "            batch.x_dict = {key: x.relu() for key, x in batch.x_dict.items()}\n",
    "\n",
    "        \n",
    "\n",
    "        act = global_mean_pool(batch.x_dict[\"Activity\"], batch[\"Activity\"].batch)\n",
    "        tm = global_mean_pool(batch.x_dict[\"time:timestamp\"], batch[\"time:timestamp\"].batch)\n",
    "        ores = global_mean_pool(batch.x_dict[\"org:resource\"], batch[\"org:resource\"].batch)\n",
    "        ores_roles = global_mean_pool(batch.x_dict[\"org:resource:role\"], batch[\"org:resource:role\"].batch)\n",
    "\n",
    "        activities = self.fc_NA(act)\n",
    "        timestamps = self.fc_timestamp(tm).reshape(1,-1)[0]\n",
    "        org_resources = self.fc_org_resource(ores)\n",
    "        org_resources_role = self.fc_org_resource_role(ores_roles)\n",
    "\n",
    "        return [activities, timestamps, org_resources, org_resources_role]"
   ]
  },
  {
   "cell_type": "code",
   "execution_count": 14,
   "metadata": {},
   "outputs": [],
   "source": [
    "from torcheval.metrics.functional import multiclass_accuracy, multiclass_f1_score"
   ]
  },
  {
   "cell_type": "code",
   "execution_count": 15,
   "metadata": {},
   "outputs": [],
   "source": [
    "import torch.nn as nn"
   ]
  },
  {
   "cell_type": "code",
   "execution_count": 16,
   "metadata": {},
   "outputs": [],
   "source": [
    "import time"
   ]
  },
  {
   "cell_type": "code",
   "execution_count": 17,
   "metadata": {},
   "outputs": [],
   "source": [
    "from copy import deepcopy\n",
    "\n",
    "\n",
    "def train_hgnn(config):\n",
    "    print(config)\n",
    "    \n",
    "   \n",
    "    \n",
    "    net = HGNN(\n",
    "        parameters=config,\n",
    "        out_act=len(list_activities),\n",
    "        out_org_resource=len(list_org_resource),\n",
    "        out_org_resource_role=len(list_org_resource_roles),\n",
    "        nodes_relations=edge_types,\n",
    "        relations_with_features=edge_features_dims,\n",
    "    )\n",
    "    net.to(device)\n",
    "\n",
    "    act_loss = nn.CrossEntropyLoss(act_weights)\n",
    "    timestamp_loss = nn.L1Loss()\n",
    "    org_resource_loss = nn.CrossEntropyLoss()\n",
    "    org_resource_roles_loss = nn.CrossEntropyLoss()\n",
    "\n",
    "    \n",
    "    train_loader = DataLoader(X_train, batch_size=config[\"batch_size\"], shuffle=True)\n",
    "    valid_loader = DataLoader(X_valid, batch_size=config[\"batch_size\"], shuffle=True)\n",
    "    \n",
    "    \n",
    "    #if config[\"optim\"] == \"Adam\":\n",
    "    optimizer = torch.optim.Adam(net.parameters(), lr=config[\"lr\"])\n",
    "    #else:\n",
    "    #    with torch.no_grad():\n",
    "    #        for _,x in enumerate(train_loader):\n",
    "    #            x.to(device)\n",
    "    #            _, _, _ = net(x)\n",
    "    #            break\n",
    "    #    optimizer = torch.optim.Adagrad(net.parameters(), lr=config[\"lr\"])\n",
    "        \n",
    "    \n",
    "    \n",
    "\n",
    "    best_model = None\n",
    "    best_loss = 0\n",
    "    patience = 5\n",
    "    pat_count = 0\n",
    "    \n",
    "    torch.cuda.empty_cache()\n",
    "    \n",
    "    for epoch in range(0, 20):\n",
    "        start_time = time.time() \n",
    "\n",
    "        print(f\"Epoch: {epoch}\\n\")\n",
    "        \n",
    "        \n",
    "        net.train()\n",
    "        for _, x in enumerate(train_loader):\n",
    "            x = x.to(device)\n",
    "\n",
    "            activities_labels = x.y[\"Activity\"]\n",
    "            timestamp_labels = x.y[\"time:timestamp\"]\n",
    "            org_resource_labels = x.y[\"org:resource\"]\n",
    "            org_resource_roles_labels = x.y[\"org:resource:role\"]\n",
    "            \n",
    "            optimizer.zero_grad()\n",
    "            outputs_act, outputs_timestamp, outputs_org_resource, outputs_org_resource_roles = net(x)\n",
    "            \n",
    "            act_loss_step = act_loss(outputs_act, activities_labels)\n",
    "            org_resource_loss_step = org_resource_loss(outputs_org_resource, org_resource_labels)\n",
    "            org_resource_roles_loss_step = org_resource_roles_loss(outputs_org_resource_roles, org_resource_roles_labels)\n",
    "            timestamp_loss_step = timestamp_loss(outputs_timestamp, timestamp_labels)\n",
    "            \n",
    "            total_loss = (act_loss_step + timestamp_loss_step + org_resource_loss_step + org_resource_roles_loss_step)\n",
    "            total_loss.backward()\n",
    "            optimizer.step()\n",
    "            \n",
    "\n",
    "        \n",
    "        \n",
    "        prediction_activity = []\n",
    "        target_activity = []\n",
    "        \n",
    "        prediction_resource = []\n",
    "        target_resource = []\n",
    "        \n",
    "        prediction_resource_roles = []\n",
    "        target_resource_roles = []\n",
    "        \n",
    "        avg_mse_timestamp = []\n",
    "        \n",
    "        \n",
    "        \n",
    "        running_total_loss = []\n",
    "        \n",
    "        net.eval()\n",
    "        with torch.no_grad():\n",
    "            for i, x in enumerate(valid_loader):\n",
    "                x = x.to(device)\n",
    "\n",
    "                activities_labels = x.y[\"Activity\"]\n",
    "                timestamp_labels = x.y[\"time:timestamp\"]\n",
    "                org_resource_labels = x.y[\"org:resource\"]\n",
    "                org_resource_roles_labels = x.y[\"org:resource:role\"]\n",
    "                \n",
    "                outputs_act, outputs_timestamp, outputs_org_resource, outputs_org_resource_roles = net(x)\n",
    "                \n",
    "                act_loss_step = act_loss(outputs_act, activities_labels)\n",
    "                org_resource_loss_step = org_resource_loss(outputs_org_resource, org_resource_labels)\n",
    "                org_resource_roles_loss_step = org_resource_roles_loss(outputs_org_resource_roles, org_resource_roles_labels)\n",
    "                timestamp_loss_step = timestamp_loss(outputs_timestamp, timestamp_labels)\n",
    "                \n",
    "                running_total_loss.append(act_loss_step.item() + org_resource_loss_step.item() + timestamp_loss_step.item() + org_resource_roles_loss_step.item())\n",
    "                \n",
    "\n",
    "                \n",
    "                preds_act = torch.argmax(torch.softmax(outputs_act, dim=1), 1)\n",
    "                prediction_activity.append(preds_act)\n",
    "                target_activity.append(activities_labels)\n",
    "                \n",
    "                \n",
    "                preds_org_resource = torch.argmax(torch.softmax(outputs_org_resource, dim=1), 1)\n",
    "                prediction_resource.append(preds_org_resource)\n",
    "                target_resource.append(org_resource_labels)\n",
    "                \n",
    "                preds_org_resource_roles = torch.argmax(torch.softmax(outputs_org_resource_roles, dim=1), 1)\n",
    "                prediction_resource_roles.append(preds_org_resource_roles)\n",
    "                target_resource_roles.append(org_resource_roles_labels)\n",
    "                \n",
    "                \n",
    "                \n",
    "                avg_mse_timestamp.append(timestamp_loss_step.item())\n",
    "        \n",
    "        \n",
    "        \n",
    "                \n",
    "                \n",
    "        prediction_activity = torch.cat(prediction_activity)\n",
    "        target_activity = torch.cat(target_activity)\n",
    "        \n",
    "        prediction_resource = torch.cat(prediction_resource)\n",
    "        target_resource = torch.cat(target_resource)\n",
    "        \n",
    "        prediction_resource_roles = torch.cat(prediction_resource_roles)\n",
    "        target_resource_roles = torch.cat(target_resource_roles)\n",
    "        \n",
    "        \n",
    "        macro_f1_activity = multiclass_f1_score(prediction_activity, target_activity, num_classes=len(list_activities), average=\"macro\")\n",
    "        \n",
    "        act_accuracy = multiclass_accuracy(prediction_activity, target_activity, num_classes=len(list_activities))\n",
    "        resource_accuracy = multiclass_accuracy(prediction_resource, target_resource, num_classes=len(list_org_resource))\n",
    "        resource_roles_accuracy = multiclass_accuracy(prediction_resource_roles, target_resource_roles, num_classes=len(list_org_resource_roles))\n",
    "        \n",
    "        MAE_timestamp = sum(avg_mse_timestamp) / len(avg_mse_timestamp)\n",
    "        \n",
    "        val_loss = sum(running_total_loss) / len(running_total_loss)\n",
    "        \n",
    "        \n",
    "        \n",
    "        print(f\"\\nVALIDATION\")\n",
    "        print(\"ACTIVITY: acc {:.4f} MacroF1 {:.4f}\".format(act_accuracy, macro_f1_activity))\n",
    "        print(\"TIMESTAMP: MAE {:.4f}\".format(MAE_timestamp))\n",
    "        print(\"RESOURCE: acc {:.4f}\".format(resource_accuracy))\n",
    "        print(\"RESOURCE_ROLE: acc {:.4f}\".format(resource_roles_accuracy))\n",
    "        print(\"TOTAL_LOSS: {:.4f}\".format(val_loss))\n",
    "        print(\"epoch time {}s\\n\".format(time.time() - start_time))\n",
    "        \n",
    "        \n",
    "        \n",
    "        if epoch == 0:\n",
    "            best_model= deepcopy(net)\n",
    "            best_loss = val_loss\n",
    "        else:\n",
    "            if val_loss < best_loss:\n",
    "                best_loss = val_loss\n",
    "                best_model = deepcopy(net)\n",
    "                pat_count = 0\n",
    "                print(\"new best model found\")\n",
    "            if pat_count == patience:\n",
    "                print(\"Validation performance didn\\'t improve for {} epochs. Training stops.\".format(pat_count))\n",
    "                return best_model\n",
    "        pat_count += 1    \n",
    "\n",
    "\n",
    "    return best_model\n",
    "            \n",
    "\n",
    "\n",
    "    "
   ]
  },
  {
   "cell_type": "code",
   "execution_count": 18,
   "metadata": {},
   "outputs": [],
   "source": [
    "def test_hgnn(net):\n",
    "    test_loader = DataLoader(X_train, batch_size=128, shuffle=False)\n",
    "    \n",
    "    act_loss = nn.CrossEntropyLoss(act_weights)\n",
    "    timestamp_loss = nn.L1Loss()\n",
    "    resource_loss = nn.CrossEntropyLoss()\n",
    "    resource_roles_loss = nn.CrossEntropyLoss() \n",
    "    \n",
    "    prediction_activity = []\n",
    "    target_activity = []\n",
    "    \n",
    "    prediction_resource = []\n",
    "    target_resource = []\n",
    "    \n",
    "    prediction_resource_roles = []\n",
    "    target_resource_roles = []\n",
    "    \n",
    "    avg_mse_timestamp = []\n",
    "    \n",
    "    total_loss = []\n",
    "        \n",
    "    net.eval()\n",
    "    with torch.no_grad():\n",
    "        for i, x in enumerate(test_loader):\n",
    "            x = x.to(device)\n",
    "            activities_labels = x.y[\"Activity\"]\n",
    "            timestamp_labels = x.y[\"time:timestamp\"]\n",
    "            org_resource_labels = x.y[\"org:resource\"]\n",
    "            org_resource_roles_labels = x.y[\"org:resource:role\"]\n",
    "            \n",
    "            outputs_act, outputs_timestamp, outputs_org_resource, outputs_org_resource_roles = net(x)\n",
    "            \n",
    "     \n",
    "            timestamp_loss_step = timestamp_loss(outputs_timestamp, timestamp_labels)\n",
    "            act_loss_step = act_loss(outputs_act, activities_labels)\n",
    "            resource_loss_step = resource_loss(outputs_org_resource, org_resource_labels)\n",
    "            org_resource_roles_loss_step = resource_roles_loss(outputs_org_resource_roles, org_resource_roles_labels)\n",
    "            \n",
    "            preds_act = torch.argmax(torch.softmax(outputs_act, dim=1), 1)\n",
    "            prediction_activity.append(preds_act)\n",
    "            target_activity.append(activities_labels)\n",
    "            \n",
    "            \n",
    "            preds_org_resource = torch.argmax(torch.softmax(outputs_org_resource, dim=1), 1)\n",
    "            prediction_resource.append(preds_org_resource)\n",
    "            target_resource.append(org_resource_labels)\n",
    "            \n",
    "            preds_org_resource_roles = torch.argmax(torch.softmax(outputs_org_resource_roles, dim=1), 1)\n",
    "            prediction_resource_roles.append(preds_org_resource_roles)\n",
    "            target_resource_roles.append(org_resource_roles_labels)\n",
    "            \n",
    "            \n",
    "            \n",
    "            avg_mse_timestamp.append(timestamp_loss_step.item())\n",
    "            \n",
    "            total_loss.append(timestamp_loss_step.item() + act_loss_step.item() + resource_loss_step.item() + org_resource_roles_loss_step.item())\n",
    "            \n",
    "            \n",
    "    \n",
    "    prediction_activity = torch.cat(prediction_activity)\n",
    "    target_activity = torch.cat(target_activity)\n",
    "    \n",
    "    prediction_resource = torch.cat(prediction_resource)\n",
    "    target_resource = torch.cat(target_resource)\n",
    "    \n",
    "    prediction_resource_roles = torch.cat(prediction_resource_roles)\n",
    "    target_resource_roles = torch.cat(target_resource_roles)\n",
    "        \n",
    "    act_accuracy = multiclass_accuracy(prediction_activity, target_activity, num_classes=len(list_activities))\n",
    "    resource_accuracy = multiclass_accuracy(prediction_resource, target_resource, num_classes=len(list_org_resource))\n",
    "    resource_roles_accuracy = multiclass_accuracy(prediction_resource_roles, target_resource_roles, num_classes=len(list_org_resource_roles))\n",
    "    MAE_timestamp = sum(avg_mse_timestamp) / len(avg_mse_timestamp)\n",
    "    \n",
    "    Average_total_loss = sum(total_loss) / len(total_loss)\n",
    "    \n",
    "    macro_f1_activity = multiclass_f1_score(prediction_activity, target_activity, num_classes=len(list_activities), average=\"macro\")\n",
    "    \n",
    "    return { \"MacroF1Activity\" : macro_f1_activity.item(), \"activity_accuracy\"  : act_accuracy.item(), \"resource_accuracy\" : resource_accuracy.item(), \"resource_roles_accuracy\" : resource_roles_accuracy.item(), \"MAE_timestamp\" : MAE_timestamp, \"AVG_total_loss\" : Average_total_loss} "
   ]
  },
  {
   "cell_type": "code",
   "execution_count": 19,
   "metadata": {},
   "outputs": [],
   "source": [
    "def train_evaluate(config):\n",
    "    trained_net = train_hgnn(config)\n",
    "    return test_hgnn(trained_net)"
   ]
  },
  {
   "cell_type": "code",
   "execution_count": 20,
   "metadata": {},
   "outputs": [
    {
     "name": "stderr",
     "output_type": "stream",
     "text": [
      "[INFO 01-07 17:28:19] ax.service.utils.instantiation: Choice parameter hid contains only one value, converting to a fixed parameter instead.\n",
      "[INFO 01-07 17:28:19] ax.service.utils.instantiation: Choice parameter layers contains only one value, converting to a fixed parameter instead.\n",
      "[INFO 01-07 17:28:19] ax.service.utils.instantiation: Choice parameter aggregation contains only one value, converting to a fixed parameter instead.\n",
      "[INFO 01-07 17:28:19] ax.service.utils.instantiation: Created search space: SearchSpace(parameters=[FixedParameter(name='hid', parameter_type=INT, value=128), FixedParameter(name='layers', parameter_type=INT, value=2), RangeParameter(name='lr', parameter_type=FLOAT, range=[0.0001, 0.1], log_scale=True), ChoiceParameter(name='batch_size', parameter_type=INT, values=[256, 1024], is_ordered=True, sort_values=False), ChoiceParameter(name='heads', parameter_type=INT, values=[1, 4], is_ordered=True, sort_values=False), FixedParameter(name='aggregation', parameter_type=STRING, value='max')], parameter_constraints=[]).\n",
      "[INFO 01-07 17:28:19] ax.modelbridge.dispatch_utils: Using Models.BOTORCH_MODULAR since there is at least one ordered parameter and there are no unordered categorical parameters.\n",
      "[INFO 01-07 17:28:19] ax.modelbridge.dispatch_utils: Calculating the number of remaining initialization trials based on num_initialization_trials=None max_initialization_trials=None num_tunable_parameters=3 num_trials=None use_batch_trials=False\n",
      "[INFO 01-07 17:28:19] ax.modelbridge.dispatch_utils: calculated num_initialization_trials=6\n",
      "[INFO 01-07 17:28:19] ax.modelbridge.dispatch_utils: num_completed_initialization_trials=0 num_remaining_initialization_trials=6\n",
      "[INFO 01-07 17:28:19] ax.modelbridge.dispatch_utils: `verbose`, `disable_progbar`, and `jit_compile` are not yet supported when using `choose_generation_strategy` with ModularBoTorchModel, dropping these arguments.\n",
      "[INFO 01-07 17:28:19] ax.modelbridge.dispatch_utils: Using Bayesian Optimization generation strategy: GenerationStrategy(name='Sobol+BoTorch', steps=[Sobol for 6 trials, BoTorch for subsequent trials]). Iterations after 6 will take longer to generate due to model-fitting.\n",
      "[INFO 01-07 17:28:19] ax.service.managed_loop: Started full optimization with 20 steps.\n",
      "[INFO 01-07 17:28:19] ax.service.managed_loop: Running optimization trial 1...\n",
      "/home/sebdis/ProcessMining/HGNN/hgnn_env/lib/python3.10/site-packages/ax/modelbridge/cross_validation.py:463: UserWarning: Encountered exception in computing model fit quality: RandomModelBridge does not support prediction.\n",
      "  warn(\"Encountered exception in computing model fit quality: \" + str(e))\n"
     ]
    },
    {
     "name": "stdout",
     "output_type": "stream",
     "text": [
      "{'lr': 0.0001865322718407359, 'batch_size': 1024, 'heads': 1, 'hid': 128, 'layers': 2, 'aggregation': 'max'}\n",
      "Epoch: 0\n",
      "\n"
     ]
    },
    {
     "name": "stderr",
     "output_type": "stream",
     "text": [
      "WARNING:root:Warning: Some classes do not exist in the target. F1 scores for these classes will be cast to zeros.\n"
     ]
    },
    {
     "name": "stdout",
     "output_type": "stream",
     "text": [
      "\n",
      "VALIDATION\n",
      "ACTIVITY: acc 0.2629 MacroF1 0.1021\n",
      "TIMESTAMP: MAE 11.9874\n",
      "RESOURCE: acc 0.2648\n",
      "RESOURCE_ROLE: acc 0.5107\n",
      "TOTAL_LOSS: 18.9187\n",
      "epoch time 12.660966157913208s\n",
      "\n",
      "Epoch: 1\n",
      "\n"
     ]
    },
    {
     "name": "stderr",
     "output_type": "stream",
     "text": [
      "WARNING:root:Warning: Some classes do not exist in the target. F1 scores for these classes will be cast to zeros.\n"
     ]
    },
    {
     "name": "stdout",
     "output_type": "stream",
     "text": [
      "\n",
      "VALIDATION\n",
      "ACTIVITY: acc 0.1454 MacroF1 0.0317\n",
      "TIMESTAMP: MAE 8.4879\n",
      "RESOURCE: acc 0.2648\n",
      "RESOURCE_ROLE: acc 0.5107\n",
      "TOTAL_LOSS: 15.0804\n",
      "epoch time 12.187115669250488s\n",
      "\n",
      "new best model found\n",
      "Epoch: 2\n",
      "\n"
     ]
    },
    {
     "name": "stderr",
     "output_type": "stream",
     "text": [
      "WARNING:root:Warning: Some classes do not exist in the target. F1 scores for these classes will be cast to zeros.\n"
     ]
    },
    {
     "name": "stdout",
     "output_type": "stream",
     "text": [
      "\n",
      "VALIDATION\n",
      "ACTIVITY: acc 0.2921 MacroF1 0.2131\n",
      "TIMESTAMP: MAE 4.6909\n",
      "RESOURCE: acc 0.2648\n",
      "RESOURCE_ROLE: acc 0.5107\n",
      "TOTAL_LOSS: 11.1291\n",
      "epoch time 12.34177851676941s\n",
      "\n",
      "new best model found\n",
      "Epoch: 3\n",
      "\n"
     ]
    },
    {
     "name": "stderr",
     "output_type": "stream",
     "text": [
      "WARNING:root:Warning: Some classes do not exist in the target. F1 scores for these classes will be cast to zeros.\n"
     ]
    },
    {
     "name": "stdout",
     "output_type": "stream",
     "text": [
      "\n",
      "VALIDATION\n",
      "ACTIVITY: acc 0.2618 MacroF1 0.1023\n",
      "TIMESTAMP: MAE 0.2165\n",
      "RESOURCE: acc 0.2648\n",
      "RESOURCE_ROLE: acc 0.5107\n",
      "TOTAL_LOSS: 6.5918\n",
      "epoch time 12.45204496383667s\n",
      "\n",
      "new best model found\n",
      "Epoch: 4\n",
      "\n"
     ]
    },
    {
     "name": "stderr",
     "output_type": "stream",
     "text": [
      "WARNING:root:Warning: Some classes do not exist in the target. F1 scores for these classes will be cast to zeros.\n"
     ]
    },
    {
     "name": "stdout",
     "output_type": "stream",
     "text": [
      "\n",
      "VALIDATION\n",
      "ACTIVITY: acc 0.3924 MacroF1 0.2839\n",
      "TIMESTAMP: MAE 0.4951\n",
      "RESOURCE: acc 0.2648\n",
      "RESOURCE_ROLE: acc 0.5107\n",
      "TOTAL_LOSS: 6.8223\n",
      "epoch time 12.98985767364502s\n",
      "\n",
      "Epoch: 5\n",
      "\n"
     ]
    },
    {
     "name": "stderr",
     "output_type": "stream",
     "text": [
      "WARNING:root:Warning: Some classes do not exist in the target. F1 scores for these classes will be cast to zeros.\n"
     ]
    },
    {
     "name": "stdout",
     "output_type": "stream",
     "text": [
      "\n",
      "VALIDATION\n",
      "ACTIVITY: acc 0.2984 MacroF1 0.2117\n",
      "TIMESTAMP: MAE 0.2054\n",
      "RESOURCE: acc 0.2648\n",
      "RESOURCE_ROLE: acc 0.5107\n",
      "TOTAL_LOSS: 6.4802\n",
      "epoch time 14.971792221069336s\n",
      "\n",
      "new best model found\n",
      "Epoch: 6\n",
      "\n"
     ]
    },
    {
     "name": "stderr",
     "output_type": "stream",
     "text": [
      "WARNING:root:Warning: Some classes do not exist in the target. F1 scores for these classes will be cast to zeros.\n"
     ]
    },
    {
     "name": "stdout",
     "output_type": "stream",
     "text": [
      "\n",
      "VALIDATION\n",
      "ACTIVITY: acc 0.5291 MacroF1 0.3854\n",
      "TIMESTAMP: MAE 0.1714\n",
      "RESOURCE: acc 0.2648\n",
      "RESOURCE_ROLE: acc 0.5107\n",
      "TOTAL_LOSS: 6.3727\n",
      "epoch time 13.075678825378418s\n",
      "\n",
      "new best model found\n",
      "Epoch: 7\n",
      "\n"
     ]
    },
    {
     "name": "stderr",
     "output_type": "stream",
     "text": [
      "WARNING:root:Warning: Some classes do not exist in the target. F1 scores for these classes will be cast to zeros.\n"
     ]
    },
    {
     "name": "stdout",
     "output_type": "stream",
     "text": [
      "\n",
      "VALIDATION\n",
      "ACTIVITY: acc 0.5183 MacroF1 0.3804\n",
      "TIMESTAMP: MAE 0.1815\n",
      "RESOURCE: acc 0.2648\n",
      "RESOURCE_ROLE: acc 0.5107\n",
      "TOTAL_LOSS: 6.2855\n",
      "epoch time 12.676467180252075s\n",
      "\n",
      "new best model found\n",
      "Epoch: 8\n",
      "\n"
     ]
    },
    {
     "name": "stderr",
     "output_type": "stream",
     "text": [
      "WARNING:root:Warning: Some classes do not exist in the target. F1 scores for these classes will be cast to zeros.\n"
     ]
    },
    {
     "name": "stdout",
     "output_type": "stream",
     "text": [
      "\n",
      "VALIDATION\n",
      "ACTIVITY: acc 0.5103 MacroF1 0.3812\n",
      "TIMESTAMP: MAE 0.1751\n",
      "RESOURCE: acc 0.2648\n",
      "RESOURCE_ROLE: acc 0.5107\n",
      "TOTAL_LOSS: 6.1634\n",
      "epoch time 12.655221939086914s\n",
      "\n",
      "new best model found\n",
      "Epoch: 9\n",
      "\n"
     ]
    },
    {
     "name": "stderr",
     "output_type": "stream",
     "text": [
      "WARNING:root:Warning: Some classes do not exist in the target. F1 scores for these classes will be cast to zeros.\n"
     ]
    },
    {
     "name": "stdout",
     "output_type": "stream",
     "text": [
      "\n",
      "VALIDATION\n",
      "ACTIVITY: acc 0.4984 MacroF1 0.3667\n",
      "TIMESTAMP: MAE 0.1675\n",
      "RESOURCE: acc 0.2648\n",
      "RESOURCE_ROLE: acc 0.5522\n",
      "TOTAL_LOSS: 6.0356\n",
      "epoch time 12.988100528717041s\n",
      "\n",
      "new best model found\n",
      "Epoch: 10\n",
      "\n"
     ]
    },
    {
     "name": "stderr",
     "output_type": "stream",
     "text": [
      "WARNING:root:Warning: Some classes do not exist in the target. F1 scores for these classes will be cast to zeros.\n"
     ]
    },
    {
     "name": "stdout",
     "output_type": "stream",
     "text": [
      "\n",
      "VALIDATION\n",
      "ACTIVITY: acc 0.5418 MacroF1 0.3717\n",
      "TIMESTAMP: MAE 0.1546\n",
      "RESOURCE: acc 0.2648\n",
      "RESOURCE_ROLE: acc 0.6569\n",
      "TOTAL_LOSS: 5.8806\n",
      "epoch time 13.17517614364624s\n",
      "\n",
      "new best model found\n",
      "Epoch: 11\n",
      "\n"
     ]
    },
    {
     "name": "stderr",
     "output_type": "stream",
     "text": [
      "WARNING:root:Warning: Some classes do not exist in the target. F1 scores for these classes will be cast to zeros.\n"
     ]
    },
    {
     "name": "stdout",
     "output_type": "stream",
     "text": [
      "\n",
      "VALIDATION\n",
      "ACTIVITY: acc 0.5230 MacroF1 0.3388\n",
      "TIMESTAMP: MAE 0.1184\n",
      "RESOURCE: acc 0.2838\n",
      "RESOURCE_ROLE: acc 0.6334\n",
      "TOTAL_LOSS: 5.7109\n",
      "epoch time 12.940994501113892s\n",
      "\n",
      "new best model found\n",
      "Epoch: 12\n",
      "\n"
     ]
    },
    {
     "name": "stderr",
     "output_type": "stream",
     "text": [
      "WARNING:root:Warning: Some classes do not exist in the target. F1 scores for these classes will be cast to zeros.\n"
     ]
    },
    {
     "name": "stdout",
     "output_type": "stream",
     "text": [
      "\n",
      "VALIDATION\n",
      "ACTIVITY: acc 0.5634 MacroF1 0.4334\n",
      "TIMESTAMP: MAE 0.0961\n",
      "RESOURCE: acc 0.3035\n",
      "RESOURCE_ROLE: acc 0.7344\n",
      "TOTAL_LOSS: 5.5495\n",
      "epoch time 13.238611936569214s\n",
      "\n",
      "new best model found\n",
      "Epoch: 13\n",
      "\n"
     ]
    },
    {
     "name": "stderr",
     "output_type": "stream",
     "text": [
      "WARNING:root:Warning: Some classes do not exist in the target. F1 scores for these classes will be cast to zeros.\n"
     ]
    },
    {
     "name": "stdout",
     "output_type": "stream",
     "text": [
      "\n",
      "VALIDATION\n",
      "ACTIVITY: acc 0.5843 MacroF1 0.4346\n",
      "TIMESTAMP: MAE 0.1077\n",
      "RESOURCE: acc 0.3033\n",
      "RESOURCE_ROLE: acc 0.7407\n",
      "TOTAL_LOSS: 5.4381\n",
      "epoch time 12.67078423500061s\n",
      "\n",
      "new best model found\n",
      "Epoch: 14\n",
      "\n"
     ]
    },
    {
     "name": "stderr",
     "output_type": "stream",
     "text": [
      "WARNING:root:Warning: Some classes do not exist in the target. F1 scores for these classes will be cast to zeros.\n"
     ]
    },
    {
     "name": "stdout",
     "output_type": "stream",
     "text": [
      "\n",
      "VALIDATION\n",
      "ACTIVITY: acc 0.5655 MacroF1 0.3661\n",
      "TIMESTAMP: MAE 0.0915\n",
      "RESOURCE: acc 0.3033\n",
      "RESOURCE_ROLE: acc 0.7407\n",
      "TOTAL_LOSS: 5.2951\n",
      "epoch time 13.08848261833191s\n",
      "\n",
      "new best model found\n",
      "Epoch: 15\n",
      "\n"
     ]
    },
    {
     "name": "stderr",
     "output_type": "stream",
     "text": [
      "WARNING:root:Warning: Some classes do not exist in the target. F1 scores for these classes will be cast to zeros.\n"
     ]
    },
    {
     "name": "stdout",
     "output_type": "stream",
     "text": [
      "\n",
      "VALIDATION\n",
      "ACTIVITY: acc 0.5977 MacroF1 0.4899\n",
      "TIMESTAMP: MAE 0.0890\n",
      "RESOURCE: acc 0.3037\n",
      "RESOURCE_ROLE: acc 0.7416\n",
      "TOTAL_LOSS: 5.1863\n",
      "epoch time 14.791081666946411s\n",
      "\n",
      "new best model found\n",
      "Epoch: 16\n",
      "\n"
     ]
    },
    {
     "name": "stderr",
     "output_type": "stream",
     "text": [
      "WARNING:root:Warning: Some classes do not exist in the target. F1 scores for these classes will be cast to zeros.\n"
     ]
    },
    {
     "name": "stdout",
     "output_type": "stream",
     "text": [
      "\n",
      "VALIDATION\n",
      "ACTIVITY: acc 0.5905 MacroF1 0.4436\n",
      "TIMESTAMP: MAE 0.0774\n",
      "RESOURCE: acc 0.3037\n",
      "RESOURCE_ROLE: acc 0.7416\n",
      "TOTAL_LOSS: 5.0922\n",
      "epoch time 12.225101947784424s\n",
      "\n",
      "new best model found\n",
      "Epoch: 17\n",
      "\n"
     ]
    },
    {
     "name": "stderr",
     "output_type": "stream",
     "text": [
      "WARNING:root:Warning: Some classes do not exist in the target. F1 scores for these classes will be cast to zeros.\n"
     ]
    },
    {
     "name": "stdout",
     "output_type": "stream",
     "text": [
      "\n",
      "VALIDATION\n",
      "ACTIVITY: acc 0.5884 MacroF1 0.4064\n",
      "TIMESTAMP: MAE 0.0764\n",
      "RESOURCE: acc 0.3037\n",
      "RESOURCE_ROLE: acc 0.7416\n",
      "TOTAL_LOSS: 4.9966\n",
      "epoch time 13.161442041397095s\n",
      "\n",
      "new best model found\n",
      "Epoch: 18\n",
      "\n"
     ]
    },
    {
     "name": "stderr",
     "output_type": "stream",
     "text": [
      "WARNING:root:Warning: Some classes do not exist in the target. F1 scores for these classes will be cast to zeros.\n"
     ]
    },
    {
     "name": "stdout",
     "output_type": "stream",
     "text": [
      "\n",
      "VALIDATION\n",
      "ACTIVITY: acc 0.6190 MacroF1 0.4792\n",
      "TIMESTAMP: MAE 0.0805\n",
      "RESOURCE: acc 0.3037\n",
      "RESOURCE_ROLE: acc 0.7731\n",
      "TOTAL_LOSS: 4.9103\n",
      "epoch time 12.646259069442749s\n",
      "\n",
      "new best model found\n",
      "Epoch: 19\n",
      "\n"
     ]
    },
    {
     "name": "stderr",
     "output_type": "stream",
     "text": [
      "WARNING:root:Warning: Some classes do not exist in the target. F1 scores for these classes will be cast to zeros.\n"
     ]
    },
    {
     "name": "stdout",
     "output_type": "stream",
     "text": [
      "\n",
      "VALIDATION\n",
      "ACTIVITY: acc 0.6256 MacroF1 0.4788\n",
      "TIMESTAMP: MAE 0.0628\n",
      "RESOURCE: acc 0.3037\n",
      "RESOURCE_ROLE: acc 0.7416\n",
      "TOTAL_LOSS: 4.8196\n",
      "epoch time 13.077981233596802s\n",
      "\n",
      "new best model found\n"
     ]
    },
    {
     "name": "stderr",
     "output_type": "stream",
     "text": [
      "WARNING:root:Warning: Some classes do not exist in the target. F1 scores for these classes will be cast to zeros.\n",
      "[INFO 01-07 17:32:50] ax.core.experiment: Attached data has some metrics ({'activity_accuracy', 'MAE_timestamp', 'resource_roles_accuracy', 'MacroF1Activity', 'resource_accuracy'}) that are not among the metrics on this experiment. Note that attaching data will not automatically add those metrics to the experiment. For these metrics to be automatically fetched by `experiment.fetch_data`, add them via `experiment.add_tracking_metric` or update the experiment's optimization config.\n",
      "[INFO 01-07 17:32:50] ax.service.managed_loop: Running optimization trial 2...\n",
      "[ERROR 01-07 17:32:50] ax.core.observation: Data contains metric MAE_timestamp that has not been added to the experiment. You can either update the `optimization_config` or attach it as a tracking metric using `Experiment.add_tracking_metrics` or `AxClient.add_tracking_metrics`. Ignoring all data for metric MAE_timestamp.\n",
      "NoneType: None\n",
      "[ERROR 01-07 17:32:50] ax.core.observation: Data contains metric MacroF1Activity that has not been added to the experiment. You can either update the `optimization_config` or attach it as a tracking metric using `Experiment.add_tracking_metrics` or `AxClient.add_tracking_metrics`. Ignoring all data for metric MacroF1Activity.\n",
      "NoneType: None\n",
      "[ERROR 01-07 17:32:50] ax.core.observation: Data contains metric activity_accuracy that has not been added to the experiment. You can either update the `optimization_config` or attach it as a tracking metric using `Experiment.add_tracking_metrics` or `AxClient.add_tracking_metrics`. Ignoring all data for metric activity_accuracy.\n",
      "NoneType: None\n",
      "[ERROR 01-07 17:32:50] ax.core.observation: Data contains metric resource_accuracy that has not been added to the experiment. You can either update the `optimization_config` or attach it as a tracking metric using `Experiment.add_tracking_metrics` or `AxClient.add_tracking_metrics`. Ignoring all data for metric resource_accuracy.\n",
      "NoneType: None\n",
      "[ERROR 01-07 17:32:50] ax.core.observation: Data contains metric resource_roles_accuracy that has not been added to the experiment. You can either update the `optimization_config` or attach it as a tracking metric using `Experiment.add_tracking_metrics` or `AxClient.add_tracking_metrics`. Ignoring all data for metric resource_roles_accuracy.\n",
      "NoneType: None\n",
      "/home/sebdis/ProcessMining/HGNN/hgnn_env/lib/python3.10/site-packages/ax/modelbridge/cross_validation.py:463: UserWarning: Encountered exception in computing model fit quality: RandomModelBridge does not support prediction.\n",
      "  warn(\"Encountered exception in computing model fit quality: \" + str(e))\n"
     ]
    },
    {
     "name": "stdout",
     "output_type": "stream",
     "text": [
      "{'lr': 0.020423111474986877, 'batch_size': 256, 'heads': 4, 'hid': 128, 'layers': 2, 'aggregation': 'max'}\n",
      "Epoch: 0\n",
      "\n"
     ]
    },
    {
     "name": "stderr",
     "output_type": "stream",
     "text": [
      "WARNING:root:Warning: Some classes do not exist in the target. F1 scores for these classes will be cast to zeros.\n"
     ]
    },
    {
     "name": "stdout",
     "output_type": "stream",
     "text": [
      "\n",
      "VALIDATION\n",
      "ACTIVITY: acc 0.6495 MacroF1 0.5985\n",
      "TIMESTAMP: MAE 1.1811\n",
      "RESOURCE: acc 0.4550\n",
      "RESOURCE_ROLE: acc 0.7860\n",
      "TOTAL_LOSS: 4.8694\n",
      "epoch time 16.52215266227722s\n",
      "\n",
      "Epoch: 1\n",
      "\n"
     ]
    },
    {
     "name": "stderr",
     "output_type": "stream",
     "text": [
      "WARNING:root:Warning: Some classes do not exist in the target. F1 scores for these classes will be cast to zeros.\n"
     ]
    },
    {
     "name": "stdout",
     "output_type": "stream",
     "text": [
      "\n",
      "VALIDATION\n",
      "ACTIVITY: acc 0.6576 MacroF1 0.6154\n",
      "TIMESTAMP: MAE 0.2675\n",
      "RESOURCE: acc 0.5221\n",
      "RESOURCE_ROLE: acc 0.7860\n",
      "TOTAL_LOSS: 3.6148\n",
      "epoch time 16.48480749130249s\n",
      "\n",
      "new best model found\n",
      "Epoch: 2\n",
      "\n"
     ]
    },
    {
     "name": "stderr",
     "output_type": "stream",
     "text": [
      "WARNING:root:Warning: Some classes do not exist in the target. F1 scores for these classes will be cast to zeros.\n"
     ]
    },
    {
     "name": "stdout",
     "output_type": "stream",
     "text": [
      "\n",
      "VALIDATION\n",
      "ACTIVITY: acc 0.6347 MacroF1 0.5338\n",
      "TIMESTAMP: MAE 1.1016\n",
      "RESOURCE: acc 0.5359\n",
      "RESOURCE_ROLE: acc 0.7862\n",
      "TOTAL_LOSS: 4.4400\n",
      "epoch time 15.421892404556274s\n",
      "\n",
      "Epoch: 3\n",
      "\n"
     ]
    },
    {
     "name": "stderr",
     "output_type": "stream",
     "text": [
      "WARNING:root:Warning: Some classes do not exist in the target. F1 scores for these classes will be cast to zeros.\n"
     ]
    },
    {
     "name": "stdout",
     "output_type": "stream",
     "text": [
      "\n",
      "VALIDATION\n",
      "ACTIVITY: acc 0.6593 MacroF1 0.6163\n",
      "TIMESTAMP: MAE 0.7136\n",
      "RESOURCE: acc 0.5363\n",
      "RESOURCE_ROLE: acc 0.7860\n",
      "TOTAL_LOSS: 4.0048\n",
      "epoch time 16.420784950256348s\n",
      "\n",
      "Epoch: 4\n",
      "\n"
     ]
    },
    {
     "name": "stderr",
     "output_type": "stream",
     "text": [
      "WARNING:root:Warning: Some classes do not exist in the target. F1 scores for these classes will be cast to zeros.\n"
     ]
    },
    {
     "name": "stdout",
     "output_type": "stream",
     "text": [
      "\n",
      "VALIDATION\n",
      "ACTIVITY: acc 0.6571 MacroF1 0.6181\n",
      "TIMESTAMP: MAE 0.3700\n",
      "RESOURCE: acc 0.5357\n",
      "RESOURCE_ROLE: acc 0.7860\n",
      "TOTAL_LOSS: 3.6232\n",
      "epoch time 16.415473222732544s\n",
      "\n",
      "Epoch: 5\n",
      "\n"
     ]
    },
    {
     "name": "stderr",
     "output_type": "stream",
     "text": [
      "WARNING:root:Warning: Some classes do not exist in the target. F1 scores for these classes will be cast to zeros.\n"
     ]
    },
    {
     "name": "stdout",
     "output_type": "stream",
     "text": [
      "\n",
      "VALIDATION\n",
      "ACTIVITY: acc 0.6417 MacroF1 0.6033\n",
      "TIMESTAMP: MAE 0.0815\n",
      "RESOURCE: acc 0.5340\n",
      "RESOURCE_ROLE: acc 0.7862\n",
      "TOTAL_LOSS: 3.3935\n",
      "epoch time 17.06702709197998s\n",
      "\n",
      "new best model found\n",
      "Epoch: 6\n",
      "\n"
     ]
    },
    {
     "name": "stderr",
     "output_type": "stream",
     "text": [
      "WARNING:root:Warning: Some classes do not exist in the target. F1 scores for these classes will be cast to zeros.\n"
     ]
    },
    {
     "name": "stdout",
     "output_type": "stream",
     "text": [
      "\n",
      "VALIDATION\n",
      "ACTIVITY: acc 0.6411 MacroF1 0.5732\n",
      "TIMESTAMP: MAE 0.6871\n",
      "RESOURCE: acc 0.5367\n",
      "RESOURCE_ROLE: acc 0.7860\n",
      "TOTAL_LOSS: 3.9812\n",
      "epoch time 16.662904977798462s\n",
      "\n",
      "Epoch: 7\n",
      "\n"
     ]
    },
    {
     "name": "stderr",
     "output_type": "stream",
     "text": [
      "WARNING:root:Warning: Some classes do not exist in the target. F1 scores for these classes will be cast to zeros.\n"
     ]
    },
    {
     "name": "stdout",
     "output_type": "stream",
     "text": [
      "\n",
      "VALIDATION\n",
      "ACTIVITY: acc 0.6447 MacroF1 0.5789\n",
      "TIMESTAMP: MAE 0.3462\n",
      "RESOURCE: acc 0.5352\n",
      "RESOURCE_ROLE: acc 0.7860\n",
      "TOTAL_LOSS: 3.6188\n",
      "epoch time 15.25362253189087s\n",
      "\n",
      "Epoch: 8\n",
      "\n"
     ]
    },
    {
     "name": "stderr",
     "output_type": "stream",
     "text": [
      "WARNING:root:Warning: Some classes do not exist in the target. F1 scores for these classes will be cast to zeros.\n"
     ]
    },
    {
     "name": "stdout",
     "output_type": "stream",
     "text": [
      "\n",
      "VALIDATION\n",
      "ACTIVITY: acc 0.6447 MacroF1 0.5880\n",
      "TIMESTAMP: MAE 0.1382\n",
      "RESOURCE: acc 0.5371\n",
      "RESOURCE_ROLE: acc 0.7860\n",
      "TOTAL_LOSS: 3.4466\n",
      "epoch time 15.87781023979187s\n",
      "\n",
      "Epoch: 9\n",
      "\n"
     ]
    },
    {
     "name": "stderr",
     "output_type": "stream",
     "text": [
      "WARNING:root:Warning: Some classes do not exist in the target. F1 scores for these classes will be cast to zeros.\n"
     ]
    },
    {
     "name": "stdout",
     "output_type": "stream",
     "text": [
      "\n",
      "VALIDATION\n",
      "ACTIVITY: acc 0.6533 MacroF1 0.6058\n",
      "TIMESTAMP: MAE 0.9636\n",
      "RESOURCE: acc 0.5390\n",
      "RESOURCE_ROLE: acc 0.7831\n",
      "TOTAL_LOSS: 4.2880\n",
      "epoch time 15.787800550460815s\n",
      "\n",
      "Epoch: 10\n",
      "\n"
     ]
    },
    {
     "name": "stderr",
     "output_type": "stream",
     "text": [
      "WARNING:root:Warning: Some classes do not exist in the target. F1 scores for these classes will be cast to zeros.\n"
     ]
    },
    {
     "name": "stdout",
     "output_type": "stream",
     "text": [
      "\n",
      "VALIDATION\n",
      "ACTIVITY: acc 0.6582 MacroF1 0.6191\n",
      "TIMESTAMP: MAE 1.6418\n",
      "RESOURCE: acc 0.5380\n",
      "RESOURCE_ROLE: acc 0.7860\n",
      "TOTAL_LOSS: 4.9199\n",
      "epoch time 15.746806144714355s\n",
      "\n",
      "Validation performance didn't improve for 5 epochs. Training stops.\n"
     ]
    },
    {
     "name": "stderr",
     "output_type": "stream",
     "text": [
      "WARNING:root:Warning: Some classes do not exist in the target. F1 scores for these classes will be cast to zeros.\n",
      "[INFO 01-07 17:35:59] ax.core.experiment: Attached data has some metrics ({'activity_accuracy', 'MAE_timestamp', 'resource_roles_accuracy', 'MacroF1Activity', 'resource_accuracy'}) that are not among the metrics on this experiment. Note that attaching data will not automatically add those metrics to the experiment. For these metrics to be automatically fetched by `experiment.fetch_data`, add them via `experiment.add_tracking_metric` or update the experiment's optimization config.\n",
      "[INFO 01-07 17:35:59] ax.service.managed_loop: Running optimization trial 3...\n",
      "[ERROR 01-07 17:35:59] ax.core.observation: Data contains metric MAE_timestamp that has not been added to the experiment. You can either update the `optimization_config` or attach it as a tracking metric using `Experiment.add_tracking_metrics` or `AxClient.add_tracking_metrics`. Ignoring all data for metric MAE_timestamp.\n",
      "NoneType: None\n",
      "[ERROR 01-07 17:35:59] ax.core.observation: Data contains metric MacroF1Activity that has not been added to the experiment. You can either update the `optimization_config` or attach it as a tracking metric using `Experiment.add_tracking_metrics` or `AxClient.add_tracking_metrics`. Ignoring all data for metric MacroF1Activity.\n",
      "NoneType: None\n",
      "[ERROR 01-07 17:35:59] ax.core.observation: Data contains metric activity_accuracy that has not been added to the experiment. You can either update the `optimization_config` or attach it as a tracking metric using `Experiment.add_tracking_metrics` or `AxClient.add_tracking_metrics`. Ignoring all data for metric activity_accuracy.\n",
      "NoneType: None\n",
      "[ERROR 01-07 17:35:59] ax.core.observation: Data contains metric resource_accuracy that has not been added to the experiment. You can either update the `optimization_config` or attach it as a tracking metric using `Experiment.add_tracking_metrics` or `AxClient.add_tracking_metrics`. Ignoring all data for metric resource_accuracy.\n",
      "NoneType: None\n",
      "[ERROR 01-07 17:35:59] ax.core.observation: Data contains metric resource_roles_accuracy that has not been added to the experiment. You can either update the `optimization_config` or attach it as a tracking metric using `Experiment.add_tracking_metrics` or `AxClient.add_tracking_metrics`. Ignoring all data for metric resource_roles_accuracy.\n",
      "NoneType: None\n",
      "[ERROR 01-07 17:35:59] ax.core.observation: Data contains metric MAE_timestamp that has not been added to the experiment. You can either update the `optimization_config` or attach it as a tracking metric using `Experiment.add_tracking_metrics` or `AxClient.add_tracking_metrics`. Ignoring all data for metric MAE_timestamp.\n",
      "NoneType: None\n",
      "[ERROR 01-07 17:35:59] ax.core.observation: Data contains metric MacroF1Activity that has not been added to the experiment. You can either update the `optimization_config` or attach it as a tracking metric using `Experiment.add_tracking_metrics` or `AxClient.add_tracking_metrics`. Ignoring all data for metric MacroF1Activity.\n",
      "NoneType: None\n",
      "[ERROR 01-07 17:35:59] ax.core.observation: Data contains metric activity_accuracy that has not been added to the experiment. You can either update the `optimization_config` or attach it as a tracking metric using `Experiment.add_tracking_metrics` or `AxClient.add_tracking_metrics`. Ignoring all data for metric activity_accuracy.\n",
      "NoneType: None\n",
      "[ERROR 01-07 17:35:59] ax.core.observation: Data contains metric resource_accuracy that has not been added to the experiment. You can either update the `optimization_config` or attach it as a tracking metric using `Experiment.add_tracking_metrics` or `AxClient.add_tracking_metrics`. Ignoring all data for metric resource_accuracy.\n",
      "NoneType: None\n",
      "[ERROR 01-07 17:35:59] ax.core.observation: Data contains metric resource_roles_accuracy that has not been added to the experiment. You can either update the `optimization_config` or attach it as a tracking metric using `Experiment.add_tracking_metrics` or `AxClient.add_tracking_metrics`. Ignoring all data for metric resource_roles_accuracy.\n",
      "NoneType: None\n",
      "/home/sebdis/ProcessMining/HGNN/hgnn_env/lib/python3.10/site-packages/ax/modelbridge/cross_validation.py:463: UserWarning: Encountered exception in computing model fit quality: RandomModelBridge does not support prediction.\n",
      "  warn(\"Encountered exception in computing model fit quality: \" + str(e))\n"
     ]
    },
    {
     "name": "stdout",
     "output_type": "stream",
     "text": [
      "{'lr': 0.007958031792637701, 'batch_size': 1024, 'heads': 1, 'hid': 128, 'layers': 2, 'aggregation': 'max'}\n",
      "Epoch: 0\n",
      "\n"
     ]
    },
    {
     "name": "stderr",
     "output_type": "stream",
     "text": [
      "WARNING:root:Warning: Some classes do not exist in the target. F1 scores for these classes will be cast to zeros.\n"
     ]
    },
    {
     "name": "stdout",
     "output_type": "stream",
     "text": [
      "\n",
      "VALIDATION\n",
      "ACTIVITY: acc 0.4783 MacroF1 0.3431\n",
      "TIMESTAMP: MAE 1.8522\n",
      "RESOURCE: acc 0.3014\n",
      "RESOURCE_ROLE: acc 0.7416\n",
      "TOTAL_LOSS: 7.0439\n",
      "epoch time 12.127891302108765s\n",
      "\n",
      "Epoch: 1\n",
      "\n"
     ]
    },
    {
     "name": "stderr",
     "output_type": "stream",
     "text": [
      "WARNING:root:Warning: Some classes do not exist in the target. F1 scores for these classes will be cast to zeros.\n"
     ]
    },
    {
     "name": "stdout",
     "output_type": "stream",
     "text": [
      "\n",
      "VALIDATION\n",
      "ACTIVITY: acc 0.5829 MacroF1 0.5300\n",
      "TIMESTAMP: MAE 0.3766\n",
      "RESOURCE: acc 0.3915\n",
      "RESOURCE_ROLE: acc 0.7094\n",
      "TOTAL_LOSS: 4.4591\n",
      "epoch time 12.450136423110962s\n",
      "\n",
      "new best model found\n",
      "Epoch: 2\n",
      "\n"
     ]
    },
    {
     "name": "stderr",
     "output_type": "stream",
     "text": [
      "WARNING:root:Warning: Some classes do not exist in the target. F1 scores for these classes will be cast to zeros.\n"
     ]
    },
    {
     "name": "stdout",
     "output_type": "stream",
     "text": [
      "\n",
      "VALIDATION\n",
      "ACTIVITY: acc 0.5979 MacroF1 0.5740\n",
      "TIMESTAMP: MAE 0.3617\n",
      "RESOURCE: acc 0.4112\n",
      "RESOURCE_ROLE: acc 0.7848\n",
      "TOTAL_LOSS: 4.0910\n",
      "epoch time 12.175930500030518s\n",
      "\n",
      "new best model found\n",
      "Epoch: 3\n",
      "\n"
     ]
    },
    {
     "name": "stderr",
     "output_type": "stream",
     "text": [
      "WARNING:root:Warning: Some classes do not exist in the target. F1 scores for these classes will be cast to zeros.\n"
     ]
    },
    {
     "name": "stdout",
     "output_type": "stream",
     "text": [
      "\n",
      "VALIDATION\n",
      "ACTIVITY: acc 0.6519 MacroF1 0.5980\n",
      "TIMESTAMP: MAE 0.4115\n",
      "RESOURCE: acc 0.4546\n",
      "RESOURCE_ROLE: acc 0.7850\n",
      "TOTAL_LOSS: 4.0844\n",
      "epoch time 14.395729780197144s\n",
      "\n",
      "new best model found\n",
      "Epoch: 4\n",
      "\n"
     ]
    },
    {
     "name": "stderr",
     "output_type": "stream",
     "text": [
      "WARNING:root:Warning: Some classes do not exist in the target. F1 scores for these classes will be cast to zeros.\n"
     ]
    },
    {
     "name": "stdout",
     "output_type": "stream",
     "text": [
      "\n",
      "VALIDATION\n",
      "ACTIVITY: acc 0.6724 MacroF1 0.6279\n",
      "TIMESTAMP: MAE 0.1007\n",
      "RESOURCE: acc 0.5090\n",
      "RESOURCE_ROLE: acc 0.7862\n",
      "TOTAL_LOSS: 3.6093\n",
      "epoch time 11.9654700756073s\n",
      "\n",
      "new best model found\n",
      "Epoch: 5\n",
      "\n"
     ]
    },
    {
     "name": "stderr",
     "output_type": "stream",
     "text": [
      "WARNING:root:Warning: Some classes do not exist in the target. F1 scores for these classes will be cast to zeros.\n"
     ]
    },
    {
     "name": "stdout",
     "output_type": "stream",
     "text": [
      "\n",
      "VALIDATION\n",
      "ACTIVITY: acc 0.6047 MacroF1 0.5899\n",
      "TIMESTAMP: MAE 0.1907\n",
      "RESOURCE: acc 0.5160\n",
      "RESOURCE_ROLE: acc 0.7848\n",
      "TOTAL_LOSS: 3.5959\n",
      "epoch time 12.039866924285889s\n",
      "\n",
      "new best model found\n",
      "Epoch: 6\n",
      "\n"
     ]
    },
    {
     "name": "stderr",
     "output_type": "stream",
     "text": [
      "WARNING:root:Warning: Some classes do not exist in the target. F1 scores for these classes will be cast to zeros.\n"
     ]
    },
    {
     "name": "stdout",
     "output_type": "stream",
     "text": [
      "\n",
      "VALIDATION\n",
      "ACTIVITY: acc 0.6396 MacroF1 0.5507\n",
      "TIMESTAMP: MAE 0.2657\n",
      "RESOURCE: acc 0.5206\n",
      "RESOURCE_ROLE: acc 0.7860\n",
      "TOTAL_LOSS: 3.6417\n",
      "epoch time 12.22741985321045s\n",
      "\n",
      "Epoch: 7\n",
      "\n"
     ]
    },
    {
     "name": "stderr",
     "output_type": "stream",
     "text": [
      "WARNING:root:Warning: Some classes do not exist in the target. F1 scores for these classes will be cast to zeros.\n"
     ]
    },
    {
     "name": "stdout",
     "output_type": "stream",
     "text": [
      "\n",
      "VALIDATION\n",
      "ACTIVITY: acc 0.6042 MacroF1 0.5850\n",
      "TIMESTAMP: MAE 0.3748\n",
      "RESOURCE: acc 0.5234\n",
      "RESOURCE_ROLE: acc 0.7848\n",
      "TOTAL_LOSS: 3.6800\n",
      "epoch time 12.368869304656982s\n",
      "\n",
      "Epoch: 8\n",
      "\n"
     ]
    },
    {
     "name": "stderr",
     "output_type": "stream",
     "text": [
      "WARNING:root:Warning: Some classes do not exist in the target. F1 scores for these classes will be cast to zeros.\n"
     ]
    },
    {
     "name": "stdout",
     "output_type": "stream",
     "text": [
      "\n",
      "VALIDATION\n",
      "ACTIVITY: acc 0.6709 MacroF1 0.6639\n",
      "TIMESTAMP: MAE 0.1575\n",
      "RESOURCE: acc 0.5342\n",
      "RESOURCE_ROLE: acc 0.7862\n",
      "TOTAL_LOSS: 3.4393\n",
      "epoch time 11.877733707427979s\n",
      "\n",
      "new best model found\n",
      "Epoch: 9\n",
      "\n"
     ]
    },
    {
     "name": "stderr",
     "output_type": "stream",
     "text": [
      "WARNING:root:Warning: Some classes do not exist in the target. F1 scores for these classes will be cast to zeros.\n"
     ]
    },
    {
     "name": "stdout",
     "output_type": "stream",
     "text": [
      "\n",
      "VALIDATION\n",
      "ACTIVITY: acc 0.6533 MacroF1 0.5996\n",
      "TIMESTAMP: MAE 0.1885\n",
      "RESOURCE: acc 0.5350\n",
      "RESOURCE_ROLE: acc 0.7860\n",
      "TOTAL_LOSS: 3.4682\n",
      "epoch time 12.812220335006714s\n",
      "\n",
      "Epoch: 10\n",
      "\n"
     ]
    },
    {
     "name": "stderr",
     "output_type": "stream",
     "text": [
      "WARNING:root:Warning: Some classes do not exist in the target. F1 scores for these classes will be cast to zeros.\n"
     ]
    },
    {
     "name": "stdout",
     "output_type": "stream",
     "text": [
      "\n",
      "VALIDATION\n",
      "ACTIVITY: acc 0.6375 MacroF1 0.5378\n",
      "TIMESTAMP: MAE 0.3193\n",
      "RESOURCE: acc 0.5338\n",
      "RESOURCE_ROLE: acc 0.7862\n",
      "TOTAL_LOSS: 3.6075\n",
      "epoch time 12.341386079788208s\n",
      "\n",
      "Epoch: 11\n",
      "\n"
     ]
    },
    {
     "name": "stderr",
     "output_type": "stream",
     "text": [
      "WARNING:root:Warning: Some classes do not exist in the target. F1 scores for these classes will be cast to zeros.\n"
     ]
    },
    {
     "name": "stdout",
     "output_type": "stream",
     "text": [
      "\n",
      "VALIDATION\n",
      "ACTIVITY: acc 0.6387 MacroF1 0.6420\n",
      "TIMESTAMP: MAE 0.3395\n",
      "RESOURCE: acc 0.5340\n",
      "RESOURCE_ROLE: acc 0.7862\n",
      "TOTAL_LOSS: 3.6024\n",
      "epoch time 12.48601245880127s\n",
      "\n",
      "Epoch: 12\n",
      "\n"
     ]
    },
    {
     "name": "stderr",
     "output_type": "stream",
     "text": [
      "WARNING:root:Warning: Some classes do not exist in the target. F1 scores for these classes will be cast to zeros.\n"
     ]
    },
    {
     "name": "stdout",
     "output_type": "stream",
     "text": [
      "\n",
      "VALIDATION\n",
      "ACTIVITY: acc 0.6768 MacroF1 0.6474\n",
      "TIMESTAMP: MAE 0.1066\n",
      "RESOURCE: acc 0.5338\n",
      "RESOURCE_ROLE: acc 0.7860\n",
      "TOTAL_LOSS: 3.3514\n",
      "epoch time 14.800629615783691s\n",
      "\n",
      "new best model found\n",
      "Epoch: 13\n",
      "\n"
     ]
    },
    {
     "name": "stderr",
     "output_type": "stream",
     "text": [
      "WARNING:root:Warning: Some classes do not exist in the target. F1 scores for these classes will be cast to zeros.\n"
     ]
    },
    {
     "name": "stdout",
     "output_type": "stream",
     "text": [
      "\n",
      "VALIDATION\n",
      "ACTIVITY: acc 0.6800 MacroF1 0.6538\n",
      "TIMESTAMP: MAE 0.2974\n",
      "RESOURCE: acc 0.5346\n",
      "RESOURCE_ROLE: acc 0.7860\n",
      "TOTAL_LOSS: 3.5872\n",
      "epoch time 12.53137493133545s\n",
      "\n",
      "Epoch: 14\n",
      "\n"
     ]
    },
    {
     "name": "stderr",
     "output_type": "stream",
     "text": [
      "WARNING:root:Warning: Some classes do not exist in the target. F1 scores for these classes will be cast to zeros.\n"
     ]
    },
    {
     "name": "stdout",
     "output_type": "stream",
     "text": [
      "\n",
      "VALIDATION\n",
      "ACTIVITY: acc 0.6569 MacroF1 0.6188\n",
      "TIMESTAMP: MAE 0.1431\n",
      "RESOURCE: acc 0.5371\n",
      "RESOURCE_ROLE: acc 0.7860\n",
      "TOTAL_LOSS: 3.4119\n",
      "epoch time 12.529740571975708s\n",
      "\n",
      "Epoch: 15\n",
      "\n"
     ]
    },
    {
     "name": "stderr",
     "output_type": "stream",
     "text": [
      "WARNING:root:Warning: Some classes do not exist in the target. F1 scores for these classes will be cast to zeros.\n"
     ]
    },
    {
     "name": "stdout",
     "output_type": "stream",
     "text": [
      "\n",
      "VALIDATION\n",
      "ACTIVITY: acc 0.6601 MacroF1 0.6023\n",
      "TIMESTAMP: MAE 0.1495\n",
      "RESOURCE: acc 0.5329\n",
      "RESOURCE_ROLE: acc 0.7860\n",
      "TOTAL_LOSS: 3.4078\n",
      "epoch time 12.586074829101562s\n",
      "\n",
      "Epoch: 16\n",
      "\n"
     ]
    },
    {
     "name": "stderr",
     "output_type": "stream",
     "text": [
      "WARNING:root:Warning: Some classes do not exist in the target. F1 scores for these classes will be cast to zeros.\n"
     ]
    },
    {
     "name": "stdout",
     "output_type": "stream",
     "text": [
      "\n",
      "VALIDATION\n",
      "ACTIVITY: acc 0.6709 MacroF1 0.6303\n",
      "TIMESTAMP: MAE 0.2943\n",
      "RESOURCE: acc 0.5354\n",
      "RESOURCE_ROLE: acc 0.7860\n",
      "TOTAL_LOSS: 3.5355\n",
      "epoch time 12.636271476745605s\n",
      "\n",
      "Epoch: 17\n",
      "\n"
     ]
    },
    {
     "name": "stderr",
     "output_type": "stream",
     "text": [
      "WARNING:root:Warning: Some classes do not exist in the target. F1 scores for these classes will be cast to zeros.\n"
     ]
    },
    {
     "name": "stdout",
     "output_type": "stream",
     "text": [
      "\n",
      "VALIDATION\n",
      "ACTIVITY: acc 0.6658 MacroF1 0.6205\n",
      "TIMESTAMP: MAE 0.1860\n",
      "RESOURCE: acc 0.5344\n",
      "RESOURCE_ROLE: acc 0.7860\n",
      "TOTAL_LOSS: 3.4469\n",
      "epoch time 12.481933355331421s\n",
      "\n",
      "Validation performance didn't improve for 5 epochs. Training stops.\n"
     ]
    },
    {
     "name": "stderr",
     "output_type": "stream",
     "text": [
      "WARNING:root:Warning: Some classes do not exist in the target. F1 scores for these classes will be cast to zeros.\n",
      "[INFO 01-07 17:39:56] ax.core.experiment: Attached data has some metrics ({'activity_accuracy', 'MAE_timestamp', 'resource_roles_accuracy', 'MacroF1Activity', 'resource_accuracy'}) that are not among the metrics on this experiment. Note that attaching data will not automatically add those metrics to the experiment. For these metrics to be automatically fetched by `experiment.fetch_data`, add them via `experiment.add_tracking_metric` or update the experiment's optimization config.\n",
      "[INFO 01-07 17:39:56] ax.service.managed_loop: Running optimization trial 4...\n",
      "[ERROR 01-07 17:39:56] ax.core.observation: Data contains metric MAE_timestamp that has not been added to the experiment. You can either update the `optimization_config` or attach it as a tracking metric using `Experiment.add_tracking_metrics` or `AxClient.add_tracking_metrics`. Ignoring all data for metric MAE_timestamp.\n",
      "NoneType: None\n",
      "[ERROR 01-07 17:39:56] ax.core.observation: Data contains metric MacroF1Activity that has not been added to the experiment. You can either update the `optimization_config` or attach it as a tracking metric using `Experiment.add_tracking_metrics` or `AxClient.add_tracking_metrics`. Ignoring all data for metric MacroF1Activity.\n",
      "NoneType: None\n",
      "[ERROR 01-07 17:39:56] ax.core.observation: Data contains metric activity_accuracy that has not been added to the experiment. You can either update the `optimization_config` or attach it as a tracking metric using `Experiment.add_tracking_metrics` or `AxClient.add_tracking_metrics`. Ignoring all data for metric activity_accuracy.\n",
      "NoneType: None\n",
      "[ERROR 01-07 17:39:56] ax.core.observation: Data contains metric resource_accuracy that has not been added to the experiment. You can either update the `optimization_config` or attach it as a tracking metric using `Experiment.add_tracking_metrics` or `AxClient.add_tracking_metrics`. Ignoring all data for metric resource_accuracy.\n",
      "NoneType: None\n",
      "[ERROR 01-07 17:39:56] ax.core.observation: Data contains metric resource_roles_accuracy that has not been added to the experiment. You can either update the `optimization_config` or attach it as a tracking metric using `Experiment.add_tracking_metrics` or `AxClient.add_tracking_metrics`. Ignoring all data for metric resource_roles_accuracy.\n",
      "NoneType: None\n",
      "[ERROR 01-07 17:39:56] ax.core.observation: Data contains metric MAE_timestamp that has not been added to the experiment. You can either update the `optimization_config` or attach it as a tracking metric using `Experiment.add_tracking_metrics` or `AxClient.add_tracking_metrics`. Ignoring all data for metric MAE_timestamp.\n",
      "NoneType: None\n",
      "[ERROR 01-07 17:39:56] ax.core.observation: Data contains metric MacroF1Activity that has not been added to the experiment. You can either update the `optimization_config` or attach it as a tracking metric using `Experiment.add_tracking_metrics` or `AxClient.add_tracking_metrics`. Ignoring all data for metric MacroF1Activity.\n",
      "NoneType: None\n",
      "[ERROR 01-07 17:39:56] ax.core.observation: Data contains metric activity_accuracy that has not been added to the experiment. You can either update the `optimization_config` or attach it as a tracking metric using `Experiment.add_tracking_metrics` or `AxClient.add_tracking_metrics`. Ignoring all data for metric activity_accuracy.\n",
      "NoneType: None\n",
      "[ERROR 01-07 17:39:56] ax.core.observation: Data contains metric resource_accuracy that has not been added to the experiment. You can either update the `optimization_config` or attach it as a tracking metric using `Experiment.add_tracking_metrics` or `AxClient.add_tracking_metrics`. Ignoring all data for metric resource_accuracy.\n",
      "NoneType: None\n",
      "[ERROR 01-07 17:39:56] ax.core.observation: Data contains metric resource_roles_accuracy that has not been added to the experiment. You can either update the `optimization_config` or attach it as a tracking metric using `Experiment.add_tracking_metrics` or `AxClient.add_tracking_metrics`. Ignoring all data for metric resource_roles_accuracy.\n",
      "NoneType: None\n",
      "[ERROR 01-07 17:39:56] ax.core.observation: Data contains metric MAE_timestamp that has not been added to the experiment. You can either update the `optimization_config` or attach it as a tracking metric using `Experiment.add_tracking_metrics` or `AxClient.add_tracking_metrics`. Ignoring all data for metric MAE_timestamp.\n",
      "NoneType: None\n",
      "[ERROR 01-07 17:39:56] ax.core.observation: Data contains metric MacroF1Activity that has not been added to the experiment. You can either update the `optimization_config` or attach it as a tracking metric using `Experiment.add_tracking_metrics` or `AxClient.add_tracking_metrics`. Ignoring all data for metric MacroF1Activity.\n",
      "NoneType: None\n",
      "[ERROR 01-07 17:39:56] ax.core.observation: Data contains metric activity_accuracy that has not been added to the experiment. You can either update the `optimization_config` or attach it as a tracking metric using `Experiment.add_tracking_metrics` or `AxClient.add_tracking_metrics`. Ignoring all data for metric activity_accuracy.\n",
      "NoneType: None\n",
      "[ERROR 01-07 17:39:56] ax.core.observation: Data contains metric resource_accuracy that has not been added to the experiment. You can either update the `optimization_config` or attach it as a tracking metric using `Experiment.add_tracking_metrics` or `AxClient.add_tracking_metrics`. Ignoring all data for metric resource_accuracy.\n",
      "NoneType: None\n",
      "[ERROR 01-07 17:39:56] ax.core.observation: Data contains metric resource_roles_accuracy that has not been added to the experiment. You can either update the `optimization_config` or attach it as a tracking metric using `Experiment.add_tracking_metrics` or `AxClient.add_tracking_metrics`. Ignoring all data for metric resource_roles_accuracy.\n",
      "NoneType: None\n",
      "/home/sebdis/ProcessMining/HGNN/hgnn_env/lib/python3.10/site-packages/ax/modelbridge/cross_validation.py:463: UserWarning: Encountered exception in computing model fit quality: RandomModelBridge does not support prediction.\n",
      "  warn(\"Encountered exception in computing model fit quality: \" + str(e))\n"
     ]
    },
    {
     "name": "stdout",
     "output_type": "stream",
     "text": [
      "{'lr': 0.0020553520010210082, 'batch_size': 256, 'heads': 4, 'hid': 128, 'layers': 2, 'aggregation': 'max'}\n",
      "Epoch: 0\n",
      "\n"
     ]
    },
    {
     "name": "stderr",
     "output_type": "stream",
     "text": [
      "WARNING:root:Warning: Some classes do not exist in the target. F1 scores for these classes will be cast to zeros.\n"
     ]
    },
    {
     "name": "stdout",
     "output_type": "stream",
     "text": [
      "\n",
      "VALIDATION\n",
      "ACTIVITY: acc 0.6011 MacroF1 0.4481\n",
      "TIMESTAMP: MAE 0.3356\n",
      "RESOURCE: acc 0.3037\n",
      "RESOURCE_ROLE: acc 0.7848\n",
      "TOTAL_LOSS: 4.9562\n",
      "epoch time 14.586978673934937s\n",
      "\n",
      "Epoch: 1\n",
      "\n"
     ]
    },
    {
     "name": "stderr",
     "output_type": "stream",
     "text": [
      "WARNING:root:Warning: Some classes do not exist in the target. F1 scores for these classes will be cast to zeros.\n"
     ]
    },
    {
     "name": "stdout",
     "output_type": "stream",
     "text": [
      "\n",
      "VALIDATION\n",
      "ACTIVITY: acc 0.6542 MacroF1 0.6031\n",
      "TIMESTAMP: MAE 0.2148\n",
      "RESOURCE: acc 0.3541\n",
      "RESOURCE_ROLE: acc 0.7848\n",
      "TOTAL_LOSS: 4.1681\n",
      "epoch time 15.402300119400024s\n",
      "\n",
      "new best model found\n",
      "Epoch: 2\n",
      "\n"
     ]
    },
    {
     "name": "stderr",
     "output_type": "stream",
     "text": [
      "WARNING:root:Warning: Some classes do not exist in the target. F1 scores for these classes will be cast to zeros.\n"
     ]
    },
    {
     "name": "stdout",
     "output_type": "stream",
     "text": [
      "\n",
      "VALIDATION\n",
      "ACTIVITY: acc 0.6497 MacroF1 0.5920\n",
      "TIMESTAMP: MAE 0.1985\n",
      "RESOURCE: acc 0.3960\n",
      "RESOURCE_ROLE: acc 0.7848\n",
      "TOTAL_LOSS: 3.9961\n",
      "epoch time 16.551202297210693s\n",
      "\n",
      "new best model found\n",
      "Epoch: 3\n",
      "\n"
     ]
    },
    {
     "name": "stderr",
     "output_type": "stream",
     "text": [
      "WARNING:root:Warning: Some classes do not exist in the target. F1 scores for these classes will be cast to zeros.\n"
     ]
    },
    {
     "name": "stdout",
     "output_type": "stream",
     "text": [
      "\n",
      "VALIDATION\n",
      "ACTIVITY: acc 0.6315 MacroF1 0.5496\n",
      "TIMESTAMP: MAE 0.2163\n",
      "RESOURCE: acc 0.4070\n",
      "RESOURCE_ROLE: acc 0.7862\n",
      "TOTAL_LOSS: 3.9561\n",
      "epoch time 16.24644947052002s\n",
      "\n",
      "new best model found\n",
      "Epoch: 4\n",
      "\n"
     ]
    },
    {
     "name": "stderr",
     "output_type": "stream",
     "text": [
      "WARNING:root:Warning: Some classes do not exist in the target. F1 scores for these classes will be cast to zeros.\n"
     ]
    },
    {
     "name": "stdout",
     "output_type": "stream",
     "text": [
      "\n",
      "VALIDATION\n",
      "ACTIVITY: acc 0.6438 MacroF1 0.5823\n",
      "TIMESTAMP: MAE 0.1273\n",
      "RESOURCE: acc 0.4281\n",
      "RESOURCE_ROLE: acc 0.7848\n",
      "TOTAL_LOSS: 3.8201\n",
      "epoch time 14.995170593261719s\n",
      "\n",
      "new best model found\n",
      "Epoch: 5\n",
      "\n"
     ]
    },
    {
     "name": "stderr",
     "output_type": "stream",
     "text": [
      "WARNING:root:Warning: Some classes do not exist in the target. F1 scores for these classes will be cast to zeros.\n"
     ]
    },
    {
     "name": "stdout",
     "output_type": "stream",
     "text": [
      "\n",
      "VALIDATION\n",
      "ACTIVITY: acc 0.5917 MacroF1 0.5595\n",
      "TIMESTAMP: MAE 0.0835\n",
      "RESOURCE: acc 0.4529\n",
      "RESOURCE_ROLE: acc 0.7862\n",
      "TOTAL_LOSS: 3.7559\n",
      "epoch time 17.317206621170044s\n",
      "\n",
      "new best model found\n",
      "Epoch: 6\n",
      "\n"
     ]
    },
    {
     "name": "stderr",
     "output_type": "stream",
     "text": [
      "WARNING:root:Warning: Some classes do not exist in the target. F1 scores for these classes will be cast to zeros.\n"
     ]
    },
    {
     "name": "stdout",
     "output_type": "stream",
     "text": [
      "\n",
      "VALIDATION\n",
      "ACTIVITY: acc 0.6571 MacroF1 0.6147\n",
      "TIMESTAMP: MAE 0.0785\n",
      "RESOURCE: acc 0.4756\n",
      "RESOURCE_ROLE: acc 0.7862\n",
      "TOTAL_LOSS: 3.6466\n",
      "epoch time 16.705902099609375s\n",
      "\n",
      "new best model found\n",
      "Epoch: 7\n",
      "\n"
     ]
    },
    {
     "name": "stderr",
     "output_type": "stream",
     "text": [
      "WARNING:root:Warning: Some classes do not exist in the target. F1 scores for these classes will be cast to zeros.\n"
     ]
    },
    {
     "name": "stdout",
     "output_type": "stream",
     "text": [
      "\n",
      "VALIDATION\n",
      "ACTIVITY: acc 0.6483 MacroF1 0.5938\n",
      "TIMESTAMP: MAE 0.0823\n",
      "RESOURCE: acc 0.4957\n",
      "RESOURCE_ROLE: acc 0.7860\n",
      "TOTAL_LOSS: 3.5825\n",
      "epoch time 17.109355926513672s\n",
      "\n",
      "new best model found\n",
      "Epoch: 8\n",
      "\n"
     ]
    },
    {
     "name": "stderr",
     "output_type": "stream",
     "text": [
      "WARNING:root:Warning: Some classes do not exist in the target. F1 scores for these classes will be cast to zeros.\n"
     ]
    },
    {
     "name": "stdout",
     "output_type": "stream",
     "text": [
      "\n",
      "VALIDATION\n",
      "ACTIVITY: acc 0.6457 MacroF1 0.5896\n",
      "TIMESTAMP: MAE 0.0401\n",
      "RESOURCE: acc 0.5052\n",
      "RESOURCE_ROLE: acc 0.7860\n",
      "TOTAL_LOSS: 3.4846\n",
      "epoch time 16.704406261444092s\n",
      "\n",
      "new best model found\n",
      "Epoch: 9\n",
      "\n"
     ]
    },
    {
     "name": "stderr",
     "output_type": "stream",
     "text": [
      "WARNING:root:Warning: Some classes do not exist in the target. F1 scores for these classes will be cast to zeros.\n"
     ]
    },
    {
     "name": "stdout",
     "output_type": "stream",
     "text": [
      "\n",
      "VALIDATION\n",
      "ACTIVITY: acc 0.6002 MacroF1 0.5755\n",
      "TIMESTAMP: MAE 0.1004\n",
      "RESOURCE: acc 0.5179\n",
      "RESOURCE_ROLE: acc 0.7860\n",
      "TOTAL_LOSS: 3.4830\n",
      "epoch time 16.736541271209717s\n",
      "\n",
      "new best model found\n",
      "Epoch: 10\n",
      "\n"
     ]
    },
    {
     "name": "stderr",
     "output_type": "stream",
     "text": [
      "WARNING:root:Warning: Some classes do not exist in the target. F1 scores for these classes will be cast to zeros.\n"
     ]
    },
    {
     "name": "stdout",
     "output_type": "stream",
     "text": [
      "\n",
      "VALIDATION\n",
      "ACTIVITY: acc 0.6508 MacroF1 0.5945\n",
      "TIMESTAMP: MAE 0.2283\n",
      "RESOURCE: acc 0.5274\n",
      "RESOURCE_ROLE: acc 0.7860\n",
      "TOTAL_LOSS: 3.5910\n",
      "epoch time 16.584088802337646s\n",
      "\n",
      "Epoch: 11\n",
      "\n"
     ]
    },
    {
     "name": "stderr",
     "output_type": "stream",
     "text": [
      "WARNING:root:Warning: Some classes do not exist in the target. F1 scores for these classes will be cast to zeros.\n"
     ]
    },
    {
     "name": "stdout",
     "output_type": "stream",
     "text": [
      "\n",
      "VALIDATION\n",
      "ACTIVITY: acc 0.6574 MacroF1 0.6069\n",
      "TIMESTAMP: MAE 0.1402\n",
      "RESOURCE: acc 0.5268\n",
      "RESOURCE_ROLE: acc 0.7860\n",
      "TOTAL_LOSS: 3.4387\n",
      "epoch time 16.596670150756836s\n",
      "\n",
      "new best model found\n",
      "Epoch: 12\n",
      "\n"
     ]
    },
    {
     "name": "stderr",
     "output_type": "stream",
     "text": [
      "WARNING:root:Warning: Some classes do not exist in the target. F1 scores for these classes will be cast to zeros.\n"
     ]
    },
    {
     "name": "stdout",
     "output_type": "stream",
     "text": [
      "\n",
      "VALIDATION\n",
      "ACTIVITY: acc 0.6495 MacroF1 0.5920\n",
      "TIMESTAMP: MAE 0.0634\n",
      "RESOURCE: acc 0.5304\n",
      "RESOURCE_ROLE: acc 0.7862\n",
      "TOTAL_LOSS: 3.3660\n",
      "epoch time 16.709551572799683s\n",
      "\n",
      "new best model found\n",
      "Epoch: 13\n",
      "\n"
     ]
    },
    {
     "name": "stderr",
     "output_type": "stream",
     "text": [
      "WARNING:root:Warning: Some classes do not exist in the target. F1 scores for these classes will be cast to zeros.\n"
     ]
    },
    {
     "name": "stdout",
     "output_type": "stream",
     "text": [
      "\n",
      "VALIDATION\n",
      "ACTIVITY: acc 0.6582 MacroF1 0.6166\n",
      "TIMESTAMP: MAE 0.0565\n",
      "RESOURCE: acc 0.5297\n",
      "RESOURCE_ROLE: acc 0.7860\n",
      "TOTAL_LOSS: 3.3518\n",
      "epoch time 16.607576847076416s\n",
      "\n",
      "new best model found\n",
      "Epoch: 14\n",
      "\n"
     ]
    },
    {
     "name": "stderr",
     "output_type": "stream",
     "text": [
      "WARNING:root:Warning: Some classes do not exist in the target. F1 scores for these classes will be cast to zeros.\n"
     ]
    },
    {
     "name": "stdout",
     "output_type": "stream",
     "text": [
      "\n",
      "VALIDATION\n",
      "ACTIVITY: acc 0.6671 MacroF1 0.6119\n",
      "TIMESTAMP: MAE 0.1050\n",
      "RESOURCE: acc 0.5361\n",
      "RESOURCE_ROLE: acc 0.7860\n",
      "TOTAL_LOSS: 3.3869\n",
      "epoch time 16.37697172164917s\n",
      "\n",
      "Epoch: 15\n",
      "\n"
     ]
    },
    {
     "name": "stderr",
     "output_type": "stream",
     "text": [
      "WARNING:root:Warning: Some classes do not exist in the target. F1 scores for these classes will be cast to zeros.\n"
     ]
    },
    {
     "name": "stdout",
     "output_type": "stream",
     "text": [
      "\n",
      "VALIDATION\n",
      "ACTIVITY: acc 0.6675 MacroF1 0.6217\n",
      "TIMESTAMP: MAE 0.1795\n",
      "RESOURCE: acc 0.5352\n",
      "RESOURCE_ROLE: acc 0.7860\n",
      "TOTAL_LOSS: 3.4768\n",
      "epoch time 16.591665506362915s\n",
      "\n",
      "Epoch: 16\n",
      "\n"
     ]
    },
    {
     "name": "stderr",
     "output_type": "stream",
     "text": [
      "WARNING:root:Warning: Some classes do not exist in the target. F1 scores for these classes will be cast to zeros.\n"
     ]
    },
    {
     "name": "stdout",
     "output_type": "stream",
     "text": [
      "\n",
      "VALIDATION\n",
      "ACTIVITY: acc 0.6476 MacroF1 0.5917\n",
      "TIMESTAMP: MAE 0.0736\n",
      "RESOURCE: acc 0.5367\n",
      "RESOURCE_ROLE: acc 0.7860\n",
      "TOTAL_LOSS: 3.3522\n",
      "epoch time 16.6613929271698s\n",
      "\n",
      "Epoch: 17\n",
      "\n"
     ]
    },
    {
     "name": "stderr",
     "output_type": "stream",
     "text": [
      "WARNING:root:Warning: Some classes do not exist in the target. F1 scores for these classes will be cast to zeros.\n"
     ]
    },
    {
     "name": "stdout",
     "output_type": "stream",
     "text": [
      "\n",
      "VALIDATION\n",
      "ACTIVITY: acc 0.6533 MacroF1 0.5979\n",
      "TIMESTAMP: MAE 0.0913\n",
      "RESOURCE: acc 0.5371\n",
      "RESOURCE_ROLE: acc 0.7860\n",
      "TOTAL_LOSS: 3.3348\n",
      "epoch time 16.319785356521606s\n",
      "\n",
      "new best model found\n",
      "Epoch: 18\n",
      "\n"
     ]
    },
    {
     "name": "stderr",
     "output_type": "stream",
     "text": [
      "WARNING:root:Warning: Some classes do not exist in the target. F1 scores for these classes will be cast to zeros.\n"
     ]
    },
    {
     "name": "stdout",
     "output_type": "stream",
     "text": [
      "\n",
      "VALIDATION\n",
      "ACTIVITY: acc 0.6777 MacroF1 0.6510\n",
      "TIMESTAMP: MAE 0.0663\n",
      "RESOURCE: acc 0.5405\n",
      "RESOURCE_ROLE: acc 0.7860\n",
      "TOTAL_LOSS: 3.3594\n",
      "epoch time 16.191388845443726s\n",
      "\n",
      "Epoch: 19\n",
      "\n"
     ]
    },
    {
     "name": "stderr",
     "output_type": "stream",
     "text": [
      "WARNING:root:Warning: Some classes do not exist in the target. F1 scores for these classes will be cast to zeros.\n"
     ]
    },
    {
     "name": "stdout",
     "output_type": "stream",
     "text": [
      "\n",
      "VALIDATION\n",
      "ACTIVITY: acc 0.6650 MacroF1 0.6243\n",
      "TIMESTAMP: MAE 0.1222\n",
      "RESOURCE: acc 0.5388\n",
      "RESOURCE_ROLE: acc 0.7860\n",
      "TOTAL_LOSS: 3.4074\n",
      "epoch time 14.982485294342041s\n",
      "\n"
     ]
    },
    {
     "name": "stderr",
     "output_type": "stream",
     "text": [
      "WARNING:root:Warning: Some classes do not exist in the target. F1 scores for these classes will be cast to zeros.\n",
      "[INFO 01-07 17:45:34] ax.core.experiment: Attached data has some metrics ({'activity_accuracy', 'MAE_timestamp', 'resource_roles_accuracy', 'MacroF1Activity', 'resource_accuracy'}) that are not among the metrics on this experiment. Note that attaching data will not automatically add those metrics to the experiment. For these metrics to be automatically fetched by `experiment.fetch_data`, add them via `experiment.add_tracking_metric` or update the experiment's optimization config.\n",
      "[INFO 01-07 17:45:34] ax.service.managed_loop: Running optimization trial 5...\n",
      "[ERROR 01-07 17:45:34] ax.core.observation: Data contains metric MAE_timestamp that has not been added to the experiment. You can either update the `optimization_config` or attach it as a tracking metric using `Experiment.add_tracking_metrics` or `AxClient.add_tracking_metrics`. Ignoring all data for metric MAE_timestamp.\n",
      "NoneType: None\n",
      "[ERROR 01-07 17:45:34] ax.core.observation: Data contains metric MacroF1Activity that has not been added to the experiment. You can either update the `optimization_config` or attach it as a tracking metric using `Experiment.add_tracking_metrics` or `AxClient.add_tracking_metrics`. Ignoring all data for metric MacroF1Activity.\n",
      "NoneType: None\n",
      "[ERROR 01-07 17:45:34] ax.core.observation: Data contains metric activity_accuracy that has not been added to the experiment. You can either update the `optimization_config` or attach it as a tracking metric using `Experiment.add_tracking_metrics` or `AxClient.add_tracking_metrics`. Ignoring all data for metric activity_accuracy.\n",
      "NoneType: None\n",
      "[ERROR 01-07 17:45:34] ax.core.observation: Data contains metric resource_accuracy that has not been added to the experiment. You can either update the `optimization_config` or attach it as a tracking metric using `Experiment.add_tracking_metrics` or `AxClient.add_tracking_metrics`. Ignoring all data for metric resource_accuracy.\n",
      "NoneType: None\n",
      "[ERROR 01-07 17:45:34] ax.core.observation: Data contains metric resource_roles_accuracy that has not been added to the experiment. You can either update the `optimization_config` or attach it as a tracking metric using `Experiment.add_tracking_metrics` or `AxClient.add_tracking_metrics`. Ignoring all data for metric resource_roles_accuracy.\n",
      "NoneType: None\n",
      "[ERROR 01-07 17:45:34] ax.core.observation: Data contains metric MAE_timestamp that has not been added to the experiment. You can either update the `optimization_config` or attach it as a tracking metric using `Experiment.add_tracking_metrics` or `AxClient.add_tracking_metrics`. Ignoring all data for metric MAE_timestamp.\n",
      "NoneType: None\n",
      "[ERROR 01-07 17:45:34] ax.core.observation: Data contains metric MacroF1Activity that has not been added to the experiment. You can either update the `optimization_config` or attach it as a tracking metric using `Experiment.add_tracking_metrics` or `AxClient.add_tracking_metrics`. Ignoring all data for metric MacroF1Activity.\n",
      "NoneType: None\n",
      "[ERROR 01-07 17:45:34] ax.core.observation: Data contains metric activity_accuracy that has not been added to the experiment. You can either update the `optimization_config` or attach it as a tracking metric using `Experiment.add_tracking_metrics` or `AxClient.add_tracking_metrics`. Ignoring all data for metric activity_accuracy.\n",
      "NoneType: None\n",
      "[ERROR 01-07 17:45:34] ax.core.observation: Data contains metric resource_accuracy that has not been added to the experiment. You can either update the `optimization_config` or attach it as a tracking metric using `Experiment.add_tracking_metrics` or `AxClient.add_tracking_metrics`. Ignoring all data for metric resource_accuracy.\n",
      "NoneType: None\n",
      "[ERROR 01-07 17:45:34] ax.core.observation: Data contains metric resource_roles_accuracy that has not been added to the experiment. You can either update the `optimization_config` or attach it as a tracking metric using `Experiment.add_tracking_metrics` or `AxClient.add_tracking_metrics`. Ignoring all data for metric resource_roles_accuracy.\n",
      "NoneType: None\n",
      "[ERROR 01-07 17:45:34] ax.core.observation: Data contains metric MAE_timestamp that has not been added to the experiment. You can either update the `optimization_config` or attach it as a tracking metric using `Experiment.add_tracking_metrics` or `AxClient.add_tracking_metrics`. Ignoring all data for metric MAE_timestamp.\n",
      "NoneType: None\n",
      "[ERROR 01-07 17:45:34] ax.core.observation: Data contains metric MacroF1Activity that has not been added to the experiment. You can either update the `optimization_config` or attach it as a tracking metric using `Experiment.add_tracking_metrics` or `AxClient.add_tracking_metrics`. Ignoring all data for metric MacroF1Activity.\n",
      "NoneType: None\n",
      "[ERROR 01-07 17:45:34] ax.core.observation: Data contains metric activity_accuracy that has not been added to the experiment. You can either update the `optimization_config` or attach it as a tracking metric using `Experiment.add_tracking_metrics` or `AxClient.add_tracking_metrics`. Ignoring all data for metric activity_accuracy.\n",
      "NoneType: None\n",
      "[ERROR 01-07 17:45:34] ax.core.observation: Data contains metric resource_accuracy that has not been added to the experiment. You can either update the `optimization_config` or attach it as a tracking metric using `Experiment.add_tracking_metrics` or `AxClient.add_tracking_metrics`. Ignoring all data for metric resource_accuracy.\n",
      "NoneType: None\n",
      "[ERROR 01-07 17:45:34] ax.core.observation: Data contains metric resource_roles_accuracy that has not been added to the experiment. You can either update the `optimization_config` or attach it as a tracking metric using `Experiment.add_tracking_metrics` or `AxClient.add_tracking_metrics`. Ignoring all data for metric resource_roles_accuracy.\n",
      "NoneType: None\n",
      "[ERROR 01-07 17:45:34] ax.core.observation: Data contains metric MAE_timestamp that has not been added to the experiment. You can either update the `optimization_config` or attach it as a tracking metric using `Experiment.add_tracking_metrics` or `AxClient.add_tracking_metrics`. Ignoring all data for metric MAE_timestamp.\n",
      "NoneType: None\n",
      "[ERROR 01-07 17:45:34] ax.core.observation: Data contains metric MacroF1Activity that has not been added to the experiment. You can either update the `optimization_config` or attach it as a tracking metric using `Experiment.add_tracking_metrics` or `AxClient.add_tracking_metrics`. Ignoring all data for metric MacroF1Activity.\n",
      "NoneType: None\n",
      "[ERROR 01-07 17:45:34] ax.core.observation: Data contains metric activity_accuracy that has not been added to the experiment. You can either update the `optimization_config` or attach it as a tracking metric using `Experiment.add_tracking_metrics` or `AxClient.add_tracking_metrics`. Ignoring all data for metric activity_accuracy.\n",
      "NoneType: None\n",
      "[ERROR 01-07 17:45:34] ax.core.observation: Data contains metric resource_accuracy that has not been added to the experiment. You can either update the `optimization_config` or attach it as a tracking metric using `Experiment.add_tracking_metrics` or `AxClient.add_tracking_metrics`. Ignoring all data for metric resource_accuracy.\n",
      "NoneType: None\n",
      "[ERROR 01-07 17:45:34] ax.core.observation: Data contains metric resource_roles_accuracy that has not been added to the experiment. You can either update the `optimization_config` or attach it as a tracking metric using `Experiment.add_tracking_metrics` or `AxClient.add_tracking_metrics`. Ignoring all data for metric resource_roles_accuracy.\n",
      "NoneType: None\n",
      "/home/sebdis/ProcessMining/HGNN/hgnn_env/lib/python3.10/site-packages/ax/modelbridge/cross_validation.py:463: UserWarning: Encountered exception in computing model fit quality: RandomModelBridge does not support prediction.\n",
      "  warn(\"Encountered exception in computing model fit quality: \" + str(e))\n"
     ]
    },
    {
     "name": "stdout",
     "output_type": "stream",
     "text": [
      "{'lr': 0.0010138939569658027, 'batch_size': 1024, 'heads': 4, 'hid': 128, 'layers': 2, 'aggregation': 'max'}\n",
      "Epoch: 0\n",
      "\n"
     ]
    },
    {
     "name": "stderr",
     "output_type": "stream",
     "text": [
      "WARNING:root:Warning: Some classes do not exist in the target. F1 scores for these classes will be cast to zeros.\n"
     ]
    },
    {
     "name": "stdout",
     "output_type": "stream",
     "text": [
      "\n",
      "VALIDATION\n",
      "ACTIVITY: acc 0.3776 MacroF1 0.1887\n",
      "TIMESTAMP: MAE 9.4563\n",
      "RESOURCE: acc 0.2648\n",
      "RESOURCE_ROLE: acc 0.5107\n",
      "TOTAL_LOSS: 15.9569\n",
      "epoch time 12.41024398803711s\n",
      "\n",
      "Epoch: 1\n",
      "\n"
     ]
    },
    {
     "name": "stderr",
     "output_type": "stream",
     "text": [
      "WARNING:root:Warning: Some classes do not exist in the target. F1 scores for these classes will be cast to zeros.\n"
     ]
    },
    {
     "name": "stdout",
     "output_type": "stream",
     "text": [
      "\n",
      "VALIDATION\n",
      "ACTIVITY: acc 0.3101 MacroF1 0.1482\n",
      "TIMESTAMP: MAE 0.9340\n",
      "RESOURCE: acc 0.2648\n",
      "RESOURCE_ROLE: acc 0.5107\n",
      "TOTAL_LOSS: 7.2325\n",
      "epoch time 12.237817287445068s\n",
      "\n",
      "new best model found\n",
      "Epoch: 2\n",
      "\n"
     ]
    },
    {
     "name": "stderr",
     "output_type": "stream",
     "text": [
      "WARNING:root:Warning: Some classes do not exist in the target. F1 scores for these classes will be cast to zeros.\n"
     ]
    },
    {
     "name": "stdout",
     "output_type": "stream",
     "text": [
      "\n",
      "VALIDATION\n",
      "ACTIVITY: acc 0.5230 MacroF1 0.3388\n",
      "TIMESTAMP: MAE 0.5933\n",
      "RESOURCE: acc 0.2648\n",
      "RESOURCE_ROLE: acc 0.6525\n",
      "TOTAL_LOSS: 6.3601\n",
      "epoch time 13.910583257675171s\n",
      "\n",
      "new best model found\n",
      "Epoch: 3\n",
      "\n"
     ]
    },
    {
     "name": "stderr",
     "output_type": "stream",
     "text": [
      "WARNING:root:Warning: Some classes do not exist in the target. F1 scores for these classes will be cast to zeros.\n"
     ]
    },
    {
     "name": "stdout",
     "output_type": "stream",
     "text": [
      "\n",
      "VALIDATION\n",
      "ACTIVITY: acc 0.5230 MacroF1 0.3388\n",
      "TIMESTAMP: MAE 0.1165\n",
      "RESOURCE: acc 0.3037\n",
      "RESOURCE_ROLE: acc 0.6533\n",
      "TOTAL_LOSS: 5.2568\n",
      "epoch time 13.404918193817139s\n",
      "\n",
      "new best model found\n",
      "Epoch: 4\n",
      "\n"
     ]
    },
    {
     "name": "stderr",
     "output_type": "stream",
     "text": [
      "WARNING:root:Warning: Some classes do not exist in the target. F1 scores for these classes will be cast to zeros.\n"
     ]
    },
    {
     "name": "stdout",
     "output_type": "stream",
     "text": [
      "\n",
      "VALIDATION\n",
      "ACTIVITY: acc 0.5651 MacroF1 0.3654\n",
      "TIMESTAMP: MAE 0.2161\n",
      "RESOURCE: acc 0.3037\n",
      "RESOURCE_ROLE: acc 0.6546\n",
      "TOTAL_LOSS: 4.9820\n",
      "epoch time 14.855390548706055s\n",
      "\n",
      "new best model found\n",
      "Epoch: 5\n",
      "\n"
     ]
    },
    {
     "name": "stderr",
     "output_type": "stream",
     "text": [
      "WARNING:root:Warning: Some classes do not exist in the target. F1 scores for these classes will be cast to zeros.\n"
     ]
    },
    {
     "name": "stdout",
     "output_type": "stream",
     "text": [
      "\n",
      "VALIDATION\n",
      "ACTIVITY: acc 0.5892 MacroF1 0.4487\n",
      "TIMESTAMP: MAE 0.2839\n",
      "RESOURCE: acc 0.3037\n",
      "RESOURCE_ROLE: acc 0.7848\n",
      "TOTAL_LOSS: 4.7994\n",
      "epoch time 13.24971628189087s\n",
      "\n",
      "new best model found\n",
      "Epoch: 6\n",
      "\n"
     ]
    },
    {
     "name": "stderr",
     "output_type": "stream",
     "text": [
      "WARNING:root:Warning: Some classes do not exist in the target. F1 scores for these classes will be cast to zeros.\n"
     ]
    },
    {
     "name": "stdout",
     "output_type": "stream",
     "text": [
      "\n",
      "VALIDATION\n",
      "ACTIVITY: acc 0.6493 MacroF1 0.5924\n",
      "TIMESTAMP: MAE 0.2511\n",
      "RESOURCE: acc 0.3041\n",
      "RESOURCE_ROLE: acc 0.7503\n",
      "TOTAL_LOSS: 4.5660\n",
      "epoch time 12.332479238510132s\n",
      "\n",
      "new best model found\n",
      "Epoch: 7\n",
      "\n"
     ]
    },
    {
     "name": "stderr",
     "output_type": "stream",
     "text": [
      "WARNING:root:Warning: Some classes do not exist in the target. F1 scores for these classes will be cast to zeros.\n"
     ]
    },
    {
     "name": "stdout",
     "output_type": "stream",
     "text": [
      "\n",
      "VALIDATION\n",
      "ACTIVITY: acc 0.6495 MacroF1 0.5979\n",
      "TIMESTAMP: MAE 0.2155\n",
      "RESOURCE: acc 0.3046\n",
      "RESOURCE_ROLE: acc 0.7848\n",
      "TOTAL_LOSS: 4.3788\n",
      "epoch time 12.251614809036255s\n",
      "\n",
      "new best model found\n",
      "Epoch: 8\n",
      "\n"
     ]
    },
    {
     "name": "stderr",
     "output_type": "stream",
     "text": [
      "WARNING:root:Warning: Some classes do not exist in the target. F1 scores for these classes will be cast to zeros.\n"
     ]
    },
    {
     "name": "stdout",
     "output_type": "stream",
     "text": [
      "\n",
      "VALIDATION\n",
      "ACTIVITY: acc 0.6529 MacroF1 0.6046\n",
      "TIMESTAMP: MAE 0.1845\n",
      "RESOURCE: acc 0.3067\n",
      "RESOURCE_ROLE: acc 0.7848\n",
      "TOTAL_LOSS: 4.2439\n",
      "epoch time 12.26453948020935s\n",
      "\n",
      "new best model found\n",
      "Epoch: 9\n",
      "\n"
     ]
    },
    {
     "name": "stderr",
     "output_type": "stream",
     "text": [
      "WARNING:root:Warning: Some classes do not exist in the target. F1 scores for these classes will be cast to zeros.\n"
     ]
    },
    {
     "name": "stdout",
     "output_type": "stream",
     "text": [
      "\n",
      "VALIDATION\n",
      "ACTIVITY: acc 0.6554 MacroF1 0.6100\n",
      "TIMESTAMP: MAE 0.1524\n",
      "RESOURCE: acc 0.3084\n",
      "RESOURCE_ROLE: acc 0.7848\n",
      "TOTAL_LOSS: 4.1293\n",
      "epoch time 12.309583902359009s\n",
      "\n",
      "new best model found\n",
      "Epoch: 10\n",
      "\n"
     ]
    },
    {
     "name": "stderr",
     "output_type": "stream",
     "text": [
      "WARNING:root:Warning: Some classes do not exist in the target. F1 scores for these classes will be cast to zeros.\n"
     ]
    },
    {
     "name": "stdout",
     "output_type": "stream",
     "text": [
      "\n",
      "VALIDATION\n",
      "ACTIVITY: acc 0.6053 MacroF1 0.5924\n",
      "TIMESTAMP: MAE 0.1793\n",
      "RESOURCE: acc 0.3431\n",
      "RESOURCE_ROLE: acc 0.7848\n",
      "TOTAL_LOSS: 4.1263\n",
      "epoch time 12.54959750175476s\n",
      "\n",
      "new best model found\n",
      "Epoch: 11\n",
      "\n"
     ]
    },
    {
     "name": "stderr",
     "output_type": "stream",
     "text": [
      "WARNING:root:Warning: Some classes do not exist in the target. F1 scores for these classes will be cast to zeros.\n"
     ]
    },
    {
     "name": "stdout",
     "output_type": "stream",
     "text": [
      "\n",
      "VALIDATION\n",
      "ACTIVITY: acc 0.6070 MacroF1 0.5951\n",
      "TIMESTAMP: MAE 0.1390\n",
      "RESOURCE: acc 0.3721\n",
      "RESOURCE_ROLE: acc 0.7848\n",
      "TOTAL_LOSS: 4.0315\n",
      "epoch time 12.309372663497925s\n",
      "\n",
      "new best model found\n",
      "Epoch: 12\n",
      "\n"
     ]
    },
    {
     "name": "stderr",
     "output_type": "stream",
     "text": [
      "WARNING:root:Warning: Some classes do not exist in the target. F1 scores for these classes will be cast to zeros.\n"
     ]
    },
    {
     "name": "stdout",
     "output_type": "stream",
     "text": [
      "\n",
      "VALIDATION\n",
      "ACTIVITY: acc 0.6584 MacroF1 0.6183\n",
      "TIMESTAMP: MAE 0.1550\n",
      "RESOURCE: acc 0.3850\n",
      "RESOURCE_ROLE: acc 0.7848\n",
      "TOTAL_LOSS: 4.0092\n",
      "epoch time 12.176927089691162s\n",
      "\n",
      "new best model found\n",
      "Epoch: 13\n",
      "\n"
     ]
    },
    {
     "name": "stderr",
     "output_type": "stream",
     "text": [
      "WARNING:root:Warning: Some classes do not exist in the target. F1 scores for these classes will be cast to zeros.\n"
     ]
    },
    {
     "name": "stdout",
     "output_type": "stream",
     "text": [
      "\n",
      "VALIDATION\n",
      "ACTIVITY: acc 0.6406 MacroF1 0.5681\n",
      "TIMESTAMP: MAE 0.1561\n",
      "RESOURCE: acc 0.3911\n",
      "RESOURCE_ROLE: acc 0.7848\n",
      "TOTAL_LOSS: 3.9659\n",
      "epoch time 15.4609215259552s\n",
      "\n",
      "new best model found\n",
      "Epoch: 14\n",
      "\n"
     ]
    },
    {
     "name": "stderr",
     "output_type": "stream",
     "text": [
      "WARNING:root:Warning: Some classes do not exist in the target. F1 scores for these classes will be cast to zeros.\n"
     ]
    },
    {
     "name": "stdout",
     "output_type": "stream",
     "text": [
      "\n",
      "VALIDATION\n",
      "ACTIVITY: acc 0.6584 MacroF1 0.6179\n",
      "TIMESTAMP: MAE 0.0851\n",
      "RESOURCE: acc 0.3994\n",
      "RESOURCE_ROLE: acc 0.7848\n",
      "TOTAL_LOSS: 3.8792\n",
      "epoch time 12.163396835327148s\n",
      "\n",
      "new best model found\n",
      "Epoch: 15\n",
      "\n"
     ]
    },
    {
     "name": "stderr",
     "output_type": "stream",
     "text": [
      "WARNING:root:Warning: Some classes do not exist in the target. F1 scores for these classes will be cast to zeros.\n"
     ]
    },
    {
     "name": "stdout",
     "output_type": "stream",
     "text": [
      "\n",
      "VALIDATION\n",
      "ACTIVITY: acc 0.6565 MacroF1 0.6366\n",
      "TIMESTAMP: MAE 0.1455\n",
      "RESOURCE: acc 0.3987\n",
      "RESOURCE_ROLE: acc 0.7848\n",
      "TOTAL_LOSS: 3.9076\n",
      "epoch time 12.152426958084106s\n",
      "\n",
      "Epoch: 16\n",
      "\n"
     ]
    },
    {
     "name": "stderr",
     "output_type": "stream",
     "text": [
      "WARNING:root:Warning: Some classes do not exist in the target. F1 scores for these classes will be cast to zeros.\n"
     ]
    },
    {
     "name": "stdout",
     "output_type": "stream",
     "text": [
      "\n",
      "VALIDATION\n",
      "ACTIVITY: acc 0.6595 MacroF1 0.6187\n",
      "TIMESTAMP: MAE 0.0867\n",
      "RESOURCE: acc 0.4015\n",
      "RESOURCE_ROLE: acc 0.7848\n",
      "TOTAL_LOSS: 3.8294\n",
      "epoch time 12.176825046539307s\n",
      "\n",
      "new best model found\n",
      "Epoch: 17\n",
      "\n"
     ]
    },
    {
     "name": "stderr",
     "output_type": "stream",
     "text": [
      "WARNING:root:Warning: Some classes do not exist in the target. F1 scores for these classes will be cast to zeros.\n"
     ]
    },
    {
     "name": "stdout",
     "output_type": "stream",
     "text": [
      "\n",
      "VALIDATION\n",
      "ACTIVITY: acc 0.6593 MacroF1 0.6198\n",
      "TIMESTAMP: MAE 0.0987\n",
      "RESOURCE: acc 0.3989\n",
      "RESOURCE_ROLE: acc 0.7848\n",
      "TOTAL_LOSS: 3.8489\n",
      "epoch time 12.24403166770935s\n",
      "\n",
      "Epoch: 18\n",
      "\n"
     ]
    },
    {
     "name": "stderr",
     "output_type": "stream",
     "text": [
      "WARNING:root:Warning: Some classes do not exist in the target. F1 scores for these classes will be cast to zeros.\n"
     ]
    },
    {
     "name": "stdout",
     "output_type": "stream",
     "text": [
      "\n",
      "VALIDATION\n",
      "ACTIVITY: acc 0.6502 MacroF1 0.5987\n",
      "TIMESTAMP: MAE 0.1038\n",
      "RESOURCE: acc 0.4011\n",
      "RESOURCE_ROLE: acc 0.7850\n",
      "TOTAL_LOSS: 3.8385\n",
      "epoch time 12.298704147338867s\n",
      "\n",
      "Epoch: 19\n",
      "\n"
     ]
    },
    {
     "name": "stderr",
     "output_type": "stream",
     "text": [
      "WARNING:root:Warning: Some classes do not exist in the target. F1 scores for these classes will be cast to zeros.\n"
     ]
    },
    {
     "name": "stdout",
     "output_type": "stream",
     "text": [
      "\n",
      "VALIDATION\n",
      "ACTIVITY: acc 0.6571 MacroF1 0.6143\n",
      "TIMESTAMP: MAE 0.0541\n",
      "RESOURCE: acc 0.4070\n",
      "RESOURCE_ROLE: acc 0.7848\n",
      "TOTAL_LOSS: 3.7717\n",
      "epoch time 12.271727323532104s\n",
      "\n",
      "new best model found\n"
     ]
    },
    {
     "name": "stderr",
     "output_type": "stream",
     "text": [
      "WARNING:root:Warning: Some classes do not exist in the target. F1 scores for these classes will be cast to zeros.\n",
      "[INFO 01-07 17:50:01] ax.core.experiment: Attached data has some metrics ({'activity_accuracy', 'MAE_timestamp', 'resource_roles_accuracy', 'MacroF1Activity', 'resource_accuracy'}) that are not among the metrics on this experiment. Note that attaching data will not automatically add those metrics to the experiment. For these metrics to be automatically fetched by `experiment.fetch_data`, add them via `experiment.add_tracking_metric` or update the experiment's optimization config.\n",
      "[INFO 01-07 17:50:01] ax.service.managed_loop: Running optimization trial 6...\n",
      "[ERROR 01-07 17:50:01] ax.core.observation: Data contains metric MAE_timestamp that has not been added to the experiment. You can either update the `optimization_config` or attach it as a tracking metric using `Experiment.add_tracking_metrics` or `AxClient.add_tracking_metrics`. Ignoring all data for metric MAE_timestamp.\n",
      "NoneType: None\n",
      "[ERROR 01-07 17:50:01] ax.core.observation: Data contains metric MacroF1Activity that has not been added to the experiment. You can either update the `optimization_config` or attach it as a tracking metric using `Experiment.add_tracking_metrics` or `AxClient.add_tracking_metrics`. Ignoring all data for metric MacroF1Activity.\n",
      "NoneType: None\n",
      "[ERROR 01-07 17:50:01] ax.core.observation: Data contains metric activity_accuracy that has not been added to the experiment. You can either update the `optimization_config` or attach it as a tracking metric using `Experiment.add_tracking_metrics` or `AxClient.add_tracking_metrics`. Ignoring all data for metric activity_accuracy.\n",
      "NoneType: None\n",
      "[ERROR 01-07 17:50:01] ax.core.observation: Data contains metric resource_accuracy that has not been added to the experiment. You can either update the `optimization_config` or attach it as a tracking metric using `Experiment.add_tracking_metrics` or `AxClient.add_tracking_metrics`. Ignoring all data for metric resource_accuracy.\n",
      "NoneType: None\n",
      "[ERROR 01-07 17:50:01] ax.core.observation: Data contains metric resource_roles_accuracy that has not been added to the experiment. You can either update the `optimization_config` or attach it as a tracking metric using `Experiment.add_tracking_metrics` or `AxClient.add_tracking_metrics`. Ignoring all data for metric resource_roles_accuracy.\n",
      "NoneType: None\n",
      "[ERROR 01-07 17:50:01] ax.core.observation: Data contains metric MAE_timestamp that has not been added to the experiment. You can either update the `optimization_config` or attach it as a tracking metric using `Experiment.add_tracking_metrics` or `AxClient.add_tracking_metrics`. Ignoring all data for metric MAE_timestamp.\n",
      "NoneType: None\n",
      "[ERROR 01-07 17:50:01] ax.core.observation: Data contains metric MacroF1Activity that has not been added to the experiment. You can either update the `optimization_config` or attach it as a tracking metric using `Experiment.add_tracking_metrics` or `AxClient.add_tracking_metrics`. Ignoring all data for metric MacroF1Activity.\n",
      "NoneType: None\n",
      "[ERROR 01-07 17:50:01] ax.core.observation: Data contains metric activity_accuracy that has not been added to the experiment. You can either update the `optimization_config` or attach it as a tracking metric using `Experiment.add_tracking_metrics` or `AxClient.add_tracking_metrics`. Ignoring all data for metric activity_accuracy.\n",
      "NoneType: None\n",
      "[ERROR 01-07 17:50:01] ax.core.observation: Data contains metric resource_accuracy that has not been added to the experiment. You can either update the `optimization_config` or attach it as a tracking metric using `Experiment.add_tracking_metrics` or `AxClient.add_tracking_metrics`. Ignoring all data for metric resource_accuracy.\n",
      "NoneType: None\n",
      "[ERROR 01-07 17:50:01] ax.core.observation: Data contains metric resource_roles_accuracy that has not been added to the experiment. You can either update the `optimization_config` or attach it as a tracking metric using `Experiment.add_tracking_metrics` or `AxClient.add_tracking_metrics`. Ignoring all data for metric resource_roles_accuracy.\n",
      "NoneType: None\n",
      "[ERROR 01-07 17:50:01] ax.core.observation: Data contains metric MAE_timestamp that has not been added to the experiment. You can either update the `optimization_config` or attach it as a tracking metric using `Experiment.add_tracking_metrics` or `AxClient.add_tracking_metrics`. Ignoring all data for metric MAE_timestamp.\n",
      "NoneType: None\n",
      "[ERROR 01-07 17:50:01] ax.core.observation: Data contains metric MacroF1Activity that has not been added to the experiment. You can either update the `optimization_config` or attach it as a tracking metric using `Experiment.add_tracking_metrics` or `AxClient.add_tracking_metrics`. Ignoring all data for metric MacroF1Activity.\n",
      "NoneType: None\n",
      "[ERROR 01-07 17:50:01] ax.core.observation: Data contains metric activity_accuracy that has not been added to the experiment. You can either update the `optimization_config` or attach it as a tracking metric using `Experiment.add_tracking_metrics` or `AxClient.add_tracking_metrics`. Ignoring all data for metric activity_accuracy.\n",
      "NoneType: None\n",
      "[ERROR 01-07 17:50:01] ax.core.observation: Data contains metric resource_accuracy that has not been added to the experiment. You can either update the `optimization_config` or attach it as a tracking metric using `Experiment.add_tracking_metrics` or `AxClient.add_tracking_metrics`. Ignoring all data for metric resource_accuracy.\n",
      "NoneType: None\n",
      "[ERROR 01-07 17:50:01] ax.core.observation: Data contains metric resource_roles_accuracy that has not been added to the experiment. You can either update the `optimization_config` or attach it as a tracking metric using `Experiment.add_tracking_metrics` or `AxClient.add_tracking_metrics`. Ignoring all data for metric resource_roles_accuracy.\n",
      "NoneType: None\n",
      "[ERROR 01-07 17:50:01] ax.core.observation: Data contains metric MAE_timestamp that has not been added to the experiment. You can either update the `optimization_config` or attach it as a tracking metric using `Experiment.add_tracking_metrics` or `AxClient.add_tracking_metrics`. Ignoring all data for metric MAE_timestamp.\n",
      "NoneType: None\n",
      "[ERROR 01-07 17:50:01] ax.core.observation: Data contains metric MacroF1Activity that has not been added to the experiment. You can either update the `optimization_config` or attach it as a tracking metric using `Experiment.add_tracking_metrics` or `AxClient.add_tracking_metrics`. Ignoring all data for metric MacroF1Activity.\n",
      "NoneType: None\n",
      "[ERROR 01-07 17:50:01] ax.core.observation: Data contains metric activity_accuracy that has not been added to the experiment. You can either update the `optimization_config` or attach it as a tracking metric using `Experiment.add_tracking_metrics` or `AxClient.add_tracking_metrics`. Ignoring all data for metric activity_accuracy.\n",
      "NoneType: None\n",
      "[ERROR 01-07 17:50:01] ax.core.observation: Data contains metric resource_accuracy that has not been added to the experiment. You can either update the `optimization_config` or attach it as a tracking metric using `Experiment.add_tracking_metrics` or `AxClient.add_tracking_metrics`. Ignoring all data for metric resource_accuracy.\n",
      "NoneType: None\n",
      "[ERROR 01-07 17:50:01] ax.core.observation: Data contains metric resource_roles_accuracy that has not been added to the experiment. You can either update the `optimization_config` or attach it as a tracking metric using `Experiment.add_tracking_metrics` or `AxClient.add_tracking_metrics`. Ignoring all data for metric resource_roles_accuracy.\n",
      "NoneType: None\n",
      "[ERROR 01-07 17:50:01] ax.core.observation: Data contains metric MAE_timestamp that has not been added to the experiment. You can either update the `optimization_config` or attach it as a tracking metric using `Experiment.add_tracking_metrics` or `AxClient.add_tracking_metrics`. Ignoring all data for metric MAE_timestamp.\n",
      "NoneType: None\n",
      "[ERROR 01-07 17:50:01] ax.core.observation: Data contains metric MacroF1Activity that has not been added to the experiment. You can either update the `optimization_config` or attach it as a tracking metric using `Experiment.add_tracking_metrics` or `AxClient.add_tracking_metrics`. Ignoring all data for metric MacroF1Activity.\n",
      "NoneType: None\n",
      "[ERROR 01-07 17:50:01] ax.core.observation: Data contains metric activity_accuracy that has not been added to the experiment. You can either update the `optimization_config` or attach it as a tracking metric using `Experiment.add_tracking_metrics` or `AxClient.add_tracking_metrics`. Ignoring all data for metric activity_accuracy.\n",
      "NoneType: None\n",
      "[ERROR 01-07 17:50:01] ax.core.observation: Data contains metric resource_accuracy that has not been added to the experiment. You can either update the `optimization_config` or attach it as a tracking metric using `Experiment.add_tracking_metrics` or `AxClient.add_tracking_metrics`. Ignoring all data for metric resource_accuracy.\n",
      "NoneType: None\n",
      "[ERROR 01-07 17:50:01] ax.core.observation: Data contains metric resource_roles_accuracy that has not been added to the experiment. You can either update the `optimization_config` or attach it as a tracking metric using `Experiment.add_tracking_metrics` or `AxClient.add_tracking_metrics`. Ignoring all data for metric resource_roles_accuracy.\n",
      "NoneType: None\n",
      "/home/sebdis/ProcessMining/HGNN/hgnn_env/lib/python3.10/site-packages/ax/modelbridge/cross_validation.py:463: UserWarning: Encountered exception in computing model fit quality: RandomModelBridge does not support prediction.\n",
      "  warn(\"Encountered exception in computing model fit quality: \" + str(e))\n"
     ]
    },
    {
     "name": "stdout",
     "output_type": "stream",
     "text": [
      "{'lr': 0.0039125900358181875, 'batch_size': 256, 'heads': 1, 'hid': 128, 'layers': 2, 'aggregation': 'max'}\n",
      "Epoch: 0\n",
      "\n"
     ]
    },
    {
     "name": "stderr",
     "output_type": "stream",
     "text": [
      "WARNING:root:Warning: Some classes do not exist in the target. F1 scores for these classes will be cast to zeros.\n"
     ]
    },
    {
     "name": "stdout",
     "output_type": "stream",
     "text": [
      "\n",
      "VALIDATION\n",
      "ACTIVITY: acc 0.5992 MacroF1 0.5716\n",
      "TIMESTAMP: MAE 0.1277\n",
      "RESOURCE: acc 0.3790\n",
      "RESOURCE_ROLE: acc 0.7517\n",
      "TOTAL_LOSS: 4.1001\n",
      "epoch time 15.506262302398682s\n",
      "\n",
      "Epoch: 1\n",
      "\n"
     ]
    },
    {
     "name": "stderr",
     "output_type": "stream",
     "text": [
      "WARNING:root:Warning: Some classes do not exist in the target. F1 scores for these classes will be cast to zeros.\n"
     ]
    },
    {
     "name": "stdout",
     "output_type": "stream",
     "text": [
      "\n",
      "VALIDATION\n",
      "ACTIVITY: acc 0.6624 MacroF1 0.6247\n",
      "TIMESTAMP: MAE 0.1824\n",
      "RESOURCE: acc 0.4351\n",
      "RESOURCE_ROLE: acc 0.7848\n",
      "TOTAL_LOSS: 3.8773\n",
      "epoch time 15.400081872940063s\n",
      "\n",
      "new best model found\n",
      "Epoch: 2\n",
      "\n"
     ]
    },
    {
     "name": "stderr",
     "output_type": "stream",
     "text": [
      "WARNING:root:Warning: Some classes do not exist in the target. F1 scores for these classes will be cast to zeros.\n"
     ]
    },
    {
     "name": "stdout",
     "output_type": "stream",
     "text": [
      "\n",
      "VALIDATION\n",
      "ACTIVITY: acc 0.6385 MacroF1 0.5543\n",
      "TIMESTAMP: MAE 0.1983\n",
      "RESOURCE: acc 0.4921\n",
      "RESOURCE_ROLE: acc 0.7860\n",
      "TOTAL_LOSS: 3.7159\n",
      "epoch time 15.585185289382935s\n",
      "\n",
      "new best model found\n",
      "Epoch: 3\n",
      "\n"
     ]
    },
    {
     "name": "stderr",
     "output_type": "stream",
     "text": [
      "WARNING:root:Warning: Some classes do not exist in the target. F1 scores for these classes will be cast to zeros.\n"
     ]
    },
    {
     "name": "stdout",
     "output_type": "stream",
     "text": [
      "\n",
      "VALIDATION\n",
      "ACTIVITY: acc 0.6554 MacroF1 0.6047\n",
      "TIMESTAMP: MAE 0.2877\n",
      "RESOURCE: acc 0.5244\n",
      "RESOURCE_ROLE: acc 0.7860\n",
      "TOTAL_LOSS: 3.6656\n",
      "epoch time 15.226989984512329s\n",
      "\n",
      "new best model found\n",
      "Epoch: 4\n",
      "\n"
     ]
    },
    {
     "name": "stderr",
     "output_type": "stream",
     "text": [
      "WARNING:root:Warning: Some classes do not exist in the target. F1 scores for these classes will be cast to zeros.\n"
     ]
    },
    {
     "name": "stdout",
     "output_type": "stream",
     "text": [
      "\n",
      "VALIDATION\n",
      "ACTIVITY: acc 0.6603 MacroF1 0.6013\n",
      "TIMESTAMP: MAE 0.3844\n",
      "RESOURCE: acc 0.5261\n",
      "RESOURCE_ROLE: acc 0.7860\n",
      "TOTAL_LOSS: 3.6815\n",
      "epoch time 15.355771780014038s\n",
      "\n",
      "Epoch: 5\n",
      "\n"
     ]
    },
    {
     "name": "stderr",
     "output_type": "stream",
     "text": [
      "WARNING:root:Warning: Some classes do not exist in the target. F1 scores for these classes will be cast to zeros.\n"
     ]
    },
    {
     "name": "stdout",
     "output_type": "stream",
     "text": [
      "\n",
      "VALIDATION\n",
      "ACTIVITY: acc 0.6665 MacroF1 0.6517\n",
      "TIMESTAMP: MAE 0.3180\n",
      "RESOURCE: acc 0.5342\n",
      "RESOURCE_ROLE: acc 0.7860\n",
      "TOTAL_LOSS: 3.6098\n",
      "epoch time 15.393821239471436s\n",
      "\n",
      "new best model found\n",
      "Epoch: 6\n",
      "\n"
     ]
    },
    {
     "name": "stderr",
     "output_type": "stream",
     "text": [
      "WARNING:root:Warning: Some classes do not exist in the target. F1 scores for these classes will be cast to zeros.\n"
     ]
    },
    {
     "name": "stdout",
     "output_type": "stream",
     "text": [
      "\n",
      "VALIDATION\n",
      "ACTIVITY: acc 0.6385 MacroF1 0.6143\n",
      "TIMESTAMP: MAE 0.1454\n",
      "RESOURCE: acc 0.5316\n",
      "RESOURCE_ROLE: acc 0.7685\n",
      "TOTAL_LOSS: 3.4362\n",
      "epoch time 15.213112354278564s\n",
      "\n",
      "new best model found\n",
      "Epoch: 7\n",
      "\n"
     ]
    },
    {
     "name": "stderr",
     "output_type": "stream",
     "text": [
      "WARNING:root:Warning: Some classes do not exist in the target. F1 scores for these classes will be cast to zeros.\n"
     ]
    },
    {
     "name": "stdout",
     "output_type": "stream",
     "text": [
      "\n",
      "VALIDATION\n",
      "ACTIVITY: acc 0.6595 MacroF1 0.6554\n",
      "TIMESTAMP: MAE 0.1655\n",
      "RESOURCE: acc 0.5365\n",
      "RESOURCE_ROLE: acc 0.7862\n",
      "TOTAL_LOSS: 3.4304\n",
      "epoch time 14.982425689697266s\n",
      "\n",
      "new best model found\n",
      "Epoch: 8\n",
      "\n"
     ]
    },
    {
     "name": "stderr",
     "output_type": "stream",
     "text": [
      "WARNING:root:Warning: Some classes do not exist in the target. F1 scores for these classes will be cast to zeros.\n"
     ]
    },
    {
     "name": "stdout",
     "output_type": "stream",
     "text": [
      "\n",
      "VALIDATION\n",
      "ACTIVITY: acc 0.6813 MacroF1 0.6534\n",
      "TIMESTAMP: MAE 0.1935\n",
      "RESOURCE: acc 0.5380\n",
      "RESOURCE_ROLE: acc 0.7860\n",
      "TOTAL_LOSS: 3.4532\n",
      "epoch time 14.857531070709229s\n",
      "\n",
      "Epoch: 9\n",
      "\n"
     ]
    },
    {
     "name": "stderr",
     "output_type": "stream",
     "text": [
      "WARNING:root:Warning: Some classes do not exist in the target. F1 scores for these classes will be cast to zeros.\n"
     ]
    },
    {
     "name": "stdout",
     "output_type": "stream",
     "text": [
      "\n",
      "VALIDATION\n",
      "ACTIVITY: acc 0.6235 MacroF1 0.5988\n",
      "TIMESTAMP: MAE 0.1740\n",
      "RESOURCE: acc 0.5369\n",
      "RESOURCE_ROLE: acc 0.7860\n",
      "TOTAL_LOSS: 3.4364\n",
      "epoch time 14.62224555015564s\n",
      "\n",
      "Epoch: 10\n",
      "\n"
     ]
    },
    {
     "name": "stderr",
     "output_type": "stream",
     "text": [
      "WARNING:root:Warning: Some classes do not exist in the target. F1 scores for these classes will be cast to zeros.\n"
     ]
    },
    {
     "name": "stdout",
     "output_type": "stream",
     "text": [
      "\n",
      "VALIDATION\n",
      "ACTIVITY: acc 0.6775 MacroF1 0.6647\n",
      "TIMESTAMP: MAE 0.1636\n",
      "RESOURCE: acc 0.5340\n",
      "RESOURCE_ROLE: acc 0.7860\n",
      "TOTAL_LOSS: 3.3935\n",
      "epoch time 17.221662759780884s\n",
      "\n",
      "new best model found\n",
      "Epoch: 11\n",
      "\n"
     ]
    },
    {
     "name": "stderr",
     "output_type": "stream",
     "text": [
      "WARNING:root:Warning: Some classes do not exist in the target. F1 scores for these classes will be cast to zeros.\n"
     ]
    },
    {
     "name": "stdout",
     "output_type": "stream",
     "text": [
      "\n",
      "VALIDATION\n",
      "ACTIVITY: acc 0.6819 MacroF1 0.6562\n",
      "TIMESTAMP: MAE 0.2602\n",
      "RESOURCE: acc 0.5346\n",
      "RESOURCE_ROLE: acc 0.7860\n",
      "TOTAL_LOSS: 3.4890\n",
      "epoch time 15.102752208709717s\n",
      "\n",
      "Epoch: 12\n",
      "\n"
     ]
    },
    {
     "name": "stderr",
     "output_type": "stream",
     "text": [
      "WARNING:root:Warning: Some classes do not exist in the target. F1 scores for these classes will be cast to zeros.\n"
     ]
    },
    {
     "name": "stdout",
     "output_type": "stream",
     "text": [
      "\n",
      "VALIDATION\n",
      "ACTIVITY: acc 0.6635 MacroF1 0.6595\n",
      "TIMESTAMP: MAE 0.2221\n",
      "RESOURCE: acc 0.5363\n",
      "RESOURCE_ROLE: acc 0.7862\n",
      "TOTAL_LOSS: 3.4686\n",
      "epoch time 14.998772382736206s\n",
      "\n",
      "Epoch: 13\n",
      "\n"
     ]
    },
    {
     "name": "stderr",
     "output_type": "stream",
     "text": [
      "WARNING:root:Warning: Some classes do not exist in the target. F1 scores for these classes will be cast to zeros.\n"
     ]
    },
    {
     "name": "stdout",
     "output_type": "stream",
     "text": [
      "\n",
      "VALIDATION\n",
      "ACTIVITY: acc 0.6785 MacroF1 0.6488\n",
      "TIMESTAMP: MAE 0.1436\n",
      "RESOURCE: acc 0.5363\n",
      "RESOURCE_ROLE: acc 0.7860\n",
      "TOTAL_LOSS: 3.3639\n",
      "epoch time 14.880587100982666s\n",
      "\n",
      "new best model found\n",
      "Epoch: 14\n",
      "\n"
     ]
    },
    {
     "name": "stderr",
     "output_type": "stream",
     "text": [
      "WARNING:root:Warning: Some classes do not exist in the target. F1 scores for these classes will be cast to zeros.\n"
     ]
    },
    {
     "name": "stdout",
     "output_type": "stream",
     "text": [
      "\n",
      "VALIDATION\n",
      "ACTIVITY: acc 0.6832 MacroF1 0.6674\n",
      "TIMESTAMP: MAE 0.1478\n",
      "RESOURCE: acc 0.5346\n",
      "RESOURCE_ROLE: acc 0.7860\n",
      "TOTAL_LOSS: 3.3757\n",
      "epoch time 15.479974031448364s\n",
      "\n",
      "Epoch: 15\n",
      "\n"
     ]
    },
    {
     "name": "stderr",
     "output_type": "stream",
     "text": [
      "WARNING:root:Warning: Some classes do not exist in the target. F1 scores for these classes will be cast to zeros.\n"
     ]
    },
    {
     "name": "stdout",
     "output_type": "stream",
     "text": [
      "\n",
      "VALIDATION\n",
      "ACTIVITY: acc 0.6821 MacroF1 0.6691\n",
      "TIMESTAMP: MAE 0.1782\n",
      "RESOURCE: acc 0.5388\n",
      "RESOURCE_ROLE: acc 0.7860\n",
      "TOTAL_LOSS: 3.4469\n",
      "epoch time 16.108160972595215s\n",
      "\n",
      "Epoch: 16\n",
      "\n"
     ]
    },
    {
     "name": "stderr",
     "output_type": "stream",
     "text": [
      "WARNING:root:Warning: Some classes do not exist in the target. F1 scores for these classes will be cast to zeros.\n"
     ]
    },
    {
     "name": "stdout",
     "output_type": "stream",
     "text": [
      "\n",
      "VALIDATION\n",
      "ACTIVITY: acc 0.6688 MacroF1 0.6242\n",
      "TIMESTAMP: MAE 0.0596\n",
      "RESOURCE: acc 0.5380\n",
      "RESOURCE_ROLE: acc 0.7862\n",
      "TOTAL_LOSS: 3.3124\n",
      "epoch time 15.772387981414795s\n",
      "\n",
      "new best model found\n",
      "Epoch: 17\n",
      "\n"
     ]
    },
    {
     "name": "stderr",
     "output_type": "stream",
     "text": [
      "WARNING:root:Warning: Some classes do not exist in the target. F1 scores for these classes will be cast to zeros.\n"
     ]
    },
    {
     "name": "stdout",
     "output_type": "stream",
     "text": [
      "\n",
      "VALIDATION\n",
      "ACTIVITY: acc 0.6798 MacroF1 0.6703\n",
      "TIMESTAMP: MAE 0.1402\n",
      "RESOURCE: acc 0.5369\n",
      "RESOURCE_ROLE: acc 0.7860\n",
      "TOTAL_LOSS: 3.4133\n",
      "epoch time 15.403024911880493s\n",
      "\n",
      "Epoch: 18\n",
      "\n"
     ]
    },
    {
     "name": "stderr",
     "output_type": "stream",
     "text": [
      "WARNING:root:Warning: Some classes do not exist in the target. F1 scores for these classes will be cast to zeros.\n"
     ]
    },
    {
     "name": "stdout",
     "output_type": "stream",
     "text": [
      "\n",
      "VALIDATION\n",
      "ACTIVITY: acc 0.6554 MacroF1 0.6446\n",
      "TIMESTAMP: MAE 0.0669\n",
      "RESOURCE: acc 0.5433\n",
      "RESOURCE_ROLE: acc 0.7860\n",
      "TOTAL_LOSS: 3.3437\n",
      "epoch time 15.114567518234253s\n",
      "\n",
      "Epoch: 19\n",
      "\n"
     ]
    },
    {
     "name": "stderr",
     "output_type": "stream",
     "text": [
      "WARNING:root:Warning: Some classes do not exist in the target. F1 scores for these classes will be cast to zeros.\n"
     ]
    },
    {
     "name": "stdout",
     "output_type": "stream",
     "text": [
      "\n",
      "VALIDATION\n",
      "ACTIVITY: acc 0.6753 MacroF1 0.6672\n",
      "TIMESTAMP: MAE 0.1550\n",
      "RESOURCE: acc 0.5380\n",
      "RESOURCE_ROLE: acc 0.7860\n",
      "TOTAL_LOSS: 3.4282\n",
      "epoch time 15.244502782821655s\n",
      "\n"
     ]
    },
    {
     "name": "stderr",
     "output_type": "stream",
     "text": [
      "WARNING:root:Warning: Some classes do not exist in the target. F1 scores for these classes will be cast to zeros.\n",
      "[INFO 01-07 17:55:19] ax.core.experiment: Attached data has some metrics ({'activity_accuracy', 'MAE_timestamp', 'resource_roles_accuracy', 'MacroF1Activity', 'resource_accuracy'}) that are not among the metrics on this experiment. Note that attaching data will not automatically add those metrics to the experiment. For these metrics to be automatically fetched by `experiment.fetch_data`, add them via `experiment.add_tracking_metric` or update the experiment's optimization config.\n",
      "[INFO 01-07 17:55:19] ax.service.managed_loop: Running optimization trial 7...\n",
      "[ERROR 01-07 17:55:19] ax.core.observation: Data contains metric MAE_timestamp that has not been added to the experiment. You can either update the `optimization_config` or attach it as a tracking metric using `Experiment.add_tracking_metrics` or `AxClient.add_tracking_metrics`. Ignoring all data for metric MAE_timestamp.\n",
      "NoneType: None\n",
      "[ERROR 01-07 17:55:19] ax.core.observation: Data contains metric MacroF1Activity that has not been added to the experiment. You can either update the `optimization_config` or attach it as a tracking metric using `Experiment.add_tracking_metrics` or `AxClient.add_tracking_metrics`. Ignoring all data for metric MacroF1Activity.\n",
      "NoneType: None\n",
      "[ERROR 01-07 17:55:19] ax.core.observation: Data contains metric activity_accuracy that has not been added to the experiment. You can either update the `optimization_config` or attach it as a tracking metric using `Experiment.add_tracking_metrics` or `AxClient.add_tracking_metrics`. Ignoring all data for metric activity_accuracy.\n",
      "NoneType: None\n",
      "[ERROR 01-07 17:55:19] ax.core.observation: Data contains metric resource_accuracy that has not been added to the experiment. You can either update the `optimization_config` or attach it as a tracking metric using `Experiment.add_tracking_metrics` or `AxClient.add_tracking_metrics`. Ignoring all data for metric resource_accuracy.\n",
      "NoneType: None\n",
      "[ERROR 01-07 17:55:19] ax.core.observation: Data contains metric resource_roles_accuracy that has not been added to the experiment. You can either update the `optimization_config` or attach it as a tracking metric using `Experiment.add_tracking_metrics` or `AxClient.add_tracking_metrics`. Ignoring all data for metric resource_roles_accuracy.\n",
      "NoneType: None\n",
      "[ERROR 01-07 17:55:19] ax.core.observation: Data contains metric MAE_timestamp that has not been added to the experiment. You can either update the `optimization_config` or attach it as a tracking metric using `Experiment.add_tracking_metrics` or `AxClient.add_tracking_metrics`. Ignoring all data for metric MAE_timestamp.\n",
      "NoneType: None\n",
      "[ERROR 01-07 17:55:19] ax.core.observation: Data contains metric MacroF1Activity that has not been added to the experiment. You can either update the `optimization_config` or attach it as a tracking metric using `Experiment.add_tracking_metrics` or `AxClient.add_tracking_metrics`. Ignoring all data for metric MacroF1Activity.\n",
      "NoneType: None\n",
      "[ERROR 01-07 17:55:19] ax.core.observation: Data contains metric activity_accuracy that has not been added to the experiment. You can either update the `optimization_config` or attach it as a tracking metric using `Experiment.add_tracking_metrics` or `AxClient.add_tracking_metrics`. Ignoring all data for metric activity_accuracy.\n",
      "NoneType: None\n",
      "[ERROR 01-07 17:55:19] ax.core.observation: Data contains metric resource_accuracy that has not been added to the experiment. You can either update the `optimization_config` or attach it as a tracking metric using `Experiment.add_tracking_metrics` or `AxClient.add_tracking_metrics`. Ignoring all data for metric resource_accuracy.\n",
      "NoneType: None\n",
      "[ERROR 01-07 17:55:19] ax.core.observation: Data contains metric resource_roles_accuracy that has not been added to the experiment. You can either update the `optimization_config` or attach it as a tracking metric using `Experiment.add_tracking_metrics` or `AxClient.add_tracking_metrics`. Ignoring all data for metric resource_roles_accuracy.\n",
      "NoneType: None\n",
      "[ERROR 01-07 17:55:19] ax.core.observation: Data contains metric MAE_timestamp that has not been added to the experiment. You can either update the `optimization_config` or attach it as a tracking metric using `Experiment.add_tracking_metrics` or `AxClient.add_tracking_metrics`. Ignoring all data for metric MAE_timestamp.\n",
      "NoneType: None\n",
      "[ERROR 01-07 17:55:19] ax.core.observation: Data contains metric MacroF1Activity that has not been added to the experiment. You can either update the `optimization_config` or attach it as a tracking metric using `Experiment.add_tracking_metrics` or `AxClient.add_tracking_metrics`. Ignoring all data for metric MacroF1Activity.\n",
      "NoneType: None\n",
      "[ERROR 01-07 17:55:19] ax.core.observation: Data contains metric activity_accuracy that has not been added to the experiment. You can either update the `optimization_config` or attach it as a tracking metric using `Experiment.add_tracking_metrics` or `AxClient.add_tracking_metrics`. Ignoring all data for metric activity_accuracy.\n",
      "NoneType: None\n",
      "[ERROR 01-07 17:55:19] ax.core.observation: Data contains metric resource_accuracy that has not been added to the experiment. You can either update the `optimization_config` or attach it as a tracking metric using `Experiment.add_tracking_metrics` or `AxClient.add_tracking_metrics`. Ignoring all data for metric resource_accuracy.\n",
      "NoneType: None\n",
      "[ERROR 01-07 17:55:19] ax.core.observation: Data contains metric resource_roles_accuracy that has not been added to the experiment. You can either update the `optimization_config` or attach it as a tracking metric using `Experiment.add_tracking_metrics` or `AxClient.add_tracking_metrics`. Ignoring all data for metric resource_roles_accuracy.\n",
      "NoneType: None\n",
      "[ERROR 01-07 17:55:19] ax.core.observation: Data contains metric MAE_timestamp that has not been added to the experiment. You can either update the `optimization_config` or attach it as a tracking metric using `Experiment.add_tracking_metrics` or `AxClient.add_tracking_metrics`. Ignoring all data for metric MAE_timestamp.\n",
      "NoneType: None\n",
      "[ERROR 01-07 17:55:19] ax.core.observation: Data contains metric MacroF1Activity that has not been added to the experiment. You can either update the `optimization_config` or attach it as a tracking metric using `Experiment.add_tracking_metrics` or `AxClient.add_tracking_metrics`. Ignoring all data for metric MacroF1Activity.\n",
      "NoneType: None\n",
      "[ERROR 01-07 17:55:19] ax.core.observation: Data contains metric activity_accuracy that has not been added to the experiment. You can either update the `optimization_config` or attach it as a tracking metric using `Experiment.add_tracking_metrics` or `AxClient.add_tracking_metrics`. Ignoring all data for metric activity_accuracy.\n",
      "NoneType: None\n",
      "[ERROR 01-07 17:55:19] ax.core.observation: Data contains metric resource_accuracy that has not been added to the experiment. You can either update the `optimization_config` or attach it as a tracking metric using `Experiment.add_tracking_metrics` or `AxClient.add_tracking_metrics`. Ignoring all data for metric resource_accuracy.\n",
      "NoneType: None\n",
      "[ERROR 01-07 17:55:19] ax.core.observation: Data contains metric resource_roles_accuracy that has not been added to the experiment. You can either update the `optimization_config` or attach it as a tracking metric using `Experiment.add_tracking_metrics` or `AxClient.add_tracking_metrics`. Ignoring all data for metric resource_roles_accuracy.\n",
      "NoneType: None\n",
      "[ERROR 01-07 17:55:19] ax.core.observation: Data contains metric MAE_timestamp that has not been added to the experiment. You can either update the `optimization_config` or attach it as a tracking metric using `Experiment.add_tracking_metrics` or `AxClient.add_tracking_metrics`. Ignoring all data for metric MAE_timestamp.\n",
      "NoneType: None\n",
      "[ERROR 01-07 17:55:19] ax.core.observation: Data contains metric MacroF1Activity that has not been added to the experiment. You can either update the `optimization_config` or attach it as a tracking metric using `Experiment.add_tracking_metrics` or `AxClient.add_tracking_metrics`. Ignoring all data for metric MacroF1Activity.\n",
      "NoneType: None\n",
      "[ERROR 01-07 17:55:19] ax.core.observation: Data contains metric activity_accuracy that has not been added to the experiment. You can either update the `optimization_config` or attach it as a tracking metric using `Experiment.add_tracking_metrics` or `AxClient.add_tracking_metrics`. Ignoring all data for metric activity_accuracy.\n",
      "NoneType: None\n",
      "[ERROR 01-07 17:55:19] ax.core.observation: Data contains metric resource_accuracy that has not been added to the experiment. You can either update the `optimization_config` or attach it as a tracking metric using `Experiment.add_tracking_metrics` or `AxClient.add_tracking_metrics`. Ignoring all data for metric resource_accuracy.\n",
      "NoneType: None\n",
      "[ERROR 01-07 17:55:19] ax.core.observation: Data contains metric resource_roles_accuracy that has not been added to the experiment. You can either update the `optimization_config` or attach it as a tracking metric using `Experiment.add_tracking_metrics` or `AxClient.add_tracking_metrics`. Ignoring all data for metric resource_roles_accuracy.\n",
      "NoneType: None\n",
      "[ERROR 01-07 17:55:19] ax.core.observation: Data contains metric MAE_timestamp that has not been added to the experiment. You can either update the `optimization_config` or attach it as a tracking metric using `Experiment.add_tracking_metrics` or `AxClient.add_tracking_metrics`. Ignoring all data for metric MAE_timestamp.\n",
      "NoneType: None\n",
      "[ERROR 01-07 17:55:19] ax.core.observation: Data contains metric MacroF1Activity that has not been added to the experiment. You can either update the `optimization_config` or attach it as a tracking metric using `Experiment.add_tracking_metrics` or `AxClient.add_tracking_metrics`. Ignoring all data for metric MacroF1Activity.\n",
      "NoneType: None\n",
      "[ERROR 01-07 17:55:19] ax.core.observation: Data contains metric activity_accuracy that has not been added to the experiment. You can either update the `optimization_config` or attach it as a tracking metric using `Experiment.add_tracking_metrics` or `AxClient.add_tracking_metrics`. Ignoring all data for metric activity_accuracy.\n",
      "NoneType: None\n",
      "[ERROR 01-07 17:55:19] ax.core.observation: Data contains metric resource_accuracy that has not been added to the experiment. You can either update the `optimization_config` or attach it as a tracking metric using `Experiment.add_tracking_metrics` or `AxClient.add_tracking_metrics`. Ignoring all data for metric resource_accuracy.\n",
      "NoneType: None\n",
      "[ERROR 01-07 17:55:19] ax.core.observation: Data contains metric resource_roles_accuracy that has not been added to the experiment. You can either update the `optimization_config` or attach it as a tracking metric using `Experiment.add_tracking_metrics` or `AxClient.add_tracking_metrics`. Ignoring all data for metric resource_roles_accuracy.\n",
      "NoneType: None\n"
     ]
    },
    {
     "name": "stdout",
     "output_type": "stream",
     "text": [
      "{'lr': 0.005120486377634884, 'batch_size': 256, 'heads': 4, 'hid': 128, 'layers': 2, 'aggregation': 'max'}\n",
      "Epoch: 0\n",
      "\n"
     ]
    },
    {
     "name": "stderr",
     "output_type": "stream",
     "text": [
      "WARNING:root:Warning: Some classes do not exist in the target. F1 scores for these classes will be cast to zeros.\n"
     ]
    },
    {
     "name": "stdout",
     "output_type": "stream",
     "text": [
      "\n",
      "VALIDATION\n",
      "ACTIVITY: acc 0.5975 MacroF1 0.5717\n",
      "TIMESTAMP: MAE 0.0941\n",
      "RESOURCE: acc 0.3105\n",
      "RESOURCE_ROLE: acc 0.7848\n",
      "TOTAL_LOSS: 4.0859\n",
      "epoch time 14.900580883026123s\n",
      "\n",
      "Epoch: 1\n",
      "\n"
     ]
    },
    {
     "name": "stderr",
     "output_type": "stream",
     "text": [
      "WARNING:root:Warning: Some classes do not exist in the target. F1 scores for these classes will be cast to zeros.\n"
     ]
    },
    {
     "name": "stdout",
     "output_type": "stream",
     "text": [
      "\n",
      "VALIDATION\n",
      "ACTIVITY: acc 0.6406 MacroF1 0.6022\n",
      "TIMESTAMP: MAE 0.2404\n",
      "RESOURCE: acc 0.3992\n",
      "RESOURCE_ROLE: acc 0.7848\n",
      "TOTAL_LOSS: 4.0257\n",
      "epoch time 15.04301905632019s\n",
      "\n",
      "new best model found\n",
      "Epoch: 2\n",
      "\n"
     ]
    },
    {
     "name": "stderr",
     "output_type": "stream",
     "text": [
      "WARNING:root:Warning: Some classes do not exist in the target. F1 scores for these classes will be cast to zeros.\n"
     ]
    },
    {
     "name": "stdout",
     "output_type": "stream",
     "text": [
      "\n",
      "VALIDATION\n",
      "ACTIVITY: acc 0.6366 MacroF1 0.5457\n",
      "TIMESTAMP: MAE 0.3807\n",
      "RESOURCE: acc 0.4372\n",
      "RESOURCE_ROLE: acc 0.7862\n",
      "TOTAL_LOSS: 4.0328\n",
      "epoch time 16.46085548400879s\n",
      "\n",
      "Epoch: 3\n",
      "\n"
     ]
    },
    {
     "name": "stderr",
     "output_type": "stream",
     "text": [
      "WARNING:root:Warning: Some classes do not exist in the target. F1 scores for these classes will be cast to zeros.\n"
     ]
    },
    {
     "name": "stdout",
     "output_type": "stream",
     "text": [
      "\n",
      "VALIDATION\n",
      "ACTIVITY: acc 0.6516 MacroF1 0.5996\n",
      "TIMESTAMP: MAE 0.1715\n",
      "RESOURCE: acc 0.5060\n",
      "RESOURCE_ROLE: acc 0.7862\n",
      "TOTAL_LOSS: 3.6181\n",
      "epoch time 16.478795528411865s\n",
      "\n",
      "new best model found\n",
      "Epoch: 4\n",
      "\n"
     ]
    },
    {
     "name": "stderr",
     "output_type": "stream",
     "text": [
      "WARNING:root:Warning: Some classes do not exist in the target. F1 scores for these classes will be cast to zeros.\n"
     ]
    },
    {
     "name": "stdout",
     "output_type": "stream",
     "text": [
      "\n",
      "VALIDATION\n",
      "ACTIVITY: acc 0.6590 MacroF1 0.6116\n",
      "TIMESTAMP: MAE 0.2908\n",
      "RESOURCE: acc 0.5143\n",
      "RESOURCE_ROLE: acc 0.7860\n",
      "TOTAL_LOSS: 3.6624\n",
      "epoch time 16.32991099357605s\n",
      "\n",
      "Epoch: 5\n",
      "\n"
     ]
    },
    {
     "name": "stderr",
     "output_type": "stream",
     "text": [
      "WARNING:root:Warning: Some classes do not exist in the target. F1 scores for these classes will be cast to zeros.\n"
     ]
    },
    {
     "name": "stdout",
     "output_type": "stream",
     "text": [
      "\n",
      "VALIDATION\n",
      "ACTIVITY: acc 0.6565 MacroF1 0.6041\n",
      "TIMESTAMP: MAE 0.0838\n",
      "RESOURCE: acc 0.5335\n",
      "RESOURCE_ROLE: acc 0.7860\n",
      "TOTAL_LOSS: 3.3769\n",
      "epoch time 16.247477531433105s\n",
      "\n",
      "new best model found\n",
      "Epoch: 6\n",
      "\n"
     ]
    },
    {
     "name": "stderr",
     "output_type": "stream",
     "text": [
      "WARNING:root:Warning: Some classes do not exist in the target. F1 scores for these classes will be cast to zeros.\n"
     ]
    },
    {
     "name": "stdout",
     "output_type": "stream",
     "text": [
      "\n",
      "VALIDATION\n",
      "ACTIVITY: acc 0.6535 MacroF1 0.6052\n",
      "TIMESTAMP: MAE 0.3150\n",
      "RESOURCE: acc 0.5323\n",
      "RESOURCE_ROLE: acc 0.7862\n",
      "TOTAL_LOSS: 3.5770\n",
      "epoch time 16.220268726348877s\n",
      "\n",
      "Epoch: 7\n",
      "\n"
     ]
    },
    {
     "name": "stderr",
     "output_type": "stream",
     "text": [
      "WARNING:root:Warning: Some classes do not exist in the target. F1 scores for these classes will be cast to zeros.\n"
     ]
    },
    {
     "name": "stdout",
     "output_type": "stream",
     "text": [
      "\n",
      "VALIDATION\n",
      "ACTIVITY: acc 0.6516 MacroF1 0.5996\n",
      "TIMESTAMP: MAE 0.0986\n",
      "RESOURCE: acc 0.5384\n",
      "RESOURCE_ROLE: acc 0.7860\n",
      "TOTAL_LOSS: 3.3553\n",
      "epoch time 16.06284761428833s\n",
      "\n",
      "new best model found\n",
      "Epoch: 8\n",
      "\n"
     ]
    },
    {
     "name": "stderr",
     "output_type": "stream",
     "text": [
      "WARNING:root:Warning: Some classes do not exist in the target. F1 scores for these classes will be cast to zeros.\n"
     ]
    },
    {
     "name": "stdout",
     "output_type": "stream",
     "text": [
      "\n",
      "VALIDATION\n",
      "ACTIVITY: acc 0.6747 MacroF1 0.6498\n",
      "TIMESTAMP: MAE 0.1309\n",
      "RESOURCE: acc 0.5340\n",
      "RESOURCE_ROLE: acc 0.7862\n",
      "TOTAL_LOSS: 3.4016\n",
      "epoch time 16.329474449157715s\n",
      "\n",
      "Epoch: 9\n",
      "\n"
     ]
    },
    {
     "name": "stderr",
     "output_type": "stream",
     "text": [
      "WARNING:root:Warning: Some classes do not exist in the target. F1 scores for these classes will be cast to zeros.\n"
     ]
    },
    {
     "name": "stdout",
     "output_type": "stream",
     "text": [
      "\n",
      "VALIDATION\n",
      "ACTIVITY: acc 0.6665 MacroF1 0.6252\n",
      "TIMESTAMP: MAE 0.1952\n",
      "RESOURCE: acc 0.5384\n",
      "RESOURCE_ROLE: acc 0.7862\n",
      "TOTAL_LOSS: 3.4557\n",
      "epoch time 16.938727855682373s\n",
      "\n",
      "Epoch: 10\n",
      "\n"
     ]
    },
    {
     "name": "stderr",
     "output_type": "stream",
     "text": [
      "WARNING:root:Warning: Some classes do not exist in the target. F1 scores for these classes will be cast to zeros.\n"
     ]
    },
    {
     "name": "stdout",
     "output_type": "stream",
     "text": [
      "\n",
      "VALIDATION\n",
      "ACTIVITY: acc 0.6796 MacroF1 0.6565\n",
      "TIMESTAMP: MAE 0.1066\n",
      "RESOURCE: acc 0.5359\n",
      "RESOURCE_ROLE: acc 0.7860\n",
      "TOTAL_LOSS: 3.3658\n",
      "epoch time 16.733314514160156s\n",
      "\n",
      "Epoch: 11\n",
      "\n"
     ]
    },
    {
     "name": "stderr",
     "output_type": "stream",
     "text": [
      "WARNING:root:Warning: Some classes do not exist in the target. F1 scores for these classes will be cast to zeros.\n"
     ]
    },
    {
     "name": "stdout",
     "output_type": "stream",
     "text": [
      "\n",
      "VALIDATION\n",
      "ACTIVITY: acc 0.6641 MacroF1 0.6238\n",
      "TIMESTAMP: MAE 0.1424\n",
      "RESOURCE: acc 0.5344\n",
      "RESOURCE_ROLE: acc 0.7860\n",
      "TOTAL_LOSS: 3.4181\n",
      "epoch time 16.526426315307617s\n",
      "\n",
      "Epoch: 12\n",
      "\n"
     ]
    },
    {
     "name": "stderr",
     "output_type": "stream",
     "text": [
      "WARNING:root:Warning: Some classes do not exist in the target. F1 scores for these classes will be cast to zeros.\n"
     ]
    },
    {
     "name": "stdout",
     "output_type": "stream",
     "text": [
      "\n",
      "VALIDATION\n",
      "ACTIVITY: acc 0.6715 MacroF1 0.6401\n",
      "TIMESTAMP: MAE 0.2266\n",
      "RESOURCE: acc 0.5376\n",
      "RESOURCE_ROLE: acc 0.7860\n",
      "TOTAL_LOSS: 3.4765\n",
      "epoch time 16.463430166244507s\n",
      "\n",
      "Validation performance didn't improve for 5 epochs. Training stops.\n"
     ]
    },
    {
     "name": "stderr",
     "output_type": "stream",
     "text": [
      "WARNING:root:Warning: Some classes do not exist in the target. F1 scores for these classes will be cast to zeros.\n",
      "[INFO 01-07 17:59:02] ax.core.experiment: Attached data has some metrics ({'activity_accuracy', 'MAE_timestamp', 'resource_roles_accuracy', 'MacroF1Activity', 'resource_accuracy'}) that are not among the metrics on this experiment. Note that attaching data will not automatically add those metrics to the experiment. For these metrics to be automatically fetched by `experiment.fetch_data`, add them via `experiment.add_tracking_metric` or update the experiment's optimization config.\n",
      "[INFO 01-07 17:59:02] ax.service.managed_loop: Running optimization trial 8...\n",
      "[ERROR 01-07 17:59:02] ax.core.observation: Data contains metric MAE_timestamp that has not been added to the experiment. You can either update the `optimization_config` or attach it as a tracking metric using `Experiment.add_tracking_metrics` or `AxClient.add_tracking_metrics`. Ignoring all data for metric MAE_timestamp.\n",
      "NoneType: None\n",
      "[ERROR 01-07 17:59:02] ax.core.observation: Data contains metric MacroF1Activity that has not been added to the experiment. You can either update the `optimization_config` or attach it as a tracking metric using `Experiment.add_tracking_metrics` or `AxClient.add_tracking_metrics`. Ignoring all data for metric MacroF1Activity.\n",
      "NoneType: None\n",
      "[ERROR 01-07 17:59:02] ax.core.observation: Data contains metric activity_accuracy that has not been added to the experiment. You can either update the `optimization_config` or attach it as a tracking metric using `Experiment.add_tracking_metrics` or `AxClient.add_tracking_metrics`. Ignoring all data for metric activity_accuracy.\n",
      "NoneType: None\n",
      "[ERROR 01-07 17:59:02] ax.core.observation: Data contains metric resource_accuracy that has not been added to the experiment. You can either update the `optimization_config` or attach it as a tracking metric using `Experiment.add_tracking_metrics` or `AxClient.add_tracking_metrics`. Ignoring all data for metric resource_accuracy.\n",
      "NoneType: None\n",
      "[ERROR 01-07 17:59:02] ax.core.observation: Data contains metric resource_roles_accuracy that has not been added to the experiment. You can either update the `optimization_config` or attach it as a tracking metric using `Experiment.add_tracking_metrics` or `AxClient.add_tracking_metrics`. Ignoring all data for metric resource_roles_accuracy.\n",
      "NoneType: None\n",
      "[ERROR 01-07 17:59:02] ax.core.observation: Data contains metric MAE_timestamp that has not been added to the experiment. You can either update the `optimization_config` or attach it as a tracking metric using `Experiment.add_tracking_metrics` or `AxClient.add_tracking_metrics`. Ignoring all data for metric MAE_timestamp.\n",
      "NoneType: None\n",
      "[ERROR 01-07 17:59:02] ax.core.observation: Data contains metric MacroF1Activity that has not been added to the experiment. You can either update the `optimization_config` or attach it as a tracking metric using `Experiment.add_tracking_metrics` or `AxClient.add_tracking_metrics`. Ignoring all data for metric MacroF1Activity.\n",
      "NoneType: None\n",
      "[ERROR 01-07 17:59:02] ax.core.observation: Data contains metric activity_accuracy that has not been added to the experiment. You can either update the `optimization_config` or attach it as a tracking metric using `Experiment.add_tracking_metrics` or `AxClient.add_tracking_metrics`. Ignoring all data for metric activity_accuracy.\n",
      "NoneType: None\n",
      "[ERROR 01-07 17:59:02] ax.core.observation: Data contains metric resource_accuracy that has not been added to the experiment. You can either update the `optimization_config` or attach it as a tracking metric using `Experiment.add_tracking_metrics` or `AxClient.add_tracking_metrics`. Ignoring all data for metric resource_accuracy.\n",
      "NoneType: None\n",
      "[ERROR 01-07 17:59:02] ax.core.observation: Data contains metric resource_roles_accuracy that has not been added to the experiment. You can either update the `optimization_config` or attach it as a tracking metric using `Experiment.add_tracking_metrics` or `AxClient.add_tracking_metrics`. Ignoring all data for metric resource_roles_accuracy.\n",
      "NoneType: None\n",
      "[ERROR 01-07 17:59:02] ax.core.observation: Data contains metric MAE_timestamp that has not been added to the experiment. You can either update the `optimization_config` or attach it as a tracking metric using `Experiment.add_tracking_metrics` or `AxClient.add_tracking_metrics`. Ignoring all data for metric MAE_timestamp.\n",
      "NoneType: None\n",
      "[ERROR 01-07 17:59:02] ax.core.observation: Data contains metric MacroF1Activity that has not been added to the experiment. You can either update the `optimization_config` or attach it as a tracking metric using `Experiment.add_tracking_metrics` or `AxClient.add_tracking_metrics`. Ignoring all data for metric MacroF1Activity.\n",
      "NoneType: None\n",
      "[ERROR 01-07 17:59:02] ax.core.observation: Data contains metric activity_accuracy that has not been added to the experiment. You can either update the `optimization_config` or attach it as a tracking metric using `Experiment.add_tracking_metrics` or `AxClient.add_tracking_metrics`. Ignoring all data for metric activity_accuracy.\n",
      "NoneType: None\n",
      "[ERROR 01-07 17:59:02] ax.core.observation: Data contains metric resource_accuracy that has not been added to the experiment. You can either update the `optimization_config` or attach it as a tracking metric using `Experiment.add_tracking_metrics` or `AxClient.add_tracking_metrics`. Ignoring all data for metric resource_accuracy.\n",
      "NoneType: None\n",
      "[ERROR 01-07 17:59:02] ax.core.observation: Data contains metric resource_roles_accuracy that has not been added to the experiment. You can either update the `optimization_config` or attach it as a tracking metric using `Experiment.add_tracking_metrics` or `AxClient.add_tracking_metrics`. Ignoring all data for metric resource_roles_accuracy.\n",
      "NoneType: None\n",
      "[ERROR 01-07 17:59:02] ax.core.observation: Data contains metric MAE_timestamp that has not been added to the experiment. You can either update the `optimization_config` or attach it as a tracking metric using `Experiment.add_tracking_metrics` or `AxClient.add_tracking_metrics`. Ignoring all data for metric MAE_timestamp.\n",
      "NoneType: None\n",
      "[ERROR 01-07 17:59:02] ax.core.observation: Data contains metric MacroF1Activity that has not been added to the experiment. You can either update the `optimization_config` or attach it as a tracking metric using `Experiment.add_tracking_metrics` or `AxClient.add_tracking_metrics`. Ignoring all data for metric MacroF1Activity.\n",
      "NoneType: None\n",
      "[ERROR 01-07 17:59:02] ax.core.observation: Data contains metric activity_accuracy that has not been added to the experiment. You can either update the `optimization_config` or attach it as a tracking metric using `Experiment.add_tracking_metrics` or `AxClient.add_tracking_metrics`. Ignoring all data for metric activity_accuracy.\n",
      "NoneType: None\n",
      "[ERROR 01-07 17:59:02] ax.core.observation: Data contains metric resource_accuracy that has not been added to the experiment. You can either update the `optimization_config` or attach it as a tracking metric using `Experiment.add_tracking_metrics` or `AxClient.add_tracking_metrics`. Ignoring all data for metric resource_accuracy.\n",
      "NoneType: None\n",
      "[ERROR 01-07 17:59:02] ax.core.observation: Data contains metric resource_roles_accuracy that has not been added to the experiment. You can either update the `optimization_config` or attach it as a tracking metric using `Experiment.add_tracking_metrics` or `AxClient.add_tracking_metrics`. Ignoring all data for metric resource_roles_accuracy.\n",
      "NoneType: None\n",
      "[ERROR 01-07 17:59:02] ax.core.observation: Data contains metric MAE_timestamp that has not been added to the experiment. You can either update the `optimization_config` or attach it as a tracking metric using `Experiment.add_tracking_metrics` or `AxClient.add_tracking_metrics`. Ignoring all data for metric MAE_timestamp.\n",
      "NoneType: None\n",
      "[ERROR 01-07 17:59:02] ax.core.observation: Data contains metric MacroF1Activity that has not been added to the experiment. You can either update the `optimization_config` or attach it as a tracking metric using `Experiment.add_tracking_metrics` or `AxClient.add_tracking_metrics`. Ignoring all data for metric MacroF1Activity.\n",
      "NoneType: None\n",
      "[ERROR 01-07 17:59:02] ax.core.observation: Data contains metric activity_accuracy that has not been added to the experiment. You can either update the `optimization_config` or attach it as a tracking metric using `Experiment.add_tracking_metrics` or `AxClient.add_tracking_metrics`. Ignoring all data for metric activity_accuracy.\n",
      "NoneType: None\n",
      "[ERROR 01-07 17:59:02] ax.core.observation: Data contains metric resource_accuracy that has not been added to the experiment. You can either update the `optimization_config` or attach it as a tracking metric using `Experiment.add_tracking_metrics` or `AxClient.add_tracking_metrics`. Ignoring all data for metric resource_accuracy.\n",
      "NoneType: None\n",
      "[ERROR 01-07 17:59:02] ax.core.observation: Data contains metric resource_roles_accuracy that has not been added to the experiment. You can either update the `optimization_config` or attach it as a tracking metric using `Experiment.add_tracking_metrics` or `AxClient.add_tracking_metrics`. Ignoring all data for metric resource_roles_accuracy.\n",
      "NoneType: None\n",
      "[ERROR 01-07 17:59:02] ax.core.observation: Data contains metric MAE_timestamp that has not been added to the experiment. You can either update the `optimization_config` or attach it as a tracking metric using `Experiment.add_tracking_metrics` or `AxClient.add_tracking_metrics`. Ignoring all data for metric MAE_timestamp.\n",
      "NoneType: None\n",
      "[ERROR 01-07 17:59:02] ax.core.observation: Data contains metric MacroF1Activity that has not been added to the experiment. You can either update the `optimization_config` or attach it as a tracking metric using `Experiment.add_tracking_metrics` or `AxClient.add_tracking_metrics`. Ignoring all data for metric MacroF1Activity.\n",
      "NoneType: None\n",
      "[ERROR 01-07 17:59:02] ax.core.observation: Data contains metric activity_accuracy that has not been added to the experiment. You can either update the `optimization_config` or attach it as a tracking metric using `Experiment.add_tracking_metrics` or `AxClient.add_tracking_metrics`. Ignoring all data for metric activity_accuracy.\n",
      "NoneType: None\n",
      "[ERROR 01-07 17:59:02] ax.core.observation: Data contains metric resource_accuracy that has not been added to the experiment. You can either update the `optimization_config` or attach it as a tracking metric using `Experiment.add_tracking_metrics` or `AxClient.add_tracking_metrics`. Ignoring all data for metric resource_accuracy.\n",
      "NoneType: None\n",
      "[ERROR 01-07 17:59:02] ax.core.observation: Data contains metric resource_roles_accuracy that has not been added to the experiment. You can either update the `optimization_config` or attach it as a tracking metric using `Experiment.add_tracking_metrics` or `AxClient.add_tracking_metrics`. Ignoring all data for metric resource_roles_accuracy.\n",
      "NoneType: None\n",
      "[ERROR 01-07 17:59:02] ax.core.observation: Data contains metric MAE_timestamp that has not been added to the experiment. You can either update the `optimization_config` or attach it as a tracking metric using `Experiment.add_tracking_metrics` or `AxClient.add_tracking_metrics`. Ignoring all data for metric MAE_timestamp.\n",
      "NoneType: None\n",
      "[ERROR 01-07 17:59:02] ax.core.observation: Data contains metric MacroF1Activity that has not been added to the experiment. You can either update the `optimization_config` or attach it as a tracking metric using `Experiment.add_tracking_metrics` or `AxClient.add_tracking_metrics`. Ignoring all data for metric MacroF1Activity.\n",
      "NoneType: None\n",
      "[ERROR 01-07 17:59:02] ax.core.observation: Data contains metric activity_accuracy that has not been added to the experiment. You can either update the `optimization_config` or attach it as a tracking metric using `Experiment.add_tracking_metrics` or `AxClient.add_tracking_metrics`. Ignoring all data for metric activity_accuracy.\n",
      "NoneType: None\n",
      "[ERROR 01-07 17:59:02] ax.core.observation: Data contains metric resource_accuracy that has not been added to the experiment. You can either update the `optimization_config` or attach it as a tracking metric using `Experiment.add_tracking_metrics` or `AxClient.add_tracking_metrics`. Ignoring all data for metric resource_accuracy.\n",
      "NoneType: None\n",
      "[ERROR 01-07 17:59:02] ax.core.observation: Data contains metric resource_roles_accuracy that has not been added to the experiment. You can either update the `optimization_config` or attach it as a tracking metric using `Experiment.add_tracking_metrics` or `AxClient.add_tracking_metrics`. Ignoring all data for metric resource_roles_accuracy.\n",
      "NoneType: None\n"
     ]
    },
    {
     "name": "stdout",
     "output_type": "stream",
     "text": [
      "{'lr': 0.1, 'batch_size': 1024, 'heads': 1, 'hid': 128, 'layers': 2, 'aggregation': 'max'}\n",
      "Epoch: 0\n",
      "\n"
     ]
    },
    {
     "name": "stderr",
     "output_type": "stream",
     "text": [
      "WARNING:root:Warning: Some classes do not exist in the target. F1 scores for these classes will be cast to zeros.\n"
     ]
    },
    {
     "name": "stdout",
     "output_type": "stream",
     "text": [
      "\n",
      "VALIDATION\n",
      "ACTIVITY: acc 0.2726 MacroF1 0.2560\n",
      "TIMESTAMP: MAE 3.5713\n",
      "RESOURCE: acc 0.3617\n",
      "RESOURCE_ROLE: acc 0.7803\n",
      "TOTAL_LOSS: 8.3822\n",
      "epoch time 14.713318824768066s\n",
      "\n",
      "Epoch: 1\n",
      "\n"
     ]
    },
    {
     "name": "stderr",
     "output_type": "stream",
     "text": [
      "WARNING:root:Warning: Some classes do not exist in the target. F1 scores for these classes will be cast to zeros.\n"
     ]
    },
    {
     "name": "stdout",
     "output_type": "stream",
     "text": [
      "\n",
      "VALIDATION\n",
      "ACTIVITY: acc 0.5033 MacroF1 0.4928\n",
      "TIMESTAMP: MAE 5.3333\n",
      "RESOURCE: acc 0.4066\n",
      "RESOURCE_ROLE: acc 0.7820\n",
      "TOTAL_LOSS: 9.4430\n",
      "epoch time 12.309598207473755s\n",
      "\n",
      "Epoch: 2\n",
      "\n"
     ]
    },
    {
     "name": "stderr",
     "output_type": "stream",
     "text": [
      "WARNING:root:Warning: Some classes do not exist in the target. F1 scores for these classes will be cast to zeros.\n"
     ]
    },
    {
     "name": "stdout",
     "output_type": "stream",
     "text": [
      "\n",
      "VALIDATION\n",
      "ACTIVITY: acc 0.6343 MacroF1 0.5332\n",
      "TIMESTAMP: MAE 0.2197\n",
      "RESOURCE: acc 0.4163\n",
      "RESOURCE_ROLE: acc 0.7858\n",
      "TOTAL_LOSS: 3.9890\n",
      "epoch time 12.153493642807007s\n",
      "\n",
      "new best model found\n",
      "Epoch: 3\n",
      "\n"
     ]
    },
    {
     "name": "stderr",
     "output_type": "stream",
     "text": [
      "WARNING:root:Warning: Some classes do not exist in the target. F1 scores for these classes will be cast to zeros.\n"
     ]
    },
    {
     "name": "stdout",
     "output_type": "stream",
     "text": [
      "\n",
      "VALIDATION\n",
      "ACTIVITY: acc 0.6588 MacroF1 0.6177\n",
      "TIMESTAMP: MAE 0.5959\n",
      "RESOURCE: acc 0.4252\n",
      "RESOURCE_ROLE: acc 0.7862\n",
      "TOTAL_LOSS: 4.3458\n",
      "epoch time 12.08466649055481s\n",
      "\n",
      "Epoch: 4\n",
      "\n"
     ]
    },
    {
     "name": "stderr",
     "output_type": "stream",
     "text": [
      "WARNING:root:Warning: Some classes do not exist in the target. F1 scores for these classes will be cast to zeros.\n"
     ]
    },
    {
     "name": "stdout",
     "output_type": "stream",
     "text": [
      "\n",
      "VALIDATION\n",
      "ACTIVITY: acc 0.6533 MacroF1 0.6003\n",
      "TIMESTAMP: MAE 0.1384\n",
      "RESOURCE: acc 0.4417\n",
      "RESOURCE_ROLE: acc 0.7846\n",
      "TOTAL_LOSS: 3.8669\n",
      "epoch time 12.280837297439575s\n",
      "\n",
      "new best model found\n",
      "Epoch: 5\n",
      "\n"
     ]
    },
    {
     "name": "stderr",
     "output_type": "stream",
     "text": [
      "WARNING:root:Warning: Some classes do not exist in the target. F1 scores for these classes will be cast to zeros.\n"
     ]
    },
    {
     "name": "stdout",
     "output_type": "stream",
     "text": [
      "\n",
      "VALIDATION\n",
      "ACTIVITY: acc 0.6396 MacroF1 0.5591\n",
      "TIMESTAMP: MAE 0.4984\n",
      "RESOURCE: acc 0.4347\n",
      "RESOURCE_ROLE: acc 0.7854\n",
      "TOTAL_LOSS: 4.1562\n",
      "epoch time 12.177761316299438s\n",
      "\n",
      "Epoch: 6\n",
      "\n"
     ]
    },
    {
     "name": "stderr",
     "output_type": "stream",
     "text": [
      "WARNING:root:Warning: Some classes do not exist in the target. F1 scores for these classes will be cast to zeros.\n"
     ]
    },
    {
     "name": "stdout",
     "output_type": "stream",
     "text": [
      "\n",
      "VALIDATION\n",
      "ACTIVITY: acc 0.6590 MacroF1 0.6189\n",
      "TIMESTAMP: MAE 0.1843\n",
      "RESOURCE: acc 0.4347\n",
      "RESOURCE_ROLE: acc 0.7846\n",
      "TOTAL_LOSS: 3.8768\n",
      "epoch time 12.033288955688477s\n",
      "\n",
      "Epoch: 7\n",
      "\n"
     ]
    },
    {
     "name": "stderr",
     "output_type": "stream",
     "text": [
      "WARNING:root:Warning: Some classes do not exist in the target. F1 scores for these classes will be cast to zeros.\n"
     ]
    },
    {
     "name": "stdout",
     "output_type": "stream",
     "text": [
      "\n",
      "VALIDATION\n",
      "ACTIVITY: acc 0.6499 MacroF1 0.5996\n",
      "TIMESTAMP: MAE 0.1029\n",
      "RESOURCE: acc 0.4320\n",
      "RESOURCE_ROLE: acc 0.7862\n",
      "TOTAL_LOSS: 3.7764\n",
      "epoch time 11.975171327590942s\n",
      "\n",
      "new best model found\n",
      "Epoch: 8\n",
      "\n"
     ]
    },
    {
     "name": "stderr",
     "output_type": "stream",
     "text": [
      "WARNING:root:Warning: Some classes do not exist in the target. F1 scores for these classes will be cast to zeros.\n"
     ]
    },
    {
     "name": "stdout",
     "output_type": "stream",
     "text": [
      "\n",
      "VALIDATION\n",
      "ACTIVITY: acc 0.6538 MacroF1 0.6049\n",
      "TIMESTAMP: MAE 0.1387\n",
      "RESOURCE: acc 0.4538\n",
      "RESOURCE_ROLE: acc 0.7860\n",
      "TOTAL_LOSS: 3.7238\n",
      "epoch time 12.084408521652222s\n",
      "\n",
      "new best model found\n",
      "Epoch: 9\n",
      "\n"
     ]
    },
    {
     "name": "stderr",
     "output_type": "stream",
     "text": [
      "WARNING:root:Warning: Some classes do not exist in the target. F1 scores for these classes will be cast to zeros.\n"
     ]
    },
    {
     "name": "stdout",
     "output_type": "stream",
     "text": [
      "\n",
      "VALIDATION\n",
      "ACTIVITY: acc 0.6425 MacroF1 0.5782\n",
      "TIMESTAMP: MAE 0.1934\n",
      "RESOURCE: acc 0.4447\n",
      "RESOURCE_ROLE: acc 0.7835\n",
      "TOTAL_LOSS: 3.8394\n",
      "epoch time 12.066190481185913s\n",
      "\n",
      "Epoch: 10\n",
      "\n"
     ]
    },
    {
     "name": "stderr",
     "output_type": "stream",
     "text": [
      "WARNING:root:Warning: Some classes do not exist in the target. F1 scores for these classes will be cast to zeros.\n"
     ]
    },
    {
     "name": "stdout",
     "output_type": "stream",
     "text": [
      "\n",
      "VALIDATION\n",
      "ACTIVITY: acc 0.6559 MacroF1 0.6092\n",
      "TIMESTAMP: MAE 0.1644\n",
      "RESOURCE: acc 0.4457\n",
      "RESOURCE_ROLE: acc 0.7839\n",
      "TOTAL_LOSS: 3.7677\n",
      "epoch time 14.050687313079834s\n",
      "\n",
      "Epoch: 11\n",
      "\n"
     ]
    },
    {
     "name": "stderr",
     "output_type": "stream",
     "text": [
      "WARNING:root:Warning: Some classes do not exist in the target. F1 scores for these classes will be cast to zeros.\n"
     ]
    },
    {
     "name": "stdout",
     "output_type": "stream",
     "text": [
      "\n",
      "VALIDATION\n",
      "ACTIVITY: acc 0.6468 MacroF1 0.5862\n",
      "TIMESTAMP: MAE 0.1372\n",
      "RESOURCE: acc 0.4468\n",
      "RESOURCE_ROLE: acc 0.7862\n",
      "TOTAL_LOSS: 3.7063\n",
      "epoch time 12.095407485961914s\n",
      "\n",
      "new best model found\n",
      "Epoch: 12\n",
      "\n"
     ]
    },
    {
     "name": "stderr",
     "output_type": "stream",
     "text": [
      "WARNING:root:Warning: Some classes do not exist in the target. F1 scores for these classes will be cast to zeros.\n"
     ]
    },
    {
     "name": "stdout",
     "output_type": "stream",
     "text": [
      "\n",
      "VALIDATION\n",
      "ACTIVITY: acc 0.6554 MacroF1 0.6111\n",
      "TIMESTAMP: MAE 0.7664\n",
      "RESOURCE: acc 0.4442\n",
      "RESOURCE_ROLE: acc 0.7862\n",
      "TOTAL_LOSS: 4.3894\n",
      "epoch time 12.052979469299316s\n",
      "\n",
      "Epoch: 13\n",
      "\n"
     ]
    },
    {
     "name": "stderr",
     "output_type": "stream",
     "text": [
      "WARNING:root:Warning: Some classes do not exist in the target. F1 scores for these classes will be cast to zeros.\n"
     ]
    },
    {
     "name": "stdout",
     "output_type": "stream",
     "text": [
      "\n",
      "VALIDATION\n",
      "ACTIVITY: acc 0.6413 MacroF1 0.5575\n",
      "TIMESTAMP: MAE 1.4865\n",
      "RESOURCE: acc 0.4392\n",
      "RESOURCE_ROLE: acc 0.7862\n",
      "TOTAL_LOSS: 5.0786\n",
      "epoch time 12.257843255996704s\n",
      "\n",
      "Epoch: 14\n",
      "\n"
     ]
    },
    {
     "name": "stderr",
     "output_type": "stream",
     "text": [
      "WARNING:root:Warning: Some classes do not exist in the target. F1 scores for these classes will be cast to zeros.\n"
     ]
    },
    {
     "name": "stdout",
     "output_type": "stream",
     "text": [
      "\n",
      "VALIDATION\n",
      "ACTIVITY: acc 0.6544 MacroF1 0.6096\n",
      "TIMESTAMP: MAE 1.1502\n",
      "RESOURCE: acc 0.4457\n",
      "RESOURCE_ROLE: acc 0.7856\n",
      "TOTAL_LOSS: 4.7921\n",
      "epoch time 12.24533987045288s\n",
      "\n",
      "Epoch: 15\n",
      "\n"
     ]
    },
    {
     "name": "stderr",
     "output_type": "stream",
     "text": [
      "WARNING:root:Warning: Some classes do not exist in the target. F1 scores for these classes will be cast to zeros.\n"
     ]
    },
    {
     "name": "stdout",
     "output_type": "stream",
     "text": [
      "\n",
      "VALIDATION\n",
      "ACTIVITY: acc 0.6567 MacroF1 0.6145\n",
      "TIMESTAMP: MAE 1.1092\n",
      "RESOURCE: acc 0.4385\n",
      "RESOURCE_ROLE: acc 0.7822\n",
      "TOTAL_LOSS: 4.7195\n",
      "epoch time 12.300628900527954s\n",
      "\n",
      "Epoch: 16\n",
      "\n"
     ]
    },
    {
     "name": "stderr",
     "output_type": "stream",
     "text": [
      "WARNING:root:Warning: Some classes do not exist in the target. F1 scores for these classes will be cast to zeros.\n"
     ]
    },
    {
     "name": "stdout",
     "output_type": "stream",
     "text": [
      "\n",
      "VALIDATION\n",
      "ACTIVITY: acc 0.6540 MacroF1 0.6063\n",
      "TIMESTAMP: MAE 0.7566\n",
      "RESOURCE: acc 0.4411\n",
      "RESOURCE_ROLE: acc 0.7799\n",
      "TOTAL_LOSS: 4.3656\n",
      "epoch time 12.303056478500366s\n",
      "\n",
      "Validation performance didn't improve for 5 epochs. Training stops.\n"
     ]
    },
    {
     "name": "stderr",
     "output_type": "stream",
     "text": [
      "WARNING:root:Warning: Some classes do not exist in the target. F1 scores for these classes will be cast to zeros.\n",
      "[INFO 01-07 18:02:45] ax.core.experiment: Attached data has some metrics ({'activity_accuracy', 'MAE_timestamp', 'resource_roles_accuracy', 'MacroF1Activity', 'resource_accuracy'}) that are not among the metrics on this experiment. Note that attaching data will not automatically add those metrics to the experiment. For these metrics to be automatically fetched by `experiment.fetch_data`, add them via `experiment.add_tracking_metric` or update the experiment's optimization config.\n",
      "[INFO 01-07 18:02:45] ax.service.managed_loop: Running optimization trial 9...\n",
      "[ERROR 01-07 18:02:45] ax.core.observation: Data contains metric MAE_timestamp that has not been added to the experiment. You can either update the `optimization_config` or attach it as a tracking metric using `Experiment.add_tracking_metrics` or `AxClient.add_tracking_metrics`. Ignoring all data for metric MAE_timestamp.\n",
      "NoneType: None\n",
      "[ERROR 01-07 18:02:45] ax.core.observation: Data contains metric MacroF1Activity that has not been added to the experiment. You can either update the `optimization_config` or attach it as a tracking metric using `Experiment.add_tracking_metrics` or `AxClient.add_tracking_metrics`. Ignoring all data for metric MacroF1Activity.\n",
      "NoneType: None\n",
      "[ERROR 01-07 18:02:45] ax.core.observation: Data contains metric activity_accuracy that has not been added to the experiment. You can either update the `optimization_config` or attach it as a tracking metric using `Experiment.add_tracking_metrics` or `AxClient.add_tracking_metrics`. Ignoring all data for metric activity_accuracy.\n",
      "NoneType: None\n",
      "[ERROR 01-07 18:02:45] ax.core.observation: Data contains metric resource_accuracy that has not been added to the experiment. You can either update the `optimization_config` or attach it as a tracking metric using `Experiment.add_tracking_metrics` or `AxClient.add_tracking_metrics`. Ignoring all data for metric resource_accuracy.\n",
      "NoneType: None\n",
      "[ERROR 01-07 18:02:45] ax.core.observation: Data contains metric resource_roles_accuracy that has not been added to the experiment. You can either update the `optimization_config` or attach it as a tracking metric using `Experiment.add_tracking_metrics` or `AxClient.add_tracking_metrics`. Ignoring all data for metric resource_roles_accuracy.\n",
      "NoneType: None\n",
      "[ERROR 01-07 18:02:45] ax.core.observation: Data contains metric MAE_timestamp that has not been added to the experiment. You can either update the `optimization_config` or attach it as a tracking metric using `Experiment.add_tracking_metrics` or `AxClient.add_tracking_metrics`. Ignoring all data for metric MAE_timestamp.\n",
      "NoneType: None\n",
      "[ERROR 01-07 18:02:45] ax.core.observation: Data contains metric MacroF1Activity that has not been added to the experiment. You can either update the `optimization_config` or attach it as a tracking metric using `Experiment.add_tracking_metrics` or `AxClient.add_tracking_metrics`. Ignoring all data for metric MacroF1Activity.\n",
      "NoneType: None\n",
      "[ERROR 01-07 18:02:45] ax.core.observation: Data contains metric activity_accuracy that has not been added to the experiment. You can either update the `optimization_config` or attach it as a tracking metric using `Experiment.add_tracking_metrics` or `AxClient.add_tracking_metrics`. Ignoring all data for metric activity_accuracy.\n",
      "NoneType: None\n",
      "[ERROR 01-07 18:02:45] ax.core.observation: Data contains metric resource_accuracy that has not been added to the experiment. You can either update the `optimization_config` or attach it as a tracking metric using `Experiment.add_tracking_metrics` or `AxClient.add_tracking_metrics`. Ignoring all data for metric resource_accuracy.\n",
      "NoneType: None\n",
      "[ERROR 01-07 18:02:45] ax.core.observation: Data contains metric resource_roles_accuracy that has not been added to the experiment. You can either update the `optimization_config` or attach it as a tracking metric using `Experiment.add_tracking_metrics` or `AxClient.add_tracking_metrics`. Ignoring all data for metric resource_roles_accuracy.\n",
      "NoneType: None\n",
      "[ERROR 01-07 18:02:45] ax.core.observation: Data contains metric MAE_timestamp that has not been added to the experiment. You can either update the `optimization_config` or attach it as a tracking metric using `Experiment.add_tracking_metrics` or `AxClient.add_tracking_metrics`. Ignoring all data for metric MAE_timestamp.\n",
      "NoneType: None\n",
      "[ERROR 01-07 18:02:45] ax.core.observation: Data contains metric MacroF1Activity that has not been added to the experiment. You can either update the `optimization_config` or attach it as a tracking metric using `Experiment.add_tracking_metrics` or `AxClient.add_tracking_metrics`. Ignoring all data for metric MacroF1Activity.\n",
      "NoneType: None\n",
      "[ERROR 01-07 18:02:45] ax.core.observation: Data contains metric activity_accuracy that has not been added to the experiment. You can either update the `optimization_config` or attach it as a tracking metric using `Experiment.add_tracking_metrics` or `AxClient.add_tracking_metrics`. Ignoring all data for metric activity_accuracy.\n",
      "NoneType: None\n",
      "[ERROR 01-07 18:02:45] ax.core.observation: Data contains metric resource_accuracy that has not been added to the experiment. You can either update the `optimization_config` or attach it as a tracking metric using `Experiment.add_tracking_metrics` or `AxClient.add_tracking_metrics`. Ignoring all data for metric resource_accuracy.\n",
      "NoneType: None\n",
      "[ERROR 01-07 18:02:45] ax.core.observation: Data contains metric resource_roles_accuracy that has not been added to the experiment. You can either update the `optimization_config` or attach it as a tracking metric using `Experiment.add_tracking_metrics` or `AxClient.add_tracking_metrics`. Ignoring all data for metric resource_roles_accuracy.\n",
      "NoneType: None\n",
      "[ERROR 01-07 18:02:45] ax.core.observation: Data contains metric MAE_timestamp that has not been added to the experiment. You can either update the `optimization_config` or attach it as a tracking metric using `Experiment.add_tracking_metrics` or `AxClient.add_tracking_metrics`. Ignoring all data for metric MAE_timestamp.\n",
      "NoneType: None\n",
      "[ERROR 01-07 18:02:45] ax.core.observation: Data contains metric MacroF1Activity that has not been added to the experiment. You can either update the `optimization_config` or attach it as a tracking metric using `Experiment.add_tracking_metrics` or `AxClient.add_tracking_metrics`. Ignoring all data for metric MacroF1Activity.\n",
      "NoneType: None\n",
      "[ERROR 01-07 18:02:45] ax.core.observation: Data contains metric activity_accuracy that has not been added to the experiment. You can either update the `optimization_config` or attach it as a tracking metric using `Experiment.add_tracking_metrics` or `AxClient.add_tracking_metrics`. Ignoring all data for metric activity_accuracy.\n",
      "NoneType: None\n",
      "[ERROR 01-07 18:02:45] ax.core.observation: Data contains metric resource_accuracy that has not been added to the experiment. You can either update the `optimization_config` or attach it as a tracking metric using `Experiment.add_tracking_metrics` or `AxClient.add_tracking_metrics`. Ignoring all data for metric resource_accuracy.\n",
      "NoneType: None\n",
      "[ERROR 01-07 18:02:45] ax.core.observation: Data contains metric resource_roles_accuracy that has not been added to the experiment. You can either update the `optimization_config` or attach it as a tracking metric using `Experiment.add_tracking_metrics` or `AxClient.add_tracking_metrics`. Ignoring all data for metric resource_roles_accuracy.\n",
      "NoneType: None\n",
      "[ERROR 01-07 18:02:45] ax.core.observation: Data contains metric MAE_timestamp that has not been added to the experiment. You can either update the `optimization_config` or attach it as a tracking metric using `Experiment.add_tracking_metrics` or `AxClient.add_tracking_metrics`. Ignoring all data for metric MAE_timestamp.\n",
      "NoneType: None\n",
      "[ERROR 01-07 18:02:45] ax.core.observation: Data contains metric MacroF1Activity that has not been added to the experiment. You can either update the `optimization_config` or attach it as a tracking metric using `Experiment.add_tracking_metrics` or `AxClient.add_tracking_metrics`. Ignoring all data for metric MacroF1Activity.\n",
      "NoneType: None\n",
      "[ERROR 01-07 18:02:45] ax.core.observation: Data contains metric activity_accuracy that has not been added to the experiment. You can either update the `optimization_config` or attach it as a tracking metric using `Experiment.add_tracking_metrics` or `AxClient.add_tracking_metrics`. Ignoring all data for metric activity_accuracy.\n",
      "NoneType: None\n",
      "[ERROR 01-07 18:02:45] ax.core.observation: Data contains metric resource_accuracy that has not been added to the experiment. You can either update the `optimization_config` or attach it as a tracking metric using `Experiment.add_tracking_metrics` or `AxClient.add_tracking_metrics`. Ignoring all data for metric resource_accuracy.\n",
      "NoneType: None\n",
      "[ERROR 01-07 18:02:45] ax.core.observation: Data contains metric resource_roles_accuracy that has not been added to the experiment. You can either update the `optimization_config` or attach it as a tracking metric using `Experiment.add_tracking_metrics` or `AxClient.add_tracking_metrics`. Ignoring all data for metric resource_roles_accuracy.\n",
      "NoneType: None\n",
      "[ERROR 01-07 18:02:45] ax.core.observation: Data contains metric MAE_timestamp that has not been added to the experiment. You can either update the `optimization_config` or attach it as a tracking metric using `Experiment.add_tracking_metrics` or `AxClient.add_tracking_metrics`. Ignoring all data for metric MAE_timestamp.\n",
      "NoneType: None\n",
      "[ERROR 01-07 18:02:45] ax.core.observation: Data contains metric MacroF1Activity that has not been added to the experiment. You can either update the `optimization_config` or attach it as a tracking metric using `Experiment.add_tracking_metrics` or `AxClient.add_tracking_metrics`. Ignoring all data for metric MacroF1Activity.\n",
      "NoneType: None\n",
      "[ERROR 01-07 18:02:45] ax.core.observation: Data contains metric activity_accuracy that has not been added to the experiment. You can either update the `optimization_config` or attach it as a tracking metric using `Experiment.add_tracking_metrics` or `AxClient.add_tracking_metrics`. Ignoring all data for metric activity_accuracy.\n",
      "NoneType: None\n",
      "[ERROR 01-07 18:02:45] ax.core.observation: Data contains metric resource_accuracy that has not been added to the experiment. You can either update the `optimization_config` or attach it as a tracking metric using `Experiment.add_tracking_metrics` or `AxClient.add_tracking_metrics`. Ignoring all data for metric resource_accuracy.\n",
      "NoneType: None\n",
      "[ERROR 01-07 18:02:45] ax.core.observation: Data contains metric resource_roles_accuracy that has not been added to the experiment. You can either update the `optimization_config` or attach it as a tracking metric using `Experiment.add_tracking_metrics` or `AxClient.add_tracking_metrics`. Ignoring all data for metric resource_roles_accuracy.\n",
      "NoneType: None\n",
      "[ERROR 01-07 18:02:45] ax.core.observation: Data contains metric MAE_timestamp that has not been added to the experiment. You can either update the `optimization_config` or attach it as a tracking metric using `Experiment.add_tracking_metrics` or `AxClient.add_tracking_metrics`. Ignoring all data for metric MAE_timestamp.\n",
      "NoneType: None\n",
      "[ERROR 01-07 18:02:45] ax.core.observation: Data contains metric MacroF1Activity that has not been added to the experiment. You can either update the `optimization_config` or attach it as a tracking metric using `Experiment.add_tracking_metrics` or `AxClient.add_tracking_metrics`. Ignoring all data for metric MacroF1Activity.\n",
      "NoneType: None\n",
      "[ERROR 01-07 18:02:45] ax.core.observation: Data contains metric activity_accuracy that has not been added to the experiment. You can either update the `optimization_config` or attach it as a tracking metric using `Experiment.add_tracking_metrics` or `AxClient.add_tracking_metrics`. Ignoring all data for metric activity_accuracy.\n",
      "NoneType: None\n",
      "[ERROR 01-07 18:02:45] ax.core.observation: Data contains metric resource_accuracy that has not been added to the experiment. You can either update the `optimization_config` or attach it as a tracking metric using `Experiment.add_tracking_metrics` or `AxClient.add_tracking_metrics`. Ignoring all data for metric resource_accuracy.\n",
      "NoneType: None\n",
      "[ERROR 01-07 18:02:45] ax.core.observation: Data contains metric resource_roles_accuracy that has not been added to the experiment. You can either update the `optimization_config` or attach it as a tracking metric using `Experiment.add_tracking_metrics` or `AxClient.add_tracking_metrics`. Ignoring all data for metric resource_roles_accuracy.\n",
      "NoneType: None\n",
      "[ERROR 01-07 18:02:45] ax.core.observation: Data contains metric MAE_timestamp that has not been added to the experiment. You can either update the `optimization_config` or attach it as a tracking metric using `Experiment.add_tracking_metrics` or `AxClient.add_tracking_metrics`. Ignoring all data for metric MAE_timestamp.\n",
      "NoneType: None\n",
      "[ERROR 01-07 18:02:45] ax.core.observation: Data contains metric MacroF1Activity that has not been added to the experiment. You can either update the `optimization_config` or attach it as a tracking metric using `Experiment.add_tracking_metrics` or `AxClient.add_tracking_metrics`. Ignoring all data for metric MacroF1Activity.\n",
      "NoneType: None\n",
      "[ERROR 01-07 18:02:45] ax.core.observation: Data contains metric activity_accuracy that has not been added to the experiment. You can either update the `optimization_config` or attach it as a tracking metric using `Experiment.add_tracking_metrics` or `AxClient.add_tracking_metrics`. Ignoring all data for metric activity_accuracy.\n",
      "NoneType: None\n",
      "[ERROR 01-07 18:02:45] ax.core.observation: Data contains metric resource_accuracy that has not been added to the experiment. You can either update the `optimization_config` or attach it as a tracking metric using `Experiment.add_tracking_metrics` or `AxClient.add_tracking_metrics`. Ignoring all data for metric resource_accuracy.\n",
      "NoneType: None\n",
      "[ERROR 01-07 18:02:45] ax.core.observation: Data contains metric resource_roles_accuracy that has not been added to the experiment. You can either update the `optimization_config` or attach it as a tracking metric using `Experiment.add_tracking_metrics` or `AxClient.add_tracking_metrics`. Ignoring all data for metric resource_roles_accuracy.\n",
      "NoneType: None\n"
     ]
    },
    {
     "name": "stdout",
     "output_type": "stream",
     "text": [
      "{'lr': 0.003813023308202909, 'batch_size': 256, 'heads': 1, 'hid': 128, 'layers': 2, 'aggregation': 'max'}\n",
      "Epoch: 0\n",
      "\n"
     ]
    },
    {
     "name": "stderr",
     "output_type": "stream",
     "text": [
      "WARNING:root:Warning: Some classes do not exist in the target. F1 scores for these classes will be cast to zeros.\n"
     ]
    },
    {
     "name": "stdout",
     "output_type": "stream",
     "text": [
      "\n",
      "VALIDATION\n",
      "ACTIVITY: acc 0.5824 MacroF1 0.5108\n",
      "TIMESTAMP: MAE 0.0887\n",
      "RESOURCE: acc 0.3810\n",
      "RESOURCE_ROLE: acc 0.7848\n",
      "TOTAL_LOSS: 4.0614\n",
      "epoch time 14.800936222076416s\n",
      "\n",
      "Epoch: 1\n",
      "\n"
     ]
    },
    {
     "name": "stderr",
     "output_type": "stream",
     "text": [
      "WARNING:root:Warning: Some classes do not exist in the target. F1 scores for these classes will be cast to zeros.\n"
     ]
    },
    {
     "name": "stdout",
     "output_type": "stream",
     "text": [
      "\n",
      "VALIDATION\n",
      "ACTIVITY: acc 0.5833 MacroF1 0.5326\n",
      "TIMESTAMP: MAE 0.1006\n",
      "RESOURCE: acc 0.4434\n",
      "RESOURCE_ROLE: acc 0.7862\n",
      "TOTAL_LOSS: 3.7639\n",
      "epoch time 14.99267029762268s\n",
      "\n",
      "new best model found\n",
      "Epoch: 2\n",
      "\n"
     ]
    },
    {
     "name": "stderr",
     "output_type": "stream",
     "text": [
      "WARNING:root:Warning: Some classes do not exist in the target. F1 scores for these classes will be cast to zeros.\n"
     ]
    },
    {
     "name": "stdout",
     "output_type": "stream",
     "text": [
      "\n",
      "VALIDATION\n",
      "ACTIVITY: acc 0.6057 MacroF1 0.5928\n",
      "TIMESTAMP: MAE 0.2416\n",
      "RESOURCE: acc 0.5122\n",
      "RESOURCE_ROLE: acc 0.7862\n",
      "TOTAL_LOSS: 3.7314\n",
      "epoch time 15.106726169586182s\n",
      "\n",
      "new best model found\n",
      "Epoch: 3\n",
      "\n"
     ]
    },
    {
     "name": "stderr",
     "output_type": "stream",
     "text": [
      "WARNING:root:Warning: Some classes do not exist in the target. F1 scores for these classes will be cast to zeros.\n"
     ]
    },
    {
     "name": "stdout",
     "output_type": "stream",
     "text": [
      "\n",
      "VALIDATION\n",
      "ACTIVITY: acc 0.6660 MacroF1 0.6297\n",
      "TIMESTAMP: MAE 0.0917\n",
      "RESOURCE: acc 0.5234\n",
      "RESOURCE_ROLE: acc 0.7862\n",
      "TOTAL_LOSS: 3.4558\n",
      "epoch time 15.135073900222778s\n",
      "\n",
      "new best model found\n",
      "Epoch: 4\n",
      "\n"
     ]
    },
    {
     "name": "stderr",
     "output_type": "stream",
     "text": [
      "WARNING:root:Warning: Some classes do not exist in the target. F1 scores for these classes will be cast to zeros.\n"
     ]
    },
    {
     "name": "stdout",
     "output_type": "stream",
     "text": [
      "\n",
      "VALIDATION\n",
      "ACTIVITY: acc 0.6711 MacroF1 0.6504\n",
      "TIMESTAMP: MAE 0.1561\n",
      "RESOURCE: acc 0.5276\n",
      "RESOURCE_ROLE: acc 0.7860\n",
      "TOTAL_LOSS: 3.4629\n",
      "epoch time 14.627965450286865s\n",
      "\n",
      "Epoch: 5\n",
      "\n"
     ]
    },
    {
     "name": "stderr",
     "output_type": "stream",
     "text": [
      "WARNING:root:Warning: Some classes do not exist in the target. F1 scores for these classes will be cast to zeros.\n"
     ]
    },
    {
     "name": "stdout",
     "output_type": "stream",
     "text": [
      "\n",
      "VALIDATION\n",
      "ACTIVITY: acc 0.6756 MacroF1 0.6355\n",
      "TIMESTAMP: MAE 0.3030\n",
      "RESOURCE: acc 0.5346\n",
      "RESOURCE_ROLE: acc 0.7860\n",
      "TOTAL_LOSS: 3.5914\n",
      "epoch time 14.656710624694824s\n",
      "\n",
      "Epoch: 6\n",
      "\n"
     ]
    },
    {
     "name": "stderr",
     "output_type": "stream",
     "text": [
      "WARNING:root:Warning: Some classes do not exist in the target. F1 scores for these classes will be cast to zeros.\n"
     ]
    },
    {
     "name": "stdout",
     "output_type": "stream",
     "text": [
      "\n",
      "VALIDATION\n",
      "ACTIVITY: acc 0.6779 MacroF1 0.6508\n",
      "TIMESTAMP: MAE 0.0784\n",
      "RESOURCE: acc 0.5357\n",
      "RESOURCE_ROLE: acc 0.7860\n",
      "TOTAL_LOSS: 3.3564\n",
      "epoch time 15.034062385559082s\n",
      "\n",
      "new best model found\n",
      "Epoch: 7\n",
      "\n"
     ]
    },
    {
     "name": "stderr",
     "output_type": "stream",
     "text": [
      "WARNING:root:Warning: Some classes do not exist in the target. F1 scores for these classes will be cast to zeros.\n"
     ]
    },
    {
     "name": "stdout",
     "output_type": "stream",
     "text": [
      "\n",
      "VALIDATION\n",
      "ACTIVITY: acc 0.6684 MacroF1 0.6288\n",
      "TIMESTAMP: MAE 0.0572\n",
      "RESOURCE: acc 0.5363\n",
      "RESOURCE_ROLE: acc 0.7860\n",
      "TOTAL_LOSS: 3.2935\n",
      "epoch time 14.98435091972351s\n",
      "\n",
      "new best model found\n",
      "Epoch: 8\n",
      "\n"
     ]
    },
    {
     "name": "stderr",
     "output_type": "stream",
     "text": [
      "WARNING:root:Warning: Some classes do not exist in the target. F1 scores for these classes will be cast to zeros.\n"
     ]
    },
    {
     "name": "stdout",
     "output_type": "stream",
     "text": [
      "\n",
      "VALIDATION\n",
      "ACTIVITY: acc 0.6265 MacroF1 0.6196\n",
      "TIMESTAMP: MAE 0.0674\n",
      "RESOURCE: acc 0.5361\n",
      "RESOURCE_ROLE: acc 0.7860\n",
      "TOTAL_LOSS: 3.3255\n",
      "epoch time 14.534977674484253s\n",
      "\n",
      "Epoch: 9\n",
      "\n"
     ]
    },
    {
     "name": "stderr",
     "output_type": "stream",
     "text": [
      "WARNING:root:Warning: Some classes do not exist in the target. F1 scores for these classes will be cast to zeros.\n"
     ]
    },
    {
     "name": "stdout",
     "output_type": "stream",
     "text": [
      "\n",
      "VALIDATION\n",
      "ACTIVITY: acc 0.6681 MacroF1 0.6313\n",
      "TIMESTAMP: MAE 0.2374\n",
      "RESOURCE: acc 0.5357\n",
      "RESOURCE_ROLE: acc 0.7860\n",
      "TOTAL_LOSS: 3.4610\n",
      "epoch time 14.672710180282593s\n",
      "\n",
      "Epoch: 10\n",
      "\n"
     ]
    },
    {
     "name": "stderr",
     "output_type": "stream",
     "text": [
      "WARNING:root:Warning: Some classes do not exist in the target. F1 scores for these classes will be cast to zeros.\n"
     ]
    },
    {
     "name": "stdout",
     "output_type": "stream",
     "text": [
      "\n",
      "VALIDATION\n",
      "ACTIVITY: acc 0.6734 MacroF1 0.6461\n",
      "TIMESTAMP: MAE 0.1353\n",
      "RESOURCE: acc 0.5382\n",
      "RESOURCE_ROLE: acc 0.7860\n",
      "TOTAL_LOSS: 3.3801\n",
      "epoch time 14.605135440826416s\n",
      "\n",
      "Epoch: 11\n",
      "\n"
     ]
    },
    {
     "name": "stderr",
     "output_type": "stream",
     "text": [
      "WARNING:root:Warning: Some classes do not exist in the target. F1 scores for these classes will be cast to zeros.\n"
     ]
    },
    {
     "name": "stdout",
     "output_type": "stream",
     "text": [
      "\n",
      "VALIDATION\n",
      "ACTIVITY: acc 0.6612 MacroF1 0.5996\n",
      "TIMESTAMP: MAE 0.1362\n",
      "RESOURCE: acc 0.5371\n",
      "RESOURCE_ROLE: acc 0.7860\n",
      "TOTAL_LOSS: 3.3613\n",
      "epoch time 14.794377088546753s\n",
      "\n",
      "Epoch: 12\n",
      "\n"
     ]
    },
    {
     "name": "stderr",
     "output_type": "stream",
     "text": [
      "WARNING:root:Warning: Some classes do not exist in the target. F1 scores for these classes will be cast to zeros.\n"
     ]
    },
    {
     "name": "stdout",
     "output_type": "stream",
     "text": [
      "\n",
      "VALIDATION\n",
      "ACTIVITY: acc 0.6720 MacroF1 0.6422\n",
      "TIMESTAMP: MAE 0.1502\n",
      "RESOURCE: acc 0.5367\n",
      "RESOURCE_ROLE: acc 0.7860\n",
      "TOTAL_LOSS: 3.3878\n",
      "epoch time 15.375521898269653s\n",
      "\n",
      "Validation performance didn't improve for 5 epochs. Training stops.\n"
     ]
    },
    {
     "name": "stderr",
     "output_type": "stream",
     "text": [
      "WARNING:root:Warning: Some classes do not exist in the target. F1 scores for these classes will be cast to zeros.\n",
      "[INFO 01-07 18:06:10] ax.core.experiment: Attached data has some metrics ({'activity_accuracy', 'MAE_timestamp', 'resource_roles_accuracy', 'MacroF1Activity', 'resource_accuracy'}) that are not among the metrics on this experiment. Note that attaching data will not automatically add those metrics to the experiment. For these metrics to be automatically fetched by `experiment.fetch_data`, add them via `experiment.add_tracking_metric` or update the experiment's optimization config.\n",
      "[INFO 01-07 18:06:10] ax.service.managed_loop: Running optimization trial 10...\n",
      "[ERROR 01-07 18:06:10] ax.core.observation: Data contains metric MAE_timestamp that has not been added to the experiment. You can either update the `optimization_config` or attach it as a tracking metric using `Experiment.add_tracking_metrics` or `AxClient.add_tracking_metrics`. Ignoring all data for metric MAE_timestamp.\n",
      "NoneType: None\n",
      "[ERROR 01-07 18:06:10] ax.core.observation: Data contains metric MacroF1Activity that has not been added to the experiment. You can either update the `optimization_config` or attach it as a tracking metric using `Experiment.add_tracking_metrics` or `AxClient.add_tracking_metrics`. Ignoring all data for metric MacroF1Activity.\n",
      "NoneType: None\n",
      "[ERROR 01-07 18:06:10] ax.core.observation: Data contains metric activity_accuracy that has not been added to the experiment. You can either update the `optimization_config` or attach it as a tracking metric using `Experiment.add_tracking_metrics` or `AxClient.add_tracking_metrics`. Ignoring all data for metric activity_accuracy.\n",
      "NoneType: None\n",
      "[ERROR 01-07 18:06:10] ax.core.observation: Data contains metric resource_accuracy that has not been added to the experiment. You can either update the `optimization_config` or attach it as a tracking metric using `Experiment.add_tracking_metrics` or `AxClient.add_tracking_metrics`. Ignoring all data for metric resource_accuracy.\n",
      "NoneType: None\n",
      "[ERROR 01-07 18:06:10] ax.core.observation: Data contains metric resource_roles_accuracy that has not been added to the experiment. You can either update the `optimization_config` or attach it as a tracking metric using `Experiment.add_tracking_metrics` or `AxClient.add_tracking_metrics`. Ignoring all data for metric resource_roles_accuracy.\n",
      "NoneType: None\n",
      "[ERROR 01-07 18:06:10] ax.core.observation: Data contains metric MAE_timestamp that has not been added to the experiment. You can either update the `optimization_config` or attach it as a tracking metric using `Experiment.add_tracking_metrics` or `AxClient.add_tracking_metrics`. Ignoring all data for metric MAE_timestamp.\n",
      "NoneType: None\n",
      "[ERROR 01-07 18:06:10] ax.core.observation: Data contains metric MacroF1Activity that has not been added to the experiment. You can either update the `optimization_config` or attach it as a tracking metric using `Experiment.add_tracking_metrics` or `AxClient.add_tracking_metrics`. Ignoring all data for metric MacroF1Activity.\n",
      "NoneType: None\n",
      "[ERROR 01-07 18:06:10] ax.core.observation: Data contains metric activity_accuracy that has not been added to the experiment. You can either update the `optimization_config` or attach it as a tracking metric using `Experiment.add_tracking_metrics` or `AxClient.add_tracking_metrics`. Ignoring all data for metric activity_accuracy.\n",
      "NoneType: None\n",
      "[ERROR 01-07 18:06:10] ax.core.observation: Data contains metric resource_accuracy that has not been added to the experiment. You can either update the `optimization_config` or attach it as a tracking metric using `Experiment.add_tracking_metrics` or `AxClient.add_tracking_metrics`. Ignoring all data for metric resource_accuracy.\n",
      "NoneType: None\n",
      "[ERROR 01-07 18:06:10] ax.core.observation: Data contains metric resource_roles_accuracy that has not been added to the experiment. You can either update the `optimization_config` or attach it as a tracking metric using `Experiment.add_tracking_metrics` or `AxClient.add_tracking_metrics`. Ignoring all data for metric resource_roles_accuracy.\n",
      "NoneType: None\n",
      "[ERROR 01-07 18:06:10] ax.core.observation: Data contains metric MAE_timestamp that has not been added to the experiment. You can either update the `optimization_config` or attach it as a tracking metric using `Experiment.add_tracking_metrics` or `AxClient.add_tracking_metrics`. Ignoring all data for metric MAE_timestamp.\n",
      "NoneType: None\n",
      "[ERROR 01-07 18:06:10] ax.core.observation: Data contains metric MacroF1Activity that has not been added to the experiment. You can either update the `optimization_config` or attach it as a tracking metric using `Experiment.add_tracking_metrics` or `AxClient.add_tracking_metrics`. Ignoring all data for metric MacroF1Activity.\n",
      "NoneType: None\n",
      "[ERROR 01-07 18:06:10] ax.core.observation: Data contains metric activity_accuracy that has not been added to the experiment. You can either update the `optimization_config` or attach it as a tracking metric using `Experiment.add_tracking_metrics` or `AxClient.add_tracking_metrics`. Ignoring all data for metric activity_accuracy.\n",
      "NoneType: None\n",
      "[ERROR 01-07 18:06:10] ax.core.observation: Data contains metric resource_accuracy that has not been added to the experiment. You can either update the `optimization_config` or attach it as a tracking metric using `Experiment.add_tracking_metrics` or `AxClient.add_tracking_metrics`. Ignoring all data for metric resource_accuracy.\n",
      "NoneType: None\n",
      "[ERROR 01-07 18:06:10] ax.core.observation: Data contains metric resource_roles_accuracy that has not been added to the experiment. You can either update the `optimization_config` or attach it as a tracking metric using `Experiment.add_tracking_metrics` or `AxClient.add_tracking_metrics`. Ignoring all data for metric resource_roles_accuracy.\n",
      "NoneType: None\n",
      "[ERROR 01-07 18:06:10] ax.core.observation: Data contains metric MAE_timestamp that has not been added to the experiment. You can either update the `optimization_config` or attach it as a tracking metric using `Experiment.add_tracking_metrics` or `AxClient.add_tracking_metrics`. Ignoring all data for metric MAE_timestamp.\n",
      "NoneType: None\n",
      "[ERROR 01-07 18:06:10] ax.core.observation: Data contains metric MacroF1Activity that has not been added to the experiment. You can either update the `optimization_config` or attach it as a tracking metric using `Experiment.add_tracking_metrics` or `AxClient.add_tracking_metrics`. Ignoring all data for metric MacroF1Activity.\n",
      "NoneType: None\n",
      "[ERROR 01-07 18:06:10] ax.core.observation: Data contains metric activity_accuracy that has not been added to the experiment. You can either update the `optimization_config` or attach it as a tracking metric using `Experiment.add_tracking_metrics` or `AxClient.add_tracking_metrics`. Ignoring all data for metric activity_accuracy.\n",
      "NoneType: None\n",
      "[ERROR 01-07 18:06:10] ax.core.observation: Data contains metric resource_accuracy that has not been added to the experiment. You can either update the `optimization_config` or attach it as a tracking metric using `Experiment.add_tracking_metrics` or `AxClient.add_tracking_metrics`. Ignoring all data for metric resource_accuracy.\n",
      "NoneType: None\n",
      "[ERROR 01-07 18:06:10] ax.core.observation: Data contains metric resource_roles_accuracy that has not been added to the experiment. You can either update the `optimization_config` or attach it as a tracking metric using `Experiment.add_tracking_metrics` or `AxClient.add_tracking_metrics`. Ignoring all data for metric resource_roles_accuracy.\n",
      "NoneType: None\n",
      "[ERROR 01-07 18:06:10] ax.core.observation: Data contains metric MAE_timestamp that has not been added to the experiment. You can either update the `optimization_config` or attach it as a tracking metric using `Experiment.add_tracking_metrics` or `AxClient.add_tracking_metrics`. Ignoring all data for metric MAE_timestamp.\n",
      "NoneType: None\n",
      "[ERROR 01-07 18:06:10] ax.core.observation: Data contains metric MacroF1Activity that has not been added to the experiment. You can either update the `optimization_config` or attach it as a tracking metric using `Experiment.add_tracking_metrics` or `AxClient.add_tracking_metrics`. Ignoring all data for metric MacroF1Activity.\n",
      "NoneType: None\n",
      "[ERROR 01-07 18:06:10] ax.core.observation: Data contains metric activity_accuracy that has not been added to the experiment. You can either update the `optimization_config` or attach it as a tracking metric using `Experiment.add_tracking_metrics` or `AxClient.add_tracking_metrics`. Ignoring all data for metric activity_accuracy.\n",
      "NoneType: None\n",
      "[ERROR 01-07 18:06:10] ax.core.observation: Data contains metric resource_accuracy that has not been added to the experiment. You can either update the `optimization_config` or attach it as a tracking metric using `Experiment.add_tracking_metrics` or `AxClient.add_tracking_metrics`. Ignoring all data for metric resource_accuracy.\n",
      "NoneType: None\n",
      "[ERROR 01-07 18:06:10] ax.core.observation: Data contains metric resource_roles_accuracy that has not been added to the experiment. You can either update the `optimization_config` or attach it as a tracking metric using `Experiment.add_tracking_metrics` or `AxClient.add_tracking_metrics`. Ignoring all data for metric resource_roles_accuracy.\n",
      "NoneType: None\n",
      "[ERROR 01-07 18:06:10] ax.core.observation: Data contains metric MAE_timestamp that has not been added to the experiment. You can either update the `optimization_config` or attach it as a tracking metric using `Experiment.add_tracking_metrics` or `AxClient.add_tracking_metrics`. Ignoring all data for metric MAE_timestamp.\n",
      "NoneType: None\n",
      "[ERROR 01-07 18:06:10] ax.core.observation: Data contains metric MacroF1Activity that has not been added to the experiment. You can either update the `optimization_config` or attach it as a tracking metric using `Experiment.add_tracking_metrics` or `AxClient.add_tracking_metrics`. Ignoring all data for metric MacroF1Activity.\n",
      "NoneType: None\n",
      "[ERROR 01-07 18:06:10] ax.core.observation: Data contains metric activity_accuracy that has not been added to the experiment. You can either update the `optimization_config` or attach it as a tracking metric using `Experiment.add_tracking_metrics` or `AxClient.add_tracking_metrics`. Ignoring all data for metric activity_accuracy.\n",
      "NoneType: None\n",
      "[ERROR 01-07 18:06:10] ax.core.observation: Data contains metric resource_accuracy that has not been added to the experiment. You can either update the `optimization_config` or attach it as a tracking metric using `Experiment.add_tracking_metrics` or `AxClient.add_tracking_metrics`. Ignoring all data for metric resource_accuracy.\n",
      "NoneType: None\n",
      "[ERROR 01-07 18:06:10] ax.core.observation: Data contains metric resource_roles_accuracy that has not been added to the experiment. You can either update the `optimization_config` or attach it as a tracking metric using `Experiment.add_tracking_metrics` or `AxClient.add_tracking_metrics`. Ignoring all data for metric resource_roles_accuracy.\n",
      "NoneType: None\n",
      "[ERROR 01-07 18:06:10] ax.core.observation: Data contains metric MAE_timestamp that has not been added to the experiment. You can either update the `optimization_config` or attach it as a tracking metric using `Experiment.add_tracking_metrics` or `AxClient.add_tracking_metrics`. Ignoring all data for metric MAE_timestamp.\n",
      "NoneType: None\n",
      "[ERROR 01-07 18:06:10] ax.core.observation: Data contains metric MacroF1Activity that has not been added to the experiment. You can either update the `optimization_config` or attach it as a tracking metric using `Experiment.add_tracking_metrics` or `AxClient.add_tracking_metrics`. Ignoring all data for metric MacroF1Activity.\n",
      "NoneType: None\n",
      "[ERROR 01-07 18:06:10] ax.core.observation: Data contains metric activity_accuracy that has not been added to the experiment. You can either update the `optimization_config` or attach it as a tracking metric using `Experiment.add_tracking_metrics` or `AxClient.add_tracking_metrics`. Ignoring all data for metric activity_accuracy.\n",
      "NoneType: None\n",
      "[ERROR 01-07 18:06:10] ax.core.observation: Data contains metric resource_accuracy that has not been added to the experiment. You can either update the `optimization_config` or attach it as a tracking metric using `Experiment.add_tracking_metrics` or `AxClient.add_tracking_metrics`. Ignoring all data for metric resource_accuracy.\n",
      "NoneType: None\n",
      "[ERROR 01-07 18:06:10] ax.core.observation: Data contains metric resource_roles_accuracy that has not been added to the experiment. You can either update the `optimization_config` or attach it as a tracking metric using `Experiment.add_tracking_metrics` or `AxClient.add_tracking_metrics`. Ignoring all data for metric resource_roles_accuracy.\n",
      "NoneType: None\n",
      "[ERROR 01-07 18:06:10] ax.core.observation: Data contains metric MAE_timestamp that has not been added to the experiment. You can either update the `optimization_config` or attach it as a tracking metric using `Experiment.add_tracking_metrics` or `AxClient.add_tracking_metrics`. Ignoring all data for metric MAE_timestamp.\n",
      "NoneType: None\n",
      "[ERROR 01-07 18:06:10] ax.core.observation: Data contains metric MacroF1Activity that has not been added to the experiment. You can either update the `optimization_config` or attach it as a tracking metric using `Experiment.add_tracking_metrics` or `AxClient.add_tracking_metrics`. Ignoring all data for metric MacroF1Activity.\n",
      "NoneType: None\n",
      "[ERROR 01-07 18:06:10] ax.core.observation: Data contains metric activity_accuracy that has not been added to the experiment. You can either update the `optimization_config` or attach it as a tracking metric using `Experiment.add_tracking_metrics` or `AxClient.add_tracking_metrics`. Ignoring all data for metric activity_accuracy.\n",
      "NoneType: None\n",
      "[ERROR 01-07 18:06:10] ax.core.observation: Data contains metric resource_accuracy that has not been added to the experiment. You can either update the `optimization_config` or attach it as a tracking metric using `Experiment.add_tracking_metrics` or `AxClient.add_tracking_metrics`. Ignoring all data for metric resource_accuracy.\n",
      "NoneType: None\n",
      "[ERROR 01-07 18:06:10] ax.core.observation: Data contains metric resource_roles_accuracy that has not been added to the experiment. You can either update the `optimization_config` or attach it as a tracking metric using `Experiment.add_tracking_metrics` or `AxClient.add_tracking_metrics`. Ignoring all data for metric resource_roles_accuracy.\n",
      "NoneType: None\n",
      "[ERROR 01-07 18:06:10] ax.core.observation: Data contains metric MAE_timestamp that has not been added to the experiment. You can either update the `optimization_config` or attach it as a tracking metric using `Experiment.add_tracking_metrics` or `AxClient.add_tracking_metrics`. Ignoring all data for metric MAE_timestamp.\n",
      "NoneType: None\n",
      "[ERROR 01-07 18:06:10] ax.core.observation: Data contains metric MacroF1Activity that has not been added to the experiment. You can either update the `optimization_config` or attach it as a tracking metric using `Experiment.add_tracking_metrics` or `AxClient.add_tracking_metrics`. Ignoring all data for metric MacroF1Activity.\n",
      "NoneType: None\n",
      "[ERROR 01-07 18:06:10] ax.core.observation: Data contains metric activity_accuracy that has not been added to the experiment. You can either update the `optimization_config` or attach it as a tracking metric using `Experiment.add_tracking_metrics` or `AxClient.add_tracking_metrics`. Ignoring all data for metric activity_accuracy.\n",
      "NoneType: None\n",
      "[ERROR 01-07 18:06:10] ax.core.observation: Data contains metric resource_accuracy that has not been added to the experiment. You can either update the `optimization_config` or attach it as a tracking metric using `Experiment.add_tracking_metrics` or `AxClient.add_tracking_metrics`. Ignoring all data for metric resource_accuracy.\n",
      "NoneType: None\n",
      "[ERROR 01-07 18:06:10] ax.core.observation: Data contains metric resource_roles_accuracy that has not been added to the experiment. You can either update the `optimization_config` or attach it as a tracking metric using `Experiment.add_tracking_metrics` or `AxClient.add_tracking_metrics`. Ignoring all data for metric resource_roles_accuracy.\n",
      "NoneType: None\n"
     ]
    },
    {
     "name": "stdout",
     "output_type": "stream",
     "text": [
      "{'lr': 0.004031499965698187, 'batch_size': 256, 'heads': 1, 'hid': 128, 'layers': 2, 'aggregation': 'max'}\n",
      "Epoch: 0\n",
      "\n"
     ]
    },
    {
     "name": "stderr",
     "output_type": "stream",
     "text": [
      "WARNING:root:Warning: Some classes do not exist in the target. F1 scores for these classes will be cast to zeros.\n"
     ]
    },
    {
     "name": "stdout",
     "output_type": "stream",
     "text": [
      "\n",
      "VALIDATION\n",
      "ACTIVITY: acc 0.6593 MacroF1 0.6201\n",
      "TIMESTAMP: MAE 0.1927\n",
      "RESOURCE: acc 0.3378\n",
      "RESOURCE_ROLE: acc 0.7848\n",
      "TOTAL_LOSS: 4.2264\n",
      "epoch time 14.980565309524536s\n",
      "\n",
      "Epoch: 1\n",
      "\n"
     ]
    },
    {
     "name": "stderr",
     "output_type": "stream",
     "text": [
      "WARNING:root:Warning: Some classes do not exist in the target. F1 scores for these classes will be cast to zeros.\n"
     ]
    },
    {
     "name": "stdout",
     "output_type": "stream",
     "text": [
      "\n",
      "VALIDATION\n",
      "ACTIVITY: acc 0.6529 MacroF1 0.6004\n",
      "TIMESTAMP: MAE 0.3057\n",
      "RESOURCE: acc 0.4472\n",
      "RESOURCE_ROLE: acc 0.7850\n",
      "TOTAL_LOSS: 3.9758\n",
      "epoch time 15.163698434829712s\n",
      "\n",
      "new best model found\n",
      "Epoch: 2\n",
      "\n"
     ]
    },
    {
     "name": "stderr",
     "output_type": "stream",
     "text": [
      "WARNING:root:Warning: Some classes do not exist in the target. F1 scores for these classes will be cast to zeros.\n"
     ]
    },
    {
     "name": "stdout",
     "output_type": "stream",
     "text": [
      "\n",
      "VALIDATION\n",
      "ACTIVITY: acc 0.6620 MacroF1 0.6228\n",
      "TIMESTAMP: MAE 0.3184\n",
      "RESOURCE: acc 0.4990\n",
      "RESOURCE_ROLE: acc 0.7848\n",
      "TOTAL_LOSS: 3.7957\n",
      "epoch time 14.929422855377197s\n",
      "\n",
      "new best model found\n",
      "Epoch: 3\n",
      "\n"
     ]
    },
    {
     "name": "stderr",
     "output_type": "stream",
     "text": [
      "WARNING:root:Warning: Some classes do not exist in the target. F1 scores for these classes will be cast to zeros.\n"
     ]
    },
    {
     "name": "stdout",
     "output_type": "stream",
     "text": [
      "\n",
      "VALIDATION\n",
      "ACTIVITY: acc 0.6343 MacroF1 0.5877\n",
      "TIMESTAMP: MAE 0.1481\n",
      "RESOURCE: acc 0.5234\n",
      "RESOURCE_ROLE: acc 0.7107\n",
      "TOTAL_LOSS: 3.5623\n",
      "epoch time 14.931505918502808s\n",
      "\n",
      "new best model found\n",
      "Epoch: 4\n",
      "\n"
     ]
    },
    {
     "name": "stderr",
     "output_type": "stream",
     "text": [
      "WARNING:root:Warning: Some classes do not exist in the target. F1 scores for these classes will be cast to zeros.\n"
     ]
    },
    {
     "name": "stdout",
     "output_type": "stream",
     "text": [
      "\n",
      "VALIDATION\n",
      "ACTIVITY: acc 0.6747 MacroF1 0.6360\n",
      "TIMESTAMP: MAE 0.3466\n",
      "RESOURCE: acc 0.5278\n",
      "RESOURCE_ROLE: acc 0.7695\n",
      "TOTAL_LOSS: 3.6500\n",
      "epoch time 15.028354406356812s\n",
      "\n",
      "Epoch: 5\n",
      "\n"
     ]
    },
    {
     "name": "stderr",
     "output_type": "stream",
     "text": [
      "WARNING:root:Warning: Some classes do not exist in the target. F1 scores for these classes will be cast to zeros.\n"
     ]
    },
    {
     "name": "stdout",
     "output_type": "stream",
     "text": [
      "\n",
      "VALIDATION\n",
      "ACTIVITY: acc 0.6188 MacroF1 0.5920\n",
      "TIMESTAMP: MAE 0.0805\n",
      "RESOURCE: acc 0.5344\n",
      "RESOURCE_ROLE: acc 0.7860\n",
      "TOTAL_LOSS: 3.3864\n",
      "epoch time 15.174173355102539s\n",
      "\n",
      "new best model found\n",
      "Epoch: 6\n",
      "\n"
     ]
    },
    {
     "name": "stderr",
     "output_type": "stream",
     "text": [
      "WARNING:root:Warning: Some classes do not exist in the target. F1 scores for these classes will be cast to zeros.\n"
     ]
    },
    {
     "name": "stdout",
     "output_type": "stream",
     "text": [
      "\n",
      "VALIDATION\n",
      "ACTIVITY: acc 0.6745 MacroF1 0.6477\n",
      "TIMESTAMP: MAE 0.2193\n",
      "RESOURCE: acc 0.5354\n",
      "RESOURCE_ROLE: acc 0.7860\n",
      "TOTAL_LOSS: 3.4645\n",
      "epoch time 14.68506646156311s\n",
      "\n",
      "Epoch: 7\n",
      "\n"
     ]
    },
    {
     "name": "stderr",
     "output_type": "stream",
     "text": [
      "WARNING:root:Warning: Some classes do not exist in the target. F1 scores for these classes will be cast to zeros.\n"
     ]
    },
    {
     "name": "stdout",
     "output_type": "stream",
     "text": [
      "\n",
      "VALIDATION\n",
      "ACTIVITY: acc 0.6756 MacroF1 0.6405\n",
      "TIMESTAMP: MAE 0.1399\n",
      "RESOURCE: acc 0.5380\n",
      "RESOURCE_ROLE: acc 0.7860\n",
      "TOTAL_LOSS: 3.3890\n",
      "epoch time 14.46300220489502s\n",
      "\n",
      "Epoch: 8\n",
      "\n"
     ]
    },
    {
     "name": "stderr",
     "output_type": "stream",
     "text": [
      "WARNING:root:Warning: Some classes do not exist in the target. F1 scores for these classes will be cast to zeros.\n"
     ]
    },
    {
     "name": "stdout",
     "output_type": "stream",
     "text": [
      "\n",
      "VALIDATION\n",
      "ACTIVITY: acc 0.6614 MacroF1 0.6275\n",
      "TIMESTAMP: MAE 0.0678\n",
      "RESOURCE: acc 0.5388\n",
      "RESOURCE_ROLE: acc 0.7860\n",
      "TOTAL_LOSS: 3.3204\n",
      "epoch time 14.853694915771484s\n",
      "\n",
      "new best model found\n",
      "Epoch: 9\n",
      "\n"
     ]
    },
    {
     "name": "stderr",
     "output_type": "stream",
     "text": [
      "WARNING:root:Warning: Some classes do not exist in the target. F1 scores for these classes will be cast to zeros.\n"
     ]
    },
    {
     "name": "stdout",
     "output_type": "stream",
     "text": [
      "\n",
      "VALIDATION\n",
      "ACTIVITY: acc 0.6690 MacroF1 0.6331\n",
      "TIMESTAMP: MAE 0.2422\n",
      "RESOURCE: acc 0.5371\n",
      "RESOURCE_ROLE: acc 0.7862\n",
      "TOTAL_LOSS: 3.4891\n",
      "epoch time 14.967519283294678s\n",
      "\n",
      "Epoch: 10\n",
      "\n"
     ]
    },
    {
     "name": "stderr",
     "output_type": "stream",
     "text": [
      "WARNING:root:Warning: Some classes do not exist in the target. F1 scores for these classes will be cast to zeros.\n"
     ]
    },
    {
     "name": "stdout",
     "output_type": "stream",
     "text": [
      "\n",
      "VALIDATION\n",
      "ACTIVITY: acc 0.6760 MacroF1 0.6501\n",
      "TIMESTAMP: MAE 0.1557\n",
      "RESOURCE: acc 0.5346\n",
      "RESOURCE_ROLE: acc 0.7860\n",
      "TOTAL_LOSS: 3.4136\n",
      "epoch time 14.49813461303711s\n",
      "\n",
      "Epoch: 11\n",
      "\n"
     ]
    },
    {
     "name": "stderr",
     "output_type": "stream",
     "text": [
      "WARNING:root:Warning: Some classes do not exist in the target. F1 scores for these classes will be cast to zeros.\n"
     ]
    },
    {
     "name": "stdout",
     "output_type": "stream",
     "text": [
      "\n",
      "VALIDATION\n",
      "ACTIVITY: acc 0.6654 MacroF1 0.6659\n",
      "TIMESTAMP: MAE 0.1042\n",
      "RESOURCE: acc 0.5388\n",
      "RESOURCE_ROLE: acc 0.7860\n",
      "TOTAL_LOSS: 3.3436\n",
      "epoch time 14.712772607803345s\n",
      "\n",
      "Epoch: 12\n",
      "\n"
     ]
    },
    {
     "name": "stderr",
     "output_type": "stream",
     "text": [
      "WARNING:root:Warning: Some classes do not exist in the target. F1 scores for these classes will be cast to zeros.\n"
     ]
    },
    {
     "name": "stdout",
     "output_type": "stream",
     "text": [
      "\n",
      "VALIDATION\n",
      "ACTIVITY: acc 0.6679 MacroF1 0.6254\n",
      "TIMESTAMP: MAE 0.0832\n",
      "RESOURCE: acc 0.5414\n",
      "RESOURCE_ROLE: acc 0.7860\n",
      "TOTAL_LOSS: 3.3141\n",
      "epoch time 14.430340766906738s\n",
      "\n",
      "new best model found\n",
      "Epoch: 13\n",
      "\n"
     ]
    },
    {
     "name": "stderr",
     "output_type": "stream",
     "text": [
      "WARNING:root:Warning: Some classes do not exist in the target. F1 scores for these classes will be cast to zeros.\n"
     ]
    },
    {
     "name": "stdout",
     "output_type": "stream",
     "text": [
      "\n",
      "VALIDATION\n",
      "ACTIVITY: acc 0.6728 MacroF1 0.6361\n",
      "TIMESTAMP: MAE 0.1776\n",
      "RESOURCE: acc 0.5395\n",
      "RESOURCE_ROLE: acc 0.7860\n",
      "TOTAL_LOSS: 3.4429\n",
      "epoch time 14.464328289031982s\n",
      "\n",
      "Epoch: 14\n",
      "\n"
     ]
    },
    {
     "name": "stderr",
     "output_type": "stream",
     "text": [
      "WARNING:root:Warning: Some classes do not exist in the target. F1 scores for these classes will be cast to zeros.\n"
     ]
    },
    {
     "name": "stdout",
     "output_type": "stream",
     "text": [
      "\n",
      "VALIDATION\n",
      "ACTIVITY: acc 0.6711 MacroF1 0.6411\n",
      "TIMESTAMP: MAE 0.1694\n",
      "RESOURCE: acc 0.5354\n",
      "RESOURCE_ROLE: acc 0.7860\n",
      "TOTAL_LOSS: 3.4138\n",
      "epoch time 15.268175840377808s\n",
      "\n",
      "Epoch: 15\n",
      "\n"
     ]
    },
    {
     "name": "stderr",
     "output_type": "stream",
     "text": [
      "WARNING:root:Warning: Some classes do not exist in the target. F1 scores for these classes will be cast to zeros.\n"
     ]
    },
    {
     "name": "stdout",
     "output_type": "stream",
     "text": [
      "\n",
      "VALIDATION\n",
      "ACTIVITY: acc 0.6684 MacroF1 0.6282\n",
      "TIMESTAMP: MAE 0.1993\n",
      "RESOURCE: acc 0.5397\n",
      "RESOURCE_ROLE: acc 0.7860\n",
      "TOTAL_LOSS: 3.4394\n",
      "epoch time 14.553229570388794s\n",
      "\n",
      "Epoch: 16\n",
      "\n"
     ]
    },
    {
     "name": "stderr",
     "output_type": "stream",
     "text": [
      "WARNING:root:Warning: Some classes do not exist in the target. F1 scores for these classes will be cast to zeros.\n"
     ]
    },
    {
     "name": "stdout",
     "output_type": "stream",
     "text": [
      "\n",
      "VALIDATION\n",
      "ACTIVITY: acc 0.6510 MacroF1 0.6501\n",
      "TIMESTAMP: MAE 0.1377\n",
      "RESOURCE: acc 0.5378\n",
      "RESOURCE_ROLE: acc 0.7860\n",
      "TOTAL_LOSS: 3.4137\n",
      "epoch time 14.808456659317017s\n",
      "\n",
      "Epoch: 17\n",
      "\n"
     ]
    },
    {
     "name": "stderr",
     "output_type": "stream",
     "text": [
      "WARNING:root:Warning: Some classes do not exist in the target. F1 scores for these classes will be cast to zeros.\n"
     ]
    },
    {
     "name": "stdout",
     "output_type": "stream",
     "text": [
      "\n",
      "VALIDATION\n",
      "ACTIVITY: acc 0.6563 MacroF1 0.6554\n",
      "TIMESTAMP: MAE 0.1009\n",
      "RESOURCE: acc 0.5359\n",
      "RESOURCE_ROLE: acc 0.7860\n",
      "TOTAL_LOSS: 3.3555\n",
      "epoch time 14.524561166763306s\n",
      "\n",
      "Validation performance didn't improve for 5 epochs. Training stops.\n"
     ]
    },
    {
     "name": "stderr",
     "output_type": "stream",
     "text": [
      "WARNING:root:Warning: Some classes do not exist in the target. F1 scores for these classes will be cast to zeros.\n",
      "[INFO 01-07 18:10:48] ax.core.experiment: Attached data has some metrics ({'activity_accuracy', 'MAE_timestamp', 'resource_roles_accuracy', 'MacroF1Activity', 'resource_accuracy'}) that are not among the metrics on this experiment. Note that attaching data will not automatically add those metrics to the experiment. For these metrics to be automatically fetched by `experiment.fetch_data`, add them via `experiment.add_tracking_metric` or update the experiment's optimization config.\n",
      "[INFO 01-07 18:10:48] ax.service.managed_loop: Running optimization trial 11...\n",
      "[ERROR 01-07 18:10:48] ax.core.observation: Data contains metric MAE_timestamp that has not been added to the experiment. You can either update the `optimization_config` or attach it as a tracking metric using `Experiment.add_tracking_metrics` or `AxClient.add_tracking_metrics`. Ignoring all data for metric MAE_timestamp.\n",
      "NoneType: None\n",
      "[ERROR 01-07 18:10:48] ax.core.observation: Data contains metric MacroF1Activity that has not been added to the experiment. You can either update the `optimization_config` or attach it as a tracking metric using `Experiment.add_tracking_metrics` or `AxClient.add_tracking_metrics`. Ignoring all data for metric MacroF1Activity.\n",
      "NoneType: None\n",
      "[ERROR 01-07 18:10:48] ax.core.observation: Data contains metric activity_accuracy that has not been added to the experiment. You can either update the `optimization_config` or attach it as a tracking metric using `Experiment.add_tracking_metrics` or `AxClient.add_tracking_metrics`. Ignoring all data for metric activity_accuracy.\n",
      "NoneType: None\n",
      "[ERROR 01-07 18:10:48] ax.core.observation: Data contains metric resource_accuracy that has not been added to the experiment. You can either update the `optimization_config` or attach it as a tracking metric using `Experiment.add_tracking_metrics` or `AxClient.add_tracking_metrics`. Ignoring all data for metric resource_accuracy.\n",
      "NoneType: None\n",
      "[ERROR 01-07 18:10:48] ax.core.observation: Data contains metric resource_roles_accuracy that has not been added to the experiment. You can either update the `optimization_config` or attach it as a tracking metric using `Experiment.add_tracking_metrics` or `AxClient.add_tracking_metrics`. Ignoring all data for metric resource_roles_accuracy.\n",
      "NoneType: None\n",
      "[ERROR 01-07 18:10:48] ax.core.observation: Data contains metric MAE_timestamp that has not been added to the experiment. You can either update the `optimization_config` or attach it as a tracking metric using `Experiment.add_tracking_metrics` or `AxClient.add_tracking_metrics`. Ignoring all data for metric MAE_timestamp.\n",
      "NoneType: None\n",
      "[ERROR 01-07 18:10:48] ax.core.observation: Data contains metric MacroF1Activity that has not been added to the experiment. You can either update the `optimization_config` or attach it as a tracking metric using `Experiment.add_tracking_metrics` or `AxClient.add_tracking_metrics`. Ignoring all data for metric MacroF1Activity.\n",
      "NoneType: None\n",
      "[ERROR 01-07 18:10:48] ax.core.observation: Data contains metric activity_accuracy that has not been added to the experiment. You can either update the `optimization_config` or attach it as a tracking metric using `Experiment.add_tracking_metrics` or `AxClient.add_tracking_metrics`. Ignoring all data for metric activity_accuracy.\n",
      "NoneType: None\n",
      "[ERROR 01-07 18:10:48] ax.core.observation: Data contains metric resource_accuracy that has not been added to the experiment. You can either update the `optimization_config` or attach it as a tracking metric using `Experiment.add_tracking_metrics` or `AxClient.add_tracking_metrics`. Ignoring all data for metric resource_accuracy.\n",
      "NoneType: None\n",
      "[ERROR 01-07 18:10:48] ax.core.observation: Data contains metric resource_roles_accuracy that has not been added to the experiment. You can either update the `optimization_config` or attach it as a tracking metric using `Experiment.add_tracking_metrics` or `AxClient.add_tracking_metrics`. Ignoring all data for metric resource_roles_accuracy.\n",
      "NoneType: None\n",
      "[ERROR 01-07 18:10:48] ax.core.observation: Data contains metric MAE_timestamp that has not been added to the experiment. You can either update the `optimization_config` or attach it as a tracking metric using `Experiment.add_tracking_metrics` or `AxClient.add_tracking_metrics`. Ignoring all data for metric MAE_timestamp.\n",
      "NoneType: None\n",
      "[ERROR 01-07 18:10:48] ax.core.observation: Data contains metric MacroF1Activity that has not been added to the experiment. You can either update the `optimization_config` or attach it as a tracking metric using `Experiment.add_tracking_metrics` or `AxClient.add_tracking_metrics`. Ignoring all data for metric MacroF1Activity.\n",
      "NoneType: None\n",
      "[ERROR 01-07 18:10:48] ax.core.observation: Data contains metric activity_accuracy that has not been added to the experiment. You can either update the `optimization_config` or attach it as a tracking metric using `Experiment.add_tracking_metrics` or `AxClient.add_tracking_metrics`. Ignoring all data for metric activity_accuracy.\n",
      "NoneType: None\n",
      "[ERROR 01-07 18:10:48] ax.core.observation: Data contains metric resource_accuracy that has not been added to the experiment. You can either update the `optimization_config` or attach it as a tracking metric using `Experiment.add_tracking_metrics` or `AxClient.add_tracking_metrics`. Ignoring all data for metric resource_accuracy.\n",
      "NoneType: None\n",
      "[ERROR 01-07 18:10:48] ax.core.observation: Data contains metric resource_roles_accuracy that has not been added to the experiment. You can either update the `optimization_config` or attach it as a tracking metric using `Experiment.add_tracking_metrics` or `AxClient.add_tracking_metrics`. Ignoring all data for metric resource_roles_accuracy.\n",
      "NoneType: None\n",
      "[ERROR 01-07 18:10:48] ax.core.observation: Data contains metric MAE_timestamp that has not been added to the experiment. You can either update the `optimization_config` or attach it as a tracking metric using `Experiment.add_tracking_metrics` or `AxClient.add_tracking_metrics`. Ignoring all data for metric MAE_timestamp.\n",
      "NoneType: None\n",
      "[ERROR 01-07 18:10:48] ax.core.observation: Data contains metric MacroF1Activity that has not been added to the experiment. You can either update the `optimization_config` or attach it as a tracking metric using `Experiment.add_tracking_metrics` or `AxClient.add_tracking_metrics`. Ignoring all data for metric MacroF1Activity.\n",
      "NoneType: None\n",
      "[ERROR 01-07 18:10:48] ax.core.observation: Data contains metric activity_accuracy that has not been added to the experiment. You can either update the `optimization_config` or attach it as a tracking metric using `Experiment.add_tracking_metrics` or `AxClient.add_tracking_metrics`. Ignoring all data for metric activity_accuracy.\n",
      "NoneType: None\n",
      "[ERROR 01-07 18:10:48] ax.core.observation: Data contains metric resource_accuracy that has not been added to the experiment. You can either update the `optimization_config` or attach it as a tracking metric using `Experiment.add_tracking_metrics` or `AxClient.add_tracking_metrics`. Ignoring all data for metric resource_accuracy.\n",
      "NoneType: None\n",
      "[ERROR 01-07 18:10:48] ax.core.observation: Data contains metric resource_roles_accuracy that has not been added to the experiment. You can either update the `optimization_config` or attach it as a tracking metric using `Experiment.add_tracking_metrics` or `AxClient.add_tracking_metrics`. Ignoring all data for metric resource_roles_accuracy.\n",
      "NoneType: None\n",
      "[ERROR 01-07 18:10:48] ax.core.observation: Data contains metric MAE_timestamp that has not been added to the experiment. You can either update the `optimization_config` or attach it as a tracking metric using `Experiment.add_tracking_metrics` or `AxClient.add_tracking_metrics`. Ignoring all data for metric MAE_timestamp.\n",
      "NoneType: None\n",
      "[ERROR 01-07 18:10:48] ax.core.observation: Data contains metric MacroF1Activity that has not been added to the experiment. You can either update the `optimization_config` or attach it as a tracking metric using `Experiment.add_tracking_metrics` or `AxClient.add_tracking_metrics`. Ignoring all data for metric MacroF1Activity.\n",
      "NoneType: None\n",
      "[ERROR 01-07 18:10:48] ax.core.observation: Data contains metric activity_accuracy that has not been added to the experiment. You can either update the `optimization_config` or attach it as a tracking metric using `Experiment.add_tracking_metrics` or `AxClient.add_tracking_metrics`. Ignoring all data for metric activity_accuracy.\n",
      "NoneType: None\n",
      "[ERROR 01-07 18:10:48] ax.core.observation: Data contains metric resource_accuracy that has not been added to the experiment. You can either update the `optimization_config` or attach it as a tracking metric using `Experiment.add_tracking_metrics` or `AxClient.add_tracking_metrics`. Ignoring all data for metric resource_accuracy.\n",
      "NoneType: None\n",
      "[ERROR 01-07 18:10:48] ax.core.observation: Data contains metric resource_roles_accuracy that has not been added to the experiment. You can either update the `optimization_config` or attach it as a tracking metric using `Experiment.add_tracking_metrics` or `AxClient.add_tracking_metrics`. Ignoring all data for metric resource_roles_accuracy.\n",
      "NoneType: None\n",
      "[ERROR 01-07 18:10:48] ax.core.observation: Data contains metric MAE_timestamp that has not been added to the experiment. You can either update the `optimization_config` or attach it as a tracking metric using `Experiment.add_tracking_metrics` or `AxClient.add_tracking_metrics`. Ignoring all data for metric MAE_timestamp.\n",
      "NoneType: None\n",
      "[ERROR 01-07 18:10:48] ax.core.observation: Data contains metric MacroF1Activity that has not been added to the experiment. You can either update the `optimization_config` or attach it as a tracking metric using `Experiment.add_tracking_metrics` or `AxClient.add_tracking_metrics`. Ignoring all data for metric MacroF1Activity.\n",
      "NoneType: None\n",
      "[ERROR 01-07 18:10:48] ax.core.observation: Data contains metric activity_accuracy that has not been added to the experiment. You can either update the `optimization_config` or attach it as a tracking metric using `Experiment.add_tracking_metrics` or `AxClient.add_tracking_metrics`. Ignoring all data for metric activity_accuracy.\n",
      "NoneType: None\n",
      "[ERROR 01-07 18:10:48] ax.core.observation: Data contains metric resource_accuracy that has not been added to the experiment. You can either update the `optimization_config` or attach it as a tracking metric using `Experiment.add_tracking_metrics` or `AxClient.add_tracking_metrics`. Ignoring all data for metric resource_accuracy.\n",
      "NoneType: None\n",
      "[ERROR 01-07 18:10:48] ax.core.observation: Data contains metric resource_roles_accuracy that has not been added to the experiment. You can either update the `optimization_config` or attach it as a tracking metric using `Experiment.add_tracking_metrics` or `AxClient.add_tracking_metrics`. Ignoring all data for metric resource_roles_accuracy.\n",
      "NoneType: None\n",
      "[ERROR 01-07 18:10:48] ax.core.observation: Data contains metric MAE_timestamp that has not been added to the experiment. You can either update the `optimization_config` or attach it as a tracking metric using `Experiment.add_tracking_metrics` or `AxClient.add_tracking_metrics`. Ignoring all data for metric MAE_timestamp.\n",
      "NoneType: None\n",
      "[ERROR 01-07 18:10:48] ax.core.observation: Data contains metric MacroF1Activity that has not been added to the experiment. You can either update the `optimization_config` or attach it as a tracking metric using `Experiment.add_tracking_metrics` or `AxClient.add_tracking_metrics`. Ignoring all data for metric MacroF1Activity.\n",
      "NoneType: None\n",
      "[ERROR 01-07 18:10:48] ax.core.observation: Data contains metric activity_accuracy that has not been added to the experiment. You can either update the `optimization_config` or attach it as a tracking metric using `Experiment.add_tracking_metrics` or `AxClient.add_tracking_metrics`. Ignoring all data for metric activity_accuracy.\n",
      "NoneType: None\n",
      "[ERROR 01-07 18:10:48] ax.core.observation: Data contains metric resource_accuracy that has not been added to the experiment. You can either update the `optimization_config` or attach it as a tracking metric using `Experiment.add_tracking_metrics` or `AxClient.add_tracking_metrics`. Ignoring all data for metric resource_accuracy.\n",
      "NoneType: None\n",
      "[ERROR 01-07 18:10:48] ax.core.observation: Data contains metric resource_roles_accuracy that has not been added to the experiment. You can either update the `optimization_config` or attach it as a tracking metric using `Experiment.add_tracking_metrics` or `AxClient.add_tracking_metrics`. Ignoring all data for metric resource_roles_accuracy.\n",
      "NoneType: None\n",
      "[ERROR 01-07 18:10:48] ax.core.observation: Data contains metric MAE_timestamp that has not been added to the experiment. You can either update the `optimization_config` or attach it as a tracking metric using `Experiment.add_tracking_metrics` or `AxClient.add_tracking_metrics`. Ignoring all data for metric MAE_timestamp.\n",
      "NoneType: None\n",
      "[ERROR 01-07 18:10:48] ax.core.observation: Data contains metric MacroF1Activity that has not been added to the experiment. You can either update the `optimization_config` or attach it as a tracking metric using `Experiment.add_tracking_metrics` or `AxClient.add_tracking_metrics`. Ignoring all data for metric MacroF1Activity.\n",
      "NoneType: None\n",
      "[ERROR 01-07 18:10:48] ax.core.observation: Data contains metric activity_accuracy that has not been added to the experiment. You can either update the `optimization_config` or attach it as a tracking metric using `Experiment.add_tracking_metrics` or `AxClient.add_tracking_metrics`. Ignoring all data for metric activity_accuracy.\n",
      "NoneType: None\n",
      "[ERROR 01-07 18:10:48] ax.core.observation: Data contains metric resource_accuracy that has not been added to the experiment. You can either update the `optimization_config` or attach it as a tracking metric using `Experiment.add_tracking_metrics` or `AxClient.add_tracking_metrics`. Ignoring all data for metric resource_accuracy.\n",
      "NoneType: None\n",
      "[ERROR 01-07 18:10:48] ax.core.observation: Data contains metric resource_roles_accuracy that has not been added to the experiment. You can either update the `optimization_config` or attach it as a tracking metric using `Experiment.add_tracking_metrics` or `AxClient.add_tracking_metrics`. Ignoring all data for metric resource_roles_accuracy.\n",
      "NoneType: None\n",
      "[ERROR 01-07 18:10:48] ax.core.observation: Data contains metric MAE_timestamp that has not been added to the experiment. You can either update the `optimization_config` or attach it as a tracking metric using `Experiment.add_tracking_metrics` or `AxClient.add_tracking_metrics`. Ignoring all data for metric MAE_timestamp.\n",
      "NoneType: None\n",
      "[ERROR 01-07 18:10:48] ax.core.observation: Data contains metric MacroF1Activity that has not been added to the experiment. You can either update the `optimization_config` or attach it as a tracking metric using `Experiment.add_tracking_metrics` or `AxClient.add_tracking_metrics`. Ignoring all data for metric MacroF1Activity.\n",
      "NoneType: None\n",
      "[ERROR 01-07 18:10:48] ax.core.observation: Data contains metric activity_accuracy that has not been added to the experiment. You can either update the `optimization_config` or attach it as a tracking metric using `Experiment.add_tracking_metrics` or `AxClient.add_tracking_metrics`. Ignoring all data for metric activity_accuracy.\n",
      "NoneType: None\n",
      "[ERROR 01-07 18:10:48] ax.core.observation: Data contains metric resource_accuracy that has not been added to the experiment. You can either update the `optimization_config` or attach it as a tracking metric using `Experiment.add_tracking_metrics` or `AxClient.add_tracking_metrics`. Ignoring all data for metric resource_accuracy.\n",
      "NoneType: None\n",
      "[ERROR 01-07 18:10:48] ax.core.observation: Data contains metric resource_roles_accuracy that has not been added to the experiment. You can either update the `optimization_config` or attach it as a tracking metric using `Experiment.add_tracking_metrics` or `AxClient.add_tracking_metrics`. Ignoring all data for metric resource_roles_accuracy.\n",
      "NoneType: None\n",
      "[ERROR 01-07 18:10:48] ax.core.observation: Data contains metric MAE_timestamp that has not been added to the experiment. You can either update the `optimization_config` or attach it as a tracking metric using `Experiment.add_tracking_metrics` or `AxClient.add_tracking_metrics`. Ignoring all data for metric MAE_timestamp.\n",
      "NoneType: None\n",
      "[ERROR 01-07 18:10:48] ax.core.observation: Data contains metric MacroF1Activity that has not been added to the experiment. You can either update the `optimization_config` or attach it as a tracking metric using `Experiment.add_tracking_metrics` or `AxClient.add_tracking_metrics`. Ignoring all data for metric MacroF1Activity.\n",
      "NoneType: None\n",
      "[ERROR 01-07 18:10:48] ax.core.observation: Data contains metric activity_accuracy that has not been added to the experiment. You can either update the `optimization_config` or attach it as a tracking metric using `Experiment.add_tracking_metrics` or `AxClient.add_tracking_metrics`. Ignoring all data for metric activity_accuracy.\n",
      "NoneType: None\n",
      "[ERROR 01-07 18:10:48] ax.core.observation: Data contains metric resource_accuracy that has not been added to the experiment. You can either update the `optimization_config` or attach it as a tracking metric using `Experiment.add_tracking_metrics` or `AxClient.add_tracking_metrics`. Ignoring all data for metric resource_accuracy.\n",
      "NoneType: None\n",
      "[ERROR 01-07 18:10:48] ax.core.observation: Data contains metric resource_roles_accuracy that has not been added to the experiment. You can either update the `optimization_config` or attach it as a tracking metric using `Experiment.add_tracking_metrics` or `AxClient.add_tracking_metrics`. Ignoring all data for metric resource_roles_accuracy.\n",
      "NoneType: None\n"
     ]
    },
    {
     "name": "stdout",
     "output_type": "stream",
     "text": [
      "{'lr': 0.0033330993657464257, 'batch_size': 256, 'heads': 1, 'hid': 128, 'layers': 2, 'aggregation': 'max'}\n",
      "Epoch: 0\n",
      "\n"
     ]
    },
    {
     "name": "stderr",
     "output_type": "stream",
     "text": [
      "WARNING:root:Warning: Some classes do not exist in the target. F1 scores for these classes will be cast to zeros.\n"
     ]
    },
    {
     "name": "stdout",
     "output_type": "stream",
     "text": [
      "\n",
      "VALIDATION\n",
      "ACTIVITY: acc 0.6262 MacroF1 0.5453\n",
      "TIMESTAMP: MAE 0.0926\n",
      "RESOURCE: acc 0.3634\n",
      "RESOURCE_ROLE: acc 0.7848\n",
      "TOTAL_LOSS: 4.1309\n",
      "epoch time 14.136248588562012s\n",
      "\n",
      "Epoch: 1\n",
      "\n"
     ]
    },
    {
     "name": "stderr",
     "output_type": "stream",
     "text": [
      "WARNING:root:Warning: Some classes do not exist in the target. F1 scores for these classes will be cast to zeros.\n"
     ]
    },
    {
     "name": "stdout",
     "output_type": "stream",
     "text": [
      "\n",
      "VALIDATION\n",
      "ACTIVITY: acc 0.6083 MacroF1 0.5933\n",
      "TIMESTAMP: MAE 0.3012\n",
      "RESOURCE: acc 0.4157\n",
      "RESOURCE_ROLE: acc 0.7672\n",
      "TOTAL_LOSS: 4.0978\n",
      "epoch time 14.233659029006958s\n",
      "\n",
      "new best model found\n",
      "Epoch: 2\n",
      "\n"
     ]
    },
    {
     "name": "stderr",
     "output_type": "stream",
     "text": [
      "WARNING:root:Warning: Some classes do not exist in the target. F1 scores for these classes will be cast to zeros.\n"
     ]
    },
    {
     "name": "stdout",
     "output_type": "stream",
     "text": [
      "\n",
      "VALIDATION\n",
      "ACTIVITY: acc 0.6567 MacroF1 0.6132\n",
      "TIMESTAMP: MAE 0.0957\n",
      "RESOURCE: acc 0.4982\n",
      "RESOURCE_ROLE: acc 0.7850\n",
      "TOTAL_LOSS: 3.6250\n",
      "epoch time 14.507549047470093s\n",
      "\n",
      "new best model found\n",
      "Epoch: 3\n",
      "\n"
     ]
    },
    {
     "name": "stderr",
     "output_type": "stream",
     "text": [
      "WARNING:root:Warning: Some classes do not exist in the target. F1 scores for these classes will be cast to zeros.\n"
     ]
    },
    {
     "name": "stdout",
     "output_type": "stream",
     "text": [
      "\n",
      "VALIDATION\n",
      "ACTIVITY: acc 0.6258 MacroF1 0.5949\n",
      "TIMESTAMP: MAE 0.1143\n",
      "RESOURCE: acc 0.5270\n",
      "RESOURCE_ROLE: acc 0.7848\n",
      "TOTAL_LOSS: 3.5262\n",
      "epoch time 14.475398063659668s\n",
      "\n",
      "new best model found\n",
      "Epoch: 4\n",
      "\n"
     ]
    },
    {
     "name": "stderr",
     "output_type": "stream",
     "text": [
      "WARNING:root:Warning: Some classes do not exist in the target. F1 scores for these classes will be cast to zeros.\n"
     ]
    },
    {
     "name": "stdout",
     "output_type": "stream",
     "text": [
      "\n",
      "VALIDATION\n",
      "ACTIVITY: acc 0.6618 MacroF1 0.6140\n",
      "TIMESTAMP: MAE 0.4118\n",
      "RESOURCE: acc 0.5242\n",
      "RESOURCE_ROLE: acc 0.7860\n",
      "TOTAL_LOSS: 3.7469\n",
      "epoch time 14.48207950592041s\n",
      "\n",
      "Epoch: 5\n",
      "\n"
     ]
    },
    {
     "name": "stderr",
     "output_type": "stream",
     "text": [
      "WARNING:root:Warning: Some classes do not exist in the target. F1 scores for these classes will be cast to zeros.\n"
     ]
    },
    {
     "name": "stdout",
     "output_type": "stream",
     "text": [
      "\n",
      "VALIDATION\n",
      "ACTIVITY: acc 0.6400 MacroF1 0.5499\n",
      "TIMESTAMP: MAE 0.4143\n",
      "RESOURCE: acc 0.5278\n",
      "RESOURCE_ROLE: acc 0.7862\n",
      "TOTAL_LOSS: 3.7422\n",
      "epoch time 14.302570343017578s\n",
      "\n",
      "Epoch: 6\n",
      "\n"
     ]
    },
    {
     "name": "stderr",
     "output_type": "stream",
     "text": [
      "WARNING:root:Warning: Some classes do not exist in the target. F1 scores for these classes will be cast to zeros.\n"
     ]
    },
    {
     "name": "stdout",
     "output_type": "stream",
     "text": [
      "\n",
      "VALIDATION\n",
      "ACTIVITY: acc 0.6675 MacroF1 0.6321\n",
      "TIMESTAMP: MAE 0.0578\n",
      "RESOURCE: acc 0.5259\n",
      "RESOURCE_ROLE: acc 0.7862\n",
      "TOTAL_LOSS: 3.3667\n",
      "epoch time 16.002296447753906s\n",
      "\n",
      "new best model found\n",
      "Epoch: 7\n",
      "\n"
     ]
    },
    {
     "name": "stderr",
     "output_type": "stream",
     "text": [
      "WARNING:root:Warning: Some classes do not exist in the target. F1 scores for these classes will be cast to zeros.\n"
     ]
    },
    {
     "name": "stdout",
     "output_type": "stream",
     "text": [
      "\n",
      "VALIDATION\n",
      "ACTIVITY: acc 0.6703 MacroF1 0.6528\n",
      "TIMESTAMP: MAE 0.2671\n",
      "RESOURCE: acc 0.5338\n",
      "RESOURCE_ROLE: acc 0.7860\n",
      "TOTAL_LOSS: 3.5378\n",
      "epoch time 14.341643810272217s\n",
      "\n",
      "Epoch: 8\n",
      "\n"
     ]
    },
    {
     "name": "stderr",
     "output_type": "stream",
     "text": [
      "WARNING:root:Warning: Some classes do not exist in the target. F1 scores for these classes will be cast to zeros.\n"
     ]
    },
    {
     "name": "stdout",
     "output_type": "stream",
     "text": [
      "\n",
      "VALIDATION\n",
      "ACTIVITY: acc 0.6620 MacroF1 0.6111\n",
      "TIMESTAMP: MAE 0.1498\n",
      "RESOURCE: acc 0.5365\n",
      "RESOURCE_ROLE: acc 0.7860\n",
      "TOTAL_LOSS: 3.4249\n",
      "epoch time 14.244378566741943s\n",
      "\n",
      "Epoch: 9\n",
      "\n"
     ]
    },
    {
     "name": "stderr",
     "output_type": "stream",
     "text": [
      "WARNING:root:Warning: Some classes do not exist in the target. F1 scores for these classes will be cast to zeros.\n"
     ]
    },
    {
     "name": "stdout",
     "output_type": "stream",
     "text": [
      "\n",
      "VALIDATION\n",
      "ACTIVITY: acc 0.6815 MacroF1 0.6677\n",
      "TIMESTAMP: MAE 0.2061\n",
      "RESOURCE: acc 0.5314\n",
      "RESOURCE_ROLE: acc 0.7860\n",
      "TOTAL_LOSS: 3.4616\n",
      "epoch time 14.077090740203857s\n",
      "\n",
      "Epoch: 10\n",
      "\n"
     ]
    },
    {
     "name": "stderr",
     "output_type": "stream",
     "text": [
      "WARNING:root:Warning: Some classes do not exist in the target. F1 scores for these classes will be cast to zeros.\n"
     ]
    },
    {
     "name": "stdout",
     "output_type": "stream",
     "text": [
      "\n",
      "VALIDATION\n",
      "ACTIVITY: acc 0.6637 MacroF1 0.6232\n",
      "TIMESTAMP: MAE 0.0959\n",
      "RESOURCE: acc 0.5359\n",
      "RESOURCE_ROLE: acc 0.7860\n",
      "TOTAL_LOSS: 3.3600\n",
      "epoch time 14.384815216064453s\n",
      "\n",
      "new best model found\n",
      "Epoch: 11\n",
      "\n"
     ]
    },
    {
     "name": "stderr",
     "output_type": "stream",
     "text": [
      "WARNING:root:Warning: Some classes do not exist in the target. F1 scores for these classes will be cast to zeros.\n"
     ]
    },
    {
     "name": "stdout",
     "output_type": "stream",
     "text": [
      "\n",
      "VALIDATION\n",
      "ACTIVITY: acc 0.6343 MacroF1 0.6165\n",
      "TIMESTAMP: MAE 0.1727\n",
      "RESOURCE: acc 0.5350\n",
      "RESOURCE_ROLE: acc 0.7860\n",
      "TOTAL_LOSS: 3.4714\n",
      "epoch time 14.720630168914795s\n",
      "\n",
      "Epoch: 12\n",
      "\n"
     ]
    },
    {
     "name": "stderr",
     "output_type": "stream",
     "text": [
      "WARNING:root:Warning: Some classes do not exist in the target. F1 scores for these classes will be cast to zeros.\n"
     ]
    },
    {
     "name": "stdout",
     "output_type": "stream",
     "text": [
      "\n",
      "VALIDATION\n",
      "ACTIVITY: acc 0.6610 MacroF1 0.6567\n",
      "TIMESTAMP: MAE 0.1224\n",
      "RESOURCE: acc 0.5312\n",
      "RESOURCE_ROLE: acc 0.7860\n",
      "TOTAL_LOSS: 3.3881\n",
      "epoch time 15.577796936035156s\n",
      "\n",
      "Epoch: 13\n",
      "\n"
     ]
    },
    {
     "name": "stderr",
     "output_type": "stream",
     "text": [
      "WARNING:root:Warning: Some classes do not exist in the target. F1 scores for these classes will be cast to zeros.\n"
     ]
    },
    {
     "name": "stdout",
     "output_type": "stream",
     "text": [
      "\n",
      "VALIDATION\n",
      "ACTIVITY: acc 0.6783 MacroF1 0.6678\n",
      "TIMESTAMP: MAE 0.1064\n",
      "RESOURCE: acc 0.5359\n",
      "RESOURCE_ROLE: acc 0.7727\n",
      "TOTAL_LOSS: 3.3601\n",
      "epoch time 15.733925580978394s\n",
      "\n",
      "Epoch: 14\n",
      "\n"
     ]
    },
    {
     "name": "stderr",
     "output_type": "stream",
     "text": [
      "WARNING:root:Warning: Some classes do not exist in the target. F1 scores for these classes will be cast to zeros.\n"
     ]
    },
    {
     "name": "stdout",
     "output_type": "stream",
     "text": [
      "\n",
      "VALIDATION\n",
      "ACTIVITY: acc 0.6662 MacroF1 0.6407\n",
      "TIMESTAMP: MAE 0.2029\n",
      "RESOURCE: acc 0.5371\n",
      "RESOURCE_ROLE: acc 0.7860\n",
      "TOTAL_LOSS: 3.4470\n",
      "epoch time 15.328032970428467s\n",
      "\n",
      "Epoch: 15\n",
      "\n"
     ]
    },
    {
     "name": "stderr",
     "output_type": "stream",
     "text": [
      "WARNING:root:Warning: Some classes do not exist in the target. F1 scores for these classes will be cast to zeros.\n"
     ]
    },
    {
     "name": "stdout",
     "output_type": "stream",
     "text": [
      "\n",
      "VALIDATION\n",
      "ACTIVITY: acc 0.6538 MacroF1 0.6379\n",
      "TIMESTAMP: MAE 0.1216\n",
      "RESOURCE: acc 0.5378\n",
      "RESOURCE_ROLE: acc 0.7860\n",
      "TOTAL_LOSS: 3.3868\n",
      "epoch time 15.149519443511963s\n",
      "\n",
      "Validation performance didn't improve for 5 epochs. Training stops.\n"
     ]
    },
    {
     "name": "stderr",
     "output_type": "stream",
     "text": [
      "WARNING:root:Warning: Some classes do not exist in the target. F1 scores for these classes will be cast to zeros.\n",
      "[INFO 01-07 18:14:55] ax.core.experiment: Attached data has some metrics ({'activity_accuracy', 'MAE_timestamp', 'resource_roles_accuracy', 'MacroF1Activity', 'resource_accuracy'}) that are not among the metrics on this experiment. Note that attaching data will not automatically add those metrics to the experiment. For these metrics to be automatically fetched by `experiment.fetch_data`, add them via `experiment.add_tracking_metric` or update the experiment's optimization config.\n",
      "[INFO 01-07 18:14:55] ax.service.managed_loop: Running optimization trial 12...\n",
      "[ERROR 01-07 18:14:55] ax.core.observation: Data contains metric MAE_timestamp that has not been added to the experiment. You can either update the `optimization_config` or attach it as a tracking metric using `Experiment.add_tracking_metrics` or `AxClient.add_tracking_metrics`. Ignoring all data for metric MAE_timestamp.\n",
      "NoneType: None\n",
      "[ERROR 01-07 18:14:55] ax.core.observation: Data contains metric MacroF1Activity that has not been added to the experiment. You can either update the `optimization_config` or attach it as a tracking metric using `Experiment.add_tracking_metrics` or `AxClient.add_tracking_metrics`. Ignoring all data for metric MacroF1Activity.\n",
      "NoneType: None\n",
      "[ERROR 01-07 18:14:55] ax.core.observation: Data contains metric activity_accuracy that has not been added to the experiment. You can either update the `optimization_config` or attach it as a tracking metric using `Experiment.add_tracking_metrics` or `AxClient.add_tracking_metrics`. Ignoring all data for metric activity_accuracy.\n",
      "NoneType: None\n",
      "[ERROR 01-07 18:14:55] ax.core.observation: Data contains metric resource_accuracy that has not been added to the experiment. You can either update the `optimization_config` or attach it as a tracking metric using `Experiment.add_tracking_metrics` or `AxClient.add_tracking_metrics`. Ignoring all data for metric resource_accuracy.\n",
      "NoneType: None\n",
      "[ERROR 01-07 18:14:55] ax.core.observation: Data contains metric resource_roles_accuracy that has not been added to the experiment. You can either update the `optimization_config` or attach it as a tracking metric using `Experiment.add_tracking_metrics` or `AxClient.add_tracking_metrics`. Ignoring all data for metric resource_roles_accuracy.\n",
      "NoneType: None\n",
      "[ERROR 01-07 18:14:55] ax.core.observation: Data contains metric MAE_timestamp that has not been added to the experiment. You can either update the `optimization_config` or attach it as a tracking metric using `Experiment.add_tracking_metrics` or `AxClient.add_tracking_metrics`. Ignoring all data for metric MAE_timestamp.\n",
      "NoneType: None\n",
      "[ERROR 01-07 18:14:55] ax.core.observation: Data contains metric MacroF1Activity that has not been added to the experiment. You can either update the `optimization_config` or attach it as a tracking metric using `Experiment.add_tracking_metrics` or `AxClient.add_tracking_metrics`. Ignoring all data for metric MacroF1Activity.\n",
      "NoneType: None\n",
      "[ERROR 01-07 18:14:55] ax.core.observation: Data contains metric activity_accuracy that has not been added to the experiment. You can either update the `optimization_config` or attach it as a tracking metric using `Experiment.add_tracking_metrics` or `AxClient.add_tracking_metrics`. Ignoring all data for metric activity_accuracy.\n",
      "NoneType: None\n",
      "[ERROR 01-07 18:14:55] ax.core.observation: Data contains metric resource_accuracy that has not been added to the experiment. You can either update the `optimization_config` or attach it as a tracking metric using `Experiment.add_tracking_metrics` or `AxClient.add_tracking_metrics`. Ignoring all data for metric resource_accuracy.\n",
      "NoneType: None\n",
      "[ERROR 01-07 18:14:55] ax.core.observation: Data contains metric resource_roles_accuracy that has not been added to the experiment. You can either update the `optimization_config` or attach it as a tracking metric using `Experiment.add_tracking_metrics` or `AxClient.add_tracking_metrics`. Ignoring all data for metric resource_roles_accuracy.\n",
      "NoneType: None\n",
      "[ERROR 01-07 18:14:55] ax.core.observation: Data contains metric MAE_timestamp that has not been added to the experiment. You can either update the `optimization_config` or attach it as a tracking metric using `Experiment.add_tracking_metrics` or `AxClient.add_tracking_metrics`. Ignoring all data for metric MAE_timestamp.\n",
      "NoneType: None\n",
      "[ERROR 01-07 18:14:55] ax.core.observation: Data contains metric MacroF1Activity that has not been added to the experiment. You can either update the `optimization_config` or attach it as a tracking metric using `Experiment.add_tracking_metrics` or `AxClient.add_tracking_metrics`. Ignoring all data for metric MacroF1Activity.\n",
      "NoneType: None\n",
      "[ERROR 01-07 18:14:55] ax.core.observation: Data contains metric activity_accuracy that has not been added to the experiment. You can either update the `optimization_config` or attach it as a tracking metric using `Experiment.add_tracking_metrics` or `AxClient.add_tracking_metrics`. Ignoring all data for metric activity_accuracy.\n",
      "NoneType: None\n",
      "[ERROR 01-07 18:14:55] ax.core.observation: Data contains metric resource_accuracy that has not been added to the experiment. You can either update the `optimization_config` or attach it as a tracking metric using `Experiment.add_tracking_metrics` or `AxClient.add_tracking_metrics`. Ignoring all data for metric resource_accuracy.\n",
      "NoneType: None\n",
      "[ERROR 01-07 18:14:55] ax.core.observation: Data contains metric resource_roles_accuracy that has not been added to the experiment. You can either update the `optimization_config` or attach it as a tracking metric using `Experiment.add_tracking_metrics` or `AxClient.add_tracking_metrics`. Ignoring all data for metric resource_roles_accuracy.\n",
      "NoneType: None\n",
      "[ERROR 01-07 18:14:55] ax.core.observation: Data contains metric MAE_timestamp that has not been added to the experiment. You can either update the `optimization_config` or attach it as a tracking metric using `Experiment.add_tracking_metrics` or `AxClient.add_tracking_metrics`. Ignoring all data for metric MAE_timestamp.\n",
      "NoneType: None\n",
      "[ERROR 01-07 18:14:55] ax.core.observation: Data contains metric MacroF1Activity that has not been added to the experiment. You can either update the `optimization_config` or attach it as a tracking metric using `Experiment.add_tracking_metrics` or `AxClient.add_tracking_metrics`. Ignoring all data for metric MacroF1Activity.\n",
      "NoneType: None\n",
      "[ERROR 01-07 18:14:55] ax.core.observation: Data contains metric activity_accuracy that has not been added to the experiment. You can either update the `optimization_config` or attach it as a tracking metric using `Experiment.add_tracking_metrics` or `AxClient.add_tracking_metrics`. Ignoring all data for metric activity_accuracy.\n",
      "NoneType: None\n",
      "[ERROR 01-07 18:14:55] ax.core.observation: Data contains metric resource_accuracy that has not been added to the experiment. You can either update the `optimization_config` or attach it as a tracking metric using `Experiment.add_tracking_metrics` or `AxClient.add_tracking_metrics`. Ignoring all data for metric resource_accuracy.\n",
      "NoneType: None\n",
      "[ERROR 01-07 18:14:55] ax.core.observation: Data contains metric resource_roles_accuracy that has not been added to the experiment. You can either update the `optimization_config` or attach it as a tracking metric using `Experiment.add_tracking_metrics` or `AxClient.add_tracking_metrics`. Ignoring all data for metric resource_roles_accuracy.\n",
      "NoneType: None\n",
      "[ERROR 01-07 18:14:55] ax.core.observation: Data contains metric MAE_timestamp that has not been added to the experiment. You can either update the `optimization_config` or attach it as a tracking metric using `Experiment.add_tracking_metrics` or `AxClient.add_tracking_metrics`. Ignoring all data for metric MAE_timestamp.\n",
      "NoneType: None\n",
      "[ERROR 01-07 18:14:55] ax.core.observation: Data contains metric MacroF1Activity that has not been added to the experiment. You can either update the `optimization_config` or attach it as a tracking metric using `Experiment.add_tracking_metrics` or `AxClient.add_tracking_metrics`. Ignoring all data for metric MacroF1Activity.\n",
      "NoneType: None\n",
      "[ERROR 01-07 18:14:55] ax.core.observation: Data contains metric activity_accuracy that has not been added to the experiment. You can either update the `optimization_config` or attach it as a tracking metric using `Experiment.add_tracking_metrics` or `AxClient.add_tracking_metrics`. Ignoring all data for metric activity_accuracy.\n",
      "NoneType: None\n",
      "[ERROR 01-07 18:14:55] ax.core.observation: Data contains metric resource_accuracy that has not been added to the experiment. You can either update the `optimization_config` or attach it as a tracking metric using `Experiment.add_tracking_metrics` or `AxClient.add_tracking_metrics`. Ignoring all data for metric resource_accuracy.\n",
      "NoneType: None\n",
      "[ERROR 01-07 18:14:55] ax.core.observation: Data contains metric resource_roles_accuracy that has not been added to the experiment. You can either update the `optimization_config` or attach it as a tracking metric using `Experiment.add_tracking_metrics` or `AxClient.add_tracking_metrics`. Ignoring all data for metric resource_roles_accuracy.\n",
      "NoneType: None\n",
      "[ERROR 01-07 18:14:55] ax.core.observation: Data contains metric MAE_timestamp that has not been added to the experiment. You can either update the `optimization_config` or attach it as a tracking metric using `Experiment.add_tracking_metrics` or `AxClient.add_tracking_metrics`. Ignoring all data for metric MAE_timestamp.\n",
      "NoneType: None\n",
      "[ERROR 01-07 18:14:55] ax.core.observation: Data contains metric MacroF1Activity that has not been added to the experiment. You can either update the `optimization_config` or attach it as a tracking metric using `Experiment.add_tracking_metrics` or `AxClient.add_tracking_metrics`. Ignoring all data for metric MacroF1Activity.\n",
      "NoneType: None\n",
      "[ERROR 01-07 18:14:55] ax.core.observation: Data contains metric activity_accuracy that has not been added to the experiment. You can either update the `optimization_config` or attach it as a tracking metric using `Experiment.add_tracking_metrics` or `AxClient.add_tracking_metrics`. Ignoring all data for metric activity_accuracy.\n",
      "NoneType: None\n",
      "[ERROR 01-07 18:14:55] ax.core.observation: Data contains metric resource_accuracy that has not been added to the experiment. You can either update the `optimization_config` or attach it as a tracking metric using `Experiment.add_tracking_metrics` or `AxClient.add_tracking_metrics`. Ignoring all data for metric resource_accuracy.\n",
      "NoneType: None\n",
      "[ERROR 01-07 18:14:55] ax.core.observation: Data contains metric resource_roles_accuracy that has not been added to the experiment. You can either update the `optimization_config` or attach it as a tracking metric using `Experiment.add_tracking_metrics` or `AxClient.add_tracking_metrics`. Ignoring all data for metric resource_roles_accuracy.\n",
      "NoneType: None\n",
      "[ERROR 01-07 18:14:55] ax.core.observation: Data contains metric MAE_timestamp that has not been added to the experiment. You can either update the `optimization_config` or attach it as a tracking metric using `Experiment.add_tracking_metrics` or `AxClient.add_tracking_metrics`. Ignoring all data for metric MAE_timestamp.\n",
      "NoneType: None\n",
      "[ERROR 01-07 18:14:55] ax.core.observation: Data contains metric MacroF1Activity that has not been added to the experiment. You can either update the `optimization_config` or attach it as a tracking metric using `Experiment.add_tracking_metrics` or `AxClient.add_tracking_metrics`. Ignoring all data for metric MacroF1Activity.\n",
      "NoneType: None\n",
      "[ERROR 01-07 18:14:55] ax.core.observation: Data contains metric activity_accuracy that has not been added to the experiment. You can either update the `optimization_config` or attach it as a tracking metric using `Experiment.add_tracking_metrics` or `AxClient.add_tracking_metrics`. Ignoring all data for metric activity_accuracy.\n",
      "NoneType: None\n",
      "[ERROR 01-07 18:14:55] ax.core.observation: Data contains metric resource_accuracy that has not been added to the experiment. You can either update the `optimization_config` or attach it as a tracking metric using `Experiment.add_tracking_metrics` or `AxClient.add_tracking_metrics`. Ignoring all data for metric resource_accuracy.\n",
      "NoneType: None\n",
      "[ERROR 01-07 18:14:55] ax.core.observation: Data contains metric resource_roles_accuracy that has not been added to the experiment. You can either update the `optimization_config` or attach it as a tracking metric using `Experiment.add_tracking_metrics` or `AxClient.add_tracking_metrics`. Ignoring all data for metric resource_roles_accuracy.\n",
      "NoneType: None\n",
      "[ERROR 01-07 18:14:55] ax.core.observation: Data contains metric MAE_timestamp that has not been added to the experiment. You can either update the `optimization_config` or attach it as a tracking metric using `Experiment.add_tracking_metrics` or `AxClient.add_tracking_metrics`. Ignoring all data for metric MAE_timestamp.\n",
      "NoneType: None\n",
      "[ERROR 01-07 18:14:55] ax.core.observation: Data contains metric MacroF1Activity that has not been added to the experiment. You can either update the `optimization_config` or attach it as a tracking metric using `Experiment.add_tracking_metrics` or `AxClient.add_tracking_metrics`. Ignoring all data for metric MacroF1Activity.\n",
      "NoneType: None\n",
      "[ERROR 01-07 18:14:55] ax.core.observation: Data contains metric activity_accuracy that has not been added to the experiment. You can either update the `optimization_config` or attach it as a tracking metric using `Experiment.add_tracking_metrics` or `AxClient.add_tracking_metrics`. Ignoring all data for metric activity_accuracy.\n",
      "NoneType: None\n",
      "[ERROR 01-07 18:14:55] ax.core.observation: Data contains metric resource_accuracy that has not been added to the experiment. You can either update the `optimization_config` or attach it as a tracking metric using `Experiment.add_tracking_metrics` or `AxClient.add_tracking_metrics`. Ignoring all data for metric resource_accuracy.\n",
      "NoneType: None\n",
      "[ERROR 01-07 18:14:55] ax.core.observation: Data contains metric resource_roles_accuracy that has not been added to the experiment. You can either update the `optimization_config` or attach it as a tracking metric using `Experiment.add_tracking_metrics` or `AxClient.add_tracking_metrics`. Ignoring all data for metric resource_roles_accuracy.\n",
      "NoneType: None\n",
      "[ERROR 01-07 18:14:55] ax.core.observation: Data contains metric MAE_timestamp that has not been added to the experiment. You can either update the `optimization_config` or attach it as a tracking metric using `Experiment.add_tracking_metrics` or `AxClient.add_tracking_metrics`. Ignoring all data for metric MAE_timestamp.\n",
      "NoneType: None\n",
      "[ERROR 01-07 18:14:55] ax.core.observation: Data contains metric MacroF1Activity that has not been added to the experiment. You can either update the `optimization_config` or attach it as a tracking metric using `Experiment.add_tracking_metrics` or `AxClient.add_tracking_metrics`. Ignoring all data for metric MacroF1Activity.\n",
      "NoneType: None\n",
      "[ERROR 01-07 18:14:55] ax.core.observation: Data contains metric activity_accuracy that has not been added to the experiment. You can either update the `optimization_config` or attach it as a tracking metric using `Experiment.add_tracking_metrics` or `AxClient.add_tracking_metrics`. Ignoring all data for metric activity_accuracy.\n",
      "NoneType: None\n",
      "[ERROR 01-07 18:14:55] ax.core.observation: Data contains metric resource_accuracy that has not been added to the experiment. You can either update the `optimization_config` or attach it as a tracking metric using `Experiment.add_tracking_metrics` or `AxClient.add_tracking_metrics`. Ignoring all data for metric resource_accuracy.\n",
      "NoneType: None\n",
      "[ERROR 01-07 18:14:55] ax.core.observation: Data contains metric resource_roles_accuracy that has not been added to the experiment. You can either update the `optimization_config` or attach it as a tracking metric using `Experiment.add_tracking_metrics` or `AxClient.add_tracking_metrics`. Ignoring all data for metric resource_roles_accuracy.\n",
      "NoneType: None\n",
      "[ERROR 01-07 18:14:55] ax.core.observation: Data contains metric MAE_timestamp that has not been added to the experiment. You can either update the `optimization_config` or attach it as a tracking metric using `Experiment.add_tracking_metrics` or `AxClient.add_tracking_metrics`. Ignoring all data for metric MAE_timestamp.\n",
      "NoneType: None\n",
      "[ERROR 01-07 18:14:55] ax.core.observation: Data contains metric MacroF1Activity that has not been added to the experiment. You can either update the `optimization_config` or attach it as a tracking metric using `Experiment.add_tracking_metrics` or `AxClient.add_tracking_metrics`. Ignoring all data for metric MacroF1Activity.\n",
      "NoneType: None\n",
      "[ERROR 01-07 18:14:55] ax.core.observation: Data contains metric activity_accuracy that has not been added to the experiment. You can either update the `optimization_config` or attach it as a tracking metric using `Experiment.add_tracking_metrics` or `AxClient.add_tracking_metrics`. Ignoring all data for metric activity_accuracy.\n",
      "NoneType: None\n",
      "[ERROR 01-07 18:14:55] ax.core.observation: Data contains metric resource_accuracy that has not been added to the experiment. You can either update the `optimization_config` or attach it as a tracking metric using `Experiment.add_tracking_metrics` or `AxClient.add_tracking_metrics`. Ignoring all data for metric resource_accuracy.\n",
      "NoneType: None\n",
      "[ERROR 01-07 18:14:55] ax.core.observation: Data contains metric resource_roles_accuracy that has not been added to the experiment. You can either update the `optimization_config` or attach it as a tracking metric using `Experiment.add_tracking_metrics` or `AxClient.add_tracking_metrics`. Ignoring all data for metric resource_roles_accuracy.\n",
      "NoneType: None\n",
      "[ERROR 01-07 18:14:55] ax.core.observation: Data contains metric MAE_timestamp that has not been added to the experiment. You can either update the `optimization_config` or attach it as a tracking metric using `Experiment.add_tracking_metrics` or `AxClient.add_tracking_metrics`. Ignoring all data for metric MAE_timestamp.\n",
      "NoneType: None\n",
      "[ERROR 01-07 18:14:55] ax.core.observation: Data contains metric MacroF1Activity that has not been added to the experiment. You can either update the `optimization_config` or attach it as a tracking metric using `Experiment.add_tracking_metrics` or `AxClient.add_tracking_metrics`. Ignoring all data for metric MacroF1Activity.\n",
      "NoneType: None\n",
      "[ERROR 01-07 18:14:55] ax.core.observation: Data contains metric activity_accuracy that has not been added to the experiment. You can either update the `optimization_config` or attach it as a tracking metric using `Experiment.add_tracking_metrics` or `AxClient.add_tracking_metrics`. Ignoring all data for metric activity_accuracy.\n",
      "NoneType: None\n",
      "[ERROR 01-07 18:14:55] ax.core.observation: Data contains metric resource_accuracy that has not been added to the experiment. You can either update the `optimization_config` or attach it as a tracking metric using `Experiment.add_tracking_metrics` or `AxClient.add_tracking_metrics`. Ignoring all data for metric resource_accuracy.\n",
      "NoneType: None\n",
      "[ERROR 01-07 18:14:55] ax.core.observation: Data contains metric resource_roles_accuracy that has not been added to the experiment. You can either update the `optimization_config` or attach it as a tracking metric using `Experiment.add_tracking_metrics` or `AxClient.add_tracking_metrics`. Ignoring all data for metric resource_roles_accuracy.\n",
      "NoneType: None\n"
     ]
    },
    {
     "name": "stdout",
     "output_type": "stream",
     "text": [
      "{'lr': 0.00424173988739032, 'batch_size': 256, 'heads': 4, 'hid': 128, 'layers': 2, 'aggregation': 'max'}\n",
      "Epoch: 0\n",
      "\n"
     ]
    },
    {
     "name": "stderr",
     "output_type": "stream",
     "text": [
      "WARNING:root:Warning: Some classes do not exist in the target. F1 scores for these classes will be cast to zeros.\n"
     ]
    },
    {
     "name": "stdout",
     "output_type": "stream",
     "text": [
      "\n",
      "VALIDATION\n",
      "ACTIVITY: acc 0.5854 MacroF1 0.5442\n",
      "TIMESTAMP: MAE 0.2446\n",
      "RESOURCE: acc 0.3107\n",
      "RESOURCE_ROLE: acc 0.7026\n",
      "TOTAL_LOSS: 4.3328\n",
      "epoch time 14.561432123184204s\n",
      "\n",
      "Epoch: 1\n",
      "\n"
     ]
    },
    {
     "name": "stderr",
     "output_type": "stream",
     "text": [
      "WARNING:root:Warning: Some classes do not exist in the target. F1 scores for these classes will be cast to zeros.\n"
     ]
    },
    {
     "name": "stdout",
     "output_type": "stream",
     "text": [
      "\n",
      "VALIDATION\n",
      "ACTIVITY: acc 0.6582 MacroF1 0.6179\n",
      "TIMESTAMP: MAE 0.1804\n",
      "RESOURCE: acc 0.4095\n",
      "RESOURCE_ROLE: acc 0.7848\n",
      "TOTAL_LOSS: 3.9506\n",
      "epoch time 15.255735874176025s\n",
      "\n",
      "new best model found\n",
      "Epoch: 2\n",
      "\n"
     ]
    },
    {
     "name": "stderr",
     "output_type": "stream",
     "text": [
      "WARNING:root:Warning: Some classes do not exist in the target. F1 scores for these classes will be cast to zeros.\n"
     ]
    },
    {
     "name": "stdout",
     "output_type": "stream",
     "text": [
      "\n",
      "VALIDATION\n",
      "ACTIVITY: acc 0.6580 MacroF1 0.6170\n",
      "TIMESTAMP: MAE 0.3353\n",
      "RESOURCE: acc 0.4281\n",
      "RESOURCE_ROLE: acc 0.7848\n",
      "TOTAL_LOSS: 4.0166\n",
      "epoch time 16.41304898262024s\n",
      "\n",
      "Epoch: 3\n",
      "\n"
     ]
    },
    {
     "name": "stderr",
     "output_type": "stream",
     "text": [
      "WARNING:root:Warning: Some classes do not exist in the target. F1 scores for these classes will be cast to zeros.\n"
     ]
    },
    {
     "name": "stdout",
     "output_type": "stream",
     "text": [
      "\n",
      "VALIDATION\n",
      "ACTIVITY: acc 0.6438 MacroF1 0.5780\n",
      "TIMESTAMP: MAE 0.0566\n",
      "RESOURCE: acc 0.4832\n",
      "RESOURCE_ROLE: acc 0.7862\n",
      "TOTAL_LOSS: 3.5818\n",
      "epoch time 16.14624834060669s\n",
      "\n",
      "new best model found\n",
      "Epoch: 4\n",
      "\n"
     ]
    },
    {
     "name": "stderr",
     "output_type": "stream",
     "text": [
      "WARNING:root:Warning: Some classes do not exist in the target. F1 scores for these classes will be cast to zeros.\n"
     ]
    },
    {
     "name": "stdout",
     "output_type": "stream",
     "text": [
      "\n",
      "VALIDATION\n",
      "ACTIVITY: acc 0.6565 MacroF1 0.6141\n",
      "TIMESTAMP: MAE 0.3913\n",
      "RESOURCE: acc 0.5134\n",
      "RESOURCE_ROLE: acc 0.7848\n",
      "TOTAL_LOSS: 3.7722\n",
      "epoch time 16.231373071670532s\n",
      "\n",
      "Epoch: 5\n",
      "\n"
     ]
    },
    {
     "name": "stderr",
     "output_type": "stream",
     "text": [
      "WARNING:root:Warning: Some classes do not exist in the target. F1 scores for these classes will be cast to zeros.\n"
     ]
    },
    {
     "name": "stdout",
     "output_type": "stream",
     "text": [
      "\n",
      "VALIDATION\n",
      "ACTIVITY: acc 0.5945 MacroF1 0.5719\n",
      "TIMESTAMP: MAE 0.0992\n",
      "RESOURCE: acc 0.5223\n",
      "RESOURCE_ROLE: acc 0.7862\n",
      "TOTAL_LOSS: 3.4275\n",
      "epoch time 16.218505859375s\n",
      "\n",
      "new best model found\n",
      "Epoch: 6\n",
      "\n"
     ]
    },
    {
     "name": "stderr",
     "output_type": "stream",
     "text": [
      "WARNING:root:Warning: Some classes do not exist in the target. F1 scores for these classes will be cast to zeros.\n"
     ]
    },
    {
     "name": "stdout",
     "output_type": "stream",
     "text": [
      "\n",
      "VALIDATION\n",
      "ACTIVITY: acc 0.6546 MacroF1 0.6093\n",
      "TIMESTAMP: MAE 0.2374\n",
      "RESOURCE: acc 0.5310\n",
      "RESOURCE_ROLE: acc 0.7862\n",
      "TOTAL_LOSS: 3.5318\n",
      "epoch time 16.024041175842285s\n",
      "\n",
      "Epoch: 7\n",
      "\n"
     ]
    },
    {
     "name": "stderr",
     "output_type": "stream",
     "text": [
      "WARNING:root:Warning: Some classes do not exist in the target. F1 scores for these classes will be cast to zeros.\n"
     ]
    },
    {
     "name": "stdout",
     "output_type": "stream",
     "text": [
      "\n",
      "VALIDATION\n",
      "ACTIVITY: acc 0.6578 MacroF1 0.6078\n",
      "TIMESTAMP: MAE 0.3146\n",
      "RESOURCE: acc 0.5367\n",
      "RESOURCE_ROLE: acc 0.7862\n",
      "TOTAL_LOSS: 3.5696\n",
      "epoch time 14.544200658798218s\n",
      "\n",
      "Epoch: 8\n",
      "\n"
     ]
    },
    {
     "name": "stderr",
     "output_type": "stream",
     "text": [
      "WARNING:root:Warning: Some classes do not exist in the target. F1 scores for these classes will be cast to zeros.\n"
     ]
    },
    {
     "name": "stdout",
     "output_type": "stream",
     "text": [
      "\n",
      "VALIDATION\n",
      "ACTIVITY: acc 0.6794 MacroF1 0.6676\n",
      "TIMESTAMP: MAE 0.2982\n",
      "RESOURCE: acc 0.5369\n",
      "RESOURCE_ROLE: acc 0.7860\n",
      "TOTAL_LOSS: 3.5520\n",
      "epoch time 14.657088041305542s\n",
      "\n",
      "Epoch: 9\n",
      "\n"
     ]
    },
    {
     "name": "stderr",
     "output_type": "stream",
     "text": [
      "WARNING:root:Warning: Some classes do not exist in the target. F1 scores for these classes will be cast to zeros.\n"
     ]
    },
    {
     "name": "stdout",
     "output_type": "stream",
     "text": [
      "\n",
      "VALIDATION\n",
      "ACTIVITY: acc 0.6662 MacroF1 0.6236\n",
      "TIMESTAMP: MAE 0.2189\n",
      "RESOURCE: acc 0.5361\n",
      "RESOURCE_ROLE: acc 0.7860\n",
      "TOTAL_LOSS: 3.4637\n",
      "epoch time 16.029056072235107s\n",
      "\n",
      "Epoch: 10\n",
      "\n"
     ]
    },
    {
     "name": "stderr",
     "output_type": "stream",
     "text": [
      "WARNING:root:Warning: Some classes do not exist in the target. F1 scores for these classes will be cast to zeros.\n"
     ]
    },
    {
     "name": "stdout",
     "output_type": "stream",
     "text": [
      "\n",
      "VALIDATION\n",
      "ACTIVITY: acc 0.6658 MacroF1 0.6631\n",
      "TIMESTAMP: MAE 0.0690\n",
      "RESOURCE: acc 0.5388\n",
      "RESOURCE_ROLE: acc 0.7848\n",
      "TOTAL_LOSS: 3.3069\n",
      "epoch time 14.718291997909546s\n",
      "\n",
      "new best model found\n",
      "Epoch: 11\n",
      "\n"
     ]
    },
    {
     "name": "stderr",
     "output_type": "stream",
     "text": [
      "WARNING:root:Warning: Some classes do not exist in the target. F1 scores for these classes will be cast to zeros.\n"
     ]
    },
    {
     "name": "stdout",
     "output_type": "stream",
     "text": [
      "\n",
      "VALIDATION\n",
      "ACTIVITY: acc 0.6747 MacroF1 0.6703\n",
      "TIMESTAMP: MAE 0.0746\n",
      "RESOURCE: acc 0.5363\n",
      "RESOURCE_ROLE: acc 0.7862\n",
      "TOTAL_LOSS: 3.3180\n",
      "epoch time 15.636048555374146s\n",
      "\n",
      "Epoch: 12\n",
      "\n"
     ]
    },
    {
     "name": "stderr",
     "output_type": "stream",
     "text": [
      "WARNING:root:Warning: Some classes do not exist in the target. F1 scores for these classes will be cast to zeros.\n"
     ]
    },
    {
     "name": "stdout",
     "output_type": "stream",
     "text": [
      "\n",
      "VALIDATION\n",
      "ACTIVITY: acc 0.6669 MacroF1 0.6503\n",
      "TIMESTAMP: MAE 0.1559\n",
      "RESOURCE: acc 0.5357\n",
      "RESOURCE_ROLE: acc 0.7860\n",
      "TOTAL_LOSS: 3.4151\n",
      "epoch time 16.596978664398193s\n",
      "\n",
      "Epoch: 13\n",
      "\n"
     ]
    },
    {
     "name": "stderr",
     "output_type": "stream",
     "text": [
      "WARNING:root:Warning: Some classes do not exist in the target. F1 scores for these classes will be cast to zeros.\n"
     ]
    },
    {
     "name": "stdout",
     "output_type": "stream",
     "text": [
      "\n",
      "VALIDATION\n",
      "ACTIVITY: acc 0.6705 MacroF1 0.6341\n",
      "TIMESTAMP: MAE 0.0565\n",
      "RESOURCE: acc 0.5395\n",
      "RESOURCE_ROLE: acc 0.7854\n",
      "TOTAL_LOSS: 3.2869\n",
      "epoch time 16.449785947799683s\n",
      "\n",
      "new best model found\n",
      "Epoch: 14\n",
      "\n"
     ]
    },
    {
     "name": "stderr",
     "output_type": "stream",
     "text": [
      "WARNING:root:Warning: Some classes do not exist in the target. F1 scores for these classes will be cast to zeros.\n"
     ]
    },
    {
     "name": "stdout",
     "output_type": "stream",
     "text": [
      "\n",
      "VALIDATION\n",
      "ACTIVITY: acc 0.6715 MacroF1 0.6550\n",
      "TIMESTAMP: MAE 0.2359\n",
      "RESOURCE: acc 0.5374\n",
      "RESOURCE_ROLE: acc 0.7860\n",
      "TOTAL_LOSS: 3.5122\n",
      "epoch time 16.183851957321167s\n",
      "\n",
      "Epoch: 15\n",
      "\n"
     ]
    },
    {
     "name": "stderr",
     "output_type": "stream",
     "text": [
      "WARNING:root:Warning: Some classes do not exist in the target. F1 scores for these classes will be cast to zeros.\n"
     ]
    },
    {
     "name": "stdout",
     "output_type": "stream",
     "text": [
      "\n",
      "VALIDATION\n",
      "ACTIVITY: acc 0.6711 MacroF1 0.6389\n",
      "TIMESTAMP: MAE 0.1332\n",
      "RESOURCE: acc 0.5378\n",
      "RESOURCE_ROLE: acc 0.7812\n",
      "TOTAL_LOSS: 3.4022\n",
      "epoch time 16.186573028564453s\n",
      "\n",
      "Epoch: 16\n",
      "\n"
     ]
    },
    {
     "name": "stderr",
     "output_type": "stream",
     "text": [
      "WARNING:root:Warning: Some classes do not exist in the target. F1 scores for these classes will be cast to zeros.\n"
     ]
    },
    {
     "name": "stdout",
     "output_type": "stream",
     "text": [
      "\n",
      "VALIDATION\n",
      "ACTIVITY: acc 0.6775 MacroF1 0.6490\n",
      "TIMESTAMP: MAE 0.0648\n",
      "RESOURCE: acc 0.5367\n",
      "RESOURCE_ROLE: acc 0.7860\n",
      "TOTAL_LOSS: 3.3396\n",
      "epoch time 16.199944257736206s\n",
      "\n",
      "Epoch: 17\n",
      "\n"
     ]
    },
    {
     "name": "stderr",
     "output_type": "stream",
     "text": [
      "WARNING:root:Warning: Some classes do not exist in the target. F1 scores for these classes will be cast to zeros.\n"
     ]
    },
    {
     "name": "stdout",
     "output_type": "stream",
     "text": [
      "\n",
      "VALIDATION\n",
      "ACTIVITY: acc 0.6720 MacroF1 0.6650\n",
      "TIMESTAMP: MAE 0.2270\n",
      "RESOURCE: acc 0.5342\n",
      "RESOURCE_ROLE: acc 0.7860\n",
      "TOTAL_LOSS: 3.4830\n",
      "epoch time 16.087979316711426s\n",
      "\n",
      "Epoch: 18\n",
      "\n"
     ]
    },
    {
     "name": "stderr",
     "output_type": "stream",
     "text": [
      "WARNING:root:Warning: Some classes do not exist in the target. F1 scores for these classes will be cast to zeros.\n"
     ]
    },
    {
     "name": "stdout",
     "output_type": "stream",
     "text": [
      "\n",
      "VALIDATION\n",
      "ACTIVITY: acc 0.6715 MacroF1 0.6620\n",
      "TIMESTAMP: MAE 0.0630\n",
      "RESOURCE: acc 0.5371\n",
      "RESOURCE_ROLE: acc 0.7860\n",
      "TOTAL_LOSS: 3.3310\n",
      "epoch time 14.819453716278076s\n",
      "\n",
      "Validation performance didn't improve for 5 epochs. Training stops.\n"
     ]
    },
    {
     "name": "stderr",
     "output_type": "stream",
     "text": [
      "WARNING:root:Warning: Some classes do not exist in the target. F1 scores for these classes will be cast to zeros.\n",
      "[INFO 01-07 18:20:06] ax.core.experiment: Attached data has some metrics ({'activity_accuracy', 'MAE_timestamp', 'resource_roles_accuracy', 'MacroF1Activity', 'resource_accuracy'}) that are not among the metrics on this experiment. Note that attaching data will not automatically add those metrics to the experiment. For these metrics to be automatically fetched by `experiment.fetch_data`, add them via `experiment.add_tracking_metric` or update the experiment's optimization config.\n",
      "[INFO 01-07 18:20:06] ax.service.managed_loop: Running optimization trial 13...\n",
      "[ERROR 01-07 18:20:06] ax.core.observation: Data contains metric MAE_timestamp that has not been added to the experiment. You can either update the `optimization_config` or attach it as a tracking metric using `Experiment.add_tracking_metrics` or `AxClient.add_tracking_metrics`. Ignoring all data for metric MAE_timestamp.\n",
      "NoneType: None\n",
      "[ERROR 01-07 18:20:06] ax.core.observation: Data contains metric MacroF1Activity that has not been added to the experiment. You can either update the `optimization_config` or attach it as a tracking metric using `Experiment.add_tracking_metrics` or `AxClient.add_tracking_metrics`. Ignoring all data for metric MacroF1Activity.\n",
      "NoneType: None\n",
      "[ERROR 01-07 18:20:06] ax.core.observation: Data contains metric activity_accuracy that has not been added to the experiment. You can either update the `optimization_config` or attach it as a tracking metric using `Experiment.add_tracking_metrics` or `AxClient.add_tracking_metrics`. Ignoring all data for metric activity_accuracy.\n",
      "NoneType: None\n",
      "[ERROR 01-07 18:20:06] ax.core.observation: Data contains metric resource_accuracy that has not been added to the experiment. You can either update the `optimization_config` or attach it as a tracking metric using `Experiment.add_tracking_metrics` or `AxClient.add_tracking_metrics`. Ignoring all data for metric resource_accuracy.\n",
      "NoneType: None\n",
      "[ERROR 01-07 18:20:06] ax.core.observation: Data contains metric resource_roles_accuracy that has not been added to the experiment. You can either update the `optimization_config` or attach it as a tracking metric using `Experiment.add_tracking_metrics` or `AxClient.add_tracking_metrics`. Ignoring all data for metric resource_roles_accuracy.\n",
      "NoneType: None\n",
      "[ERROR 01-07 18:20:06] ax.core.observation: Data contains metric MAE_timestamp that has not been added to the experiment. You can either update the `optimization_config` or attach it as a tracking metric using `Experiment.add_tracking_metrics` or `AxClient.add_tracking_metrics`. Ignoring all data for metric MAE_timestamp.\n",
      "NoneType: None\n",
      "[ERROR 01-07 18:20:06] ax.core.observation: Data contains metric MacroF1Activity that has not been added to the experiment. You can either update the `optimization_config` or attach it as a tracking metric using `Experiment.add_tracking_metrics` or `AxClient.add_tracking_metrics`. Ignoring all data for metric MacroF1Activity.\n",
      "NoneType: None\n",
      "[ERROR 01-07 18:20:06] ax.core.observation: Data contains metric activity_accuracy that has not been added to the experiment. You can either update the `optimization_config` or attach it as a tracking metric using `Experiment.add_tracking_metrics` or `AxClient.add_tracking_metrics`. Ignoring all data for metric activity_accuracy.\n",
      "NoneType: None\n",
      "[ERROR 01-07 18:20:06] ax.core.observation: Data contains metric resource_accuracy that has not been added to the experiment. You can either update the `optimization_config` or attach it as a tracking metric using `Experiment.add_tracking_metrics` or `AxClient.add_tracking_metrics`. Ignoring all data for metric resource_accuracy.\n",
      "NoneType: None\n",
      "[ERROR 01-07 18:20:06] ax.core.observation: Data contains metric resource_roles_accuracy that has not been added to the experiment. You can either update the `optimization_config` or attach it as a tracking metric using `Experiment.add_tracking_metrics` or `AxClient.add_tracking_metrics`. Ignoring all data for metric resource_roles_accuracy.\n",
      "NoneType: None\n",
      "[ERROR 01-07 18:20:06] ax.core.observation: Data contains metric MAE_timestamp that has not been added to the experiment. You can either update the `optimization_config` or attach it as a tracking metric using `Experiment.add_tracking_metrics` or `AxClient.add_tracking_metrics`. Ignoring all data for metric MAE_timestamp.\n",
      "NoneType: None\n",
      "[ERROR 01-07 18:20:06] ax.core.observation: Data contains metric MacroF1Activity that has not been added to the experiment. You can either update the `optimization_config` or attach it as a tracking metric using `Experiment.add_tracking_metrics` or `AxClient.add_tracking_metrics`. Ignoring all data for metric MacroF1Activity.\n",
      "NoneType: None\n",
      "[ERROR 01-07 18:20:06] ax.core.observation: Data contains metric activity_accuracy that has not been added to the experiment. You can either update the `optimization_config` or attach it as a tracking metric using `Experiment.add_tracking_metrics` or `AxClient.add_tracking_metrics`. Ignoring all data for metric activity_accuracy.\n",
      "NoneType: None\n",
      "[ERROR 01-07 18:20:06] ax.core.observation: Data contains metric resource_accuracy that has not been added to the experiment. You can either update the `optimization_config` or attach it as a tracking metric using `Experiment.add_tracking_metrics` or `AxClient.add_tracking_metrics`. Ignoring all data for metric resource_accuracy.\n",
      "NoneType: None\n",
      "[ERROR 01-07 18:20:06] ax.core.observation: Data contains metric resource_roles_accuracy that has not been added to the experiment. You can either update the `optimization_config` or attach it as a tracking metric using `Experiment.add_tracking_metrics` or `AxClient.add_tracking_metrics`. Ignoring all data for metric resource_roles_accuracy.\n",
      "NoneType: None\n",
      "[ERROR 01-07 18:20:06] ax.core.observation: Data contains metric MAE_timestamp that has not been added to the experiment. You can either update the `optimization_config` or attach it as a tracking metric using `Experiment.add_tracking_metrics` or `AxClient.add_tracking_metrics`. Ignoring all data for metric MAE_timestamp.\n",
      "NoneType: None\n",
      "[ERROR 01-07 18:20:06] ax.core.observation: Data contains metric MacroF1Activity that has not been added to the experiment. You can either update the `optimization_config` or attach it as a tracking metric using `Experiment.add_tracking_metrics` or `AxClient.add_tracking_metrics`. Ignoring all data for metric MacroF1Activity.\n",
      "NoneType: None\n",
      "[ERROR 01-07 18:20:06] ax.core.observation: Data contains metric activity_accuracy that has not been added to the experiment. You can either update the `optimization_config` or attach it as a tracking metric using `Experiment.add_tracking_metrics` or `AxClient.add_tracking_metrics`. Ignoring all data for metric activity_accuracy.\n",
      "NoneType: None\n",
      "[ERROR 01-07 18:20:06] ax.core.observation: Data contains metric resource_accuracy that has not been added to the experiment. You can either update the `optimization_config` or attach it as a tracking metric using `Experiment.add_tracking_metrics` or `AxClient.add_tracking_metrics`. Ignoring all data for metric resource_accuracy.\n",
      "NoneType: None\n",
      "[ERROR 01-07 18:20:06] ax.core.observation: Data contains metric resource_roles_accuracy that has not been added to the experiment. You can either update the `optimization_config` or attach it as a tracking metric using `Experiment.add_tracking_metrics` or `AxClient.add_tracking_metrics`. Ignoring all data for metric resource_roles_accuracy.\n",
      "NoneType: None\n",
      "[ERROR 01-07 18:20:06] ax.core.observation: Data contains metric MAE_timestamp that has not been added to the experiment. You can either update the `optimization_config` or attach it as a tracking metric using `Experiment.add_tracking_metrics` or `AxClient.add_tracking_metrics`. Ignoring all data for metric MAE_timestamp.\n",
      "NoneType: None\n",
      "[ERROR 01-07 18:20:06] ax.core.observation: Data contains metric MacroF1Activity that has not been added to the experiment. You can either update the `optimization_config` or attach it as a tracking metric using `Experiment.add_tracking_metrics` or `AxClient.add_tracking_metrics`. Ignoring all data for metric MacroF1Activity.\n",
      "NoneType: None\n",
      "[ERROR 01-07 18:20:06] ax.core.observation: Data contains metric activity_accuracy that has not been added to the experiment. You can either update the `optimization_config` or attach it as a tracking metric using `Experiment.add_tracking_metrics` or `AxClient.add_tracking_metrics`. Ignoring all data for metric activity_accuracy.\n",
      "NoneType: None\n",
      "[ERROR 01-07 18:20:06] ax.core.observation: Data contains metric resource_accuracy that has not been added to the experiment. You can either update the `optimization_config` or attach it as a tracking metric using `Experiment.add_tracking_metrics` or `AxClient.add_tracking_metrics`. Ignoring all data for metric resource_accuracy.\n",
      "NoneType: None\n",
      "[ERROR 01-07 18:20:06] ax.core.observation: Data contains metric resource_roles_accuracy that has not been added to the experiment. You can either update the `optimization_config` or attach it as a tracking metric using `Experiment.add_tracking_metrics` or `AxClient.add_tracking_metrics`. Ignoring all data for metric resource_roles_accuracy.\n",
      "NoneType: None\n",
      "[ERROR 01-07 18:20:06] ax.core.observation: Data contains metric MAE_timestamp that has not been added to the experiment. You can either update the `optimization_config` or attach it as a tracking metric using `Experiment.add_tracking_metrics` or `AxClient.add_tracking_metrics`. Ignoring all data for metric MAE_timestamp.\n",
      "NoneType: None\n",
      "[ERROR 01-07 18:20:06] ax.core.observation: Data contains metric MacroF1Activity that has not been added to the experiment. You can either update the `optimization_config` or attach it as a tracking metric using `Experiment.add_tracking_metrics` or `AxClient.add_tracking_metrics`. Ignoring all data for metric MacroF1Activity.\n",
      "NoneType: None\n",
      "[ERROR 01-07 18:20:06] ax.core.observation: Data contains metric activity_accuracy that has not been added to the experiment. You can either update the `optimization_config` or attach it as a tracking metric using `Experiment.add_tracking_metrics` or `AxClient.add_tracking_metrics`. Ignoring all data for metric activity_accuracy.\n",
      "NoneType: None\n",
      "[ERROR 01-07 18:20:06] ax.core.observation: Data contains metric resource_accuracy that has not been added to the experiment. You can either update the `optimization_config` or attach it as a tracking metric using `Experiment.add_tracking_metrics` or `AxClient.add_tracking_metrics`. Ignoring all data for metric resource_accuracy.\n",
      "NoneType: None\n",
      "[ERROR 01-07 18:20:06] ax.core.observation: Data contains metric resource_roles_accuracy that has not been added to the experiment. You can either update the `optimization_config` or attach it as a tracking metric using `Experiment.add_tracking_metrics` or `AxClient.add_tracking_metrics`. Ignoring all data for metric resource_roles_accuracy.\n",
      "NoneType: None\n",
      "[ERROR 01-07 18:20:06] ax.core.observation: Data contains metric MAE_timestamp that has not been added to the experiment. You can either update the `optimization_config` or attach it as a tracking metric using `Experiment.add_tracking_metrics` or `AxClient.add_tracking_metrics`. Ignoring all data for metric MAE_timestamp.\n",
      "NoneType: None\n",
      "[ERROR 01-07 18:20:06] ax.core.observation: Data contains metric MacroF1Activity that has not been added to the experiment. You can either update the `optimization_config` or attach it as a tracking metric using `Experiment.add_tracking_metrics` or `AxClient.add_tracking_metrics`. Ignoring all data for metric MacroF1Activity.\n",
      "NoneType: None\n",
      "[ERROR 01-07 18:20:06] ax.core.observation: Data contains metric activity_accuracy that has not been added to the experiment. You can either update the `optimization_config` or attach it as a tracking metric using `Experiment.add_tracking_metrics` or `AxClient.add_tracking_metrics`. Ignoring all data for metric activity_accuracy.\n",
      "NoneType: None\n",
      "[ERROR 01-07 18:20:06] ax.core.observation: Data contains metric resource_accuracy that has not been added to the experiment. You can either update the `optimization_config` or attach it as a tracking metric using `Experiment.add_tracking_metrics` or `AxClient.add_tracking_metrics`. Ignoring all data for metric resource_accuracy.\n",
      "NoneType: None\n",
      "[ERROR 01-07 18:20:06] ax.core.observation: Data contains metric resource_roles_accuracy that has not been added to the experiment. You can either update the `optimization_config` or attach it as a tracking metric using `Experiment.add_tracking_metrics` or `AxClient.add_tracking_metrics`. Ignoring all data for metric resource_roles_accuracy.\n",
      "NoneType: None\n",
      "[ERROR 01-07 18:20:06] ax.core.observation: Data contains metric MAE_timestamp that has not been added to the experiment. You can either update the `optimization_config` or attach it as a tracking metric using `Experiment.add_tracking_metrics` or `AxClient.add_tracking_metrics`. Ignoring all data for metric MAE_timestamp.\n",
      "NoneType: None\n",
      "[ERROR 01-07 18:20:06] ax.core.observation: Data contains metric MacroF1Activity that has not been added to the experiment. You can either update the `optimization_config` or attach it as a tracking metric using `Experiment.add_tracking_metrics` or `AxClient.add_tracking_metrics`. Ignoring all data for metric MacroF1Activity.\n",
      "NoneType: None\n",
      "[ERROR 01-07 18:20:06] ax.core.observation: Data contains metric activity_accuracy that has not been added to the experiment. You can either update the `optimization_config` or attach it as a tracking metric using `Experiment.add_tracking_metrics` or `AxClient.add_tracking_metrics`. Ignoring all data for metric activity_accuracy.\n",
      "NoneType: None\n",
      "[ERROR 01-07 18:20:06] ax.core.observation: Data contains metric resource_accuracy that has not been added to the experiment. You can either update the `optimization_config` or attach it as a tracking metric using `Experiment.add_tracking_metrics` or `AxClient.add_tracking_metrics`. Ignoring all data for metric resource_accuracy.\n",
      "NoneType: None\n",
      "[ERROR 01-07 18:20:06] ax.core.observation: Data contains metric resource_roles_accuracy that has not been added to the experiment. You can either update the `optimization_config` or attach it as a tracking metric using `Experiment.add_tracking_metrics` or `AxClient.add_tracking_metrics`. Ignoring all data for metric resource_roles_accuracy.\n",
      "NoneType: None\n",
      "[ERROR 01-07 18:20:06] ax.core.observation: Data contains metric MAE_timestamp that has not been added to the experiment. You can either update the `optimization_config` or attach it as a tracking metric using `Experiment.add_tracking_metrics` or `AxClient.add_tracking_metrics`. Ignoring all data for metric MAE_timestamp.\n",
      "NoneType: None\n",
      "[ERROR 01-07 18:20:06] ax.core.observation: Data contains metric MacroF1Activity that has not been added to the experiment. You can either update the `optimization_config` or attach it as a tracking metric using `Experiment.add_tracking_metrics` or `AxClient.add_tracking_metrics`. Ignoring all data for metric MacroF1Activity.\n",
      "NoneType: None\n",
      "[ERROR 01-07 18:20:06] ax.core.observation: Data contains metric activity_accuracy that has not been added to the experiment. You can either update the `optimization_config` or attach it as a tracking metric using `Experiment.add_tracking_metrics` or `AxClient.add_tracking_metrics`. Ignoring all data for metric activity_accuracy.\n",
      "NoneType: None\n",
      "[ERROR 01-07 18:20:06] ax.core.observation: Data contains metric resource_accuracy that has not been added to the experiment. You can either update the `optimization_config` or attach it as a tracking metric using `Experiment.add_tracking_metrics` or `AxClient.add_tracking_metrics`. Ignoring all data for metric resource_accuracy.\n",
      "NoneType: None\n",
      "[ERROR 01-07 18:20:06] ax.core.observation: Data contains metric resource_roles_accuracy that has not been added to the experiment. You can either update the `optimization_config` or attach it as a tracking metric using `Experiment.add_tracking_metrics` or `AxClient.add_tracking_metrics`. Ignoring all data for metric resource_roles_accuracy.\n",
      "NoneType: None\n",
      "[ERROR 01-07 18:20:06] ax.core.observation: Data contains metric MAE_timestamp that has not been added to the experiment. You can either update the `optimization_config` or attach it as a tracking metric using `Experiment.add_tracking_metrics` or `AxClient.add_tracking_metrics`. Ignoring all data for metric MAE_timestamp.\n",
      "NoneType: None\n",
      "[ERROR 01-07 18:20:06] ax.core.observation: Data contains metric MacroF1Activity that has not been added to the experiment. You can either update the `optimization_config` or attach it as a tracking metric using `Experiment.add_tracking_metrics` or `AxClient.add_tracking_metrics`. Ignoring all data for metric MacroF1Activity.\n",
      "NoneType: None\n",
      "[ERROR 01-07 18:20:06] ax.core.observation: Data contains metric activity_accuracy that has not been added to the experiment. You can either update the `optimization_config` or attach it as a tracking metric using `Experiment.add_tracking_metrics` or `AxClient.add_tracking_metrics`. Ignoring all data for metric activity_accuracy.\n",
      "NoneType: None\n",
      "[ERROR 01-07 18:20:06] ax.core.observation: Data contains metric resource_accuracy that has not been added to the experiment. You can either update the `optimization_config` or attach it as a tracking metric using `Experiment.add_tracking_metrics` or `AxClient.add_tracking_metrics`. Ignoring all data for metric resource_accuracy.\n",
      "NoneType: None\n",
      "[ERROR 01-07 18:20:06] ax.core.observation: Data contains metric resource_roles_accuracy that has not been added to the experiment. You can either update the `optimization_config` or attach it as a tracking metric using `Experiment.add_tracking_metrics` or `AxClient.add_tracking_metrics`. Ignoring all data for metric resource_roles_accuracy.\n",
      "NoneType: None\n",
      "[ERROR 01-07 18:20:06] ax.core.observation: Data contains metric MAE_timestamp that has not been added to the experiment. You can either update the `optimization_config` or attach it as a tracking metric using `Experiment.add_tracking_metrics` or `AxClient.add_tracking_metrics`. Ignoring all data for metric MAE_timestamp.\n",
      "NoneType: None\n",
      "[ERROR 01-07 18:20:06] ax.core.observation: Data contains metric MacroF1Activity that has not been added to the experiment. You can either update the `optimization_config` or attach it as a tracking metric using `Experiment.add_tracking_metrics` or `AxClient.add_tracking_metrics`. Ignoring all data for metric MacroF1Activity.\n",
      "NoneType: None\n",
      "[ERROR 01-07 18:20:06] ax.core.observation: Data contains metric activity_accuracy that has not been added to the experiment. You can either update the `optimization_config` or attach it as a tracking metric using `Experiment.add_tracking_metrics` or `AxClient.add_tracking_metrics`. Ignoring all data for metric activity_accuracy.\n",
      "NoneType: None\n",
      "[ERROR 01-07 18:20:06] ax.core.observation: Data contains metric resource_accuracy that has not been added to the experiment. You can either update the `optimization_config` or attach it as a tracking metric using `Experiment.add_tracking_metrics` or `AxClient.add_tracking_metrics`. Ignoring all data for metric resource_accuracy.\n",
      "NoneType: None\n",
      "[ERROR 01-07 18:20:06] ax.core.observation: Data contains metric resource_roles_accuracy that has not been added to the experiment. You can either update the `optimization_config` or attach it as a tracking metric using `Experiment.add_tracking_metrics` or `AxClient.add_tracking_metrics`. Ignoring all data for metric resource_roles_accuracy.\n",
      "NoneType: None\n",
      "[ERROR 01-07 18:20:06] ax.core.observation: Data contains metric MAE_timestamp that has not been added to the experiment. You can either update the `optimization_config` or attach it as a tracking metric using `Experiment.add_tracking_metrics` or `AxClient.add_tracking_metrics`. Ignoring all data for metric MAE_timestamp.\n",
      "NoneType: None\n",
      "[ERROR 01-07 18:20:06] ax.core.observation: Data contains metric MacroF1Activity that has not been added to the experiment. You can either update the `optimization_config` or attach it as a tracking metric using `Experiment.add_tracking_metrics` or `AxClient.add_tracking_metrics`. Ignoring all data for metric MacroF1Activity.\n",
      "NoneType: None\n",
      "[ERROR 01-07 18:20:06] ax.core.observation: Data contains metric activity_accuracy that has not been added to the experiment. You can either update the `optimization_config` or attach it as a tracking metric using `Experiment.add_tracking_metrics` or `AxClient.add_tracking_metrics`. Ignoring all data for metric activity_accuracy.\n",
      "NoneType: None\n",
      "[ERROR 01-07 18:20:06] ax.core.observation: Data contains metric resource_accuracy that has not been added to the experiment. You can either update the `optimization_config` or attach it as a tracking metric using `Experiment.add_tracking_metrics` or `AxClient.add_tracking_metrics`. Ignoring all data for metric resource_accuracy.\n",
      "NoneType: None\n",
      "[ERROR 01-07 18:20:06] ax.core.observation: Data contains metric resource_roles_accuracy that has not been added to the experiment. You can either update the `optimization_config` or attach it as a tracking metric using `Experiment.add_tracking_metrics` or `AxClient.add_tracking_metrics`. Ignoring all data for metric resource_roles_accuracy.\n",
      "NoneType: None\n"
     ]
    },
    {
     "name": "stdout",
     "output_type": "stream",
     "text": [
      "{'lr': 0.004111734182057972, 'batch_size': 256, 'heads': 1, 'hid': 128, 'layers': 2, 'aggregation': 'max'}\n",
      "Epoch: 0\n",
      "\n"
     ]
    },
    {
     "name": "stderr",
     "output_type": "stream",
     "text": [
      "WARNING:root:Warning: Some classes do not exist in the target. F1 scores for these classes will be cast to zeros.\n"
     ]
    },
    {
     "name": "stdout",
     "output_type": "stream",
     "text": [
      "\n",
      "VALIDATION\n",
      "ACTIVITY: acc 0.6385 MacroF1 0.5517\n",
      "TIMESTAMP: MAE 0.2982\n",
      "RESOURCE: acc 0.3678\n",
      "RESOURCE_ROLE: acc 0.7848\n",
      "TOTAL_LOSS: 4.2789\n",
      "epoch time 14.944902896881104s\n",
      "\n",
      "Epoch: 1\n",
      "\n"
     ]
    },
    {
     "name": "stderr",
     "output_type": "stream",
     "text": [
      "WARNING:root:Warning: Some classes do not exist in the target. F1 scores for these classes will be cast to zeros.\n"
     ]
    },
    {
     "name": "stdout",
     "output_type": "stream",
     "text": [
      "\n",
      "VALIDATION\n",
      "ACTIVITY: acc 0.6472 MacroF1 0.5833\n",
      "TIMESTAMP: MAE 0.0936\n",
      "RESOURCE: acc 0.4495\n",
      "RESOURCE_ROLE: acc 0.7850\n",
      "TOTAL_LOSS: 3.7159\n",
      "epoch time 15.119749307632446s\n",
      "\n",
      "new best model found\n",
      "Epoch: 2\n",
      "\n"
     ]
    },
    {
     "name": "stderr",
     "output_type": "stream",
     "text": [
      "WARNING:root:Warning: Some classes do not exist in the target. F1 scores for these classes will be cast to zeros.\n"
     ]
    },
    {
     "name": "stdout",
     "output_type": "stream",
     "text": [
      "\n",
      "VALIDATION\n",
      "ACTIVITY: acc 0.6396 MacroF1 0.5524\n",
      "TIMESTAMP: MAE 0.0857\n",
      "RESOURCE: acc 0.4978\n",
      "RESOURCE_ROLE: acc 0.7862\n",
      "TOTAL_LOSS: 3.5822\n",
      "epoch time 14.722174406051636s\n",
      "\n",
      "new best model found\n",
      "Epoch: 3\n",
      "\n"
     ]
    },
    {
     "name": "stderr",
     "output_type": "stream",
     "text": [
      "WARNING:root:Warning: Some classes do not exist in the target. F1 scores for these classes will be cast to zeros.\n"
     ]
    },
    {
     "name": "stdout",
     "output_type": "stream",
     "text": [
      "\n",
      "VALIDATION\n",
      "ACTIVITY: acc 0.6626 MacroF1 0.6158\n",
      "TIMESTAMP: MAE 0.1722\n",
      "RESOURCE: acc 0.5234\n",
      "RESOURCE_ROLE: acc 0.7848\n",
      "TOTAL_LOSS: 3.5689\n",
      "epoch time 14.535841464996338s\n",
      "\n",
      "new best model found\n",
      "Epoch: 4\n",
      "\n"
     ]
    },
    {
     "name": "stderr",
     "output_type": "stream",
     "text": [
      "WARNING:root:Warning: Some classes do not exist in the target. F1 scores for these classes will be cast to zeros.\n"
     ]
    },
    {
     "name": "stdout",
     "output_type": "stream",
     "text": [
      "\n",
      "VALIDATION\n",
      "ACTIVITY: acc 0.6686 MacroF1 0.6249\n",
      "TIMESTAMP: MAE 0.2300\n",
      "RESOURCE: acc 0.5251\n",
      "RESOURCE_ROLE: acc 0.7860\n",
      "TOTAL_LOSS: 3.5310\n",
      "epoch time 13.98479151725769s\n",
      "\n",
      "new best model found\n",
      "Epoch: 5\n",
      "\n"
     ]
    },
    {
     "name": "stderr",
     "output_type": "stream",
     "text": [
      "WARNING:root:Warning: Some classes do not exist in the target. F1 scores for these classes will be cast to zeros.\n"
     ]
    },
    {
     "name": "stdout",
     "output_type": "stream",
     "text": [
      "\n",
      "VALIDATION\n",
      "ACTIVITY: acc 0.6569 MacroF1 0.6096\n",
      "TIMESTAMP: MAE 0.0991\n",
      "RESOURCE: acc 0.5340\n",
      "RESOURCE_ROLE: acc 0.7860\n",
      "TOTAL_LOSS: 3.3836\n",
      "epoch time 14.48178219795227s\n",
      "\n",
      "new best model found\n",
      "Epoch: 6\n",
      "\n"
     ]
    },
    {
     "name": "stderr",
     "output_type": "stream",
     "text": [
      "WARNING:root:Warning: Some classes do not exist in the target. F1 scores for these classes will be cast to zeros.\n"
     ]
    },
    {
     "name": "stdout",
     "output_type": "stream",
     "text": [
      "\n",
      "VALIDATION\n",
      "ACTIVITY: acc 0.6667 MacroF1 0.6167\n",
      "TIMESTAMP: MAE 0.1882\n",
      "RESOURCE: acc 0.5287\n",
      "RESOURCE_ROLE: acc 0.7860\n",
      "TOTAL_LOSS: 3.4648\n",
      "epoch time 14.569133520126343s\n",
      "\n",
      "Epoch: 7\n",
      "\n"
     ]
    },
    {
     "name": "stderr",
     "output_type": "stream",
     "text": [
      "WARNING:root:Warning: Some classes do not exist in the target. F1 scores for these classes will be cast to zeros.\n"
     ]
    },
    {
     "name": "stdout",
     "output_type": "stream",
     "text": [
      "\n",
      "VALIDATION\n",
      "ACTIVITY: acc 0.6684 MacroF1 0.6330\n",
      "TIMESTAMP: MAE 0.1716\n",
      "RESOURCE: acc 0.5346\n",
      "RESOURCE_ROLE: acc 0.7860\n",
      "TOTAL_LOSS: 3.4111\n",
      "epoch time 15.55275559425354s\n",
      "\n",
      "Epoch: 8\n",
      "\n"
     ]
    },
    {
     "name": "stderr",
     "output_type": "stream",
     "text": [
      "WARNING:root:Warning: Some classes do not exist in the target. F1 scores for these classes will be cast to zeros.\n"
     ]
    },
    {
     "name": "stdout",
     "output_type": "stream",
     "text": [
      "\n",
      "VALIDATION\n",
      "ACTIVITY: acc 0.6802 MacroF1 0.6672\n",
      "TIMESTAMP: MAE 0.2246\n",
      "RESOURCE: acc 0.5346\n",
      "RESOURCE_ROLE: acc 0.7860\n",
      "TOTAL_LOSS: 3.4953\n",
      "epoch time 15.333073139190674s\n",
      "\n",
      "Epoch: 9\n",
      "\n"
     ]
    },
    {
     "name": "stderr",
     "output_type": "stream",
     "text": [
      "WARNING:root:Warning: Some classes do not exist in the target. F1 scores for these classes will be cast to zeros.\n"
     ]
    },
    {
     "name": "stdout",
     "output_type": "stream",
     "text": [
      "\n",
      "VALIDATION\n",
      "ACTIVITY: acc 0.6444 MacroF1 0.5699\n",
      "TIMESTAMP: MAE 0.2168\n",
      "RESOURCE: acc 0.5388\n",
      "RESOURCE_ROLE: acc 0.7862\n",
      "TOTAL_LOSS: 3.4654\n",
      "epoch time 15.13888692855835s\n",
      "\n",
      "Epoch: 10\n",
      "\n"
     ]
    },
    {
     "name": "stderr",
     "output_type": "stream",
     "text": [
      "WARNING:root:Warning: Some classes do not exist in the target. F1 scores for these classes will be cast to zeros.\n"
     ]
    },
    {
     "name": "stdout",
     "output_type": "stream",
     "text": [
      "\n",
      "VALIDATION\n",
      "ACTIVITY: acc 0.6753 MacroF1 0.6493\n",
      "TIMESTAMP: MAE 0.0581\n",
      "RESOURCE: acc 0.5365\n",
      "RESOURCE_ROLE: acc 0.7860\n",
      "TOTAL_LOSS: 3.2881\n",
      "epoch time 14.793856620788574s\n",
      "\n",
      "new best model found\n",
      "Epoch: 11\n",
      "\n"
     ]
    },
    {
     "name": "stderr",
     "output_type": "stream",
     "text": [
      "WARNING:root:Warning: Some classes do not exist in the target. F1 scores for these classes will be cast to zeros.\n"
     ]
    },
    {
     "name": "stdout",
     "output_type": "stream",
     "text": [
      "\n",
      "VALIDATION\n",
      "ACTIVITY: acc 0.6656 MacroF1 0.6404\n",
      "TIMESTAMP: MAE 0.1594\n",
      "RESOURCE: acc 0.5422\n",
      "RESOURCE_ROLE: acc 0.7860\n",
      "TOTAL_LOSS: 3.4005\n",
      "epoch time 14.47565245628357s\n",
      "\n",
      "Epoch: 12\n",
      "\n"
     ]
    },
    {
     "name": "stderr",
     "output_type": "stream",
     "text": [
      "WARNING:root:Warning: Some classes do not exist in the target. F1 scores for these classes will be cast to zeros.\n"
     ]
    },
    {
     "name": "stdout",
     "output_type": "stream",
     "text": [
      "\n",
      "VALIDATION\n",
      "ACTIVITY: acc 0.6595 MacroF1 0.6047\n",
      "TIMESTAMP: MAE 0.1536\n",
      "RESOURCE: acc 0.5361\n",
      "RESOURCE_ROLE: acc 0.7860\n",
      "TOTAL_LOSS: 3.4086\n",
      "epoch time 14.973110437393188s\n",
      "\n",
      "Epoch: 13\n",
      "\n"
     ]
    },
    {
     "name": "stderr",
     "output_type": "stream",
     "text": [
      "WARNING:root:Warning: Some classes do not exist in the target. F1 scores for these classes will be cast to zeros.\n"
     ]
    },
    {
     "name": "stdout",
     "output_type": "stream",
     "text": [
      "\n",
      "VALIDATION\n",
      "ACTIVITY: acc 0.6720 MacroF1 0.6542\n",
      "TIMESTAMP: MAE 0.0645\n",
      "RESOURCE: acc 0.5388\n",
      "RESOURCE_ROLE: acc 0.7862\n",
      "TOTAL_LOSS: 3.2949\n",
      "epoch time 15.213510751724243s\n",
      "\n",
      "Epoch: 14\n",
      "\n"
     ]
    },
    {
     "name": "stderr",
     "output_type": "stream",
     "text": [
      "WARNING:root:Warning: Some classes do not exist in the target. F1 scores for these classes will be cast to zeros.\n"
     ]
    },
    {
     "name": "stdout",
     "output_type": "stream",
     "text": [
      "\n",
      "VALIDATION\n",
      "ACTIVITY: acc 0.6703 MacroF1 0.6324\n",
      "TIMESTAMP: MAE 0.1315\n",
      "RESOURCE: acc 0.5374\n",
      "RESOURCE_ROLE: acc 0.7860\n",
      "TOTAL_LOSS: 3.3733\n",
      "epoch time 14.81763219833374s\n",
      "\n",
      "Epoch: 15\n",
      "\n"
     ]
    },
    {
     "name": "stderr",
     "output_type": "stream",
     "text": [
      "WARNING:root:Warning: Some classes do not exist in the target. F1 scores for these classes will be cast to zeros.\n"
     ]
    },
    {
     "name": "stdout",
     "output_type": "stream",
     "text": [
      "\n",
      "VALIDATION\n",
      "ACTIVITY: acc 0.6703 MacroF1 0.6534\n",
      "TIMESTAMP: MAE 0.1240\n",
      "RESOURCE: acc 0.5382\n",
      "RESOURCE_ROLE: acc 0.7860\n",
      "TOTAL_LOSS: 3.3616\n",
      "epoch time 14.55791711807251s\n",
      "\n",
      "Validation performance didn't improve for 5 epochs. Training stops.\n"
     ]
    },
    {
     "name": "stderr",
     "output_type": "stream",
     "text": [
      "WARNING:root:Warning: Some classes do not exist in the target. F1 scores for these classes will be cast to zeros.\n",
      "[INFO 01-07 18:24:16] ax.core.experiment: Attached data has some metrics ({'activity_accuracy', 'MAE_timestamp', 'resource_roles_accuracy', 'MacroF1Activity', 'resource_accuracy'}) that are not among the metrics on this experiment. Note that attaching data will not automatically add those metrics to the experiment. For these metrics to be automatically fetched by `experiment.fetch_data`, add them via `experiment.add_tracking_metric` or update the experiment's optimization config.\n",
      "[INFO 01-07 18:24:16] ax.service.managed_loop: Running optimization trial 14...\n",
      "[ERROR 01-07 18:24:16] ax.core.observation: Data contains metric MAE_timestamp that has not been added to the experiment. You can either update the `optimization_config` or attach it as a tracking metric using `Experiment.add_tracking_metrics` or `AxClient.add_tracking_metrics`. Ignoring all data for metric MAE_timestamp.\n",
      "NoneType: None\n",
      "[ERROR 01-07 18:24:16] ax.core.observation: Data contains metric MacroF1Activity that has not been added to the experiment. You can either update the `optimization_config` or attach it as a tracking metric using `Experiment.add_tracking_metrics` or `AxClient.add_tracking_metrics`. Ignoring all data for metric MacroF1Activity.\n",
      "NoneType: None\n",
      "[ERROR 01-07 18:24:16] ax.core.observation: Data contains metric activity_accuracy that has not been added to the experiment. You can either update the `optimization_config` or attach it as a tracking metric using `Experiment.add_tracking_metrics` or `AxClient.add_tracking_metrics`. Ignoring all data for metric activity_accuracy.\n",
      "NoneType: None\n",
      "[ERROR 01-07 18:24:16] ax.core.observation: Data contains metric resource_accuracy that has not been added to the experiment. You can either update the `optimization_config` or attach it as a tracking metric using `Experiment.add_tracking_metrics` or `AxClient.add_tracking_metrics`. Ignoring all data for metric resource_accuracy.\n",
      "NoneType: None\n",
      "[ERROR 01-07 18:24:16] ax.core.observation: Data contains metric resource_roles_accuracy that has not been added to the experiment. You can either update the `optimization_config` or attach it as a tracking metric using `Experiment.add_tracking_metrics` or `AxClient.add_tracking_metrics`. Ignoring all data for metric resource_roles_accuracy.\n",
      "NoneType: None\n",
      "[ERROR 01-07 18:24:16] ax.core.observation: Data contains metric MAE_timestamp that has not been added to the experiment. You can either update the `optimization_config` or attach it as a tracking metric using `Experiment.add_tracking_metrics` or `AxClient.add_tracking_metrics`. Ignoring all data for metric MAE_timestamp.\n",
      "NoneType: None\n",
      "[ERROR 01-07 18:24:16] ax.core.observation: Data contains metric MacroF1Activity that has not been added to the experiment. You can either update the `optimization_config` or attach it as a tracking metric using `Experiment.add_tracking_metrics` or `AxClient.add_tracking_metrics`. Ignoring all data for metric MacroF1Activity.\n",
      "NoneType: None\n",
      "[ERROR 01-07 18:24:16] ax.core.observation: Data contains metric activity_accuracy that has not been added to the experiment. You can either update the `optimization_config` or attach it as a tracking metric using `Experiment.add_tracking_metrics` or `AxClient.add_tracking_metrics`. Ignoring all data for metric activity_accuracy.\n",
      "NoneType: None\n",
      "[ERROR 01-07 18:24:16] ax.core.observation: Data contains metric resource_accuracy that has not been added to the experiment. You can either update the `optimization_config` or attach it as a tracking metric using `Experiment.add_tracking_metrics` or `AxClient.add_tracking_metrics`. Ignoring all data for metric resource_accuracy.\n",
      "NoneType: None\n",
      "[ERROR 01-07 18:24:16] ax.core.observation: Data contains metric resource_roles_accuracy that has not been added to the experiment. You can either update the `optimization_config` or attach it as a tracking metric using `Experiment.add_tracking_metrics` or `AxClient.add_tracking_metrics`. Ignoring all data for metric resource_roles_accuracy.\n",
      "NoneType: None\n",
      "[ERROR 01-07 18:24:16] ax.core.observation: Data contains metric MAE_timestamp that has not been added to the experiment. You can either update the `optimization_config` or attach it as a tracking metric using `Experiment.add_tracking_metrics` or `AxClient.add_tracking_metrics`. Ignoring all data for metric MAE_timestamp.\n",
      "NoneType: None\n",
      "[ERROR 01-07 18:24:16] ax.core.observation: Data contains metric MacroF1Activity that has not been added to the experiment. You can either update the `optimization_config` or attach it as a tracking metric using `Experiment.add_tracking_metrics` or `AxClient.add_tracking_metrics`. Ignoring all data for metric MacroF1Activity.\n",
      "NoneType: None\n",
      "[ERROR 01-07 18:24:16] ax.core.observation: Data contains metric activity_accuracy that has not been added to the experiment. You can either update the `optimization_config` or attach it as a tracking metric using `Experiment.add_tracking_metrics` or `AxClient.add_tracking_metrics`. Ignoring all data for metric activity_accuracy.\n",
      "NoneType: None\n",
      "[ERROR 01-07 18:24:16] ax.core.observation: Data contains metric resource_accuracy that has not been added to the experiment. You can either update the `optimization_config` or attach it as a tracking metric using `Experiment.add_tracking_metrics` or `AxClient.add_tracking_metrics`. Ignoring all data for metric resource_accuracy.\n",
      "NoneType: None\n",
      "[ERROR 01-07 18:24:16] ax.core.observation: Data contains metric resource_roles_accuracy that has not been added to the experiment. You can either update the `optimization_config` or attach it as a tracking metric using `Experiment.add_tracking_metrics` or `AxClient.add_tracking_metrics`. Ignoring all data for metric resource_roles_accuracy.\n",
      "NoneType: None\n",
      "[ERROR 01-07 18:24:16] ax.core.observation: Data contains metric MAE_timestamp that has not been added to the experiment. You can either update the `optimization_config` or attach it as a tracking metric using `Experiment.add_tracking_metrics` or `AxClient.add_tracking_metrics`. Ignoring all data for metric MAE_timestamp.\n",
      "NoneType: None\n",
      "[ERROR 01-07 18:24:16] ax.core.observation: Data contains metric MacroF1Activity that has not been added to the experiment. You can either update the `optimization_config` or attach it as a tracking metric using `Experiment.add_tracking_metrics` or `AxClient.add_tracking_metrics`. Ignoring all data for metric MacroF1Activity.\n",
      "NoneType: None\n",
      "[ERROR 01-07 18:24:16] ax.core.observation: Data contains metric activity_accuracy that has not been added to the experiment. You can either update the `optimization_config` or attach it as a tracking metric using `Experiment.add_tracking_metrics` or `AxClient.add_tracking_metrics`. Ignoring all data for metric activity_accuracy.\n",
      "NoneType: None\n",
      "[ERROR 01-07 18:24:16] ax.core.observation: Data contains metric resource_accuracy that has not been added to the experiment. You can either update the `optimization_config` or attach it as a tracking metric using `Experiment.add_tracking_metrics` or `AxClient.add_tracking_metrics`. Ignoring all data for metric resource_accuracy.\n",
      "NoneType: None\n",
      "[ERROR 01-07 18:24:16] ax.core.observation: Data contains metric resource_roles_accuracy that has not been added to the experiment. You can either update the `optimization_config` or attach it as a tracking metric using `Experiment.add_tracking_metrics` or `AxClient.add_tracking_metrics`. Ignoring all data for metric resource_roles_accuracy.\n",
      "NoneType: None\n",
      "[ERROR 01-07 18:24:16] ax.core.observation: Data contains metric MAE_timestamp that has not been added to the experiment. You can either update the `optimization_config` or attach it as a tracking metric using `Experiment.add_tracking_metrics` or `AxClient.add_tracking_metrics`. Ignoring all data for metric MAE_timestamp.\n",
      "NoneType: None\n",
      "[ERROR 01-07 18:24:16] ax.core.observation: Data contains metric MacroF1Activity that has not been added to the experiment. You can either update the `optimization_config` or attach it as a tracking metric using `Experiment.add_tracking_metrics` or `AxClient.add_tracking_metrics`. Ignoring all data for metric MacroF1Activity.\n",
      "NoneType: None\n",
      "[ERROR 01-07 18:24:16] ax.core.observation: Data contains metric activity_accuracy that has not been added to the experiment. You can either update the `optimization_config` or attach it as a tracking metric using `Experiment.add_tracking_metrics` or `AxClient.add_tracking_metrics`. Ignoring all data for metric activity_accuracy.\n",
      "NoneType: None\n",
      "[ERROR 01-07 18:24:16] ax.core.observation: Data contains metric resource_accuracy that has not been added to the experiment. You can either update the `optimization_config` or attach it as a tracking metric using `Experiment.add_tracking_metrics` or `AxClient.add_tracking_metrics`. Ignoring all data for metric resource_accuracy.\n",
      "NoneType: None\n",
      "[ERROR 01-07 18:24:16] ax.core.observation: Data contains metric resource_roles_accuracy that has not been added to the experiment. You can either update the `optimization_config` or attach it as a tracking metric using `Experiment.add_tracking_metrics` or `AxClient.add_tracking_metrics`. Ignoring all data for metric resource_roles_accuracy.\n",
      "NoneType: None\n",
      "[ERROR 01-07 18:24:16] ax.core.observation: Data contains metric MAE_timestamp that has not been added to the experiment. You can either update the `optimization_config` or attach it as a tracking metric using `Experiment.add_tracking_metrics` or `AxClient.add_tracking_metrics`. Ignoring all data for metric MAE_timestamp.\n",
      "NoneType: None\n",
      "[ERROR 01-07 18:24:16] ax.core.observation: Data contains metric MacroF1Activity that has not been added to the experiment. You can either update the `optimization_config` or attach it as a tracking metric using `Experiment.add_tracking_metrics` or `AxClient.add_tracking_metrics`. Ignoring all data for metric MacroF1Activity.\n",
      "NoneType: None\n",
      "[ERROR 01-07 18:24:16] ax.core.observation: Data contains metric activity_accuracy that has not been added to the experiment. You can either update the `optimization_config` or attach it as a tracking metric using `Experiment.add_tracking_metrics` or `AxClient.add_tracking_metrics`. Ignoring all data for metric activity_accuracy.\n",
      "NoneType: None\n",
      "[ERROR 01-07 18:24:16] ax.core.observation: Data contains metric resource_accuracy that has not been added to the experiment. You can either update the `optimization_config` or attach it as a tracking metric using `Experiment.add_tracking_metrics` or `AxClient.add_tracking_metrics`. Ignoring all data for metric resource_accuracy.\n",
      "NoneType: None\n",
      "[ERROR 01-07 18:24:16] ax.core.observation: Data contains metric resource_roles_accuracy that has not been added to the experiment. You can either update the `optimization_config` or attach it as a tracking metric using `Experiment.add_tracking_metrics` or `AxClient.add_tracking_metrics`. Ignoring all data for metric resource_roles_accuracy.\n",
      "NoneType: None\n",
      "[ERROR 01-07 18:24:16] ax.core.observation: Data contains metric MAE_timestamp that has not been added to the experiment. You can either update the `optimization_config` or attach it as a tracking metric using `Experiment.add_tracking_metrics` or `AxClient.add_tracking_metrics`. Ignoring all data for metric MAE_timestamp.\n",
      "NoneType: None\n",
      "[ERROR 01-07 18:24:16] ax.core.observation: Data contains metric MacroF1Activity that has not been added to the experiment. You can either update the `optimization_config` or attach it as a tracking metric using `Experiment.add_tracking_metrics` or `AxClient.add_tracking_metrics`. Ignoring all data for metric MacroF1Activity.\n",
      "NoneType: None\n",
      "[ERROR 01-07 18:24:16] ax.core.observation: Data contains metric activity_accuracy that has not been added to the experiment. You can either update the `optimization_config` or attach it as a tracking metric using `Experiment.add_tracking_metrics` or `AxClient.add_tracking_metrics`. Ignoring all data for metric activity_accuracy.\n",
      "NoneType: None\n",
      "[ERROR 01-07 18:24:16] ax.core.observation: Data contains metric resource_accuracy that has not been added to the experiment. You can either update the `optimization_config` or attach it as a tracking metric using `Experiment.add_tracking_metrics` or `AxClient.add_tracking_metrics`. Ignoring all data for metric resource_accuracy.\n",
      "NoneType: None\n",
      "[ERROR 01-07 18:24:16] ax.core.observation: Data contains metric resource_roles_accuracy that has not been added to the experiment. You can either update the `optimization_config` or attach it as a tracking metric using `Experiment.add_tracking_metrics` or `AxClient.add_tracking_metrics`. Ignoring all data for metric resource_roles_accuracy.\n",
      "NoneType: None\n",
      "[ERROR 01-07 18:24:16] ax.core.observation: Data contains metric MAE_timestamp that has not been added to the experiment. You can either update the `optimization_config` or attach it as a tracking metric using `Experiment.add_tracking_metrics` or `AxClient.add_tracking_metrics`. Ignoring all data for metric MAE_timestamp.\n",
      "NoneType: None\n",
      "[ERROR 01-07 18:24:16] ax.core.observation: Data contains metric MacroF1Activity that has not been added to the experiment. You can either update the `optimization_config` or attach it as a tracking metric using `Experiment.add_tracking_metrics` or `AxClient.add_tracking_metrics`. Ignoring all data for metric MacroF1Activity.\n",
      "NoneType: None\n",
      "[ERROR 01-07 18:24:16] ax.core.observation: Data contains metric activity_accuracy that has not been added to the experiment. You can either update the `optimization_config` or attach it as a tracking metric using `Experiment.add_tracking_metrics` or `AxClient.add_tracking_metrics`. Ignoring all data for metric activity_accuracy.\n",
      "NoneType: None\n",
      "[ERROR 01-07 18:24:16] ax.core.observation: Data contains metric resource_accuracy that has not been added to the experiment. You can either update the `optimization_config` or attach it as a tracking metric using `Experiment.add_tracking_metrics` or `AxClient.add_tracking_metrics`. Ignoring all data for metric resource_accuracy.\n",
      "NoneType: None\n",
      "[ERROR 01-07 18:24:16] ax.core.observation: Data contains metric resource_roles_accuracy that has not been added to the experiment. You can either update the `optimization_config` or attach it as a tracking metric using `Experiment.add_tracking_metrics` or `AxClient.add_tracking_metrics`. Ignoring all data for metric resource_roles_accuracy.\n",
      "NoneType: None\n",
      "[ERROR 01-07 18:24:16] ax.core.observation: Data contains metric MAE_timestamp that has not been added to the experiment. You can either update the `optimization_config` or attach it as a tracking metric using `Experiment.add_tracking_metrics` or `AxClient.add_tracking_metrics`. Ignoring all data for metric MAE_timestamp.\n",
      "NoneType: None\n",
      "[ERROR 01-07 18:24:16] ax.core.observation: Data contains metric MacroF1Activity that has not been added to the experiment. You can either update the `optimization_config` or attach it as a tracking metric using `Experiment.add_tracking_metrics` or `AxClient.add_tracking_metrics`. Ignoring all data for metric MacroF1Activity.\n",
      "NoneType: None\n",
      "[ERROR 01-07 18:24:16] ax.core.observation: Data contains metric activity_accuracy that has not been added to the experiment. You can either update the `optimization_config` or attach it as a tracking metric using `Experiment.add_tracking_metrics` or `AxClient.add_tracking_metrics`. Ignoring all data for metric activity_accuracy.\n",
      "NoneType: None\n",
      "[ERROR 01-07 18:24:16] ax.core.observation: Data contains metric resource_accuracy that has not been added to the experiment. You can either update the `optimization_config` or attach it as a tracking metric using `Experiment.add_tracking_metrics` or `AxClient.add_tracking_metrics`. Ignoring all data for metric resource_accuracy.\n",
      "NoneType: None\n",
      "[ERROR 01-07 18:24:16] ax.core.observation: Data contains metric resource_roles_accuracy that has not been added to the experiment. You can either update the `optimization_config` or attach it as a tracking metric using `Experiment.add_tracking_metrics` or `AxClient.add_tracking_metrics`. Ignoring all data for metric resource_roles_accuracy.\n",
      "NoneType: None\n",
      "[ERROR 01-07 18:24:16] ax.core.observation: Data contains metric MAE_timestamp that has not been added to the experiment. You can either update the `optimization_config` or attach it as a tracking metric using `Experiment.add_tracking_metrics` or `AxClient.add_tracking_metrics`. Ignoring all data for metric MAE_timestamp.\n",
      "NoneType: None\n",
      "[ERROR 01-07 18:24:16] ax.core.observation: Data contains metric MacroF1Activity that has not been added to the experiment. You can either update the `optimization_config` or attach it as a tracking metric using `Experiment.add_tracking_metrics` or `AxClient.add_tracking_metrics`. Ignoring all data for metric MacroF1Activity.\n",
      "NoneType: None\n",
      "[ERROR 01-07 18:24:16] ax.core.observation: Data contains metric activity_accuracy that has not been added to the experiment. You can either update the `optimization_config` or attach it as a tracking metric using `Experiment.add_tracking_metrics` or `AxClient.add_tracking_metrics`. Ignoring all data for metric activity_accuracy.\n",
      "NoneType: None\n",
      "[ERROR 01-07 18:24:16] ax.core.observation: Data contains metric resource_accuracy that has not been added to the experiment. You can either update the `optimization_config` or attach it as a tracking metric using `Experiment.add_tracking_metrics` or `AxClient.add_tracking_metrics`. Ignoring all data for metric resource_accuracy.\n",
      "NoneType: None\n",
      "[ERROR 01-07 18:24:16] ax.core.observation: Data contains metric resource_roles_accuracy that has not been added to the experiment. You can either update the `optimization_config` or attach it as a tracking metric using `Experiment.add_tracking_metrics` or `AxClient.add_tracking_metrics`. Ignoring all data for metric resource_roles_accuracy.\n",
      "NoneType: None\n",
      "[ERROR 01-07 18:24:16] ax.core.observation: Data contains metric MAE_timestamp that has not been added to the experiment. You can either update the `optimization_config` or attach it as a tracking metric using `Experiment.add_tracking_metrics` or `AxClient.add_tracking_metrics`. Ignoring all data for metric MAE_timestamp.\n",
      "NoneType: None\n",
      "[ERROR 01-07 18:24:16] ax.core.observation: Data contains metric MacroF1Activity that has not been added to the experiment. You can either update the `optimization_config` or attach it as a tracking metric using `Experiment.add_tracking_metrics` or `AxClient.add_tracking_metrics`. Ignoring all data for metric MacroF1Activity.\n",
      "NoneType: None\n",
      "[ERROR 01-07 18:24:16] ax.core.observation: Data contains metric activity_accuracy that has not been added to the experiment. You can either update the `optimization_config` or attach it as a tracking metric using `Experiment.add_tracking_metrics` or `AxClient.add_tracking_metrics`. Ignoring all data for metric activity_accuracy.\n",
      "NoneType: None\n",
      "[ERROR 01-07 18:24:16] ax.core.observation: Data contains metric resource_accuracy that has not been added to the experiment. You can either update the `optimization_config` or attach it as a tracking metric using `Experiment.add_tracking_metrics` or `AxClient.add_tracking_metrics`. Ignoring all data for metric resource_accuracy.\n",
      "NoneType: None\n",
      "[ERROR 01-07 18:24:16] ax.core.observation: Data contains metric resource_roles_accuracy that has not been added to the experiment. You can either update the `optimization_config` or attach it as a tracking metric using `Experiment.add_tracking_metrics` or `AxClient.add_tracking_metrics`. Ignoring all data for metric resource_roles_accuracy.\n",
      "NoneType: None\n",
      "[ERROR 01-07 18:24:16] ax.core.observation: Data contains metric MAE_timestamp that has not been added to the experiment. You can either update the `optimization_config` or attach it as a tracking metric using `Experiment.add_tracking_metrics` or `AxClient.add_tracking_metrics`. Ignoring all data for metric MAE_timestamp.\n",
      "NoneType: None\n",
      "[ERROR 01-07 18:24:16] ax.core.observation: Data contains metric MacroF1Activity that has not been added to the experiment. You can either update the `optimization_config` or attach it as a tracking metric using `Experiment.add_tracking_metrics` or `AxClient.add_tracking_metrics`. Ignoring all data for metric MacroF1Activity.\n",
      "NoneType: None\n",
      "[ERROR 01-07 18:24:16] ax.core.observation: Data contains metric activity_accuracy that has not been added to the experiment. You can either update the `optimization_config` or attach it as a tracking metric using `Experiment.add_tracking_metrics` or `AxClient.add_tracking_metrics`. Ignoring all data for metric activity_accuracy.\n",
      "NoneType: None\n",
      "[ERROR 01-07 18:24:16] ax.core.observation: Data contains metric resource_accuracy that has not been added to the experiment. You can either update the `optimization_config` or attach it as a tracking metric using `Experiment.add_tracking_metrics` or `AxClient.add_tracking_metrics`. Ignoring all data for metric resource_accuracy.\n",
      "NoneType: None\n",
      "[ERROR 01-07 18:24:16] ax.core.observation: Data contains metric resource_roles_accuracy that has not been added to the experiment. You can either update the `optimization_config` or attach it as a tracking metric using `Experiment.add_tracking_metrics` or `AxClient.add_tracking_metrics`. Ignoring all data for metric resource_roles_accuracy.\n",
      "NoneType: None\n",
      "[ERROR 01-07 18:24:16] ax.core.observation: Data contains metric MAE_timestamp that has not been added to the experiment. You can either update the `optimization_config` or attach it as a tracking metric using `Experiment.add_tracking_metrics` or `AxClient.add_tracking_metrics`. Ignoring all data for metric MAE_timestamp.\n",
      "NoneType: None\n",
      "[ERROR 01-07 18:24:16] ax.core.observation: Data contains metric MacroF1Activity that has not been added to the experiment. You can either update the `optimization_config` or attach it as a tracking metric using `Experiment.add_tracking_metrics` or `AxClient.add_tracking_metrics`. Ignoring all data for metric MacroF1Activity.\n",
      "NoneType: None\n",
      "[ERROR 01-07 18:24:16] ax.core.observation: Data contains metric activity_accuracy that has not been added to the experiment. You can either update the `optimization_config` or attach it as a tracking metric using `Experiment.add_tracking_metrics` or `AxClient.add_tracking_metrics`. Ignoring all data for metric activity_accuracy.\n",
      "NoneType: None\n",
      "[ERROR 01-07 18:24:16] ax.core.observation: Data contains metric resource_accuracy that has not been added to the experiment. You can either update the `optimization_config` or attach it as a tracking metric using `Experiment.add_tracking_metrics` or `AxClient.add_tracking_metrics`. Ignoring all data for metric resource_accuracy.\n",
      "NoneType: None\n",
      "[ERROR 01-07 18:24:16] ax.core.observation: Data contains metric resource_roles_accuracy that has not been added to the experiment. You can either update the `optimization_config` or attach it as a tracking metric using `Experiment.add_tracking_metrics` or `AxClient.add_tracking_metrics`. Ignoring all data for metric resource_roles_accuracy.\n",
      "NoneType: None\n",
      "/home/sebdis/ProcessMining/HGNN/hgnn_env/lib/python3.10/site-packages/linear_operator/utils/cholesky.py:40: NumericalWarning: A not p.d., added jitter of 1.0e-08 to the diagonal\n",
      "  warnings.warn(\n"
     ]
    },
    {
     "name": "stdout",
     "output_type": "stream",
     "text": [
      "{'lr': 0.0001, 'batch_size': 256, 'heads': 4, 'hid': 128, 'layers': 2, 'aggregation': 'max'}\n",
      "Epoch: 0\n",
      "\n"
     ]
    },
    {
     "name": "stderr",
     "output_type": "stream",
     "text": [
      "WARNING:root:Warning: Some classes do not exist in the target. F1 scores for these classes will be cast to zeros.\n"
     ]
    },
    {
     "name": "stdout",
     "output_type": "stream",
     "text": [
      "\n",
      "VALIDATION\n",
      "ACTIVITY: acc 0.0667 MacroF1 0.0156\n",
      "TIMESTAMP: MAE 14.3724\n",
      "RESOURCE: acc 0.2648\n",
      "RESOURCE_ROLE: acc 0.5107\n",
      "TOTAL_LOSS: 21.2976\n",
      "epoch time 16.29337430000305s\n",
      "\n",
      "Epoch: 1\n",
      "\n"
     ]
    },
    {
     "name": "stderr",
     "output_type": "stream",
     "text": [
      "WARNING:root:Warning: Some classes do not exist in the target. F1 scores for these classes will be cast to zeros.\n"
     ]
    },
    {
     "name": "stdout",
     "output_type": "stream",
     "text": [
      "\n",
      "VALIDATION\n",
      "ACTIVITY: acc 0.3139 MacroF1 0.1564\n",
      "TIMESTAMP: MAE 11.1568\n",
      "RESOURCE: acc 0.2648\n",
      "RESOURCE_ROLE: acc 0.5107\n",
      "TOTAL_LOSS: 17.6256\n",
      "epoch time 16.21873664855957s\n",
      "\n",
      "new best model found\n",
      "Epoch: 2\n",
      "\n"
     ]
    },
    {
     "name": "stderr",
     "output_type": "stream",
     "text": [
      "WARNING:root:Warning: Some classes do not exist in the target. F1 scores for these classes will be cast to zeros.\n"
     ]
    },
    {
     "name": "stdout",
     "output_type": "stream",
     "text": [
      "\n",
      "VALIDATION\n",
      "ACTIVITY: acc 0.4038 MacroF1 0.2107\n",
      "TIMESTAMP: MAE 4.5440\n",
      "RESOURCE: acc 0.2648\n",
      "RESOURCE_ROLE: acc 0.5107\n",
      "TOTAL_LOSS: 10.9062\n",
      "epoch time 16.002771615982056s\n",
      "\n",
      "new best model found\n",
      "Epoch: 3\n",
      "\n"
     ]
    },
    {
     "name": "stderr",
     "output_type": "stream",
     "text": [
      "WARNING:root:Warning: Some classes do not exist in the target. F1 scores for these classes will be cast to zeros.\n"
     ]
    },
    {
     "name": "stdout",
     "output_type": "stream",
     "text": [
      "\n",
      "VALIDATION\n",
      "ACTIVITY: acc 0.4715 MacroF1 0.3294\n",
      "TIMESTAMP: MAE 0.1944\n",
      "RESOURCE: acc 0.2648\n",
      "RESOURCE_ROLE: acc 0.5107\n",
      "TOTAL_LOSS: 6.3706\n",
      "epoch time 15.945940494537354s\n",
      "\n",
      "new best model found\n",
      "Epoch: 4\n",
      "\n"
     ]
    },
    {
     "name": "stderr",
     "output_type": "stream",
     "text": [
      "WARNING:root:Warning: Some classes do not exist in the target. F1 scores for these classes will be cast to zeros.\n"
     ]
    },
    {
     "name": "stdout",
     "output_type": "stream",
     "text": [
      "\n",
      "VALIDATION\n",
      "ACTIVITY: acc 0.3776 MacroF1 0.2125\n",
      "TIMESTAMP: MAE 0.2285\n",
      "RESOURCE: acc 0.2648\n",
      "RESOURCE_ROLE: acc 0.5672\n",
      "TOTAL_LOSS: 6.1275\n",
      "epoch time 15.93375301361084s\n",
      "\n",
      "new best model found\n",
      "Epoch: 5\n",
      "\n"
     ]
    },
    {
     "name": "stderr",
     "output_type": "stream",
     "text": [
      "WARNING:root:Warning: Some classes do not exist in the target. F1 scores for these classes will be cast to zeros.\n"
     ]
    },
    {
     "name": "stdout",
     "output_type": "stream",
     "text": [
      "\n",
      "VALIDATION\n",
      "ACTIVITY: acc 0.5371 MacroF1 0.3885\n",
      "TIMESTAMP: MAE 0.2226\n",
      "RESOURCE: acc 0.2891\n",
      "RESOURCE_ROLE: acc 0.6519\n",
      "TOTAL_LOSS: 5.7904\n",
      "epoch time 16.614867687225342s\n",
      "\n",
      "new best model found\n",
      "Epoch: 6\n",
      "\n"
     ]
    },
    {
     "name": "stderr",
     "output_type": "stream",
     "text": [
      "WARNING:root:Warning: Some classes do not exist in the target. F1 scores for these classes will be cast to zeros.\n"
     ]
    },
    {
     "name": "stdout",
     "output_type": "stream",
     "text": [
      "\n",
      "VALIDATION\n",
      "ACTIVITY: acc 0.5492 MacroF1 0.3976\n",
      "TIMESTAMP: MAE 0.2006\n",
      "RESOURCE: acc 0.3039\n",
      "RESOURCE_ROLE: acc 0.7033\n",
      "TOTAL_LOSS: 5.5134\n",
      "epoch time 16.769070863723755s\n",
      "\n",
      "new best model found\n",
      "Epoch: 7\n",
      "\n"
     ]
    },
    {
     "name": "stderr",
     "output_type": "stream",
     "text": [
      "WARNING:root:Warning: Some classes do not exist in the target. F1 scores for these classes will be cast to zeros.\n"
     ]
    },
    {
     "name": "stdout",
     "output_type": "stream",
     "text": [
      "\n",
      "VALIDATION\n",
      "ACTIVITY: acc 0.5928 MacroF1 0.4482\n",
      "TIMESTAMP: MAE 0.1833\n",
      "RESOURCE: acc 0.3037\n",
      "RESOURCE_ROLE: acc 0.7283\n",
      "TOTAL_LOSS: 5.2969\n",
      "epoch time 16.402973890304565s\n",
      "\n",
      "new best model found\n",
      "Epoch: 8\n",
      "\n"
     ]
    },
    {
     "name": "stderr",
     "output_type": "stream",
     "text": [
      "WARNING:root:Warning: Some classes do not exist in the target. F1 scores for these classes will be cast to zeros.\n"
     ]
    },
    {
     "name": "stdout",
     "output_type": "stream",
     "text": [
      "\n",
      "VALIDATION\n",
      "ACTIVITY: acc 0.5634 MacroF1 0.3627\n",
      "TIMESTAMP: MAE 0.1622\n",
      "RESOURCE: acc 0.3037\n",
      "RESOURCE_ROLE: acc 0.7416\n",
      "TOTAL_LOSS: 5.1155\n",
      "epoch time 16.201595783233643s\n",
      "\n",
      "new best model found\n",
      "Epoch: 9\n",
      "\n"
     ]
    },
    {
     "name": "stderr",
     "output_type": "stream",
     "text": [
      "WARNING:root:Warning: Some classes do not exist in the target. F1 scores for these classes will be cast to zeros.\n"
     ]
    },
    {
     "name": "stdout",
     "output_type": "stream",
     "text": [
      "\n",
      "VALIDATION\n",
      "ACTIVITY: acc 0.5848 MacroF1 0.4199\n",
      "TIMESTAMP: MAE 0.1611\n",
      "RESOURCE: acc 0.3037\n",
      "RESOURCE_ROLE: acc 0.7850\n",
      "TOTAL_LOSS: 4.9847\n",
      "epoch time 14.954573631286621s\n",
      "\n",
      "new best model found\n",
      "Epoch: 10\n",
      "\n"
     ]
    },
    {
     "name": "stderr",
     "output_type": "stream",
     "text": [
      "WARNING:root:Warning: Some classes do not exist in the target. F1 scores for these classes will be cast to zeros.\n"
     ]
    },
    {
     "name": "stdout",
     "output_type": "stream",
     "text": [
      "\n",
      "VALIDATION\n",
      "ACTIVITY: acc 0.6231 MacroF1 0.5119\n",
      "TIMESTAMP: MAE 0.1483\n",
      "RESOURCE: acc 0.3037\n",
      "RESOURCE_ROLE: acc 0.7848\n",
      "TOTAL_LOSS: 4.8538\n",
      "epoch time 16.34785771369934s\n",
      "\n",
      "new best model found\n",
      "Epoch: 11\n",
      "\n"
     ]
    },
    {
     "name": "stderr",
     "output_type": "stream",
     "text": [
      "WARNING:root:Warning: Some classes do not exist in the target. F1 scores for these classes will be cast to zeros.\n"
     ]
    },
    {
     "name": "stdout",
     "output_type": "stream",
     "text": [
      "\n",
      "VALIDATION\n",
      "ACTIVITY: acc 0.6068 MacroF1 0.4804\n",
      "TIMESTAMP: MAE 0.1522\n",
      "RESOURCE: acc 0.3037\n",
      "RESOURCE_ROLE: acc 0.7848\n",
      "TOTAL_LOSS: 4.7621\n",
      "epoch time 16.374996423721313s\n",
      "\n",
      "new best model found\n",
      "Epoch: 12\n",
      "\n"
     ]
    },
    {
     "name": "stderr",
     "output_type": "stream",
     "text": [
      "WARNING:root:Warning: Some classes do not exist in the target. F1 scores for these classes will be cast to zeros.\n"
     ]
    },
    {
     "name": "stdout",
     "output_type": "stream",
     "text": [
      "\n",
      "VALIDATION\n",
      "ACTIVITY: acc 0.6298 MacroF1 0.5390\n",
      "TIMESTAMP: MAE 0.1237\n",
      "RESOURCE: acc 0.3037\n",
      "RESOURCE_ROLE: acc 0.7848\n",
      "TOTAL_LOSS: 4.6231\n",
      "epoch time 16.21664786338806s\n",
      "\n",
      "new best model found\n",
      "Epoch: 13\n",
      "\n"
     ]
    },
    {
     "name": "stderr",
     "output_type": "stream",
     "text": [
      "WARNING:root:Warning: Some classes do not exist in the target. F1 scores for these classes will be cast to zeros.\n"
     ]
    },
    {
     "name": "stdout",
     "output_type": "stream",
     "text": [
      "\n",
      "VALIDATION\n",
      "ACTIVITY: acc 0.6298 MacroF1 0.5376\n",
      "TIMESTAMP: MAE 0.1313\n",
      "RESOURCE: acc 0.3037\n",
      "RESOURCE_ROLE: acc 0.7848\n",
      "TOTAL_LOSS: 4.5497\n",
      "epoch time 16.357892751693726s\n",
      "\n",
      "new best model found\n",
      "Epoch: 14\n",
      "\n"
     ]
    },
    {
     "name": "stderr",
     "output_type": "stream",
     "text": [
      "WARNING:root:Warning: Some classes do not exist in the target. F1 scores for these classes will be cast to zeros.\n"
     ]
    },
    {
     "name": "stdout",
     "output_type": "stream",
     "text": [
      "\n",
      "VALIDATION\n",
      "ACTIVITY: acc 0.6377 MacroF1 0.5562\n",
      "TIMESTAMP: MAE 0.1304\n",
      "RESOURCE: acc 0.3037\n",
      "RESOURCE_ROLE: acc 0.7848\n",
      "TOTAL_LOSS: 4.4773\n",
      "epoch time 16.11388373374939s\n",
      "\n",
      "new best model found\n",
      "Epoch: 15\n",
      "\n"
     ]
    },
    {
     "name": "stderr",
     "output_type": "stream",
     "text": [
      "WARNING:root:Warning: Some classes do not exist in the target. F1 scores for these classes will be cast to zeros.\n"
     ]
    },
    {
     "name": "stdout",
     "output_type": "stream",
     "text": [
      "\n",
      "VALIDATION\n",
      "ACTIVITY: acc 0.6140 MacroF1 0.4746\n",
      "TIMESTAMP: MAE 0.1286\n",
      "RESOURCE: acc 0.3037\n",
      "RESOURCE_ROLE: acc 0.7848\n",
      "TOTAL_LOSS: 4.4150\n",
      "epoch time 16.28579616546631s\n",
      "\n",
      "new best model found\n",
      "Epoch: 16\n",
      "\n"
     ]
    },
    {
     "name": "stderr",
     "output_type": "stream",
     "text": [
      "WARNING:root:Warning: Some classes do not exist in the target. F1 scores for these classes will be cast to zeros.\n"
     ]
    },
    {
     "name": "stdout",
     "output_type": "stream",
     "text": [
      "\n",
      "VALIDATION\n",
      "ACTIVITY: acc 0.6349 MacroF1 0.5628\n",
      "TIMESTAMP: MAE 0.0841\n",
      "RESOURCE: acc 0.3037\n",
      "RESOURCE_ROLE: acc 0.7848\n",
      "TOTAL_LOSS: 4.3244\n",
      "epoch time 15.974533557891846s\n",
      "\n",
      "new best model found\n",
      "Epoch: 17\n",
      "\n"
     ]
    },
    {
     "name": "stderr",
     "output_type": "stream",
     "text": [
      "WARNING:root:Warning: Some classes do not exist in the target. F1 scores for these classes will be cast to zeros.\n"
     ]
    },
    {
     "name": "stdout",
     "output_type": "stream",
     "text": [
      "\n",
      "VALIDATION\n",
      "ACTIVITY: acc 0.6415 MacroF1 0.5720\n",
      "TIMESTAMP: MAE 0.0902\n",
      "RESOURCE: acc 0.3037\n",
      "RESOURCE_ROLE: acc 0.7848\n",
      "TOTAL_LOSS: 4.2807\n",
      "epoch time 15.982372522354126s\n",
      "\n",
      "new best model found\n",
      "Epoch: 18\n",
      "\n"
     ]
    },
    {
     "name": "stderr",
     "output_type": "stream",
     "text": [
      "WARNING:root:Warning: Some classes do not exist in the target. F1 scores for these classes will be cast to zeros.\n"
     ]
    },
    {
     "name": "stdout",
     "output_type": "stream",
     "text": [
      "\n",
      "VALIDATION\n",
      "ACTIVITY: acc 0.6480 MacroF1 0.5938\n",
      "TIMESTAMP: MAE 0.0929\n",
      "RESOURCE: acc 0.3037\n",
      "RESOURCE_ROLE: acc 0.7848\n",
      "TOTAL_LOSS: 4.2566\n",
      "epoch time 15.86974024772644s\n",
      "\n",
      "new best model found\n",
      "Epoch: 19\n",
      "\n"
     ]
    },
    {
     "name": "stderr",
     "output_type": "stream",
     "text": [
      "WARNING:root:Warning: Some classes do not exist in the target. F1 scores for these classes will be cast to zeros.\n"
     ]
    },
    {
     "name": "stdout",
     "output_type": "stream",
     "text": [
      "\n",
      "VALIDATION\n",
      "ACTIVITY: acc 0.6483 MacroF1 0.5937\n",
      "TIMESTAMP: MAE 0.0848\n",
      "RESOURCE: acc 0.3037\n",
      "RESOURCE_ROLE: acc 0.7848\n",
      "TOTAL_LOSS: 4.2206\n",
      "epoch time 16.029276609420776s\n",
      "\n",
      "new best model found\n"
     ]
    },
    {
     "name": "stderr",
     "output_type": "stream",
     "text": [
      "WARNING:root:Warning: Some classes do not exist in the target. F1 scores for these classes will be cast to zeros.\n",
      "[INFO 01-07 18:29:51] ax.core.experiment: Attached data has some metrics ({'activity_accuracy', 'MAE_timestamp', 'resource_roles_accuracy', 'MacroF1Activity', 'resource_accuracy'}) that are not among the metrics on this experiment. Note that attaching data will not automatically add those metrics to the experiment. For these metrics to be automatically fetched by `experiment.fetch_data`, add them via `experiment.add_tracking_metric` or update the experiment's optimization config.\n",
      "[INFO 01-07 18:29:51] ax.service.managed_loop: Running optimization trial 15...\n",
      "[ERROR 01-07 18:29:51] ax.core.observation: Data contains metric MAE_timestamp that has not been added to the experiment. You can either update the `optimization_config` or attach it as a tracking metric using `Experiment.add_tracking_metrics` or `AxClient.add_tracking_metrics`. Ignoring all data for metric MAE_timestamp.\n",
      "NoneType: None\n",
      "[ERROR 01-07 18:29:51] ax.core.observation: Data contains metric MacroF1Activity that has not been added to the experiment. You can either update the `optimization_config` or attach it as a tracking metric using `Experiment.add_tracking_metrics` or `AxClient.add_tracking_metrics`. Ignoring all data for metric MacroF1Activity.\n",
      "NoneType: None\n",
      "[ERROR 01-07 18:29:51] ax.core.observation: Data contains metric activity_accuracy that has not been added to the experiment. You can either update the `optimization_config` or attach it as a tracking metric using `Experiment.add_tracking_metrics` or `AxClient.add_tracking_metrics`. Ignoring all data for metric activity_accuracy.\n",
      "NoneType: None\n",
      "[ERROR 01-07 18:29:51] ax.core.observation: Data contains metric resource_accuracy that has not been added to the experiment. You can either update the `optimization_config` or attach it as a tracking metric using `Experiment.add_tracking_metrics` or `AxClient.add_tracking_metrics`. Ignoring all data for metric resource_accuracy.\n",
      "NoneType: None\n",
      "[ERROR 01-07 18:29:51] ax.core.observation: Data contains metric resource_roles_accuracy that has not been added to the experiment. You can either update the `optimization_config` or attach it as a tracking metric using `Experiment.add_tracking_metrics` or `AxClient.add_tracking_metrics`. Ignoring all data for metric resource_roles_accuracy.\n",
      "NoneType: None\n",
      "[ERROR 01-07 18:29:51] ax.core.observation: Data contains metric MAE_timestamp that has not been added to the experiment. You can either update the `optimization_config` or attach it as a tracking metric using `Experiment.add_tracking_metrics` or `AxClient.add_tracking_metrics`. Ignoring all data for metric MAE_timestamp.\n",
      "NoneType: None\n",
      "[ERROR 01-07 18:29:51] ax.core.observation: Data contains metric MacroF1Activity that has not been added to the experiment. You can either update the `optimization_config` or attach it as a tracking metric using `Experiment.add_tracking_metrics` or `AxClient.add_tracking_metrics`. Ignoring all data for metric MacroF1Activity.\n",
      "NoneType: None\n",
      "[ERROR 01-07 18:29:51] ax.core.observation: Data contains metric activity_accuracy that has not been added to the experiment. You can either update the `optimization_config` or attach it as a tracking metric using `Experiment.add_tracking_metrics` or `AxClient.add_tracking_metrics`. Ignoring all data for metric activity_accuracy.\n",
      "NoneType: None\n",
      "[ERROR 01-07 18:29:51] ax.core.observation: Data contains metric resource_accuracy that has not been added to the experiment. You can either update the `optimization_config` or attach it as a tracking metric using `Experiment.add_tracking_metrics` or `AxClient.add_tracking_metrics`. Ignoring all data for metric resource_accuracy.\n",
      "NoneType: None\n",
      "[ERROR 01-07 18:29:51] ax.core.observation: Data contains metric resource_roles_accuracy that has not been added to the experiment. You can either update the `optimization_config` or attach it as a tracking metric using `Experiment.add_tracking_metrics` or `AxClient.add_tracking_metrics`. Ignoring all data for metric resource_roles_accuracy.\n",
      "NoneType: None\n",
      "[ERROR 01-07 18:29:51] ax.core.observation: Data contains metric MAE_timestamp that has not been added to the experiment. You can either update the `optimization_config` or attach it as a tracking metric using `Experiment.add_tracking_metrics` or `AxClient.add_tracking_metrics`. Ignoring all data for metric MAE_timestamp.\n",
      "NoneType: None\n",
      "[ERROR 01-07 18:29:51] ax.core.observation: Data contains metric MacroF1Activity that has not been added to the experiment. You can either update the `optimization_config` or attach it as a tracking metric using `Experiment.add_tracking_metrics` or `AxClient.add_tracking_metrics`. Ignoring all data for metric MacroF1Activity.\n",
      "NoneType: None\n",
      "[ERROR 01-07 18:29:51] ax.core.observation: Data contains metric activity_accuracy that has not been added to the experiment. You can either update the `optimization_config` or attach it as a tracking metric using `Experiment.add_tracking_metrics` or `AxClient.add_tracking_metrics`. Ignoring all data for metric activity_accuracy.\n",
      "NoneType: None\n",
      "[ERROR 01-07 18:29:51] ax.core.observation: Data contains metric resource_accuracy that has not been added to the experiment. You can either update the `optimization_config` or attach it as a tracking metric using `Experiment.add_tracking_metrics` or `AxClient.add_tracking_metrics`. Ignoring all data for metric resource_accuracy.\n",
      "NoneType: None\n",
      "[ERROR 01-07 18:29:51] ax.core.observation: Data contains metric resource_roles_accuracy that has not been added to the experiment. You can either update the `optimization_config` or attach it as a tracking metric using `Experiment.add_tracking_metrics` or `AxClient.add_tracking_metrics`. Ignoring all data for metric resource_roles_accuracy.\n",
      "NoneType: None\n",
      "[ERROR 01-07 18:29:51] ax.core.observation: Data contains metric MAE_timestamp that has not been added to the experiment. You can either update the `optimization_config` or attach it as a tracking metric using `Experiment.add_tracking_metrics` or `AxClient.add_tracking_metrics`. Ignoring all data for metric MAE_timestamp.\n",
      "NoneType: None\n",
      "[ERROR 01-07 18:29:51] ax.core.observation: Data contains metric MacroF1Activity that has not been added to the experiment. You can either update the `optimization_config` or attach it as a tracking metric using `Experiment.add_tracking_metrics` or `AxClient.add_tracking_metrics`. Ignoring all data for metric MacroF1Activity.\n",
      "NoneType: None\n",
      "[ERROR 01-07 18:29:51] ax.core.observation: Data contains metric activity_accuracy that has not been added to the experiment. You can either update the `optimization_config` or attach it as a tracking metric using `Experiment.add_tracking_metrics` or `AxClient.add_tracking_metrics`. Ignoring all data for metric activity_accuracy.\n",
      "NoneType: None\n",
      "[ERROR 01-07 18:29:51] ax.core.observation: Data contains metric resource_accuracy that has not been added to the experiment. You can either update the `optimization_config` or attach it as a tracking metric using `Experiment.add_tracking_metrics` or `AxClient.add_tracking_metrics`. Ignoring all data for metric resource_accuracy.\n",
      "NoneType: None\n",
      "[ERROR 01-07 18:29:51] ax.core.observation: Data contains metric resource_roles_accuracy that has not been added to the experiment. You can either update the `optimization_config` or attach it as a tracking metric using `Experiment.add_tracking_metrics` or `AxClient.add_tracking_metrics`. Ignoring all data for metric resource_roles_accuracy.\n",
      "NoneType: None\n",
      "[ERROR 01-07 18:29:51] ax.core.observation: Data contains metric MAE_timestamp that has not been added to the experiment. You can either update the `optimization_config` or attach it as a tracking metric using `Experiment.add_tracking_metrics` or `AxClient.add_tracking_metrics`. Ignoring all data for metric MAE_timestamp.\n",
      "NoneType: None\n",
      "[ERROR 01-07 18:29:51] ax.core.observation: Data contains metric MacroF1Activity that has not been added to the experiment. You can either update the `optimization_config` or attach it as a tracking metric using `Experiment.add_tracking_metrics` or `AxClient.add_tracking_metrics`. Ignoring all data for metric MacroF1Activity.\n",
      "NoneType: None\n",
      "[ERROR 01-07 18:29:51] ax.core.observation: Data contains metric activity_accuracy that has not been added to the experiment. You can either update the `optimization_config` or attach it as a tracking metric using `Experiment.add_tracking_metrics` or `AxClient.add_tracking_metrics`. Ignoring all data for metric activity_accuracy.\n",
      "NoneType: None\n",
      "[ERROR 01-07 18:29:51] ax.core.observation: Data contains metric resource_accuracy that has not been added to the experiment. You can either update the `optimization_config` or attach it as a tracking metric using `Experiment.add_tracking_metrics` or `AxClient.add_tracking_metrics`. Ignoring all data for metric resource_accuracy.\n",
      "NoneType: None\n",
      "[ERROR 01-07 18:29:51] ax.core.observation: Data contains metric resource_roles_accuracy that has not been added to the experiment. You can either update the `optimization_config` or attach it as a tracking metric using `Experiment.add_tracking_metrics` or `AxClient.add_tracking_metrics`. Ignoring all data for metric resource_roles_accuracy.\n",
      "NoneType: None\n",
      "[ERROR 01-07 18:29:51] ax.core.observation: Data contains metric MAE_timestamp that has not been added to the experiment. You can either update the `optimization_config` or attach it as a tracking metric using `Experiment.add_tracking_metrics` or `AxClient.add_tracking_metrics`. Ignoring all data for metric MAE_timestamp.\n",
      "NoneType: None\n",
      "[ERROR 01-07 18:29:51] ax.core.observation: Data contains metric MacroF1Activity that has not been added to the experiment. You can either update the `optimization_config` or attach it as a tracking metric using `Experiment.add_tracking_metrics` or `AxClient.add_tracking_metrics`. Ignoring all data for metric MacroF1Activity.\n",
      "NoneType: None\n",
      "[ERROR 01-07 18:29:51] ax.core.observation: Data contains metric activity_accuracy that has not been added to the experiment. You can either update the `optimization_config` or attach it as a tracking metric using `Experiment.add_tracking_metrics` or `AxClient.add_tracking_metrics`. Ignoring all data for metric activity_accuracy.\n",
      "NoneType: None\n",
      "[ERROR 01-07 18:29:51] ax.core.observation: Data contains metric resource_accuracy that has not been added to the experiment. You can either update the `optimization_config` or attach it as a tracking metric using `Experiment.add_tracking_metrics` or `AxClient.add_tracking_metrics`. Ignoring all data for metric resource_accuracy.\n",
      "NoneType: None\n",
      "[ERROR 01-07 18:29:51] ax.core.observation: Data contains metric resource_roles_accuracy that has not been added to the experiment. You can either update the `optimization_config` or attach it as a tracking metric using `Experiment.add_tracking_metrics` or `AxClient.add_tracking_metrics`. Ignoring all data for metric resource_roles_accuracy.\n",
      "NoneType: None\n",
      "[ERROR 01-07 18:29:51] ax.core.observation: Data contains metric MAE_timestamp that has not been added to the experiment. You can either update the `optimization_config` or attach it as a tracking metric using `Experiment.add_tracking_metrics` or `AxClient.add_tracking_metrics`. Ignoring all data for metric MAE_timestamp.\n",
      "NoneType: None\n",
      "[ERROR 01-07 18:29:51] ax.core.observation: Data contains metric MacroF1Activity that has not been added to the experiment. You can either update the `optimization_config` or attach it as a tracking metric using `Experiment.add_tracking_metrics` or `AxClient.add_tracking_metrics`. Ignoring all data for metric MacroF1Activity.\n",
      "NoneType: None\n",
      "[ERROR 01-07 18:29:51] ax.core.observation: Data contains metric activity_accuracy that has not been added to the experiment. You can either update the `optimization_config` or attach it as a tracking metric using `Experiment.add_tracking_metrics` or `AxClient.add_tracking_metrics`. Ignoring all data for metric activity_accuracy.\n",
      "NoneType: None\n",
      "[ERROR 01-07 18:29:51] ax.core.observation: Data contains metric resource_accuracy that has not been added to the experiment. You can either update the `optimization_config` or attach it as a tracking metric using `Experiment.add_tracking_metrics` or `AxClient.add_tracking_metrics`. Ignoring all data for metric resource_accuracy.\n",
      "NoneType: None\n",
      "[ERROR 01-07 18:29:51] ax.core.observation: Data contains metric resource_roles_accuracy that has not been added to the experiment. You can either update the `optimization_config` or attach it as a tracking metric using `Experiment.add_tracking_metrics` or `AxClient.add_tracking_metrics`. Ignoring all data for metric resource_roles_accuracy.\n",
      "NoneType: None\n",
      "[ERROR 01-07 18:29:51] ax.core.observation: Data contains metric MAE_timestamp that has not been added to the experiment. You can either update the `optimization_config` or attach it as a tracking metric using `Experiment.add_tracking_metrics` or `AxClient.add_tracking_metrics`. Ignoring all data for metric MAE_timestamp.\n",
      "NoneType: None\n",
      "[ERROR 01-07 18:29:51] ax.core.observation: Data contains metric MacroF1Activity that has not been added to the experiment. You can either update the `optimization_config` or attach it as a tracking metric using `Experiment.add_tracking_metrics` or `AxClient.add_tracking_metrics`. Ignoring all data for metric MacroF1Activity.\n",
      "NoneType: None\n",
      "[ERROR 01-07 18:29:51] ax.core.observation: Data contains metric activity_accuracy that has not been added to the experiment. You can either update the `optimization_config` or attach it as a tracking metric using `Experiment.add_tracking_metrics` or `AxClient.add_tracking_metrics`. Ignoring all data for metric activity_accuracy.\n",
      "NoneType: None\n",
      "[ERROR 01-07 18:29:51] ax.core.observation: Data contains metric resource_accuracy that has not been added to the experiment. You can either update the `optimization_config` or attach it as a tracking metric using `Experiment.add_tracking_metrics` or `AxClient.add_tracking_metrics`. Ignoring all data for metric resource_accuracy.\n",
      "NoneType: None\n",
      "[ERROR 01-07 18:29:51] ax.core.observation: Data contains metric resource_roles_accuracy that has not been added to the experiment. You can either update the `optimization_config` or attach it as a tracking metric using `Experiment.add_tracking_metrics` or `AxClient.add_tracking_metrics`. Ignoring all data for metric resource_roles_accuracy.\n",
      "NoneType: None\n",
      "[ERROR 01-07 18:29:51] ax.core.observation: Data contains metric MAE_timestamp that has not been added to the experiment. You can either update the `optimization_config` or attach it as a tracking metric using `Experiment.add_tracking_metrics` or `AxClient.add_tracking_metrics`. Ignoring all data for metric MAE_timestamp.\n",
      "NoneType: None\n",
      "[ERROR 01-07 18:29:51] ax.core.observation: Data contains metric MacroF1Activity that has not been added to the experiment. You can either update the `optimization_config` or attach it as a tracking metric using `Experiment.add_tracking_metrics` or `AxClient.add_tracking_metrics`. Ignoring all data for metric MacroF1Activity.\n",
      "NoneType: None\n",
      "[ERROR 01-07 18:29:51] ax.core.observation: Data contains metric activity_accuracy that has not been added to the experiment. You can either update the `optimization_config` or attach it as a tracking metric using `Experiment.add_tracking_metrics` or `AxClient.add_tracking_metrics`. Ignoring all data for metric activity_accuracy.\n",
      "NoneType: None\n",
      "[ERROR 01-07 18:29:51] ax.core.observation: Data contains metric resource_accuracy that has not been added to the experiment. You can either update the `optimization_config` or attach it as a tracking metric using `Experiment.add_tracking_metrics` or `AxClient.add_tracking_metrics`. Ignoring all data for metric resource_accuracy.\n",
      "NoneType: None\n",
      "[ERROR 01-07 18:29:51] ax.core.observation: Data contains metric resource_roles_accuracy that has not been added to the experiment. You can either update the `optimization_config` or attach it as a tracking metric using `Experiment.add_tracking_metrics` or `AxClient.add_tracking_metrics`. Ignoring all data for metric resource_roles_accuracy.\n",
      "NoneType: None\n",
      "[ERROR 01-07 18:29:51] ax.core.observation: Data contains metric MAE_timestamp that has not been added to the experiment. You can either update the `optimization_config` or attach it as a tracking metric using `Experiment.add_tracking_metrics` or `AxClient.add_tracking_metrics`. Ignoring all data for metric MAE_timestamp.\n",
      "NoneType: None\n",
      "[ERROR 01-07 18:29:51] ax.core.observation: Data contains metric MacroF1Activity that has not been added to the experiment. You can either update the `optimization_config` or attach it as a tracking metric using `Experiment.add_tracking_metrics` or `AxClient.add_tracking_metrics`. Ignoring all data for metric MacroF1Activity.\n",
      "NoneType: None\n",
      "[ERROR 01-07 18:29:51] ax.core.observation: Data contains metric activity_accuracy that has not been added to the experiment. You can either update the `optimization_config` or attach it as a tracking metric using `Experiment.add_tracking_metrics` or `AxClient.add_tracking_metrics`. Ignoring all data for metric activity_accuracy.\n",
      "NoneType: None\n",
      "[ERROR 01-07 18:29:51] ax.core.observation: Data contains metric resource_accuracy that has not been added to the experiment. You can either update the `optimization_config` or attach it as a tracking metric using `Experiment.add_tracking_metrics` or `AxClient.add_tracking_metrics`. Ignoring all data for metric resource_accuracy.\n",
      "NoneType: None\n",
      "[ERROR 01-07 18:29:51] ax.core.observation: Data contains metric resource_roles_accuracy that has not been added to the experiment. You can either update the `optimization_config` or attach it as a tracking metric using `Experiment.add_tracking_metrics` or `AxClient.add_tracking_metrics`. Ignoring all data for metric resource_roles_accuracy.\n",
      "NoneType: None\n",
      "[ERROR 01-07 18:29:51] ax.core.observation: Data contains metric MAE_timestamp that has not been added to the experiment. You can either update the `optimization_config` or attach it as a tracking metric using `Experiment.add_tracking_metrics` or `AxClient.add_tracking_metrics`. Ignoring all data for metric MAE_timestamp.\n",
      "NoneType: None\n",
      "[ERROR 01-07 18:29:51] ax.core.observation: Data contains metric MacroF1Activity that has not been added to the experiment. You can either update the `optimization_config` or attach it as a tracking metric using `Experiment.add_tracking_metrics` or `AxClient.add_tracking_metrics`. Ignoring all data for metric MacroF1Activity.\n",
      "NoneType: None\n",
      "[ERROR 01-07 18:29:51] ax.core.observation: Data contains metric activity_accuracy that has not been added to the experiment. You can either update the `optimization_config` or attach it as a tracking metric using `Experiment.add_tracking_metrics` or `AxClient.add_tracking_metrics`. Ignoring all data for metric activity_accuracy.\n",
      "NoneType: None\n",
      "[ERROR 01-07 18:29:51] ax.core.observation: Data contains metric resource_accuracy that has not been added to the experiment. You can either update the `optimization_config` or attach it as a tracking metric using `Experiment.add_tracking_metrics` or `AxClient.add_tracking_metrics`. Ignoring all data for metric resource_accuracy.\n",
      "NoneType: None\n",
      "[ERROR 01-07 18:29:51] ax.core.observation: Data contains metric resource_roles_accuracy that has not been added to the experiment. You can either update the `optimization_config` or attach it as a tracking metric using `Experiment.add_tracking_metrics` or `AxClient.add_tracking_metrics`. Ignoring all data for metric resource_roles_accuracy.\n",
      "NoneType: None\n",
      "[ERROR 01-07 18:29:51] ax.core.observation: Data contains metric MAE_timestamp that has not been added to the experiment. You can either update the `optimization_config` or attach it as a tracking metric using `Experiment.add_tracking_metrics` or `AxClient.add_tracking_metrics`. Ignoring all data for metric MAE_timestamp.\n",
      "NoneType: None\n",
      "[ERROR 01-07 18:29:51] ax.core.observation: Data contains metric MacroF1Activity that has not been added to the experiment. You can either update the `optimization_config` or attach it as a tracking metric using `Experiment.add_tracking_metrics` or `AxClient.add_tracking_metrics`. Ignoring all data for metric MacroF1Activity.\n",
      "NoneType: None\n",
      "[ERROR 01-07 18:29:51] ax.core.observation: Data contains metric activity_accuracy that has not been added to the experiment. You can either update the `optimization_config` or attach it as a tracking metric using `Experiment.add_tracking_metrics` or `AxClient.add_tracking_metrics`. Ignoring all data for metric activity_accuracy.\n",
      "NoneType: None\n",
      "[ERROR 01-07 18:29:51] ax.core.observation: Data contains metric resource_accuracy that has not been added to the experiment. You can either update the `optimization_config` or attach it as a tracking metric using `Experiment.add_tracking_metrics` or `AxClient.add_tracking_metrics`. Ignoring all data for metric resource_accuracy.\n",
      "NoneType: None\n",
      "[ERROR 01-07 18:29:51] ax.core.observation: Data contains metric resource_roles_accuracy that has not been added to the experiment. You can either update the `optimization_config` or attach it as a tracking metric using `Experiment.add_tracking_metrics` or `AxClient.add_tracking_metrics`. Ignoring all data for metric resource_roles_accuracy.\n",
      "NoneType: None\n",
      "[ERROR 01-07 18:29:51] ax.core.observation: Data contains metric MAE_timestamp that has not been added to the experiment. You can either update the `optimization_config` or attach it as a tracking metric using `Experiment.add_tracking_metrics` or `AxClient.add_tracking_metrics`. Ignoring all data for metric MAE_timestamp.\n",
      "NoneType: None\n",
      "[ERROR 01-07 18:29:51] ax.core.observation: Data contains metric MacroF1Activity that has not been added to the experiment. You can either update the `optimization_config` or attach it as a tracking metric using `Experiment.add_tracking_metrics` or `AxClient.add_tracking_metrics`. Ignoring all data for metric MacroF1Activity.\n",
      "NoneType: None\n",
      "[ERROR 01-07 18:29:51] ax.core.observation: Data contains metric activity_accuracy that has not been added to the experiment. You can either update the `optimization_config` or attach it as a tracking metric using `Experiment.add_tracking_metrics` or `AxClient.add_tracking_metrics`. Ignoring all data for metric activity_accuracy.\n",
      "NoneType: None\n",
      "[ERROR 01-07 18:29:51] ax.core.observation: Data contains metric resource_accuracy that has not been added to the experiment. You can either update the `optimization_config` or attach it as a tracking metric using `Experiment.add_tracking_metrics` or `AxClient.add_tracking_metrics`. Ignoring all data for metric resource_accuracy.\n",
      "NoneType: None\n",
      "[ERROR 01-07 18:29:51] ax.core.observation: Data contains metric resource_roles_accuracy that has not been added to the experiment. You can either update the `optimization_config` or attach it as a tracking metric using `Experiment.add_tracking_metrics` or `AxClient.add_tracking_metrics`. Ignoring all data for metric resource_roles_accuracy.\n",
      "NoneType: None\n",
      "[ERROR 01-07 18:29:51] ax.core.observation: Data contains metric MAE_timestamp that has not been added to the experiment. You can either update the `optimization_config` or attach it as a tracking metric using `Experiment.add_tracking_metrics` or `AxClient.add_tracking_metrics`. Ignoring all data for metric MAE_timestamp.\n",
      "NoneType: None\n",
      "[ERROR 01-07 18:29:51] ax.core.observation: Data contains metric MacroF1Activity that has not been added to the experiment. You can either update the `optimization_config` or attach it as a tracking metric using `Experiment.add_tracking_metrics` or `AxClient.add_tracking_metrics`. Ignoring all data for metric MacroF1Activity.\n",
      "NoneType: None\n",
      "[ERROR 01-07 18:29:51] ax.core.observation: Data contains metric activity_accuracy that has not been added to the experiment. You can either update the `optimization_config` or attach it as a tracking metric using `Experiment.add_tracking_metrics` or `AxClient.add_tracking_metrics`. Ignoring all data for metric activity_accuracy.\n",
      "NoneType: None\n",
      "[ERROR 01-07 18:29:51] ax.core.observation: Data contains metric resource_accuracy that has not been added to the experiment. You can either update the `optimization_config` or attach it as a tracking metric using `Experiment.add_tracking_metrics` or `AxClient.add_tracking_metrics`. Ignoring all data for metric resource_accuracy.\n",
      "NoneType: None\n",
      "[ERROR 01-07 18:29:51] ax.core.observation: Data contains metric resource_roles_accuracy that has not been added to the experiment. You can either update the `optimization_config` or attach it as a tracking metric using `Experiment.add_tracking_metrics` or `AxClient.add_tracking_metrics`. Ignoring all data for metric resource_roles_accuracy.\n",
      "NoneType: None\n"
     ]
    },
    {
     "name": "stdout",
     "output_type": "stream",
     "text": [
      "{'lr': 0.004642589578864121, 'batch_size': 256, 'heads': 1, 'hid': 128, 'layers': 2, 'aggregation': 'max'}\n",
      "Epoch: 0\n",
      "\n"
     ]
    },
    {
     "name": "stderr",
     "output_type": "stream",
     "text": [
      "WARNING:root:Warning: Some classes do not exist in the target. F1 scores for these classes will be cast to zeros.\n"
     ]
    },
    {
     "name": "stdout",
     "output_type": "stream",
     "text": [
      "\n",
      "VALIDATION\n",
      "ACTIVITY: acc 0.6637 MacroF1 0.5971\n",
      "TIMESTAMP: MAE 0.1080\n",
      "RESOURCE: acc 0.3964\n",
      "RESOURCE_ROLE: acc 0.7848\n",
      "TOTAL_LOSS: 3.9808\n",
      "epoch time 15.328563213348389s\n",
      "\n",
      "Epoch: 1\n",
      "\n"
     ]
    },
    {
     "name": "stderr",
     "output_type": "stream",
     "text": [
      "WARNING:root:Warning: Some classes do not exist in the target. F1 scores for these classes will be cast to zeros.\n"
     ]
    },
    {
     "name": "stdout",
     "output_type": "stream",
     "text": [
      "\n",
      "VALIDATION\n",
      "ACTIVITY: acc 0.4959 MacroF1 0.4877\n",
      "TIMESTAMP: MAE 0.1193\n",
      "RESOURCE: acc 0.4633\n",
      "RESOURCE_ROLE: acc 0.7327\n",
      "TOTAL_LOSS: 3.8508\n",
      "epoch time 15.304659366607666s\n",
      "\n",
      "new best model found\n",
      "Epoch: 2\n",
      "\n"
     ]
    },
    {
     "name": "stderr",
     "output_type": "stream",
     "text": [
      "WARNING:root:Warning: Some classes do not exist in the target. F1 scores for these classes will be cast to zeros.\n"
     ]
    },
    {
     "name": "stdout",
     "output_type": "stream",
     "text": [
      "\n",
      "VALIDATION\n",
      "ACTIVITY: acc 0.6571 MacroF1 0.6150\n",
      "TIMESTAMP: MAE 0.1144\n",
      "RESOURCE: acc 0.5164\n",
      "RESOURCE_ROLE: acc 0.7860\n",
      "TOTAL_LOSS: 3.4919\n",
      "epoch time 15.38883113861084s\n",
      "\n",
      "new best model found\n",
      "Epoch: 3\n",
      "\n"
     ]
    },
    {
     "name": "stderr",
     "output_type": "stream",
     "text": [
      "WARNING:root:Warning: Some classes do not exist in the target. F1 scores for these classes will be cast to zeros.\n"
     ]
    },
    {
     "name": "stdout",
     "output_type": "stream",
     "text": [
      "\n",
      "VALIDATION\n",
      "ACTIVITY: acc 0.6521 MacroF1 0.5990\n",
      "TIMESTAMP: MAE 0.2363\n",
      "RESOURCE: acc 0.5325\n",
      "RESOURCE_ROLE: acc 0.7860\n",
      "TOTAL_LOSS: 3.5341\n",
      "epoch time 14.76168417930603s\n",
      "\n",
      "Epoch: 4\n",
      "\n"
     ]
    },
    {
     "name": "stderr",
     "output_type": "stream",
     "text": [
      "WARNING:root:Warning: Some classes do not exist in the target. F1 scores for these classes will be cast to zeros.\n"
     ]
    },
    {
     "name": "stdout",
     "output_type": "stream",
     "text": [
      "\n",
      "VALIDATION\n",
      "ACTIVITY: acc 0.6580 MacroF1 0.6151\n",
      "TIMESTAMP: MAE 0.1614\n",
      "RESOURCE: acc 0.5304\n",
      "RESOURCE_ROLE: acc 0.7841\n",
      "TOTAL_LOSS: 3.4611\n",
      "epoch time 14.861237049102783s\n",
      "\n",
      "new best model found\n",
      "Epoch: 5\n",
      "\n"
     ]
    },
    {
     "name": "stderr",
     "output_type": "stream",
     "text": [
      "WARNING:root:Warning: Some classes do not exist in the target. F1 scores for these classes will be cast to zeros.\n"
     ]
    },
    {
     "name": "stdout",
     "output_type": "stream",
     "text": [
      "\n",
      "VALIDATION\n",
      "ACTIVITY: acc 0.6770 MacroF1 0.6429\n",
      "TIMESTAMP: MAE 0.2162\n",
      "RESOURCE: acc 0.5363\n",
      "RESOURCE_ROLE: acc 0.7860\n",
      "TOTAL_LOSS: 3.4841\n",
      "epoch time 15.359578847885132s\n",
      "\n",
      "Epoch: 6\n",
      "\n"
     ]
    },
    {
     "name": "stderr",
     "output_type": "stream",
     "text": [
      "WARNING:root:Warning: Some classes do not exist in the target. F1 scores for these classes will be cast to zeros.\n"
     ]
    },
    {
     "name": "stdout",
     "output_type": "stream",
     "text": [
      "\n",
      "VALIDATION\n",
      "ACTIVITY: acc 0.6677 MacroF1 0.6321\n",
      "TIMESTAMP: MAE 0.2107\n",
      "RESOURCE: acc 0.5378\n",
      "RESOURCE_ROLE: acc 0.7860\n",
      "TOTAL_LOSS: 3.4410\n",
      "epoch time 15.417750358581543s\n",
      "\n",
      "new best model found\n",
      "Epoch: 7\n",
      "\n"
     ]
    },
    {
     "name": "stderr",
     "output_type": "stream",
     "text": [
      "WARNING:root:Warning: Some classes do not exist in the target. F1 scores for these classes will be cast to zeros.\n"
     ]
    },
    {
     "name": "stdout",
     "output_type": "stream",
     "text": [
      "\n",
      "VALIDATION\n",
      "ACTIVITY: acc 0.6597 MacroF1 0.6530\n",
      "TIMESTAMP: MAE 0.2922\n",
      "RESOURCE: acc 0.5378\n",
      "RESOURCE_ROLE: acc 0.7862\n",
      "TOTAL_LOSS: 3.5807\n",
      "epoch time 14.990431070327759s\n",
      "\n",
      "Epoch: 8\n",
      "\n"
     ]
    },
    {
     "name": "stderr",
     "output_type": "stream",
     "text": [
      "WARNING:root:Warning: Some classes do not exist in the target. F1 scores for these classes will be cast to zeros.\n"
     ]
    },
    {
     "name": "stdout",
     "output_type": "stream",
     "text": [
      "\n",
      "VALIDATION\n",
      "ACTIVITY: acc 0.6813 MacroF1 0.6695\n",
      "TIMESTAMP: MAE 0.0739\n",
      "RESOURCE: acc 0.5369\n",
      "RESOURCE_ROLE: acc 0.7862\n",
      "TOTAL_LOSS: 3.3077\n",
      "epoch time 14.807581424713135s\n",
      "\n",
      "new best model found\n",
      "Epoch: 9\n",
      "\n"
     ]
    },
    {
     "name": "stderr",
     "output_type": "stream",
     "text": [
      "WARNING:root:Warning: Some classes do not exist in the target. F1 scores for these classes will be cast to zeros.\n"
     ]
    },
    {
     "name": "stdout",
     "output_type": "stream",
     "text": [
      "\n",
      "VALIDATION\n",
      "ACTIVITY: acc 0.6550 MacroF1 0.6447\n",
      "TIMESTAMP: MAE 0.0730\n",
      "RESOURCE: acc 0.5338\n",
      "RESOURCE_ROLE: acc 0.7862\n",
      "TOTAL_LOSS: 3.3983\n",
      "epoch time 15.178864479064941s\n",
      "\n",
      "Epoch: 10\n",
      "\n"
     ]
    },
    {
     "name": "stderr",
     "output_type": "stream",
     "text": [
      "WARNING:root:Warning: Some classes do not exist in the target. F1 scores for these classes will be cast to zeros.\n"
     ]
    },
    {
     "name": "stdout",
     "output_type": "stream",
     "text": [
      "\n",
      "VALIDATION\n",
      "ACTIVITY: acc 0.6650 MacroF1 0.6223\n",
      "TIMESTAMP: MAE 0.1269\n",
      "RESOURCE: acc 0.5388\n",
      "RESOURCE_ROLE: acc 0.7860\n",
      "TOTAL_LOSS: 3.3568\n",
      "epoch time 15.013192653656006s\n",
      "\n",
      "Epoch: 11\n",
      "\n"
     ]
    },
    {
     "name": "stderr",
     "output_type": "stream",
     "text": [
      "WARNING:root:Warning: Some classes do not exist in the target. F1 scores for these classes will be cast to zeros.\n"
     ]
    },
    {
     "name": "stdout",
     "output_type": "stream",
     "text": [
      "\n",
      "VALIDATION\n",
      "ACTIVITY: acc 0.6639 MacroF1 0.6514\n",
      "TIMESTAMP: MAE 0.3308\n",
      "RESOURCE: acc 0.5399\n",
      "RESOURCE_ROLE: acc 0.7862\n",
      "TOTAL_LOSS: 3.5790\n",
      "epoch time 14.843066930770874s\n",
      "\n",
      "Epoch: 12\n",
      "\n"
     ]
    },
    {
     "name": "stderr",
     "output_type": "stream",
     "text": [
      "WARNING:root:Warning: Some classes do not exist in the target. F1 scores for these classes will be cast to zeros.\n"
     ]
    },
    {
     "name": "stdout",
     "output_type": "stream",
     "text": [
      "\n",
      "VALIDATION\n",
      "ACTIVITY: acc 0.6588 MacroF1 0.6148\n",
      "TIMESTAMP: MAE 0.1384\n",
      "RESOURCE: acc 0.5386\n",
      "RESOURCE_ROLE: acc 0.7860\n",
      "TOTAL_LOSS: 3.3848\n",
      "epoch time 14.76107406616211s\n",
      "\n",
      "Epoch: 13\n",
      "\n"
     ]
    },
    {
     "name": "stderr",
     "output_type": "stream",
     "text": [
      "WARNING:root:Warning: Some classes do not exist in the target. F1 scores for these classes will be cast to zeros.\n"
     ]
    },
    {
     "name": "stdout",
     "output_type": "stream",
     "text": [
      "\n",
      "VALIDATION\n",
      "ACTIVITY: acc 0.6516 MacroF1 0.6281\n",
      "TIMESTAMP: MAE 0.2056\n",
      "RESOURCE: acc 0.5361\n",
      "RESOURCE_ROLE: acc 0.7860\n",
      "TOTAL_LOSS: 3.4798\n",
      "epoch time 14.5944082736969s\n",
      "\n",
      "Validation performance didn't improve for 5 epochs. Training stops.\n"
     ]
    },
    {
     "name": "stderr",
     "output_type": "stream",
     "text": [
      "WARNING:root:Warning: Some classes do not exist in the target. F1 scores for these classes will be cast to zeros.\n",
      "[INFO 01-07 18:33:34] ax.core.experiment: Attached data has some metrics ({'activity_accuracy', 'MAE_timestamp', 'resource_roles_accuracy', 'MacroF1Activity', 'resource_accuracy'}) that are not among the metrics on this experiment. Note that attaching data will not automatically add those metrics to the experiment. For these metrics to be automatically fetched by `experiment.fetch_data`, add them via `experiment.add_tracking_metric` or update the experiment's optimization config.\n",
      "[INFO 01-07 18:33:34] ax.service.managed_loop: Running optimization trial 16...\n",
      "[ERROR 01-07 18:33:34] ax.core.observation: Data contains metric MAE_timestamp that has not been added to the experiment. You can either update the `optimization_config` or attach it as a tracking metric using `Experiment.add_tracking_metrics` or `AxClient.add_tracking_metrics`. Ignoring all data for metric MAE_timestamp.\n",
      "NoneType: None\n",
      "[ERROR 01-07 18:33:34] ax.core.observation: Data contains metric MacroF1Activity that has not been added to the experiment. You can either update the `optimization_config` or attach it as a tracking metric using `Experiment.add_tracking_metrics` or `AxClient.add_tracking_metrics`. Ignoring all data for metric MacroF1Activity.\n",
      "NoneType: None\n",
      "[ERROR 01-07 18:33:34] ax.core.observation: Data contains metric activity_accuracy that has not been added to the experiment. You can either update the `optimization_config` or attach it as a tracking metric using `Experiment.add_tracking_metrics` or `AxClient.add_tracking_metrics`. Ignoring all data for metric activity_accuracy.\n",
      "NoneType: None\n",
      "[ERROR 01-07 18:33:34] ax.core.observation: Data contains metric resource_accuracy that has not been added to the experiment. You can either update the `optimization_config` or attach it as a tracking metric using `Experiment.add_tracking_metrics` or `AxClient.add_tracking_metrics`. Ignoring all data for metric resource_accuracy.\n",
      "NoneType: None\n",
      "[ERROR 01-07 18:33:34] ax.core.observation: Data contains metric resource_roles_accuracy that has not been added to the experiment. You can either update the `optimization_config` or attach it as a tracking metric using `Experiment.add_tracking_metrics` or `AxClient.add_tracking_metrics`. Ignoring all data for metric resource_roles_accuracy.\n",
      "NoneType: None\n",
      "[ERROR 01-07 18:33:34] ax.core.observation: Data contains metric MAE_timestamp that has not been added to the experiment. You can either update the `optimization_config` or attach it as a tracking metric using `Experiment.add_tracking_metrics` or `AxClient.add_tracking_metrics`. Ignoring all data for metric MAE_timestamp.\n",
      "NoneType: None\n",
      "[ERROR 01-07 18:33:34] ax.core.observation: Data contains metric MacroF1Activity that has not been added to the experiment. You can either update the `optimization_config` or attach it as a tracking metric using `Experiment.add_tracking_metrics` or `AxClient.add_tracking_metrics`. Ignoring all data for metric MacroF1Activity.\n",
      "NoneType: None\n",
      "[ERROR 01-07 18:33:34] ax.core.observation: Data contains metric activity_accuracy that has not been added to the experiment. You can either update the `optimization_config` or attach it as a tracking metric using `Experiment.add_tracking_metrics` or `AxClient.add_tracking_metrics`. Ignoring all data for metric activity_accuracy.\n",
      "NoneType: None\n",
      "[ERROR 01-07 18:33:34] ax.core.observation: Data contains metric resource_accuracy that has not been added to the experiment. You can either update the `optimization_config` or attach it as a tracking metric using `Experiment.add_tracking_metrics` or `AxClient.add_tracking_metrics`. Ignoring all data for metric resource_accuracy.\n",
      "NoneType: None\n",
      "[ERROR 01-07 18:33:34] ax.core.observation: Data contains metric resource_roles_accuracy that has not been added to the experiment. You can either update the `optimization_config` or attach it as a tracking metric using `Experiment.add_tracking_metrics` or `AxClient.add_tracking_metrics`. Ignoring all data for metric resource_roles_accuracy.\n",
      "NoneType: None\n",
      "[ERROR 01-07 18:33:34] ax.core.observation: Data contains metric MAE_timestamp that has not been added to the experiment. You can either update the `optimization_config` or attach it as a tracking metric using `Experiment.add_tracking_metrics` or `AxClient.add_tracking_metrics`. Ignoring all data for metric MAE_timestamp.\n",
      "NoneType: None\n",
      "[ERROR 01-07 18:33:34] ax.core.observation: Data contains metric MacroF1Activity that has not been added to the experiment. You can either update the `optimization_config` or attach it as a tracking metric using `Experiment.add_tracking_metrics` or `AxClient.add_tracking_metrics`. Ignoring all data for metric MacroF1Activity.\n",
      "NoneType: None\n",
      "[ERROR 01-07 18:33:34] ax.core.observation: Data contains metric activity_accuracy that has not been added to the experiment. You can either update the `optimization_config` or attach it as a tracking metric using `Experiment.add_tracking_metrics` or `AxClient.add_tracking_metrics`. Ignoring all data for metric activity_accuracy.\n",
      "NoneType: None\n",
      "[ERROR 01-07 18:33:34] ax.core.observation: Data contains metric resource_accuracy that has not been added to the experiment. You can either update the `optimization_config` or attach it as a tracking metric using `Experiment.add_tracking_metrics` or `AxClient.add_tracking_metrics`. Ignoring all data for metric resource_accuracy.\n",
      "NoneType: None\n",
      "[ERROR 01-07 18:33:34] ax.core.observation: Data contains metric resource_roles_accuracy that has not been added to the experiment. You can either update the `optimization_config` or attach it as a tracking metric using `Experiment.add_tracking_metrics` or `AxClient.add_tracking_metrics`. Ignoring all data for metric resource_roles_accuracy.\n",
      "NoneType: None\n",
      "[ERROR 01-07 18:33:34] ax.core.observation: Data contains metric MAE_timestamp that has not been added to the experiment. You can either update the `optimization_config` or attach it as a tracking metric using `Experiment.add_tracking_metrics` or `AxClient.add_tracking_metrics`. Ignoring all data for metric MAE_timestamp.\n",
      "NoneType: None\n",
      "[ERROR 01-07 18:33:34] ax.core.observation: Data contains metric MacroF1Activity that has not been added to the experiment. You can either update the `optimization_config` or attach it as a tracking metric using `Experiment.add_tracking_metrics` or `AxClient.add_tracking_metrics`. Ignoring all data for metric MacroF1Activity.\n",
      "NoneType: None\n",
      "[ERROR 01-07 18:33:34] ax.core.observation: Data contains metric activity_accuracy that has not been added to the experiment. You can either update the `optimization_config` or attach it as a tracking metric using `Experiment.add_tracking_metrics` or `AxClient.add_tracking_metrics`. Ignoring all data for metric activity_accuracy.\n",
      "NoneType: None\n",
      "[ERROR 01-07 18:33:34] ax.core.observation: Data contains metric resource_accuracy that has not been added to the experiment. You can either update the `optimization_config` or attach it as a tracking metric using `Experiment.add_tracking_metrics` or `AxClient.add_tracking_metrics`. Ignoring all data for metric resource_accuracy.\n",
      "NoneType: None\n",
      "[ERROR 01-07 18:33:34] ax.core.observation: Data contains metric resource_roles_accuracy that has not been added to the experiment. You can either update the `optimization_config` or attach it as a tracking metric using `Experiment.add_tracking_metrics` or `AxClient.add_tracking_metrics`. Ignoring all data for metric resource_roles_accuracy.\n",
      "NoneType: None\n",
      "[ERROR 01-07 18:33:34] ax.core.observation: Data contains metric MAE_timestamp that has not been added to the experiment. You can either update the `optimization_config` or attach it as a tracking metric using `Experiment.add_tracking_metrics` or `AxClient.add_tracking_metrics`. Ignoring all data for metric MAE_timestamp.\n",
      "NoneType: None\n",
      "[ERROR 01-07 18:33:34] ax.core.observation: Data contains metric MacroF1Activity that has not been added to the experiment. You can either update the `optimization_config` or attach it as a tracking metric using `Experiment.add_tracking_metrics` or `AxClient.add_tracking_metrics`. Ignoring all data for metric MacroF1Activity.\n",
      "NoneType: None\n",
      "[ERROR 01-07 18:33:34] ax.core.observation: Data contains metric activity_accuracy that has not been added to the experiment. You can either update the `optimization_config` or attach it as a tracking metric using `Experiment.add_tracking_metrics` or `AxClient.add_tracking_metrics`. Ignoring all data for metric activity_accuracy.\n",
      "NoneType: None\n",
      "[ERROR 01-07 18:33:34] ax.core.observation: Data contains metric resource_accuracy that has not been added to the experiment. You can either update the `optimization_config` or attach it as a tracking metric using `Experiment.add_tracking_metrics` or `AxClient.add_tracking_metrics`. Ignoring all data for metric resource_accuracy.\n",
      "NoneType: None\n",
      "[ERROR 01-07 18:33:34] ax.core.observation: Data contains metric resource_roles_accuracy that has not been added to the experiment. You can either update the `optimization_config` or attach it as a tracking metric using `Experiment.add_tracking_metrics` or `AxClient.add_tracking_metrics`. Ignoring all data for metric resource_roles_accuracy.\n",
      "NoneType: None\n",
      "[ERROR 01-07 18:33:34] ax.core.observation: Data contains metric MAE_timestamp that has not been added to the experiment. You can either update the `optimization_config` or attach it as a tracking metric using `Experiment.add_tracking_metrics` or `AxClient.add_tracking_metrics`. Ignoring all data for metric MAE_timestamp.\n",
      "NoneType: None\n",
      "[ERROR 01-07 18:33:34] ax.core.observation: Data contains metric MacroF1Activity that has not been added to the experiment. You can either update the `optimization_config` or attach it as a tracking metric using `Experiment.add_tracking_metrics` or `AxClient.add_tracking_metrics`. Ignoring all data for metric MacroF1Activity.\n",
      "NoneType: None\n",
      "[ERROR 01-07 18:33:34] ax.core.observation: Data contains metric activity_accuracy that has not been added to the experiment. You can either update the `optimization_config` or attach it as a tracking metric using `Experiment.add_tracking_metrics` or `AxClient.add_tracking_metrics`. Ignoring all data for metric activity_accuracy.\n",
      "NoneType: None\n",
      "[ERROR 01-07 18:33:34] ax.core.observation: Data contains metric resource_accuracy that has not been added to the experiment. You can either update the `optimization_config` or attach it as a tracking metric using `Experiment.add_tracking_metrics` or `AxClient.add_tracking_metrics`. Ignoring all data for metric resource_accuracy.\n",
      "NoneType: None\n",
      "[ERROR 01-07 18:33:34] ax.core.observation: Data contains metric resource_roles_accuracy that has not been added to the experiment. You can either update the `optimization_config` or attach it as a tracking metric using `Experiment.add_tracking_metrics` or `AxClient.add_tracking_metrics`. Ignoring all data for metric resource_roles_accuracy.\n",
      "NoneType: None\n",
      "[ERROR 01-07 18:33:34] ax.core.observation: Data contains metric MAE_timestamp that has not been added to the experiment. You can either update the `optimization_config` or attach it as a tracking metric using `Experiment.add_tracking_metrics` or `AxClient.add_tracking_metrics`. Ignoring all data for metric MAE_timestamp.\n",
      "NoneType: None\n",
      "[ERROR 01-07 18:33:34] ax.core.observation: Data contains metric MacroF1Activity that has not been added to the experiment. You can either update the `optimization_config` or attach it as a tracking metric using `Experiment.add_tracking_metrics` or `AxClient.add_tracking_metrics`. Ignoring all data for metric MacroF1Activity.\n",
      "NoneType: None\n",
      "[ERROR 01-07 18:33:34] ax.core.observation: Data contains metric activity_accuracy that has not been added to the experiment. You can either update the `optimization_config` or attach it as a tracking metric using `Experiment.add_tracking_metrics` or `AxClient.add_tracking_metrics`. Ignoring all data for metric activity_accuracy.\n",
      "NoneType: None\n",
      "[ERROR 01-07 18:33:34] ax.core.observation: Data contains metric resource_accuracy that has not been added to the experiment. You can either update the `optimization_config` or attach it as a tracking metric using `Experiment.add_tracking_metrics` or `AxClient.add_tracking_metrics`. Ignoring all data for metric resource_accuracy.\n",
      "NoneType: None\n",
      "[ERROR 01-07 18:33:34] ax.core.observation: Data contains metric resource_roles_accuracy that has not been added to the experiment. You can either update the `optimization_config` or attach it as a tracking metric using `Experiment.add_tracking_metrics` or `AxClient.add_tracking_metrics`. Ignoring all data for metric resource_roles_accuracy.\n",
      "NoneType: None\n",
      "[ERROR 01-07 18:33:34] ax.core.observation: Data contains metric MAE_timestamp that has not been added to the experiment. You can either update the `optimization_config` or attach it as a tracking metric using `Experiment.add_tracking_metrics` or `AxClient.add_tracking_metrics`. Ignoring all data for metric MAE_timestamp.\n",
      "NoneType: None\n",
      "[ERROR 01-07 18:33:34] ax.core.observation: Data contains metric MacroF1Activity that has not been added to the experiment. You can either update the `optimization_config` or attach it as a tracking metric using `Experiment.add_tracking_metrics` or `AxClient.add_tracking_metrics`. Ignoring all data for metric MacroF1Activity.\n",
      "NoneType: None\n",
      "[ERROR 01-07 18:33:34] ax.core.observation: Data contains metric activity_accuracy that has not been added to the experiment. You can either update the `optimization_config` or attach it as a tracking metric using `Experiment.add_tracking_metrics` or `AxClient.add_tracking_metrics`. Ignoring all data for metric activity_accuracy.\n",
      "NoneType: None\n",
      "[ERROR 01-07 18:33:34] ax.core.observation: Data contains metric resource_accuracy that has not been added to the experiment. You can either update the `optimization_config` or attach it as a tracking metric using `Experiment.add_tracking_metrics` or `AxClient.add_tracking_metrics`. Ignoring all data for metric resource_accuracy.\n",
      "NoneType: None\n",
      "[ERROR 01-07 18:33:34] ax.core.observation: Data contains metric resource_roles_accuracy that has not been added to the experiment. You can either update the `optimization_config` or attach it as a tracking metric using `Experiment.add_tracking_metrics` or `AxClient.add_tracking_metrics`. Ignoring all data for metric resource_roles_accuracy.\n",
      "NoneType: None\n",
      "[ERROR 01-07 18:33:34] ax.core.observation: Data contains metric MAE_timestamp that has not been added to the experiment. You can either update the `optimization_config` or attach it as a tracking metric using `Experiment.add_tracking_metrics` or `AxClient.add_tracking_metrics`. Ignoring all data for metric MAE_timestamp.\n",
      "NoneType: None\n",
      "[ERROR 01-07 18:33:34] ax.core.observation: Data contains metric MacroF1Activity that has not been added to the experiment. You can either update the `optimization_config` or attach it as a tracking metric using `Experiment.add_tracking_metrics` or `AxClient.add_tracking_metrics`. Ignoring all data for metric MacroF1Activity.\n",
      "NoneType: None\n",
      "[ERROR 01-07 18:33:34] ax.core.observation: Data contains metric activity_accuracy that has not been added to the experiment. You can either update the `optimization_config` or attach it as a tracking metric using `Experiment.add_tracking_metrics` or `AxClient.add_tracking_metrics`. Ignoring all data for metric activity_accuracy.\n",
      "NoneType: None\n",
      "[ERROR 01-07 18:33:34] ax.core.observation: Data contains metric resource_accuracy that has not been added to the experiment. You can either update the `optimization_config` or attach it as a tracking metric using `Experiment.add_tracking_metrics` or `AxClient.add_tracking_metrics`. Ignoring all data for metric resource_accuracy.\n",
      "NoneType: None\n",
      "[ERROR 01-07 18:33:34] ax.core.observation: Data contains metric resource_roles_accuracy that has not been added to the experiment. You can either update the `optimization_config` or attach it as a tracking metric using `Experiment.add_tracking_metrics` or `AxClient.add_tracking_metrics`. Ignoring all data for metric resource_roles_accuracy.\n",
      "NoneType: None\n",
      "[ERROR 01-07 18:33:34] ax.core.observation: Data contains metric MAE_timestamp that has not been added to the experiment. You can either update the `optimization_config` or attach it as a tracking metric using `Experiment.add_tracking_metrics` or `AxClient.add_tracking_metrics`. Ignoring all data for metric MAE_timestamp.\n",
      "NoneType: None\n",
      "[ERROR 01-07 18:33:34] ax.core.observation: Data contains metric MacroF1Activity that has not been added to the experiment. You can either update the `optimization_config` or attach it as a tracking metric using `Experiment.add_tracking_metrics` or `AxClient.add_tracking_metrics`. Ignoring all data for metric MacroF1Activity.\n",
      "NoneType: None\n",
      "[ERROR 01-07 18:33:34] ax.core.observation: Data contains metric activity_accuracy that has not been added to the experiment. You can either update the `optimization_config` or attach it as a tracking metric using `Experiment.add_tracking_metrics` or `AxClient.add_tracking_metrics`. Ignoring all data for metric activity_accuracy.\n",
      "NoneType: None\n",
      "[ERROR 01-07 18:33:34] ax.core.observation: Data contains metric resource_accuracy that has not been added to the experiment. You can either update the `optimization_config` or attach it as a tracking metric using `Experiment.add_tracking_metrics` or `AxClient.add_tracking_metrics`. Ignoring all data for metric resource_accuracy.\n",
      "NoneType: None\n",
      "[ERROR 01-07 18:33:34] ax.core.observation: Data contains metric resource_roles_accuracy that has not been added to the experiment. You can either update the `optimization_config` or attach it as a tracking metric using `Experiment.add_tracking_metrics` or `AxClient.add_tracking_metrics`. Ignoring all data for metric resource_roles_accuracy.\n",
      "NoneType: None\n",
      "[ERROR 01-07 18:33:34] ax.core.observation: Data contains metric MAE_timestamp that has not been added to the experiment. You can either update the `optimization_config` or attach it as a tracking metric using `Experiment.add_tracking_metrics` or `AxClient.add_tracking_metrics`. Ignoring all data for metric MAE_timestamp.\n",
      "NoneType: None\n",
      "[ERROR 01-07 18:33:34] ax.core.observation: Data contains metric MacroF1Activity that has not been added to the experiment. You can either update the `optimization_config` or attach it as a tracking metric using `Experiment.add_tracking_metrics` or `AxClient.add_tracking_metrics`. Ignoring all data for metric MacroF1Activity.\n",
      "NoneType: None\n",
      "[ERROR 01-07 18:33:34] ax.core.observation: Data contains metric activity_accuracy that has not been added to the experiment. You can either update the `optimization_config` or attach it as a tracking metric using `Experiment.add_tracking_metrics` or `AxClient.add_tracking_metrics`. Ignoring all data for metric activity_accuracy.\n",
      "NoneType: None\n",
      "[ERROR 01-07 18:33:34] ax.core.observation: Data contains metric resource_accuracy that has not been added to the experiment. You can either update the `optimization_config` or attach it as a tracking metric using `Experiment.add_tracking_metrics` or `AxClient.add_tracking_metrics`. Ignoring all data for metric resource_accuracy.\n",
      "NoneType: None\n",
      "[ERROR 01-07 18:33:34] ax.core.observation: Data contains metric resource_roles_accuracy that has not been added to the experiment. You can either update the `optimization_config` or attach it as a tracking metric using `Experiment.add_tracking_metrics` or `AxClient.add_tracking_metrics`. Ignoring all data for metric resource_roles_accuracy.\n",
      "NoneType: None\n",
      "[ERROR 01-07 18:33:34] ax.core.observation: Data contains metric MAE_timestamp that has not been added to the experiment. You can either update the `optimization_config` or attach it as a tracking metric using `Experiment.add_tracking_metrics` or `AxClient.add_tracking_metrics`. Ignoring all data for metric MAE_timestamp.\n",
      "NoneType: None\n",
      "[ERROR 01-07 18:33:34] ax.core.observation: Data contains metric MacroF1Activity that has not been added to the experiment. You can either update the `optimization_config` or attach it as a tracking metric using `Experiment.add_tracking_metrics` or `AxClient.add_tracking_metrics`. Ignoring all data for metric MacroF1Activity.\n",
      "NoneType: None\n",
      "[ERROR 01-07 18:33:34] ax.core.observation: Data contains metric activity_accuracy that has not been added to the experiment. You can either update the `optimization_config` or attach it as a tracking metric using `Experiment.add_tracking_metrics` or `AxClient.add_tracking_metrics`. Ignoring all data for metric activity_accuracy.\n",
      "NoneType: None\n",
      "[ERROR 01-07 18:33:34] ax.core.observation: Data contains metric resource_accuracy that has not been added to the experiment. You can either update the `optimization_config` or attach it as a tracking metric using `Experiment.add_tracking_metrics` or `AxClient.add_tracking_metrics`. Ignoring all data for metric resource_accuracy.\n",
      "NoneType: None\n",
      "[ERROR 01-07 18:33:34] ax.core.observation: Data contains metric resource_roles_accuracy that has not been added to the experiment. You can either update the `optimization_config` or attach it as a tracking metric using `Experiment.add_tracking_metrics` or `AxClient.add_tracking_metrics`. Ignoring all data for metric resource_roles_accuracy.\n",
      "NoneType: None\n",
      "[ERROR 01-07 18:33:34] ax.core.observation: Data contains metric MAE_timestamp that has not been added to the experiment. You can either update the `optimization_config` or attach it as a tracking metric using `Experiment.add_tracking_metrics` or `AxClient.add_tracking_metrics`. Ignoring all data for metric MAE_timestamp.\n",
      "NoneType: None\n",
      "[ERROR 01-07 18:33:34] ax.core.observation: Data contains metric MacroF1Activity that has not been added to the experiment. You can either update the `optimization_config` or attach it as a tracking metric using `Experiment.add_tracking_metrics` or `AxClient.add_tracking_metrics`. Ignoring all data for metric MacroF1Activity.\n",
      "NoneType: None\n",
      "[ERROR 01-07 18:33:34] ax.core.observation: Data contains metric activity_accuracy that has not been added to the experiment. You can either update the `optimization_config` or attach it as a tracking metric using `Experiment.add_tracking_metrics` or `AxClient.add_tracking_metrics`. Ignoring all data for metric activity_accuracy.\n",
      "NoneType: None\n",
      "[ERROR 01-07 18:33:34] ax.core.observation: Data contains metric resource_accuracy that has not been added to the experiment. You can either update the `optimization_config` or attach it as a tracking metric using `Experiment.add_tracking_metrics` or `AxClient.add_tracking_metrics`. Ignoring all data for metric resource_accuracy.\n",
      "NoneType: None\n",
      "[ERROR 01-07 18:33:34] ax.core.observation: Data contains metric resource_roles_accuracy that has not been added to the experiment. You can either update the `optimization_config` or attach it as a tracking metric using `Experiment.add_tracking_metrics` or `AxClient.add_tracking_metrics`. Ignoring all data for metric resource_roles_accuracy.\n",
      "NoneType: None\n",
      "[ERROR 01-07 18:33:34] ax.core.observation: Data contains metric MAE_timestamp that has not been added to the experiment. You can either update the `optimization_config` or attach it as a tracking metric using `Experiment.add_tracking_metrics` or `AxClient.add_tracking_metrics`. Ignoring all data for metric MAE_timestamp.\n",
      "NoneType: None\n",
      "[ERROR 01-07 18:33:34] ax.core.observation: Data contains metric MacroF1Activity that has not been added to the experiment. You can either update the `optimization_config` or attach it as a tracking metric using `Experiment.add_tracking_metrics` or `AxClient.add_tracking_metrics`. Ignoring all data for metric MacroF1Activity.\n",
      "NoneType: None\n",
      "[ERROR 01-07 18:33:34] ax.core.observation: Data contains metric activity_accuracy that has not been added to the experiment. You can either update the `optimization_config` or attach it as a tracking metric using `Experiment.add_tracking_metrics` or `AxClient.add_tracking_metrics`. Ignoring all data for metric activity_accuracy.\n",
      "NoneType: None\n",
      "[ERROR 01-07 18:33:34] ax.core.observation: Data contains metric resource_accuracy that has not been added to the experiment. You can either update the `optimization_config` or attach it as a tracking metric using `Experiment.add_tracking_metrics` or `AxClient.add_tracking_metrics`. Ignoring all data for metric resource_accuracy.\n",
      "NoneType: None\n",
      "[ERROR 01-07 18:33:34] ax.core.observation: Data contains metric resource_roles_accuracy that has not been added to the experiment. You can either update the `optimization_config` or attach it as a tracking metric using `Experiment.add_tracking_metrics` or `AxClient.add_tracking_metrics`. Ignoring all data for metric resource_roles_accuracy.\n",
      "NoneType: None\n",
      "[ERROR 01-07 18:33:34] ax.core.observation: Data contains metric MAE_timestamp that has not been added to the experiment. You can either update the `optimization_config` or attach it as a tracking metric using `Experiment.add_tracking_metrics` or `AxClient.add_tracking_metrics`. Ignoring all data for metric MAE_timestamp.\n",
      "NoneType: None\n",
      "[ERROR 01-07 18:33:34] ax.core.observation: Data contains metric MacroF1Activity that has not been added to the experiment. You can either update the `optimization_config` or attach it as a tracking metric using `Experiment.add_tracking_metrics` or `AxClient.add_tracking_metrics`. Ignoring all data for metric MacroF1Activity.\n",
      "NoneType: None\n",
      "[ERROR 01-07 18:33:34] ax.core.observation: Data contains metric activity_accuracy that has not been added to the experiment. You can either update the `optimization_config` or attach it as a tracking metric using `Experiment.add_tracking_metrics` or `AxClient.add_tracking_metrics`. Ignoring all data for metric activity_accuracy.\n",
      "NoneType: None\n",
      "[ERROR 01-07 18:33:34] ax.core.observation: Data contains metric resource_accuracy that has not been added to the experiment. You can either update the `optimization_config` or attach it as a tracking metric using `Experiment.add_tracking_metrics` or `AxClient.add_tracking_metrics`. Ignoring all data for metric resource_accuracy.\n",
      "NoneType: None\n",
      "[ERROR 01-07 18:33:34] ax.core.observation: Data contains metric resource_roles_accuracy that has not been added to the experiment. You can either update the `optimization_config` or attach it as a tracking metric using `Experiment.add_tracking_metrics` or `AxClient.add_tracking_metrics`. Ignoring all data for metric resource_roles_accuracy.\n",
      "NoneType: None\n"
     ]
    },
    {
     "name": "stdout",
     "output_type": "stream",
     "text": [
      "{'lr': 0.0032157923234198897, 'batch_size': 1024, 'heads': 4, 'hid': 128, 'layers': 2, 'aggregation': 'max'}\n",
      "Epoch: 0\n",
      "\n"
     ]
    },
    {
     "name": "stderr",
     "output_type": "stream",
     "text": [
      "WARNING:root:Warning: Some classes do not exist in the target. F1 scores for these classes will be cast to zeros.\n"
     ]
    },
    {
     "name": "stdout",
     "output_type": "stream",
     "text": [
      "\n",
      "VALIDATION\n",
      "ACTIVITY: acc 0.2256 MacroF1 0.0918\n",
      "TIMESTAMP: MAE 1.1623\n",
      "RESOURCE: acc 0.2648\n",
      "RESOURCE_ROLE: acc 0.5107\n",
      "TOTAL_LOSS: 7.4226\n",
      "epoch time 12.243631601333618s\n",
      "\n",
      "Epoch: 1\n",
      "\n"
     ]
    },
    {
     "name": "stderr",
     "output_type": "stream",
     "text": [
      "WARNING:root:Warning: Some classes do not exist in the target. F1 scores for these classes will be cast to zeros.\n"
     ]
    },
    {
     "name": "stdout",
     "output_type": "stream",
     "text": [
      "\n",
      "VALIDATION\n",
      "ACTIVITY: acc 0.5655 MacroF1 0.3656\n",
      "TIMESTAMP: MAE 0.3493\n",
      "RESOURCE: acc 0.3033\n",
      "RESOURCE_ROLE: acc 0.7416\n",
      "TOTAL_LOSS: 5.3400\n",
      "epoch time 11.966930627822876s\n",
      "\n",
      "new best model found\n",
      "Epoch: 2\n",
      "\n"
     ]
    },
    {
     "name": "stderr",
     "output_type": "stream",
     "text": [
      "WARNING:root:Warning: Some classes do not exist in the target. F1 scores for these classes will be cast to zeros.\n"
     ]
    },
    {
     "name": "stdout",
     "output_type": "stream",
     "text": [
      "\n",
      "VALIDATION\n",
      "ACTIVITY: acc 0.6135 MacroF1 0.4901\n",
      "TIMESTAMP: MAE 0.3854\n",
      "RESOURCE: acc 0.3073\n",
      "RESOURCE_ROLE: acc 0.7848\n",
      "TOTAL_LOSS: 4.7426\n",
      "epoch time 11.951527833938599s\n",
      "\n",
      "new best model found\n",
      "Epoch: 3\n",
      "\n"
     ]
    },
    {
     "name": "stderr",
     "output_type": "stream",
     "text": [
      "WARNING:root:Warning: Some classes do not exist in the target. F1 scores for these classes will be cast to zeros.\n"
     ]
    },
    {
     "name": "stdout",
     "output_type": "stream",
     "text": [
      "\n",
      "VALIDATION\n",
      "ACTIVITY: acc 0.6483 MacroF1 0.5936\n",
      "TIMESTAMP: MAE 0.2483\n",
      "RESOURCE: acc 0.3096\n",
      "RESOURCE_ROLE: acc 0.7848\n",
      "TOTAL_LOSS: 4.2945\n",
      "epoch time 12.008999347686768s\n",
      "\n",
      "new best model found\n",
      "Epoch: 4\n",
      "\n"
     ]
    },
    {
     "name": "stderr",
     "output_type": "stream",
     "text": [
      "WARNING:root:Warning: Some classes do not exist in the target. F1 scores for these classes will be cast to zeros.\n"
     ]
    },
    {
     "name": "stdout",
     "output_type": "stream",
     "text": [
      "\n",
      "VALIDATION\n",
      "ACTIVITY: acc 0.6554 MacroF1 0.6103\n",
      "TIMESTAMP: MAE 0.2871\n",
      "RESOURCE: acc 0.3426\n",
      "RESOURCE_ROLE: acc 0.7848\n",
      "TOTAL_LOSS: 4.2045\n",
      "epoch time 14.520376682281494s\n",
      "\n",
      "new best model found\n",
      "Epoch: 5\n",
      "\n"
     ]
    },
    {
     "name": "stderr",
     "output_type": "stream",
     "text": [
      "WARNING:root:Warning: Some classes do not exist in the target. F1 scores for these classes will be cast to zeros.\n"
     ]
    },
    {
     "name": "stdout",
     "output_type": "stream",
     "text": [
      "\n",
      "VALIDATION\n",
      "ACTIVITY: acc 0.5886 MacroF1 0.5542\n",
      "TIMESTAMP: MAE 0.1372\n",
      "RESOURCE: acc 0.3846\n",
      "RESOURCE_ROLE: acc 0.7850\n",
      "TOTAL_LOSS: 3.9911\n",
      "epoch time 12.39784836769104s\n",
      "\n",
      "new best model found\n",
      "Epoch: 6\n",
      "\n"
     ]
    },
    {
     "name": "stderr",
     "output_type": "stream",
     "text": [
      "WARNING:root:Warning: Some classes do not exist in the target. F1 scores for these classes will be cast to zeros.\n"
     ]
    },
    {
     "name": "stdout",
     "output_type": "stream",
     "text": [
      "\n",
      "VALIDATION\n",
      "ACTIVITY: acc 0.6550 MacroF1 0.6104\n",
      "TIMESTAMP: MAE 0.1328\n",
      "RESOURCE: acc 0.3983\n",
      "RESOURCE_ROLE: acc 0.7850\n",
      "TOTAL_LOSS: 3.8938\n",
      "epoch time 12.11772894859314s\n",
      "\n",
      "new best model found\n",
      "Epoch: 7\n",
      "\n"
     ]
    },
    {
     "name": "stderr",
     "output_type": "stream",
     "text": [
      "WARNING:root:Warning: Some classes do not exist in the target. F1 scores for these classes will be cast to zeros.\n"
     ]
    },
    {
     "name": "stdout",
     "output_type": "stream",
     "text": [
      "\n",
      "VALIDATION\n",
      "ACTIVITY: acc 0.6546 MacroF1 0.6086\n",
      "TIMESTAMP: MAE 0.1433\n",
      "RESOURCE: acc 0.3968\n",
      "RESOURCE_ROLE: acc 0.7862\n",
      "TOTAL_LOSS: 3.8932\n",
      "epoch time 12.2064688205719s\n",
      "\n",
      "new best model found\n",
      "Epoch: 8\n",
      "\n"
     ]
    },
    {
     "name": "stderr",
     "output_type": "stream",
     "text": [
      "WARNING:root:Warning: Some classes do not exist in the target. F1 scores for these classes will be cast to zeros.\n"
     ]
    },
    {
     "name": "stdout",
     "output_type": "stream",
     "text": [
      "\n",
      "VALIDATION\n",
      "ACTIVITY: acc 0.6472 MacroF1 0.5890\n",
      "TIMESTAMP: MAE 0.0900\n",
      "RESOURCE: acc 0.4078\n",
      "RESOURCE_ROLE: acc 0.7862\n",
      "TOTAL_LOSS: 3.8085\n",
      "epoch time 12.001011848449707s\n",
      "\n",
      "new best model found\n",
      "Epoch: 9\n",
      "\n"
     ]
    },
    {
     "name": "stderr",
     "output_type": "stream",
     "text": [
      "WARNING:root:Warning: Some classes do not exist in the target. F1 scores for these classes will be cast to zeros.\n"
     ]
    },
    {
     "name": "stdout",
     "output_type": "stream",
     "text": [
      "\n",
      "VALIDATION\n",
      "ACTIVITY: acc 0.5977 MacroF1 0.5761\n",
      "TIMESTAMP: MAE 0.0750\n",
      "RESOURCE: acc 0.4203\n",
      "RESOURCE_ROLE: acc 0.7848\n",
      "TOTAL_LOSS: 3.7452\n",
      "epoch time 12.068624258041382s\n",
      "\n",
      "new best model found\n",
      "Epoch: 10\n",
      "\n"
     ]
    },
    {
     "name": "stderr",
     "output_type": "stream",
     "text": [
      "WARNING:root:Warning: Some classes do not exist in the target. F1 scores for these classes will be cast to zeros.\n"
     ]
    },
    {
     "name": "stdout",
     "output_type": "stream",
     "text": [
      "\n",
      "VALIDATION\n",
      "ACTIVITY: acc 0.6595 MacroF1 0.6202\n",
      "TIMESTAMP: MAE 0.0578\n",
      "RESOURCE: acc 0.4466\n",
      "RESOURCE_ROLE: acc 0.7848\n",
      "TOTAL_LOSS: 3.6743\n",
      "epoch time 12.073176860809326s\n",
      "\n",
      "new best model found\n",
      "Epoch: 11\n",
      "\n"
     ]
    },
    {
     "name": "stderr",
     "output_type": "stream",
     "text": [
      "WARNING:root:Warning: Some classes do not exist in the target. F1 scores for these classes will be cast to zeros.\n"
     ]
    },
    {
     "name": "stdout",
     "output_type": "stream",
     "text": [
      "\n",
      "VALIDATION\n",
      "ACTIVITY: acc 0.6540 MacroF1 0.6074\n",
      "TIMESTAMP: MAE 0.2947\n",
      "RESOURCE: acc 0.4728\n",
      "RESOURCE_ROLE: acc 0.7848\n",
      "TOTAL_LOSS: 3.8810\n",
      "epoch time 11.954683542251587s\n",
      "\n",
      "Epoch: 12\n",
      "\n"
     ]
    },
    {
     "name": "stderr",
     "output_type": "stream",
     "text": [
      "WARNING:root:Warning: Some classes do not exist in the target. F1 scores for these classes will be cast to zeros.\n"
     ]
    },
    {
     "name": "stdout",
     "output_type": "stream",
     "text": [
      "\n",
      "VALIDATION\n",
      "ACTIVITY: acc 0.6544 MacroF1 0.6155\n",
      "TIMESTAMP: MAE 0.1198\n",
      "RESOURCE: acc 0.4842\n",
      "RESOURCE_ROLE: acc 0.7862\n",
      "TOTAL_LOSS: 3.6713\n",
      "epoch time 11.953364610671997s\n",
      "\n",
      "new best model found\n",
      "Epoch: 13\n",
      "\n"
     ]
    },
    {
     "name": "stderr",
     "output_type": "stream",
     "text": [
      "WARNING:root:Warning: Some classes do not exist in the target. F1 scores for these classes will be cast to zeros.\n"
     ]
    },
    {
     "name": "stdout",
     "output_type": "stream",
     "text": [
      "\n",
      "VALIDATION\n",
      "ACTIVITY: acc 0.6078 MacroF1 0.5976\n",
      "TIMESTAMP: MAE 0.1059\n",
      "RESOURCE: acc 0.4965\n",
      "RESOURCE_ROLE: acc 0.7862\n",
      "TOTAL_LOSS: 3.6197\n",
      "epoch time 11.95226240158081s\n",
      "\n",
      "new best model found\n",
      "Epoch: 14\n",
      "\n"
     ]
    },
    {
     "name": "stderr",
     "output_type": "stream",
     "text": [
      "WARNING:root:Warning: Some classes do not exist in the target. F1 scores for these classes will be cast to zeros.\n"
     ]
    },
    {
     "name": "stdout",
     "output_type": "stream",
     "text": [
      "\n",
      "VALIDATION\n",
      "ACTIVITY: acc 0.5941 MacroF1 0.5685\n",
      "TIMESTAMP: MAE 0.2555\n",
      "RESOURCE: acc 0.5137\n",
      "RESOURCE_ROLE: acc 0.7862\n",
      "TOTAL_LOSS: 3.7129\n",
      "epoch time 13.892632961273193s\n",
      "\n",
      "Epoch: 15\n",
      "\n"
     ]
    },
    {
     "name": "stderr",
     "output_type": "stream",
     "text": [
      "WARNING:root:Warning: Some classes do not exist in the target. F1 scores for these classes will be cast to zeros.\n"
     ]
    },
    {
     "name": "stdout",
     "output_type": "stream",
     "text": [
      "\n",
      "VALIDATION\n",
      "ACTIVITY: acc 0.6692 MacroF1 0.6447\n",
      "TIMESTAMP: MAE 0.1237\n",
      "RESOURCE: acc 0.5183\n",
      "RESOURCE_ROLE: acc 0.7860\n",
      "TOTAL_LOSS: 3.5391\n",
      "epoch time 12.058335542678833s\n",
      "\n",
      "new best model found\n",
      "Epoch: 16\n",
      "\n"
     ]
    },
    {
     "name": "stderr",
     "output_type": "stream",
     "text": [
      "WARNING:root:Warning: Some classes do not exist in the target. F1 scores for these classes will be cast to zeros.\n"
     ]
    },
    {
     "name": "stdout",
     "output_type": "stream",
     "text": [
      "\n",
      "VALIDATION\n",
      "ACTIVITY: acc 0.6584 MacroF1 0.6169\n",
      "TIMESTAMP: MAE 0.0821\n",
      "RESOURCE: acc 0.5204\n",
      "RESOURCE_ROLE: acc 0.7860\n",
      "TOTAL_LOSS: 3.4484\n",
      "epoch time 11.912780046463013s\n",
      "\n",
      "new best model found\n",
      "Epoch: 17\n",
      "\n"
     ]
    },
    {
     "name": "stderr",
     "output_type": "stream",
     "text": [
      "WARNING:root:Warning: Some classes do not exist in the target. F1 scores for these classes will be cast to zeros.\n"
     ]
    },
    {
     "name": "stdout",
     "output_type": "stream",
     "text": [
      "\n",
      "VALIDATION\n",
      "ACTIVITY: acc 0.6679 MacroF1 0.6511\n",
      "TIMESTAMP: MAE 0.1775\n",
      "RESOURCE: acc 0.5230\n",
      "RESOURCE_ROLE: acc 0.7860\n",
      "TOTAL_LOSS: 3.5625\n",
      "epoch time 11.918160676956177s\n",
      "\n",
      "Epoch: 18\n",
      "\n"
     ]
    },
    {
     "name": "stderr",
     "output_type": "stream",
     "text": [
      "WARNING:root:Warning: Some classes do not exist in the target. F1 scores for these classes will be cast to zeros.\n"
     ]
    },
    {
     "name": "stdout",
     "output_type": "stream",
     "text": [
      "\n",
      "VALIDATION\n",
      "ACTIVITY: acc 0.6726 MacroF1 0.6373\n",
      "TIMESTAMP: MAE 0.1013\n",
      "RESOURCE: acc 0.5200\n",
      "RESOURCE_ROLE: acc 0.7860\n",
      "TOTAL_LOSS: 3.4368\n",
      "epoch time 12.134050130844116s\n",
      "\n",
      "new best model found\n",
      "Epoch: 19\n",
      "\n"
     ]
    },
    {
     "name": "stderr",
     "output_type": "stream",
     "text": [
      "WARNING:root:Warning: Some classes do not exist in the target. F1 scores for these classes will be cast to zeros.\n"
     ]
    },
    {
     "name": "stdout",
     "output_type": "stream",
     "text": [
      "\n",
      "VALIDATION\n",
      "ACTIVITY: acc 0.6743 MacroF1 0.6460\n",
      "TIMESTAMP: MAE 0.2405\n",
      "RESOURCE: acc 0.5255\n",
      "RESOURCE_ROLE: acc 0.7860\n",
      "TOTAL_LOSS: 3.5708\n",
      "epoch time 12.016095876693726s\n",
      "\n"
     ]
    },
    {
     "name": "stderr",
     "output_type": "stream",
     "text": [
      "WARNING:root:Warning: Some classes do not exist in the target. F1 scores for these classes will be cast to zeros.\n",
      "[INFO 01-07 18:37:52] ax.core.experiment: Attached data has some metrics ({'activity_accuracy', 'MAE_timestamp', 'resource_roles_accuracy', 'MacroF1Activity', 'resource_accuracy'}) that are not among the metrics on this experiment. Note that attaching data will not automatically add those metrics to the experiment. For these metrics to be automatically fetched by `experiment.fetch_data`, add them via `experiment.add_tracking_metric` or update the experiment's optimization config.\n",
      "[INFO 01-07 18:37:52] ax.service.managed_loop: Running optimization trial 17...\n",
      "[ERROR 01-07 18:37:52] ax.core.observation: Data contains metric MAE_timestamp that has not been added to the experiment. You can either update the `optimization_config` or attach it as a tracking metric using `Experiment.add_tracking_metrics` or `AxClient.add_tracking_metrics`. Ignoring all data for metric MAE_timestamp.\n",
      "NoneType: None\n",
      "[ERROR 01-07 18:37:52] ax.core.observation: Data contains metric MacroF1Activity that has not been added to the experiment. You can either update the `optimization_config` or attach it as a tracking metric using `Experiment.add_tracking_metrics` or `AxClient.add_tracking_metrics`. Ignoring all data for metric MacroF1Activity.\n",
      "NoneType: None\n",
      "[ERROR 01-07 18:37:52] ax.core.observation: Data contains metric activity_accuracy that has not been added to the experiment. You can either update the `optimization_config` or attach it as a tracking metric using `Experiment.add_tracking_metrics` or `AxClient.add_tracking_metrics`. Ignoring all data for metric activity_accuracy.\n",
      "NoneType: None\n",
      "[ERROR 01-07 18:37:52] ax.core.observation: Data contains metric resource_accuracy that has not been added to the experiment. You can either update the `optimization_config` or attach it as a tracking metric using `Experiment.add_tracking_metrics` or `AxClient.add_tracking_metrics`. Ignoring all data for metric resource_accuracy.\n",
      "NoneType: None\n",
      "[ERROR 01-07 18:37:52] ax.core.observation: Data contains metric resource_roles_accuracy that has not been added to the experiment. You can either update the `optimization_config` or attach it as a tracking metric using `Experiment.add_tracking_metrics` or `AxClient.add_tracking_metrics`. Ignoring all data for metric resource_roles_accuracy.\n",
      "NoneType: None\n",
      "[ERROR 01-07 18:37:52] ax.core.observation: Data contains metric MAE_timestamp that has not been added to the experiment. You can either update the `optimization_config` or attach it as a tracking metric using `Experiment.add_tracking_metrics` or `AxClient.add_tracking_metrics`. Ignoring all data for metric MAE_timestamp.\n",
      "NoneType: None\n",
      "[ERROR 01-07 18:37:52] ax.core.observation: Data contains metric MacroF1Activity that has not been added to the experiment. You can either update the `optimization_config` or attach it as a tracking metric using `Experiment.add_tracking_metrics` or `AxClient.add_tracking_metrics`. Ignoring all data for metric MacroF1Activity.\n",
      "NoneType: None\n",
      "[ERROR 01-07 18:37:52] ax.core.observation: Data contains metric activity_accuracy that has not been added to the experiment. You can either update the `optimization_config` or attach it as a tracking metric using `Experiment.add_tracking_metrics` or `AxClient.add_tracking_metrics`. Ignoring all data for metric activity_accuracy.\n",
      "NoneType: None\n",
      "[ERROR 01-07 18:37:52] ax.core.observation: Data contains metric resource_accuracy that has not been added to the experiment. You can either update the `optimization_config` or attach it as a tracking metric using `Experiment.add_tracking_metrics` or `AxClient.add_tracking_metrics`. Ignoring all data for metric resource_accuracy.\n",
      "NoneType: None\n",
      "[ERROR 01-07 18:37:52] ax.core.observation: Data contains metric resource_roles_accuracy that has not been added to the experiment. You can either update the `optimization_config` or attach it as a tracking metric using `Experiment.add_tracking_metrics` or `AxClient.add_tracking_metrics`. Ignoring all data for metric resource_roles_accuracy.\n",
      "NoneType: None\n",
      "[ERROR 01-07 18:37:52] ax.core.observation: Data contains metric MAE_timestamp that has not been added to the experiment. You can either update the `optimization_config` or attach it as a tracking metric using `Experiment.add_tracking_metrics` or `AxClient.add_tracking_metrics`. Ignoring all data for metric MAE_timestamp.\n",
      "NoneType: None\n",
      "[ERROR 01-07 18:37:52] ax.core.observation: Data contains metric MacroF1Activity that has not been added to the experiment. You can either update the `optimization_config` or attach it as a tracking metric using `Experiment.add_tracking_metrics` or `AxClient.add_tracking_metrics`. Ignoring all data for metric MacroF1Activity.\n",
      "NoneType: None\n",
      "[ERROR 01-07 18:37:52] ax.core.observation: Data contains metric activity_accuracy that has not been added to the experiment. You can either update the `optimization_config` or attach it as a tracking metric using `Experiment.add_tracking_metrics` or `AxClient.add_tracking_metrics`. Ignoring all data for metric activity_accuracy.\n",
      "NoneType: None\n",
      "[ERROR 01-07 18:37:52] ax.core.observation: Data contains metric resource_accuracy that has not been added to the experiment. You can either update the `optimization_config` or attach it as a tracking metric using `Experiment.add_tracking_metrics` or `AxClient.add_tracking_metrics`. Ignoring all data for metric resource_accuracy.\n",
      "NoneType: None\n",
      "[ERROR 01-07 18:37:52] ax.core.observation: Data contains metric resource_roles_accuracy that has not been added to the experiment. You can either update the `optimization_config` or attach it as a tracking metric using `Experiment.add_tracking_metrics` or `AxClient.add_tracking_metrics`. Ignoring all data for metric resource_roles_accuracy.\n",
      "NoneType: None\n",
      "[ERROR 01-07 18:37:52] ax.core.observation: Data contains metric MAE_timestamp that has not been added to the experiment. You can either update the `optimization_config` or attach it as a tracking metric using `Experiment.add_tracking_metrics` or `AxClient.add_tracking_metrics`. Ignoring all data for metric MAE_timestamp.\n",
      "NoneType: None\n",
      "[ERROR 01-07 18:37:52] ax.core.observation: Data contains metric MacroF1Activity that has not been added to the experiment. You can either update the `optimization_config` or attach it as a tracking metric using `Experiment.add_tracking_metrics` or `AxClient.add_tracking_metrics`. Ignoring all data for metric MacroF1Activity.\n",
      "NoneType: None\n",
      "[ERROR 01-07 18:37:52] ax.core.observation: Data contains metric activity_accuracy that has not been added to the experiment. You can either update the `optimization_config` or attach it as a tracking metric using `Experiment.add_tracking_metrics` or `AxClient.add_tracking_metrics`. Ignoring all data for metric activity_accuracy.\n",
      "NoneType: None\n",
      "[ERROR 01-07 18:37:52] ax.core.observation: Data contains metric resource_accuracy that has not been added to the experiment. You can either update the `optimization_config` or attach it as a tracking metric using `Experiment.add_tracking_metrics` or `AxClient.add_tracking_metrics`. Ignoring all data for metric resource_accuracy.\n",
      "NoneType: None\n",
      "[ERROR 01-07 18:37:52] ax.core.observation: Data contains metric resource_roles_accuracy that has not been added to the experiment. You can either update the `optimization_config` or attach it as a tracking metric using `Experiment.add_tracking_metrics` or `AxClient.add_tracking_metrics`. Ignoring all data for metric resource_roles_accuracy.\n",
      "NoneType: None\n",
      "[ERROR 01-07 18:37:52] ax.core.observation: Data contains metric MAE_timestamp that has not been added to the experiment. You can either update the `optimization_config` or attach it as a tracking metric using `Experiment.add_tracking_metrics` or `AxClient.add_tracking_metrics`. Ignoring all data for metric MAE_timestamp.\n",
      "NoneType: None\n",
      "[ERROR 01-07 18:37:52] ax.core.observation: Data contains metric MacroF1Activity that has not been added to the experiment. You can either update the `optimization_config` or attach it as a tracking metric using `Experiment.add_tracking_metrics` or `AxClient.add_tracking_metrics`. Ignoring all data for metric MacroF1Activity.\n",
      "NoneType: None\n",
      "[ERROR 01-07 18:37:52] ax.core.observation: Data contains metric activity_accuracy that has not been added to the experiment. You can either update the `optimization_config` or attach it as a tracking metric using `Experiment.add_tracking_metrics` or `AxClient.add_tracking_metrics`. Ignoring all data for metric activity_accuracy.\n",
      "NoneType: None\n",
      "[ERROR 01-07 18:37:52] ax.core.observation: Data contains metric resource_accuracy that has not been added to the experiment. You can either update the `optimization_config` or attach it as a tracking metric using `Experiment.add_tracking_metrics` or `AxClient.add_tracking_metrics`. Ignoring all data for metric resource_accuracy.\n",
      "NoneType: None\n",
      "[ERROR 01-07 18:37:52] ax.core.observation: Data contains metric resource_roles_accuracy that has not been added to the experiment. You can either update the `optimization_config` or attach it as a tracking metric using `Experiment.add_tracking_metrics` or `AxClient.add_tracking_metrics`. Ignoring all data for metric resource_roles_accuracy.\n",
      "NoneType: None\n",
      "[ERROR 01-07 18:37:52] ax.core.observation: Data contains metric MAE_timestamp that has not been added to the experiment. You can either update the `optimization_config` or attach it as a tracking metric using `Experiment.add_tracking_metrics` or `AxClient.add_tracking_metrics`. Ignoring all data for metric MAE_timestamp.\n",
      "NoneType: None\n",
      "[ERROR 01-07 18:37:52] ax.core.observation: Data contains metric MacroF1Activity that has not been added to the experiment. You can either update the `optimization_config` or attach it as a tracking metric using `Experiment.add_tracking_metrics` or `AxClient.add_tracking_metrics`. Ignoring all data for metric MacroF1Activity.\n",
      "NoneType: None\n",
      "[ERROR 01-07 18:37:52] ax.core.observation: Data contains metric activity_accuracy that has not been added to the experiment. You can either update the `optimization_config` or attach it as a tracking metric using `Experiment.add_tracking_metrics` or `AxClient.add_tracking_metrics`. Ignoring all data for metric activity_accuracy.\n",
      "NoneType: None\n",
      "[ERROR 01-07 18:37:52] ax.core.observation: Data contains metric resource_accuracy that has not been added to the experiment. You can either update the `optimization_config` or attach it as a tracking metric using `Experiment.add_tracking_metrics` or `AxClient.add_tracking_metrics`. Ignoring all data for metric resource_accuracy.\n",
      "NoneType: None\n",
      "[ERROR 01-07 18:37:52] ax.core.observation: Data contains metric resource_roles_accuracy that has not been added to the experiment. You can either update the `optimization_config` or attach it as a tracking metric using `Experiment.add_tracking_metrics` or `AxClient.add_tracking_metrics`. Ignoring all data for metric resource_roles_accuracy.\n",
      "NoneType: None\n",
      "[ERROR 01-07 18:37:52] ax.core.observation: Data contains metric MAE_timestamp that has not been added to the experiment. You can either update the `optimization_config` or attach it as a tracking metric using `Experiment.add_tracking_metrics` or `AxClient.add_tracking_metrics`. Ignoring all data for metric MAE_timestamp.\n",
      "NoneType: None\n",
      "[ERROR 01-07 18:37:52] ax.core.observation: Data contains metric MacroF1Activity that has not been added to the experiment. You can either update the `optimization_config` or attach it as a tracking metric using `Experiment.add_tracking_metrics` or `AxClient.add_tracking_metrics`. Ignoring all data for metric MacroF1Activity.\n",
      "NoneType: None\n",
      "[ERROR 01-07 18:37:52] ax.core.observation: Data contains metric activity_accuracy that has not been added to the experiment. You can either update the `optimization_config` or attach it as a tracking metric using `Experiment.add_tracking_metrics` or `AxClient.add_tracking_metrics`. Ignoring all data for metric activity_accuracy.\n",
      "NoneType: None\n",
      "[ERROR 01-07 18:37:52] ax.core.observation: Data contains metric resource_accuracy that has not been added to the experiment. You can either update the `optimization_config` or attach it as a tracking metric using `Experiment.add_tracking_metrics` or `AxClient.add_tracking_metrics`. Ignoring all data for metric resource_accuracy.\n",
      "NoneType: None\n",
      "[ERROR 01-07 18:37:52] ax.core.observation: Data contains metric resource_roles_accuracy that has not been added to the experiment. You can either update the `optimization_config` or attach it as a tracking metric using `Experiment.add_tracking_metrics` or `AxClient.add_tracking_metrics`. Ignoring all data for metric resource_roles_accuracy.\n",
      "NoneType: None\n",
      "[ERROR 01-07 18:37:52] ax.core.observation: Data contains metric MAE_timestamp that has not been added to the experiment. You can either update the `optimization_config` or attach it as a tracking metric using `Experiment.add_tracking_metrics` or `AxClient.add_tracking_metrics`. Ignoring all data for metric MAE_timestamp.\n",
      "NoneType: None\n",
      "[ERROR 01-07 18:37:52] ax.core.observation: Data contains metric MacroF1Activity that has not been added to the experiment. You can either update the `optimization_config` or attach it as a tracking metric using `Experiment.add_tracking_metrics` or `AxClient.add_tracking_metrics`. Ignoring all data for metric MacroF1Activity.\n",
      "NoneType: None\n",
      "[ERROR 01-07 18:37:52] ax.core.observation: Data contains metric activity_accuracy that has not been added to the experiment. You can either update the `optimization_config` or attach it as a tracking metric using `Experiment.add_tracking_metrics` or `AxClient.add_tracking_metrics`. Ignoring all data for metric activity_accuracy.\n",
      "NoneType: None\n",
      "[ERROR 01-07 18:37:52] ax.core.observation: Data contains metric resource_accuracy that has not been added to the experiment. You can either update the `optimization_config` or attach it as a tracking metric using `Experiment.add_tracking_metrics` or `AxClient.add_tracking_metrics`. Ignoring all data for metric resource_accuracy.\n",
      "NoneType: None\n",
      "[ERROR 01-07 18:37:52] ax.core.observation: Data contains metric resource_roles_accuracy that has not been added to the experiment. You can either update the `optimization_config` or attach it as a tracking metric using `Experiment.add_tracking_metrics` or `AxClient.add_tracking_metrics`. Ignoring all data for metric resource_roles_accuracy.\n",
      "NoneType: None\n",
      "[ERROR 01-07 18:37:52] ax.core.observation: Data contains metric MAE_timestamp that has not been added to the experiment. You can either update the `optimization_config` or attach it as a tracking metric using `Experiment.add_tracking_metrics` or `AxClient.add_tracking_metrics`. Ignoring all data for metric MAE_timestamp.\n",
      "NoneType: None\n",
      "[ERROR 01-07 18:37:52] ax.core.observation: Data contains metric MacroF1Activity that has not been added to the experiment. You can either update the `optimization_config` or attach it as a tracking metric using `Experiment.add_tracking_metrics` or `AxClient.add_tracking_metrics`. Ignoring all data for metric MacroF1Activity.\n",
      "NoneType: None\n",
      "[ERROR 01-07 18:37:52] ax.core.observation: Data contains metric activity_accuracy that has not been added to the experiment. You can either update the `optimization_config` or attach it as a tracking metric using `Experiment.add_tracking_metrics` or `AxClient.add_tracking_metrics`. Ignoring all data for metric activity_accuracy.\n",
      "NoneType: None\n",
      "[ERROR 01-07 18:37:52] ax.core.observation: Data contains metric resource_accuracy that has not been added to the experiment. You can either update the `optimization_config` or attach it as a tracking metric using `Experiment.add_tracking_metrics` or `AxClient.add_tracking_metrics`. Ignoring all data for metric resource_accuracy.\n",
      "NoneType: None\n",
      "[ERROR 01-07 18:37:52] ax.core.observation: Data contains metric resource_roles_accuracy that has not been added to the experiment. You can either update the `optimization_config` or attach it as a tracking metric using `Experiment.add_tracking_metrics` or `AxClient.add_tracking_metrics`. Ignoring all data for metric resource_roles_accuracy.\n",
      "NoneType: None\n",
      "[ERROR 01-07 18:37:52] ax.core.observation: Data contains metric MAE_timestamp that has not been added to the experiment. You can either update the `optimization_config` or attach it as a tracking metric using `Experiment.add_tracking_metrics` or `AxClient.add_tracking_metrics`. Ignoring all data for metric MAE_timestamp.\n",
      "NoneType: None\n",
      "[ERROR 01-07 18:37:52] ax.core.observation: Data contains metric MacroF1Activity that has not been added to the experiment. You can either update the `optimization_config` or attach it as a tracking metric using `Experiment.add_tracking_metrics` or `AxClient.add_tracking_metrics`. Ignoring all data for metric MacroF1Activity.\n",
      "NoneType: None\n",
      "[ERROR 01-07 18:37:52] ax.core.observation: Data contains metric activity_accuracy that has not been added to the experiment. You can either update the `optimization_config` or attach it as a tracking metric using `Experiment.add_tracking_metrics` or `AxClient.add_tracking_metrics`. Ignoring all data for metric activity_accuracy.\n",
      "NoneType: None\n",
      "[ERROR 01-07 18:37:52] ax.core.observation: Data contains metric resource_accuracy that has not been added to the experiment. You can either update the `optimization_config` or attach it as a tracking metric using `Experiment.add_tracking_metrics` or `AxClient.add_tracking_metrics`. Ignoring all data for metric resource_accuracy.\n",
      "NoneType: None\n",
      "[ERROR 01-07 18:37:52] ax.core.observation: Data contains metric resource_roles_accuracy that has not been added to the experiment. You can either update the `optimization_config` or attach it as a tracking metric using `Experiment.add_tracking_metrics` or `AxClient.add_tracking_metrics`. Ignoring all data for metric resource_roles_accuracy.\n",
      "NoneType: None\n",
      "[ERROR 01-07 18:37:52] ax.core.observation: Data contains metric MAE_timestamp that has not been added to the experiment. You can either update the `optimization_config` or attach it as a tracking metric using `Experiment.add_tracking_metrics` or `AxClient.add_tracking_metrics`. Ignoring all data for metric MAE_timestamp.\n",
      "NoneType: None\n",
      "[ERROR 01-07 18:37:52] ax.core.observation: Data contains metric MacroF1Activity that has not been added to the experiment. You can either update the `optimization_config` or attach it as a tracking metric using `Experiment.add_tracking_metrics` or `AxClient.add_tracking_metrics`. Ignoring all data for metric MacroF1Activity.\n",
      "NoneType: None\n",
      "[ERROR 01-07 18:37:52] ax.core.observation: Data contains metric activity_accuracy that has not been added to the experiment. You can either update the `optimization_config` or attach it as a tracking metric using `Experiment.add_tracking_metrics` or `AxClient.add_tracking_metrics`. Ignoring all data for metric activity_accuracy.\n",
      "NoneType: None\n",
      "[ERROR 01-07 18:37:52] ax.core.observation: Data contains metric resource_accuracy that has not been added to the experiment. You can either update the `optimization_config` or attach it as a tracking metric using `Experiment.add_tracking_metrics` or `AxClient.add_tracking_metrics`. Ignoring all data for metric resource_accuracy.\n",
      "NoneType: None\n",
      "[ERROR 01-07 18:37:52] ax.core.observation: Data contains metric resource_roles_accuracy that has not been added to the experiment. You can either update the `optimization_config` or attach it as a tracking metric using `Experiment.add_tracking_metrics` or `AxClient.add_tracking_metrics`. Ignoring all data for metric resource_roles_accuracy.\n",
      "NoneType: None\n",
      "[ERROR 01-07 18:37:52] ax.core.observation: Data contains metric MAE_timestamp that has not been added to the experiment. You can either update the `optimization_config` or attach it as a tracking metric using `Experiment.add_tracking_metrics` or `AxClient.add_tracking_metrics`. Ignoring all data for metric MAE_timestamp.\n",
      "NoneType: None\n",
      "[ERROR 01-07 18:37:52] ax.core.observation: Data contains metric MacroF1Activity that has not been added to the experiment. You can either update the `optimization_config` or attach it as a tracking metric using `Experiment.add_tracking_metrics` or `AxClient.add_tracking_metrics`. Ignoring all data for metric MacroF1Activity.\n",
      "NoneType: None\n",
      "[ERROR 01-07 18:37:52] ax.core.observation: Data contains metric activity_accuracy that has not been added to the experiment. You can either update the `optimization_config` or attach it as a tracking metric using `Experiment.add_tracking_metrics` or `AxClient.add_tracking_metrics`. Ignoring all data for metric activity_accuracy.\n",
      "NoneType: None\n",
      "[ERROR 01-07 18:37:52] ax.core.observation: Data contains metric resource_accuracy that has not been added to the experiment. You can either update the `optimization_config` or attach it as a tracking metric using `Experiment.add_tracking_metrics` or `AxClient.add_tracking_metrics`. Ignoring all data for metric resource_accuracy.\n",
      "NoneType: None\n",
      "[ERROR 01-07 18:37:52] ax.core.observation: Data contains metric resource_roles_accuracy that has not been added to the experiment. You can either update the `optimization_config` or attach it as a tracking metric using `Experiment.add_tracking_metrics` or `AxClient.add_tracking_metrics`. Ignoring all data for metric resource_roles_accuracy.\n",
      "NoneType: None\n",
      "[ERROR 01-07 18:37:52] ax.core.observation: Data contains metric MAE_timestamp that has not been added to the experiment. You can either update the `optimization_config` or attach it as a tracking metric using `Experiment.add_tracking_metrics` or `AxClient.add_tracking_metrics`. Ignoring all data for metric MAE_timestamp.\n",
      "NoneType: None\n",
      "[ERROR 01-07 18:37:52] ax.core.observation: Data contains metric MacroF1Activity that has not been added to the experiment. You can either update the `optimization_config` or attach it as a tracking metric using `Experiment.add_tracking_metrics` or `AxClient.add_tracking_metrics`. Ignoring all data for metric MacroF1Activity.\n",
      "NoneType: None\n",
      "[ERROR 01-07 18:37:52] ax.core.observation: Data contains metric activity_accuracy that has not been added to the experiment. You can either update the `optimization_config` or attach it as a tracking metric using `Experiment.add_tracking_metrics` or `AxClient.add_tracking_metrics`. Ignoring all data for metric activity_accuracy.\n",
      "NoneType: None\n",
      "[ERROR 01-07 18:37:52] ax.core.observation: Data contains metric resource_accuracy that has not been added to the experiment. You can either update the `optimization_config` or attach it as a tracking metric using `Experiment.add_tracking_metrics` or `AxClient.add_tracking_metrics`. Ignoring all data for metric resource_accuracy.\n",
      "NoneType: None\n",
      "[ERROR 01-07 18:37:52] ax.core.observation: Data contains metric resource_roles_accuracy that has not been added to the experiment. You can either update the `optimization_config` or attach it as a tracking metric using `Experiment.add_tracking_metrics` or `AxClient.add_tracking_metrics`. Ignoring all data for metric resource_roles_accuracy.\n",
      "NoneType: None\n",
      "[ERROR 01-07 18:37:52] ax.core.observation: Data contains metric MAE_timestamp that has not been added to the experiment. You can either update the `optimization_config` or attach it as a tracking metric using `Experiment.add_tracking_metrics` or `AxClient.add_tracking_metrics`. Ignoring all data for metric MAE_timestamp.\n",
      "NoneType: None\n",
      "[ERROR 01-07 18:37:52] ax.core.observation: Data contains metric MacroF1Activity that has not been added to the experiment. You can either update the `optimization_config` or attach it as a tracking metric using `Experiment.add_tracking_metrics` or `AxClient.add_tracking_metrics`. Ignoring all data for metric MacroF1Activity.\n",
      "NoneType: None\n",
      "[ERROR 01-07 18:37:52] ax.core.observation: Data contains metric activity_accuracy that has not been added to the experiment. You can either update the `optimization_config` or attach it as a tracking metric using `Experiment.add_tracking_metrics` or `AxClient.add_tracking_metrics`. Ignoring all data for metric activity_accuracy.\n",
      "NoneType: None\n",
      "[ERROR 01-07 18:37:52] ax.core.observation: Data contains metric resource_accuracy that has not been added to the experiment. You can either update the `optimization_config` or attach it as a tracking metric using `Experiment.add_tracking_metrics` or `AxClient.add_tracking_metrics`. Ignoring all data for metric resource_accuracy.\n",
      "NoneType: None\n",
      "[ERROR 01-07 18:37:52] ax.core.observation: Data contains metric resource_roles_accuracy that has not been added to the experiment. You can either update the `optimization_config` or attach it as a tracking metric using `Experiment.add_tracking_metrics` or `AxClient.add_tracking_metrics`. Ignoring all data for metric resource_roles_accuracy.\n",
      "NoneType: None\n",
      "[ERROR 01-07 18:37:52] ax.core.observation: Data contains metric MAE_timestamp that has not been added to the experiment. You can either update the `optimization_config` or attach it as a tracking metric using `Experiment.add_tracking_metrics` or `AxClient.add_tracking_metrics`. Ignoring all data for metric MAE_timestamp.\n",
      "NoneType: None\n",
      "[ERROR 01-07 18:37:52] ax.core.observation: Data contains metric MacroF1Activity that has not been added to the experiment. You can either update the `optimization_config` or attach it as a tracking metric using `Experiment.add_tracking_metrics` or `AxClient.add_tracking_metrics`. Ignoring all data for metric MacroF1Activity.\n",
      "NoneType: None\n",
      "[ERROR 01-07 18:37:52] ax.core.observation: Data contains metric activity_accuracy that has not been added to the experiment. You can either update the `optimization_config` or attach it as a tracking metric using `Experiment.add_tracking_metrics` or `AxClient.add_tracking_metrics`. Ignoring all data for metric activity_accuracy.\n",
      "NoneType: None\n",
      "[ERROR 01-07 18:37:52] ax.core.observation: Data contains metric resource_accuracy that has not been added to the experiment. You can either update the `optimization_config` or attach it as a tracking metric using `Experiment.add_tracking_metrics` or `AxClient.add_tracking_metrics`. Ignoring all data for metric resource_accuracy.\n",
      "NoneType: None\n",
      "[ERROR 01-07 18:37:52] ax.core.observation: Data contains metric resource_roles_accuracy that has not been added to the experiment. You can either update the `optimization_config` or attach it as a tracking metric using `Experiment.add_tracking_metrics` or `AxClient.add_tracking_metrics`. Ignoring all data for metric resource_roles_accuracy.\n",
      "NoneType: None\n",
      "[ERROR 01-07 18:37:52] ax.core.observation: Data contains metric MAE_timestamp that has not been added to the experiment. You can either update the `optimization_config` or attach it as a tracking metric using `Experiment.add_tracking_metrics` or `AxClient.add_tracking_metrics`. Ignoring all data for metric MAE_timestamp.\n",
      "NoneType: None\n",
      "[ERROR 01-07 18:37:52] ax.core.observation: Data contains metric MacroF1Activity that has not been added to the experiment. You can either update the `optimization_config` or attach it as a tracking metric using `Experiment.add_tracking_metrics` or `AxClient.add_tracking_metrics`. Ignoring all data for metric MacroF1Activity.\n",
      "NoneType: None\n",
      "[ERROR 01-07 18:37:52] ax.core.observation: Data contains metric activity_accuracy that has not been added to the experiment. You can either update the `optimization_config` or attach it as a tracking metric using `Experiment.add_tracking_metrics` or `AxClient.add_tracking_metrics`. Ignoring all data for metric activity_accuracy.\n",
      "NoneType: None\n",
      "[ERROR 01-07 18:37:52] ax.core.observation: Data contains metric resource_accuracy that has not been added to the experiment. You can either update the `optimization_config` or attach it as a tracking metric using `Experiment.add_tracking_metrics` or `AxClient.add_tracking_metrics`. Ignoring all data for metric resource_accuracy.\n",
      "NoneType: None\n",
      "[ERROR 01-07 18:37:52] ax.core.observation: Data contains metric resource_roles_accuracy that has not been added to the experiment. You can either update the `optimization_config` or attach it as a tracking metric using `Experiment.add_tracking_metrics` or `AxClient.add_tracking_metrics`. Ignoring all data for metric resource_roles_accuracy.\n",
      "NoneType: None\n",
      "/home/sebdis/ProcessMining/HGNN/hgnn_env/lib/python3.10/site-packages/linear_operator/utils/cholesky.py:40: NumericalWarning: A not p.d., added jitter of 1.0e-08 to the diagonal\n",
      "  warnings.warn(\n"
     ]
    },
    {
     "name": "stdout",
     "output_type": "stream",
     "text": [
      "{'lr': 0.1, 'batch_size': 256, 'heads': 4, 'hid': 128, 'layers': 2, 'aggregation': 'max'}\n",
      "Epoch: 0\n",
      "\n"
     ]
    },
    {
     "name": "stderr",
     "output_type": "stream",
     "text": [
      "WARNING:root:Warning: Some classes do not exist in the target. F1 scores for these classes will be cast to zeros.\n"
     ]
    },
    {
     "name": "stdout",
     "output_type": "stream",
     "text": [
      "\n",
      "VALIDATION\n",
      "ACTIVITY: acc 0.6478 MacroF1 0.5893\n",
      "TIMESTAMP: MAE 0.5520\n",
      "RESOURCE: acc 0.3915\n",
      "RESOURCE_ROLE: acc 0.7329\n",
      "TOTAL_LOSS: 4.5025\n",
      "epoch time 16.767908096313477s\n",
      "\n",
      "Epoch: 1\n",
      "\n"
     ]
    },
    {
     "name": "stderr",
     "output_type": "stream",
     "text": [
      "WARNING:root:Warning: Some classes do not exist in the target. F1 scores for these classes will be cast to zeros.\n"
     ]
    },
    {
     "name": "stdout",
     "output_type": "stream",
     "text": [
      "\n",
      "VALIDATION\n",
      "ACTIVITY: acc 0.5867 MacroF1 0.5277\n",
      "TIMESTAMP: MAE 0.7836\n",
      "RESOURCE: acc 0.4068\n",
      "RESOURCE_ROLE: acc 0.7850\n",
      "TOTAL_LOSS: 4.5803\n",
      "epoch time 16.32424831390381s\n",
      "\n",
      "Epoch: 2\n",
      "\n"
     ]
    },
    {
     "name": "stderr",
     "output_type": "stream",
     "text": [
      "WARNING:root:Warning: Some classes do not exist in the target. F1 scores for these classes will be cast to zeros.\n"
     ]
    },
    {
     "name": "stdout",
     "output_type": "stream",
     "text": [
      "\n",
      "VALIDATION\n",
      "ACTIVITY: acc 0.6593 MacroF1 0.6196\n",
      "TIMESTAMP: MAE 0.1444\n",
      "RESOURCE: acc 0.4334\n",
      "RESOURCE_ROLE: acc 0.7826\n",
      "TOTAL_LOSS: 3.8529\n",
      "epoch time 16.32700538635254s\n",
      "\n",
      "new best model found\n",
      "Epoch: 3\n",
      "\n"
     ]
    },
    {
     "name": "stderr",
     "output_type": "stream",
     "text": [
      "WARNING:root:Warning: Some classes do not exist in the target. F1 scores for these classes will be cast to zeros.\n"
     ]
    },
    {
     "name": "stdout",
     "output_type": "stream",
     "text": [
      "\n",
      "VALIDATION\n",
      "ACTIVITY: acc 0.6590 MacroF1 0.6193\n",
      "TIMESTAMP: MAE 1.0893\n",
      "RESOURCE: acc 0.4394\n",
      "RESOURCE_ROLE: acc 0.7790\n",
      "TOTAL_LOSS: 4.6408\n",
      "epoch time 16.28286600112915s\n",
      "\n",
      "Epoch: 4\n",
      "\n"
     ]
    },
    {
     "name": "stderr",
     "output_type": "stream",
     "text": [
      "WARNING:root:Warning: Some classes do not exist in the target. F1 scores for these classes will be cast to zeros.\n"
     ]
    },
    {
     "name": "stdout",
     "output_type": "stream",
     "text": [
      "\n",
      "VALIDATION\n",
      "ACTIVITY: acc 0.6347 MacroF1 0.5352\n",
      "TIMESTAMP: MAE 0.5191\n",
      "RESOURCE: acc 0.4626\n",
      "RESOURCE_ROLE: acc 0.7862\n",
      "TOTAL_LOSS: 4.0614\n",
      "epoch time 16.328747510910034s\n",
      "\n",
      "Epoch: 5\n",
      "\n"
     ]
    },
    {
     "name": "stderr",
     "output_type": "stream",
     "text": [
      "WARNING:root:Warning: Some classes do not exist in the target. F1 scores for these classes will be cast to zeros.\n"
     ]
    },
    {
     "name": "stdout",
     "output_type": "stream",
     "text": [
      "\n",
      "VALIDATION\n",
      "ACTIVITY: acc 0.6442 MacroF1 0.5863\n",
      "TIMESTAMP: MAE 0.3696\n",
      "RESOURCE: acc 0.4667\n",
      "RESOURCE_ROLE: acc 0.7862\n",
      "TOTAL_LOSS: 3.8533\n",
      "epoch time 16.309898853302002s\n",
      "\n",
      "Epoch: 6\n",
      "\n"
     ]
    },
    {
     "name": "stderr",
     "output_type": "stream",
     "text": [
      "WARNING:root:Warning: Some classes do not exist in the target. F1 scores for these classes will be cast to zeros.\n"
     ]
    },
    {
     "name": "stdout",
     "output_type": "stream",
     "text": [
      "\n",
      "VALIDATION\n",
      "ACTIVITY: acc 0.6601 MacroF1 0.6214\n",
      "TIMESTAMP: MAE 1.0588\n",
      "RESOURCE: acc 0.4616\n",
      "RESOURCE_ROLE: acc 0.7818\n",
      "TOTAL_LOSS: 4.5423\n",
      "epoch time 16.41070818901062s\n",
      "\n",
      "Epoch: 7\n",
      "\n"
     ]
    },
    {
     "name": "stderr",
     "output_type": "stream",
     "text": [
      "WARNING:root:Warning: Some classes do not exist in the target. F1 scores for these classes will be cast to zeros.\n"
     ]
    },
    {
     "name": "stdout",
     "output_type": "stream",
     "text": [
      "\n",
      "VALIDATION\n",
      "ACTIVITY: acc 0.6070 MacroF1 0.5956\n",
      "TIMESTAMP: MAE 0.2301\n",
      "RESOURCE: acc 0.4804\n",
      "RESOURCE_ROLE: acc 0.7771\n",
      "TOTAL_LOSS: 3.6251\n",
      "epoch time 16.11195945739746s\n",
      "\n",
      "new best model found\n",
      "Epoch: 8\n",
      "\n"
     ]
    },
    {
     "name": "stderr",
     "output_type": "stream",
     "text": [
      "WARNING:root:Warning: Some classes do not exist in the target. F1 scores for these classes will be cast to zeros.\n"
     ]
    },
    {
     "name": "stdout",
     "output_type": "stream",
     "text": [
      "\n",
      "VALIDATION\n",
      "ACTIVITY: acc 0.6021 MacroF1 0.5841\n",
      "TIMESTAMP: MAE 1.7325\n",
      "RESOURCE: acc 0.4919\n",
      "RESOURCE_ROLE: acc 0.7854\n",
      "TOTAL_LOSS: 5.1500\n",
      "epoch time 16.335586309432983s\n",
      "\n",
      "Epoch: 9\n",
      "\n"
     ]
    },
    {
     "name": "stderr",
     "output_type": "stream",
     "text": [
      "WARNING:root:Warning: Some classes do not exist in the target. F1 scores for these classes will be cast to zeros.\n"
     ]
    },
    {
     "name": "stdout",
     "output_type": "stream",
     "text": [
      "\n",
      "VALIDATION\n",
      "ACTIVITY: acc 0.6449 MacroF1 0.6137\n",
      "TIMESTAMP: MAE 0.5476\n",
      "RESOURCE: acc 0.4995\n",
      "RESOURCE_ROLE: acc 0.7831\n",
      "TOTAL_LOSS: 4.0048\n",
      "epoch time 16.201229095458984s\n",
      "\n",
      "Epoch: 10\n",
      "\n"
     ]
    },
    {
     "name": "stderr",
     "output_type": "stream",
     "text": [
      "WARNING:root:Warning: Some classes do not exist in the target. F1 scores for these classes will be cast to zeros.\n"
     ]
    },
    {
     "name": "stdout",
     "output_type": "stream",
     "text": [
      "\n",
      "VALIDATION\n",
      "ACTIVITY: acc 0.6519 MacroF1 0.5976\n",
      "TIMESTAMP: MAE 0.2554\n",
      "RESOURCE: acc 0.4817\n",
      "RESOURCE_ROLE: acc 0.7835\n",
      "TOTAL_LOSS: 3.6460\n",
      "epoch time 16.015339136123657s\n",
      "\n",
      "Epoch: 11\n",
      "\n"
     ]
    },
    {
     "name": "stderr",
     "output_type": "stream",
     "text": [
      "WARNING:root:Warning: Some classes do not exist in the target. F1 scores for these classes will be cast to zeros.\n"
     ]
    },
    {
     "name": "stdout",
     "output_type": "stream",
     "text": [
      "\n",
      "VALIDATION\n",
      "ACTIVITY: acc 0.6442 MacroF1 0.5778\n",
      "TIMESTAMP: MAE 0.2779\n",
      "RESOURCE: acc 0.4800\n",
      "RESOURCE_ROLE: acc 0.7517\n",
      "TOTAL_LOSS: 3.7367\n",
      "epoch time 14.756660223007202s\n",
      "\n",
      "Epoch: 12\n",
      "\n"
     ]
    },
    {
     "name": "stderr",
     "output_type": "stream",
     "text": [
      "WARNING:root:Warning: Some classes do not exist in the target. F1 scores for these classes will be cast to zeros.\n"
     ]
    },
    {
     "name": "stdout",
     "output_type": "stream",
     "text": [
      "\n",
      "VALIDATION\n",
      "ACTIVITY: acc 0.6474 MacroF1 0.5882\n",
      "TIMESTAMP: MAE 0.4742\n",
      "RESOURCE: acc 0.5005\n",
      "RESOURCE_ROLE: acc 0.7839\n",
      "TOTAL_LOSS: 3.8711\n",
      "epoch time 14.625102758407593s\n",
      "\n",
      "Validation performance didn't improve for 5 epochs. Training stops.\n"
     ]
    },
    {
     "name": "stderr",
     "output_type": "stream",
     "text": [
      "WARNING:root:Warning: Some classes do not exist in the target. F1 scores for these classes will be cast to zeros.\n",
      "[INFO 01-07 18:41:33] ax.core.experiment: Attached data has some metrics ({'activity_accuracy', 'MAE_timestamp', 'resource_roles_accuracy', 'MacroF1Activity', 'resource_accuracy'}) that are not among the metrics on this experiment. Note that attaching data will not automatically add those metrics to the experiment. For these metrics to be automatically fetched by `experiment.fetch_data`, add them via `experiment.add_tracking_metric` or update the experiment's optimization config.\n",
      "[INFO 01-07 18:41:33] ax.service.managed_loop: Running optimization trial 18...\n",
      "[ERROR 01-07 18:41:33] ax.core.observation: Data contains metric MAE_timestamp that has not been added to the experiment. You can either update the `optimization_config` or attach it as a tracking metric using `Experiment.add_tracking_metrics` or `AxClient.add_tracking_metrics`. Ignoring all data for metric MAE_timestamp.\n",
      "NoneType: None\n",
      "[ERROR 01-07 18:41:33] ax.core.observation: Data contains metric MacroF1Activity that has not been added to the experiment. You can either update the `optimization_config` or attach it as a tracking metric using `Experiment.add_tracking_metrics` or `AxClient.add_tracking_metrics`. Ignoring all data for metric MacroF1Activity.\n",
      "NoneType: None\n",
      "[ERROR 01-07 18:41:33] ax.core.observation: Data contains metric activity_accuracy that has not been added to the experiment. You can either update the `optimization_config` or attach it as a tracking metric using `Experiment.add_tracking_metrics` or `AxClient.add_tracking_metrics`. Ignoring all data for metric activity_accuracy.\n",
      "NoneType: None\n",
      "[ERROR 01-07 18:41:33] ax.core.observation: Data contains metric resource_accuracy that has not been added to the experiment. You can either update the `optimization_config` or attach it as a tracking metric using `Experiment.add_tracking_metrics` or `AxClient.add_tracking_metrics`. Ignoring all data for metric resource_accuracy.\n",
      "NoneType: None\n",
      "[ERROR 01-07 18:41:33] ax.core.observation: Data contains metric resource_roles_accuracy that has not been added to the experiment. You can either update the `optimization_config` or attach it as a tracking metric using `Experiment.add_tracking_metrics` or `AxClient.add_tracking_metrics`. Ignoring all data for metric resource_roles_accuracy.\n",
      "NoneType: None\n",
      "[ERROR 01-07 18:41:33] ax.core.observation: Data contains metric MAE_timestamp that has not been added to the experiment. You can either update the `optimization_config` or attach it as a tracking metric using `Experiment.add_tracking_metrics` or `AxClient.add_tracking_metrics`. Ignoring all data for metric MAE_timestamp.\n",
      "NoneType: None\n",
      "[ERROR 01-07 18:41:33] ax.core.observation: Data contains metric MacroF1Activity that has not been added to the experiment. You can either update the `optimization_config` or attach it as a tracking metric using `Experiment.add_tracking_metrics` or `AxClient.add_tracking_metrics`. Ignoring all data for metric MacroF1Activity.\n",
      "NoneType: None\n",
      "[ERROR 01-07 18:41:33] ax.core.observation: Data contains metric activity_accuracy that has not been added to the experiment. You can either update the `optimization_config` or attach it as a tracking metric using `Experiment.add_tracking_metrics` or `AxClient.add_tracking_metrics`. Ignoring all data for metric activity_accuracy.\n",
      "NoneType: None\n",
      "[ERROR 01-07 18:41:33] ax.core.observation: Data contains metric resource_accuracy that has not been added to the experiment. You can either update the `optimization_config` or attach it as a tracking metric using `Experiment.add_tracking_metrics` or `AxClient.add_tracking_metrics`. Ignoring all data for metric resource_accuracy.\n",
      "NoneType: None\n",
      "[ERROR 01-07 18:41:33] ax.core.observation: Data contains metric resource_roles_accuracy that has not been added to the experiment. You can either update the `optimization_config` or attach it as a tracking metric using `Experiment.add_tracking_metrics` or `AxClient.add_tracking_metrics`. Ignoring all data for metric resource_roles_accuracy.\n",
      "NoneType: None\n",
      "[ERROR 01-07 18:41:33] ax.core.observation: Data contains metric MAE_timestamp that has not been added to the experiment. You can either update the `optimization_config` or attach it as a tracking metric using `Experiment.add_tracking_metrics` or `AxClient.add_tracking_metrics`. Ignoring all data for metric MAE_timestamp.\n",
      "NoneType: None\n",
      "[ERROR 01-07 18:41:33] ax.core.observation: Data contains metric MacroF1Activity that has not been added to the experiment. You can either update the `optimization_config` or attach it as a tracking metric using `Experiment.add_tracking_metrics` or `AxClient.add_tracking_metrics`. Ignoring all data for metric MacroF1Activity.\n",
      "NoneType: None\n",
      "[ERROR 01-07 18:41:33] ax.core.observation: Data contains metric activity_accuracy that has not been added to the experiment. You can either update the `optimization_config` or attach it as a tracking metric using `Experiment.add_tracking_metrics` or `AxClient.add_tracking_metrics`. Ignoring all data for metric activity_accuracy.\n",
      "NoneType: None\n",
      "[ERROR 01-07 18:41:33] ax.core.observation: Data contains metric resource_accuracy that has not been added to the experiment. You can either update the `optimization_config` or attach it as a tracking metric using `Experiment.add_tracking_metrics` or `AxClient.add_tracking_metrics`. Ignoring all data for metric resource_accuracy.\n",
      "NoneType: None\n",
      "[ERROR 01-07 18:41:33] ax.core.observation: Data contains metric resource_roles_accuracy that has not been added to the experiment. You can either update the `optimization_config` or attach it as a tracking metric using `Experiment.add_tracking_metrics` or `AxClient.add_tracking_metrics`. Ignoring all data for metric resource_roles_accuracy.\n",
      "NoneType: None\n",
      "[ERROR 01-07 18:41:33] ax.core.observation: Data contains metric MAE_timestamp that has not been added to the experiment. You can either update the `optimization_config` or attach it as a tracking metric using `Experiment.add_tracking_metrics` or `AxClient.add_tracking_metrics`. Ignoring all data for metric MAE_timestamp.\n",
      "NoneType: None\n",
      "[ERROR 01-07 18:41:33] ax.core.observation: Data contains metric MacroF1Activity that has not been added to the experiment. You can either update the `optimization_config` or attach it as a tracking metric using `Experiment.add_tracking_metrics` or `AxClient.add_tracking_metrics`. Ignoring all data for metric MacroF1Activity.\n",
      "NoneType: None\n",
      "[ERROR 01-07 18:41:33] ax.core.observation: Data contains metric activity_accuracy that has not been added to the experiment. You can either update the `optimization_config` or attach it as a tracking metric using `Experiment.add_tracking_metrics` or `AxClient.add_tracking_metrics`. Ignoring all data for metric activity_accuracy.\n",
      "NoneType: None\n",
      "[ERROR 01-07 18:41:33] ax.core.observation: Data contains metric resource_accuracy that has not been added to the experiment. You can either update the `optimization_config` or attach it as a tracking metric using `Experiment.add_tracking_metrics` or `AxClient.add_tracking_metrics`. Ignoring all data for metric resource_accuracy.\n",
      "NoneType: None\n",
      "[ERROR 01-07 18:41:33] ax.core.observation: Data contains metric resource_roles_accuracy that has not been added to the experiment. You can either update the `optimization_config` or attach it as a tracking metric using `Experiment.add_tracking_metrics` or `AxClient.add_tracking_metrics`. Ignoring all data for metric resource_roles_accuracy.\n",
      "NoneType: None\n",
      "[ERROR 01-07 18:41:33] ax.core.observation: Data contains metric MAE_timestamp that has not been added to the experiment. You can either update the `optimization_config` or attach it as a tracking metric using `Experiment.add_tracking_metrics` or `AxClient.add_tracking_metrics`. Ignoring all data for metric MAE_timestamp.\n",
      "NoneType: None\n",
      "[ERROR 01-07 18:41:33] ax.core.observation: Data contains metric MacroF1Activity that has not been added to the experiment. You can either update the `optimization_config` or attach it as a tracking metric using `Experiment.add_tracking_metrics` or `AxClient.add_tracking_metrics`. Ignoring all data for metric MacroF1Activity.\n",
      "NoneType: None\n",
      "[ERROR 01-07 18:41:33] ax.core.observation: Data contains metric activity_accuracy that has not been added to the experiment. You can either update the `optimization_config` or attach it as a tracking metric using `Experiment.add_tracking_metrics` or `AxClient.add_tracking_metrics`. Ignoring all data for metric activity_accuracy.\n",
      "NoneType: None\n",
      "[ERROR 01-07 18:41:33] ax.core.observation: Data contains metric resource_accuracy that has not been added to the experiment. You can either update the `optimization_config` or attach it as a tracking metric using `Experiment.add_tracking_metrics` or `AxClient.add_tracking_metrics`. Ignoring all data for metric resource_accuracy.\n",
      "NoneType: None\n",
      "[ERROR 01-07 18:41:33] ax.core.observation: Data contains metric resource_roles_accuracy that has not been added to the experiment. You can either update the `optimization_config` or attach it as a tracking metric using `Experiment.add_tracking_metrics` or `AxClient.add_tracking_metrics`. Ignoring all data for metric resource_roles_accuracy.\n",
      "NoneType: None\n",
      "[ERROR 01-07 18:41:33] ax.core.observation: Data contains metric MAE_timestamp that has not been added to the experiment. You can either update the `optimization_config` or attach it as a tracking metric using `Experiment.add_tracking_metrics` or `AxClient.add_tracking_metrics`. Ignoring all data for metric MAE_timestamp.\n",
      "NoneType: None\n",
      "[ERROR 01-07 18:41:33] ax.core.observation: Data contains metric MacroF1Activity that has not been added to the experiment. You can either update the `optimization_config` or attach it as a tracking metric using `Experiment.add_tracking_metrics` or `AxClient.add_tracking_metrics`. Ignoring all data for metric MacroF1Activity.\n",
      "NoneType: None\n",
      "[ERROR 01-07 18:41:33] ax.core.observation: Data contains metric activity_accuracy that has not been added to the experiment. You can either update the `optimization_config` or attach it as a tracking metric using `Experiment.add_tracking_metrics` or `AxClient.add_tracking_metrics`. Ignoring all data for metric activity_accuracy.\n",
      "NoneType: None\n",
      "[ERROR 01-07 18:41:33] ax.core.observation: Data contains metric resource_accuracy that has not been added to the experiment. You can either update the `optimization_config` or attach it as a tracking metric using `Experiment.add_tracking_metrics` or `AxClient.add_tracking_metrics`. Ignoring all data for metric resource_accuracy.\n",
      "NoneType: None\n",
      "[ERROR 01-07 18:41:33] ax.core.observation: Data contains metric resource_roles_accuracy that has not been added to the experiment. You can either update the `optimization_config` or attach it as a tracking metric using `Experiment.add_tracking_metrics` or `AxClient.add_tracking_metrics`. Ignoring all data for metric resource_roles_accuracy.\n",
      "NoneType: None\n",
      "[ERROR 01-07 18:41:33] ax.core.observation: Data contains metric MAE_timestamp that has not been added to the experiment. You can either update the `optimization_config` or attach it as a tracking metric using `Experiment.add_tracking_metrics` or `AxClient.add_tracking_metrics`. Ignoring all data for metric MAE_timestamp.\n",
      "NoneType: None\n",
      "[ERROR 01-07 18:41:33] ax.core.observation: Data contains metric MacroF1Activity that has not been added to the experiment. You can either update the `optimization_config` or attach it as a tracking metric using `Experiment.add_tracking_metrics` or `AxClient.add_tracking_metrics`. Ignoring all data for metric MacroF1Activity.\n",
      "NoneType: None\n",
      "[ERROR 01-07 18:41:33] ax.core.observation: Data contains metric activity_accuracy that has not been added to the experiment. You can either update the `optimization_config` or attach it as a tracking metric using `Experiment.add_tracking_metrics` or `AxClient.add_tracking_metrics`. Ignoring all data for metric activity_accuracy.\n",
      "NoneType: None\n",
      "[ERROR 01-07 18:41:33] ax.core.observation: Data contains metric resource_accuracy that has not been added to the experiment. You can either update the `optimization_config` or attach it as a tracking metric using `Experiment.add_tracking_metrics` or `AxClient.add_tracking_metrics`. Ignoring all data for metric resource_accuracy.\n",
      "NoneType: None\n",
      "[ERROR 01-07 18:41:33] ax.core.observation: Data contains metric resource_roles_accuracy that has not been added to the experiment. You can either update the `optimization_config` or attach it as a tracking metric using `Experiment.add_tracking_metrics` or `AxClient.add_tracking_metrics`. Ignoring all data for metric resource_roles_accuracy.\n",
      "NoneType: None\n",
      "[ERROR 01-07 18:41:33] ax.core.observation: Data contains metric MAE_timestamp that has not been added to the experiment. You can either update the `optimization_config` or attach it as a tracking metric using `Experiment.add_tracking_metrics` or `AxClient.add_tracking_metrics`. Ignoring all data for metric MAE_timestamp.\n",
      "NoneType: None\n",
      "[ERROR 01-07 18:41:33] ax.core.observation: Data contains metric MacroF1Activity that has not been added to the experiment. You can either update the `optimization_config` or attach it as a tracking metric using `Experiment.add_tracking_metrics` or `AxClient.add_tracking_metrics`. Ignoring all data for metric MacroF1Activity.\n",
      "NoneType: None\n",
      "[ERROR 01-07 18:41:33] ax.core.observation: Data contains metric activity_accuracy that has not been added to the experiment. You can either update the `optimization_config` or attach it as a tracking metric using `Experiment.add_tracking_metrics` or `AxClient.add_tracking_metrics`. Ignoring all data for metric activity_accuracy.\n",
      "NoneType: None\n",
      "[ERROR 01-07 18:41:33] ax.core.observation: Data contains metric resource_accuracy that has not been added to the experiment. You can either update the `optimization_config` or attach it as a tracking metric using `Experiment.add_tracking_metrics` or `AxClient.add_tracking_metrics`. Ignoring all data for metric resource_accuracy.\n",
      "NoneType: None\n",
      "[ERROR 01-07 18:41:33] ax.core.observation: Data contains metric resource_roles_accuracy that has not been added to the experiment. You can either update the `optimization_config` or attach it as a tracking metric using `Experiment.add_tracking_metrics` or `AxClient.add_tracking_metrics`. Ignoring all data for metric resource_roles_accuracy.\n",
      "NoneType: None\n",
      "[ERROR 01-07 18:41:33] ax.core.observation: Data contains metric MAE_timestamp that has not been added to the experiment. You can either update the `optimization_config` or attach it as a tracking metric using `Experiment.add_tracking_metrics` or `AxClient.add_tracking_metrics`. Ignoring all data for metric MAE_timestamp.\n",
      "NoneType: None\n",
      "[ERROR 01-07 18:41:33] ax.core.observation: Data contains metric MacroF1Activity that has not been added to the experiment. You can either update the `optimization_config` or attach it as a tracking metric using `Experiment.add_tracking_metrics` or `AxClient.add_tracking_metrics`. Ignoring all data for metric MacroF1Activity.\n",
      "NoneType: None\n",
      "[ERROR 01-07 18:41:33] ax.core.observation: Data contains metric activity_accuracy that has not been added to the experiment. You can either update the `optimization_config` or attach it as a tracking metric using `Experiment.add_tracking_metrics` or `AxClient.add_tracking_metrics`. Ignoring all data for metric activity_accuracy.\n",
      "NoneType: None\n",
      "[ERROR 01-07 18:41:33] ax.core.observation: Data contains metric resource_accuracy that has not been added to the experiment. You can either update the `optimization_config` or attach it as a tracking metric using `Experiment.add_tracking_metrics` or `AxClient.add_tracking_metrics`. Ignoring all data for metric resource_accuracy.\n",
      "NoneType: None\n",
      "[ERROR 01-07 18:41:33] ax.core.observation: Data contains metric resource_roles_accuracy that has not been added to the experiment. You can either update the `optimization_config` or attach it as a tracking metric using `Experiment.add_tracking_metrics` or `AxClient.add_tracking_metrics`. Ignoring all data for metric resource_roles_accuracy.\n",
      "NoneType: None\n",
      "[ERROR 01-07 18:41:33] ax.core.observation: Data contains metric MAE_timestamp that has not been added to the experiment. You can either update the `optimization_config` or attach it as a tracking metric using `Experiment.add_tracking_metrics` or `AxClient.add_tracking_metrics`. Ignoring all data for metric MAE_timestamp.\n",
      "NoneType: None\n",
      "[ERROR 01-07 18:41:33] ax.core.observation: Data contains metric MacroF1Activity that has not been added to the experiment. You can either update the `optimization_config` or attach it as a tracking metric using `Experiment.add_tracking_metrics` or `AxClient.add_tracking_metrics`. Ignoring all data for metric MacroF1Activity.\n",
      "NoneType: None\n",
      "[ERROR 01-07 18:41:33] ax.core.observation: Data contains metric activity_accuracy that has not been added to the experiment. You can either update the `optimization_config` or attach it as a tracking metric using `Experiment.add_tracking_metrics` or `AxClient.add_tracking_metrics`. Ignoring all data for metric activity_accuracy.\n",
      "NoneType: None\n",
      "[ERROR 01-07 18:41:33] ax.core.observation: Data contains metric resource_accuracy that has not been added to the experiment. You can either update the `optimization_config` or attach it as a tracking metric using `Experiment.add_tracking_metrics` or `AxClient.add_tracking_metrics`. Ignoring all data for metric resource_accuracy.\n",
      "NoneType: None\n",
      "[ERROR 01-07 18:41:33] ax.core.observation: Data contains metric resource_roles_accuracy that has not been added to the experiment. You can either update the `optimization_config` or attach it as a tracking metric using `Experiment.add_tracking_metrics` or `AxClient.add_tracking_metrics`. Ignoring all data for metric resource_roles_accuracy.\n",
      "NoneType: None\n",
      "[ERROR 01-07 18:41:33] ax.core.observation: Data contains metric MAE_timestamp that has not been added to the experiment. You can either update the `optimization_config` or attach it as a tracking metric using `Experiment.add_tracking_metrics` or `AxClient.add_tracking_metrics`. Ignoring all data for metric MAE_timestamp.\n",
      "NoneType: None\n",
      "[ERROR 01-07 18:41:33] ax.core.observation: Data contains metric MacroF1Activity that has not been added to the experiment. You can either update the `optimization_config` or attach it as a tracking metric using `Experiment.add_tracking_metrics` or `AxClient.add_tracking_metrics`. Ignoring all data for metric MacroF1Activity.\n",
      "NoneType: None\n",
      "[ERROR 01-07 18:41:33] ax.core.observation: Data contains metric activity_accuracy that has not been added to the experiment. You can either update the `optimization_config` or attach it as a tracking metric using `Experiment.add_tracking_metrics` or `AxClient.add_tracking_metrics`. Ignoring all data for metric activity_accuracy.\n",
      "NoneType: None\n",
      "[ERROR 01-07 18:41:33] ax.core.observation: Data contains metric resource_accuracy that has not been added to the experiment. You can either update the `optimization_config` or attach it as a tracking metric using `Experiment.add_tracking_metrics` or `AxClient.add_tracking_metrics`. Ignoring all data for metric resource_accuracy.\n",
      "NoneType: None\n",
      "[ERROR 01-07 18:41:33] ax.core.observation: Data contains metric resource_roles_accuracy that has not been added to the experiment. You can either update the `optimization_config` or attach it as a tracking metric using `Experiment.add_tracking_metrics` or `AxClient.add_tracking_metrics`. Ignoring all data for metric resource_roles_accuracy.\n",
      "NoneType: None\n",
      "[ERROR 01-07 18:41:33] ax.core.observation: Data contains metric MAE_timestamp that has not been added to the experiment. You can either update the `optimization_config` or attach it as a tracking metric using `Experiment.add_tracking_metrics` or `AxClient.add_tracking_metrics`. Ignoring all data for metric MAE_timestamp.\n",
      "NoneType: None\n",
      "[ERROR 01-07 18:41:33] ax.core.observation: Data contains metric MacroF1Activity that has not been added to the experiment. You can either update the `optimization_config` or attach it as a tracking metric using `Experiment.add_tracking_metrics` or `AxClient.add_tracking_metrics`. Ignoring all data for metric MacroF1Activity.\n",
      "NoneType: None\n",
      "[ERROR 01-07 18:41:33] ax.core.observation: Data contains metric activity_accuracy that has not been added to the experiment. You can either update the `optimization_config` or attach it as a tracking metric using `Experiment.add_tracking_metrics` or `AxClient.add_tracking_metrics`. Ignoring all data for metric activity_accuracy.\n",
      "NoneType: None\n",
      "[ERROR 01-07 18:41:33] ax.core.observation: Data contains metric resource_accuracy that has not been added to the experiment. You can either update the `optimization_config` or attach it as a tracking metric using `Experiment.add_tracking_metrics` or `AxClient.add_tracking_metrics`. Ignoring all data for metric resource_accuracy.\n",
      "NoneType: None\n",
      "[ERROR 01-07 18:41:33] ax.core.observation: Data contains metric resource_roles_accuracy that has not been added to the experiment. You can either update the `optimization_config` or attach it as a tracking metric using `Experiment.add_tracking_metrics` or `AxClient.add_tracking_metrics`. Ignoring all data for metric resource_roles_accuracy.\n",
      "NoneType: None\n",
      "[ERROR 01-07 18:41:33] ax.core.observation: Data contains metric MAE_timestamp that has not been added to the experiment. You can either update the `optimization_config` or attach it as a tracking metric using `Experiment.add_tracking_metrics` or `AxClient.add_tracking_metrics`. Ignoring all data for metric MAE_timestamp.\n",
      "NoneType: None\n",
      "[ERROR 01-07 18:41:33] ax.core.observation: Data contains metric MacroF1Activity that has not been added to the experiment. You can either update the `optimization_config` or attach it as a tracking metric using `Experiment.add_tracking_metrics` or `AxClient.add_tracking_metrics`. Ignoring all data for metric MacroF1Activity.\n",
      "NoneType: None\n",
      "[ERROR 01-07 18:41:33] ax.core.observation: Data contains metric activity_accuracy that has not been added to the experiment. You can either update the `optimization_config` or attach it as a tracking metric using `Experiment.add_tracking_metrics` or `AxClient.add_tracking_metrics`. Ignoring all data for metric activity_accuracy.\n",
      "NoneType: None\n",
      "[ERROR 01-07 18:41:33] ax.core.observation: Data contains metric resource_accuracy that has not been added to the experiment. You can either update the `optimization_config` or attach it as a tracking metric using `Experiment.add_tracking_metrics` or `AxClient.add_tracking_metrics`. Ignoring all data for metric resource_accuracy.\n",
      "NoneType: None\n",
      "[ERROR 01-07 18:41:33] ax.core.observation: Data contains metric resource_roles_accuracy that has not been added to the experiment. You can either update the `optimization_config` or attach it as a tracking metric using `Experiment.add_tracking_metrics` or `AxClient.add_tracking_metrics`. Ignoring all data for metric resource_roles_accuracy.\n",
      "NoneType: None\n",
      "[ERROR 01-07 18:41:33] ax.core.observation: Data contains metric MAE_timestamp that has not been added to the experiment. You can either update the `optimization_config` or attach it as a tracking metric using `Experiment.add_tracking_metrics` or `AxClient.add_tracking_metrics`. Ignoring all data for metric MAE_timestamp.\n",
      "NoneType: None\n",
      "[ERROR 01-07 18:41:33] ax.core.observation: Data contains metric MacroF1Activity that has not been added to the experiment. You can either update the `optimization_config` or attach it as a tracking metric using `Experiment.add_tracking_metrics` or `AxClient.add_tracking_metrics`. Ignoring all data for metric MacroF1Activity.\n",
      "NoneType: None\n",
      "[ERROR 01-07 18:41:33] ax.core.observation: Data contains metric activity_accuracy that has not been added to the experiment. You can either update the `optimization_config` or attach it as a tracking metric using `Experiment.add_tracking_metrics` or `AxClient.add_tracking_metrics`. Ignoring all data for metric activity_accuracy.\n",
      "NoneType: None\n",
      "[ERROR 01-07 18:41:33] ax.core.observation: Data contains metric resource_accuracy that has not been added to the experiment. You can either update the `optimization_config` or attach it as a tracking metric using `Experiment.add_tracking_metrics` or `AxClient.add_tracking_metrics`. Ignoring all data for metric resource_accuracy.\n",
      "NoneType: None\n",
      "[ERROR 01-07 18:41:33] ax.core.observation: Data contains metric resource_roles_accuracy that has not been added to the experiment. You can either update the `optimization_config` or attach it as a tracking metric using `Experiment.add_tracking_metrics` or `AxClient.add_tracking_metrics`. Ignoring all data for metric resource_roles_accuracy.\n",
      "NoneType: None\n",
      "[ERROR 01-07 18:41:33] ax.core.observation: Data contains metric MAE_timestamp that has not been added to the experiment. You can either update the `optimization_config` or attach it as a tracking metric using `Experiment.add_tracking_metrics` or `AxClient.add_tracking_metrics`. Ignoring all data for metric MAE_timestamp.\n",
      "NoneType: None\n",
      "[ERROR 01-07 18:41:33] ax.core.observation: Data contains metric MacroF1Activity that has not been added to the experiment. You can either update the `optimization_config` or attach it as a tracking metric using `Experiment.add_tracking_metrics` or `AxClient.add_tracking_metrics`. Ignoring all data for metric MacroF1Activity.\n",
      "NoneType: None\n",
      "[ERROR 01-07 18:41:33] ax.core.observation: Data contains metric activity_accuracy that has not been added to the experiment. You can either update the `optimization_config` or attach it as a tracking metric using `Experiment.add_tracking_metrics` or `AxClient.add_tracking_metrics`. Ignoring all data for metric activity_accuracy.\n",
      "NoneType: None\n",
      "[ERROR 01-07 18:41:33] ax.core.observation: Data contains metric resource_accuracy that has not been added to the experiment. You can either update the `optimization_config` or attach it as a tracking metric using `Experiment.add_tracking_metrics` or `AxClient.add_tracking_metrics`. Ignoring all data for metric resource_accuracy.\n",
      "NoneType: None\n",
      "[ERROR 01-07 18:41:33] ax.core.observation: Data contains metric resource_roles_accuracy that has not been added to the experiment. You can either update the `optimization_config` or attach it as a tracking metric using `Experiment.add_tracking_metrics` or `AxClient.add_tracking_metrics`. Ignoring all data for metric resource_roles_accuracy.\n",
      "NoneType: None\n",
      "[ERROR 01-07 18:41:33] ax.core.observation: Data contains metric MAE_timestamp that has not been added to the experiment. You can either update the `optimization_config` or attach it as a tracking metric using `Experiment.add_tracking_metrics` or `AxClient.add_tracking_metrics`. Ignoring all data for metric MAE_timestamp.\n",
      "NoneType: None\n",
      "[ERROR 01-07 18:41:33] ax.core.observation: Data contains metric MacroF1Activity that has not been added to the experiment. You can either update the `optimization_config` or attach it as a tracking metric using `Experiment.add_tracking_metrics` or `AxClient.add_tracking_metrics`. Ignoring all data for metric MacroF1Activity.\n",
      "NoneType: None\n",
      "[ERROR 01-07 18:41:33] ax.core.observation: Data contains metric activity_accuracy that has not been added to the experiment. You can either update the `optimization_config` or attach it as a tracking metric using `Experiment.add_tracking_metrics` or `AxClient.add_tracking_metrics`. Ignoring all data for metric activity_accuracy.\n",
      "NoneType: None\n",
      "[ERROR 01-07 18:41:33] ax.core.observation: Data contains metric resource_accuracy that has not been added to the experiment. You can either update the `optimization_config` or attach it as a tracking metric using `Experiment.add_tracking_metrics` or `AxClient.add_tracking_metrics`. Ignoring all data for metric resource_accuracy.\n",
      "NoneType: None\n",
      "[ERROR 01-07 18:41:33] ax.core.observation: Data contains metric resource_roles_accuracy that has not been added to the experiment. You can either update the `optimization_config` or attach it as a tracking metric using `Experiment.add_tracking_metrics` or `AxClient.add_tracking_metrics`. Ignoring all data for metric resource_roles_accuracy.\n",
      "NoneType: None\n",
      "[ERROR 01-07 18:41:33] ax.core.observation: Data contains metric MAE_timestamp that has not been added to the experiment. You can either update the `optimization_config` or attach it as a tracking metric using `Experiment.add_tracking_metrics` or `AxClient.add_tracking_metrics`. Ignoring all data for metric MAE_timestamp.\n",
      "NoneType: None\n",
      "[ERROR 01-07 18:41:33] ax.core.observation: Data contains metric MacroF1Activity that has not been added to the experiment. You can either update the `optimization_config` or attach it as a tracking metric using `Experiment.add_tracking_metrics` or `AxClient.add_tracking_metrics`. Ignoring all data for metric MacroF1Activity.\n",
      "NoneType: None\n",
      "[ERROR 01-07 18:41:33] ax.core.observation: Data contains metric activity_accuracy that has not been added to the experiment. You can either update the `optimization_config` or attach it as a tracking metric using `Experiment.add_tracking_metrics` or `AxClient.add_tracking_metrics`. Ignoring all data for metric activity_accuracy.\n",
      "NoneType: None\n",
      "[ERROR 01-07 18:41:33] ax.core.observation: Data contains metric resource_accuracy that has not been added to the experiment. You can either update the `optimization_config` or attach it as a tracking metric using `Experiment.add_tracking_metrics` or `AxClient.add_tracking_metrics`. Ignoring all data for metric resource_accuracy.\n",
      "NoneType: None\n",
      "[ERROR 01-07 18:41:33] ax.core.observation: Data contains metric resource_roles_accuracy that has not been added to the experiment. You can either update the `optimization_config` or attach it as a tracking metric using `Experiment.add_tracking_metrics` or `AxClient.add_tracking_metrics`. Ignoring all data for metric resource_roles_accuracy.\n",
      "NoneType: None\n",
      "/home/sebdis/ProcessMining/HGNN/hgnn_env/lib/python3.10/site-packages/linear_operator/utils/cholesky.py:40: NumericalWarning: A not p.d., added jitter of 1.0e-08 to the diagonal\n",
      "  warnings.warn(\n"
     ]
    },
    {
     "name": "stdout",
     "output_type": "stream",
     "text": [
      "{'lr': 0.003454103133703098, 'batch_size': 256, 'heads': 4, 'hid': 128, 'layers': 2, 'aggregation': 'max'}\n",
      "Epoch: 0\n",
      "\n"
     ]
    },
    {
     "name": "stderr",
     "output_type": "stream",
     "text": [
      "WARNING:root:Warning: Some classes do not exist in the target. F1 scores for these classes will be cast to zeros.\n"
     ]
    },
    {
     "name": "stdout",
     "output_type": "stream",
     "text": [
      "\n",
      "VALIDATION\n",
      "ACTIVITY: acc 0.5947 MacroF1 0.5655\n",
      "TIMESTAMP: MAE 0.2640\n",
      "RESOURCE: acc 0.3291\n",
      "RESOURCE_ROLE: acc 0.7848\n",
      "TOTAL_LOSS: 4.4011\n",
      "epoch time 14.887393712997437s\n",
      "\n",
      "Epoch: 1\n",
      "\n"
     ]
    },
    {
     "name": "stderr",
     "output_type": "stream",
     "text": [
      "WARNING:root:Warning: Some classes do not exist in the target. F1 scores for these classes will be cast to zeros.\n"
     ]
    },
    {
     "name": "stdout",
     "output_type": "stream",
     "text": [
      "\n",
      "VALIDATION\n",
      "ACTIVITY: acc 0.6540 MacroF1 0.6071\n",
      "TIMESTAMP: MAE 0.2761\n",
      "RESOURCE: acc 0.3915\n",
      "RESOURCE_ROLE: acc 0.7862\n",
      "TOTAL_LOSS: 4.0712\n",
      "epoch time 15.718493461608887s\n",
      "\n",
      "new best model found\n",
      "Epoch: 2\n",
      "\n"
     ]
    },
    {
     "name": "stderr",
     "output_type": "stream",
     "text": [
      "WARNING:root:Warning: Some classes do not exist in the target. F1 scores for these classes will be cast to zeros.\n"
     ]
    },
    {
     "name": "stdout",
     "output_type": "stream",
     "text": [
      "\n",
      "VALIDATION\n",
      "ACTIVITY: acc 0.6400 MacroF1 0.6114\n",
      "TIMESTAMP: MAE 0.4359\n",
      "RESOURCE: acc 0.4023\n",
      "RESOURCE_ROLE: acc 0.7848\n",
      "TOTAL_LOSS: 4.2110\n",
      "epoch time 16.47058892250061s\n",
      "\n",
      "Epoch: 3\n",
      "\n"
     ]
    },
    {
     "name": "stderr",
     "output_type": "stream",
     "text": [
      "WARNING:root:Warning: Some classes do not exist in the target. F1 scores for these classes will be cast to zeros.\n"
     ]
    },
    {
     "name": "stdout",
     "output_type": "stream",
     "text": [
      "\n",
      "VALIDATION\n",
      "ACTIVITY: acc 0.6063 MacroF1 0.5960\n",
      "TIMESTAMP: MAE 0.1937\n",
      "RESOURCE: acc 0.4220\n",
      "RESOURCE_ROLE: acc 0.7848\n",
      "TOTAL_LOSS: 3.8654\n",
      "epoch time 16.23422360420227s\n",
      "\n",
      "new best model found\n",
      "Epoch: 4\n",
      "\n"
     ]
    },
    {
     "name": "stderr",
     "output_type": "stream",
     "text": [
      "WARNING:root:Warning: Some classes do not exist in the target. F1 scores for these classes will be cast to zeros.\n"
     ]
    },
    {
     "name": "stdout",
     "output_type": "stream",
     "text": [
      "\n",
      "VALIDATION\n",
      "ACTIVITY: acc 0.6053 MacroF1 0.5927\n",
      "TIMESTAMP: MAE 0.0971\n",
      "RESOURCE: acc 0.4756\n",
      "RESOURCE_ROLE: acc 0.7862\n",
      "TOTAL_LOSS: 3.6299\n",
      "epoch time 16.26154112815857s\n",
      "\n",
      "new best model found\n",
      "Epoch: 5\n",
      "\n"
     ]
    },
    {
     "name": "stderr",
     "output_type": "stream",
     "text": [
      "WARNING:root:Warning: Some classes do not exist in the target. F1 scores for these classes will be cast to zeros.\n"
     ]
    },
    {
     "name": "stdout",
     "output_type": "stream",
     "text": [
      "\n",
      "VALIDATION\n",
      "ACTIVITY: acc 0.6400 MacroF1 0.5899\n",
      "TIMESTAMP: MAE 0.1010\n",
      "RESOURCE: acc 0.5094\n",
      "RESOURCE_ROLE: acc 0.7862\n",
      "TOTAL_LOSS: 3.5200\n",
      "epoch time 16.21393871307373s\n",
      "\n",
      "new best model found\n",
      "Epoch: 6\n",
      "\n"
     ]
    },
    {
     "name": "stderr",
     "output_type": "stream",
     "text": [
      "WARNING:root:Warning: Some classes do not exist in the target. F1 scores for these classes will be cast to zeros.\n"
     ]
    },
    {
     "name": "stdout",
     "output_type": "stream",
     "text": [
      "\n",
      "VALIDATION\n",
      "ACTIVITY: acc 0.6554 MacroF1 0.6119\n",
      "TIMESTAMP: MAE 0.2124\n",
      "RESOURCE: acc 0.5213\n",
      "RESOURCE_ROLE: acc 0.7860\n",
      "TOTAL_LOSS: 3.5759\n",
      "epoch time 16.16724944114685s\n",
      "\n",
      "Epoch: 7\n",
      "\n"
     ]
    },
    {
     "name": "stderr",
     "output_type": "stream",
     "text": [
      "WARNING:root:Warning: Some classes do not exist in the target. F1 scores for these classes will be cast to zeros.\n"
     ]
    },
    {
     "name": "stdout",
     "output_type": "stream",
     "text": [
      "\n",
      "VALIDATION\n",
      "ACTIVITY: acc 0.6533 MacroF1 0.6048\n",
      "TIMESTAMP: MAE 0.2688\n",
      "RESOURCE: acc 0.5263\n",
      "RESOURCE_ROLE: acc 0.7685\n",
      "TOTAL_LOSS: 3.6178\n",
      "epoch time 16.184125423431396s\n",
      "\n",
      "Epoch: 8\n",
      "\n"
     ]
    },
    {
     "name": "stderr",
     "output_type": "stream",
     "text": [
      "WARNING:root:Warning: Some classes do not exist in the target. F1 scores for these classes will be cast to zeros.\n"
     ]
    },
    {
     "name": "stdout",
     "output_type": "stream",
     "text": [
      "\n",
      "VALIDATION\n",
      "ACTIVITY: acc 0.6531 MacroF1 0.6017\n",
      "TIMESTAMP: MAE 0.1395\n",
      "RESOURCE: acc 0.5314\n",
      "RESOURCE_ROLE: acc 0.7862\n",
      "TOTAL_LOSS: 3.4413\n",
      "epoch time 16.062212705612183s\n",
      "\n",
      "new best model found\n",
      "Epoch: 9\n",
      "\n"
     ]
    },
    {
     "name": "stderr",
     "output_type": "stream",
     "text": [
      "WARNING:root:Warning: Some classes do not exist in the target. F1 scores for these classes will be cast to zeros.\n"
     ]
    },
    {
     "name": "stdout",
     "output_type": "stream",
     "text": [
      "\n",
      "VALIDATION\n",
      "ACTIVITY: acc 0.6550 MacroF1 0.6112\n",
      "TIMESTAMP: MAE 0.0759\n",
      "RESOURCE: acc 0.5369\n",
      "RESOURCE_ROLE: acc 0.7860\n",
      "TOTAL_LOSS: 3.3698\n",
      "epoch time 16.263108491897583s\n",
      "\n",
      "new best model found\n",
      "Epoch: 10\n",
      "\n"
     ]
    },
    {
     "name": "stderr",
     "output_type": "stream",
     "text": [
      "WARNING:root:Warning: Some classes do not exist in the target. F1 scores for these classes will be cast to zeros.\n"
     ]
    },
    {
     "name": "stdout",
     "output_type": "stream",
     "text": [
      "\n",
      "VALIDATION\n",
      "ACTIVITY: acc 0.5985 MacroF1 0.5724\n",
      "TIMESTAMP: MAE 0.2806\n",
      "RESOURCE: acc 0.5361\n",
      "RESOURCE_ROLE: acc 0.7860\n",
      "TOTAL_LOSS: 3.5524\n",
      "epoch time 16.074474096298218s\n",
      "\n",
      "Epoch: 11\n",
      "\n"
     ]
    },
    {
     "name": "stderr",
     "output_type": "stream",
     "text": [
      "WARNING:root:Warning: Some classes do not exist in the target. F1 scores for these classes will be cast to zeros.\n"
     ]
    },
    {
     "name": "stdout",
     "output_type": "stream",
     "text": [
      "\n",
      "VALIDATION\n",
      "ACTIVITY: acc 0.6472 MacroF1 0.5838\n",
      "TIMESTAMP: MAE 0.0744\n",
      "RESOURCE: acc 0.5342\n",
      "RESOURCE_ROLE: acc 0.7860\n",
      "TOTAL_LOSS: 3.3510\n",
      "epoch time 15.966033458709717s\n",
      "\n",
      "new best model found\n",
      "Epoch: 12\n",
      "\n"
     ]
    },
    {
     "name": "stderr",
     "output_type": "stream",
     "text": [
      "WARNING:root:Warning: Some classes do not exist in the target. F1 scores for these classes will be cast to zeros.\n"
     ]
    },
    {
     "name": "stdout",
     "output_type": "stream",
     "text": [
      "\n",
      "VALIDATION\n",
      "ACTIVITY: acc 0.6463 MacroF1 0.5838\n",
      "TIMESTAMP: MAE 0.2986\n",
      "RESOURCE: acc 0.5363\n",
      "RESOURCE_ROLE: acc 0.7860\n",
      "TOTAL_LOSS: 3.5490\n",
      "epoch time 15.852413177490234s\n",
      "\n",
      "Epoch: 13\n",
      "\n"
     ]
    },
    {
     "name": "stderr",
     "output_type": "stream",
     "text": [
      "WARNING:root:Warning: Some classes do not exist in the target. F1 scores for these classes will be cast to zeros.\n"
     ]
    },
    {
     "name": "stdout",
     "output_type": "stream",
     "text": [
      "\n",
      "VALIDATION\n",
      "ACTIVITY: acc 0.6624 MacroF1 0.6183\n",
      "TIMESTAMP: MAE 0.3181\n",
      "RESOURCE: acc 0.5321\n",
      "RESOURCE_ROLE: acc 0.7860\n",
      "TOTAL_LOSS: 3.5756\n",
      "epoch time 14.531538248062134s\n",
      "\n",
      "Epoch: 14\n",
      "\n"
     ]
    },
    {
     "name": "stderr",
     "output_type": "stream",
     "text": [
      "WARNING:root:Warning: Some classes do not exist in the target. F1 scores for these classes will be cast to zeros.\n"
     ]
    },
    {
     "name": "stdout",
     "output_type": "stream",
     "text": [
      "\n",
      "VALIDATION\n",
      "ACTIVITY: acc 0.6669 MacroF1 0.6293\n",
      "TIMESTAMP: MAE 0.2445\n",
      "RESOURCE: acc 0.5426\n",
      "RESOURCE_ROLE: acc 0.7860\n",
      "TOTAL_LOSS: 3.4870\n",
      "epoch time 15.960073471069336s\n",
      "\n",
      "Epoch: 15\n",
      "\n"
     ]
    },
    {
     "name": "stderr",
     "output_type": "stream",
     "text": [
      "WARNING:root:Warning: Some classes do not exist in the target. F1 scores for these classes will be cast to zeros.\n"
     ]
    },
    {
     "name": "stdout",
     "output_type": "stream",
     "text": [
      "\n",
      "VALIDATION\n",
      "ACTIVITY: acc 0.6747 MacroF1 0.6394\n",
      "TIMESTAMP: MAE 0.1672\n",
      "RESOURCE: acc 0.5342\n",
      "RESOURCE_ROLE: acc 0.7860\n",
      "TOTAL_LOSS: 3.3978\n",
      "epoch time 14.971740245819092s\n",
      "\n",
      "Epoch: 16\n",
      "\n"
     ]
    },
    {
     "name": "stderr",
     "output_type": "stream",
     "text": [
      "WARNING:root:Warning: Some classes do not exist in the target. F1 scores for these classes will be cast to zeros.\n"
     ]
    },
    {
     "name": "stdout",
     "output_type": "stream",
     "text": [
      "\n",
      "VALIDATION\n",
      "ACTIVITY: acc 0.6779 MacroF1 0.6598\n",
      "TIMESTAMP: MAE 0.4052\n",
      "RESOURCE: acc 0.5352\n",
      "RESOURCE_ROLE: acc 0.7860\n",
      "TOTAL_LOSS: 3.6407\n",
      "epoch time 16.834430694580078s\n",
      "\n",
      "Validation performance didn't improve for 5 epochs. Training stops.\n"
     ]
    },
    {
     "name": "stderr",
     "output_type": "stream",
     "text": [
      "WARNING:root:Warning: Some classes do not exist in the target. F1 scores for these classes will be cast to zeros.\n",
      "[INFO 01-07 18:46:17] ax.core.experiment: Attached data has some metrics ({'activity_accuracy', 'MAE_timestamp', 'resource_roles_accuracy', 'MacroF1Activity', 'resource_accuracy'}) that are not among the metrics on this experiment. Note that attaching data will not automatically add those metrics to the experiment. For these metrics to be automatically fetched by `experiment.fetch_data`, add them via `experiment.add_tracking_metric` or update the experiment's optimization config.\n",
      "[INFO 01-07 18:46:17] ax.service.managed_loop: Running optimization trial 19...\n",
      "[ERROR 01-07 18:46:17] ax.core.observation: Data contains metric MAE_timestamp that has not been added to the experiment. You can either update the `optimization_config` or attach it as a tracking metric using `Experiment.add_tracking_metrics` or `AxClient.add_tracking_metrics`. Ignoring all data for metric MAE_timestamp.\n",
      "NoneType: None\n",
      "[ERROR 01-07 18:46:17] ax.core.observation: Data contains metric MacroF1Activity that has not been added to the experiment. You can either update the `optimization_config` or attach it as a tracking metric using `Experiment.add_tracking_metrics` or `AxClient.add_tracking_metrics`. Ignoring all data for metric MacroF1Activity.\n",
      "NoneType: None\n",
      "[ERROR 01-07 18:46:17] ax.core.observation: Data contains metric activity_accuracy that has not been added to the experiment. You can either update the `optimization_config` or attach it as a tracking metric using `Experiment.add_tracking_metrics` or `AxClient.add_tracking_metrics`. Ignoring all data for metric activity_accuracy.\n",
      "NoneType: None\n",
      "[ERROR 01-07 18:46:17] ax.core.observation: Data contains metric resource_accuracy that has not been added to the experiment. You can either update the `optimization_config` or attach it as a tracking metric using `Experiment.add_tracking_metrics` or `AxClient.add_tracking_metrics`. Ignoring all data for metric resource_accuracy.\n",
      "NoneType: None\n",
      "[ERROR 01-07 18:46:17] ax.core.observation: Data contains metric resource_roles_accuracy that has not been added to the experiment. You can either update the `optimization_config` or attach it as a tracking metric using `Experiment.add_tracking_metrics` or `AxClient.add_tracking_metrics`. Ignoring all data for metric resource_roles_accuracy.\n",
      "NoneType: None\n",
      "[ERROR 01-07 18:46:17] ax.core.observation: Data contains metric MAE_timestamp that has not been added to the experiment. You can either update the `optimization_config` or attach it as a tracking metric using `Experiment.add_tracking_metrics` or `AxClient.add_tracking_metrics`. Ignoring all data for metric MAE_timestamp.\n",
      "NoneType: None\n",
      "[ERROR 01-07 18:46:17] ax.core.observation: Data contains metric MacroF1Activity that has not been added to the experiment. You can either update the `optimization_config` or attach it as a tracking metric using `Experiment.add_tracking_metrics` or `AxClient.add_tracking_metrics`. Ignoring all data for metric MacroF1Activity.\n",
      "NoneType: None\n",
      "[ERROR 01-07 18:46:17] ax.core.observation: Data contains metric activity_accuracy that has not been added to the experiment. You can either update the `optimization_config` or attach it as a tracking metric using `Experiment.add_tracking_metrics` or `AxClient.add_tracking_metrics`. Ignoring all data for metric activity_accuracy.\n",
      "NoneType: None\n",
      "[ERROR 01-07 18:46:17] ax.core.observation: Data contains metric resource_accuracy that has not been added to the experiment. You can either update the `optimization_config` or attach it as a tracking metric using `Experiment.add_tracking_metrics` or `AxClient.add_tracking_metrics`. Ignoring all data for metric resource_accuracy.\n",
      "NoneType: None\n",
      "[ERROR 01-07 18:46:17] ax.core.observation: Data contains metric resource_roles_accuracy that has not been added to the experiment. You can either update the `optimization_config` or attach it as a tracking metric using `Experiment.add_tracking_metrics` or `AxClient.add_tracking_metrics`. Ignoring all data for metric resource_roles_accuracy.\n",
      "NoneType: None\n",
      "[ERROR 01-07 18:46:17] ax.core.observation: Data contains metric MAE_timestamp that has not been added to the experiment. You can either update the `optimization_config` or attach it as a tracking metric using `Experiment.add_tracking_metrics` or `AxClient.add_tracking_metrics`. Ignoring all data for metric MAE_timestamp.\n",
      "NoneType: None\n",
      "[ERROR 01-07 18:46:17] ax.core.observation: Data contains metric MacroF1Activity that has not been added to the experiment. You can either update the `optimization_config` or attach it as a tracking metric using `Experiment.add_tracking_metrics` or `AxClient.add_tracking_metrics`. Ignoring all data for metric MacroF1Activity.\n",
      "NoneType: None\n",
      "[ERROR 01-07 18:46:17] ax.core.observation: Data contains metric activity_accuracy that has not been added to the experiment. You can either update the `optimization_config` or attach it as a tracking metric using `Experiment.add_tracking_metrics` or `AxClient.add_tracking_metrics`. Ignoring all data for metric activity_accuracy.\n",
      "NoneType: None\n",
      "[ERROR 01-07 18:46:17] ax.core.observation: Data contains metric resource_accuracy that has not been added to the experiment. You can either update the `optimization_config` or attach it as a tracking metric using `Experiment.add_tracking_metrics` or `AxClient.add_tracking_metrics`. Ignoring all data for metric resource_accuracy.\n",
      "NoneType: None\n",
      "[ERROR 01-07 18:46:17] ax.core.observation: Data contains metric resource_roles_accuracy that has not been added to the experiment. You can either update the `optimization_config` or attach it as a tracking metric using `Experiment.add_tracking_metrics` or `AxClient.add_tracking_metrics`. Ignoring all data for metric resource_roles_accuracy.\n",
      "NoneType: None\n",
      "[ERROR 01-07 18:46:17] ax.core.observation: Data contains metric MAE_timestamp that has not been added to the experiment. You can either update the `optimization_config` or attach it as a tracking metric using `Experiment.add_tracking_metrics` or `AxClient.add_tracking_metrics`. Ignoring all data for metric MAE_timestamp.\n",
      "NoneType: None\n",
      "[ERROR 01-07 18:46:17] ax.core.observation: Data contains metric MacroF1Activity that has not been added to the experiment. You can either update the `optimization_config` or attach it as a tracking metric using `Experiment.add_tracking_metrics` or `AxClient.add_tracking_metrics`. Ignoring all data for metric MacroF1Activity.\n",
      "NoneType: None\n",
      "[ERROR 01-07 18:46:17] ax.core.observation: Data contains metric activity_accuracy that has not been added to the experiment. You can either update the `optimization_config` or attach it as a tracking metric using `Experiment.add_tracking_metrics` or `AxClient.add_tracking_metrics`. Ignoring all data for metric activity_accuracy.\n",
      "NoneType: None\n",
      "[ERROR 01-07 18:46:17] ax.core.observation: Data contains metric resource_accuracy that has not been added to the experiment. You can either update the `optimization_config` or attach it as a tracking metric using `Experiment.add_tracking_metrics` or `AxClient.add_tracking_metrics`. Ignoring all data for metric resource_accuracy.\n",
      "NoneType: None\n",
      "[ERROR 01-07 18:46:17] ax.core.observation: Data contains metric resource_roles_accuracy that has not been added to the experiment. You can either update the `optimization_config` or attach it as a tracking metric using `Experiment.add_tracking_metrics` or `AxClient.add_tracking_metrics`. Ignoring all data for metric resource_roles_accuracy.\n",
      "NoneType: None\n",
      "[ERROR 01-07 18:46:17] ax.core.observation: Data contains metric MAE_timestamp that has not been added to the experiment. You can either update the `optimization_config` or attach it as a tracking metric using `Experiment.add_tracking_metrics` or `AxClient.add_tracking_metrics`. Ignoring all data for metric MAE_timestamp.\n",
      "NoneType: None\n",
      "[ERROR 01-07 18:46:17] ax.core.observation: Data contains metric MacroF1Activity that has not been added to the experiment. You can either update the `optimization_config` or attach it as a tracking metric using `Experiment.add_tracking_metrics` or `AxClient.add_tracking_metrics`. Ignoring all data for metric MacroF1Activity.\n",
      "NoneType: None\n",
      "[ERROR 01-07 18:46:17] ax.core.observation: Data contains metric activity_accuracy that has not been added to the experiment. You can either update the `optimization_config` or attach it as a tracking metric using `Experiment.add_tracking_metrics` or `AxClient.add_tracking_metrics`. Ignoring all data for metric activity_accuracy.\n",
      "NoneType: None\n",
      "[ERROR 01-07 18:46:17] ax.core.observation: Data contains metric resource_accuracy that has not been added to the experiment. You can either update the `optimization_config` or attach it as a tracking metric using `Experiment.add_tracking_metrics` or `AxClient.add_tracking_metrics`. Ignoring all data for metric resource_accuracy.\n",
      "NoneType: None\n",
      "[ERROR 01-07 18:46:17] ax.core.observation: Data contains metric resource_roles_accuracy that has not been added to the experiment. You can either update the `optimization_config` or attach it as a tracking metric using `Experiment.add_tracking_metrics` or `AxClient.add_tracking_metrics`. Ignoring all data for metric resource_roles_accuracy.\n",
      "NoneType: None\n",
      "[ERROR 01-07 18:46:17] ax.core.observation: Data contains metric MAE_timestamp that has not been added to the experiment. You can either update the `optimization_config` or attach it as a tracking metric using `Experiment.add_tracking_metrics` or `AxClient.add_tracking_metrics`. Ignoring all data for metric MAE_timestamp.\n",
      "NoneType: None\n",
      "[ERROR 01-07 18:46:17] ax.core.observation: Data contains metric MacroF1Activity that has not been added to the experiment. You can either update the `optimization_config` or attach it as a tracking metric using `Experiment.add_tracking_metrics` or `AxClient.add_tracking_metrics`. Ignoring all data for metric MacroF1Activity.\n",
      "NoneType: None\n",
      "[ERROR 01-07 18:46:17] ax.core.observation: Data contains metric activity_accuracy that has not been added to the experiment. You can either update the `optimization_config` or attach it as a tracking metric using `Experiment.add_tracking_metrics` or `AxClient.add_tracking_metrics`. Ignoring all data for metric activity_accuracy.\n",
      "NoneType: None\n",
      "[ERROR 01-07 18:46:17] ax.core.observation: Data contains metric resource_accuracy that has not been added to the experiment. You can either update the `optimization_config` or attach it as a tracking metric using `Experiment.add_tracking_metrics` or `AxClient.add_tracking_metrics`. Ignoring all data for metric resource_accuracy.\n",
      "NoneType: None\n",
      "[ERROR 01-07 18:46:17] ax.core.observation: Data contains metric resource_roles_accuracy that has not been added to the experiment. You can either update the `optimization_config` or attach it as a tracking metric using `Experiment.add_tracking_metrics` or `AxClient.add_tracking_metrics`. Ignoring all data for metric resource_roles_accuracy.\n",
      "NoneType: None\n",
      "[ERROR 01-07 18:46:17] ax.core.observation: Data contains metric MAE_timestamp that has not been added to the experiment. You can either update the `optimization_config` or attach it as a tracking metric using `Experiment.add_tracking_metrics` or `AxClient.add_tracking_metrics`. Ignoring all data for metric MAE_timestamp.\n",
      "NoneType: None\n",
      "[ERROR 01-07 18:46:17] ax.core.observation: Data contains metric MacroF1Activity that has not been added to the experiment. You can either update the `optimization_config` or attach it as a tracking metric using `Experiment.add_tracking_metrics` or `AxClient.add_tracking_metrics`. Ignoring all data for metric MacroF1Activity.\n",
      "NoneType: None\n",
      "[ERROR 01-07 18:46:17] ax.core.observation: Data contains metric activity_accuracy that has not been added to the experiment. You can either update the `optimization_config` or attach it as a tracking metric using `Experiment.add_tracking_metrics` or `AxClient.add_tracking_metrics`. Ignoring all data for metric activity_accuracy.\n",
      "NoneType: None\n",
      "[ERROR 01-07 18:46:17] ax.core.observation: Data contains metric resource_accuracy that has not been added to the experiment. You can either update the `optimization_config` or attach it as a tracking metric using `Experiment.add_tracking_metrics` or `AxClient.add_tracking_metrics`. Ignoring all data for metric resource_accuracy.\n",
      "NoneType: None\n",
      "[ERROR 01-07 18:46:17] ax.core.observation: Data contains metric resource_roles_accuracy that has not been added to the experiment. You can either update the `optimization_config` or attach it as a tracking metric using `Experiment.add_tracking_metrics` or `AxClient.add_tracking_metrics`. Ignoring all data for metric resource_roles_accuracy.\n",
      "NoneType: None\n",
      "[ERROR 01-07 18:46:17] ax.core.observation: Data contains metric MAE_timestamp that has not been added to the experiment. You can either update the `optimization_config` or attach it as a tracking metric using `Experiment.add_tracking_metrics` or `AxClient.add_tracking_metrics`. Ignoring all data for metric MAE_timestamp.\n",
      "NoneType: None\n",
      "[ERROR 01-07 18:46:17] ax.core.observation: Data contains metric MacroF1Activity that has not been added to the experiment. You can either update the `optimization_config` or attach it as a tracking metric using `Experiment.add_tracking_metrics` or `AxClient.add_tracking_metrics`. Ignoring all data for metric MacroF1Activity.\n",
      "NoneType: None\n",
      "[ERROR 01-07 18:46:17] ax.core.observation: Data contains metric activity_accuracy that has not been added to the experiment. You can either update the `optimization_config` or attach it as a tracking metric using `Experiment.add_tracking_metrics` or `AxClient.add_tracking_metrics`. Ignoring all data for metric activity_accuracy.\n",
      "NoneType: None\n",
      "[ERROR 01-07 18:46:17] ax.core.observation: Data contains metric resource_accuracy that has not been added to the experiment. You can either update the `optimization_config` or attach it as a tracking metric using `Experiment.add_tracking_metrics` or `AxClient.add_tracking_metrics`. Ignoring all data for metric resource_accuracy.\n",
      "NoneType: None\n",
      "[ERROR 01-07 18:46:17] ax.core.observation: Data contains metric resource_roles_accuracy that has not been added to the experiment. You can either update the `optimization_config` or attach it as a tracking metric using `Experiment.add_tracking_metrics` or `AxClient.add_tracking_metrics`. Ignoring all data for metric resource_roles_accuracy.\n",
      "NoneType: None\n",
      "[ERROR 01-07 18:46:17] ax.core.observation: Data contains metric MAE_timestamp that has not been added to the experiment. You can either update the `optimization_config` or attach it as a tracking metric using `Experiment.add_tracking_metrics` or `AxClient.add_tracking_metrics`. Ignoring all data for metric MAE_timestamp.\n",
      "NoneType: None\n",
      "[ERROR 01-07 18:46:17] ax.core.observation: Data contains metric MacroF1Activity that has not been added to the experiment. You can either update the `optimization_config` or attach it as a tracking metric using `Experiment.add_tracking_metrics` or `AxClient.add_tracking_metrics`. Ignoring all data for metric MacroF1Activity.\n",
      "NoneType: None\n",
      "[ERROR 01-07 18:46:17] ax.core.observation: Data contains metric activity_accuracy that has not been added to the experiment. You can either update the `optimization_config` or attach it as a tracking metric using `Experiment.add_tracking_metrics` or `AxClient.add_tracking_metrics`. Ignoring all data for metric activity_accuracy.\n",
      "NoneType: None\n",
      "[ERROR 01-07 18:46:17] ax.core.observation: Data contains metric resource_accuracy that has not been added to the experiment. You can either update the `optimization_config` or attach it as a tracking metric using `Experiment.add_tracking_metrics` or `AxClient.add_tracking_metrics`. Ignoring all data for metric resource_accuracy.\n",
      "NoneType: None\n",
      "[ERROR 01-07 18:46:17] ax.core.observation: Data contains metric resource_roles_accuracy that has not been added to the experiment. You can either update the `optimization_config` or attach it as a tracking metric using `Experiment.add_tracking_metrics` or `AxClient.add_tracking_metrics`. Ignoring all data for metric resource_roles_accuracy.\n",
      "NoneType: None\n",
      "[ERROR 01-07 18:46:17] ax.core.observation: Data contains metric MAE_timestamp that has not been added to the experiment. You can either update the `optimization_config` or attach it as a tracking metric using `Experiment.add_tracking_metrics` or `AxClient.add_tracking_metrics`. Ignoring all data for metric MAE_timestamp.\n",
      "NoneType: None\n",
      "[ERROR 01-07 18:46:17] ax.core.observation: Data contains metric MacroF1Activity that has not been added to the experiment. You can either update the `optimization_config` or attach it as a tracking metric using `Experiment.add_tracking_metrics` or `AxClient.add_tracking_metrics`. Ignoring all data for metric MacroF1Activity.\n",
      "NoneType: None\n",
      "[ERROR 01-07 18:46:17] ax.core.observation: Data contains metric activity_accuracy that has not been added to the experiment. You can either update the `optimization_config` or attach it as a tracking metric using `Experiment.add_tracking_metrics` or `AxClient.add_tracking_metrics`. Ignoring all data for metric activity_accuracy.\n",
      "NoneType: None\n",
      "[ERROR 01-07 18:46:17] ax.core.observation: Data contains metric resource_accuracy that has not been added to the experiment. You can either update the `optimization_config` or attach it as a tracking metric using `Experiment.add_tracking_metrics` or `AxClient.add_tracking_metrics`. Ignoring all data for metric resource_accuracy.\n",
      "NoneType: None\n",
      "[ERROR 01-07 18:46:17] ax.core.observation: Data contains metric resource_roles_accuracy that has not been added to the experiment. You can either update the `optimization_config` or attach it as a tracking metric using `Experiment.add_tracking_metrics` or `AxClient.add_tracking_metrics`. Ignoring all data for metric resource_roles_accuracy.\n",
      "NoneType: None\n",
      "[ERROR 01-07 18:46:17] ax.core.observation: Data contains metric MAE_timestamp that has not been added to the experiment. You can either update the `optimization_config` or attach it as a tracking metric using `Experiment.add_tracking_metrics` or `AxClient.add_tracking_metrics`. Ignoring all data for metric MAE_timestamp.\n",
      "NoneType: None\n",
      "[ERROR 01-07 18:46:17] ax.core.observation: Data contains metric MacroF1Activity that has not been added to the experiment. You can either update the `optimization_config` or attach it as a tracking metric using `Experiment.add_tracking_metrics` or `AxClient.add_tracking_metrics`. Ignoring all data for metric MacroF1Activity.\n",
      "NoneType: None\n",
      "[ERROR 01-07 18:46:17] ax.core.observation: Data contains metric activity_accuracy that has not been added to the experiment. You can either update the `optimization_config` or attach it as a tracking metric using `Experiment.add_tracking_metrics` or `AxClient.add_tracking_metrics`. Ignoring all data for metric activity_accuracy.\n",
      "NoneType: None\n",
      "[ERROR 01-07 18:46:17] ax.core.observation: Data contains metric resource_accuracy that has not been added to the experiment. You can either update the `optimization_config` or attach it as a tracking metric using `Experiment.add_tracking_metrics` or `AxClient.add_tracking_metrics`. Ignoring all data for metric resource_accuracy.\n",
      "NoneType: None\n",
      "[ERROR 01-07 18:46:17] ax.core.observation: Data contains metric resource_roles_accuracy that has not been added to the experiment. You can either update the `optimization_config` or attach it as a tracking metric using `Experiment.add_tracking_metrics` or `AxClient.add_tracking_metrics`. Ignoring all data for metric resource_roles_accuracy.\n",
      "NoneType: None\n",
      "[ERROR 01-07 18:46:17] ax.core.observation: Data contains metric MAE_timestamp that has not been added to the experiment. You can either update the `optimization_config` or attach it as a tracking metric using `Experiment.add_tracking_metrics` or `AxClient.add_tracking_metrics`. Ignoring all data for metric MAE_timestamp.\n",
      "NoneType: None\n",
      "[ERROR 01-07 18:46:17] ax.core.observation: Data contains metric MacroF1Activity that has not been added to the experiment. You can either update the `optimization_config` or attach it as a tracking metric using `Experiment.add_tracking_metrics` or `AxClient.add_tracking_metrics`. Ignoring all data for metric MacroF1Activity.\n",
      "NoneType: None\n",
      "[ERROR 01-07 18:46:17] ax.core.observation: Data contains metric activity_accuracy that has not been added to the experiment. You can either update the `optimization_config` or attach it as a tracking metric using `Experiment.add_tracking_metrics` or `AxClient.add_tracking_metrics`. Ignoring all data for metric activity_accuracy.\n",
      "NoneType: None\n",
      "[ERROR 01-07 18:46:17] ax.core.observation: Data contains metric resource_accuracy that has not been added to the experiment. You can either update the `optimization_config` or attach it as a tracking metric using `Experiment.add_tracking_metrics` or `AxClient.add_tracking_metrics`. Ignoring all data for metric resource_accuracy.\n",
      "NoneType: None\n",
      "[ERROR 01-07 18:46:17] ax.core.observation: Data contains metric resource_roles_accuracy that has not been added to the experiment. You can either update the `optimization_config` or attach it as a tracking metric using `Experiment.add_tracking_metrics` or `AxClient.add_tracking_metrics`. Ignoring all data for metric resource_roles_accuracy.\n",
      "NoneType: None\n",
      "[ERROR 01-07 18:46:17] ax.core.observation: Data contains metric MAE_timestamp that has not been added to the experiment. You can either update the `optimization_config` or attach it as a tracking metric using `Experiment.add_tracking_metrics` or `AxClient.add_tracking_metrics`. Ignoring all data for metric MAE_timestamp.\n",
      "NoneType: None\n",
      "[ERROR 01-07 18:46:17] ax.core.observation: Data contains metric MacroF1Activity that has not been added to the experiment. You can either update the `optimization_config` or attach it as a tracking metric using `Experiment.add_tracking_metrics` or `AxClient.add_tracking_metrics`. Ignoring all data for metric MacroF1Activity.\n",
      "NoneType: None\n",
      "[ERROR 01-07 18:46:17] ax.core.observation: Data contains metric activity_accuracy that has not been added to the experiment. You can either update the `optimization_config` or attach it as a tracking metric using `Experiment.add_tracking_metrics` or `AxClient.add_tracking_metrics`. Ignoring all data for metric activity_accuracy.\n",
      "NoneType: None\n",
      "[ERROR 01-07 18:46:17] ax.core.observation: Data contains metric resource_accuracy that has not been added to the experiment. You can either update the `optimization_config` or attach it as a tracking metric using `Experiment.add_tracking_metrics` or `AxClient.add_tracking_metrics`. Ignoring all data for metric resource_accuracy.\n",
      "NoneType: None\n",
      "[ERROR 01-07 18:46:17] ax.core.observation: Data contains metric resource_roles_accuracy that has not been added to the experiment. You can either update the `optimization_config` or attach it as a tracking metric using `Experiment.add_tracking_metrics` or `AxClient.add_tracking_metrics`. Ignoring all data for metric resource_roles_accuracy.\n",
      "NoneType: None\n",
      "[ERROR 01-07 18:46:17] ax.core.observation: Data contains metric MAE_timestamp that has not been added to the experiment. You can either update the `optimization_config` or attach it as a tracking metric using `Experiment.add_tracking_metrics` or `AxClient.add_tracking_metrics`. Ignoring all data for metric MAE_timestamp.\n",
      "NoneType: None\n",
      "[ERROR 01-07 18:46:17] ax.core.observation: Data contains metric MacroF1Activity that has not been added to the experiment. You can either update the `optimization_config` or attach it as a tracking metric using `Experiment.add_tracking_metrics` or `AxClient.add_tracking_metrics`. Ignoring all data for metric MacroF1Activity.\n",
      "NoneType: None\n",
      "[ERROR 01-07 18:46:17] ax.core.observation: Data contains metric activity_accuracy that has not been added to the experiment. You can either update the `optimization_config` or attach it as a tracking metric using `Experiment.add_tracking_metrics` or `AxClient.add_tracking_metrics`. Ignoring all data for metric activity_accuracy.\n",
      "NoneType: None\n",
      "[ERROR 01-07 18:46:17] ax.core.observation: Data contains metric resource_accuracy that has not been added to the experiment. You can either update the `optimization_config` or attach it as a tracking metric using `Experiment.add_tracking_metrics` or `AxClient.add_tracking_metrics`. Ignoring all data for metric resource_accuracy.\n",
      "NoneType: None\n",
      "[ERROR 01-07 18:46:17] ax.core.observation: Data contains metric resource_roles_accuracy that has not been added to the experiment. You can either update the `optimization_config` or attach it as a tracking metric using `Experiment.add_tracking_metrics` or `AxClient.add_tracking_metrics`. Ignoring all data for metric resource_roles_accuracy.\n",
      "NoneType: None\n",
      "[ERROR 01-07 18:46:17] ax.core.observation: Data contains metric MAE_timestamp that has not been added to the experiment. You can either update the `optimization_config` or attach it as a tracking metric using `Experiment.add_tracking_metrics` or `AxClient.add_tracking_metrics`. Ignoring all data for metric MAE_timestamp.\n",
      "NoneType: None\n",
      "[ERROR 01-07 18:46:17] ax.core.observation: Data contains metric MacroF1Activity that has not been added to the experiment. You can either update the `optimization_config` or attach it as a tracking metric using `Experiment.add_tracking_metrics` or `AxClient.add_tracking_metrics`. Ignoring all data for metric MacroF1Activity.\n",
      "NoneType: None\n",
      "[ERROR 01-07 18:46:17] ax.core.observation: Data contains metric activity_accuracy that has not been added to the experiment. You can either update the `optimization_config` or attach it as a tracking metric using `Experiment.add_tracking_metrics` or `AxClient.add_tracking_metrics`. Ignoring all data for metric activity_accuracy.\n",
      "NoneType: None\n",
      "[ERROR 01-07 18:46:17] ax.core.observation: Data contains metric resource_accuracy that has not been added to the experiment. You can either update the `optimization_config` or attach it as a tracking metric using `Experiment.add_tracking_metrics` or `AxClient.add_tracking_metrics`. Ignoring all data for metric resource_accuracy.\n",
      "NoneType: None\n",
      "[ERROR 01-07 18:46:17] ax.core.observation: Data contains metric resource_roles_accuracy that has not been added to the experiment. You can either update the `optimization_config` or attach it as a tracking metric using `Experiment.add_tracking_metrics` or `AxClient.add_tracking_metrics`. Ignoring all data for metric resource_roles_accuracy.\n",
      "NoneType: None\n",
      "[ERROR 01-07 18:46:17] ax.core.observation: Data contains metric MAE_timestamp that has not been added to the experiment. You can either update the `optimization_config` or attach it as a tracking metric using `Experiment.add_tracking_metrics` or `AxClient.add_tracking_metrics`. Ignoring all data for metric MAE_timestamp.\n",
      "NoneType: None\n",
      "[ERROR 01-07 18:46:17] ax.core.observation: Data contains metric MacroF1Activity that has not been added to the experiment. You can either update the `optimization_config` or attach it as a tracking metric using `Experiment.add_tracking_metrics` or `AxClient.add_tracking_metrics`. Ignoring all data for metric MacroF1Activity.\n",
      "NoneType: None\n",
      "[ERROR 01-07 18:46:17] ax.core.observation: Data contains metric activity_accuracy that has not been added to the experiment. You can either update the `optimization_config` or attach it as a tracking metric using `Experiment.add_tracking_metrics` or `AxClient.add_tracking_metrics`. Ignoring all data for metric activity_accuracy.\n",
      "NoneType: None\n",
      "[ERROR 01-07 18:46:17] ax.core.observation: Data contains metric resource_accuracy that has not been added to the experiment. You can either update the `optimization_config` or attach it as a tracking metric using `Experiment.add_tracking_metrics` or `AxClient.add_tracking_metrics`. Ignoring all data for metric resource_accuracy.\n",
      "NoneType: None\n",
      "[ERROR 01-07 18:46:17] ax.core.observation: Data contains metric resource_roles_accuracy that has not been added to the experiment. You can either update the `optimization_config` or attach it as a tracking metric using `Experiment.add_tracking_metrics` or `AxClient.add_tracking_metrics`. Ignoring all data for metric resource_roles_accuracy.\n",
      "NoneType: None\n",
      "[ERROR 01-07 18:46:17] ax.core.observation: Data contains metric MAE_timestamp that has not been added to the experiment. You can either update the `optimization_config` or attach it as a tracking metric using `Experiment.add_tracking_metrics` or `AxClient.add_tracking_metrics`. Ignoring all data for metric MAE_timestamp.\n",
      "NoneType: None\n",
      "[ERROR 01-07 18:46:17] ax.core.observation: Data contains metric MacroF1Activity that has not been added to the experiment. You can either update the `optimization_config` or attach it as a tracking metric using `Experiment.add_tracking_metrics` or `AxClient.add_tracking_metrics`. Ignoring all data for metric MacroF1Activity.\n",
      "NoneType: None\n",
      "[ERROR 01-07 18:46:17] ax.core.observation: Data contains metric activity_accuracy that has not been added to the experiment. You can either update the `optimization_config` or attach it as a tracking metric using `Experiment.add_tracking_metrics` or `AxClient.add_tracking_metrics`. Ignoring all data for metric activity_accuracy.\n",
      "NoneType: None\n",
      "[ERROR 01-07 18:46:17] ax.core.observation: Data contains metric resource_accuracy that has not been added to the experiment. You can either update the `optimization_config` or attach it as a tracking metric using `Experiment.add_tracking_metrics` or `AxClient.add_tracking_metrics`. Ignoring all data for metric resource_accuracy.\n",
      "NoneType: None\n",
      "[ERROR 01-07 18:46:17] ax.core.observation: Data contains metric resource_roles_accuracy that has not been added to the experiment. You can either update the `optimization_config` or attach it as a tracking metric using `Experiment.add_tracking_metrics` or `AxClient.add_tracking_metrics`. Ignoring all data for metric resource_roles_accuracy.\n",
      "NoneType: None\n",
      "[ERROR 01-07 18:46:17] ax.core.observation: Data contains metric MAE_timestamp that has not been added to the experiment. You can either update the `optimization_config` or attach it as a tracking metric using `Experiment.add_tracking_metrics` or `AxClient.add_tracking_metrics`. Ignoring all data for metric MAE_timestamp.\n",
      "NoneType: None\n",
      "[ERROR 01-07 18:46:17] ax.core.observation: Data contains metric MacroF1Activity that has not been added to the experiment. You can either update the `optimization_config` or attach it as a tracking metric using `Experiment.add_tracking_metrics` or `AxClient.add_tracking_metrics`. Ignoring all data for metric MacroF1Activity.\n",
      "NoneType: None\n",
      "[ERROR 01-07 18:46:17] ax.core.observation: Data contains metric activity_accuracy that has not been added to the experiment. You can either update the `optimization_config` or attach it as a tracking metric using `Experiment.add_tracking_metrics` or `AxClient.add_tracking_metrics`. Ignoring all data for metric activity_accuracy.\n",
      "NoneType: None\n",
      "[ERROR 01-07 18:46:17] ax.core.observation: Data contains metric resource_accuracy that has not been added to the experiment. You can either update the `optimization_config` or attach it as a tracking metric using `Experiment.add_tracking_metrics` or `AxClient.add_tracking_metrics`. Ignoring all data for metric resource_accuracy.\n",
      "NoneType: None\n",
      "[ERROR 01-07 18:46:17] ax.core.observation: Data contains metric resource_roles_accuracy that has not been added to the experiment. You can either update the `optimization_config` or attach it as a tracking metric using `Experiment.add_tracking_metrics` or `AxClient.add_tracking_metrics`. Ignoring all data for metric resource_roles_accuracy.\n",
      "NoneType: None\n",
      "/home/sebdis/ProcessMining/HGNN/hgnn_env/lib/python3.10/site-packages/linear_operator/utils/cholesky.py:40: NumericalWarning: A not p.d., added jitter of 1.0e-08 to the diagonal\n",
      "  warnings.warn(\n"
     ]
    },
    {
     "name": "stdout",
     "output_type": "stream",
     "text": [
      "{'lr': 0.0247236159449979, 'batch_size': 1024, 'heads': 4, 'hid': 128, 'layers': 2, 'aggregation': 'max'}\n",
      "Epoch: 0\n",
      "\n"
     ]
    },
    {
     "name": "stderr",
     "output_type": "stream",
     "text": [
      "WARNING:root:Warning: Some classes do not exist in the target. F1 scores for these classes will be cast to zeros.\n"
     ]
    },
    {
     "name": "stdout",
     "output_type": "stream",
     "text": [
      "\n",
      "VALIDATION\n",
      "ACTIVITY: acc 0.4777 MacroF1 0.3164\n",
      "TIMESTAMP: MAE 0.3559\n",
      "RESOURCE: acc 0.3065\n",
      "RESOURCE_ROLE: acc 0.7416\n",
      "TOTAL_LOSS: 4.8976\n",
      "epoch time 12.176971912384033s\n",
      "\n",
      "Epoch: 1\n",
      "\n"
     ]
    },
    {
     "name": "stderr",
     "output_type": "stream",
     "text": [
      "WARNING:root:Warning: Some classes do not exist in the target. F1 scores for these classes will be cast to zeros.\n"
     ]
    },
    {
     "name": "stdout",
     "output_type": "stream",
     "text": [
      "\n",
      "VALIDATION\n",
      "ACTIVITY: acc 0.6387 MacroF1 0.5493\n",
      "TIMESTAMP: MAE 0.1792\n",
      "RESOURCE: acc 0.3917\n",
      "RESOURCE_ROLE: acc 0.6980\n",
      "TOTAL_LOSS: 4.0921\n",
      "epoch time 15.00157904624939s\n",
      "\n",
      "new best model found\n",
      "Epoch: 2\n",
      "\n"
     ]
    },
    {
     "name": "stderr",
     "output_type": "stream",
     "text": [
      "WARNING:root:Warning: Some classes do not exist in the target. F1 scores for these classes will be cast to zeros.\n"
     ]
    },
    {
     "name": "stdout",
     "output_type": "stream",
     "text": [
      "\n",
      "VALIDATION\n",
      "ACTIVITY: acc 0.6588 MacroF1 0.6194\n",
      "TIMESTAMP: MAE 0.1402\n",
      "RESOURCE: acc 0.3937\n",
      "RESOURCE_ROLE: acc 0.7848\n",
      "TOTAL_LOSS: 3.8785\n",
      "epoch time 12.501698732376099s\n",
      "\n",
      "new best model found\n",
      "Epoch: 3\n",
      "\n"
     ]
    },
    {
     "name": "stderr",
     "output_type": "stream",
     "text": [
      "WARNING:root:Warning: Some classes do not exist in the target. F1 scores for these classes will be cast to zeros.\n"
     ]
    },
    {
     "name": "stdout",
     "output_type": "stream",
     "text": [
      "\n",
      "VALIDATION\n",
      "ACTIVITY: acc 0.6552 MacroF1 0.6103\n",
      "TIMESTAMP: MAE 3.1326\n",
      "RESOURCE: acc 0.4290\n",
      "RESOURCE_ROLE: acc 0.7848\n",
      "TOTAL_LOSS: 6.8225\n",
      "epoch time 12.21921181678772s\n",
      "\n",
      "Epoch: 4\n",
      "\n"
     ]
    },
    {
     "name": "stderr",
     "output_type": "stream",
     "text": [
      "WARNING:root:Warning: Some classes do not exist in the target. F1 scores for these classes will be cast to zeros.\n"
     ]
    },
    {
     "name": "stdout",
     "output_type": "stream",
     "text": [
      "\n",
      "VALIDATION\n",
      "ACTIVITY: acc 0.6593 MacroF1 0.6200\n",
      "TIMESTAMP: MAE 0.2425\n",
      "RESOURCE: acc 0.4762\n",
      "RESOURCE_ROLE: acc 0.7850\n",
      "TOTAL_LOSS: 3.9000\n",
      "epoch time 12.1293625831604s\n",
      "\n",
      "Epoch: 5\n",
      "\n"
     ]
    },
    {
     "name": "stderr",
     "output_type": "stream",
     "text": [
      "WARNING:root:Warning: Some classes do not exist in the target. F1 scores for these classes will be cast to zeros.\n"
     ]
    },
    {
     "name": "stdout",
     "output_type": "stream",
     "text": [
      "\n",
      "VALIDATION\n",
      "ACTIVITY: acc 0.6489 MacroF1 0.5927\n",
      "TIMESTAMP: MAE 1.8473\n",
      "RESOURCE: acc 0.5069\n",
      "RESOURCE_ROLE: acc 0.7807\n",
      "TOTAL_LOSS: 5.2778\n",
      "epoch time 12.1564302444458s\n",
      "\n",
      "Epoch: 6\n",
      "\n"
     ]
    },
    {
     "name": "stderr",
     "output_type": "stream",
     "text": [
      "WARNING:root:Warning: Some classes do not exist in the target. F1 scores for these classes will be cast to zeros.\n"
     ]
    },
    {
     "name": "stdout",
     "output_type": "stream",
     "text": [
      "\n",
      "VALIDATION\n",
      "ACTIVITY: acc 0.6436 MacroF1 0.5769\n",
      "TIMESTAMP: MAE 1.4826\n",
      "RESOURCE: acc 0.5268\n",
      "RESOURCE_ROLE: acc 0.7850\n",
      "TOTAL_LOSS: 4.8441\n",
      "epoch time 12.172576665878296s\n",
      "\n",
      "Epoch: 7\n",
      "\n"
     ]
    },
    {
     "name": "stderr",
     "output_type": "stream",
     "text": [
      "WARNING:root:Warning: Some classes do not exist in the target. F1 scores for these classes will be cast to zeros.\n"
     ]
    },
    {
     "name": "stdout",
     "output_type": "stream",
     "text": [
      "\n",
      "VALIDATION\n",
      "ACTIVITY: acc 0.6514 MacroF1 0.5961\n",
      "TIMESTAMP: MAE 0.2603\n",
      "RESOURCE: acc 0.5367\n",
      "RESOURCE_ROLE: acc 0.7843\n",
      "TOTAL_LOSS: 3.5365\n",
      "epoch time 12.299600839614868s\n",
      "\n",
      "new best model found\n",
      "Epoch: 8\n",
      "\n"
     ]
    },
    {
     "name": "stderr",
     "output_type": "stream",
     "text": [
      "WARNING:root:Warning: Some classes do not exist in the target. F1 scores for these classes will be cast to zeros.\n"
     ]
    },
    {
     "name": "stdout",
     "output_type": "stream",
     "text": [
      "\n",
      "VALIDATION\n",
      "ACTIVITY: acc 0.6377 MacroF1 0.5665\n",
      "TIMESTAMP: MAE 2.1988\n",
      "RESOURCE: acc 0.5384\n",
      "RESOURCE_ROLE: acc 0.7862\n",
      "TOTAL_LOSS: 5.4994\n",
      "epoch time 12.084758043289185s\n",
      "\n",
      "Epoch: 9\n",
      "\n"
     ]
    },
    {
     "name": "stderr",
     "output_type": "stream",
     "text": [
      "WARNING:root:Warning: Some classes do not exist in the target. F1 scores for these classes will be cast to zeros.\n"
     ]
    },
    {
     "name": "stdout",
     "output_type": "stream",
     "text": [
      "\n",
      "VALIDATION\n",
      "ACTIVITY: acc 0.6525 MacroF1 0.6040\n",
      "TIMESTAMP: MAE 0.4214\n",
      "RESOURCE: acc 0.5384\n",
      "RESOURCE_ROLE: acc 0.7848\n",
      "TOTAL_LOSS: 3.7080\n",
      "epoch time 12.013920545578003s\n",
      "\n",
      "Epoch: 10\n",
      "\n"
     ]
    },
    {
     "name": "stderr",
     "output_type": "stream",
     "text": [
      "WARNING:root:Warning: Some classes do not exist in the target. F1 scores for these classes will be cast to zeros.\n"
     ]
    },
    {
     "name": "stdout",
     "output_type": "stream",
     "text": [
      "\n",
      "VALIDATION\n",
      "ACTIVITY: acc 0.6605 MacroF1 0.6037\n",
      "TIMESTAMP: MAE 0.4700\n",
      "RESOURCE: acc 0.5369\n",
      "RESOURCE_ROLE: acc 0.7860\n",
      "TOTAL_LOSS: 3.7754\n",
      "epoch time 14.125438690185547s\n",
      "\n",
      "Epoch: 11\n",
      "\n"
     ]
    },
    {
     "name": "stderr",
     "output_type": "stream",
     "text": [
      "WARNING:root:Warning: Some classes do not exist in the target. F1 scores for these classes will be cast to zeros.\n"
     ]
    },
    {
     "name": "stdout",
     "output_type": "stream",
     "text": [
      "\n",
      "VALIDATION\n",
      "ACTIVITY: acc 0.6504 MacroF1 0.6032\n",
      "TIMESTAMP: MAE 0.1300\n",
      "RESOURCE: acc 0.5380\n",
      "RESOURCE_ROLE: acc 0.7862\n",
      "TOTAL_LOSS: 3.4084\n",
      "epoch time 12.082601308822632s\n",
      "\n",
      "new best model found\n",
      "Epoch: 12\n",
      "\n"
     ]
    },
    {
     "name": "stderr",
     "output_type": "stream",
     "text": [
      "WARNING:root:Warning: Some classes do not exist in the target. F1 scores for these classes will be cast to zeros.\n"
     ]
    },
    {
     "name": "stdout",
     "output_type": "stream",
     "text": [
      "\n",
      "VALIDATION\n",
      "ACTIVITY: acc 0.6586 MacroF1 0.6159\n",
      "TIMESTAMP: MAE 0.3169\n",
      "RESOURCE: acc 0.5384\n",
      "RESOURCE_ROLE: acc 0.7860\n",
      "TOTAL_LOSS: 3.5912\n",
      "epoch time 12.006832361221313s\n",
      "\n",
      "Epoch: 13\n",
      "\n"
     ]
    },
    {
     "name": "stderr",
     "output_type": "stream",
     "text": [
      "WARNING:root:Warning: Some classes do not exist in the target. F1 scores for these classes will be cast to zeros.\n"
     ]
    },
    {
     "name": "stdout",
     "output_type": "stream",
     "text": [
      "\n",
      "VALIDATION\n",
      "ACTIVITY: acc 0.6447 MacroF1 0.5800\n",
      "TIMESTAMP: MAE 1.3540\n",
      "RESOURCE: acc 0.5361\n",
      "RESOURCE_ROLE: acc 0.7860\n",
      "TOTAL_LOSS: 4.6639\n",
      "epoch time 12.071062326431274s\n",
      "\n",
      "Epoch: 14\n",
      "\n"
     ]
    },
    {
     "name": "stderr",
     "output_type": "stream",
     "text": [
      "WARNING:root:Warning: Some classes do not exist in the target. F1 scores for these classes will be cast to zeros.\n"
     ]
    },
    {
     "name": "stdout",
     "output_type": "stream",
     "text": [
      "\n",
      "VALIDATION\n",
      "ACTIVITY: acc 0.6565 MacroF1 0.6120\n",
      "TIMESTAMP: MAE 1.7742\n",
      "RESOURCE: acc 0.5350\n",
      "RESOURCE_ROLE: acc 0.7862\n",
      "TOTAL_LOSS: 5.0800\n",
      "epoch time 12.242837190628052s\n",
      "\n",
      "Epoch: 15\n",
      "\n"
     ]
    },
    {
     "name": "stderr",
     "output_type": "stream",
     "text": [
      "WARNING:root:Warning: Some classes do not exist in the target. F1 scores for these classes will be cast to zeros.\n"
     ]
    },
    {
     "name": "stdout",
     "output_type": "stream",
     "text": [
      "\n",
      "VALIDATION\n",
      "ACTIVITY: acc 0.6461 MacroF1 0.5844\n",
      "TIMESTAMP: MAE 0.6165\n",
      "RESOURCE: acc 0.5365\n",
      "RESOURCE_ROLE: acc 0.7860\n",
      "TOTAL_LOSS: 3.9299\n",
      "epoch time 12.032628059387207s\n",
      "\n",
      "Epoch: 16\n",
      "\n"
     ]
    },
    {
     "name": "stderr",
     "output_type": "stream",
     "text": [
      "WARNING:root:Warning: Some classes do not exist in the target. F1 scores for these classes will be cast to zeros.\n"
     ]
    },
    {
     "name": "stdout",
     "output_type": "stream",
     "text": [
      "\n",
      "VALIDATION\n",
      "ACTIVITY: acc 0.6531 MacroF1 0.6127\n",
      "TIMESTAMP: MAE 0.5442\n",
      "RESOURCE: acc 0.5367\n",
      "RESOURCE_ROLE: acc 0.7860\n",
      "TOTAL_LOSS: 3.8718\n",
      "epoch time 12.267358779907227s\n",
      "\n",
      "Validation performance didn't improve for 5 epochs. Training stops.\n"
     ]
    },
    {
     "name": "stderr",
     "output_type": "stream",
     "text": [
      "WARNING:root:Warning: Some classes do not exist in the target. F1 scores for these classes will be cast to zeros.\n",
      "[INFO 01-07 18:50:01] ax.core.experiment: Attached data has some metrics ({'activity_accuracy', 'MAE_timestamp', 'resource_roles_accuracy', 'MacroF1Activity', 'resource_accuracy'}) that are not among the metrics on this experiment. Note that attaching data will not automatically add those metrics to the experiment. For these metrics to be automatically fetched by `experiment.fetch_data`, add them via `experiment.add_tracking_metric` or update the experiment's optimization config.\n",
      "[INFO 01-07 18:50:01] ax.service.managed_loop: Running optimization trial 20...\n",
      "[ERROR 01-07 18:50:01] ax.core.observation: Data contains metric MAE_timestamp that has not been added to the experiment. You can either update the `optimization_config` or attach it as a tracking metric using `Experiment.add_tracking_metrics` or `AxClient.add_tracking_metrics`. Ignoring all data for metric MAE_timestamp.\n",
      "NoneType: None\n",
      "[ERROR 01-07 18:50:01] ax.core.observation: Data contains metric MacroF1Activity that has not been added to the experiment. You can either update the `optimization_config` or attach it as a tracking metric using `Experiment.add_tracking_metrics` or `AxClient.add_tracking_metrics`. Ignoring all data for metric MacroF1Activity.\n",
      "NoneType: None\n",
      "[ERROR 01-07 18:50:01] ax.core.observation: Data contains metric activity_accuracy that has not been added to the experiment. You can either update the `optimization_config` or attach it as a tracking metric using `Experiment.add_tracking_metrics` or `AxClient.add_tracking_metrics`. Ignoring all data for metric activity_accuracy.\n",
      "NoneType: None\n",
      "[ERROR 01-07 18:50:01] ax.core.observation: Data contains metric resource_accuracy that has not been added to the experiment. You can either update the `optimization_config` or attach it as a tracking metric using `Experiment.add_tracking_metrics` or `AxClient.add_tracking_metrics`. Ignoring all data for metric resource_accuracy.\n",
      "NoneType: None\n",
      "[ERROR 01-07 18:50:01] ax.core.observation: Data contains metric resource_roles_accuracy that has not been added to the experiment. You can either update the `optimization_config` or attach it as a tracking metric using `Experiment.add_tracking_metrics` or `AxClient.add_tracking_metrics`. Ignoring all data for metric resource_roles_accuracy.\n",
      "NoneType: None\n",
      "[ERROR 01-07 18:50:01] ax.core.observation: Data contains metric MAE_timestamp that has not been added to the experiment. You can either update the `optimization_config` or attach it as a tracking metric using `Experiment.add_tracking_metrics` or `AxClient.add_tracking_metrics`. Ignoring all data for metric MAE_timestamp.\n",
      "NoneType: None\n",
      "[ERROR 01-07 18:50:01] ax.core.observation: Data contains metric MacroF1Activity that has not been added to the experiment. You can either update the `optimization_config` or attach it as a tracking metric using `Experiment.add_tracking_metrics` or `AxClient.add_tracking_metrics`. Ignoring all data for metric MacroF1Activity.\n",
      "NoneType: None\n",
      "[ERROR 01-07 18:50:01] ax.core.observation: Data contains metric activity_accuracy that has not been added to the experiment. You can either update the `optimization_config` or attach it as a tracking metric using `Experiment.add_tracking_metrics` or `AxClient.add_tracking_metrics`. Ignoring all data for metric activity_accuracy.\n",
      "NoneType: None\n",
      "[ERROR 01-07 18:50:01] ax.core.observation: Data contains metric resource_accuracy that has not been added to the experiment. You can either update the `optimization_config` or attach it as a tracking metric using `Experiment.add_tracking_metrics` or `AxClient.add_tracking_metrics`. Ignoring all data for metric resource_accuracy.\n",
      "NoneType: None\n",
      "[ERROR 01-07 18:50:01] ax.core.observation: Data contains metric resource_roles_accuracy that has not been added to the experiment. You can either update the `optimization_config` or attach it as a tracking metric using `Experiment.add_tracking_metrics` or `AxClient.add_tracking_metrics`. Ignoring all data for metric resource_roles_accuracy.\n",
      "NoneType: None\n",
      "[ERROR 01-07 18:50:01] ax.core.observation: Data contains metric MAE_timestamp that has not been added to the experiment. You can either update the `optimization_config` or attach it as a tracking metric using `Experiment.add_tracking_metrics` or `AxClient.add_tracking_metrics`. Ignoring all data for metric MAE_timestamp.\n",
      "NoneType: None\n",
      "[ERROR 01-07 18:50:01] ax.core.observation: Data contains metric MacroF1Activity that has not been added to the experiment. You can either update the `optimization_config` or attach it as a tracking metric using `Experiment.add_tracking_metrics` or `AxClient.add_tracking_metrics`. Ignoring all data for metric MacroF1Activity.\n",
      "NoneType: None\n",
      "[ERROR 01-07 18:50:01] ax.core.observation: Data contains metric activity_accuracy that has not been added to the experiment. You can either update the `optimization_config` or attach it as a tracking metric using `Experiment.add_tracking_metrics` or `AxClient.add_tracking_metrics`. Ignoring all data for metric activity_accuracy.\n",
      "NoneType: None\n",
      "[ERROR 01-07 18:50:01] ax.core.observation: Data contains metric resource_accuracy that has not been added to the experiment. You can either update the `optimization_config` or attach it as a tracking metric using `Experiment.add_tracking_metrics` or `AxClient.add_tracking_metrics`. Ignoring all data for metric resource_accuracy.\n",
      "NoneType: None\n",
      "[ERROR 01-07 18:50:01] ax.core.observation: Data contains metric resource_roles_accuracy that has not been added to the experiment. You can either update the `optimization_config` or attach it as a tracking metric using `Experiment.add_tracking_metrics` or `AxClient.add_tracking_metrics`. Ignoring all data for metric resource_roles_accuracy.\n",
      "NoneType: None\n",
      "[ERROR 01-07 18:50:01] ax.core.observation: Data contains metric MAE_timestamp that has not been added to the experiment. You can either update the `optimization_config` or attach it as a tracking metric using `Experiment.add_tracking_metrics` or `AxClient.add_tracking_metrics`. Ignoring all data for metric MAE_timestamp.\n",
      "NoneType: None\n",
      "[ERROR 01-07 18:50:01] ax.core.observation: Data contains metric MacroF1Activity that has not been added to the experiment. You can either update the `optimization_config` or attach it as a tracking metric using `Experiment.add_tracking_metrics` or `AxClient.add_tracking_metrics`. Ignoring all data for metric MacroF1Activity.\n",
      "NoneType: None\n",
      "[ERROR 01-07 18:50:01] ax.core.observation: Data contains metric activity_accuracy that has not been added to the experiment. You can either update the `optimization_config` or attach it as a tracking metric using `Experiment.add_tracking_metrics` or `AxClient.add_tracking_metrics`. Ignoring all data for metric activity_accuracy.\n",
      "NoneType: None\n",
      "[ERROR 01-07 18:50:01] ax.core.observation: Data contains metric resource_accuracy that has not been added to the experiment. You can either update the `optimization_config` or attach it as a tracking metric using `Experiment.add_tracking_metrics` or `AxClient.add_tracking_metrics`. Ignoring all data for metric resource_accuracy.\n",
      "NoneType: None\n",
      "[ERROR 01-07 18:50:01] ax.core.observation: Data contains metric resource_roles_accuracy that has not been added to the experiment. You can either update the `optimization_config` or attach it as a tracking metric using `Experiment.add_tracking_metrics` or `AxClient.add_tracking_metrics`. Ignoring all data for metric resource_roles_accuracy.\n",
      "NoneType: None\n",
      "[ERROR 01-07 18:50:01] ax.core.observation: Data contains metric MAE_timestamp that has not been added to the experiment. You can either update the `optimization_config` or attach it as a tracking metric using `Experiment.add_tracking_metrics` or `AxClient.add_tracking_metrics`. Ignoring all data for metric MAE_timestamp.\n",
      "NoneType: None\n",
      "[ERROR 01-07 18:50:01] ax.core.observation: Data contains metric MacroF1Activity that has not been added to the experiment. You can either update the `optimization_config` or attach it as a tracking metric using `Experiment.add_tracking_metrics` or `AxClient.add_tracking_metrics`. Ignoring all data for metric MacroF1Activity.\n",
      "NoneType: None\n",
      "[ERROR 01-07 18:50:01] ax.core.observation: Data contains metric activity_accuracy that has not been added to the experiment. You can either update the `optimization_config` or attach it as a tracking metric using `Experiment.add_tracking_metrics` or `AxClient.add_tracking_metrics`. Ignoring all data for metric activity_accuracy.\n",
      "NoneType: None\n",
      "[ERROR 01-07 18:50:01] ax.core.observation: Data contains metric resource_accuracy that has not been added to the experiment. You can either update the `optimization_config` or attach it as a tracking metric using `Experiment.add_tracking_metrics` or `AxClient.add_tracking_metrics`. Ignoring all data for metric resource_accuracy.\n",
      "NoneType: None\n",
      "[ERROR 01-07 18:50:01] ax.core.observation: Data contains metric resource_roles_accuracy that has not been added to the experiment. You can either update the `optimization_config` or attach it as a tracking metric using `Experiment.add_tracking_metrics` or `AxClient.add_tracking_metrics`. Ignoring all data for metric resource_roles_accuracy.\n",
      "NoneType: None\n",
      "[ERROR 01-07 18:50:01] ax.core.observation: Data contains metric MAE_timestamp that has not been added to the experiment. You can either update the `optimization_config` or attach it as a tracking metric using `Experiment.add_tracking_metrics` or `AxClient.add_tracking_metrics`. Ignoring all data for metric MAE_timestamp.\n",
      "NoneType: None\n",
      "[ERROR 01-07 18:50:01] ax.core.observation: Data contains metric MacroF1Activity that has not been added to the experiment. You can either update the `optimization_config` or attach it as a tracking metric using `Experiment.add_tracking_metrics` or `AxClient.add_tracking_metrics`. Ignoring all data for metric MacroF1Activity.\n",
      "NoneType: None\n",
      "[ERROR 01-07 18:50:01] ax.core.observation: Data contains metric activity_accuracy that has not been added to the experiment. You can either update the `optimization_config` or attach it as a tracking metric using `Experiment.add_tracking_metrics` or `AxClient.add_tracking_metrics`. Ignoring all data for metric activity_accuracy.\n",
      "NoneType: None\n",
      "[ERROR 01-07 18:50:01] ax.core.observation: Data contains metric resource_accuracy that has not been added to the experiment. You can either update the `optimization_config` or attach it as a tracking metric using `Experiment.add_tracking_metrics` or `AxClient.add_tracking_metrics`. Ignoring all data for metric resource_accuracy.\n",
      "NoneType: None\n",
      "[ERROR 01-07 18:50:01] ax.core.observation: Data contains metric resource_roles_accuracy that has not been added to the experiment. You can either update the `optimization_config` or attach it as a tracking metric using `Experiment.add_tracking_metrics` or `AxClient.add_tracking_metrics`. Ignoring all data for metric resource_roles_accuracy.\n",
      "NoneType: None\n",
      "[ERROR 01-07 18:50:01] ax.core.observation: Data contains metric MAE_timestamp that has not been added to the experiment. You can either update the `optimization_config` or attach it as a tracking metric using `Experiment.add_tracking_metrics` or `AxClient.add_tracking_metrics`. Ignoring all data for metric MAE_timestamp.\n",
      "NoneType: None\n",
      "[ERROR 01-07 18:50:01] ax.core.observation: Data contains metric MacroF1Activity that has not been added to the experiment. You can either update the `optimization_config` or attach it as a tracking metric using `Experiment.add_tracking_metrics` or `AxClient.add_tracking_metrics`. Ignoring all data for metric MacroF1Activity.\n",
      "NoneType: None\n",
      "[ERROR 01-07 18:50:01] ax.core.observation: Data contains metric activity_accuracy that has not been added to the experiment. You can either update the `optimization_config` or attach it as a tracking metric using `Experiment.add_tracking_metrics` or `AxClient.add_tracking_metrics`. Ignoring all data for metric activity_accuracy.\n",
      "NoneType: None\n",
      "[ERROR 01-07 18:50:01] ax.core.observation: Data contains metric resource_accuracy that has not been added to the experiment. You can either update the `optimization_config` or attach it as a tracking metric using `Experiment.add_tracking_metrics` or `AxClient.add_tracking_metrics`. Ignoring all data for metric resource_accuracy.\n",
      "NoneType: None\n",
      "[ERROR 01-07 18:50:01] ax.core.observation: Data contains metric resource_roles_accuracy that has not been added to the experiment. You can either update the `optimization_config` or attach it as a tracking metric using `Experiment.add_tracking_metrics` or `AxClient.add_tracking_metrics`. Ignoring all data for metric resource_roles_accuracy.\n",
      "NoneType: None\n",
      "[ERROR 01-07 18:50:01] ax.core.observation: Data contains metric MAE_timestamp that has not been added to the experiment. You can either update the `optimization_config` or attach it as a tracking metric using `Experiment.add_tracking_metrics` or `AxClient.add_tracking_metrics`. Ignoring all data for metric MAE_timestamp.\n",
      "NoneType: None\n",
      "[ERROR 01-07 18:50:01] ax.core.observation: Data contains metric MacroF1Activity that has not been added to the experiment. You can either update the `optimization_config` or attach it as a tracking metric using `Experiment.add_tracking_metrics` or `AxClient.add_tracking_metrics`. Ignoring all data for metric MacroF1Activity.\n",
      "NoneType: None\n",
      "[ERROR 01-07 18:50:01] ax.core.observation: Data contains metric activity_accuracy that has not been added to the experiment. You can either update the `optimization_config` or attach it as a tracking metric using `Experiment.add_tracking_metrics` or `AxClient.add_tracking_metrics`. Ignoring all data for metric activity_accuracy.\n",
      "NoneType: None\n",
      "[ERROR 01-07 18:50:01] ax.core.observation: Data contains metric resource_accuracy that has not been added to the experiment. You can either update the `optimization_config` or attach it as a tracking metric using `Experiment.add_tracking_metrics` or `AxClient.add_tracking_metrics`. Ignoring all data for metric resource_accuracy.\n",
      "NoneType: None\n",
      "[ERROR 01-07 18:50:01] ax.core.observation: Data contains metric resource_roles_accuracy that has not been added to the experiment. You can either update the `optimization_config` or attach it as a tracking metric using `Experiment.add_tracking_metrics` or `AxClient.add_tracking_metrics`. Ignoring all data for metric resource_roles_accuracy.\n",
      "NoneType: None\n",
      "[ERROR 01-07 18:50:01] ax.core.observation: Data contains metric MAE_timestamp that has not been added to the experiment. You can either update the `optimization_config` or attach it as a tracking metric using `Experiment.add_tracking_metrics` or `AxClient.add_tracking_metrics`. Ignoring all data for metric MAE_timestamp.\n",
      "NoneType: None\n",
      "[ERROR 01-07 18:50:01] ax.core.observation: Data contains metric MacroF1Activity that has not been added to the experiment. You can either update the `optimization_config` or attach it as a tracking metric using `Experiment.add_tracking_metrics` or `AxClient.add_tracking_metrics`. Ignoring all data for metric MacroF1Activity.\n",
      "NoneType: None\n",
      "[ERROR 01-07 18:50:01] ax.core.observation: Data contains metric activity_accuracy that has not been added to the experiment. You can either update the `optimization_config` or attach it as a tracking metric using `Experiment.add_tracking_metrics` or `AxClient.add_tracking_metrics`. Ignoring all data for metric activity_accuracy.\n",
      "NoneType: None\n",
      "[ERROR 01-07 18:50:01] ax.core.observation: Data contains metric resource_accuracy that has not been added to the experiment. You can either update the `optimization_config` or attach it as a tracking metric using `Experiment.add_tracking_metrics` or `AxClient.add_tracking_metrics`. Ignoring all data for metric resource_accuracy.\n",
      "NoneType: None\n",
      "[ERROR 01-07 18:50:01] ax.core.observation: Data contains metric resource_roles_accuracy that has not been added to the experiment. You can either update the `optimization_config` or attach it as a tracking metric using `Experiment.add_tracking_metrics` or `AxClient.add_tracking_metrics`. Ignoring all data for metric resource_roles_accuracy.\n",
      "NoneType: None\n",
      "[ERROR 01-07 18:50:01] ax.core.observation: Data contains metric MAE_timestamp that has not been added to the experiment. You can either update the `optimization_config` or attach it as a tracking metric using `Experiment.add_tracking_metrics` or `AxClient.add_tracking_metrics`. Ignoring all data for metric MAE_timestamp.\n",
      "NoneType: None\n",
      "[ERROR 01-07 18:50:01] ax.core.observation: Data contains metric MacroF1Activity that has not been added to the experiment. You can either update the `optimization_config` or attach it as a tracking metric using `Experiment.add_tracking_metrics` or `AxClient.add_tracking_metrics`. Ignoring all data for metric MacroF1Activity.\n",
      "NoneType: None\n",
      "[ERROR 01-07 18:50:01] ax.core.observation: Data contains metric activity_accuracy that has not been added to the experiment. You can either update the `optimization_config` or attach it as a tracking metric using `Experiment.add_tracking_metrics` or `AxClient.add_tracking_metrics`. Ignoring all data for metric activity_accuracy.\n",
      "NoneType: None\n",
      "[ERROR 01-07 18:50:01] ax.core.observation: Data contains metric resource_accuracy that has not been added to the experiment. You can either update the `optimization_config` or attach it as a tracking metric using `Experiment.add_tracking_metrics` or `AxClient.add_tracking_metrics`. Ignoring all data for metric resource_accuracy.\n",
      "NoneType: None\n",
      "[ERROR 01-07 18:50:01] ax.core.observation: Data contains metric resource_roles_accuracy that has not been added to the experiment. You can either update the `optimization_config` or attach it as a tracking metric using `Experiment.add_tracking_metrics` or `AxClient.add_tracking_metrics`. Ignoring all data for metric resource_roles_accuracy.\n",
      "NoneType: None\n",
      "[ERROR 01-07 18:50:01] ax.core.observation: Data contains metric MAE_timestamp that has not been added to the experiment. You can either update the `optimization_config` or attach it as a tracking metric using `Experiment.add_tracking_metrics` or `AxClient.add_tracking_metrics`. Ignoring all data for metric MAE_timestamp.\n",
      "NoneType: None\n",
      "[ERROR 01-07 18:50:01] ax.core.observation: Data contains metric MacroF1Activity that has not been added to the experiment. You can either update the `optimization_config` or attach it as a tracking metric using `Experiment.add_tracking_metrics` or `AxClient.add_tracking_metrics`. Ignoring all data for metric MacroF1Activity.\n",
      "NoneType: None\n",
      "[ERROR 01-07 18:50:01] ax.core.observation: Data contains metric activity_accuracy that has not been added to the experiment. You can either update the `optimization_config` or attach it as a tracking metric using `Experiment.add_tracking_metrics` or `AxClient.add_tracking_metrics`. Ignoring all data for metric activity_accuracy.\n",
      "NoneType: None\n",
      "[ERROR 01-07 18:50:01] ax.core.observation: Data contains metric resource_accuracy that has not been added to the experiment. You can either update the `optimization_config` or attach it as a tracking metric using `Experiment.add_tracking_metrics` or `AxClient.add_tracking_metrics`. Ignoring all data for metric resource_accuracy.\n",
      "NoneType: None\n",
      "[ERROR 01-07 18:50:01] ax.core.observation: Data contains metric resource_roles_accuracy that has not been added to the experiment. You can either update the `optimization_config` or attach it as a tracking metric using `Experiment.add_tracking_metrics` or `AxClient.add_tracking_metrics`. Ignoring all data for metric resource_roles_accuracy.\n",
      "NoneType: None\n",
      "[ERROR 01-07 18:50:01] ax.core.observation: Data contains metric MAE_timestamp that has not been added to the experiment. You can either update the `optimization_config` or attach it as a tracking metric using `Experiment.add_tracking_metrics` or `AxClient.add_tracking_metrics`. Ignoring all data for metric MAE_timestamp.\n",
      "NoneType: None\n",
      "[ERROR 01-07 18:50:01] ax.core.observation: Data contains metric MacroF1Activity that has not been added to the experiment. You can either update the `optimization_config` or attach it as a tracking metric using `Experiment.add_tracking_metrics` or `AxClient.add_tracking_metrics`. Ignoring all data for metric MacroF1Activity.\n",
      "NoneType: None\n",
      "[ERROR 01-07 18:50:01] ax.core.observation: Data contains metric activity_accuracy that has not been added to the experiment. You can either update the `optimization_config` or attach it as a tracking metric using `Experiment.add_tracking_metrics` or `AxClient.add_tracking_metrics`. Ignoring all data for metric activity_accuracy.\n",
      "NoneType: None\n",
      "[ERROR 01-07 18:50:01] ax.core.observation: Data contains metric resource_accuracy that has not been added to the experiment. You can either update the `optimization_config` or attach it as a tracking metric using `Experiment.add_tracking_metrics` or `AxClient.add_tracking_metrics`. Ignoring all data for metric resource_accuracy.\n",
      "NoneType: None\n",
      "[ERROR 01-07 18:50:01] ax.core.observation: Data contains metric resource_roles_accuracy that has not been added to the experiment. You can either update the `optimization_config` or attach it as a tracking metric using `Experiment.add_tracking_metrics` or `AxClient.add_tracking_metrics`. Ignoring all data for metric resource_roles_accuracy.\n",
      "NoneType: None\n",
      "[ERROR 01-07 18:50:01] ax.core.observation: Data contains metric MAE_timestamp that has not been added to the experiment. You can either update the `optimization_config` or attach it as a tracking metric using `Experiment.add_tracking_metrics` or `AxClient.add_tracking_metrics`. Ignoring all data for metric MAE_timestamp.\n",
      "NoneType: None\n",
      "[ERROR 01-07 18:50:01] ax.core.observation: Data contains metric MacroF1Activity that has not been added to the experiment. You can either update the `optimization_config` or attach it as a tracking metric using `Experiment.add_tracking_metrics` or `AxClient.add_tracking_metrics`. Ignoring all data for metric MacroF1Activity.\n",
      "NoneType: None\n",
      "[ERROR 01-07 18:50:01] ax.core.observation: Data contains metric activity_accuracy that has not been added to the experiment. You can either update the `optimization_config` or attach it as a tracking metric using `Experiment.add_tracking_metrics` or `AxClient.add_tracking_metrics`. Ignoring all data for metric activity_accuracy.\n",
      "NoneType: None\n",
      "[ERROR 01-07 18:50:01] ax.core.observation: Data contains metric resource_accuracy that has not been added to the experiment. You can either update the `optimization_config` or attach it as a tracking metric using `Experiment.add_tracking_metrics` or `AxClient.add_tracking_metrics`. Ignoring all data for metric resource_accuracy.\n",
      "NoneType: None\n",
      "[ERROR 01-07 18:50:01] ax.core.observation: Data contains metric resource_roles_accuracy that has not been added to the experiment. You can either update the `optimization_config` or attach it as a tracking metric using `Experiment.add_tracking_metrics` or `AxClient.add_tracking_metrics`. Ignoring all data for metric resource_roles_accuracy.\n",
      "NoneType: None\n",
      "[ERROR 01-07 18:50:01] ax.core.observation: Data contains metric MAE_timestamp that has not been added to the experiment. You can either update the `optimization_config` or attach it as a tracking metric using `Experiment.add_tracking_metrics` or `AxClient.add_tracking_metrics`. Ignoring all data for metric MAE_timestamp.\n",
      "NoneType: None\n",
      "[ERROR 01-07 18:50:01] ax.core.observation: Data contains metric MacroF1Activity that has not been added to the experiment. You can either update the `optimization_config` or attach it as a tracking metric using `Experiment.add_tracking_metrics` or `AxClient.add_tracking_metrics`. Ignoring all data for metric MacroF1Activity.\n",
      "NoneType: None\n",
      "[ERROR 01-07 18:50:01] ax.core.observation: Data contains metric activity_accuracy that has not been added to the experiment. You can either update the `optimization_config` or attach it as a tracking metric using `Experiment.add_tracking_metrics` or `AxClient.add_tracking_metrics`. Ignoring all data for metric activity_accuracy.\n",
      "NoneType: None\n",
      "[ERROR 01-07 18:50:01] ax.core.observation: Data contains metric resource_accuracy that has not been added to the experiment. You can either update the `optimization_config` or attach it as a tracking metric using `Experiment.add_tracking_metrics` or `AxClient.add_tracking_metrics`. Ignoring all data for metric resource_accuracy.\n",
      "NoneType: None\n",
      "[ERROR 01-07 18:50:01] ax.core.observation: Data contains metric resource_roles_accuracy that has not been added to the experiment. You can either update the `optimization_config` or attach it as a tracking metric using `Experiment.add_tracking_metrics` or `AxClient.add_tracking_metrics`. Ignoring all data for metric resource_roles_accuracy.\n",
      "NoneType: None\n",
      "[ERROR 01-07 18:50:01] ax.core.observation: Data contains metric MAE_timestamp that has not been added to the experiment. You can either update the `optimization_config` or attach it as a tracking metric using `Experiment.add_tracking_metrics` or `AxClient.add_tracking_metrics`. Ignoring all data for metric MAE_timestamp.\n",
      "NoneType: None\n",
      "[ERROR 01-07 18:50:01] ax.core.observation: Data contains metric MacroF1Activity that has not been added to the experiment. You can either update the `optimization_config` or attach it as a tracking metric using `Experiment.add_tracking_metrics` or `AxClient.add_tracking_metrics`. Ignoring all data for metric MacroF1Activity.\n",
      "NoneType: None\n",
      "[ERROR 01-07 18:50:01] ax.core.observation: Data contains metric activity_accuracy that has not been added to the experiment. You can either update the `optimization_config` or attach it as a tracking metric using `Experiment.add_tracking_metrics` or `AxClient.add_tracking_metrics`. Ignoring all data for metric activity_accuracy.\n",
      "NoneType: None\n",
      "[ERROR 01-07 18:50:01] ax.core.observation: Data contains metric resource_accuracy that has not been added to the experiment. You can either update the `optimization_config` or attach it as a tracking metric using `Experiment.add_tracking_metrics` or `AxClient.add_tracking_metrics`. Ignoring all data for metric resource_accuracy.\n",
      "NoneType: None\n",
      "[ERROR 01-07 18:50:01] ax.core.observation: Data contains metric resource_roles_accuracy that has not been added to the experiment. You can either update the `optimization_config` or attach it as a tracking metric using `Experiment.add_tracking_metrics` or `AxClient.add_tracking_metrics`. Ignoring all data for metric resource_roles_accuracy.\n",
      "NoneType: None\n",
      "[ERROR 01-07 18:50:01] ax.core.observation: Data contains metric MAE_timestamp that has not been added to the experiment. You can either update the `optimization_config` or attach it as a tracking metric using `Experiment.add_tracking_metrics` or `AxClient.add_tracking_metrics`. Ignoring all data for metric MAE_timestamp.\n",
      "NoneType: None\n",
      "[ERROR 01-07 18:50:01] ax.core.observation: Data contains metric MacroF1Activity that has not been added to the experiment. You can either update the `optimization_config` or attach it as a tracking metric using `Experiment.add_tracking_metrics` or `AxClient.add_tracking_metrics`. Ignoring all data for metric MacroF1Activity.\n",
      "NoneType: None\n",
      "[ERROR 01-07 18:50:01] ax.core.observation: Data contains metric activity_accuracy that has not been added to the experiment. You can either update the `optimization_config` or attach it as a tracking metric using `Experiment.add_tracking_metrics` or `AxClient.add_tracking_metrics`. Ignoring all data for metric activity_accuracy.\n",
      "NoneType: None\n",
      "[ERROR 01-07 18:50:01] ax.core.observation: Data contains metric resource_accuracy that has not been added to the experiment. You can either update the `optimization_config` or attach it as a tracking metric using `Experiment.add_tracking_metrics` or `AxClient.add_tracking_metrics`. Ignoring all data for metric resource_accuracy.\n",
      "NoneType: None\n",
      "[ERROR 01-07 18:50:01] ax.core.observation: Data contains metric resource_roles_accuracy that has not been added to the experiment. You can either update the `optimization_config` or attach it as a tracking metric using `Experiment.add_tracking_metrics` or `AxClient.add_tracking_metrics`. Ignoring all data for metric resource_roles_accuracy.\n",
      "NoneType: None\n",
      "[ERROR 01-07 18:50:01] ax.core.observation: Data contains metric MAE_timestamp that has not been added to the experiment. You can either update the `optimization_config` or attach it as a tracking metric using `Experiment.add_tracking_metrics` or `AxClient.add_tracking_metrics`. Ignoring all data for metric MAE_timestamp.\n",
      "NoneType: None\n",
      "[ERROR 01-07 18:50:01] ax.core.observation: Data contains metric MacroF1Activity that has not been added to the experiment. You can either update the `optimization_config` or attach it as a tracking metric using `Experiment.add_tracking_metrics` or `AxClient.add_tracking_metrics`. Ignoring all data for metric MacroF1Activity.\n",
      "NoneType: None\n",
      "[ERROR 01-07 18:50:01] ax.core.observation: Data contains metric activity_accuracy that has not been added to the experiment. You can either update the `optimization_config` or attach it as a tracking metric using `Experiment.add_tracking_metrics` or `AxClient.add_tracking_metrics`. Ignoring all data for metric activity_accuracy.\n",
      "NoneType: None\n",
      "[ERROR 01-07 18:50:01] ax.core.observation: Data contains metric resource_accuracy that has not been added to the experiment. You can either update the `optimization_config` or attach it as a tracking metric using `Experiment.add_tracking_metrics` or `AxClient.add_tracking_metrics`. Ignoring all data for metric resource_accuracy.\n",
      "NoneType: None\n",
      "[ERROR 01-07 18:50:01] ax.core.observation: Data contains metric resource_roles_accuracy that has not been added to the experiment. You can either update the `optimization_config` or attach it as a tracking metric using `Experiment.add_tracking_metrics` or `AxClient.add_tracking_metrics`. Ignoring all data for metric resource_roles_accuracy.\n",
      "NoneType: None\n",
      "[ERROR 01-07 18:50:01] ax.core.observation: Data contains metric MAE_timestamp that has not been added to the experiment. You can either update the `optimization_config` or attach it as a tracking metric using `Experiment.add_tracking_metrics` or `AxClient.add_tracking_metrics`. Ignoring all data for metric MAE_timestamp.\n",
      "NoneType: None\n",
      "[ERROR 01-07 18:50:01] ax.core.observation: Data contains metric MacroF1Activity that has not been added to the experiment. You can either update the `optimization_config` or attach it as a tracking metric using `Experiment.add_tracking_metrics` or `AxClient.add_tracking_metrics`. Ignoring all data for metric MacroF1Activity.\n",
      "NoneType: None\n",
      "[ERROR 01-07 18:50:01] ax.core.observation: Data contains metric activity_accuracy that has not been added to the experiment. You can either update the `optimization_config` or attach it as a tracking metric using `Experiment.add_tracking_metrics` or `AxClient.add_tracking_metrics`. Ignoring all data for metric activity_accuracy.\n",
      "NoneType: None\n",
      "[ERROR 01-07 18:50:01] ax.core.observation: Data contains metric resource_accuracy that has not been added to the experiment. You can either update the `optimization_config` or attach it as a tracking metric using `Experiment.add_tracking_metrics` or `AxClient.add_tracking_metrics`. Ignoring all data for metric resource_accuracy.\n",
      "NoneType: None\n",
      "[ERROR 01-07 18:50:01] ax.core.observation: Data contains metric resource_roles_accuracy that has not been added to the experiment. You can either update the `optimization_config` or attach it as a tracking metric using `Experiment.add_tracking_metrics` or `AxClient.add_tracking_metrics`. Ignoring all data for metric resource_roles_accuracy.\n",
      "NoneType: None\n",
      "[ERROR 01-07 18:50:01] ax.core.observation: Data contains metric MAE_timestamp that has not been added to the experiment. You can either update the `optimization_config` or attach it as a tracking metric using `Experiment.add_tracking_metrics` or `AxClient.add_tracking_metrics`. Ignoring all data for metric MAE_timestamp.\n",
      "NoneType: None\n",
      "[ERROR 01-07 18:50:01] ax.core.observation: Data contains metric MacroF1Activity that has not been added to the experiment. You can either update the `optimization_config` or attach it as a tracking metric using `Experiment.add_tracking_metrics` or `AxClient.add_tracking_metrics`. Ignoring all data for metric MacroF1Activity.\n",
      "NoneType: None\n",
      "[ERROR 01-07 18:50:01] ax.core.observation: Data contains metric activity_accuracy that has not been added to the experiment. You can either update the `optimization_config` or attach it as a tracking metric using `Experiment.add_tracking_metrics` or `AxClient.add_tracking_metrics`. Ignoring all data for metric activity_accuracy.\n",
      "NoneType: None\n",
      "[ERROR 01-07 18:50:01] ax.core.observation: Data contains metric resource_accuracy that has not been added to the experiment. You can either update the `optimization_config` or attach it as a tracking metric using `Experiment.add_tracking_metrics` or `AxClient.add_tracking_metrics`. Ignoring all data for metric resource_accuracy.\n",
      "NoneType: None\n",
      "[ERROR 01-07 18:50:01] ax.core.observation: Data contains metric resource_roles_accuracy that has not been added to the experiment. You can either update the `optimization_config` or attach it as a tracking metric using `Experiment.add_tracking_metrics` or `AxClient.add_tracking_metrics`. Ignoring all data for metric resource_roles_accuracy.\n",
      "NoneType: None\n",
      "/home/sebdis/ProcessMining/HGNN/hgnn_env/lib/python3.10/site-packages/linear_operator/utils/cholesky.py:40: NumericalWarning: A not p.d., added jitter of 1.0e-08 to the diagonal\n",
      "  warnings.warn(\n",
      "/home/sebdis/ProcessMining/HGNN/hgnn_env/lib/python3.10/site-packages/botorch/optim/optimize.py:568: RuntimeWarning: Optimization failed in `gen_candidates_scipy` with the following warning(s):\n",
      "[NumericalWarning('A not p.d., added jitter of 1.0e-08 to the diagonal'), NumericalWarning('A not p.d., added jitter of 1.0e-07 to the diagonal'), NumericalWarning('A not p.d., added jitter of 1.0e-06 to the diagonal'), NumericalWarning('A not p.d., added jitter of 1.0e-05 to the diagonal'), NumericalWarning('A not p.d., added jitter of 1.0e-04 to the diagonal'), NumericalWarning('A not p.d., added jitter of 1.0e-03 to the diagonal'), BotorchWarning('Low-rank cholesky updates failed due NaNs or due to an ill-conditioned covariance matrix. Falling back to standard sampling.'), NumericalWarning('A not p.d., added jitter of 1.0e-08 to the diagonal'), NumericalWarning('A not p.d., added jitter of 1.0e-07 to the diagonal'), NumericalWarning('A not p.d., added jitter of 1.0e-06 to the diagonal'), NumericalWarning('A not p.d., added jitter of 1.0e-05 to the diagonal'), NumericalWarning('A not p.d., added jitter of 1.0e-04 to the diagonal'), NumericalWarning('A not p.d., added jitter of 1.0e-03 to the diagonal'), BotorchWarning('Low-rank cholesky updates failed due NaNs or due to an ill-conditioned covariance matrix. Falling back to standard sampling.'), OptimizationWarning('Optimization failed within `scipy.optimize.minimize` with status 2 and message ABNORMAL_TERMINATION_IN_LNSRCH.'), NumericalWarning('A not p.d., added jitter of 1.0e-08 to the diagonal'), NumericalWarning('A not p.d., added jitter of 1.0e-07 to the diagonal'), NumericalWarning('A not p.d., added jitter of 1.0e-06 to the diagonal'), NumericalWarning('A not p.d., added jitter of 1.0e-05 to the diagonal'), NumericalWarning('A not p.d., added jitter of 1.0e-04 to the diagonal'), NumericalWarning('A not p.d., added jitter of 1.0e-03 to the diagonal'), BotorchWarning('Low-rank cholesky updates failed due NaNs or due to an ill-conditioned covariance matrix. Falling back to standard sampling.')]\n",
      "Trying again with a new set of initial conditions.\n",
      "  return _optimize_acqf_batch(opt_inputs=opt_inputs)\n",
      "/home/sebdis/ProcessMining/HGNN/hgnn_env/lib/python3.10/site-packages/botorch/optim/optimize.py:568: RuntimeWarning: Optimization failed on the second try, after generating a new set of initial conditions.\n",
      "  return _optimize_acqf_batch(opt_inputs=opt_inputs)\n",
      "/home/sebdis/ProcessMining/HGNN/hgnn_env/lib/python3.10/site-packages/linear_operator/utils/cholesky.py:40: NumericalWarning: A not p.d., added jitter of 1.0e-08 to the diagonal\n",
      "  warnings.warn(\n"
     ]
    },
    {
     "name": "stdout",
     "output_type": "stream",
     "text": [
      "{'lr': 0.004672183523595577, 'batch_size': 256, 'heads': 1, 'hid': 128, 'layers': 2, 'aggregation': 'max'}\n",
      "Epoch: 0\n",
      "\n"
     ]
    },
    {
     "name": "stderr",
     "output_type": "stream",
     "text": [
      "WARNING:root:Warning: Some classes do not exist in the target. F1 scores for these classes will be cast to zeros.\n"
     ]
    },
    {
     "name": "stdout",
     "output_type": "stream",
     "text": [
      "\n",
      "VALIDATION\n",
      "ACTIVITY: acc 0.6557 MacroF1 0.6143\n",
      "TIMESTAMP: MAE 0.2968\n",
      "RESOURCE: acc 0.4036\n",
      "RESOURCE_ROLE: acc 0.7848\n",
      "TOTAL_LOSS: 4.2359\n",
      "epoch time 15.079951524734497s\n",
      "\n",
      "Epoch: 1\n",
      "\n"
     ]
    },
    {
     "name": "stderr",
     "output_type": "stream",
     "text": [
      "WARNING:root:Warning: Some classes do not exist in the target. F1 scores for these classes will be cast to zeros.\n"
     ]
    },
    {
     "name": "stdout",
     "output_type": "stream",
     "text": [
      "\n",
      "VALIDATION\n",
      "ACTIVITY: acc 0.6546 MacroF1 0.6061\n",
      "TIMESTAMP: MAE 0.0825\n",
      "RESOURCE: acc 0.4476\n",
      "RESOURCE_ROLE: acc 0.7850\n",
      "TOTAL_LOSS: 3.7572\n",
      "epoch time 14.890356540679932s\n",
      "\n",
      "new best model found\n",
      "Epoch: 2\n",
      "\n"
     ]
    },
    {
     "name": "stderr",
     "output_type": "stream",
     "text": [
      "WARNING:root:Warning: Some classes do not exist in the target. F1 scores for these classes will be cast to zeros.\n"
     ]
    },
    {
     "name": "stdout",
     "output_type": "stream",
     "text": [
      "\n",
      "VALIDATION\n",
      "ACTIVITY: acc 0.6552 MacroF1 0.6043\n",
      "TIMESTAMP: MAE 0.2155\n",
      "RESOURCE: acc 0.5115\n",
      "RESOURCE_ROLE: acc 0.7327\n",
      "TOTAL_LOSS: 3.6933\n",
      "epoch time 14.861649513244629s\n",
      "\n",
      "new best model found\n",
      "Epoch: 3\n",
      "\n"
     ]
    },
    {
     "name": "stderr",
     "output_type": "stream",
     "text": [
      "WARNING:root:Warning: Some classes do not exist in the target. F1 scores for these classes will be cast to zeros.\n"
     ]
    },
    {
     "name": "stdout",
     "output_type": "stream",
     "text": [
      "\n",
      "VALIDATION\n",
      "ACTIVITY: acc 0.6588 MacroF1 0.6179\n",
      "TIMESTAMP: MAE 0.2865\n",
      "RESOURCE: acc 0.5217\n",
      "RESOURCE_ROLE: acc 0.7862\n",
      "TOTAL_LOSS: 3.6441\n",
      "epoch time 14.796905994415283s\n",
      "\n",
      "new best model found\n",
      "Epoch: 4\n",
      "\n"
     ]
    },
    {
     "name": "stderr",
     "output_type": "stream",
     "text": [
      "WARNING:root:Warning: Some classes do not exist in the target. F1 scores for these classes will be cast to zeros.\n"
     ]
    },
    {
     "name": "stdout",
     "output_type": "stream",
     "text": [
      "\n",
      "VALIDATION\n",
      "ACTIVITY: acc 0.6629 MacroF1 0.6641\n",
      "TIMESTAMP: MAE 0.1301\n",
      "RESOURCE: acc 0.5225\n",
      "RESOURCE_ROLE: acc 0.7862\n",
      "TOTAL_LOSS: 3.4346\n",
      "epoch time 14.931292057037354s\n",
      "\n",
      "new best model found\n",
      "Epoch: 5\n",
      "\n"
     ]
    },
    {
     "name": "stderr",
     "output_type": "stream",
     "text": [
      "WARNING:root:Warning: Some classes do not exist in the target. F1 scores for these classes will be cast to zeros.\n"
     ]
    },
    {
     "name": "stdout",
     "output_type": "stream",
     "text": [
      "\n",
      "VALIDATION\n",
      "ACTIVITY: acc 0.6726 MacroF1 0.6459\n",
      "TIMESTAMP: MAE 0.4420\n",
      "RESOURCE: acc 0.5388\n",
      "RESOURCE_ROLE: acc 0.7860\n",
      "TOTAL_LOSS: 3.7588\n",
      "epoch time 15.102972984313965s\n",
      "\n",
      "Epoch: 6\n",
      "\n"
     ]
    },
    {
     "name": "stderr",
     "output_type": "stream",
     "text": [
      "WARNING:root:Warning: Some classes do not exist in the target. F1 scores for these classes will be cast to zeros.\n"
     ]
    },
    {
     "name": "stdout",
     "output_type": "stream",
     "text": [
      "\n",
      "VALIDATION\n",
      "ACTIVITY: acc 0.6643 MacroF1 0.6209\n",
      "TIMESTAMP: MAE 0.3651\n",
      "RESOURCE: acc 0.5363\n",
      "RESOURCE_ROLE: acc 0.7860\n",
      "TOTAL_LOSS: 3.6516\n",
      "epoch time 15.006103992462158s\n",
      "\n",
      "Epoch: 7\n",
      "\n"
     ]
    },
    {
     "name": "stderr",
     "output_type": "stream",
     "text": [
      "WARNING:root:Warning: Some classes do not exist in the target. F1 scores for these classes will be cast to zeros.\n"
     ]
    },
    {
     "name": "stdout",
     "output_type": "stream",
     "text": [
      "\n",
      "VALIDATION\n",
      "ACTIVITY: acc 0.6506 MacroF1 0.5987\n",
      "TIMESTAMP: MAE 0.2672\n",
      "RESOURCE: acc 0.5333\n",
      "RESOURCE_ROLE: acc 0.7862\n",
      "TOTAL_LOSS: 3.5407\n",
      "epoch time 14.557669401168823s\n",
      "\n",
      "Epoch: 8\n",
      "\n"
     ]
    },
    {
     "name": "stderr",
     "output_type": "stream",
     "text": [
      "WARNING:root:Warning: Some classes do not exist in the target. F1 scores for these classes will be cast to zeros.\n"
     ]
    },
    {
     "name": "stdout",
     "output_type": "stream",
     "text": [
      "\n",
      "VALIDATION\n",
      "ACTIVITY: acc 0.6478 MacroF1 0.5812\n",
      "TIMESTAMP: MAE 0.4636\n",
      "RESOURCE: acc 0.5371\n",
      "RESOURCE_ROLE: acc 0.7862\n",
      "TOTAL_LOSS: 3.7179\n",
      "epoch time 14.59490156173706s\n",
      "\n",
      "Epoch: 9\n",
      "\n"
     ]
    },
    {
     "name": "stderr",
     "output_type": "stream",
     "text": [
      "WARNING:root:Warning: Some classes do not exist in the target. F1 scores for these classes will be cast to zeros.\n"
     ]
    },
    {
     "name": "stdout",
     "output_type": "stream",
     "text": [
      "\n",
      "VALIDATION\n",
      "ACTIVITY: acc 0.6595 MacroF1 0.6431\n",
      "TIMESTAMP: MAE 0.0803\n",
      "RESOURCE: acc 0.5359\n",
      "RESOURCE_ROLE: acc 0.7860\n",
      "TOTAL_LOSS: 3.3411\n",
      "epoch time 14.737231016159058s\n",
      "\n",
      "new best model found\n",
      "Epoch: 10\n",
      "\n"
     ]
    },
    {
     "name": "stderr",
     "output_type": "stream",
     "text": [
      "WARNING:root:Warning: Some classes do not exist in the target. F1 scores for these classes will be cast to zeros.\n"
     ]
    },
    {
     "name": "stdout",
     "output_type": "stream",
     "text": [
      "\n",
      "VALIDATION\n",
      "ACTIVITY: acc 0.6544 MacroF1 0.6067\n",
      "TIMESTAMP: MAE 0.1942\n",
      "RESOURCE: acc 0.5433\n",
      "RESOURCE_ROLE: acc 0.7860\n",
      "TOTAL_LOSS: 3.4846\n",
      "epoch time 14.794291257858276s\n",
      "\n",
      "Epoch: 11\n",
      "\n"
     ]
    },
    {
     "name": "stderr",
     "output_type": "stream",
     "text": [
      "WARNING:root:Warning: Some classes do not exist in the target. F1 scores for these classes will be cast to zeros.\n"
     ]
    },
    {
     "name": "stdout",
     "output_type": "stream",
     "text": [
      "\n",
      "VALIDATION\n",
      "ACTIVITY: acc 0.6576 MacroF1 0.6084\n",
      "TIMESTAMP: MAE 0.1231\n",
      "RESOURCE: acc 0.5359\n",
      "RESOURCE_ROLE: acc 0.7862\n",
      "TOTAL_LOSS: 3.3786\n",
      "epoch time 14.575770616531372s\n",
      "\n",
      "Epoch: 12\n",
      "\n"
     ]
    },
    {
     "name": "stderr",
     "output_type": "stream",
     "text": [
      "WARNING:root:Warning: Some classes do not exist in the target. F1 scores for these classes will be cast to zeros.\n"
     ]
    },
    {
     "name": "stdout",
     "output_type": "stream",
     "text": [
      "\n",
      "VALIDATION\n",
      "ACTIVITY: acc 0.6646 MacroF1 0.6229\n",
      "TIMESTAMP: MAE 0.1096\n",
      "RESOURCE: acc 0.5354\n",
      "RESOURCE_ROLE: acc 0.7860\n",
      "TOTAL_LOSS: 3.3879\n",
      "epoch time 14.522538423538208s\n",
      "\n",
      "Epoch: 13\n",
      "\n"
     ]
    },
    {
     "name": "stderr",
     "output_type": "stream",
     "text": [
      "WARNING:root:Warning: Some classes do not exist in the target. F1 scores for these classes will be cast to zeros.\n"
     ]
    },
    {
     "name": "stdout",
     "output_type": "stream",
     "text": [
      "\n",
      "VALIDATION\n",
      "ACTIVITY: acc 0.6707 MacroF1 0.6354\n",
      "TIMESTAMP: MAE 0.1500\n",
      "RESOURCE: acc 0.5380\n",
      "RESOURCE_ROLE: acc 0.7860\n",
      "TOTAL_LOSS: 3.3905\n",
      "epoch time 14.358592510223389s\n",
      "\n",
      "Epoch: 14\n",
      "\n"
     ]
    },
    {
     "name": "stderr",
     "output_type": "stream",
     "text": [
      "WARNING:root:Warning: Some classes do not exist in the target. F1 scores for these classes will be cast to zeros.\n"
     ]
    },
    {
     "name": "stdout",
     "output_type": "stream",
     "text": [
      "\n",
      "VALIDATION\n",
      "ACTIVITY: acc 0.6671 MacroF1 0.6235\n",
      "TIMESTAMP: MAE 0.3775\n",
      "RESOURCE: acc 0.5380\n",
      "RESOURCE_ROLE: acc 0.7860\n",
      "TOTAL_LOSS: 3.6397\n",
      "epoch time 14.491517066955566s\n",
      "\n",
      "Validation performance didn't improve for 5 epochs. Training stops.\n"
     ]
    },
    {
     "name": "stderr",
     "output_type": "stream",
     "text": [
      "WARNING:root:Warning: Some classes do not exist in the target. F1 scores for these classes will be cast to zeros.\n",
      "[INFO 01-07 18:53:55] ax.core.experiment: Attached data has some metrics ({'activity_accuracy', 'MAE_timestamp', 'resource_roles_accuracy', 'MacroF1Activity', 'resource_accuracy'}) that are not among the metrics on this experiment. Note that attaching data will not automatically add those metrics to the experiment. For these metrics to be automatically fetched by `experiment.fetch_data`, add them via `experiment.add_tracking_metric` or update the experiment's optimization config.\n",
      "[ERROR 01-07 18:53:55] ax.core.observation: Data contains metric MAE_timestamp that has not been added to the experiment. You can either update the `optimization_config` or attach it as a tracking metric using `Experiment.add_tracking_metrics` or `AxClient.add_tracking_metrics`. Ignoring all data for metric MAE_timestamp.\n",
      "NoneType: None\n",
      "[ERROR 01-07 18:53:55] ax.core.observation: Data contains metric MacroF1Activity that has not been added to the experiment. You can either update the `optimization_config` or attach it as a tracking metric using `Experiment.add_tracking_metrics` or `AxClient.add_tracking_metrics`. Ignoring all data for metric MacroF1Activity.\n",
      "NoneType: None\n",
      "[ERROR 01-07 18:53:55] ax.core.observation: Data contains metric activity_accuracy that has not been added to the experiment. You can either update the `optimization_config` or attach it as a tracking metric using `Experiment.add_tracking_metrics` or `AxClient.add_tracking_metrics`. Ignoring all data for metric activity_accuracy.\n",
      "NoneType: None\n",
      "[ERROR 01-07 18:53:55] ax.core.observation: Data contains metric resource_accuracy that has not been added to the experiment. You can either update the `optimization_config` or attach it as a tracking metric using `Experiment.add_tracking_metrics` or `AxClient.add_tracking_metrics`. Ignoring all data for metric resource_accuracy.\n",
      "NoneType: None\n",
      "[ERROR 01-07 18:53:55] ax.core.observation: Data contains metric resource_roles_accuracy that has not been added to the experiment. You can either update the `optimization_config` or attach it as a tracking metric using `Experiment.add_tracking_metrics` or `AxClient.add_tracking_metrics`. Ignoring all data for metric resource_roles_accuracy.\n",
      "NoneType: None\n",
      "[ERROR 01-07 18:53:55] ax.core.observation: Data contains metric MAE_timestamp that has not been added to the experiment. You can either update the `optimization_config` or attach it as a tracking metric using `Experiment.add_tracking_metrics` or `AxClient.add_tracking_metrics`. Ignoring all data for metric MAE_timestamp.\n",
      "NoneType: None\n",
      "[ERROR 01-07 18:53:55] ax.core.observation: Data contains metric MacroF1Activity that has not been added to the experiment. You can either update the `optimization_config` or attach it as a tracking metric using `Experiment.add_tracking_metrics` or `AxClient.add_tracking_metrics`. Ignoring all data for metric MacroF1Activity.\n",
      "NoneType: None\n",
      "[ERROR 01-07 18:53:55] ax.core.observation: Data contains metric activity_accuracy that has not been added to the experiment. You can either update the `optimization_config` or attach it as a tracking metric using `Experiment.add_tracking_metrics` or `AxClient.add_tracking_metrics`. Ignoring all data for metric activity_accuracy.\n",
      "NoneType: None\n",
      "[ERROR 01-07 18:53:55] ax.core.observation: Data contains metric resource_accuracy that has not been added to the experiment. You can either update the `optimization_config` or attach it as a tracking metric using `Experiment.add_tracking_metrics` or `AxClient.add_tracking_metrics`. Ignoring all data for metric resource_accuracy.\n",
      "NoneType: None\n",
      "[ERROR 01-07 18:53:55] ax.core.observation: Data contains metric resource_roles_accuracy that has not been added to the experiment. You can either update the `optimization_config` or attach it as a tracking metric using `Experiment.add_tracking_metrics` or `AxClient.add_tracking_metrics`. Ignoring all data for metric resource_roles_accuracy.\n",
      "NoneType: None\n",
      "[ERROR 01-07 18:53:55] ax.core.observation: Data contains metric MAE_timestamp that has not been added to the experiment. You can either update the `optimization_config` or attach it as a tracking metric using `Experiment.add_tracking_metrics` or `AxClient.add_tracking_metrics`. Ignoring all data for metric MAE_timestamp.\n",
      "NoneType: None\n",
      "[ERROR 01-07 18:53:55] ax.core.observation: Data contains metric MacroF1Activity that has not been added to the experiment. You can either update the `optimization_config` or attach it as a tracking metric using `Experiment.add_tracking_metrics` or `AxClient.add_tracking_metrics`. Ignoring all data for metric MacroF1Activity.\n",
      "NoneType: None\n",
      "[ERROR 01-07 18:53:55] ax.core.observation: Data contains metric activity_accuracy that has not been added to the experiment. You can either update the `optimization_config` or attach it as a tracking metric using `Experiment.add_tracking_metrics` or `AxClient.add_tracking_metrics`. Ignoring all data for metric activity_accuracy.\n",
      "NoneType: None\n",
      "[ERROR 01-07 18:53:55] ax.core.observation: Data contains metric resource_accuracy that has not been added to the experiment. You can either update the `optimization_config` or attach it as a tracking metric using `Experiment.add_tracking_metrics` or `AxClient.add_tracking_metrics`. Ignoring all data for metric resource_accuracy.\n",
      "NoneType: None\n",
      "[ERROR 01-07 18:53:55] ax.core.observation: Data contains metric resource_roles_accuracy that has not been added to the experiment. You can either update the `optimization_config` or attach it as a tracking metric using `Experiment.add_tracking_metrics` or `AxClient.add_tracking_metrics`. Ignoring all data for metric resource_roles_accuracy.\n",
      "NoneType: None\n",
      "[ERROR 01-07 18:53:55] ax.core.observation: Data contains metric MAE_timestamp that has not been added to the experiment. You can either update the `optimization_config` or attach it as a tracking metric using `Experiment.add_tracking_metrics` or `AxClient.add_tracking_metrics`. Ignoring all data for metric MAE_timestamp.\n",
      "NoneType: None\n",
      "[ERROR 01-07 18:53:55] ax.core.observation: Data contains metric MacroF1Activity that has not been added to the experiment. You can either update the `optimization_config` or attach it as a tracking metric using `Experiment.add_tracking_metrics` or `AxClient.add_tracking_metrics`. Ignoring all data for metric MacroF1Activity.\n",
      "NoneType: None\n",
      "[ERROR 01-07 18:53:55] ax.core.observation: Data contains metric activity_accuracy that has not been added to the experiment. You can either update the `optimization_config` or attach it as a tracking metric using `Experiment.add_tracking_metrics` or `AxClient.add_tracking_metrics`. Ignoring all data for metric activity_accuracy.\n",
      "NoneType: None\n",
      "[ERROR 01-07 18:53:55] ax.core.observation: Data contains metric resource_accuracy that has not been added to the experiment. You can either update the `optimization_config` or attach it as a tracking metric using `Experiment.add_tracking_metrics` or `AxClient.add_tracking_metrics`. Ignoring all data for metric resource_accuracy.\n",
      "NoneType: None\n",
      "[ERROR 01-07 18:53:55] ax.core.observation: Data contains metric resource_roles_accuracy that has not been added to the experiment. You can either update the `optimization_config` or attach it as a tracking metric using `Experiment.add_tracking_metrics` or `AxClient.add_tracking_metrics`. Ignoring all data for metric resource_roles_accuracy.\n",
      "NoneType: None\n",
      "[ERROR 01-07 18:53:55] ax.core.observation: Data contains metric MAE_timestamp that has not been added to the experiment. You can either update the `optimization_config` or attach it as a tracking metric using `Experiment.add_tracking_metrics` or `AxClient.add_tracking_metrics`. Ignoring all data for metric MAE_timestamp.\n",
      "NoneType: None\n",
      "[ERROR 01-07 18:53:55] ax.core.observation: Data contains metric MacroF1Activity that has not been added to the experiment. You can either update the `optimization_config` or attach it as a tracking metric using `Experiment.add_tracking_metrics` or `AxClient.add_tracking_metrics`. Ignoring all data for metric MacroF1Activity.\n",
      "NoneType: None\n",
      "[ERROR 01-07 18:53:55] ax.core.observation: Data contains metric activity_accuracy that has not been added to the experiment. You can either update the `optimization_config` or attach it as a tracking metric using `Experiment.add_tracking_metrics` or `AxClient.add_tracking_metrics`. Ignoring all data for metric activity_accuracy.\n",
      "NoneType: None\n",
      "[ERROR 01-07 18:53:55] ax.core.observation: Data contains metric resource_accuracy that has not been added to the experiment. You can either update the `optimization_config` or attach it as a tracking metric using `Experiment.add_tracking_metrics` or `AxClient.add_tracking_metrics`. Ignoring all data for metric resource_accuracy.\n",
      "NoneType: None\n",
      "[ERROR 01-07 18:53:55] ax.core.observation: Data contains metric resource_roles_accuracy that has not been added to the experiment. You can either update the `optimization_config` or attach it as a tracking metric using `Experiment.add_tracking_metrics` or `AxClient.add_tracking_metrics`. Ignoring all data for metric resource_roles_accuracy.\n",
      "NoneType: None\n",
      "[ERROR 01-07 18:53:55] ax.core.observation: Data contains metric MAE_timestamp that has not been added to the experiment. You can either update the `optimization_config` or attach it as a tracking metric using `Experiment.add_tracking_metrics` or `AxClient.add_tracking_metrics`. Ignoring all data for metric MAE_timestamp.\n",
      "NoneType: None\n",
      "[ERROR 01-07 18:53:55] ax.core.observation: Data contains metric MacroF1Activity that has not been added to the experiment. You can either update the `optimization_config` or attach it as a tracking metric using `Experiment.add_tracking_metrics` or `AxClient.add_tracking_metrics`. Ignoring all data for metric MacroF1Activity.\n",
      "NoneType: None\n",
      "[ERROR 01-07 18:53:55] ax.core.observation: Data contains metric activity_accuracy that has not been added to the experiment. You can either update the `optimization_config` or attach it as a tracking metric using `Experiment.add_tracking_metrics` or `AxClient.add_tracking_metrics`. Ignoring all data for metric activity_accuracy.\n",
      "NoneType: None\n",
      "[ERROR 01-07 18:53:55] ax.core.observation: Data contains metric resource_accuracy that has not been added to the experiment. You can either update the `optimization_config` or attach it as a tracking metric using `Experiment.add_tracking_metrics` or `AxClient.add_tracking_metrics`. Ignoring all data for metric resource_accuracy.\n",
      "NoneType: None\n",
      "[ERROR 01-07 18:53:55] ax.core.observation: Data contains metric resource_roles_accuracy that has not been added to the experiment. You can either update the `optimization_config` or attach it as a tracking metric using `Experiment.add_tracking_metrics` or `AxClient.add_tracking_metrics`. Ignoring all data for metric resource_roles_accuracy.\n",
      "NoneType: None\n",
      "[ERROR 01-07 18:53:55] ax.core.observation: Data contains metric MAE_timestamp that has not been added to the experiment. You can either update the `optimization_config` or attach it as a tracking metric using `Experiment.add_tracking_metrics` or `AxClient.add_tracking_metrics`. Ignoring all data for metric MAE_timestamp.\n",
      "NoneType: None\n",
      "[ERROR 01-07 18:53:55] ax.core.observation: Data contains metric MacroF1Activity that has not been added to the experiment. You can either update the `optimization_config` or attach it as a tracking metric using `Experiment.add_tracking_metrics` or `AxClient.add_tracking_metrics`. Ignoring all data for metric MacroF1Activity.\n",
      "NoneType: None\n",
      "[ERROR 01-07 18:53:55] ax.core.observation: Data contains metric activity_accuracy that has not been added to the experiment. You can either update the `optimization_config` or attach it as a tracking metric using `Experiment.add_tracking_metrics` or `AxClient.add_tracking_metrics`. Ignoring all data for metric activity_accuracy.\n",
      "NoneType: None\n",
      "[ERROR 01-07 18:53:55] ax.core.observation: Data contains metric resource_accuracy that has not been added to the experiment. You can either update the `optimization_config` or attach it as a tracking metric using `Experiment.add_tracking_metrics` or `AxClient.add_tracking_metrics`. Ignoring all data for metric resource_accuracy.\n",
      "NoneType: None\n",
      "[ERROR 01-07 18:53:55] ax.core.observation: Data contains metric resource_roles_accuracy that has not been added to the experiment. You can either update the `optimization_config` or attach it as a tracking metric using `Experiment.add_tracking_metrics` or `AxClient.add_tracking_metrics`. Ignoring all data for metric resource_roles_accuracy.\n",
      "NoneType: None\n",
      "[ERROR 01-07 18:53:55] ax.core.observation: Data contains metric MAE_timestamp that has not been added to the experiment. You can either update the `optimization_config` or attach it as a tracking metric using `Experiment.add_tracking_metrics` or `AxClient.add_tracking_metrics`. Ignoring all data for metric MAE_timestamp.\n",
      "NoneType: None\n",
      "[ERROR 01-07 18:53:55] ax.core.observation: Data contains metric MacroF1Activity that has not been added to the experiment. You can either update the `optimization_config` or attach it as a tracking metric using `Experiment.add_tracking_metrics` or `AxClient.add_tracking_metrics`. Ignoring all data for metric MacroF1Activity.\n",
      "NoneType: None\n",
      "[ERROR 01-07 18:53:55] ax.core.observation: Data contains metric activity_accuracy that has not been added to the experiment. You can either update the `optimization_config` or attach it as a tracking metric using `Experiment.add_tracking_metrics` or `AxClient.add_tracking_metrics`. Ignoring all data for metric activity_accuracy.\n",
      "NoneType: None\n",
      "[ERROR 01-07 18:53:55] ax.core.observation: Data contains metric resource_accuracy that has not been added to the experiment. You can either update the `optimization_config` or attach it as a tracking metric using `Experiment.add_tracking_metrics` or `AxClient.add_tracking_metrics`. Ignoring all data for metric resource_accuracy.\n",
      "NoneType: None\n",
      "[ERROR 01-07 18:53:55] ax.core.observation: Data contains metric resource_roles_accuracy that has not been added to the experiment. You can either update the `optimization_config` or attach it as a tracking metric using `Experiment.add_tracking_metrics` or `AxClient.add_tracking_metrics`. Ignoring all data for metric resource_roles_accuracy.\n",
      "NoneType: None\n",
      "[ERROR 01-07 18:53:55] ax.core.observation: Data contains metric MAE_timestamp that has not been added to the experiment. You can either update the `optimization_config` or attach it as a tracking metric using `Experiment.add_tracking_metrics` or `AxClient.add_tracking_metrics`. Ignoring all data for metric MAE_timestamp.\n",
      "NoneType: None\n",
      "[ERROR 01-07 18:53:55] ax.core.observation: Data contains metric MacroF1Activity that has not been added to the experiment. You can either update the `optimization_config` or attach it as a tracking metric using `Experiment.add_tracking_metrics` or `AxClient.add_tracking_metrics`. Ignoring all data for metric MacroF1Activity.\n",
      "NoneType: None\n",
      "[ERROR 01-07 18:53:55] ax.core.observation: Data contains metric activity_accuracy that has not been added to the experiment. You can either update the `optimization_config` or attach it as a tracking metric using `Experiment.add_tracking_metrics` or `AxClient.add_tracking_metrics`. Ignoring all data for metric activity_accuracy.\n",
      "NoneType: None\n",
      "[ERROR 01-07 18:53:55] ax.core.observation: Data contains metric resource_accuracy that has not been added to the experiment. You can either update the `optimization_config` or attach it as a tracking metric using `Experiment.add_tracking_metrics` or `AxClient.add_tracking_metrics`. Ignoring all data for metric resource_accuracy.\n",
      "NoneType: None\n",
      "[ERROR 01-07 18:53:55] ax.core.observation: Data contains metric resource_roles_accuracy that has not been added to the experiment. You can either update the `optimization_config` or attach it as a tracking metric using `Experiment.add_tracking_metrics` or `AxClient.add_tracking_metrics`. Ignoring all data for metric resource_roles_accuracy.\n",
      "NoneType: None\n",
      "[ERROR 01-07 18:53:55] ax.core.observation: Data contains metric MAE_timestamp that has not been added to the experiment. You can either update the `optimization_config` or attach it as a tracking metric using `Experiment.add_tracking_metrics` or `AxClient.add_tracking_metrics`. Ignoring all data for metric MAE_timestamp.\n",
      "NoneType: None\n",
      "[ERROR 01-07 18:53:55] ax.core.observation: Data contains metric MacroF1Activity that has not been added to the experiment. You can either update the `optimization_config` or attach it as a tracking metric using `Experiment.add_tracking_metrics` or `AxClient.add_tracking_metrics`. Ignoring all data for metric MacroF1Activity.\n",
      "NoneType: None\n",
      "[ERROR 01-07 18:53:55] ax.core.observation: Data contains metric activity_accuracy that has not been added to the experiment. You can either update the `optimization_config` or attach it as a tracking metric using `Experiment.add_tracking_metrics` or `AxClient.add_tracking_metrics`. Ignoring all data for metric activity_accuracy.\n",
      "NoneType: None\n",
      "[ERROR 01-07 18:53:55] ax.core.observation: Data contains metric resource_accuracy that has not been added to the experiment. You can either update the `optimization_config` or attach it as a tracking metric using `Experiment.add_tracking_metrics` or `AxClient.add_tracking_metrics`. Ignoring all data for metric resource_accuracy.\n",
      "NoneType: None\n",
      "[ERROR 01-07 18:53:55] ax.core.observation: Data contains metric resource_roles_accuracy that has not been added to the experiment. You can either update the `optimization_config` or attach it as a tracking metric using `Experiment.add_tracking_metrics` or `AxClient.add_tracking_metrics`. Ignoring all data for metric resource_roles_accuracy.\n",
      "NoneType: None\n",
      "[ERROR 01-07 18:53:55] ax.core.observation: Data contains metric MAE_timestamp that has not been added to the experiment. You can either update the `optimization_config` or attach it as a tracking metric using `Experiment.add_tracking_metrics` or `AxClient.add_tracking_metrics`. Ignoring all data for metric MAE_timestamp.\n",
      "NoneType: None\n",
      "[ERROR 01-07 18:53:55] ax.core.observation: Data contains metric MacroF1Activity that has not been added to the experiment. You can either update the `optimization_config` or attach it as a tracking metric using `Experiment.add_tracking_metrics` or `AxClient.add_tracking_metrics`. Ignoring all data for metric MacroF1Activity.\n",
      "NoneType: None\n",
      "[ERROR 01-07 18:53:55] ax.core.observation: Data contains metric activity_accuracy that has not been added to the experiment. You can either update the `optimization_config` or attach it as a tracking metric using `Experiment.add_tracking_metrics` or `AxClient.add_tracking_metrics`. Ignoring all data for metric activity_accuracy.\n",
      "NoneType: None\n",
      "[ERROR 01-07 18:53:55] ax.core.observation: Data contains metric resource_accuracy that has not been added to the experiment. You can either update the `optimization_config` or attach it as a tracking metric using `Experiment.add_tracking_metrics` or `AxClient.add_tracking_metrics`. Ignoring all data for metric resource_accuracy.\n",
      "NoneType: None\n",
      "[ERROR 01-07 18:53:55] ax.core.observation: Data contains metric resource_roles_accuracy that has not been added to the experiment. You can either update the `optimization_config` or attach it as a tracking metric using `Experiment.add_tracking_metrics` or `AxClient.add_tracking_metrics`. Ignoring all data for metric resource_roles_accuracy.\n",
      "NoneType: None\n",
      "[ERROR 01-07 18:53:55] ax.core.observation: Data contains metric MAE_timestamp that has not been added to the experiment. You can either update the `optimization_config` or attach it as a tracking metric using `Experiment.add_tracking_metrics` or `AxClient.add_tracking_metrics`. Ignoring all data for metric MAE_timestamp.\n",
      "NoneType: None\n",
      "[ERROR 01-07 18:53:55] ax.core.observation: Data contains metric MacroF1Activity that has not been added to the experiment. You can either update the `optimization_config` or attach it as a tracking metric using `Experiment.add_tracking_metrics` or `AxClient.add_tracking_metrics`. Ignoring all data for metric MacroF1Activity.\n",
      "NoneType: None\n",
      "[ERROR 01-07 18:53:55] ax.core.observation: Data contains metric activity_accuracy that has not been added to the experiment. You can either update the `optimization_config` or attach it as a tracking metric using `Experiment.add_tracking_metrics` or `AxClient.add_tracking_metrics`. Ignoring all data for metric activity_accuracy.\n",
      "NoneType: None\n",
      "[ERROR 01-07 18:53:55] ax.core.observation: Data contains metric resource_accuracy that has not been added to the experiment. You can either update the `optimization_config` or attach it as a tracking metric using `Experiment.add_tracking_metrics` or `AxClient.add_tracking_metrics`. Ignoring all data for metric resource_accuracy.\n",
      "NoneType: None\n",
      "[ERROR 01-07 18:53:55] ax.core.observation: Data contains metric resource_roles_accuracy that has not been added to the experiment. You can either update the `optimization_config` or attach it as a tracking metric using `Experiment.add_tracking_metrics` or `AxClient.add_tracking_metrics`. Ignoring all data for metric resource_roles_accuracy.\n",
      "NoneType: None\n",
      "[ERROR 01-07 18:53:55] ax.core.observation: Data contains metric MAE_timestamp that has not been added to the experiment. You can either update the `optimization_config` or attach it as a tracking metric using `Experiment.add_tracking_metrics` or `AxClient.add_tracking_metrics`. Ignoring all data for metric MAE_timestamp.\n",
      "NoneType: None\n",
      "[ERROR 01-07 18:53:55] ax.core.observation: Data contains metric MacroF1Activity that has not been added to the experiment. You can either update the `optimization_config` or attach it as a tracking metric using `Experiment.add_tracking_metrics` or `AxClient.add_tracking_metrics`. Ignoring all data for metric MacroF1Activity.\n",
      "NoneType: None\n",
      "[ERROR 01-07 18:53:55] ax.core.observation: Data contains metric activity_accuracy that has not been added to the experiment. You can either update the `optimization_config` or attach it as a tracking metric using `Experiment.add_tracking_metrics` or `AxClient.add_tracking_metrics`. Ignoring all data for metric activity_accuracy.\n",
      "NoneType: None\n",
      "[ERROR 01-07 18:53:55] ax.core.observation: Data contains metric resource_accuracy that has not been added to the experiment. You can either update the `optimization_config` or attach it as a tracking metric using `Experiment.add_tracking_metrics` or `AxClient.add_tracking_metrics`. Ignoring all data for metric resource_accuracy.\n",
      "NoneType: None\n",
      "[ERROR 01-07 18:53:55] ax.core.observation: Data contains metric resource_roles_accuracy that has not been added to the experiment. You can either update the `optimization_config` or attach it as a tracking metric using `Experiment.add_tracking_metrics` or `AxClient.add_tracking_metrics`. Ignoring all data for metric resource_roles_accuracy.\n",
      "NoneType: None\n",
      "[ERROR 01-07 18:53:55] ax.core.observation: Data contains metric MAE_timestamp that has not been added to the experiment. You can either update the `optimization_config` or attach it as a tracking metric using `Experiment.add_tracking_metrics` or `AxClient.add_tracking_metrics`. Ignoring all data for metric MAE_timestamp.\n",
      "NoneType: None\n",
      "[ERROR 01-07 18:53:55] ax.core.observation: Data contains metric MacroF1Activity that has not been added to the experiment. You can either update the `optimization_config` or attach it as a tracking metric using `Experiment.add_tracking_metrics` or `AxClient.add_tracking_metrics`. Ignoring all data for metric MacroF1Activity.\n",
      "NoneType: None\n",
      "[ERROR 01-07 18:53:55] ax.core.observation: Data contains metric activity_accuracy that has not been added to the experiment. You can either update the `optimization_config` or attach it as a tracking metric using `Experiment.add_tracking_metrics` or `AxClient.add_tracking_metrics`. Ignoring all data for metric activity_accuracy.\n",
      "NoneType: None\n",
      "[ERROR 01-07 18:53:55] ax.core.observation: Data contains metric resource_accuracy that has not been added to the experiment. You can either update the `optimization_config` or attach it as a tracking metric using `Experiment.add_tracking_metrics` or `AxClient.add_tracking_metrics`. Ignoring all data for metric resource_accuracy.\n",
      "NoneType: None\n",
      "[ERROR 01-07 18:53:55] ax.core.observation: Data contains metric resource_roles_accuracy that has not been added to the experiment. You can either update the `optimization_config` or attach it as a tracking metric using `Experiment.add_tracking_metrics` or `AxClient.add_tracking_metrics`. Ignoring all data for metric resource_roles_accuracy.\n",
      "NoneType: None\n",
      "[ERROR 01-07 18:53:55] ax.core.observation: Data contains metric MAE_timestamp that has not been added to the experiment. You can either update the `optimization_config` or attach it as a tracking metric using `Experiment.add_tracking_metrics` or `AxClient.add_tracking_metrics`. Ignoring all data for metric MAE_timestamp.\n",
      "NoneType: None\n",
      "[ERROR 01-07 18:53:55] ax.core.observation: Data contains metric MacroF1Activity that has not been added to the experiment. You can either update the `optimization_config` or attach it as a tracking metric using `Experiment.add_tracking_metrics` or `AxClient.add_tracking_metrics`. Ignoring all data for metric MacroF1Activity.\n",
      "NoneType: None\n",
      "[ERROR 01-07 18:53:55] ax.core.observation: Data contains metric activity_accuracy that has not been added to the experiment. You can either update the `optimization_config` or attach it as a tracking metric using `Experiment.add_tracking_metrics` or `AxClient.add_tracking_metrics`. Ignoring all data for metric activity_accuracy.\n",
      "NoneType: None\n",
      "[ERROR 01-07 18:53:55] ax.core.observation: Data contains metric resource_accuracy that has not been added to the experiment. You can either update the `optimization_config` or attach it as a tracking metric using `Experiment.add_tracking_metrics` or `AxClient.add_tracking_metrics`. Ignoring all data for metric resource_accuracy.\n",
      "NoneType: None\n",
      "[ERROR 01-07 18:53:55] ax.core.observation: Data contains metric resource_roles_accuracy that has not been added to the experiment. You can either update the `optimization_config` or attach it as a tracking metric using `Experiment.add_tracking_metrics` or `AxClient.add_tracking_metrics`. Ignoring all data for metric resource_roles_accuracy.\n",
      "NoneType: None\n",
      "[ERROR 01-07 18:53:55] ax.core.observation: Data contains metric MAE_timestamp that has not been added to the experiment. You can either update the `optimization_config` or attach it as a tracking metric using `Experiment.add_tracking_metrics` or `AxClient.add_tracking_metrics`. Ignoring all data for metric MAE_timestamp.\n",
      "NoneType: None\n",
      "[ERROR 01-07 18:53:55] ax.core.observation: Data contains metric MacroF1Activity that has not been added to the experiment. You can either update the `optimization_config` or attach it as a tracking metric using `Experiment.add_tracking_metrics` or `AxClient.add_tracking_metrics`. Ignoring all data for metric MacroF1Activity.\n",
      "NoneType: None\n",
      "[ERROR 01-07 18:53:55] ax.core.observation: Data contains metric activity_accuracy that has not been added to the experiment. You can either update the `optimization_config` or attach it as a tracking metric using `Experiment.add_tracking_metrics` or `AxClient.add_tracking_metrics`. Ignoring all data for metric activity_accuracy.\n",
      "NoneType: None\n",
      "[ERROR 01-07 18:53:55] ax.core.observation: Data contains metric resource_accuracy that has not been added to the experiment. You can either update the `optimization_config` or attach it as a tracking metric using `Experiment.add_tracking_metrics` or `AxClient.add_tracking_metrics`. Ignoring all data for metric resource_accuracy.\n",
      "NoneType: None\n",
      "[ERROR 01-07 18:53:55] ax.core.observation: Data contains metric resource_roles_accuracy that has not been added to the experiment. You can either update the `optimization_config` or attach it as a tracking metric using `Experiment.add_tracking_metrics` or `AxClient.add_tracking_metrics`. Ignoring all data for metric resource_roles_accuracy.\n",
      "NoneType: None\n",
      "[ERROR 01-07 18:53:55] ax.core.observation: Data contains metric MAE_timestamp that has not been added to the experiment. You can either update the `optimization_config` or attach it as a tracking metric using `Experiment.add_tracking_metrics` or `AxClient.add_tracking_metrics`. Ignoring all data for metric MAE_timestamp.\n",
      "NoneType: None\n",
      "[ERROR 01-07 18:53:55] ax.core.observation: Data contains metric MacroF1Activity that has not been added to the experiment. You can either update the `optimization_config` or attach it as a tracking metric using `Experiment.add_tracking_metrics` or `AxClient.add_tracking_metrics`. Ignoring all data for metric MacroF1Activity.\n",
      "NoneType: None\n",
      "[ERROR 01-07 18:53:55] ax.core.observation: Data contains metric activity_accuracy that has not been added to the experiment. You can either update the `optimization_config` or attach it as a tracking metric using `Experiment.add_tracking_metrics` or `AxClient.add_tracking_metrics`. Ignoring all data for metric activity_accuracy.\n",
      "NoneType: None\n",
      "[ERROR 01-07 18:53:55] ax.core.observation: Data contains metric resource_accuracy that has not been added to the experiment. You can either update the `optimization_config` or attach it as a tracking metric using `Experiment.add_tracking_metrics` or `AxClient.add_tracking_metrics`. Ignoring all data for metric resource_accuracy.\n",
      "NoneType: None\n",
      "[ERROR 01-07 18:53:55] ax.core.observation: Data contains metric resource_roles_accuracy that has not been added to the experiment. You can either update the `optimization_config` or attach it as a tracking metric using `Experiment.add_tracking_metrics` or `AxClient.add_tracking_metrics`. Ignoring all data for metric resource_roles_accuracy.\n",
      "NoneType: None\n",
      "[ERROR 01-07 18:53:55] ax.core.observation: Data contains metric MAE_timestamp that has not been added to the experiment. You can either update the `optimization_config` or attach it as a tracking metric using `Experiment.add_tracking_metrics` or `AxClient.add_tracking_metrics`. Ignoring all data for metric MAE_timestamp.\n",
      "NoneType: None\n",
      "[ERROR 01-07 18:53:55] ax.core.observation: Data contains metric MacroF1Activity that has not been added to the experiment. You can either update the `optimization_config` or attach it as a tracking metric using `Experiment.add_tracking_metrics` or `AxClient.add_tracking_metrics`. Ignoring all data for metric MacroF1Activity.\n",
      "NoneType: None\n",
      "[ERROR 01-07 18:53:55] ax.core.observation: Data contains metric activity_accuracy that has not been added to the experiment. You can either update the `optimization_config` or attach it as a tracking metric using `Experiment.add_tracking_metrics` or `AxClient.add_tracking_metrics`. Ignoring all data for metric activity_accuracy.\n",
      "NoneType: None\n",
      "[ERROR 01-07 18:53:55] ax.core.observation: Data contains metric resource_accuracy that has not been added to the experiment. You can either update the `optimization_config` or attach it as a tracking metric using `Experiment.add_tracking_metrics` or `AxClient.add_tracking_metrics`. Ignoring all data for metric resource_accuracy.\n",
      "NoneType: None\n",
      "[ERROR 01-07 18:53:55] ax.core.observation: Data contains metric resource_roles_accuracy that has not been added to the experiment. You can either update the `optimization_config` or attach it as a tracking metric using `Experiment.add_tracking_metrics` or `AxClient.add_tracking_metrics`. Ignoring all data for metric resource_roles_accuracy.\n",
      "NoneType: None\n",
      "[ERROR 01-07 18:53:55] ax.core.observation: Data contains metric MAE_timestamp that has not been added to the experiment. You can either update the `optimization_config` or attach it as a tracking metric using `Experiment.add_tracking_metrics` or `AxClient.add_tracking_metrics`. Ignoring all data for metric MAE_timestamp.\n",
      "NoneType: None\n",
      "[ERROR 01-07 18:53:55] ax.core.observation: Data contains metric MacroF1Activity that has not been added to the experiment. You can either update the `optimization_config` or attach it as a tracking metric using `Experiment.add_tracking_metrics` or `AxClient.add_tracking_metrics`. Ignoring all data for metric MacroF1Activity.\n",
      "NoneType: None\n",
      "[ERROR 01-07 18:53:55] ax.core.observation: Data contains metric activity_accuracy that has not been added to the experiment. You can either update the `optimization_config` or attach it as a tracking metric using `Experiment.add_tracking_metrics` or `AxClient.add_tracking_metrics`. Ignoring all data for metric activity_accuracy.\n",
      "NoneType: None\n",
      "[ERROR 01-07 18:53:55] ax.core.observation: Data contains metric resource_accuracy that has not been added to the experiment. You can either update the `optimization_config` or attach it as a tracking metric using `Experiment.add_tracking_metrics` or `AxClient.add_tracking_metrics`. Ignoring all data for metric resource_accuracy.\n",
      "NoneType: None\n",
      "[ERROR 01-07 18:53:55] ax.core.observation: Data contains metric resource_roles_accuracy that has not been added to the experiment. You can either update the `optimization_config` or attach it as a tracking metric using `Experiment.add_tracking_metrics` or `AxClient.add_tracking_metrics`. Ignoring all data for metric resource_roles_accuracy.\n",
      "NoneType: None\n",
      "[ERROR 01-07 18:53:55] ax.core.observation: Data contains metric MAE_timestamp that has not been added to the experiment. You can either update the `optimization_config` or attach it as a tracking metric using `Experiment.add_tracking_metrics` or `AxClient.add_tracking_metrics`. Ignoring all data for metric MAE_timestamp.\n",
      "NoneType: None\n",
      "[ERROR 01-07 18:53:55] ax.core.observation: Data contains metric MacroF1Activity that has not been added to the experiment. You can either update the `optimization_config` or attach it as a tracking metric using `Experiment.add_tracking_metrics` or `AxClient.add_tracking_metrics`. Ignoring all data for metric MacroF1Activity.\n",
      "NoneType: None\n",
      "[ERROR 01-07 18:53:55] ax.core.observation: Data contains metric activity_accuracy that has not been added to the experiment. You can either update the `optimization_config` or attach it as a tracking metric using `Experiment.add_tracking_metrics` or `AxClient.add_tracking_metrics`. Ignoring all data for metric activity_accuracy.\n",
      "NoneType: None\n",
      "[ERROR 01-07 18:53:55] ax.core.observation: Data contains metric resource_accuracy that has not been added to the experiment. You can either update the `optimization_config` or attach it as a tracking metric using `Experiment.add_tracking_metrics` or `AxClient.add_tracking_metrics`. Ignoring all data for metric resource_accuracy.\n",
      "NoneType: None\n",
      "[ERROR 01-07 18:53:55] ax.core.observation: Data contains metric resource_roles_accuracy that has not been added to the experiment. You can either update the `optimization_config` or attach it as a tracking metric using `Experiment.add_tracking_metrics` or `AxClient.add_tracking_metrics`. Ignoring all data for metric resource_roles_accuracy.\n",
      "NoneType: None\n"
     ]
    },
    {
     "name": "stdout",
     "output_type": "stream",
     "text": [
      "{'lr': 0.004111734182057972, 'batch_size': 256, 'heads': 1, 'hid': 128, 'layers': 2, 'aggregation': 'max'}\n",
      "{'AVG_total_loss': 3.066705279579242}\n",
      "Experiment(None)\n"
     ]
    }
   ],
   "source": [
    "best_parameters, values, experiment, model = optimize(\n",
    "    parameters=[\n",
    "        {\"name\": \"hid\", \"type\": \"choice\", \"values\": [128], \"value_type\": \"int\", \"is_ordered\" : True,\"sort_values\":False},\n",
    "        #{\"name\": \"layers\", \"type\": \"choice\", \"values\": [2, 3, 4, 5], \"value_type\": \"int\", \"is_ordered\" : True, \"sort_values\":False},\n",
    "        {\"name\": \"layers\", \"type\": \"choice\", \"values\": [2], \"value_type\": \"int\", \"is_ordered\" : True, \"sort_values\":False},\n",
    "        {\"name\": \"lr\", \"type\": \"range\", \"bounds\": [1e-4, 1e-1], \"value_type\": \"float\", \"log_scale\": True},\n",
    "        {\"name\": \"batch_size\", \"type\": \"choice\", \"values\": [256, 1024], \"value_type\": \"int\", \"is_ordered\" : True,\"sort_values\":False}, \n",
    "        {\"name\": \"heads\", \"type\": \"choice\", \"values\": [1,4], \"value_type\": \"int\", \"is_ordered\" : True,\"sort_values\":False},\n",
    "        #{\"name\": \"heads\", \"type\": \"choice\", \"values\": [1], \"value_type\": \"int\", \"is_ordered\" : True,\"sort_values\":False},\n",
    "        \n",
    "        #{\"name\": \"aggregation\", \"type\" : \"choice\", \"values\" :[\"sum\", \"mean\", \"max\"], \"value_type\" : \"str\"}\n",
    "        {\"name\": \"aggregation\", \"type\" : \"choice\", \"values\" :[\"max\"], \"value_type\" : \"str\"},\n",
    "     \n",
    "    ],\n",
    "  \n",
    "    evaluation_function=train_evaluate,\n",
    "    objective_name='AVG_total_loss',\n",
    "    arms_per_trial=1,\n",
    "    minimize = True,\n",
    "    random_seed = 123,\n",
    "    total_trials = 20\n",
    ")\n",
    "\n",
    "print(best_parameters)\n",
    "means, covariances = values\n",
    "print(means)\n",
    "print(experiment)"
   ]
  },
  {
   "cell_type": "code",
   "execution_count": 21,
   "metadata": {},
   "outputs": [
    {
     "name": "stderr",
     "output_type": "stream",
     "text": [
      "[WARNING 01-07 18:56:09] ax.service.utils.report_utils: Column reason missing for all trials. Not appending column.\n"
     ]
    }
   ],
   "source": [
    "from ax.service.utils.report_utils import exp_to_df\n",
    "\n",
    "results = exp_to_df(experiment)"
   ]
  },
  {
   "cell_type": "code",
   "execution_count": 24,
   "metadata": {},
   "outputs": [
    {
     "data": {
      "text/html": [
       "<div>\n",
       "<style scoped>\n",
       "    .dataframe tbody tr th:only-of-type {\n",
       "        vertical-align: middle;\n",
       "    }\n",
       "\n",
       "    .dataframe tbody tr th {\n",
       "        vertical-align: top;\n",
       "    }\n",
       "\n",
       "    .dataframe thead th {\n",
       "        text-align: right;\n",
       "    }\n",
       "</style>\n",
       "<table border=\"1\" class=\"dataframe\">\n",
       "  <thead>\n",
       "    <tr style=\"text-align: right;\">\n",
       "      <th></th>\n",
       "      <th>trial_index</th>\n",
       "      <th>arm_name</th>\n",
       "      <th>trial_status</th>\n",
       "      <th>generation_method</th>\n",
       "      <th>AVG_total_loss</th>\n",
       "      <th>MAE_timestamp</th>\n",
       "      <th>MacroF1Activity</th>\n",
       "      <th>activity_accuracy</th>\n",
       "      <th>resource_accuracy</th>\n",
       "      <th>resource_roles_accuracy</th>\n",
       "      <th>lr</th>\n",
       "      <th>batch_size</th>\n",
       "      <th>heads</th>\n",
       "      <th>hid</th>\n",
       "      <th>layers</th>\n",
       "      <th>aggregation</th>\n",
       "    </tr>\n",
       "  </thead>\n",
       "  <tbody>\n",
       "    <tr>\n",
       "      <th>0</th>\n",
       "      <td>0</td>\n",
       "      <td>0_0</td>\n",
       "      <td>COMPLETED</td>\n",
       "      <td>Sobol</td>\n",
       "      <td>4.662463</td>\n",
       "      <td>0.124686</td>\n",
       "      <td>0.465442</td>\n",
       "      <td>0.611383</td>\n",
       "      <td>0.319463</td>\n",
       "      <td>0.754792</td>\n",
       "      <td>0.000187</td>\n",
       "      <td>1024</td>\n",
       "      <td>1</td>\n",
       "      <td>128</td>\n",
       "      <td>2</td>\n",
       "      <td>max</td>\n",
       "    </tr>\n",
       "    <tr>\n",
       "      <th>16</th>\n",
       "      <td>16</td>\n",
       "      <td>16_0</td>\n",
       "      <td>COMPLETED</td>\n",
       "      <td>BoTorch</td>\n",
       "      <td>3.634319</td>\n",
       "      <td>0.468481</td>\n",
       "      <td>0.599465</td>\n",
       "      <td>0.614550</td>\n",
       "      <td>0.512215</td>\n",
       "      <td>0.789906</td>\n",
       "      <td>0.100000</td>\n",
       "      <td>256</td>\n",
       "      <td>4</td>\n",
       "      <td>128</td>\n",
       "      <td>2</td>\n",
       "      <td>max</td>\n",
       "    </tr>\n",
       "    <tr>\n",
       "      <th>1</th>\n",
       "      <td>1</td>\n",
       "      <td>1_0</td>\n",
       "      <td>COMPLETED</td>\n",
       "      <td>Sobol</td>\n",
       "      <td>3.185271</td>\n",
       "      <td>0.215865</td>\n",
       "      <td>0.610737</td>\n",
       "      <td>0.642201</td>\n",
       "      <td>0.565262</td>\n",
       "      <td>0.791678</td>\n",
       "      <td>0.020423</td>\n",
       "      <td>256</td>\n",
       "      <td>4</td>\n",
       "      <td>128</td>\n",
       "      <td>2</td>\n",
       "      <td>max</td>\n",
       "    </tr>\n",
       "    <tr>\n",
       "      <th>13</th>\n",
       "      <td>13</td>\n",
       "      <td>13_0</td>\n",
       "      <td>COMPLETED</td>\n",
       "      <td>BoTorch</td>\n",
       "      <td>4.043543</td>\n",
       "      <td>0.124550</td>\n",
       "      <td>0.591317</td>\n",
       "      <td>0.643329</td>\n",
       "      <td>0.321772</td>\n",
       "      <td>0.790658</td>\n",
       "      <td>0.000100</td>\n",
       "      <td>256</td>\n",
       "      <td>4</td>\n",
       "      <td>128</td>\n",
       "      <td>2</td>\n",
       "      <td>max</td>\n",
       "    </tr>\n",
       "    <tr>\n",
       "      <th>7</th>\n",
       "      <td>7</td>\n",
       "      <td>7_0</td>\n",
       "      <td>COMPLETED</td>\n",
       "      <td>BoTorch</td>\n",
       "      <td>3.580545</td>\n",
       "      <td>0.302930</td>\n",
       "      <td>0.594533</td>\n",
       "      <td>0.646013</td>\n",
       "      <td>0.481020</td>\n",
       "      <td>0.791785</td>\n",
       "      <td>0.100000</td>\n",
       "      <td>1024</td>\n",
       "      <td>1</td>\n",
       "      <td>128</td>\n",
       "      <td>2</td>\n",
       "      <td>max</td>\n",
       "    </tr>\n",
       "    <tr>\n",
       "      <th>17</th>\n",
       "      <td>17</td>\n",
       "      <td>17_0</td>\n",
       "      <td>COMPLETED</td>\n",
       "      <td>BoTorch</td>\n",
       "      <td>3.130027</td>\n",
       "      <td>0.141115</td>\n",
       "      <td>0.597251</td>\n",
       "      <td>0.648752</td>\n",
       "      <td>0.566121</td>\n",
       "      <td>0.791839</td>\n",
       "      <td>0.003454</td>\n",
       "      <td>256</td>\n",
       "      <td>4</td>\n",
       "      <td>128</td>\n",
       "      <td>2</td>\n",
       "      <td>max</td>\n",
       "    </tr>\n",
       "    <tr>\n",
       "      <th>3</th>\n",
       "      <td>3</td>\n",
       "      <td>3_0</td>\n",
       "      <td>COMPLETED</td>\n",
       "      <td>Sobol</td>\n",
       "      <td>3.116581</td>\n",
       "      <td>0.129809</td>\n",
       "      <td>0.601565</td>\n",
       "      <td>0.650792</td>\n",
       "      <td>0.566819</td>\n",
       "      <td>0.791839</td>\n",
       "      <td>0.002055</td>\n",
       "      <td>256</td>\n",
       "      <td>4</td>\n",
       "      <td>128</td>\n",
       "      <td>2</td>\n",
       "      <td>max</td>\n",
       "    </tr>\n",
       "    <tr>\n",
       "      <th>6</th>\n",
       "      <td>6</td>\n",
       "      <td>6_0</td>\n",
       "      <td>COMPLETED</td>\n",
       "      <td>BoTorch</td>\n",
       "      <td>3.105021</td>\n",
       "      <td>0.109936</td>\n",
       "      <td>0.608279</td>\n",
       "      <td>0.651329</td>\n",
       "      <td>0.563973</td>\n",
       "      <td>0.791839</td>\n",
       "      <td>0.005120</td>\n",
       "      <td>256</td>\n",
       "      <td>4</td>\n",
       "      <td>128</td>\n",
       "      <td>2</td>\n",
       "      <td>max</td>\n",
       "    </tr>\n",
       "    <tr>\n",
       "      <th>4</th>\n",
       "      <td>4</td>\n",
       "      <td>4_0</td>\n",
       "      <td>COMPLETED</td>\n",
       "      <td>Sobol</td>\n",
       "      <td>3.570439</td>\n",
       "      <td>0.111962</td>\n",
       "      <td>0.614537</td>\n",
       "      <td>0.652295</td>\n",
       "      <td>0.438819</td>\n",
       "      <td>0.790658</td>\n",
       "      <td>0.001014</td>\n",
       "      <td>1024</td>\n",
       "      <td>4</td>\n",
       "      <td>128</td>\n",
       "      <td>2</td>\n",
       "      <td>max</td>\n",
       "    </tr>\n",
       "    <tr>\n",
       "      <th>15</th>\n",
       "      <td>15</td>\n",
       "      <td>15_0</td>\n",
       "      <td>COMPLETED</td>\n",
       "      <td>BoTorch</td>\n",
       "      <td>3.179014</td>\n",
       "      <td>0.119093</td>\n",
       "      <td>0.611515</td>\n",
       "      <td>0.653960</td>\n",
       "      <td>0.556832</td>\n",
       "      <td>0.791839</td>\n",
       "      <td>0.003216</td>\n",
       "      <td>1024</td>\n",
       "      <td>4</td>\n",
       "      <td>128</td>\n",
       "      <td>2</td>\n",
       "      <td>max</td>\n",
       "    </tr>\n",
       "    <tr>\n",
       "      <th>18</th>\n",
       "      <td>18</td>\n",
       "      <td>18_0</td>\n",
       "      <td>COMPLETED</td>\n",
       "      <td>BoTorch</td>\n",
       "      <td>3.348432</td>\n",
       "      <td>0.391534</td>\n",
       "      <td>0.616453</td>\n",
       "      <td>0.655409</td>\n",
       "      <td>0.567087</td>\n",
       "      <td>0.791678</td>\n",
       "      <td>0.024724</td>\n",
       "      <td>1024</td>\n",
       "      <td>4</td>\n",
       "      <td>128</td>\n",
       "      <td>2</td>\n",
       "      <td>max</td>\n",
       "    </tr>\n",
       "    <tr>\n",
       "      <th>10</th>\n",
       "      <td>10</td>\n",
       "      <td>10_0</td>\n",
       "      <td>COMPLETED</td>\n",
       "      <td>BoTorch</td>\n",
       "      <td>3.077589</td>\n",
       "      <td>0.114292</td>\n",
       "      <td>0.623534</td>\n",
       "      <td>0.659758</td>\n",
       "      <td>0.568161</td>\n",
       "      <td>0.791839</td>\n",
       "      <td>0.003333</td>\n",
       "      <td>256</td>\n",
       "      <td>1</td>\n",
       "      <td>128</td>\n",
       "      <td>2</td>\n",
       "      <td>max</td>\n",
       "    </tr>\n",
       "    <tr>\n",
       "      <th>9</th>\n",
       "      <td>9</td>\n",
       "      <td>9_0</td>\n",
       "      <td>COMPLETED</td>\n",
       "      <td>BoTorch</td>\n",
       "      <td>3.039017</td>\n",
       "      <td>0.093563</td>\n",
       "      <td>0.620147</td>\n",
       "      <td>0.666631</td>\n",
       "      <td>0.566711</td>\n",
       "      <td>0.791839</td>\n",
       "      <td>0.004031</td>\n",
       "      <td>256</td>\n",
       "      <td>1</td>\n",
       "      <td>128</td>\n",
       "      <td>2</td>\n",
       "      <td>max</td>\n",
       "    </tr>\n",
       "    <tr>\n",
       "      <th>2</th>\n",
       "      <td>2</td>\n",
       "      <td>2_0</td>\n",
       "      <td>COMPLETED</td>\n",
       "      <td>Sobol</td>\n",
       "      <td>3.186032</td>\n",
       "      <td>0.206091</td>\n",
       "      <td>0.639555</td>\n",
       "      <td>0.668456</td>\n",
       "      <td>0.563329</td>\n",
       "      <td>0.791839</td>\n",
       "      <td>0.007958</td>\n",
       "      <td>1024</td>\n",
       "      <td>1</td>\n",
       "      <td>128</td>\n",
       "      <td>2</td>\n",
       "      <td>max</td>\n",
       "    </tr>\n",
       "    <tr>\n",
       "      <th>11</th>\n",
       "      <td>11</td>\n",
       "      <td>11_0</td>\n",
       "      <td>COMPLETED</td>\n",
       "      <td>BoTorch</td>\n",
       "      <td>3.022754</td>\n",
       "      <td>0.099323</td>\n",
       "      <td>0.637531</td>\n",
       "      <td>0.669423</td>\n",
       "      <td>0.570309</td>\n",
       "      <td>0.791839</td>\n",
       "      <td>0.004242</td>\n",
       "      <td>256</td>\n",
       "      <td>4</td>\n",
       "      <td>128</td>\n",
       "      <td>2</td>\n",
       "      <td>max</td>\n",
       "    </tr>\n",
       "    <tr>\n",
       "      <th>8</th>\n",
       "      <td>8</td>\n",
       "      <td>8_0</td>\n",
       "      <td>COMPLETED</td>\n",
       "      <td>BoTorch</td>\n",
       "      <td>3.086924</td>\n",
       "      <td>0.112285</td>\n",
       "      <td>0.630987</td>\n",
       "      <td>0.671839</td>\n",
       "      <td>0.565638</td>\n",
       "      <td>0.791839</td>\n",
       "      <td>0.003813</td>\n",
       "      <td>256</td>\n",
       "      <td>1</td>\n",
       "      <td>128</td>\n",
       "      <td>2</td>\n",
       "      <td>max</td>\n",
       "    </tr>\n",
       "    <tr>\n",
       "      <th>5</th>\n",
       "      <td>5</td>\n",
       "      <td>5_0</td>\n",
       "      <td>COMPLETED</td>\n",
       "      <td>Sobol</td>\n",
       "      <td>3.021996</td>\n",
       "      <td>0.101056</td>\n",
       "      <td>0.642939</td>\n",
       "      <td>0.675919</td>\n",
       "      <td>0.569342</td>\n",
       "      <td>0.791785</td>\n",
       "      <td>0.003913</td>\n",
       "      <td>256</td>\n",
       "      <td>1</td>\n",
       "      <td>128</td>\n",
       "      <td>2</td>\n",
       "      <td>max</td>\n",
       "    </tr>\n",
       "    <tr>\n",
       "      <th>12</th>\n",
       "      <td>12</td>\n",
       "      <td>12_0</td>\n",
       "      <td>COMPLETED</td>\n",
       "      <td>BoTorch</td>\n",
       "      <td>3.045402</td>\n",
       "      <td>0.104355</td>\n",
       "      <td>0.647465</td>\n",
       "      <td>0.676832</td>\n",
       "      <td>0.566175</td>\n",
       "      <td>0.791839</td>\n",
       "      <td>0.004112</td>\n",
       "      <td>256</td>\n",
       "      <td>1</td>\n",
       "      <td>128</td>\n",
       "      <td>2</td>\n",
       "      <td>max</td>\n",
       "    </tr>\n",
       "    <tr>\n",
       "      <th>19</th>\n",
       "      <td>19</td>\n",
       "      <td>19_0</td>\n",
       "      <td>COMPLETED</td>\n",
       "      <td>BoTorch</td>\n",
       "      <td>3.113433</td>\n",
       "      <td>0.146594</td>\n",
       "      <td>0.659515</td>\n",
       "      <td>0.678389</td>\n",
       "      <td>0.567087</td>\n",
       "      <td>0.791839</td>\n",
       "      <td>0.004672</td>\n",
       "      <td>256</td>\n",
       "      <td>1</td>\n",
       "      <td>128</td>\n",
       "      <td>2</td>\n",
       "      <td>max</td>\n",
       "    </tr>\n",
       "    <tr>\n",
       "      <th>14</th>\n",
       "      <td>14</td>\n",
       "      <td>14_0</td>\n",
       "      <td>COMPLETED</td>\n",
       "      <td>BoTorch</td>\n",
       "      <td>3.087870</td>\n",
       "      <td>0.135514</td>\n",
       "      <td>0.669736</td>\n",
       "      <td>0.683973</td>\n",
       "      <td>0.568107</td>\n",
       "      <td>0.791678</td>\n",
       "      <td>0.004643</td>\n",
       "      <td>256</td>\n",
       "      <td>1</td>\n",
       "      <td>128</td>\n",
       "      <td>2</td>\n",
       "      <td>max</td>\n",
       "    </tr>\n",
       "  </tbody>\n",
       "</table>\n",
       "</div>"
      ],
      "text/plain": [
       "    trial_index arm_name trial_status generation_method  AVG_total_loss  \\\n",
       "0             0      0_0    COMPLETED             Sobol        4.662463   \n",
       "16           16     16_0    COMPLETED           BoTorch        3.634319   \n",
       "1             1      1_0    COMPLETED             Sobol        3.185271   \n",
       "13           13     13_0    COMPLETED           BoTorch        4.043543   \n",
       "7             7      7_0    COMPLETED           BoTorch        3.580545   \n",
       "17           17     17_0    COMPLETED           BoTorch        3.130027   \n",
       "3             3      3_0    COMPLETED             Sobol        3.116581   \n",
       "6             6      6_0    COMPLETED           BoTorch        3.105021   \n",
       "4             4      4_0    COMPLETED             Sobol        3.570439   \n",
       "15           15     15_0    COMPLETED           BoTorch        3.179014   \n",
       "18           18     18_0    COMPLETED           BoTorch        3.348432   \n",
       "10           10     10_0    COMPLETED           BoTorch        3.077589   \n",
       "9             9      9_0    COMPLETED           BoTorch        3.039017   \n",
       "2             2      2_0    COMPLETED             Sobol        3.186032   \n",
       "11           11     11_0    COMPLETED           BoTorch        3.022754   \n",
       "8             8      8_0    COMPLETED           BoTorch        3.086924   \n",
       "5             5      5_0    COMPLETED             Sobol        3.021996   \n",
       "12           12     12_0    COMPLETED           BoTorch        3.045402   \n",
       "19           19     19_0    COMPLETED           BoTorch        3.113433   \n",
       "14           14     14_0    COMPLETED           BoTorch        3.087870   \n",
       "\n",
       "    MAE_timestamp  MacroF1Activity  activity_accuracy  resource_accuracy  \\\n",
       "0        0.124686         0.465442           0.611383           0.319463   \n",
       "16       0.468481         0.599465           0.614550           0.512215   \n",
       "1        0.215865         0.610737           0.642201           0.565262   \n",
       "13       0.124550         0.591317           0.643329           0.321772   \n",
       "7        0.302930         0.594533           0.646013           0.481020   \n",
       "17       0.141115         0.597251           0.648752           0.566121   \n",
       "3        0.129809         0.601565           0.650792           0.566819   \n",
       "6        0.109936         0.608279           0.651329           0.563973   \n",
       "4        0.111962         0.614537           0.652295           0.438819   \n",
       "15       0.119093         0.611515           0.653960           0.556832   \n",
       "18       0.391534         0.616453           0.655409           0.567087   \n",
       "10       0.114292         0.623534           0.659758           0.568161   \n",
       "9        0.093563         0.620147           0.666631           0.566711   \n",
       "2        0.206091         0.639555           0.668456           0.563329   \n",
       "11       0.099323         0.637531           0.669423           0.570309   \n",
       "8        0.112285         0.630987           0.671839           0.565638   \n",
       "5        0.101056         0.642939           0.675919           0.569342   \n",
       "12       0.104355         0.647465           0.676832           0.566175   \n",
       "19       0.146594         0.659515           0.678389           0.567087   \n",
       "14       0.135514         0.669736           0.683973           0.568107   \n",
       "\n",
       "    resource_roles_accuracy        lr  batch_size  heads  hid  layers  \\\n",
       "0                  0.754792  0.000187        1024      1  128       2   \n",
       "16                 0.789906  0.100000         256      4  128       2   \n",
       "1                  0.791678  0.020423         256      4  128       2   \n",
       "13                 0.790658  0.000100         256      4  128       2   \n",
       "7                  0.791785  0.100000        1024      1  128       2   \n",
       "17                 0.791839  0.003454         256      4  128       2   \n",
       "3                  0.791839  0.002055         256      4  128       2   \n",
       "6                  0.791839  0.005120         256      4  128       2   \n",
       "4                  0.790658  0.001014        1024      4  128       2   \n",
       "15                 0.791839  0.003216        1024      4  128       2   \n",
       "18                 0.791678  0.024724        1024      4  128       2   \n",
       "10                 0.791839  0.003333         256      1  128       2   \n",
       "9                  0.791839  0.004031         256      1  128       2   \n",
       "2                  0.791839  0.007958        1024      1  128       2   \n",
       "11                 0.791839  0.004242         256      4  128       2   \n",
       "8                  0.791839  0.003813         256      1  128       2   \n",
       "5                  0.791785  0.003913         256      1  128       2   \n",
       "12                 0.791839  0.004112         256      1  128       2   \n",
       "19                 0.791839  0.004672         256      1  128       2   \n",
       "14                 0.791678  0.004643         256      1  128       2   \n",
       "\n",
       "   aggregation  \n",
       "0          max  \n",
       "16         max  \n",
       "1          max  \n",
       "13         max  \n",
       "7          max  \n",
       "17         max  \n",
       "3          max  \n",
       "6          max  \n",
       "4          max  \n",
       "15         max  \n",
       "18         max  \n",
       "10         max  \n",
       "9          max  \n",
       "2          max  \n",
       "11         max  \n",
       "8          max  \n",
       "5          max  \n",
       "12         max  \n",
       "19         max  \n",
       "14         max  "
      ]
     },
     "execution_count": 24,
     "metadata": {},
     "output_type": "execute_result"
    }
   ],
   "source": [
    "results.sort_values(by=\"activity_accuracy\")"
   ]
  },
  {
   "cell_type": "code",
   "execution_count": null,
   "metadata": {},
   "outputs": [],
   "source": [
    "results = results.sort_values(by=\"AVG_total_loss\")"
   ]
  },
  {
   "cell_type": "code",
   "execution_count": null,
   "metadata": {},
   "outputs": [],
   "source": [
    "results.to_csv(\"SAGECONV_resROLES.csv\", sep=\",\")"
   ]
  }
 ],
 "metadata": {
  "kernelspec": {
   "display_name": "hgnn_env",
   "language": "python",
   "name": "python3"
  },
  "language_info": {
   "codemirror_mode": {
    "name": "ipython",
    "version": 3
   },
   "file_extension": ".py",
   "mimetype": "text/x-python",
   "name": "python",
   "nbconvert_exporter": "python",
   "pygments_lexer": "ipython3",
   "version": "3.10.12"
  }
 },
 "nbformat": 4,
 "nbformat_minor": 2
}
