{
 "cells": [
  {
   "cell_type": "code",
   "execution_count": 1,
   "metadata": {},
   "outputs": [
    {
     "name": "stdout",
     "output_type": "stream",
     "text": [
      "/home/sebdis/ProcessMining/HGNN/HGNN_NA\n",
      "/home/sebdis/ProcessMining/HGNN/HGNN_NA/data/datasets/original/\n",
      "/home/sebdis/ProcessMining/HGNN/HGNN_NA/data/datasets/processed/\n",
      "/home/sebdis/ProcessMining/HGNN/HGNN_NA/data/datasets/graphs/\n"
     ]
    }
   ],
   "source": [
    "import pandas as pd\n",
    "import os\n",
    "from os.path import dirname\n",
    "\n",
    "root_path = dirname(os.getcwd())\n",
    "\n",
    "pd.set_option(\"display.max_columns\", None)\n",
    "data_dir = root_path + \"/data/datasets/original/\"\n",
    "data_dir_processed = root_path + \"/data/datasets/processed/\"\n",
    "data_dir_graphs = root_path + \"/data/datasets/graphs/\"\n",
    "\n",
    "print(root_path, data_dir, data_dir_processed, data_dir_graphs, sep=\"\\n\")"
   ]
  },
  {
   "cell_type": "code",
   "execution_count": 2,
   "metadata": {},
   "outputs": [],
   "source": [
    "dataset = \"sp2020\""
   ]
  },
  {
   "cell_type": "code",
   "execution_count": 9,
   "metadata": {},
   "outputs": [
    {
     "data": {
      "text/html": [
       "<div>\n",
       "<style scoped>\n",
       "    .dataframe tbody tr th:only-of-type {\n",
       "        vertical-align: middle;\n",
       "    }\n",
       "\n",
       "    .dataframe tbody tr th {\n",
       "        vertical-align: top;\n",
       "    }\n",
       "\n",
       "    .dataframe thead th {\n",
       "        text-align: right;\n",
       "    }\n",
       "</style>\n",
       "<table border=\"1\" class=\"dataframe\">\n",
       "  <thead>\n",
       "    <tr style=\"text-align: right;\">\n",
       "      <th></th>\n",
       "      <th>CaseID</th>\n",
       "      <th>Activity</th>\n",
       "      <th>time:timestamp</th>\n",
       "      <th>REPAIR_IN_TIME_5D</th>\n",
       "      <th>DEVICETYPE</th>\n",
       "      <th>org:resource</th>\n",
       "    </tr>\n",
       "  </thead>\n",
       "  <tbody>\n",
       "    <tr>\n",
       "      <th>0</th>\n",
       "      <td>Case10</td>\n",
       "      <td>Creation</td>\n",
       "      <td>2018-01-02 13:39:47.0000000</td>\n",
       "      <td>0</td>\n",
       "      <td>AB52</td>\n",
       "      <td>E</td>\n",
       "    </tr>\n",
       "    <tr>\n",
       "      <th>1</th>\n",
       "      <td>Case10</td>\n",
       "      <td>Letter</td>\n",
       "      <td>2018-01-05 00:00:00.0000000</td>\n",
       "      <td>0</td>\n",
       "      <td>AB52</td>\n",
       "      <td>E</td>\n",
       "    </tr>\n",
       "    <tr>\n",
       "      <th>2</th>\n",
       "      <td>Case10</td>\n",
       "      <td>DeviceReceived</td>\n",
       "      <td>2018-01-05 16:45:34.0000000</td>\n",
       "      <td>0</td>\n",
       "      <td>AB52</td>\n",
       "      <td>E</td>\n",
       "    </tr>\n",
       "    <tr>\n",
       "      <th>3</th>\n",
       "      <td>Case10</td>\n",
       "      <td>StockEntry</td>\n",
       "      <td>2018-01-17 00:00:00.0000000</td>\n",
       "      <td>0</td>\n",
       "      <td>AB52</td>\n",
       "      <td>E</td>\n",
       "    </tr>\n",
       "    <tr>\n",
       "      <th>4</th>\n",
       "      <td>Case10</td>\n",
       "      <td>InDelivery</td>\n",
       "      <td>2018-01-17 00:00:00.0000000</td>\n",
       "      <td>0</td>\n",
       "      <td>AB52</td>\n",
       "      <td>E</td>\n",
       "    </tr>\n",
       "  </tbody>\n",
       "</table>\n",
       "</div>"
      ],
      "text/plain": [
       "   CaseID        Activity               time:timestamp  REPAIR_IN_TIME_5D  \\\n",
       "0  Case10        Creation  2018-01-02 13:39:47.0000000                  0   \n",
       "1  Case10          Letter  2018-01-05 00:00:00.0000000                  0   \n",
       "2  Case10  DeviceReceived  2018-01-05 16:45:34.0000000                  0   \n",
       "3  Case10      StockEntry  2018-01-17 00:00:00.0000000                  0   \n",
       "4  Case10      InDelivery  2018-01-17 00:00:00.0000000                  0   \n",
       "\n",
       "  DEVICETYPE org:resource  \n",
       "0       AB52            E  \n",
       "1       AB52            E  \n",
       "2       AB52            E  \n",
       "3       AB52            E  \n",
       "4       AB52            E  "
      ]
     },
     "execution_count": 9,
     "metadata": {},
     "output_type": "execute_result"
    }
   ],
   "source": [
    "filename = data_dir + dataset + \".csv\"\n",
    "raw_data = pd.read_csv(filename, index_col=False, sep=\";\")\n",
    "raw_data.head()"
   ]
  },
  {
   "cell_type": "code",
   "execution_count": 10,
   "metadata": {},
   "outputs": [],
   "source": [
    "tab_all = raw_data"
   ]
  },
  {
   "cell_type": "code",
   "execution_count": 11,
   "metadata": {},
   "outputs": [
    {
     "data": {
      "text/plain": [
       "array(['Creation', 'Letter', 'DeviceReceived', 'StockEntry', 'InDelivery',\n",
       "       'NoteWorkshop', 'Completed', 'NoteHotline', 'StatusRequest',\n",
       "       'Transmission', 'Approved', 'FreeticketCust', 'FreeticketComp'],\n",
       "      dtype=object)"
      ]
     },
     "execution_count": 11,
     "metadata": {},
     "output_type": "execute_result"
    }
   ],
   "source": [
    "tab_all[\"Activity\"].unique()"
   ]
  },
  {
   "cell_type": "code",
   "execution_count": 12,
   "metadata": {},
   "outputs": [
    {
     "data": {
      "text/html": [
       "<div>\n",
       "<style scoped>\n",
       "    .dataframe tbody tr th:only-of-type {\n",
       "        vertical-align: middle;\n",
       "    }\n",
       "\n",
       "    .dataframe tbody tr th {\n",
       "        vertical-align: top;\n",
       "    }\n",
       "\n",
       "    .dataframe thead th {\n",
       "        text-align: right;\n",
       "    }\n",
       "</style>\n",
       "<table border=\"1\" class=\"dataframe\">\n",
       "  <thead>\n",
       "    <tr style=\"text-align: right;\">\n",
       "      <th></th>\n",
       "      <th>CaseID</th>\n",
       "      <th>Activity</th>\n",
       "      <th>time:timestamp</th>\n",
       "      <th>REPAIR_IN_TIME_5D</th>\n",
       "      <th>DEVICETYPE</th>\n",
       "      <th>org:resource</th>\n",
       "    </tr>\n",
       "  </thead>\n",
       "  <tbody>\n",
       "    <tr>\n",
       "      <th>0</th>\n",
       "      <td>Case10</td>\n",
       "      <td>Creation</td>\n",
       "      <td>2018/01/02 13:39:47</td>\n",
       "      <td>0</td>\n",
       "      <td>AB52</td>\n",
       "      <td>E</td>\n",
       "    </tr>\n",
       "    <tr>\n",
       "      <th>1</th>\n",
       "      <td>Case10</td>\n",
       "      <td>Letter</td>\n",
       "      <td>2018/01/05 00:00:00</td>\n",
       "      <td>0</td>\n",
       "      <td>AB52</td>\n",
       "      <td>E</td>\n",
       "    </tr>\n",
       "    <tr>\n",
       "      <th>2</th>\n",
       "      <td>Case10</td>\n",
       "      <td>DeviceReceived</td>\n",
       "      <td>2018/01/05 16:45:34</td>\n",
       "      <td>0</td>\n",
       "      <td>AB52</td>\n",
       "      <td>E</td>\n",
       "    </tr>\n",
       "    <tr>\n",
       "      <th>3</th>\n",
       "      <td>Case10</td>\n",
       "      <td>StockEntry</td>\n",
       "      <td>2018/01/17 00:00:00</td>\n",
       "      <td>0</td>\n",
       "      <td>AB52</td>\n",
       "      <td>E</td>\n",
       "    </tr>\n",
       "    <tr>\n",
       "      <th>4</th>\n",
       "      <td>Case10</td>\n",
       "      <td>InDelivery</td>\n",
       "      <td>2018/01/17 00:00:00</td>\n",
       "      <td>0</td>\n",
       "      <td>AB52</td>\n",
       "      <td>E</td>\n",
       "    </tr>\n",
       "  </tbody>\n",
       "</table>\n",
       "</div>"
      ],
      "text/plain": [
       "   CaseID        Activity       time:timestamp  REPAIR_IN_TIME_5D DEVICETYPE  \\\n",
       "0  Case10        Creation  2018/01/02 13:39:47                  0       AB52   \n",
       "1  Case10          Letter  2018/01/05 00:00:00                  0       AB52   \n",
       "2  Case10  DeviceReceived  2018/01/05 16:45:34                  0       AB52   \n",
       "3  Case10      StockEntry  2018/01/17 00:00:00                  0       AB52   \n",
       "4  Case10      InDelivery  2018/01/17 00:00:00                  0       AB52   \n",
       "\n",
       "  org:resource  \n",
       "0            E  \n",
       "1            E  \n",
       "2            E  \n",
       "3            E  \n",
       "4            E  "
      ]
     },
     "execution_count": 12,
     "metadata": {},
     "output_type": "execute_result"
    }
   ],
   "source": [
    "tab_all[\"time:timestamp\"] = [x.split(\".\")[0] for x in tab_all[\"time:timestamp\"]]\n",
    "\n",
    "tab_all[\"time:timestamp\"] = tab_all[\"time:timestamp\"].str.replace(\"-\", \"/\")\n",
    "tab_all[\"time:timestamp\"] = tab_all[\"time:timestamp\"].str.split(\"+\", expand=True)[0]\n",
    "\n",
    "tab_all.head()"
   ]
  },
  {
   "cell_type": "code",
   "execution_count": 13,
   "metadata": {},
   "outputs": [
    {
     "data": {
      "text/html": [
       "<div>\n",
       "<style scoped>\n",
       "    .dataframe tbody tr th:only-of-type {\n",
       "        vertical-align: middle;\n",
       "    }\n",
       "\n",
       "    .dataframe tbody tr th {\n",
       "        vertical-align: top;\n",
       "    }\n",
       "\n",
       "    .dataframe thead th {\n",
       "        text-align: right;\n",
       "    }\n",
       "</style>\n",
       "<table border=\"1\" class=\"dataframe\">\n",
       "  <thead>\n",
       "    <tr style=\"text-align: right;\">\n",
       "      <th></th>\n",
       "      <th>CaseID</th>\n",
       "      <th>Activity</th>\n",
       "      <th>time:timestamp</th>\n",
       "      <th>REPAIR_IN_TIME_5D</th>\n",
       "      <th>DEVICETYPE</th>\n",
       "      <th>org:resource</th>\n",
       "    </tr>\n",
       "  </thead>\n",
       "  <tbody>\n",
       "    <tr>\n",
       "      <th>0</th>\n",
       "      <td>Case10</td>\n",
       "      <td>Creation</td>\n",
       "      <td>1.514897e+09</td>\n",
       "      <td>0</td>\n",
       "      <td>AB52</td>\n",
       "      <td>E</td>\n",
       "    </tr>\n",
       "    <tr>\n",
       "      <th>1</th>\n",
       "      <td>Case10</td>\n",
       "      <td>Letter</td>\n",
       "      <td>1.515107e+09</td>\n",
       "      <td>0</td>\n",
       "      <td>AB52</td>\n",
       "      <td>E</td>\n",
       "    </tr>\n",
       "    <tr>\n",
       "      <th>2</th>\n",
       "      <td>Case10</td>\n",
       "      <td>DeviceReceived</td>\n",
       "      <td>1.515167e+09</td>\n",
       "      <td>0</td>\n",
       "      <td>AB52</td>\n",
       "      <td>E</td>\n",
       "    </tr>\n",
       "    <tr>\n",
       "      <th>3</th>\n",
       "      <td>Case10</td>\n",
       "      <td>StockEntry</td>\n",
       "      <td>1.516144e+09</td>\n",
       "      <td>0</td>\n",
       "      <td>AB52</td>\n",
       "      <td>E</td>\n",
       "    </tr>\n",
       "    <tr>\n",
       "      <th>4</th>\n",
       "      <td>Case10</td>\n",
       "      <td>InDelivery</td>\n",
       "      <td>1.516144e+09</td>\n",
       "      <td>0</td>\n",
       "      <td>AB52</td>\n",
       "      <td>E</td>\n",
       "    </tr>\n",
       "  </tbody>\n",
       "</table>\n",
       "</div>"
      ],
      "text/plain": [
       "   CaseID        Activity  time:timestamp  REPAIR_IN_TIME_5D DEVICETYPE  \\\n",
       "0  Case10        Creation    1.514897e+09                  0       AB52   \n",
       "1  Case10          Letter    1.515107e+09                  0       AB52   \n",
       "2  Case10  DeviceReceived    1.515167e+09                  0       AB52   \n",
       "3  Case10      StockEntry    1.516144e+09                  0       AB52   \n",
       "4  Case10      InDelivery    1.516144e+09                  0       AB52   \n",
       "\n",
       "  org:resource  \n",
       "0            E  \n",
       "1            E  \n",
       "2            E  \n",
       "3            E  \n",
       "4            E  "
      ]
     },
     "execution_count": 13,
     "metadata": {},
     "output_type": "execute_result"
    }
   ],
   "source": [
    "from utils import translate_time\n",
    "\n",
    "tab_all['time:timestamp'] = tab_all['time:timestamp'].apply(translate_time)\n",
    "tab_all.head()"
   ]
  },
  {
   "cell_type": "code",
   "execution_count": 14,
   "metadata": {},
   "outputs": [],
   "source": [
    "categorical_columns = ['Activity', \"REPAIR_IN_TIME_5D\", \"DEVICETYPE\", \"org:resource\"]\n",
    "real_value_columns = [\"time:timestamp\"]"
   ]
  },
  {
   "cell_type": "code",
   "execution_count": 15,
   "metadata": {},
   "outputs": [
    {
     "data": {
      "text/plain": [
       "True"
      ]
     },
     "execution_count": 15,
     "metadata": {},
     "output_type": "execute_result"
    }
   ],
   "source": [
    "tab_all.isnull().values.any()"
   ]
  },
  {
   "cell_type": "code",
   "execution_count": 16,
   "metadata": {},
   "outputs": [],
   "source": [
    "tab_all = tab_all.fillna({key: \"NAN\" for key in categorical_columns})\n",
    "tab_all = tab_all.fillna({key: -1 for key in real_value_columns})"
   ]
  },
  {
   "cell_type": "code",
   "execution_count": 17,
   "metadata": {},
   "outputs": [
    {
     "data": {
      "text/html": [
       "<div>\n",
       "<style scoped>\n",
       "    .dataframe tbody tr th:only-of-type {\n",
       "        vertical-align: middle;\n",
       "    }\n",
       "\n",
       "    .dataframe tbody tr th {\n",
       "        vertical-align: top;\n",
       "    }\n",
       "\n",
       "    .dataframe thead th {\n",
       "        text-align: right;\n",
       "    }\n",
       "</style>\n",
       "<table border=\"1\" class=\"dataframe\">\n",
       "  <thead>\n",
       "    <tr style=\"text-align: right;\">\n",
       "      <th></th>\n",
       "      <th>CaseID</th>\n",
       "      <th>Activity</th>\n",
       "      <th>time:timestamp</th>\n",
       "      <th>REPAIR_IN_TIME_5D</th>\n",
       "      <th>DEVICETYPE</th>\n",
       "      <th>org:resource</th>\n",
       "    </tr>\n",
       "  </thead>\n",
       "  <tbody>\n",
       "    <tr>\n",
       "      <th>0</th>\n",
       "      <td>Case10</td>\n",
       "      <td>Creation</td>\n",
       "      <td>18.796956</td>\n",
       "      <td>0</td>\n",
       "      <td>AB52</td>\n",
       "      <td>E</td>\n",
       "    </tr>\n",
       "    <tr>\n",
       "      <th>1</th>\n",
       "      <td>Case10</td>\n",
       "      <td>Letter</td>\n",
       "      <td>18.798397</td>\n",
       "      <td>0</td>\n",
       "      <td>AB52</td>\n",
       "      <td>E</td>\n",
       "    </tr>\n",
       "    <tr>\n",
       "      <th>2</th>\n",
       "      <td>Case10</td>\n",
       "      <td>DeviceReceived</td>\n",
       "      <td>18.798810</td>\n",
       "      <td>0</td>\n",
       "      <td>AB52</td>\n",
       "      <td>E</td>\n",
       "    </tr>\n",
       "    <tr>\n",
       "      <th>3</th>\n",
       "      <td>Case10</td>\n",
       "      <td>StockEntry</td>\n",
       "      <td>18.805478</td>\n",
       "      <td>0</td>\n",
       "      <td>AB52</td>\n",
       "      <td>E</td>\n",
       "    </tr>\n",
       "    <tr>\n",
       "      <th>4</th>\n",
       "      <td>Case10</td>\n",
       "      <td>InDelivery</td>\n",
       "      <td>18.805478</td>\n",
       "      <td>0</td>\n",
       "      <td>AB52</td>\n",
       "      <td>E</td>\n",
       "    </tr>\n",
       "  </tbody>\n",
       "</table>\n",
       "</div>"
      ],
      "text/plain": [
       "   CaseID        Activity  time:timestamp  REPAIR_IN_TIME_5D DEVICETYPE  \\\n",
       "0  Case10        Creation       18.796956                  0       AB52   \n",
       "1  Case10          Letter       18.798397                  0       AB52   \n",
       "2  Case10  DeviceReceived       18.798810                  0       AB52   \n",
       "3  Case10      StockEntry       18.805478                  0       AB52   \n",
       "4  Case10      InDelivery       18.805478                  0       AB52   \n",
       "\n",
       "  org:resource  \n",
       "0            E  \n",
       "1            E  \n",
       "2            E  \n",
       "3            E  \n",
       "4            E  "
      ]
     },
     "execution_count": 17,
     "metadata": {},
     "output_type": "execute_result"
    }
   ],
   "source": [
    "from math import log\n",
    "\n",
    "\n",
    "min_time = tab_all['time:timestamp'].min() \n",
    "\n",
    "tab_all['time:timestamp'] -= min_time\n",
    "tab_all['time:timestamp'] = [ log(x)  if x > 0 else 0. for x in tab_all['time:timestamp'].values]\n",
    "\n",
    "\n",
    "tab_all.head()"
   ]
  },
  {
   "cell_type": "code",
   "execution_count": 18,
   "metadata": {},
   "outputs": [
    {
     "name": "stdout",
     "output_type": "stream",
     "text": [
      "20.0 Analysing resource pool \n",
      "40.0 Analysing resource pool \n",
      "60.0 Analysing resource pool \n",
      "80.0 Analysing resource pool \n",
      "100.0 Analysing resource pool \n",
      "('ROLES \\n'\n",
      " '\\n'\n",
      " \"([{'role': 'Role 1', 'quantity': 12, 'members': ['E', 'G', 'J', 'L', 'NAN', \"\n",
      " \"'C', 'H', 'I', 'K', 'D', 'B', 'A']}], [{'role': 'Role 1', 'resource': 'E'}, \"\n",
      " \"{'role': 'Role 1', 'resource': 'G'}, {'role': 'Role 1', 'resource': 'J'}, \"\n",
      " \"{'role': 'Role 1', 'resource': 'L'}, {'role': 'Role 1', 'resource': 'NAN'}, \"\n",
      " \"{'role': 'Role 1', 'resource': 'C'}, {'role': 'Role 1', 'resource': 'H'}, \"\n",
      " \"{'role': 'Role 1', 'resource': 'I'}, {'role': 'Role 1', 'resource': 'K'}, \"\n",
      " \"{'role': 'Role 1', 'resource': 'D'}, {'role': 'Role 1', 'resource': 'B'}, \"\n",
      " \"{'role': 'Role 1', 'resource': 'A'}])\\n\"\n",
      " '\\n')\n"
     ]
    },
    {
     "name": "stderr",
     "output_type": "stream",
     "text": [
      "/home/sebdis/ProcessMining/HGNN/HGNN_NA/data/utils.py:218: SettingWithCopyWarning: \n",
      "A value is trying to be set on a copy of a slice from a DataFrame.\n",
      "Try using .loc[row_indexer,col_indexer] = value instead\n",
      "\n",
      "See the caveats in the documentation: https://pandas.pydata.org/pandas-docs/stable/user_guide/indexing.html#returning-a-view-versus-a-copy\n",
      "  self.data['ac_rl'] = self.data.apply(associations, axis=1)\n"
     ]
    }
   ],
   "source": [
    "from utils import get_resource_role_map\n",
    "roles_map = get_resource_role_map(tab_all)"
   ]
  },
  {
   "cell_type": "code",
   "execution_count": 19,
   "metadata": {},
   "outputs": [
    {
     "data": {
      "text/plain": [
       "{'E': 'Role 1',\n",
       " 'G': 'Role 1',\n",
       " 'J': 'Role 1',\n",
       " 'L': 'Role 1',\n",
       " 'NAN': 'Role 1',\n",
       " 'C': 'Role 1',\n",
       " 'H': 'Role 1',\n",
       " 'I': 'Role 1',\n",
       " 'K': 'Role 1',\n",
       " 'D': 'Role 1',\n",
       " 'B': 'Role 1',\n",
       " 'A': 'Role 1'}"
      ]
     },
     "execution_count": 19,
     "metadata": {},
     "output_type": "execute_result"
    }
   ],
   "source": [
    "roles_map = {\n",
    "    x[\"resource\"] : x[\"role\"]\n",
    "    for x in roles_map\n",
    "}\n",
    "roles_map"
   ]
  },
  {
   "cell_type": "code",
   "execution_count": 17,
   "metadata": {},
   "outputs": [],
   "source": [
    "tab_all[\"org:resource:role\"] = [roles_map[role] for role in tab_all[\"org:resource\"].values]"
   ]
  },
  {
   "cell_type": "code",
   "execution_count": 18,
   "metadata": {},
   "outputs": [],
   "source": [
    "categorical_columns.append(\"org:resource:role\")"
   ]
  },
  {
   "cell_type": "code",
   "execution_count": 20,
   "metadata": {},
   "outputs": [],
   "source": [
    "tab_all.to_csv(data_dir_processed + f\"{dataset}_processed_all.csv\", index=False)"
   ]
  },
  {
   "cell_type": "markdown",
   "metadata": {},
   "source": [
    "# Split the dataset"
   ]
  },
  {
   "cell_type": "code",
   "execution_count": 21,
   "metadata": {},
   "outputs": [],
   "source": [
    "split_ratio = 2 / 3\n",
    "\n",
    "first_act_tab = (\n",
    "    tab_all.groupby(\"CaseID\").first().sort_values(\"time:timestamp\").reset_index()\n",
    ")\n",
    "first_act_tab = first_act_tab[\n",
    "    ~first_act_tab.duplicated(subset=[\"CaseID\", \"Activity\"], keep=\"first\")\n",
    "]\n",
    "first_act_tab = first_act_tab.reset_index(drop=True)\n",
    "\n",
    "list_train_valid_cases = list(\n",
    "    first_act_tab[: int(split_ratio * len(first_act_tab))][\"CaseID\"].unique()\n",
    ")\n",
    "\n",
    "list_train_cases = list_train_valid_cases[: int(len(list_train_valid_cases) * 0.8)]\n",
    "tab_train = tab_all[tab_all[\"CaseID\"].isin(list_train_cases)].reset_index(drop=True)\n",
    "tab_train.to_csv(data_dir_processed+ f\"{dataset}_processed_train.csv\", index = False)\n",
    "\n",
    "list_valid_cases = list_train_valid_cases[int(len(list_train_valid_cases) * 0.8) :]\n",
    "tab_valid = tab_all[tab_all[\"CaseID\"].isin(list_valid_cases)].reset_index(drop=True)\n",
    "tab_valid.to_csv(data_dir_processed+f\"{dataset}_processed_valid.csv\", index = False)\n",
    "\n",
    "list_test_cases = list(\n",
    "    first_act_tab[int(split_ratio * len(first_act_tab)) :][\"CaseID\"].unique()\n",
    ")\n",
    "tab_test = tab_all[tab_all[\"CaseID\"].isin(list_test_cases)].reset_index(drop=True)\n",
    "tab_test.to_csv(data_dir_processed+ f\"{dataset}_processed_test.csv\", index = False)"
   ]
  },
  {
   "cell_type": "code",
   "execution_count": 22,
   "metadata": {},
   "outputs": [
    {
     "data": {
      "text/plain": [
       "Index(['CaseID', 'Activity', 'time:timestamp', 'REPAIR_IN_TIME_5D',\n",
       "       'DEVICETYPE', 'org:resource'],\n",
       "      dtype='object')"
      ]
     },
     "execution_count": 22,
     "metadata": {},
     "output_type": "execute_result"
    }
   ],
   "source": [
    "tab_all.columns"
   ]
  },
  {
   "cell_type": "code",
   "execution_count": 23,
   "metadata": {},
   "outputs": [
    {
     "data": {
      "text/html": [
       "<div>\n",
       "<style scoped>\n",
       "    .dataframe tbody tr th:only-of-type {\n",
       "        vertical-align: middle;\n",
       "    }\n",
       "\n",
       "    .dataframe tbody tr th {\n",
       "        vertical-align: top;\n",
       "    }\n",
       "\n",
       "    .dataframe thead th {\n",
       "        text-align: right;\n",
       "    }\n",
       "</style>\n",
       "<table border=\"1\" class=\"dataframe\">\n",
       "  <thead>\n",
       "    <tr style=\"text-align: right;\">\n",
       "      <th></th>\n",
       "      <th>CaseID</th>\n",
       "      <th>Activity</th>\n",
       "      <th>time:timestamp</th>\n",
       "      <th>REPAIR_IN_TIME_5D</th>\n",
       "      <th>DEVICETYPE</th>\n",
       "      <th>org:resource</th>\n",
       "    </tr>\n",
       "  </thead>\n",
       "  <tbody>\n",
       "    <tr>\n",
       "      <th>0</th>\n",
       "      <td>Case10</td>\n",
       "      <td>Creation</td>\n",
       "      <td>18.796956</td>\n",
       "      <td>0</td>\n",
       "      <td>AB52</td>\n",
       "      <td>E</td>\n",
       "    </tr>\n",
       "    <tr>\n",
       "      <th>1</th>\n",
       "      <td>Case10</td>\n",
       "      <td>Letter</td>\n",
       "      <td>18.798397</td>\n",
       "      <td>0</td>\n",
       "      <td>AB52</td>\n",
       "      <td>E</td>\n",
       "    </tr>\n",
       "    <tr>\n",
       "      <th>2</th>\n",
       "      <td>Case10</td>\n",
       "      <td>DeviceReceived</td>\n",
       "      <td>18.798810</td>\n",
       "      <td>0</td>\n",
       "      <td>AB52</td>\n",
       "      <td>E</td>\n",
       "    </tr>\n",
       "    <tr>\n",
       "      <th>3</th>\n",
       "      <td>Case10</td>\n",
       "      <td>StockEntry</td>\n",
       "      <td>18.805478</td>\n",
       "      <td>0</td>\n",
       "      <td>AB52</td>\n",
       "      <td>E</td>\n",
       "    </tr>\n",
       "    <tr>\n",
       "      <th>4</th>\n",
       "      <td>Case10</td>\n",
       "      <td>InDelivery</td>\n",
       "      <td>18.805478</td>\n",
       "      <td>0</td>\n",
       "      <td>AB52</td>\n",
       "      <td>E</td>\n",
       "    </tr>\n",
       "    <tr>\n",
       "      <th>...</th>\n",
       "      <td>...</td>\n",
       "      <td>...</td>\n",
       "      <td>...</td>\n",
       "      <td>...</td>\n",
       "      <td>...</td>\n",
       "      <td>...</td>\n",
       "    </tr>\n",
       "    <tr>\n",
       "      <th>94105</th>\n",
       "      <td>Case9999</td>\n",
       "      <td>DeviceReceived</td>\n",
       "      <td>18.893535</td>\n",
       "      <td>1</td>\n",
       "      <td>AB34</td>\n",
       "      <td>L</td>\n",
       "    </tr>\n",
       "    <tr>\n",
       "      <th>94106</th>\n",
       "      <td>Case9999</td>\n",
       "      <td>Letter</td>\n",
       "      <td>18.894836</td>\n",
       "      <td>1</td>\n",
       "      <td>AB34</td>\n",
       "      <td>L</td>\n",
       "    </tr>\n",
       "    <tr>\n",
       "      <th>94107</th>\n",
       "      <td>Case9999</td>\n",
       "      <td>InDelivery</td>\n",
       "      <td>18.895373</td>\n",
       "      <td>1</td>\n",
       "      <td>AB34</td>\n",
       "      <td>L</td>\n",
       "    </tr>\n",
       "    <tr>\n",
       "      <th>94108</th>\n",
       "      <td>Case9999</td>\n",
       "      <td>NoteWorkshop</td>\n",
       "      <td>18.895615</td>\n",
       "      <td>1</td>\n",
       "      <td>AB34</td>\n",
       "      <td>L</td>\n",
       "    </tr>\n",
       "    <tr>\n",
       "      <th>94109</th>\n",
       "      <td>Case9999</td>\n",
       "      <td>Completed</td>\n",
       "      <td>18.895616</td>\n",
       "      <td>1</td>\n",
       "      <td>AB34</td>\n",
       "      <td>L</td>\n",
       "    </tr>\n",
       "  </tbody>\n",
       "</table>\n",
       "<p>94110 rows × 6 columns</p>\n",
       "</div>"
      ],
      "text/plain": [
       "         CaseID        Activity  time:timestamp  REPAIR_IN_TIME_5D DEVICETYPE  \\\n",
       "0        Case10        Creation       18.796956                  0       AB52   \n",
       "1        Case10          Letter       18.798397                  0       AB52   \n",
       "2        Case10  DeviceReceived       18.798810                  0       AB52   \n",
       "3        Case10      StockEntry       18.805478                  0       AB52   \n",
       "4        Case10      InDelivery       18.805478                  0       AB52   \n",
       "...         ...             ...             ...                ...        ...   \n",
       "94105  Case9999  DeviceReceived       18.893535                  1       AB34   \n",
       "94106  Case9999          Letter       18.894836                  1       AB34   \n",
       "94107  Case9999      InDelivery       18.895373                  1       AB34   \n",
       "94108  Case9999    NoteWorkshop       18.895615                  1       AB34   \n",
       "94109  Case9999       Completed       18.895616                  1       AB34   \n",
       "\n",
       "      org:resource  \n",
       "0                E  \n",
       "1                E  \n",
       "2                E  \n",
       "3                E  \n",
       "4                E  \n",
       "...            ...  \n",
       "94105            L  \n",
       "94106            L  \n",
       "94107            L  \n",
       "94108            L  \n",
       "94109            L  \n",
       "\n",
       "[94110 rows x 6 columns]"
      ]
     },
     "execution_count": 23,
     "metadata": {},
     "output_type": "execute_result"
    }
   ],
   "source": [
    "tab_train"
   ]
  },
  {
   "cell_type": "markdown",
   "metadata": {},
   "source": [
    "### Prepare the graphs"
   ]
  },
  {
   "cell_type": "code",
   "execution_count": 24,
   "metadata": {},
   "outputs": [],
   "source": [
    "from utils import get_case_ids, is_static, get_one_hot_encoder, get_one_hot_encodings\n",
    "\n",
    "from torch import tensor, max, int64, float32\n",
    "from torch_geometric.data import HeteroData\n",
    "import numpy as np"
   ]
  },
  {
   "cell_type": "code",
   "execution_count": 25,
   "metadata": {},
   "outputs": [],
   "source": [
    "def get_node_features(dataset: pd.DataFrame, trace: pd.DataFrame, cat_features, real_features) -> dict:\n",
    "    columns_static = [c for c in trace if is_static(trace[c])]\n",
    "\n",
    "    res = {}\n",
    "\n",
    "    for key in trace:\n",
    "        values = trace[key].values\n",
    "        \n",
    "        \n",
    "        if key in cat_features:\n",
    "            onehot_encoder = get_one_hot_encoder(dataset, key)\n",
    "            if key not in columns_static:\n",
    "                res[key] = tensor(\n",
    "                    get_one_hot_encodings(onehot_encoder, values),\n",
    "                    dtype=float32,\n",
    "                    requires_grad=True\n",
    "                )\n",
    "            else:\n",
    "                res[key] = tensor(\n",
    "                    get_one_hot_encodings(onehot_encoder, np.array([values[0]])),\n",
    "                    dtype=float32,\n",
    "                    requires_grad=True\n",
    "                )\n",
    "        if key in real_features:\n",
    "            if key not in columns_static:\n",
    "                res[key] = tensor(values,  dtype=float32,requires_grad=True)\n",
    "            else:\n",
    "                res[key] = tensor([values[0]], dtype=float32,requires_grad=True)\n",
    "            res[key] = res[key].reshape(res[key].shape[0], 1)\n",
    "        \n",
    "    \n",
    "\n",
    "    return res\n"
   ]
  },
  {
   "cell_type": "code",
   "execution_count": 26,
   "metadata": {},
   "outputs": [],
   "source": [
    "\n",
    "\n",
    "def compute_edges_indexs(node_features: dict, prefix_len):\n",
    "    res = {}\n",
    "    keys = node_features.keys()\n",
    "    # indexes = [[i, j] for i in range(prefix_len) for j in range(i + 1, prefix_len)]\n",
    "    indexes = [[i, i + 1] for i in range(prefix_len-1)]\n",
    "    # activities indexes\n",
    "    for k in keys:\n",
    "        if len(node_features[k]) != 1:\n",
    "            if k == \"Activity\":\n",
    "                res[(k, \"followed_by\", k)] = indexes\n",
    "                for k2 in keys:\n",
    "                    if k2 != k:\n",
    "                        if len(node_features[k2]) == 1:\n",
    "                            res[(k, \"related_to\", k2)] = [\n",
    "                                [i, 0] for i in range(prefix_len)\n",
    "                            ]\n",
    "                        else:\n",
    "                            res[(k, \"related_to\", k2)] = [\n",
    "                                [i, i] for i in range(prefix_len)\n",
    "                            ]\n",
    "            else:\n",
    "                res[(k, \"related_to\", k)] = indexes\n",
    "\n",
    "    return res"
   ]
  },
  {
   "cell_type": "code",
   "execution_count": 27,
   "metadata": {},
   "outputs": [],
   "source": [
    "import torch\n",
    "\n",
    "from torch import cat\n",
    "\n",
    "def compute_edges_features(node_features, edges_indexes, cat_features, real_features):\n",
    "    res = {}\n",
    "\n",
    "    for k in edges_indexes:\n",
    "        if k[0] == k[2]:\n",
    "            indexes = edges_indexes[k]\n",
    "            res[k] = []\n",
    "            \n",
    "            if k[0] in cat_features:\n",
    "                for i in indexes:\n",
    "                        res[k].append(      \n",
    "                            cat(\n",
    "                                (\n",
    "                                    tensor([torch.equal(node_features[k[0]][i[0]],node_features[k[0]][i[1]])], dtype=torch.float32),\n",
    "                                    tensor([i[1] - i[0]], dtype=torch.float32),\n",
    "                                )\n",
    "                            )\n",
    "                        )\n",
    "            elif k[0] in real_features:\n",
    "                for i in indexes:\n",
    "                        res[k].append(\n",
    "                            tensor(\n",
    "                                [\n",
    "                                    node_features[k[0]][i[1]]\n",
    "                                    - node_features[k[0]][i[0]],\n",
    "                                    i[1] - i[0],\n",
    "                                ]\n",
    "                            )\n",
    "                        )\n",
    "            \n",
    "\n",
    "    return res"
   ]
  },
  {
   "cell_type": "code",
   "execution_count": 28,
   "metadata": {},
   "outputs": [],
   "source": [
    "# from pprint import pprint as print\n",
    "\n",
    "from torch import stack\n",
    "\n",
    "def build_prefixes_graph_from_trace(dataset, trace, cat_features, real_features):\n",
    "    X = []  # graphs\n",
    "   \n",
    "\n",
    "    node_features = get_node_features(dataset, trace, cat_features, real_features)\n",
    "    \n",
    "    \n",
    "    prefix_lenghts = range(2, len(trace))\n",
    "    # print(prefix_lenghts)\n",
    "    for prefix in prefix_lenghts:\n",
    "        # print(prefix)\n",
    "\n",
    "        # init node types and features\n",
    "        G = HeteroData()\n",
    "        for k in node_features:\n",
    "            G[k].x = node_features[k][:prefix]\n",
    "        \n",
    "\n",
    "        edges_indexes = compute_edges_indexs(node_features, prefix)\n",
    "\n",
    "        edge_features = compute_edges_features(node_features, edges_indexes, cat_features, real_features)\n",
    "        \n",
    "        for k in edge_features:\n",
    "            G[k].edge_attr = stack(edge_features[k])\n",
    "            \n",
    "\n",
    "\n",
    "        for k in edges_indexes:\n",
    "            ce = [[], []]\n",
    "            for i in range(len(edges_indexes[k])):\n",
    "                ce[0].append(edges_indexes[k][i][0])\n",
    "                ce[1].append(edges_indexes[k][i][1])\n",
    "            edges_indexes[k] = ce\n",
    "\n",
    "        for k in edges_indexes:\n",
    "            G[k].edge_index = tensor(edges_indexes[k], dtype=int64)\n",
    "\n",
    "        G.y = {}\n",
    "        for k in node_features:\n",
    "            if k in cat_features:\n",
    "                G.y[k] = torch.max(node_features[k][0],0)[1] if len(node_features[k]) == 1 else torch.max(node_features[k][prefix], 0)[1]\n",
    "            else:\n",
    "                G.y[k] = torch.tensor([node_features[k][prefix][0]])\n",
    "        \n",
    "        X.append(G)\n",
    "\n",
    "        \n",
    "    return X"
   ]
  },
  {
   "cell_type": "markdown",
   "metadata": {},
   "source": [
    "## Create the datasets"
   ]
  },
  {
   "cell_type": "code",
   "execution_count": 29,
   "metadata": {},
   "outputs": [],
   "source": [
    "case_train_ids = get_case_ids(tab_train)\n",
    "case_valid_ids = get_case_ids(tab_valid)\n",
    "case_test_ids = get_case_ids(tab_test)"
   ]
  },
  {
   "cell_type": "code",
   "execution_count": 30,
   "metadata": {},
   "outputs": [
    {
     "name": "stdout",
     "output_type": "stream",
     "text": [
      "12749\n",
      "3188\n",
      "7969\n"
     ]
    }
   ],
   "source": [
    "print(len(case_train_ids))\n",
    "print(len(case_valid_ids))\n",
    "print(len(case_test_ids))"
   ]
  },
  {
   "cell_type": "code",
   "execution_count": 31,
   "metadata": {},
   "outputs": [
    {
     "data": {
      "text/html": [
       "<div>\n",
       "<style scoped>\n",
       "    .dataframe tbody tr th:only-of-type {\n",
       "        vertical-align: middle;\n",
       "    }\n",
       "\n",
       "    .dataframe tbody tr th {\n",
       "        vertical-align: top;\n",
       "    }\n",
       "\n",
       "    .dataframe thead th {\n",
       "        text-align: right;\n",
       "    }\n",
       "</style>\n",
       "<table border=\"1\" class=\"dataframe\">\n",
       "  <thead>\n",
       "    <tr style=\"text-align: right;\">\n",
       "      <th></th>\n",
       "      <th>Activity</th>\n",
       "      <th>time:timestamp</th>\n",
       "      <th>REPAIR_IN_TIME_5D</th>\n",
       "      <th>DEVICETYPE</th>\n",
       "      <th>org:resource</th>\n",
       "    </tr>\n",
       "  </thead>\n",
       "  <tbody>\n",
       "    <tr>\n",
       "      <th>0</th>\n",
       "      <td>Creation</td>\n",
       "      <td>18.796956</td>\n",
       "      <td>0</td>\n",
       "      <td>AB52</td>\n",
       "      <td>E</td>\n",
       "    </tr>\n",
       "    <tr>\n",
       "      <th>1</th>\n",
       "      <td>Letter</td>\n",
       "      <td>18.798397</td>\n",
       "      <td>0</td>\n",
       "      <td>AB52</td>\n",
       "      <td>E</td>\n",
       "    </tr>\n",
       "    <tr>\n",
       "      <th>2</th>\n",
       "      <td>DeviceReceived</td>\n",
       "      <td>18.798810</td>\n",
       "      <td>0</td>\n",
       "      <td>AB52</td>\n",
       "      <td>E</td>\n",
       "    </tr>\n",
       "    <tr>\n",
       "      <th>3</th>\n",
       "      <td>StockEntry</td>\n",
       "      <td>18.805478</td>\n",
       "      <td>0</td>\n",
       "      <td>AB52</td>\n",
       "      <td>E</td>\n",
       "    </tr>\n",
       "    <tr>\n",
       "      <th>4</th>\n",
       "      <td>InDelivery</td>\n",
       "      <td>18.805478</td>\n",
       "      <td>0</td>\n",
       "      <td>AB52</td>\n",
       "      <td>E</td>\n",
       "    </tr>\n",
       "    <tr>\n",
       "      <th>5</th>\n",
       "      <td>NoteWorkshop</td>\n",
       "      <td>18.805665</td>\n",
       "      <td>0</td>\n",
       "      <td>AB52</td>\n",
       "      <td>E</td>\n",
       "    </tr>\n",
       "    <tr>\n",
       "      <th>6</th>\n",
       "      <td>Completed</td>\n",
       "      <td>18.805712</td>\n",
       "      <td>0</td>\n",
       "      <td>AB52</td>\n",
       "      <td>E</td>\n",
       "    </tr>\n",
       "  </tbody>\n",
       "</table>\n",
       "</div>"
      ],
      "text/plain": [
       "         Activity  time:timestamp  REPAIR_IN_TIME_5D DEVICETYPE org:resource\n",
       "0        Creation       18.796956                  0       AB52            E\n",
       "1          Letter       18.798397                  0       AB52            E\n",
       "2  DeviceReceived       18.798810                  0       AB52            E\n",
       "3      StockEntry       18.805478                  0       AB52            E\n",
       "4      InDelivery       18.805478                  0       AB52            E\n",
       "5    NoteWorkshop       18.805665                  0       AB52            E\n",
       "6       Completed       18.805712                  0       AB52            E"
      ]
     },
     "execution_count": 31,
     "metadata": {},
     "output_type": "execute_result"
    }
   ],
   "source": [
    "trace = (\n",
    "        tab_train.query(f\"CaseID == '{case_train_ids[0]}'\")\n",
    "        .reset_index()\n",
    "        .drop(columns=\"index\")\n",
    "        .drop(columns=\"CaseID\")\n",
    "    )\n",
    "trace "
   ]
  },
  {
   "cell_type": "code",
   "execution_count": 32,
   "metadata": {},
   "outputs": [],
   "source": [
    "graphs = build_prefixes_graph_from_trace(tab_all, trace, categorical_columns, real_value_columns)"
   ]
  },
  {
   "cell_type": "code",
   "execution_count": 33,
   "metadata": {},
   "outputs": [
    {
     "data": {
      "text/plain": [
       "{'Activity': tensor(11),\n",
       " 'time:timestamp': tensor([18.8055]),\n",
       " 'REPAIR_IN_TIME_5D': tensor(0),\n",
       " 'DEVICETYPE': tensor(41),\n",
       " 'org:resource': tensor(4)}"
      ]
     },
     "execution_count": 33,
     "metadata": {},
     "output_type": "execute_result"
    }
   ],
   "source": [
    "graphs[1].y"
   ]
  },
  {
   "cell_type": "code",
   "execution_count": 34,
   "metadata": {},
   "outputs": [
    {
     "data": {
      "text/plain": [
       "{'Activity': tensor([[0., 0., 1., 0., 0., 0., 0., 0., 0., 0., 0., 0., 0.],\n",
       "         [0., 0., 0., 0., 0., 0., 0., 1., 0., 0., 0., 0., 0.],\n",
       "         [0., 0., 0., 1., 0., 0., 0., 0., 0., 0., 0., 0., 0.]],\n",
       "        grad_fn=<SliceBackward0>),\n",
       " 'time:timestamp': tensor([[18.7970],\n",
       "         [18.7984],\n",
       "         [18.7988]], grad_fn=<SliceBackward0>),\n",
       " 'REPAIR_IN_TIME_5D': tensor([[1., 0.]], grad_fn=<SliceBackward0>),\n",
       " 'DEVICETYPE': tensor([[0., 0., 0., 0., 0., 0., 0., 0., 0., 0., 0., 0., 0., 0., 0., 0., 0., 0.,\n",
       "          0., 0., 0., 0., 0., 0., 0., 0., 0., 0., 0., 0., 0., 0., 0., 0., 0., 0.,\n",
       "          0., 0., 0., 0., 0., 1., 0., 0., 0., 0., 0., 0., 0., 0., 0., 0., 0., 0.,\n",
       "          0., 0., 0., 0., 0., 0., 0., 0., 0., 0., 0.]],\n",
       "        grad_fn=<SliceBackward0>),\n",
       " 'org:resource': tensor([[0., 0., 0., 0., 1., 0., 0., 0., 0., 0., 0., 0.]],\n",
       "        grad_fn=<SliceBackward0>)}"
      ]
     },
     "execution_count": 34,
     "metadata": {},
     "output_type": "execute_result"
    }
   ],
   "source": [
    "graphs[1].x_dict"
   ]
  },
  {
   "cell_type": "code",
   "execution_count": null,
   "metadata": {},
   "outputs": [],
   "source": [
    "graphs[1].edge_items()"
   ]
  },
  {
   "cell_type": "code",
   "execution_count": 35,
   "metadata": {},
   "outputs": [
    {
     "name": "stdout",
     "output_type": "stream",
     "text": [
      "Preparing training dataset...\n"
     ]
    },
    {
     "data": {
      "application/vnd.jupyter.widget-view+json": {
       "model_id": "1ab0ef958b1c48919cf789d480115054",
       "version_major": 2,
       "version_minor": 0
      },
      "text/plain": [
       "  0%|          | 0/12749 [00:00<?, ?it/s]"
      ]
     },
     "metadata": {},
     "output_type": "display_data"
    },
    {
     "name": "stdout",
     "output_type": "stream",
     "text": [
      "Done!\n",
      "\n",
      "\n"
     ]
    }
   ],
   "source": [
    "from tqdm.notebook import tqdm\n",
    "\n",
    "\n",
    "print(\"Preparing training dataset...\")\n",
    "\n",
    "X_train = []\n",
    "\n",
    "\n",
    "for i in tqdm(range(len(case_train_ids))):\n",
    "    trace = (\n",
    "        tab_train.query(f\"CaseID == '{case_train_ids[i]}'\")\n",
    "        .reset_index()\n",
    "        .drop(columns=\"index\")\n",
    "        .drop(columns=\"CaseID\")\n",
    "    )\n",
    "    graphs = build_prefixes_graph_from_trace(dataset=tab_all, trace=trace, cat_features=categorical_columns, real_features=real_value_columns)\n",
    "    \n",
    "    # print(trace)\n",
    "    # print([x.x_dict for x in graphs[:2]])\n",
    "    # print(labels[:2])\n",
    "    # break\n",
    "\n",
    "    for i in range(len(graphs)):\n",
    "        X_train.append(graphs[i])\n",
    "        \n",
    "\n",
    "# Y_train = tensor(Y_train, dtype=float32)\n",
    "\n",
    "print(\"Done!\\n\\n\")"
   ]
  },
  {
   "cell_type": "code",
   "execution_count": 36,
   "metadata": {},
   "outputs": [
    {
     "name": "stdout",
     "output_type": "stream",
     "text": [
      "Preparing validation dataset...\n"
     ]
    },
    {
     "data": {
      "application/vnd.jupyter.widget-view+json": {
       "model_id": "7a9ef78bd7c2410ea00207163a69e8dd",
       "version_major": 2,
       "version_minor": 0
      },
      "text/plain": [
       "  0%|          | 0/3188 [00:00<?, ?it/s]"
      ]
     },
     "metadata": {},
     "output_type": "display_data"
    },
    {
     "name": "stdout",
     "output_type": "stream",
     "text": [
      "Done!\n",
      "\n",
      "\n"
     ]
    }
   ],
   "source": [
    "print(\"Preparing validation dataset...\")\n",
    "\n",
    "X_valid = []\n",
    "\n",
    "\n",
    "for i in tqdm(range(len(case_valid_ids))):\n",
    "    trace = (\n",
    "        tab_valid.query(f\"CaseID == '{case_valid_ids[i]}'\")\n",
    "        .reset_index()\n",
    "        .drop(columns=\"index\")\n",
    "        .drop(columns=\"CaseID\")\n",
    "    )\n",
    "    graphs = build_prefixes_graph_from_trace(dataset=tab_all, trace=trace,cat_features=categorical_columns, real_features=real_value_columns)\n",
    "    for i in range(len(graphs)):\n",
    "        X_valid.append(graphs[i])\n",
    "       \n",
    "\n",
    "# Y_valid = tensor(Y_valid)\n",
    "\n",
    "print(\"Done!\\n\\n\")"
   ]
  },
  {
   "cell_type": "code",
   "execution_count": 37,
   "metadata": {},
   "outputs": [
    {
     "name": "stdout",
     "output_type": "stream",
     "text": [
      "Preparing test dataset...\n"
     ]
    },
    {
     "data": {
      "application/vnd.jupyter.widget-view+json": {
       "model_id": "573abc26f72142698712108fb567a653",
       "version_major": 2,
       "version_minor": 0
      },
      "text/plain": [
       "  0%|          | 0/7969 [00:00<?, ?it/s]"
      ]
     },
     "metadata": {},
     "output_type": "display_data"
    },
    {
     "name": "stdout",
     "output_type": "stream",
     "text": [
      "Done!\n",
      "\n",
      "\n"
     ]
    }
   ],
   "source": [
    "print(\"Preparing test dataset...\")\n",
    "\n",
    "X_test = []\n",
    "\n",
    "\n",
    "for i in tqdm(range(len(case_test_ids))):\n",
    "    trace = (\n",
    "        tab_test.query(f\"CaseID == '{case_test_ids[i]}'\")\n",
    "        .reset_index()\n",
    "        .drop(columns=\"index\")\n",
    "        .drop(columns=\"CaseID\")\n",
    "    )\n",
    "    graphs = build_prefixes_graph_from_trace(dataset=tab_all, trace=trace,cat_features=categorical_columns, real_features=real_value_columns)\n",
    "    for i in range(len(graphs)):\n",
    "        X_test.append(graphs[i])\n",
    "     \n",
    "\n",
    "# Y_test = tensor(Y_test)\n",
    "\n",
    "print(\"Done!\\n\\n\")"
   ]
  },
  {
   "cell_type": "markdown",
   "metadata": {},
   "source": [
    "### Let's Save the graph datasets"
   ]
  },
  {
   "cell_type": "code",
   "execution_count": 38,
   "metadata": {},
   "outputs": [],
   "source": [
    "import pickle\n",
    "\n",
    "with open(data_dir_graphs + dataset + \"_TRAIN_event_prediction_FINAL.pkl\", \"wb\") as f:\n",
    "    pickle.dump(X_train, f)\n",
    "with open(data_dir_graphs + dataset + \"_VALID_event_prediction_FINAL.pkl\", \"wb\") as f:\n",
    "    pickle.dump(X_valid, f)\n",
    "with open(data_dir_graphs + dataset + \"_TEST_event_prediction_FINAL.pkl\", \"wb\") as f:\n",
    "    pickle.dump(X_test, f)"
   ]
  }
 ],
 "metadata": {
  "kernelspec": {
   "display_name": "hgnn_env",
   "language": "python",
   "name": "python3"
  },
  "language_info": {
   "codemirror_mode": {
    "name": "ipython",
    "version": 3
   },
   "file_extension": ".py",
   "mimetype": "text/x-python",
   "name": "python",
   "nbconvert_exporter": "python",
   "pygments_lexer": "ipython3",
   "version": "3.10.12"
  }
 },
 "nbformat": 4,
 "nbformat_minor": 2
}
