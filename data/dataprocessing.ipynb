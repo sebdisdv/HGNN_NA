{
 "cells": [
  {
   "cell_type": "code",
   "execution_count": 32,
   "metadata": {},
   "outputs": [
    {
     "name": "stdout",
     "output_type": "stream",
     "text": [
      "/home/sebdis/HGNN/HGNN_NA\n",
      "/home/sebdis/HGNN/HGNN_NA/data/datasets/original/\n",
      "/home/sebdis/HGNN/HGNN_NA/data/datasets/processed/\n",
      "/home/sebdis/HGNN/HGNN_NA/data/datasets/graphs/\n"
     ]
    }
   ],
   "source": [
    "import pandas as pd\n",
    "import os\n",
    "\n",
    "from os.path import dirname\n",
    "\n",
    "root_path = dirname(os.getcwd())\n",
    "\n",
    "pd.set_option('display.max_columns', None)\n",
    "data_dir = root_path + '/data/datasets/original/'\n",
    "data_dir_processed = root_path + '/data/datasets/processed/'\n",
    "data_dir_graphs = root_path + '/data/datasets/graphs/'\n",
    "\n",
    "print(root_path, data_dir, data_dir_processed, data_dir_graphs, sep='\\n')"
   ]
  },
  {
   "cell_type": "code",
   "execution_count": 20,
   "metadata": {},
   "outputs": [],
   "source": [
    "dataset = 'BPI_Challenge_2012_A'\n",
    "filename = data_dir + dataset + '.csv'\n",
    "raw_data = pd.read_csv(filename, index_col=False)\n",
    "raw_data = raw_data.drop(columns='Unnamed: 0')"
   ]
  },
  {
   "cell_type": "code",
   "execution_count": 21,
   "metadata": {},
   "outputs": [
    {
     "data": {
      "text/html": [
       "<div>\n",
       "<style scoped>\n",
       "    .dataframe tbody tr th:only-of-type {\n",
       "        vertical-align: middle;\n",
       "    }\n",
       "\n",
       "    .dataframe tbody tr th {\n",
       "        vertical-align: top;\n",
       "    }\n",
       "\n",
       "    .dataframe thead th {\n",
       "        text-align: right;\n",
       "    }\n",
       "</style>\n",
       "<table border=\"1\" class=\"dataframe\">\n",
       "  <thead>\n",
       "    <tr style=\"text-align: right;\">\n",
       "      <th></th>\n",
       "      <th>org:resource</th>\n",
       "      <th>lifecycle:transition</th>\n",
       "      <th>concept:name</th>\n",
       "      <th>time:timestamp</th>\n",
       "      <th>case:REG_DATE</th>\n",
       "      <th>case:concept:name</th>\n",
       "      <th>case:AMOUNT_REQ</th>\n",
       "    </tr>\n",
       "  </thead>\n",
       "  <tbody>\n",
       "    <tr>\n",
       "      <th>0</th>\n",
       "      <td>112</td>\n",
       "      <td>COMPLETE</td>\n",
       "      <td>A_SUBMITTED</td>\n",
       "      <td>2011-09-30 22:38:44.546000+00:00</td>\n",
       "      <td>2011-10-01 00:38:44.546000+02:00</td>\n",
       "      <td>173688</td>\n",
       "      <td>20000</td>\n",
       "    </tr>\n",
       "    <tr>\n",
       "      <th>1</th>\n",
       "      <td>112</td>\n",
       "      <td>COMPLETE</td>\n",
       "      <td>A_PARTLYSUBMITTED</td>\n",
       "      <td>2011-09-30 22:38:44.880000+00:00</td>\n",
       "      <td>2011-10-01 00:38:44.546000+02:00</td>\n",
       "      <td>173688</td>\n",
       "      <td>20000</td>\n",
       "    </tr>\n",
       "    <tr>\n",
       "      <th>2</th>\n",
       "      <td>112</td>\n",
       "      <td>COMPLETE</td>\n",
       "      <td>A_PREACCEPTED</td>\n",
       "      <td>2011-09-30 22:39:37.906000+00:00</td>\n",
       "      <td>2011-10-01 00:38:44.546000+02:00</td>\n",
       "      <td>173688</td>\n",
       "      <td>20000</td>\n",
       "    </tr>\n",
       "    <tr>\n",
       "      <th>3</th>\n",
       "      <td>10862</td>\n",
       "      <td>COMPLETE</td>\n",
       "      <td>A_ACCEPTED</td>\n",
       "      <td>2011-10-01 09:42:43.308000+00:00</td>\n",
       "      <td>2011-10-01 00:38:44.546000+02:00</td>\n",
       "      <td>173688</td>\n",
       "      <td>20000</td>\n",
       "    </tr>\n",
       "    <tr>\n",
       "      <th>4</th>\n",
       "      <td>10862</td>\n",
       "      <td>COMPLETE</td>\n",
       "      <td>A_FINALIZED</td>\n",
       "      <td>2011-10-01 09:45:09.243000+00:00</td>\n",
       "      <td>2011-10-01 00:38:44.546000+02:00</td>\n",
       "      <td>173688</td>\n",
       "      <td>20000</td>\n",
       "    </tr>\n",
       "  </tbody>\n",
       "</table>\n",
       "</div>"
      ],
      "text/plain": [
       "   org:resource lifecycle:transition       concept:name  \\\n",
       "0           112             COMPLETE        A_SUBMITTED   \n",
       "1           112             COMPLETE  A_PARTLYSUBMITTED   \n",
       "2           112             COMPLETE      A_PREACCEPTED   \n",
       "3         10862             COMPLETE         A_ACCEPTED   \n",
       "4         10862             COMPLETE        A_FINALIZED   \n",
       "\n",
       "                     time:timestamp                     case:REG_DATE  \\\n",
       "0  2011-09-30 22:38:44.546000+00:00  2011-10-01 00:38:44.546000+02:00   \n",
       "1  2011-09-30 22:38:44.880000+00:00  2011-10-01 00:38:44.546000+02:00   \n",
       "2  2011-09-30 22:39:37.906000+00:00  2011-10-01 00:38:44.546000+02:00   \n",
       "3  2011-10-01 09:42:43.308000+00:00  2011-10-01 00:38:44.546000+02:00   \n",
       "4  2011-10-01 09:45:09.243000+00:00  2011-10-01 00:38:44.546000+02:00   \n",
       "\n",
       "   case:concept:name  case:AMOUNT_REQ  \n",
       "0             173688            20000  \n",
       "1             173688            20000  \n",
       "2             173688            20000  \n",
       "3             173688            20000  \n",
       "4             173688            20000  "
      ]
     },
     "execution_count": 21,
     "metadata": {},
     "output_type": "execute_result"
    }
   ],
   "source": [
    "raw_data.head()"
   ]
  },
  {
   "cell_type": "code",
   "execution_count": 22,
   "metadata": {},
   "outputs": [
    {
     "data": {
      "text/html": [
       "<div>\n",
       "<style scoped>\n",
       "    .dataframe tbody tr th:only-of-type {\n",
       "        vertical-align: middle;\n",
       "    }\n",
       "\n",
       "    .dataframe tbody tr th {\n",
       "        vertical-align: top;\n",
       "    }\n",
       "\n",
       "    .dataframe thead th {\n",
       "        text-align: right;\n",
       "    }\n",
       "</style>\n",
       "<table border=\"1\" class=\"dataframe\">\n",
       "  <thead>\n",
       "    <tr style=\"text-align: right;\">\n",
       "      <th></th>\n",
       "      <th>org:resource</th>\n",
       "      <th>lifecycle:transition</th>\n",
       "      <th>Activity</th>\n",
       "      <th>time:timestamp</th>\n",
       "      <th>case:REG_DATE</th>\n",
       "      <th>CaseID</th>\n",
       "      <th>case:AMOUNT_REQ</th>\n",
       "    </tr>\n",
       "  </thead>\n",
       "  <tbody>\n",
       "    <tr>\n",
       "      <th>0</th>\n",
       "      <td>112</td>\n",
       "      <td>COMPLETE</td>\n",
       "      <td>A_SUBMITTED</td>\n",
       "      <td>2011-09-30 22:38:44.546000+00:00</td>\n",
       "      <td>2011-10-01 00:38:44.546000+02:00</td>\n",
       "      <td>173688</td>\n",
       "      <td>20000</td>\n",
       "    </tr>\n",
       "    <tr>\n",
       "      <th>1</th>\n",
       "      <td>112</td>\n",
       "      <td>COMPLETE</td>\n",
       "      <td>A_PARTLYSUBMITTED</td>\n",
       "      <td>2011-09-30 22:38:44.880000+00:00</td>\n",
       "      <td>2011-10-01 00:38:44.546000+02:00</td>\n",
       "      <td>173688</td>\n",
       "      <td>20000</td>\n",
       "    </tr>\n",
       "    <tr>\n",
       "      <th>2</th>\n",
       "      <td>112</td>\n",
       "      <td>COMPLETE</td>\n",
       "      <td>A_PREACCEPTED</td>\n",
       "      <td>2011-09-30 22:39:37.906000+00:00</td>\n",
       "      <td>2011-10-01 00:38:44.546000+02:00</td>\n",
       "      <td>173688</td>\n",
       "      <td>20000</td>\n",
       "    </tr>\n",
       "    <tr>\n",
       "      <th>3</th>\n",
       "      <td>10862</td>\n",
       "      <td>COMPLETE</td>\n",
       "      <td>A_ACCEPTED</td>\n",
       "      <td>2011-10-01 09:42:43.308000+00:00</td>\n",
       "      <td>2011-10-01 00:38:44.546000+02:00</td>\n",
       "      <td>173688</td>\n",
       "      <td>20000</td>\n",
       "    </tr>\n",
       "    <tr>\n",
       "      <th>4</th>\n",
       "      <td>10862</td>\n",
       "      <td>COMPLETE</td>\n",
       "      <td>A_FINALIZED</td>\n",
       "      <td>2011-10-01 09:45:09.243000+00:00</td>\n",
       "      <td>2011-10-01 00:38:44.546000+02:00</td>\n",
       "      <td>173688</td>\n",
       "      <td>20000</td>\n",
       "    </tr>\n",
       "  </tbody>\n",
       "</table>\n",
       "</div>"
      ],
      "text/plain": [
       "   org:resource lifecycle:transition           Activity  \\\n",
       "0           112             COMPLETE        A_SUBMITTED   \n",
       "1           112             COMPLETE  A_PARTLYSUBMITTED   \n",
       "2           112             COMPLETE      A_PREACCEPTED   \n",
       "3         10862             COMPLETE         A_ACCEPTED   \n",
       "4         10862             COMPLETE        A_FINALIZED   \n",
       "\n",
       "                     time:timestamp                     case:REG_DATE  CaseID  \\\n",
       "0  2011-09-30 22:38:44.546000+00:00  2011-10-01 00:38:44.546000+02:00  173688   \n",
       "1  2011-09-30 22:38:44.880000+00:00  2011-10-01 00:38:44.546000+02:00  173688   \n",
       "2  2011-09-30 22:39:37.906000+00:00  2011-10-01 00:38:44.546000+02:00  173688   \n",
       "3  2011-10-01 09:42:43.308000+00:00  2011-10-01 00:38:44.546000+02:00  173688   \n",
       "4  2011-10-01 09:45:09.243000+00:00  2011-10-01 00:38:44.546000+02:00  173688   \n",
       "\n",
       "   case:AMOUNT_REQ  \n",
       "0            20000  \n",
       "1            20000  \n",
       "2            20000  \n",
       "3            20000  \n",
       "4            20000  "
      ]
     },
     "execution_count": 22,
     "metadata": {},
     "output_type": "execute_result"
    }
   ],
   "source": [
    "tab_all = raw_data.rename(columns={'case:concept:name' : 'CaseID', 'concept:name': 'Activity'})\n",
    "tab_all.head()"
   ]
  },
  {
   "cell_type": "code",
   "execution_count": 23,
   "metadata": {},
   "outputs": [
    {
     "data": {
      "text/html": [
       "<div>\n",
       "<style scoped>\n",
       "    .dataframe tbody tr th:only-of-type {\n",
       "        vertical-align: middle;\n",
       "    }\n",
       "\n",
       "    .dataframe tbody tr th {\n",
       "        vertical-align: top;\n",
       "    }\n",
       "\n",
       "    .dataframe thead th {\n",
       "        text-align: right;\n",
       "    }\n",
       "</style>\n",
       "<table border=\"1\" class=\"dataframe\">\n",
       "  <thead>\n",
       "    <tr style=\"text-align: right;\">\n",
       "      <th></th>\n",
       "      <th>org:resource</th>\n",
       "      <th>lifecycle:transition</th>\n",
       "      <th>Activity</th>\n",
       "      <th>time:timestamp</th>\n",
       "      <th>case:REG_DATE</th>\n",
       "      <th>CaseID</th>\n",
       "      <th>case:AMOUNT_REQ</th>\n",
       "    </tr>\n",
       "  </thead>\n",
       "  <tbody>\n",
       "    <tr>\n",
       "      <th>0</th>\n",
       "      <td>112</td>\n",
       "      <td>COMPLETE</td>\n",
       "      <td>A_SUBMITTED</td>\n",
       "      <td>2011/09/30 22:38:44</td>\n",
       "      <td>2011/10/01 00:38:44</td>\n",
       "      <td>173688</td>\n",
       "      <td>20000</td>\n",
       "    </tr>\n",
       "    <tr>\n",
       "      <th>1</th>\n",
       "      <td>112</td>\n",
       "      <td>COMPLETE</td>\n",
       "      <td>A_PARTLYSUBMITTED</td>\n",
       "      <td>2011/09/30 22:38:44</td>\n",
       "      <td>2011/10/01 00:38:44</td>\n",
       "      <td>173688</td>\n",
       "      <td>20000</td>\n",
       "    </tr>\n",
       "    <tr>\n",
       "      <th>2</th>\n",
       "      <td>112</td>\n",
       "      <td>COMPLETE</td>\n",
       "      <td>A_PREACCEPTED</td>\n",
       "      <td>2011/09/30 22:39:37</td>\n",
       "      <td>2011/10/01 00:38:44</td>\n",
       "      <td>173688</td>\n",
       "      <td>20000</td>\n",
       "    </tr>\n",
       "    <tr>\n",
       "      <th>3</th>\n",
       "      <td>10862</td>\n",
       "      <td>COMPLETE</td>\n",
       "      <td>A_ACCEPTED</td>\n",
       "      <td>2011/10/01 09:42:43</td>\n",
       "      <td>2011/10/01 00:38:44</td>\n",
       "      <td>173688</td>\n",
       "      <td>20000</td>\n",
       "    </tr>\n",
       "    <tr>\n",
       "      <th>4</th>\n",
       "      <td>10862</td>\n",
       "      <td>COMPLETE</td>\n",
       "      <td>A_FINALIZED</td>\n",
       "      <td>2011/10/01 09:45:09</td>\n",
       "      <td>2011/10/01 00:38:44</td>\n",
       "      <td>173688</td>\n",
       "      <td>20000</td>\n",
       "    </tr>\n",
       "  </tbody>\n",
       "</table>\n",
       "</div>"
      ],
      "text/plain": [
       "   org:resource lifecycle:transition           Activity       time:timestamp  \\\n",
       "0           112             COMPLETE        A_SUBMITTED  2011/09/30 22:38:44   \n",
       "1           112             COMPLETE  A_PARTLYSUBMITTED  2011/09/30 22:38:44   \n",
       "2           112             COMPLETE      A_PREACCEPTED  2011/09/30 22:39:37   \n",
       "3         10862             COMPLETE         A_ACCEPTED  2011/10/01 09:42:43   \n",
       "4         10862             COMPLETE        A_FINALIZED  2011/10/01 09:45:09   \n",
       "\n",
       "         case:REG_DATE  CaseID  case:AMOUNT_REQ  \n",
       "0  2011/10/01 00:38:44  173688            20000  \n",
       "1  2011/10/01 00:38:44  173688            20000  \n",
       "2  2011/10/01 00:38:44  173688            20000  \n",
       "3  2011/10/01 00:38:44  173688            20000  \n",
       "4  2011/10/01 00:38:44  173688            20000  "
      ]
     },
     "execution_count": 23,
     "metadata": {},
     "output_type": "execute_result"
    }
   ],
   "source": [
    "tab_all['time:timestamp'] = [x.split('.')[0] for x in tab_all['time:timestamp']]\n",
    "tab_all['case:REG_DATE'] = [x.split('.')[0] for x in tab_all['case:REG_DATE']]\n",
    "tab_all['time:timestamp'] = tab_all['time:timestamp'].str.replace(\"-\", \"/\")\n",
    "tab_all['time:timestamp'] = tab_all['time:timestamp'].str.split('+', expand = True)[0]\n",
    "tab_all['case:REG_DATE'] = tab_all['case:REG_DATE'].str.replace(\"-\", \"/\")\n",
    "tab_all['case:REG_DATE'] = tab_all['case:REG_DATE'].str.split('+', expand = True)[0]\n",
    "tab_all.head()"
   ]
  },
  {
   "cell_type": "code",
   "execution_count": 6,
   "metadata": {},
   "outputs": [],
   "source": [
    "# tab_all.to_csv(data_dir_processed + f\"{dataset}_processed_all.csv\", index=False)"
   ]
  },
  {
   "cell_type": "code",
   "execution_count": 24,
   "metadata": {},
   "outputs": [],
   "source": [
    "split_ratio = 2/3\n",
    "\n",
    "first_act_tab = tab_all.groupby('CaseID').first().sort_values('time:timestamp').reset_index()\n",
    "first_act_tab = first_act_tab[~first_act_tab.duplicated(subset=[\"CaseID\", \"Activity\"], keep = \"first\")]\n",
    "first_act_tab = first_act_tab.reset_index(drop = True)\n",
    "\n",
    "list_train_valid_cases = list(first_act_tab[: int(split_ratio*len(first_act_tab))][\"CaseID\"].unique())\n",
    "\n",
    "list_train_cases = list_train_valid_cases[:int(len(list_train_valid_cases)*0.8)]\n",
    "tab_train = tab_all[tab_all[\"CaseID\"].isin(list_train_cases)].reset_index(drop = True)\n",
    "# tab_train.to_csv(data_dir_processed+ f\"{dataset}_processed_train.csv\", index = False)\n",
    "\n",
    "list_valid_cases = list_train_valid_cases[int(len(list_train_valid_cases)*0.8):]\n",
    "tab_valid = tab_all[tab_all[\"CaseID\"].isin(list_valid_cases)].reset_index(drop = True)\n",
    "# tab_valid.to_csv(data_dir_processed+f\"{dataset}_processed_valid.csv\", index = False)\n",
    "\n",
    "list_test_cases = list(first_act_tab[int(split_ratio*len(first_act_tab)):][\"CaseID\"].unique())\n",
    "tab_test = tab_all[tab_all[\"CaseID\"].isin(list_test_cases)].reset_index(drop = True)\n",
    "# tab_test.to_csv(data_dir_processed+ f\"{dataset}_processed_test.csv\", index = False)\n"
   ]
  },
  {
   "cell_type": "markdown",
   "metadata": {},
   "source": [
    "### Prepare the graphs"
   ]
  },
  {
   "cell_type": "code",
   "execution_count": 25,
   "metadata": {},
   "outputs": [],
   "source": [
    "def get_case_ids(tab):\n",
    "    return list(set(tab[\"CaseID\"]))"
   ]
  },
  {
   "cell_type": "code",
   "execution_count": 26,
   "metadata": {},
   "outputs": [],
   "source": [
    "import numpy as np\n",
    "import sklearn.preprocessing\n",
    "from torch import tensor, max\n",
    "from utils import is_static\n",
    "import time \n",
    "import datetime\n",
    "\n",
    "def translate_time(time_str) -> float:\n",
    "    return time.mktime(datetime.datetime.strptime(time_str, \"%Y/%m/%d %H:%M:%S\").timetuple())\n",
    "\n",
    "def get_one_hot_encoder(dataset: pd.DataFrame, key: str):\n",
    "    datas = dataset[key].unique()\n",
    "    datas = datas.reshape([len(datas), 1])\n",
    "    onehot = sklearn.preprocessing.OneHotEncoder()\n",
    "    onehot.fit(datas)\n",
    "    return onehot\n",
    "\n",
    "def get_one_hot_encodings(onehot:sklearn.preprocessing.OneHotEncoder, datas: pd.Series):\n",
    "    return onehot.transform(datas.reshape(-1,1)).toarray()\n",
    "\n",
    "def get_node_features(dataset:pd.DataFrame, trace:pd.DataFrame) -> dict: \n",
    "    columns_static = [c for c in trace if is_static(trace[c])]\n",
    "    \n",
    "    res = {}\n",
    "    \n",
    "    for key in trace:\n",
    "        values = trace[key].values\n",
    "        match key:\n",
    "            case \"Activity\":\n",
    "                onehot_activities = get_one_hot_encoder(dataset, \"Activity\")\n",
    "                res[key] = tensor(get_one_hot_encodings(onehot_activities, values))\n",
    "            case \"time:timestamp\":\n",
    "                res[key] = tensor(np.array(list(map(translate_time, values)))) \n",
    "            case \"org:resource\":\n",
    "                if key not in columns_static:\n",
    "                    res[key] = tensor(values)\n",
    "            case \"lifecycle:transition\":\n",
    "                onehot_lifecyle_transition = get_one_hot_encoder(dataset, \"lifecycle:transition\")\n",
    "                if key not in columns_static:\n",
    "                    res[key] = tensor(get_one_hot_encodings(onehot_lifecyle_transition, values))\n",
    "                else:\n",
    "                    res[key] = tensor(get_one_hot_encodings(onehot_lifecyle_transition, np.array([values[0]]))).flatten()\n",
    "            case \"case:REG_DATE\":\n",
    "                if key not in columns_static:\n",
    "                    res[key] = tensor(np.array(list(map(translate_time, values))))\n",
    "                else:\n",
    "                    res[key] = tensor(np.array(list(map(translate_time, np.array([values[0]])))))\n",
    "            case \"case:AMOUNT_REQ\":\n",
    "                if key not in columns_static:\n",
    "                    res[key] = tensor(values)\n",
    "                else:\n",
    "                    res[key] = tensor([values[0]])\n",
    "\n",
    "    return res"
   ]
  },
  {
   "cell_type": "code",
   "execution_count": 27,
   "metadata": {},
   "outputs": [],
   "source": [
    "def compute_edges_indexs(node_features: dict, prefix_len):\n",
    "    res = {}\n",
    "    keys = node_features.keys()\n",
    "    indexes = [[i,j] for i in range(prefix_len) for j in range(i+1, prefix_len)]\n",
    "\n",
    "    # activities indexes\n",
    "    for k in keys:\n",
    "        if len(node_features[k]) != 1:\n",
    "            if k == \"Activity\":\n",
    "                res[(k, 'followed_by', k)] = indexes\n",
    "                for k2 in keys:\n",
    "                    if k2 != k:\n",
    "                        if len(node_features[k2]) == 1:\n",
    "                            res[(k, 'related_to', k2)] = [[i,0] for i in range(prefix_len)]\n",
    "                        else:\n",
    "                            res[(k, 'related_to', k2)] = [[i,i] for i in range(prefix_len)]\n",
    "            else:\n",
    "                res[(k, 'related_to', k)] = indexes                \n",
    "\n",
    "    return res\n",
    "    \n",
    "from torchmetrics.functional import hamming_distance\n",
    "\n",
    "def compute_edges_features(node_features, edges_indexes):\n",
    "    res= {}\n",
    "\n",
    "    for k in edges_indexes:\n",
    "        if k[0] == k[2]:\n",
    "            indexes = edges_indexes[k]\n",
    "            res[k] = []\n",
    "            match k[0]:\n",
    "                case \"Activity\":\n",
    "                    for i in indexes:\n",
    "                        res[k].append(tensor([hamming_distance(node_features[k[0]][i[1]],node_features[k[0]][i[0]], task=\"binary\")]))\n",
    "                case \"org:resource\":\n",
    "                    for i in indexes:\n",
    "                        res[k].append(tensor([node_features[k[0]][i[1]] - node_features[k[0]][i[0]]]))\n",
    "                case \"time:timestamp\":\n",
    "                    for i in indexes:\n",
    "                        res[k].append(tensor([node_features[k[0]][i[1]] - node_features[k[0]][i[0]]]))\n",
    "\n",
    "\n",
    "\n",
    "    return res "
   ]
  },
  {
   "cell_type": "code",
   "execution_count": 28,
   "metadata": {},
   "outputs": [],
   "source": [
    "from torch import int64, float32\n",
    "from torch_geometric.data import HeteroData\n",
    "\n",
    "def build_prefixes_graph_from_trace(dataset, trace):\n",
    "    X = [] # graphs\n",
    "    Y = [] # NA labels\n",
    "\n",
    "    node_features = get_node_features(dataset, trace)\n",
    "    prefix_lenghts = range(2, len(trace))\n",
    "    # print(prefix_lenghts)\n",
    "    for prefix in prefix_lenghts:\n",
    "        # print(prefix)\n",
    "\n",
    "        # init node types and features\n",
    "        G = HeteroData()\n",
    "        for k in node_features:\n",
    "            G[k] = node_features[k][:prefix]\n",
    "        \n",
    "        \n",
    "        edges_indexes = compute_edges_indexs(node_features, prefix)\n",
    "        for k in edges_indexes:\n",
    "            G[k].edge_index = tensor(edges_indexes[k], dtype=int64)\n",
    "        \n",
    "        edge_features = compute_edges_features(node_features, edges_indexes)\n",
    "        for k in edge_features:\n",
    "            G[k].edge_attributes = tensor(edge_features[k])\n",
    "        \n",
    "        \n",
    "\n",
    "        X.append(G)\n",
    "        Y.append(max(node_features['Activity'][prefix], 0)[1])\n",
    "    return (X, tensor(Y, dtype=float32))\n",
    "\n",
    "\n",
    "        "
   ]
  },
  {
   "cell_type": "markdown",
   "metadata": {},
   "source": [
    "## Create the datasets"
   ]
  },
  {
   "cell_type": "code",
   "execution_count": 29,
   "metadata": {},
   "outputs": [],
   "source": [
    "case_train_ids = get_case_ids(tab_train)\n",
    "case_valid_ids = get_case_ids(tab_valid)\n",
    "case_test_ids = get_case_ids(tab_test)"
   ]
  },
  {
   "cell_type": "code",
   "execution_count": 30,
   "metadata": {},
   "outputs": [
    {
     "name": "stdout",
     "output_type": "stream",
     "text": [
      "6979\n",
      "1745\n",
      "4363\n"
     ]
    }
   ],
   "source": [
    "print(len(case_train_ids))\n",
    "print(len(case_valid_ids))\n",
    "print(len(case_test_ids))"
   ]
  },
  {
   "cell_type": "code",
   "execution_count": 31,
   "metadata": {},
   "outputs": [
    {
     "data": {
      "application/vnd.jupyter.widget-view+json": {
       "model_id": "732c214ea6b544bbbcb30923ca6ac3eb",
       "version_major": 2,
       "version_minor": 0
      },
      "text/plain": [
       "  0%|          | 0/6979 [00:00<?, ?it/s]"
      ]
     },
     "metadata": {},
     "output_type": "display_data"
    }
   ],
   "source": [
    "from tqdm.notebook import tqdm\n",
    "\n",
    "\n",
    "print(\"Preparing training dataset...\")\n",
    "\n",
    "X_train = []\n",
    "Y_train = []\n",
    "\n",
    "for i in tqdm(range(len(case_train_ids))):\n",
    "    trace = tab_train.query(f'CaseID == {case_train_ids[i]}').reset_index().drop(columns='index').drop(columns=\"CaseID\")\n",
    "    graphs, labels =  build_prefixes_graph_from_trace(dataset=tab_all, trace=trace)\n",
    "    for i in range(len(labels)):\n",
    "        X_train.append(graphs[i])\n",
    "        Y_train.append(labels[i])\n",
    "\n",
    "Y_train = tensor(Y_train)\n",
    "\n",
    "print(\"Done!\\n\\n\")\n"
   ]
  },
  {
   "cell_type": "code",
   "execution_count": 41,
   "metadata": {},
   "outputs": [
    {
     "name": "stdout",
     "output_type": "stream",
     "text": [
      "Preparing validation dataset...\n"
     ]
    },
    {
     "data": {
      "application/vnd.jupyter.widget-view+json": {
       "model_id": "921a6b7e8bda407688da6cb788d4d6b3",
       "version_major": 2,
       "version_minor": 0
      },
      "text/plain": [
       "  0%|          | 0/1745 [00:00<?, ?it/s]"
      ]
     },
     "metadata": {},
     "output_type": "display_data"
    },
    {
     "name": "stdout",
     "output_type": "stream",
     "text": [
      "Done!\n",
      "\n",
      "\n"
     ]
    }
   ],
   "source": [
    "print(\"Preparing validation dataset...\")\n",
    "\n",
    "X_valid = []\n",
    "Y_valid = []\n",
    "\n",
    "for i in tqdm(range(len(case_valid_ids))):\n",
    "    trace = tab_valid.query(f'CaseID == {case_valid_ids[i]}').reset_index().drop(columns='index').drop(columns=\"CaseID\")\n",
    "    graphs, labels =  build_prefixes_graph_from_trace(dataset=tab_all, trace=trace)\n",
    "    for i in range(len(labels)):\n",
    "        X_valid.append(graphs[i])\n",
    "        Y_valid.append(labels[i])\n",
    "\n",
    "Y_valid = tensor(Y_valid)\n",
    "\n",
    "print(\"Done!\\n\\n\")"
   ]
  },
  {
   "cell_type": "code",
   "execution_count": 42,
   "metadata": {},
   "outputs": [
    {
     "name": "stdout",
     "output_type": "stream",
     "text": [
      "Preparing test dataset...\n"
     ]
    },
    {
     "data": {
      "application/vnd.jupyter.widget-view+json": {
       "model_id": "9358c861e50a4e739c7d26358fea0cdb",
       "version_major": 2,
       "version_minor": 0
      },
      "text/plain": [
       "  0%|          | 0/4363 [00:00<?, ?it/s]"
      ]
     },
     "metadata": {},
     "output_type": "display_data"
    },
    {
     "name": "stdout",
     "output_type": "stream",
     "text": [
      "Done!\n",
      "\n",
      "\n"
     ]
    }
   ],
   "source": [
    "print(\"Preparing test dataset...\")\n",
    "\n",
    "X_test = []\n",
    "Y_test = []\n",
    "\n",
    "for i in tqdm(range(len(case_test_ids))):\n",
    "    trace = tab_test.query(f'CaseID == {case_test_ids[i]}').reset_index().drop(columns='index').drop(columns=\"CaseID\")\n",
    "    graphs, labels =  build_prefixes_graph_from_trace(dataset=tab_all, trace=trace)\n",
    "    for i in range(len(labels)):\n",
    "        X_test.append(graphs[i])\n",
    "        Y_test.append(labels[i])\n",
    "\n",
    "Y_test = tensor(Y_test)\n",
    "\n",
    "print(\"Done!\\n\\n\")"
   ]
  },
  {
   "cell_type": "markdown",
   "metadata": {},
   "source": [
    "### Let's Save the graph datasets"
   ]
  },
  {
   "cell_type": "code",
   "execution_count": 44,
   "metadata": {},
   "outputs": [],
   "source": [
    "import pickle\n",
    "\n",
    "with open(data_dir_graphs + dataset + \"_TRAIN.pkl\", \"wb\") as f:\n",
    "    pickle.dump([X_train, Y_train], f)\n",
    "with open(data_dir_graphs + dataset + \"_VALID.pkl\", \"wb\") as f:\n",
    "    pickle.dump([X_valid, Y_valid], f)\n",
    "with open(data_dir_graphs + dataset + \"_TEST.pkl\", \"wb\") as f:\n",
    "    pickle.dump([X_test, Y_test], f)"
   ]
  }
 ],
 "metadata": {
  "kernelspec": {
   "display_name": "hgnn_env",
   "language": "python",
   "name": "python3"
  },
  "language_info": {
   "codemirror_mode": {
    "name": "ipython",
    "version": 3
   },
   "file_extension": ".py",
   "mimetype": "text/x-python",
   "name": "python",
   "nbconvert_exporter": "python",
   "pygments_lexer": "ipython3",
   "version": "3.10.12"
  }
 },
 "nbformat": 4,
 "nbformat_minor": 2
}
