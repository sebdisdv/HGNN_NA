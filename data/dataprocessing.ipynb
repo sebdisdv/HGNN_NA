{
 "cells": [
  {
   "cell_type": "code",
   "execution_count": 22,
   "metadata": {},
   "outputs": [
    {
     "name": "stdout",
     "output_type": "stream",
     "text": [
      "/home/sebdis/ProcessMining/HGNN/HGNN_NA\n",
      "/home/sebdis/ProcessMining/HGNN/HGNN_NA/data/datasets/original/\n",
      "/home/sebdis/ProcessMining/HGNN/HGNN_NA/data/datasets/processed/\n"
     ]
    }
   ],
   "source": [
    "import pandas as pd\n",
    "import os\n",
    "\n",
    "from os.path import dirname\n",
    "\n",
    "root_path = dirname(os.getcwd())\n",
    "\n",
    "pd.set_option('display.max_columns', None)\n",
    "data_dir = root_path + '/data/datasets/original/'\n",
    "data_dir_processed = root_path + '/data/datasets/processed/'\n",
    "\n",
    "print(root_path, data_dir, data_dir_processed, sep='\\n')"
   ]
  },
  {
   "cell_type": "code",
   "execution_count": 23,
   "metadata": {},
   "outputs": [
    {
     "name": "stdout",
     "output_type": "stream",
     "text": [
      "['org:resource', 'lifecycle:transition', 'concept:name', 'time:timestamp', 'case:REG_DATE', 'case:concept:name', 'case:AMOUNT_REQ']\n"
     ]
    }
   ],
   "source": [
    "dataset = 'BPI_Challenge_2012_A'\n",
    "filename = data_dir + dataset + '.csv'\n",
    "\n",
    "raw_data = pd.read_csv(filename, index_col=False)\n",
    "\n",
    "raw_data = raw_data.drop(columns='Unnamed: 0')\n",
    "\n",
    "# print(raw_data.head())\n",
    "\n",
    "columns_key = list(raw_data.columns)\n",
    "print(columns_key)\n",
    "\n"
   ]
  },
  {
   "cell_type": "code",
   "execution_count": 24,
   "metadata": {},
   "outputs": [
    {
     "data": {
      "text/html": [
       "<div>\n",
       "<style scoped>\n",
       "    .dataframe tbody tr th:only-of-type {\n",
       "        vertical-align: middle;\n",
       "    }\n",
       "\n",
       "    .dataframe tbody tr th {\n",
       "        vertical-align: top;\n",
       "    }\n",
       "\n",
       "    .dataframe thead th {\n",
       "        text-align: right;\n",
       "    }\n",
       "</style>\n",
       "<table border=\"1\" class=\"dataframe\">\n",
       "  <thead>\n",
       "    <tr style=\"text-align: right;\">\n",
       "      <th></th>\n",
       "      <th>org:resource</th>\n",
       "      <th>lifecycle:transition</th>\n",
       "      <th>concept:name</th>\n",
       "      <th>time:timestamp</th>\n",
       "      <th>case:REG_DATE</th>\n",
       "      <th>case:concept:name</th>\n",
       "      <th>case:AMOUNT_REQ</th>\n",
       "    </tr>\n",
       "  </thead>\n",
       "  <tbody>\n",
       "    <tr>\n",
       "      <th>0</th>\n",
       "      <td>112</td>\n",
       "      <td>COMPLETE</td>\n",
       "      <td>A_SUBMITTED</td>\n",
       "      <td>2011-09-30 22:38:44.546000+00:00</td>\n",
       "      <td>2011-10-01 00:38:44.546000+02:00</td>\n",
       "      <td>173688</td>\n",
       "      <td>20000</td>\n",
       "    </tr>\n",
       "    <tr>\n",
       "      <th>1</th>\n",
       "      <td>112</td>\n",
       "      <td>COMPLETE</td>\n",
       "      <td>A_PARTLYSUBMITTED</td>\n",
       "      <td>2011-09-30 22:38:44.880000+00:00</td>\n",
       "      <td>2011-10-01 00:38:44.546000+02:00</td>\n",
       "      <td>173688</td>\n",
       "      <td>20000</td>\n",
       "    </tr>\n",
       "    <tr>\n",
       "      <th>2</th>\n",
       "      <td>112</td>\n",
       "      <td>COMPLETE</td>\n",
       "      <td>A_PREACCEPTED</td>\n",
       "      <td>2011-09-30 22:39:37.906000+00:00</td>\n",
       "      <td>2011-10-01 00:38:44.546000+02:00</td>\n",
       "      <td>173688</td>\n",
       "      <td>20000</td>\n",
       "    </tr>\n",
       "    <tr>\n",
       "      <th>3</th>\n",
       "      <td>10862</td>\n",
       "      <td>COMPLETE</td>\n",
       "      <td>A_ACCEPTED</td>\n",
       "      <td>2011-10-01 09:42:43.308000+00:00</td>\n",
       "      <td>2011-10-01 00:38:44.546000+02:00</td>\n",
       "      <td>173688</td>\n",
       "      <td>20000</td>\n",
       "    </tr>\n",
       "    <tr>\n",
       "      <th>4</th>\n",
       "      <td>10862</td>\n",
       "      <td>COMPLETE</td>\n",
       "      <td>A_FINALIZED</td>\n",
       "      <td>2011-10-01 09:45:09.243000+00:00</td>\n",
       "      <td>2011-10-01 00:38:44.546000+02:00</td>\n",
       "      <td>173688</td>\n",
       "      <td>20000</td>\n",
       "    </tr>\n",
       "  </tbody>\n",
       "</table>\n",
       "</div>"
      ],
      "text/plain": [
       "   org:resource lifecycle:transition       concept:name  \\\n",
       "0           112             COMPLETE        A_SUBMITTED   \n",
       "1           112             COMPLETE  A_PARTLYSUBMITTED   \n",
       "2           112             COMPLETE      A_PREACCEPTED   \n",
       "3         10862             COMPLETE         A_ACCEPTED   \n",
       "4         10862             COMPLETE        A_FINALIZED   \n",
       "\n",
       "                     time:timestamp                     case:REG_DATE  \\\n",
       "0  2011-09-30 22:38:44.546000+00:00  2011-10-01 00:38:44.546000+02:00   \n",
       "1  2011-09-30 22:38:44.880000+00:00  2011-10-01 00:38:44.546000+02:00   \n",
       "2  2011-09-30 22:39:37.906000+00:00  2011-10-01 00:38:44.546000+02:00   \n",
       "3  2011-10-01 09:42:43.308000+00:00  2011-10-01 00:38:44.546000+02:00   \n",
       "4  2011-10-01 09:45:09.243000+00:00  2011-10-01 00:38:44.546000+02:00   \n",
       "\n",
       "   case:concept:name  case:AMOUNT_REQ  \n",
       "0             173688            20000  \n",
       "1             173688            20000  \n",
       "2             173688            20000  \n",
       "3             173688            20000  \n",
       "4             173688            20000  "
      ]
     },
     "execution_count": 24,
     "metadata": {},
     "output_type": "execute_result"
    }
   ],
   "source": [
    "raw_data.head()"
   ]
  },
  {
   "cell_type": "code",
   "execution_count": 27,
   "metadata": {},
   "outputs": [
    {
     "data": {
      "text/html": [
       "<div>\n",
       "<style scoped>\n",
       "    .dataframe tbody tr th:only-of-type {\n",
       "        vertical-align: middle;\n",
       "    }\n",
       "\n",
       "    .dataframe tbody tr th {\n",
       "        vertical-align: top;\n",
       "    }\n",
       "\n",
       "    .dataframe thead th {\n",
       "        text-align: right;\n",
       "    }\n",
       "</style>\n",
       "<table border=\"1\" class=\"dataframe\">\n",
       "  <thead>\n",
       "    <tr style=\"text-align: right;\">\n",
       "      <th></th>\n",
       "      <th>org:resource</th>\n",
       "      <th>lifecycle:transition</th>\n",
       "      <th>Activity</th>\n",
       "      <th>time:timestamp</th>\n",
       "      <th>case:REG_DATE</th>\n",
       "      <th>CaseID</th>\n",
       "      <th>case:AMOUNT_REQ</th>\n",
       "    </tr>\n",
       "  </thead>\n",
       "  <tbody>\n",
       "    <tr>\n",
       "      <th>0</th>\n",
       "      <td>112</td>\n",
       "      <td>COMPLETE</td>\n",
       "      <td>A_SUBMITTED</td>\n",
       "      <td>2011-09-30 22:38:44.546000+00:00</td>\n",
       "      <td>2011-10-01 00:38:44.546000+02:00</td>\n",
       "      <td>173688</td>\n",
       "      <td>20000</td>\n",
       "    </tr>\n",
       "    <tr>\n",
       "      <th>1</th>\n",
       "      <td>112</td>\n",
       "      <td>COMPLETE</td>\n",
       "      <td>A_PARTLYSUBMITTED</td>\n",
       "      <td>2011-09-30 22:38:44.880000+00:00</td>\n",
       "      <td>2011-10-01 00:38:44.546000+02:00</td>\n",
       "      <td>173688</td>\n",
       "      <td>20000</td>\n",
       "    </tr>\n",
       "    <tr>\n",
       "      <th>2</th>\n",
       "      <td>112</td>\n",
       "      <td>COMPLETE</td>\n",
       "      <td>A_PREACCEPTED</td>\n",
       "      <td>2011-09-30 22:39:37.906000+00:00</td>\n",
       "      <td>2011-10-01 00:38:44.546000+02:00</td>\n",
       "      <td>173688</td>\n",
       "      <td>20000</td>\n",
       "    </tr>\n",
       "    <tr>\n",
       "      <th>3</th>\n",
       "      <td>10862</td>\n",
       "      <td>COMPLETE</td>\n",
       "      <td>A_ACCEPTED</td>\n",
       "      <td>2011-10-01 09:42:43.308000+00:00</td>\n",
       "      <td>2011-10-01 00:38:44.546000+02:00</td>\n",
       "      <td>173688</td>\n",
       "      <td>20000</td>\n",
       "    </tr>\n",
       "    <tr>\n",
       "      <th>4</th>\n",
       "      <td>10862</td>\n",
       "      <td>COMPLETE</td>\n",
       "      <td>A_FINALIZED</td>\n",
       "      <td>2011-10-01 09:45:09.243000+00:00</td>\n",
       "      <td>2011-10-01 00:38:44.546000+02:00</td>\n",
       "      <td>173688</td>\n",
       "      <td>20000</td>\n",
       "    </tr>\n",
       "  </tbody>\n",
       "</table>\n",
       "</div>"
      ],
      "text/plain": [
       "   org:resource lifecycle:transition           Activity  \\\n",
       "0           112             COMPLETE        A_SUBMITTED   \n",
       "1           112             COMPLETE  A_PARTLYSUBMITTED   \n",
       "2           112             COMPLETE      A_PREACCEPTED   \n",
       "3         10862             COMPLETE         A_ACCEPTED   \n",
       "4         10862             COMPLETE        A_FINALIZED   \n",
       "\n",
       "                     time:timestamp                     case:REG_DATE  CaseID  \\\n",
       "0  2011-09-30 22:38:44.546000+00:00  2011-10-01 00:38:44.546000+02:00  173688   \n",
       "1  2011-09-30 22:38:44.880000+00:00  2011-10-01 00:38:44.546000+02:00  173688   \n",
       "2  2011-09-30 22:39:37.906000+00:00  2011-10-01 00:38:44.546000+02:00  173688   \n",
       "3  2011-10-01 09:42:43.308000+00:00  2011-10-01 00:38:44.546000+02:00  173688   \n",
       "4  2011-10-01 09:45:09.243000+00:00  2011-10-01 00:38:44.546000+02:00  173688   \n",
       "\n",
       "   case:AMOUNT_REQ  \n",
       "0            20000  \n",
       "1            20000  \n",
       "2            20000  \n",
       "3            20000  \n",
       "4            20000  "
      ]
     },
     "execution_count": 27,
     "metadata": {},
     "output_type": "execute_result"
    }
   ],
   "source": [
    "tab_all = raw_data.rename(columns={'case:concept:name' : 'CaseID', 'concept:name': 'Activity'})\n",
    "tab_all.head()"
   ]
  },
  {
   "cell_type": "code",
   "execution_count": 31,
   "metadata": {},
   "outputs": [
    {
     "data": {
      "text/html": [
       "<div>\n",
       "<style scoped>\n",
       "    .dataframe tbody tr th:only-of-type {\n",
       "        vertical-align: middle;\n",
       "    }\n",
       "\n",
       "    .dataframe tbody tr th {\n",
       "        vertical-align: top;\n",
       "    }\n",
       "\n",
       "    .dataframe thead th {\n",
       "        text-align: right;\n",
       "    }\n",
       "</style>\n",
       "<table border=\"1\" class=\"dataframe\">\n",
       "  <thead>\n",
       "    <tr style=\"text-align: right;\">\n",
       "      <th></th>\n",
       "      <th>org:resource</th>\n",
       "      <th>lifecycle:transition</th>\n",
       "      <th>Activity</th>\n",
       "      <th>time:timestamp</th>\n",
       "      <th>case:REG_DATE</th>\n",
       "      <th>CaseID</th>\n",
       "      <th>case:AMOUNT_REQ</th>\n",
       "    </tr>\n",
       "  </thead>\n",
       "  <tbody>\n",
       "    <tr>\n",
       "      <th>0</th>\n",
       "      <td>112</td>\n",
       "      <td>COMPLETE</td>\n",
       "      <td>A_SUBMITTED</td>\n",
       "      <td>2011/09/30 22:38:44</td>\n",
       "      <td>2011/10/01 00:38:44</td>\n",
       "      <td>173688</td>\n",
       "      <td>20000</td>\n",
       "    </tr>\n",
       "    <tr>\n",
       "      <th>1</th>\n",
       "      <td>112</td>\n",
       "      <td>COMPLETE</td>\n",
       "      <td>A_PARTLYSUBMITTED</td>\n",
       "      <td>2011/09/30 22:38:44</td>\n",
       "      <td>2011/10/01 00:38:44</td>\n",
       "      <td>173688</td>\n",
       "      <td>20000</td>\n",
       "    </tr>\n",
       "    <tr>\n",
       "      <th>2</th>\n",
       "      <td>112</td>\n",
       "      <td>COMPLETE</td>\n",
       "      <td>A_PREACCEPTED</td>\n",
       "      <td>2011/09/30 22:39:37</td>\n",
       "      <td>2011/10/01 00:38:44</td>\n",
       "      <td>173688</td>\n",
       "      <td>20000</td>\n",
       "    </tr>\n",
       "    <tr>\n",
       "      <th>3</th>\n",
       "      <td>10862</td>\n",
       "      <td>COMPLETE</td>\n",
       "      <td>A_ACCEPTED</td>\n",
       "      <td>2011/10/01 09:42:43</td>\n",
       "      <td>2011/10/01 00:38:44</td>\n",
       "      <td>173688</td>\n",
       "      <td>20000</td>\n",
       "    </tr>\n",
       "    <tr>\n",
       "      <th>4</th>\n",
       "      <td>10862</td>\n",
       "      <td>COMPLETE</td>\n",
       "      <td>A_FINALIZED</td>\n",
       "      <td>2011/10/01 09:45:09</td>\n",
       "      <td>2011/10/01 00:38:44</td>\n",
       "      <td>173688</td>\n",
       "      <td>20000</td>\n",
       "    </tr>\n",
       "  </tbody>\n",
       "</table>\n",
       "</div>"
      ],
      "text/plain": [
       "   org:resource lifecycle:transition           Activity       time:timestamp  \\\n",
       "0           112             COMPLETE        A_SUBMITTED  2011/09/30 22:38:44   \n",
       "1           112             COMPLETE  A_PARTLYSUBMITTED  2011/09/30 22:38:44   \n",
       "2           112             COMPLETE      A_PREACCEPTED  2011/09/30 22:39:37   \n",
       "3         10862             COMPLETE         A_ACCEPTED  2011/10/01 09:42:43   \n",
       "4         10862             COMPLETE        A_FINALIZED  2011/10/01 09:45:09   \n",
       "\n",
       "         case:REG_DATE  CaseID  case:AMOUNT_REQ  \n",
       "0  2011/10/01 00:38:44  173688            20000  \n",
       "1  2011/10/01 00:38:44  173688            20000  \n",
       "2  2011/10/01 00:38:44  173688            20000  \n",
       "3  2011/10/01 00:38:44  173688            20000  \n",
       "4  2011/10/01 00:38:44  173688            20000  "
      ]
     },
     "execution_count": 31,
     "metadata": {},
     "output_type": "execute_result"
    }
   ],
   "source": [
    "tab_all['time:timestamp'] = [x.split('.')[0] for x in tab_all['time:timestamp']]\n",
    "tab_all['case:REG_DATE'] = [x.split('.')[0] for x in tab_all['case:REG_DATE']]\n",
    "tab_all['time:timestamp'] = tab_all['time:timestamp'].str.replace(\"-\", \"/\")\n",
    "tab_all['time:timestamp'] = tab_all['time:timestamp'].str.split('+', expand = True)[0]\n",
    "tab_all['case:REG_DATE'] = tab_all['case:REG_DATE'].str.replace(\"-\", \"/\")\n",
    "tab_all['case:REG_DATE'] = tab_all['case:REG_DATE'].str.split('+', expand = True)[0]\n",
    "tab_all.head()"
   ]
  },
  {
   "cell_type": "code",
   "execution_count": 32,
   "metadata": {},
   "outputs": [],
   "source": [
    "tab_all.to_csv(data_dir_processed + f\"{dataset}_processed_all.csv\", index=False)"
   ]
  },
  {
   "cell_type": "code",
   "execution_count": 39,
   "metadata": {},
   "outputs": [],
   "source": [
    "split_ratio = 2/3\n",
    "\n",
    "first_act_tab = tab_all.groupby('CaseID').first().sort_values('time:timestamp').reset_index()\n",
    "first_act_tab = first_act_tab[~first_act_tab.duplicated(subset=[\"CaseID\", \"Activity\"], keep = \"first\")]\n",
    "first_act_tab = first_act_tab.reset_index(drop = True)\n",
    "\n",
    "list_train_valid_cases = list(first_act_tab[: int(split_ratio*len(first_act_tab))][\"CaseID\"].unique())\n",
    "\n",
    "list_train_cases = list_train_valid_cases[:int(len(list_train_valid_cases)*0.8)]\n",
    "tab_train = tab_all[tab_all[\"CaseID\"].isin(list_train_cases)].reset_index(drop = True)\n",
    "tab_train.to_csv(data_dir_processed+ f\"{dataset}_processed_train.csv\", index = False)\n",
    "\n",
    "list_valid_cases = list_train_valid_cases[int(len(list_train_valid_cases)*0.8):]\n",
    "tab_valid = tab_all[tab_all[\"CaseID\"].isin(list_valid_cases)].reset_index(drop = True)\n",
    "tab_valid.to_csv(data_dir_processed+f\"{dataset}_processed_valid.csv\", index = False)\n",
    "\n",
    "list_test_cases = list(first_act_tab[int(split_ratio*len(first_act_tab)):][\"CaseID\"].unique())\n",
    "tab_test = tab_all[tab_all[\"CaseID\"].isin(list_test_cases)].reset_index(drop = True)\n",
    "tab_test.to_csv(data_dir_processed+ f\"{dataset}_processed_test.csv\", index = False)\n"
   ]
  },
  {
   "cell_type": "markdown",
   "metadata": {},
   "source": [
    "### Prepare the graphs"
   ]
  },
  {
   "cell_type": "code",
   "execution_count": 25,
   "metadata": {},
   "outputs": [],
   "source": [
    "from torch_geometric.data import HeteroData"
   ]
  },
  {
   "cell_type": "code",
   "execution_count": 43,
   "metadata": {},
   "outputs": [],
   "source": [
    "case_ids = list(set(tab_valid['CaseID']))"
   ]
  },
  {
   "cell_type": "code",
   "execution_count": null,
   "metadata": {},
   "outputs": [],
   "source": [
    "# Fare dizionario colonna X is_static() per ogni colonna"
   ]
  },
  {
   "cell_type": "code",
   "execution_count": 90,
   "metadata": {},
   "outputs": [
    {
     "data": {
      "text/html": [
       "<div>\n",
       "<style scoped>\n",
       "    .dataframe tbody tr th:only-of-type {\n",
       "        vertical-align: middle;\n",
       "    }\n",
       "\n",
       "    .dataframe tbody tr th {\n",
       "        vertical-align: top;\n",
       "    }\n",
       "\n",
       "    .dataframe thead th {\n",
       "        text-align: right;\n",
       "    }\n",
       "</style>\n",
       "<table border=\"1\" class=\"dataframe\">\n",
       "  <thead>\n",
       "    <tr style=\"text-align: right;\">\n",
       "      <th></th>\n",
       "      <th>org:resource</th>\n",
       "      <th>lifecycle:transition</th>\n",
       "      <th>Activity</th>\n",
       "      <th>time:timestamp</th>\n",
       "      <th>case:REG_DATE</th>\n",
       "      <th>case:AMOUNT_REQ</th>\n",
       "    </tr>\n",
       "  </thead>\n",
       "  <tbody>\n",
       "    <tr>\n",
       "      <th>0</th>\n",
       "      <td>112</td>\n",
       "      <td>COMPLETE</td>\n",
       "      <td>A_SUBMITTED</td>\n",
       "      <td>2011/12/29 22:22:07</td>\n",
       "      <td>2011/12/29 23:22:07</td>\n",
       "      <td>2500</td>\n",
       "    </tr>\n",
       "    <tr>\n",
       "      <th>1</th>\n",
       "      <td>112</td>\n",
       "      <td>COMPLETE</td>\n",
       "      <td>A_PARTLYSUBMITTED</td>\n",
       "      <td>2011/12/29 22:22:07</td>\n",
       "      <td>2011/12/29 23:22:07</td>\n",
       "      <td>2500</td>\n",
       "    </tr>\n",
       "    <tr>\n",
       "      <th>2</th>\n",
       "      <td>112</td>\n",
       "      <td>COMPLETE</td>\n",
       "      <td>A_PREACCEPTED</td>\n",
       "      <td>2011/12/29 22:22:42</td>\n",
       "      <td>2011/12/29 23:22:07</td>\n",
       "      <td>2500</td>\n",
       "    </tr>\n",
       "    <tr>\n",
       "      <th>3</th>\n",
       "      <td>11202</td>\n",
       "      <td>COMPLETE</td>\n",
       "      <td>A_DECLINED</td>\n",
       "      <td>2011/12/30 17:46:21</td>\n",
       "      <td>2011/12/29 23:22:07</td>\n",
       "      <td>2500</td>\n",
       "    </tr>\n",
       "  </tbody>\n",
       "</table>\n",
       "</div>"
      ],
      "text/plain": [
       "   org:resource lifecycle:transition           Activity       time:timestamp  \\\n",
       "0           112             COMPLETE        A_SUBMITTED  2011/12/29 22:22:07   \n",
       "1           112             COMPLETE  A_PARTLYSUBMITTED  2011/12/29 22:22:07   \n",
       "2           112             COMPLETE      A_PREACCEPTED  2011/12/29 22:22:42   \n",
       "3         11202             COMPLETE         A_DECLINED  2011/12/30 17:46:21   \n",
       "\n",
       "         case:REG_DATE  case:AMOUNT_REQ  \n",
       "0  2011/12/29 23:22:07             2500  \n",
       "1  2011/12/29 23:22:07             2500  \n",
       "2  2011/12/29 23:22:07             2500  \n",
       "3  2011/12/29 23:22:07             2500  "
      ]
     },
     "execution_count": 90,
     "metadata": {},
     "output_type": "execute_result"
    }
   ],
   "source": [
    "trace_ex = tab_valid.query(f'CaseID == {case_ids[1]}').reset_index().drop(columns='index')\n",
    "trace_ex = trace_ex.drop(columns=\"CaseID\")\n",
    "trace_ex"
   ]
  },
  {
   "cell_type": "code",
   "execution_count": 91,
   "metadata": {},
   "outputs": [
    {
     "data": {
      "text/plain": [
       "['org:resource',\n",
       " 'lifecycle:transition',\n",
       " 'Activity',\n",
       " 'time:timestamp',\n",
       " 'case:REG_DATE',\n",
       " 'case:AMOUNT_REQ']"
      ]
     },
     "execution_count": 91,
     "metadata": {},
     "output_type": "execute_result"
    }
   ],
   "source": [
    "columns_key = list(trace_ex.columns)\n",
    "columns_key"
   ]
  },
  {
   "cell_type": "code",
   "execution_count": 103,
   "metadata": {},
   "outputs": [],
   "source": [
    "def feature_dynamic(values, key, difference):\n",
    "    res = {}\n",
    "    for i in range(len(values)):\n",
    "        for j in range(i+1, len(values)):\n",
    "            res[(f'{key}_{i}', f'{key}_{j}')] =  difference(values[j], values[i])\n",
    "    return res\n",
    "            "
   ]
  },
  {
   "cell_type": "code",
   "execution_count": 105,
   "metadata": {},
   "outputs": [
    {
     "name": "stdout",
     "output_type": "stream",
     "text": [
      "{('org:resource_0', 'org:resource_1'): 0,\n",
      " ('org:resource_0', 'org:resource_2'): 0,\n",
      " ('org:resource_0', 'org:resource_3'): 11090,\n",
      " ('org:resource_1', 'org:resource_2'): 0,\n",
      " ('org:resource_1', 'org:resource_3'): 11090,\n",
      " ('org:resource_2', 'org:resource_3'): 11090}\n"
     ]
    }
   ],
   "source": [
    "from pprint import pprint as print\n",
    "print(feature_dynamic(trace_ex['org:resource'], 'org:resource', lambda x,y : x-y))"
   ]
  },
  {
   "cell_type": "code",
   "execution_count": 95,
   "metadata": {},
   "outputs": [
    {
     "data": {
      "text/plain": [
       "{'org:resource': False,\n",
       " 'lifecycle:transition': True,\n",
       " 'Activity': False,\n",
       " 'time:timestamp': False,\n",
       " 'case:REG_DATE': True,\n",
       " 'case:AMOUNT_REQ': True}"
      ]
     },
     "execution_count": 95,
     "metadata": {},
     "output_type": "execute_result"
    }
   ],
   "source": [
    "from utils import is_static\n",
    "\n",
    "\n",
    "columns_static = {c : is_static(trace_ex[c]) for c in columns_key}\n",
    "columns_static"
   ]
  },
  {
   "cell_type": "code",
   "execution_count": null,
   "metadata": {},
   "outputs": [],
   "source": [
    "import time \n",
    "import datetime"
   ]
  },
  {
   "cell_type": "code",
   "execution_count": 81,
   "metadata": {},
   "outputs": [],
   "source": [
    "trace_ex = trace_ex.values"
   ]
  },
  {
   "cell_type": "code",
   "execution_count": 75,
   "metadata": {},
   "outputs": [
    {
     "data": {
      "text/plain": [
       "['org:resource',\n",
       " 'lifecycle:transition',\n",
       " 'Activity',\n",
       " 'time:timestamp',\n",
       " 'case:REG_DATE',\n",
       " 'CaseID',\n",
       " 'case:AMOUNT_REQ']"
      ]
     },
     "execution_count": 75,
     "metadata": {},
     "output_type": "execute_result"
    }
   ],
   "source": []
  },
  {
   "cell_type": "code",
   "execution_count": 77,
   "metadata": {},
   "outputs": [
    {
     "data": {
      "text/plain": [
       "[array([112, 'COMPLETE', 'A_SUBMITTED', '2011/12/29 22:22:07',\n",
       "        '2011/12/29 23:22:07', 196611, 2500], dtype=object),\n",
       " array([112, 'COMPLETE', 'A_PARTLYSUBMITTED', '2011/12/29 22:22:07',\n",
       "        '2011/12/29 23:22:07', 196611, 2500], dtype=object),\n",
       " array([112, 'COMPLETE', 'A_PREACCEPTED', '2011/12/29 22:22:42',\n",
       "        '2011/12/29 23:22:07', 196611, 2500], dtype=object),\n",
       " array([11202, 'COMPLETE', 'A_DECLINED', '2011/12/30 17:46:21',\n",
       "        '2011/12/29 23:22:07', 196611, 2500], dtype=object)]"
      ]
     },
     "execution_count": 77,
     "metadata": {},
     "output_type": "execute_result"
    }
   ],
   "source": [
    "list(trace_ex.values)"
   ]
  }
 ],
 "metadata": {
  "kernelspec": {
   "display_name": "hgnn_env",
   "language": "python",
   "name": "python3"
  },
  "language_info": {
   "codemirror_mode": {
    "name": "ipython",
    "version": 3
   },
   "file_extension": ".py",
   "mimetype": "text/x-python",
   "name": "python",
   "nbconvert_exporter": "python",
   "pygments_lexer": "ipython3",
   "version": "3.10.12"
  }
 },
 "nbformat": 4,
 "nbformat_minor": 2
}
