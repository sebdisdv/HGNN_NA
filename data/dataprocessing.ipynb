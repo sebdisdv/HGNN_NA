{
 "cells": [
  {
   "cell_type": "code",
   "execution_count": 1,
   "metadata": {},
   "outputs": [
    {
     "name": "stdout",
     "output_type": "stream",
     "text": [
      "/home/sebdis/HGNN/HGNN_NA\n",
      "/home/sebdis/HGNN/HGNN_NA/data/datasets/original/\n",
      "/home/sebdis/HGNN/HGNN_NA/data/datasets/processed/\n",
      "/home/sebdis/HGNN/HGNN_NA/data/datasets/graphs/\n"
     ]
    }
   ],
   "source": [
    "import pandas as pd\n",
    "import os\n",
    "from os.path import dirname\n",
    "\n",
    "root_path = dirname(os.getcwd())\n",
    "\n",
    "pd.set_option(\"display.max_columns\", None)\n",
    "data_dir = root_path + \"/data/datasets/original/\"\n",
    "data_dir_processed = root_path + \"/data/datasets/processed/\"\n",
    "data_dir_graphs = root_path + \"/data/datasets/graphs/\"\n",
    "\n",
    "print(root_path, data_dir, data_dir_processed, data_dir_graphs, sep=\"\\n\")"
   ]
  },
  {
   "cell_type": "code",
   "execution_count": 2,
   "metadata": {},
   "outputs": [],
   "source": [
    "dataset = \"BPI_Challenge_2012_A\"\n",
    "filename = data_dir + dataset + \".csv\"\n",
    "raw_data = pd.read_csv(filename, index_col=False)\n",
    "raw_data = raw_data.drop(columns=\"Unnamed: 0\")"
   ]
  },
  {
   "cell_type": "code",
   "execution_count": 3,
   "metadata": {},
   "outputs": [
    {
     "data": {
      "text/html": [
       "<div>\n",
       "<style scoped>\n",
       "    .dataframe tbody tr th:only-of-type {\n",
       "        vertical-align: middle;\n",
       "    }\n",
       "\n",
       "    .dataframe tbody tr th {\n",
       "        vertical-align: top;\n",
       "    }\n",
       "\n",
       "    .dataframe thead th {\n",
       "        text-align: right;\n",
       "    }\n",
       "</style>\n",
       "<table border=\"1\" class=\"dataframe\">\n",
       "  <thead>\n",
       "    <tr style=\"text-align: right;\">\n",
       "      <th></th>\n",
       "      <th>org:resource</th>\n",
       "      <th>lifecycle:transition</th>\n",
       "      <th>concept:name</th>\n",
       "      <th>time:timestamp</th>\n",
       "      <th>case:REG_DATE</th>\n",
       "      <th>case:concept:name</th>\n",
       "      <th>case:AMOUNT_REQ</th>\n",
       "    </tr>\n",
       "  </thead>\n",
       "  <tbody>\n",
       "    <tr>\n",
       "      <th>0</th>\n",
       "      <td>112</td>\n",
       "      <td>COMPLETE</td>\n",
       "      <td>A_SUBMITTED</td>\n",
       "      <td>2011-09-30 22:38:44.546000+00:00</td>\n",
       "      <td>2011-10-01 00:38:44.546000+02:00</td>\n",
       "      <td>173688</td>\n",
       "      <td>20000</td>\n",
       "    </tr>\n",
       "    <tr>\n",
       "      <th>1</th>\n",
       "      <td>112</td>\n",
       "      <td>COMPLETE</td>\n",
       "      <td>A_PARTLYSUBMITTED</td>\n",
       "      <td>2011-09-30 22:38:44.880000+00:00</td>\n",
       "      <td>2011-10-01 00:38:44.546000+02:00</td>\n",
       "      <td>173688</td>\n",
       "      <td>20000</td>\n",
       "    </tr>\n",
       "    <tr>\n",
       "      <th>2</th>\n",
       "      <td>112</td>\n",
       "      <td>COMPLETE</td>\n",
       "      <td>A_PREACCEPTED</td>\n",
       "      <td>2011-09-30 22:39:37.906000+00:00</td>\n",
       "      <td>2011-10-01 00:38:44.546000+02:00</td>\n",
       "      <td>173688</td>\n",
       "      <td>20000</td>\n",
       "    </tr>\n",
       "    <tr>\n",
       "      <th>3</th>\n",
       "      <td>10862</td>\n",
       "      <td>COMPLETE</td>\n",
       "      <td>A_ACCEPTED</td>\n",
       "      <td>2011-10-01 09:42:43.308000+00:00</td>\n",
       "      <td>2011-10-01 00:38:44.546000+02:00</td>\n",
       "      <td>173688</td>\n",
       "      <td>20000</td>\n",
       "    </tr>\n",
       "    <tr>\n",
       "      <th>4</th>\n",
       "      <td>10862</td>\n",
       "      <td>COMPLETE</td>\n",
       "      <td>A_FINALIZED</td>\n",
       "      <td>2011-10-01 09:45:09.243000+00:00</td>\n",
       "      <td>2011-10-01 00:38:44.546000+02:00</td>\n",
       "      <td>173688</td>\n",
       "      <td>20000</td>\n",
       "    </tr>\n",
       "  </tbody>\n",
       "</table>\n",
       "</div>"
      ],
      "text/plain": [
       "   org:resource lifecycle:transition       concept:name  \\\n",
       "0           112             COMPLETE        A_SUBMITTED   \n",
       "1           112             COMPLETE  A_PARTLYSUBMITTED   \n",
       "2           112             COMPLETE      A_PREACCEPTED   \n",
       "3         10862             COMPLETE         A_ACCEPTED   \n",
       "4         10862             COMPLETE        A_FINALIZED   \n",
       "\n",
       "                     time:timestamp                     case:REG_DATE  \\\n",
       "0  2011-09-30 22:38:44.546000+00:00  2011-10-01 00:38:44.546000+02:00   \n",
       "1  2011-09-30 22:38:44.880000+00:00  2011-10-01 00:38:44.546000+02:00   \n",
       "2  2011-09-30 22:39:37.906000+00:00  2011-10-01 00:38:44.546000+02:00   \n",
       "3  2011-10-01 09:42:43.308000+00:00  2011-10-01 00:38:44.546000+02:00   \n",
       "4  2011-10-01 09:45:09.243000+00:00  2011-10-01 00:38:44.546000+02:00   \n",
       "\n",
       "   case:concept:name  case:AMOUNT_REQ  \n",
       "0             173688            20000  \n",
       "1             173688            20000  \n",
       "2             173688            20000  \n",
       "3             173688            20000  \n",
       "4             173688            20000  "
      ]
     },
     "execution_count": 3,
     "metadata": {},
     "output_type": "execute_result"
    }
   ],
   "source": [
    "raw_data.head()"
   ]
  },
  {
   "cell_type": "code",
   "execution_count": 4,
   "metadata": {},
   "outputs": [],
   "source": [
    "tab_all = raw_data.rename(\n",
    "    columns={\"case:concept:name\": \"CaseID\", \"concept:name\": \"Activity\"}\n",
    ")\n",
    "# tab_all.head()"
   ]
  },
  {
   "cell_type": "code",
   "execution_count": 5,
   "metadata": {},
   "outputs": [],
   "source": [
    "tab_all[\"time:timestamp\"] = [x.split(\".\")[0] for x in tab_all[\"time:timestamp\"]]\n",
    "tab_all[\"case:REG_DATE\"] = [x.split(\".\")[0] for x in tab_all[\"case:REG_DATE\"]]\n",
    "tab_all[\"time:timestamp\"] = tab_all[\"time:timestamp\"].str.replace(\"-\", \"/\")\n",
    "tab_all[\"time:timestamp\"] = tab_all[\"time:timestamp\"].str.split(\"+\", expand=True)[0]\n",
    "tab_all[\"case:REG_DATE\"] = tab_all[\"case:REG_DATE\"].str.replace(\"-\", \"/\")\n",
    "tab_all[\"case:REG_DATE\"] = tab_all[\"case:REG_DATE\"].str.split(\"+\", expand=True)[0]\n",
    "# tab_all.head()"
   ]
  },
  {
   "cell_type": "code",
   "execution_count": 6,
   "metadata": {},
   "outputs": [],
   "source": [
    "# tab_all.to_csv(data_dir_processed + f\"{dataset}_processed_all.csv\", index=False)"
   ]
  },
  {
   "cell_type": "code",
   "execution_count": 7,
   "metadata": {},
   "outputs": [],
   "source": [
    "split_ratio = 2 / 3\n",
    "\n",
    "first_act_tab = (\n",
    "    tab_all.groupby(\"CaseID\").first().sort_values(\"time:timestamp\").reset_index()\n",
    ")\n",
    "first_act_tab = first_act_tab[\n",
    "    ~first_act_tab.duplicated(subset=[\"CaseID\", \"Activity\"], keep=\"first\")\n",
    "]\n",
    "first_act_tab = first_act_tab.reset_index(drop=True)\n",
    "\n",
    "list_train_valid_cases = list(\n",
    "    first_act_tab[: int(split_ratio * len(first_act_tab))][\"CaseID\"].unique()\n",
    ")\n",
    "\n",
    "list_train_cases = list_train_valid_cases[: int(len(list_train_valid_cases) * 0.8)]\n",
    "tab_train = tab_all[tab_all[\"CaseID\"].isin(list_train_cases)].reset_index(drop=True)\n",
    "# tab_train.to_csv(data_dir_processed+ f\"{dataset}_processed_train.csv\", index = False)\n",
    "\n",
    "list_valid_cases = list_train_valid_cases[int(len(list_train_valid_cases) * 0.8) :]\n",
    "tab_valid = tab_all[tab_all[\"CaseID\"].isin(list_valid_cases)].reset_index(drop=True)\n",
    "# tab_valid.to_csv(data_dir_processed+f\"{dataset}_processed_valid.csv\", index = False)\n",
    "\n",
    "list_test_cases = list(\n",
    "    first_act_tab[int(split_ratio * len(first_act_tab)) :][\"CaseID\"].unique()\n",
    ")\n",
    "tab_test = tab_all[tab_all[\"CaseID\"].isin(list_test_cases)].reset_index(drop=True)\n",
    "# tab_test.to_csv(data_dir_processed+ f\"{dataset}_processed_test.csv\", index = False)"
   ]
  },
  {
   "cell_type": "markdown",
   "metadata": {},
   "source": [
    "### Prepare the graphs"
   ]
  },
  {
   "cell_type": "code",
   "execution_count": 8,
   "metadata": {},
   "outputs": [],
   "source": [
    "from utils import get_case_ids\n",
    "import utils\n",
    "from torch import tensor, max, int64, float32\n",
    "from torch_geometric.data import HeteroData"
   ]
  },
  {
   "cell_type": "code",
   "execution_count": 9,
   "metadata": {},
   "outputs": [],
   "source": [
    "def build_prefixes_graph_from_trace(dataset, trace):\n",
    "    X = []  # graphs\n",
    "    Y = []  # NA labels\n",
    "\n",
    "    node_features = utils.get_node_features(dataset, trace)\n",
    "    prefix_lenghts = range(2, len(trace))\n",
    "    # print(prefix_lenghts)\n",
    "    for prefix in prefix_lenghts:\n",
    "        # print(prefix)\n",
    "\n",
    "        # init node types and features\n",
    "        G = HeteroData()\n",
    "        for k in node_features:\n",
    "            G[k].x = node_features[k][:prefix]\n",
    "\n",
    "        edges_indexes = utils.compute_edges_indexs(node_features, prefix)\n",
    "        \n",
    "\n",
    "        edge_features = utils.compute_edges_features(node_features, edges_indexes)\n",
    "        for k in edge_features:\n",
    "            G[k].edge_attr  = tensor(edge_features[k], dtype=float32)\n",
    "\n",
    "        for k in edges_indexes:\n",
    "            ce = [[],[]]\n",
    "            for i in range(len(edges_indexes[k])):\n",
    "                ce[0].append(edges_indexes[k][i][0])\n",
    "                ce[1].append(edges_indexes[k][i][1])\n",
    "            edges_indexes[k] = ce\n",
    "            \n",
    "        for k in edges_indexes:\n",
    "            G[k].edge_index = tensor(edges_indexes[k], dtype=int64)\n",
    "\n",
    "        X.append(G)\n",
    "        Y.append(max(node_features[\"Activity\"][prefix], 0)[1])\n",
    "    return (X, tensor(Y, dtype=float32))"
   ]
  },
  {
   "cell_type": "markdown",
   "metadata": {},
   "source": [
    "## Create the datasets"
   ]
  },
  {
   "cell_type": "code",
   "execution_count": 10,
   "metadata": {},
   "outputs": [],
   "source": [
    "case_train_ids = get_case_ids(tab_train)\n",
    "case_valid_ids = get_case_ids(tab_valid)\n",
    "case_test_ids = get_case_ids(tab_test)"
   ]
  },
  {
   "cell_type": "code",
   "execution_count": 11,
   "metadata": {},
   "outputs": [
    {
     "name": "stdout",
     "output_type": "stream",
     "text": [
      "6979\n",
      "1745\n",
      "4363\n"
     ]
    }
   ],
   "source": [
    "print(len(case_train_ids))\n",
    "print(len(case_valid_ids))\n",
    "print(len(case_test_ids))"
   ]
  },
  {
   "cell_type": "code",
   "execution_count": 12,
   "metadata": {},
   "outputs": [
    {
     "name": "stdout",
     "output_type": "stream",
     "text": [
      "Preparing training dataset...\n"
     ]
    },
    {
     "data": {
      "application/vnd.jupyter.widget-view+json": {
       "model_id": "fb754ce5955048a8839d1dc4bc34601b",
       "version_major": 2,
       "version_minor": 0
      },
      "text/plain": [
       "  0%|          | 0/6979 [00:00<?, ?it/s]"
      ]
     },
     "metadata": {},
     "output_type": "display_data"
    },
    {
     "name": "stdout",
     "output_type": "stream",
     "text": [
      "Done!\n",
      "\n",
      "\n"
     ]
    }
   ],
   "source": [
    "from tqdm.notebook import tqdm\n",
    "\n",
    "\n",
    "print(\"Preparing training dataset...\")\n",
    "\n",
    "X_train = []\n",
    "Y_train = []\n",
    "\n",
    "for i in tqdm(range(len(case_train_ids))):\n",
    "    trace = (\n",
    "        tab_train.query(f\"CaseID == {case_train_ids[i]}\")\n",
    "        .reset_index()\n",
    "        .drop(columns=\"index\")\n",
    "        .drop(columns=\"CaseID\")\n",
    "    )\n",
    "    graphs, labels = build_prefixes_graph_from_trace(dataset=tab_all, trace=trace)\n",
    "    for i in range(len(labels)):\n",
    "        X_train.append(graphs[i])\n",
    "        Y_train.append(labels[i])\n",
    "\n",
    "Y_train = tensor(Y_train, dtype=float32)\n",
    "\n",
    "print(\"Done!\\n\\n\")"
   ]
  },
  {
   "cell_type": "code",
   "execution_count": 13,
   "metadata": {},
   "outputs": [
    {
     "name": "stdout",
     "output_type": "stream",
     "text": [
      "Preparing validation dataset...\n"
     ]
    },
    {
     "data": {
      "application/vnd.jupyter.widget-view+json": {
       "model_id": "1f816c13e3614532a97d5d14343b56ea",
       "version_major": 2,
       "version_minor": 0
      },
      "text/plain": [
       "  0%|          | 0/1745 [00:00<?, ?it/s]"
      ]
     },
     "metadata": {},
     "output_type": "display_data"
    },
    {
     "name": "stdout",
     "output_type": "stream",
     "text": [
      "Done!\n",
      "\n",
      "\n"
     ]
    }
   ],
   "source": [
    "print(\"Preparing validation dataset...\")\n",
    "\n",
    "X_valid = []\n",
    "Y_valid = []\n",
    "\n",
    "for i in tqdm(range(len(case_valid_ids))):\n",
    "    trace = (\n",
    "        tab_valid.query(f\"CaseID == {case_valid_ids[i]}\")\n",
    "        .reset_index()\n",
    "        .drop(columns=\"index\")\n",
    "        .drop(columns=\"CaseID\")\n",
    "    )\n",
    "    graphs, labels = build_prefixes_graph_from_trace(dataset=tab_all, trace=trace)\n",
    "    for i in range(len(labels)):\n",
    "        X_valid.append(graphs[i])\n",
    "        Y_valid.append(labels[i])\n",
    "\n",
    "Y_valid = tensor(Y_valid)\n",
    "\n",
    "print(\"Done!\\n\\n\")"
   ]
  },
  {
   "cell_type": "code",
   "execution_count": 14,
   "metadata": {},
   "outputs": [
    {
     "name": "stdout",
     "output_type": "stream",
     "text": [
      "Preparing test dataset...\n"
     ]
    },
    {
     "data": {
      "application/vnd.jupyter.widget-view+json": {
       "model_id": "f694b32e6a6a4b59aaff4d1e40132a98",
       "version_major": 2,
       "version_minor": 0
      },
      "text/plain": [
       "  0%|          | 0/4363 [00:00<?, ?it/s]"
      ]
     },
     "metadata": {},
     "output_type": "display_data"
    },
    {
     "name": "stdout",
     "output_type": "stream",
     "text": [
      "Done!\n",
      "\n",
      "\n"
     ]
    }
   ],
   "source": [
    "print(\"Preparing test dataset...\")\n",
    "\n",
    "X_test = []\n",
    "Y_test = []\n",
    "\n",
    "for i in tqdm(range(len(case_test_ids))):\n",
    "    trace = (\n",
    "        tab_test.query(f\"CaseID == {case_test_ids[i]}\")\n",
    "        .reset_index()\n",
    "        .drop(columns=\"index\")\n",
    "        .drop(columns=\"CaseID\")\n",
    "    )\n",
    "    graphs, labels = build_prefixes_graph_from_trace(dataset=tab_all, trace=trace)\n",
    "    for i in range(len(labels)):\n",
    "        X_test.append(graphs[i])\n",
    "        Y_test.append(labels[i])\n",
    "\n",
    "Y_test = tensor(Y_test)\n",
    "\n",
    "print(\"Done!\\n\\n\")"
   ]
  },
  {
   "cell_type": "markdown",
   "metadata": {},
   "source": [
    "### Let's Save the graph datasets"
   ]
  },
  {
   "cell_type": "code",
   "execution_count": 15,
   "metadata": {},
   "outputs": [],
   "source": [
    "import pickle\n",
    "\n",
    "with open(data_dir_graphs + dataset + \"_TRAIN.pkl\", \"wb\") as f:\n",
    "    pickle.dump([X_train, Y_train], f)\n",
    "with open(data_dir_graphs + dataset + \"_VALID.pkl\", \"wb\") as f:\n",
    "    pickle.dump([X_valid, Y_valid], f)\n",
    "with open(data_dir_graphs + dataset + \"_TEST.pkl\", \"wb\") as f:\n",
    "    pickle.dump([X_test, Y_test], f)"
   ]
  }
 ],
 "metadata": {
  "kernelspec": {
   "display_name": "hgnn_env",
   "language": "python",
   "name": "python3"
  },
  "language_info": {
   "codemirror_mode": {
    "name": "ipython",
    "version": 3
   },
   "file_extension": ".py",
   "mimetype": "text/x-python",
   "name": "python",
   "nbconvert_exporter": "python",
   "pygments_lexer": "ipython3",
   "version": "3.10.12"
  }
 },
 "nbformat": 4,
 "nbformat_minor": 2
}
