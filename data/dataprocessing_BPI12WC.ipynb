{
 "cells": [
  {
   "cell_type": "code",
   "execution_count": 1,
   "metadata": {},
   "outputs": [
    {
     "name": "stdout",
     "output_type": "stream",
     "text": [
      "/home/sebdis/ProcessMining/HGNN/HGNN_NA\n",
      "/home/sebdis/ProcessMining/HGNN/HGNN_NA/data/datasets/original/\n",
      "/home/sebdis/ProcessMining/HGNN/HGNN_NA/data/datasets/processed/\n",
      "/home/sebdis/ProcessMining/HGNN/HGNN_NA/data/datasets/graphs/\n"
     ]
    }
   ],
   "source": [
    "import pandas as pd\n",
    "import os\n",
    "from os.path import dirname\n",
    "\n",
    "root_path = dirname(os.getcwd())\n",
    "\n",
    "pd.set_option(\"display.max_columns\", None)\n",
    "data_dir = root_path + \"/data/datasets/original/\"\n",
    "data_dir_processed = root_path + \"/data/datasets/processed/\"\n",
    "data_dir_graphs = root_path + \"/data/datasets/graphs/\"\n",
    "\n",
    "print(root_path, data_dir, data_dir_processed, data_dir_graphs, sep=\"\\n\")"
   ]
  },
  {
   "cell_type": "code",
   "execution_count": 2,
   "metadata": {},
   "outputs": [],
   "source": [
    "dataset = \"BPI_Challenge_2012_W_Complete\""
   ]
  },
  {
   "cell_type": "code",
   "execution_count": 3,
   "metadata": {},
   "outputs": [
    {
     "name": "stderr",
     "output_type": "stream",
     "text": [
      "/home/sebdis/ProcessMining/HGNN/hgnn_env/lib/python3.10/site-packages/pm4py/util/dt_parsing/parser.py:77: UserWarning: ISO8601 strings are not fully supported with strpfromiso for Python versions below 3.11\n",
      "  warnings.warn(\n"
     ]
    },
    {
     "data": {
      "application/vnd.jupyter.widget-view+json": {
       "model_id": "470191c58788496cbee2b7885b812129",
       "version_major": 2,
       "version_minor": 0
      },
      "text/plain": [
       "parsing log, completed traces ::   0%|          | 0/9658 [00:00<?, ?it/s]"
      ]
     },
     "metadata": {},
     "output_type": "display_data"
    }
   ],
   "source": [
    "import pm4py\n",
    "\n",
    "log = pm4py.read_xes(f\"datasets/original/{dataset}.xes.gz\")\n",
    "log = pm4py.convert_to_dataframe(log)\n",
    "log.to_csv(f\"datasets/original/{dataset}.csv\")"
   ]
  },
  {
   "cell_type": "code",
   "execution_count": 4,
   "metadata": {},
   "outputs": [
    {
     "data": {
      "text/html": [
       "<div>\n",
       "<style scoped>\n",
       "    .dataframe tbody tr th:only-of-type {\n",
       "        vertical-align: middle;\n",
       "    }\n",
       "\n",
       "    .dataframe tbody tr th {\n",
       "        vertical-align: top;\n",
       "    }\n",
       "\n",
       "    .dataframe thead th {\n",
       "        text-align: right;\n",
       "    }\n",
       "</style>\n",
       "<table border=\"1\" class=\"dataframe\">\n",
       "  <thead>\n",
       "    <tr style=\"text-align: right;\">\n",
       "      <th></th>\n",
       "      <th>org:resource</th>\n",
       "      <th>lifecycle:transition</th>\n",
       "      <th>concept:name</th>\n",
       "      <th>time:timestamp</th>\n",
       "      <th>case:REG_DATE</th>\n",
       "      <th>case:concept:name</th>\n",
       "      <th>case:AMOUNT_REQ</th>\n",
       "    </tr>\n",
       "  </thead>\n",
       "  <tbody>\n",
       "    <tr>\n",
       "      <th>0</th>\n",
       "      <td>10912.0</td>\n",
       "      <td>COMPLETE</td>\n",
       "      <td>W_Afhandelen leads</td>\n",
       "      <td>2011-10-01 10:10:25.759000+00:00</td>\n",
       "      <td>2011-10-01 09:58:30.533000+00:00</td>\n",
       "      <td>173712</td>\n",
       "      <td>30000</td>\n",
       "    </tr>\n",
       "    <tr>\n",
       "      <th>1</th>\n",
       "      <td>11019.0</td>\n",
       "      <td>COMPLETE</td>\n",
       "      <td>W_Completeren aanvraag</td>\n",
       "      <td>2011-10-01 13:03:35.216000+00:00</td>\n",
       "      <td>2011-10-01 09:58:30.533000+00:00</td>\n",
       "      <td>173712</td>\n",
       "      <td>30000</td>\n",
       "    </tr>\n",
       "    <tr>\n",
       "      <th>2</th>\n",
       "      <td>11180.0</td>\n",
       "      <td>COMPLETE</td>\n",
       "      <td>W_Completeren aanvraag</td>\n",
       "      <td>2011-10-03 11:17:29.105000+00:00</td>\n",
       "      <td>2011-10-01 09:58:30.533000+00:00</td>\n",
       "      <td>173712</td>\n",
       "      <td>30000</td>\n",
       "    </tr>\n",
       "    <tr>\n",
       "      <th>3</th>\n",
       "      <td>11180.0</td>\n",
       "      <td>COMPLETE</td>\n",
       "      <td>W_Completeren aanvraag</td>\n",
       "      <td>2011-10-03 14:42:55.584000+00:00</td>\n",
       "      <td>2011-10-01 09:58:30.533000+00:00</td>\n",
       "      <td>173712</td>\n",
       "      <td>30000</td>\n",
       "    </tr>\n",
       "    <tr>\n",
       "      <th>4</th>\n",
       "      <td>10912.0</td>\n",
       "      <td>COMPLETE</td>\n",
       "      <td>W_Afhandelen leads</td>\n",
       "      <td>2011-10-01 10:16:49.843000+00:00</td>\n",
       "      <td>2011-10-01 09:45:37.274000+00:00</td>\n",
       "      <td>173706</td>\n",
       "      <td>18000</td>\n",
       "    </tr>\n",
       "  </tbody>\n",
       "</table>\n",
       "</div>"
      ],
      "text/plain": [
       "   org:resource lifecycle:transition            concept:name  \\\n",
       "0       10912.0             COMPLETE      W_Afhandelen leads   \n",
       "1       11019.0             COMPLETE  W_Completeren aanvraag   \n",
       "2       11180.0             COMPLETE  W_Completeren aanvraag   \n",
       "3       11180.0             COMPLETE  W_Completeren aanvraag   \n",
       "4       10912.0             COMPLETE      W_Afhandelen leads   \n",
       "\n",
       "                     time:timestamp                     case:REG_DATE  \\\n",
       "0  2011-10-01 10:10:25.759000+00:00  2011-10-01 09:58:30.533000+00:00   \n",
       "1  2011-10-01 13:03:35.216000+00:00  2011-10-01 09:58:30.533000+00:00   \n",
       "2  2011-10-03 11:17:29.105000+00:00  2011-10-01 09:58:30.533000+00:00   \n",
       "3  2011-10-03 14:42:55.584000+00:00  2011-10-01 09:58:30.533000+00:00   \n",
       "4  2011-10-01 10:16:49.843000+00:00  2011-10-01 09:45:37.274000+00:00   \n",
       "\n",
       "   case:concept:name  case:AMOUNT_REQ  \n",
       "0             173712            30000  \n",
       "1             173712            30000  \n",
       "2             173712            30000  \n",
       "3             173712            30000  \n",
       "4             173706            18000  "
      ]
     },
     "execution_count": 4,
     "metadata": {},
     "output_type": "execute_result"
    }
   ],
   "source": [
    "filename = data_dir + dataset + \".csv\"\n",
    "raw_data = pd.read_csv(filename, index_col=False)\n",
    "raw_data = raw_data.drop(columns=\"Unnamed: 0\")\n",
    "raw_data.head()"
   ]
  },
  {
   "cell_type": "code",
   "execution_count": 5,
   "metadata": {},
   "outputs": [
    {
     "data": {
      "text/html": [
       "<div>\n",
       "<style scoped>\n",
       "    .dataframe tbody tr th:only-of-type {\n",
       "        vertical-align: middle;\n",
       "    }\n",
       "\n",
       "    .dataframe tbody tr th {\n",
       "        vertical-align: top;\n",
       "    }\n",
       "\n",
       "    .dataframe thead th {\n",
       "        text-align: right;\n",
       "    }\n",
       "</style>\n",
       "<table border=\"1\" class=\"dataframe\">\n",
       "  <thead>\n",
       "    <tr style=\"text-align: right;\">\n",
       "      <th></th>\n",
       "      <th>org:resource</th>\n",
       "      <th>lifecycle:transition</th>\n",
       "      <th>Activity</th>\n",
       "      <th>time:timestamp</th>\n",
       "      <th>case:REG_DATE</th>\n",
       "      <th>CaseID</th>\n",
       "      <th>case:AMOUNT_REQ</th>\n",
       "    </tr>\n",
       "  </thead>\n",
       "  <tbody>\n",
       "    <tr>\n",
       "      <th>0</th>\n",
       "      <td>10912.0</td>\n",
       "      <td>COMPLETE</td>\n",
       "      <td>W_Afhandelen leads</td>\n",
       "      <td>2011-10-01 10:10:25.759000+00:00</td>\n",
       "      <td>2011-10-01 09:58:30.533000+00:00</td>\n",
       "      <td>173712</td>\n",
       "      <td>30000</td>\n",
       "    </tr>\n",
       "    <tr>\n",
       "      <th>1</th>\n",
       "      <td>11019.0</td>\n",
       "      <td>COMPLETE</td>\n",
       "      <td>W_Completeren aanvraag</td>\n",
       "      <td>2011-10-01 13:03:35.216000+00:00</td>\n",
       "      <td>2011-10-01 09:58:30.533000+00:00</td>\n",
       "      <td>173712</td>\n",
       "      <td>30000</td>\n",
       "    </tr>\n",
       "    <tr>\n",
       "      <th>2</th>\n",
       "      <td>11180.0</td>\n",
       "      <td>COMPLETE</td>\n",
       "      <td>W_Completeren aanvraag</td>\n",
       "      <td>2011-10-03 11:17:29.105000+00:00</td>\n",
       "      <td>2011-10-01 09:58:30.533000+00:00</td>\n",
       "      <td>173712</td>\n",
       "      <td>30000</td>\n",
       "    </tr>\n",
       "    <tr>\n",
       "      <th>3</th>\n",
       "      <td>11180.0</td>\n",
       "      <td>COMPLETE</td>\n",
       "      <td>W_Completeren aanvraag</td>\n",
       "      <td>2011-10-03 14:42:55.584000+00:00</td>\n",
       "      <td>2011-10-01 09:58:30.533000+00:00</td>\n",
       "      <td>173712</td>\n",
       "      <td>30000</td>\n",
       "    </tr>\n",
       "    <tr>\n",
       "      <th>4</th>\n",
       "      <td>10912.0</td>\n",
       "      <td>COMPLETE</td>\n",
       "      <td>W_Afhandelen leads</td>\n",
       "      <td>2011-10-01 10:16:49.843000+00:00</td>\n",
       "      <td>2011-10-01 09:45:37.274000+00:00</td>\n",
       "      <td>173706</td>\n",
       "      <td>18000</td>\n",
       "    </tr>\n",
       "  </tbody>\n",
       "</table>\n",
       "</div>"
      ],
      "text/plain": [
       "   org:resource lifecycle:transition                Activity  \\\n",
       "0       10912.0             COMPLETE      W_Afhandelen leads   \n",
       "1       11019.0             COMPLETE  W_Completeren aanvraag   \n",
       "2       11180.0             COMPLETE  W_Completeren aanvraag   \n",
       "3       11180.0             COMPLETE  W_Completeren aanvraag   \n",
       "4       10912.0             COMPLETE      W_Afhandelen leads   \n",
       "\n",
       "                     time:timestamp                     case:REG_DATE  CaseID  \\\n",
       "0  2011-10-01 10:10:25.759000+00:00  2011-10-01 09:58:30.533000+00:00  173712   \n",
       "1  2011-10-01 13:03:35.216000+00:00  2011-10-01 09:58:30.533000+00:00  173712   \n",
       "2  2011-10-03 11:17:29.105000+00:00  2011-10-01 09:58:30.533000+00:00  173712   \n",
       "3  2011-10-03 14:42:55.584000+00:00  2011-10-01 09:58:30.533000+00:00  173712   \n",
       "4  2011-10-01 10:16:49.843000+00:00  2011-10-01 09:45:37.274000+00:00  173706   \n",
       "\n",
       "   case:AMOUNT_REQ  \n",
       "0            30000  \n",
       "1            30000  \n",
       "2            30000  \n",
       "3            30000  \n",
       "4            18000  "
      ]
     },
     "execution_count": 5,
     "metadata": {},
     "output_type": "execute_result"
    }
   ],
   "source": [
    "tab_all = raw_data.rename(\n",
    "    columns={\"case:concept:name\": \"CaseID\", \"concept:name\": \"Activity\"}\n",
    ")\n",
    "tab_all.head()"
   ]
  },
  {
   "cell_type": "code",
   "execution_count": 6,
   "metadata": {},
   "outputs": [
    {
     "data": {
      "text/plain": [
       "array(['W_Afhandelen leads', 'W_Completeren aanvraag',\n",
       "       'W_Nabellen offertes', 'W_Valideren aanvraag',\n",
       "       'W_Nabellen incomplete dossiers', 'W_Beoordelen fraude'],\n",
       "      dtype=object)"
      ]
     },
     "execution_count": 6,
     "metadata": {},
     "output_type": "execute_result"
    }
   ],
   "source": [
    "tab_all[\"Activity\"].unique()"
   ]
  },
  {
   "cell_type": "code",
   "execution_count": 7,
   "metadata": {},
   "outputs": [
    {
     "data": {
      "text/html": [
       "<div>\n",
       "<style scoped>\n",
       "    .dataframe tbody tr th:only-of-type {\n",
       "        vertical-align: middle;\n",
       "    }\n",
       "\n",
       "    .dataframe tbody tr th {\n",
       "        vertical-align: top;\n",
       "    }\n",
       "\n",
       "    .dataframe thead th {\n",
       "        text-align: right;\n",
       "    }\n",
       "</style>\n",
       "<table border=\"1\" class=\"dataframe\">\n",
       "  <thead>\n",
       "    <tr style=\"text-align: right;\">\n",
       "      <th></th>\n",
       "      <th>org:resource</th>\n",
       "      <th>lifecycle:transition</th>\n",
       "      <th>Activity</th>\n",
       "      <th>time:timestamp</th>\n",
       "      <th>case:REG_DATE</th>\n",
       "      <th>CaseID</th>\n",
       "      <th>case:AMOUNT_REQ</th>\n",
       "    </tr>\n",
       "  </thead>\n",
       "  <tbody>\n",
       "    <tr>\n",
       "      <th>0</th>\n",
       "      <td>10912.0</td>\n",
       "      <td>COMPLETE</td>\n",
       "      <td>W_Afhandelen leads</td>\n",
       "      <td>2011/10/01 10:10:25</td>\n",
       "      <td>2011/10/01 09:58:30</td>\n",
       "      <td>173712</td>\n",
       "      <td>30000</td>\n",
       "    </tr>\n",
       "    <tr>\n",
       "      <th>1</th>\n",
       "      <td>11019.0</td>\n",
       "      <td>COMPLETE</td>\n",
       "      <td>W_Completeren aanvraag</td>\n",
       "      <td>2011/10/01 13:03:35</td>\n",
       "      <td>2011/10/01 09:58:30</td>\n",
       "      <td>173712</td>\n",
       "      <td>30000</td>\n",
       "    </tr>\n",
       "    <tr>\n",
       "      <th>2</th>\n",
       "      <td>11180.0</td>\n",
       "      <td>COMPLETE</td>\n",
       "      <td>W_Completeren aanvraag</td>\n",
       "      <td>2011/10/03 11:17:29</td>\n",
       "      <td>2011/10/01 09:58:30</td>\n",
       "      <td>173712</td>\n",
       "      <td>30000</td>\n",
       "    </tr>\n",
       "    <tr>\n",
       "      <th>3</th>\n",
       "      <td>11180.0</td>\n",
       "      <td>COMPLETE</td>\n",
       "      <td>W_Completeren aanvraag</td>\n",
       "      <td>2011/10/03 14:42:55</td>\n",
       "      <td>2011/10/01 09:58:30</td>\n",
       "      <td>173712</td>\n",
       "      <td>30000</td>\n",
       "    </tr>\n",
       "    <tr>\n",
       "      <th>4</th>\n",
       "      <td>10912.0</td>\n",
       "      <td>COMPLETE</td>\n",
       "      <td>W_Afhandelen leads</td>\n",
       "      <td>2011/10/01 10:16:49</td>\n",
       "      <td>2011/10/01 09:45:37</td>\n",
       "      <td>173706</td>\n",
       "      <td>18000</td>\n",
       "    </tr>\n",
       "  </tbody>\n",
       "</table>\n",
       "</div>"
      ],
      "text/plain": [
       "   org:resource lifecycle:transition                Activity  \\\n",
       "0       10912.0             COMPLETE      W_Afhandelen leads   \n",
       "1       11019.0             COMPLETE  W_Completeren aanvraag   \n",
       "2       11180.0             COMPLETE  W_Completeren aanvraag   \n",
       "3       11180.0             COMPLETE  W_Completeren aanvraag   \n",
       "4       10912.0             COMPLETE      W_Afhandelen leads   \n",
       "\n",
       "        time:timestamp        case:REG_DATE  CaseID  case:AMOUNT_REQ  \n",
       "0  2011/10/01 10:10:25  2011/10/01 09:58:30  173712            30000  \n",
       "1  2011/10/01 13:03:35  2011/10/01 09:58:30  173712            30000  \n",
       "2  2011/10/03 11:17:29  2011/10/01 09:58:30  173712            30000  \n",
       "3  2011/10/03 14:42:55  2011/10/01 09:58:30  173712            30000  \n",
       "4  2011/10/01 10:16:49  2011/10/01 09:45:37  173706            18000  "
      ]
     },
     "execution_count": 7,
     "metadata": {},
     "output_type": "execute_result"
    }
   ],
   "source": [
    "tab_all[\"time:timestamp\"] = [x.split(\".\")[0] for x in tab_all[\"time:timestamp\"]]\n",
    "tab_all[\"case:REG_DATE\"] = [x.split(\".\")[0] for x in tab_all[\"case:REG_DATE\"]]\n",
    "tab_all[\"time:timestamp\"] = tab_all[\"time:timestamp\"].str.replace(\"-\", \"/\")\n",
    "tab_all[\"time:timestamp\"] = tab_all[\"time:timestamp\"].str.split(\"+\", expand=True)[0]\n",
    "tab_all[\"case:REG_DATE\"] = tab_all[\"case:REG_DATE\"].str.replace(\"-\", \"/\")\n",
    "tab_all[\"case:REG_DATE\"] = tab_all[\"case:REG_DATE\"].str.split(\"+\", expand=True)[0]\n",
    "tab_all.head()"
   ]
  },
  {
   "cell_type": "code",
   "execution_count": 8,
   "metadata": {},
   "outputs": [
    {
     "data": {
      "text/html": [
       "<div>\n",
       "<style scoped>\n",
       "    .dataframe tbody tr th:only-of-type {\n",
       "        vertical-align: middle;\n",
       "    }\n",
       "\n",
       "    .dataframe tbody tr th {\n",
       "        vertical-align: top;\n",
       "    }\n",
       "\n",
       "    .dataframe thead th {\n",
       "        text-align: right;\n",
       "    }\n",
       "</style>\n",
       "<table border=\"1\" class=\"dataframe\">\n",
       "  <thead>\n",
       "    <tr style=\"text-align: right;\">\n",
       "      <th></th>\n",
       "      <th>org:resource</th>\n",
       "      <th>lifecycle:transition</th>\n",
       "      <th>Activity</th>\n",
       "      <th>time:timestamp</th>\n",
       "      <th>case:REG_DATE</th>\n",
       "      <th>CaseID</th>\n",
       "      <th>case:AMOUNT_REQ</th>\n",
       "    </tr>\n",
       "  </thead>\n",
       "  <tbody>\n",
       "    <tr>\n",
       "      <th>0</th>\n",
       "      <td>10912.0</td>\n",
       "      <td>COMPLETE</td>\n",
       "      <td>W_Afhandelen leads</td>\n",
       "      <td>1.317457e+09</td>\n",
       "      <td>1.317456e+09</td>\n",
       "      <td>173712</td>\n",
       "      <td>30000</td>\n",
       "    </tr>\n",
       "    <tr>\n",
       "      <th>1</th>\n",
       "      <td>11019.0</td>\n",
       "      <td>COMPLETE</td>\n",
       "      <td>W_Completeren aanvraag</td>\n",
       "      <td>1.317467e+09</td>\n",
       "      <td>1.317456e+09</td>\n",
       "      <td>173712</td>\n",
       "      <td>30000</td>\n",
       "    </tr>\n",
       "    <tr>\n",
       "      <th>2</th>\n",
       "      <td>11180.0</td>\n",
       "      <td>COMPLETE</td>\n",
       "      <td>W_Completeren aanvraag</td>\n",
       "      <td>1.317633e+09</td>\n",
       "      <td>1.317456e+09</td>\n",
       "      <td>173712</td>\n",
       "      <td>30000</td>\n",
       "    </tr>\n",
       "    <tr>\n",
       "      <th>3</th>\n",
       "      <td>11180.0</td>\n",
       "      <td>COMPLETE</td>\n",
       "      <td>W_Completeren aanvraag</td>\n",
       "      <td>1.317646e+09</td>\n",
       "      <td>1.317456e+09</td>\n",
       "      <td>173712</td>\n",
       "      <td>30000</td>\n",
       "    </tr>\n",
       "    <tr>\n",
       "      <th>4</th>\n",
       "      <td>10912.0</td>\n",
       "      <td>COMPLETE</td>\n",
       "      <td>W_Afhandelen leads</td>\n",
       "      <td>1.317457e+09</td>\n",
       "      <td>1.317455e+09</td>\n",
       "      <td>173706</td>\n",
       "      <td>18000</td>\n",
       "    </tr>\n",
       "  </tbody>\n",
       "</table>\n",
       "</div>"
      ],
      "text/plain": [
       "   org:resource lifecycle:transition                Activity  time:timestamp  \\\n",
       "0       10912.0             COMPLETE      W_Afhandelen leads    1.317457e+09   \n",
       "1       11019.0             COMPLETE  W_Completeren aanvraag    1.317467e+09   \n",
       "2       11180.0             COMPLETE  W_Completeren aanvraag    1.317633e+09   \n",
       "3       11180.0             COMPLETE  W_Completeren aanvraag    1.317646e+09   \n",
       "4       10912.0             COMPLETE      W_Afhandelen leads    1.317457e+09   \n",
       "\n",
       "   case:REG_DATE  CaseID  case:AMOUNT_REQ  \n",
       "0   1.317456e+09  173712            30000  \n",
       "1   1.317456e+09  173712            30000  \n",
       "2   1.317456e+09  173712            30000  \n",
       "3   1.317456e+09  173712            30000  \n",
       "4   1.317455e+09  173706            18000  "
      ]
     },
     "execution_count": 8,
     "metadata": {},
     "output_type": "execute_result"
    }
   ],
   "source": [
    "from utils import translate_time\n",
    "\n",
    "tab_all['time:timestamp'] = tab_all['time:timestamp'].apply(translate_time)\n",
    "tab_all['case:REG_DATE'] = tab_all['case:REG_DATE'].apply(translate_time)\n",
    "tab_all.head()"
   ]
  },
  {
   "cell_type": "code",
   "execution_count": 9,
   "metadata": {},
   "outputs": [],
   "source": [
    "categorical_columns = ['org:resource', 'Activity']\n",
    "real_value_columns = [\"time:timestamp\", 'case:AMOUNT_REQ', 'case:REG_DATE']"
   ]
  },
  {
   "cell_type": "code",
   "execution_count": 10,
   "metadata": {},
   "outputs": [],
   "source": [
    "tab_all = tab_all.drop(columns=[\"lifecycle:transition\"])"
   ]
  },
  {
   "cell_type": "code",
   "execution_count": 11,
   "metadata": {},
   "outputs": [
    {
     "data": {
      "text/plain": [
       "True"
      ]
     },
     "execution_count": 11,
     "metadata": {},
     "output_type": "execute_result"
    }
   ],
   "source": [
    "tab_all.isnull().values.any()"
   ]
  },
  {
   "cell_type": "code",
   "execution_count": 12,
   "metadata": {},
   "outputs": [],
   "source": [
    "tab_all = tab_all.fillna({key: \"NAN\" for key in categorical_columns})\n",
    "tab_all = tab_all.fillna({key: -1 for key in real_value_columns})"
   ]
  },
  {
   "cell_type": "code",
   "execution_count": 13,
   "metadata": {},
   "outputs": [
    {
     "data": {
      "text/html": [
       "<div>\n",
       "<style scoped>\n",
       "    .dataframe tbody tr th:only-of-type {\n",
       "        vertical-align: middle;\n",
       "    }\n",
       "\n",
       "    .dataframe tbody tr th {\n",
       "        vertical-align: top;\n",
       "    }\n",
       "\n",
       "    .dataframe thead th {\n",
       "        text-align: right;\n",
       "    }\n",
       "</style>\n",
       "<table border=\"1\" class=\"dataframe\">\n",
       "  <thead>\n",
       "    <tr style=\"text-align: right;\">\n",
       "      <th></th>\n",
       "      <th>org:resource</th>\n",
       "      <th>Activity</th>\n",
       "      <th>time:timestamp</th>\n",
       "      <th>case:REG_DATE</th>\n",
       "      <th>CaseID</th>\n",
       "      <th>case:AMOUNT_REQ</th>\n",
       "    </tr>\n",
       "  </thead>\n",
       "  <tbody>\n",
       "    <tr>\n",
       "      <th>0</th>\n",
       "      <td>10912.0</td>\n",
       "      <td>W_Afhandelen leads</td>\n",
       "      <td>10.442930</td>\n",
       "      <td>1.317456e+09</td>\n",
       "      <td>173712</td>\n",
       "      <td>30000</td>\n",
       "    </tr>\n",
       "    <tr>\n",
       "      <th>1</th>\n",
       "      <td>11019.0</td>\n",
       "      <td>W_Completeren aanvraag</td>\n",
       "      <td>10.707527</td>\n",
       "      <td>1.317456e+09</td>\n",
       "      <td>173712</td>\n",
       "      <td>30000</td>\n",
       "    </tr>\n",
       "    <tr>\n",
       "      <th>2</th>\n",
       "      <td>11180.0</td>\n",
       "      <td>W_Completeren aanvraag</td>\n",
       "      <td>12.260206</td>\n",
       "      <td>1.317456e+09</td>\n",
       "      <td>173712</td>\n",
       "      <td>30000</td>\n",
       "    </tr>\n",
       "    <tr>\n",
       "      <th>3</th>\n",
       "      <td>11180.0</td>\n",
       "      <td>W_Completeren aanvraag</td>\n",
       "      <td>12.316947</td>\n",
       "      <td>1.317456e+09</td>\n",
       "      <td>173712</td>\n",
       "      <td>30000</td>\n",
       "    </tr>\n",
       "    <tr>\n",
       "      <th>4</th>\n",
       "      <td>10912.0</td>\n",
       "      <td>W_Afhandelen leads</td>\n",
       "      <td>10.454063</td>\n",
       "      <td>1.317455e+09</td>\n",
       "      <td>173706</td>\n",
       "      <td>18000</td>\n",
       "    </tr>\n",
       "  </tbody>\n",
       "</table>\n",
       "</div>"
      ],
      "text/plain": [
       "  org:resource                Activity  time:timestamp  case:REG_DATE  CaseID  \\\n",
       "0      10912.0      W_Afhandelen leads       10.442930   1.317456e+09  173712   \n",
       "1      11019.0  W_Completeren aanvraag       10.707527   1.317456e+09  173712   \n",
       "2      11180.0  W_Completeren aanvraag       12.260206   1.317456e+09  173712   \n",
       "3      11180.0  W_Completeren aanvraag       12.316947   1.317456e+09  173712   \n",
       "4      10912.0      W_Afhandelen leads       10.454063   1.317455e+09  173706   \n",
       "\n",
       "   case:AMOUNT_REQ  \n",
       "0            30000  \n",
       "1            30000  \n",
       "2            30000  \n",
       "3            30000  \n",
       "4            18000  "
      ]
     },
     "execution_count": 13,
     "metadata": {},
     "output_type": "execute_result"
    }
   ],
   "source": [
    "from math import log\n",
    "import numpy as np\n",
    "\n",
    "min_time = tab_all['time:timestamp'].min() if tab_all['time:timestamp'].min() < tab_all['case:REG_DATE'].min() else tab_all['case:REG_DATE'].min()\n",
    "\n",
    "tab_all['time:timestamp'] -= min_time\n",
    "tab_all['time:timestamp'] = [ log(x)  if x > 0 else 0. for x in tab_all['time:timestamp'].values]\n",
    "# tab_all['time:timestamp'] = np.log(tab_all['time:timestamp'])\n",
    "\n",
    "tab_all.head()"
   ]
  },
  {
   "cell_type": "code",
   "execution_count": 14,
   "metadata": {},
   "outputs": [
    {
     "data": {
      "text/html": [
       "<div>\n",
       "<style scoped>\n",
       "    .dataframe tbody tr th:only-of-type {\n",
       "        vertical-align: middle;\n",
       "    }\n",
       "\n",
       "    .dataframe tbody tr th {\n",
       "        vertical-align: top;\n",
       "    }\n",
       "\n",
       "    .dataframe thead th {\n",
       "        text-align: right;\n",
       "    }\n",
       "</style>\n",
       "<table border=\"1\" class=\"dataframe\">\n",
       "  <thead>\n",
       "    <tr style=\"text-align: right;\">\n",
       "      <th></th>\n",
       "      <th>org:resource</th>\n",
       "      <th>Activity</th>\n",
       "      <th>time:timestamp</th>\n",
       "      <th>case:REG_DATE</th>\n",
       "      <th>CaseID</th>\n",
       "      <th>case:AMOUNT_REQ</th>\n",
       "    </tr>\n",
       "  </thead>\n",
       "  <tbody>\n",
       "    <tr>\n",
       "      <th>0</th>\n",
       "      <td>10912.0</td>\n",
       "      <td>W_Afhandelen leads</td>\n",
       "      <td>10.442930</td>\n",
       "      <td>10.421865</td>\n",
       "      <td>173712</td>\n",
       "      <td>30000</td>\n",
       "    </tr>\n",
       "    <tr>\n",
       "      <th>1</th>\n",
       "      <td>11019.0</td>\n",
       "      <td>W_Completeren aanvraag</td>\n",
       "      <td>10.707527</td>\n",
       "      <td>10.421865</td>\n",
       "      <td>173712</td>\n",
       "      <td>30000</td>\n",
       "    </tr>\n",
       "    <tr>\n",
       "      <th>2</th>\n",
       "      <td>11180.0</td>\n",
       "      <td>W_Completeren aanvraag</td>\n",
       "      <td>12.260206</td>\n",
       "      <td>10.421865</td>\n",
       "      <td>173712</td>\n",
       "      <td>30000</td>\n",
       "    </tr>\n",
       "    <tr>\n",
       "      <th>3</th>\n",
       "      <td>11180.0</td>\n",
       "      <td>W_Completeren aanvraag</td>\n",
       "      <td>12.316947</td>\n",
       "      <td>10.421865</td>\n",
       "      <td>173712</td>\n",
       "      <td>30000</td>\n",
       "    </tr>\n",
       "    <tr>\n",
       "      <th>4</th>\n",
       "      <td>10912.0</td>\n",
       "      <td>W_Afhandelen leads</td>\n",
       "      <td>10.454063</td>\n",
       "      <td>10.398580</td>\n",
       "      <td>173706</td>\n",
       "      <td>18000</td>\n",
       "    </tr>\n",
       "  </tbody>\n",
       "</table>\n",
       "</div>"
      ],
      "text/plain": [
       "  org:resource                Activity  time:timestamp  case:REG_DATE  CaseID  \\\n",
       "0      10912.0      W_Afhandelen leads       10.442930      10.421865  173712   \n",
       "1      11019.0  W_Completeren aanvraag       10.707527      10.421865  173712   \n",
       "2      11180.0  W_Completeren aanvraag       12.260206      10.421865  173712   \n",
       "3      11180.0  W_Completeren aanvraag       12.316947      10.421865  173712   \n",
       "4      10912.0      W_Afhandelen leads       10.454063      10.398580  173706   \n",
       "\n",
       "   case:AMOUNT_REQ  \n",
       "0            30000  \n",
       "1            30000  \n",
       "2            30000  \n",
       "3            30000  \n",
       "4            18000  "
      ]
     },
     "execution_count": 14,
     "metadata": {},
     "output_type": "execute_result"
    }
   ],
   "source": [
    "tab_all['case:REG_DATE'] -= min_time\n",
    "tab_all['case:REG_DATE'] = [ log(x)  if x > 0 else 0. for x in tab_all['case:REG_DATE'].values]\n",
    "# tab_all['time:timestamp'] = np.log(tab_all['time:timestamp'])\n",
    "\n",
    "tab_all.head()"
   ]
  },
  {
   "cell_type": "code",
   "execution_count": 15,
   "metadata": {},
   "outputs": [],
   "source": [
    "tab_all['case:AMOUNT_REQ'] = [log(int(x)) if x > 0 else 0 for x in tab_all['case:AMOUNT_REQ'].values]"
   ]
  },
  {
   "cell_type": "code",
   "execution_count": 16,
   "metadata": {},
   "outputs": [
    {
     "name": "stderr",
     "output_type": "stream",
     "text": [
      "/home/sebdis/ProcessMining/HGNN/HGNN_NA/data/utils.py:218: SettingWithCopyWarning: \n",
      "A value is trying to be set on a copy of a slice from a DataFrame.\n",
      "Try using .loc[row_indexer,col_indexer] = value instead\n",
      "\n",
      "See the caveats in the documentation: https://pandas.pydata.org/pandas-docs/stable/user_guide/indexing.html#returning-a-view-versus-a-copy\n",
      "  self.data['ac_rl'] = self.data.apply(associations, axis=1)\n"
     ]
    },
    {
     "name": "stdout",
     "output_type": "stream",
     "text": [
      "20.0 Analysing resource pool \n",
      "40.0 Analysing resource pool \n",
      "60.0 Analysing resource pool \n",
      "80.0 Analysing resource pool \n",
      "100.0 Analysing resource pool \n",
      "('ROLES \\n'\n",
      " '\\n'\n",
      " \"([{'role': 'Role 1', 'quantity': 49, 'members': [10912.0, 11019.0, 11180.0, \"\n",
      " \"'NAN', 10982.0, 11002.0, 11049.0, 11122.0, 10913.0, 10889.0, 11121.0, \"\n",
      " '10939.0, 11009.0, 11201.0, 11119.0, 10861.0, 11203.0, 11181.0, 11189.0, '\n",
      " '10899.0, 11000.0, 10863.0, 11169.0, 11179.0, 11001.0, 10228.0, 10909.0, '\n",
      " '10789.0, 10881.0, 10910.0, 10929.0, 10931.0, 11259.0, 10779.0, 10914.0, '\n",
      " '10933.0, 11079.0, 10932.0, 10935.0, 11254.0, 11003.0, 11269.0, 112.0, '\n",
      " \"11299.0, 10124.0, 11309.0, 11300.0, 11302.0, 11319.0]}, {'role': 'Role 2', \"\n",
      " \"'quantity': 9, 'members': [10629.0, 11339.0, 10972.0, 10609.0, 10821.0, \"\n",
      " \"11289.0, 10125.0, 10809.0, 10138.0]}, {'role': 'Role 3', 'quantity': 2, \"\n",
      " \"'members': [11304.0, 10188.0]}], [{'role': 'Role 1', 'resource': 10912.0}, \"\n",
      " \"{'role': 'Role 1', 'resource': 11019.0}, {'role': 'Role 1', 'resource': \"\n",
      " \"11180.0}, {'role': 'Role 1', 'resource': 'NAN'}, {'role': 'Role 1', \"\n",
      " \"'resource': 10982.0}, {'role': 'Role 1', 'resource': 11002.0}, {'role': \"\n",
      " \"'Role 1', 'resource': 11049.0}, {'role': 'Role 1', 'resource': 11122.0}, \"\n",
      " \"{'role': 'Role 1', 'resource': 10913.0}, {'role': 'Role 1', 'resource': \"\n",
      " \"10889.0}, {'role': 'Role 1', 'resource': 11121.0}, {'role': 'Role 1', \"\n",
      " \"'resource': 10939.0}, {'role': 'Role 1', 'resource': 11009.0}, {'role': \"\n",
      " \"'Role 1', 'resource': 11201.0}, {'role': 'Role 1', 'resource': 11119.0}, \"\n",
      " \"{'role': 'Role 1', 'resource': 10861.0}, {'role': 'Role 1', 'resource': \"\n",
      " \"11203.0}, {'role': 'Role 1', 'resource': 11181.0}, {'role': 'Role 1', \"\n",
      " \"'resource': 11189.0}, {'role': 'Role 1', 'resource': 10899.0}, {'role': \"\n",
      " \"'Role 1', 'resource': 11000.0}, {'role': 'Role 1', 'resource': 10863.0}, \"\n",
      " \"{'role': 'Role 1', 'resource': 11169.0}, {'role': 'Role 1', 'resource': \"\n",
      " \"11179.0}, {'role': 'Role 1', 'resource': 11001.0}, {'role': 'Role 1', \"\n",
      " \"'resource': 10228.0}, {'role': 'Role 1', 'resource': 10909.0}, {'role': \"\n",
      " \"'Role 1', 'resource': 10789.0}, {'role': 'Role 1', 'resource': 10881.0}, \"\n",
      " \"{'role': 'Role 1', 'resource': 10910.0}, {'role': 'Role 1', 'resource': \"\n",
      " \"10929.0}, {'role': 'Role 1', 'resource': 10931.0}, {'role': 'Role 1', \"\n",
      " \"'resource': 11259.0}, {'role': 'Role 1', 'resource': 10779.0}, {'role': \"\n",
      " \"'Role 1', 'resource': 10914.0}, {'role': 'Role 1', 'resource': 10933.0}, \"\n",
      " \"{'role': 'Role 1', 'resource': 11079.0}, {'role': 'Role 1', 'resource': \"\n",
      " \"10932.0}, {'role': 'Role 1', 'resource': 10935.0}, {'role': 'Role 1', \"\n",
      " \"'resource': 11254.0}, {'role': 'Role 1', 'resource': 11003.0}, {'role': \"\n",
      " \"'Role 1', 'resource': 11269.0}, {'role': 'Role 1', 'resource': 112.0}, \"\n",
      " \"{'role': 'Role 1', 'resource': 11299.0}, {'role': 'Role 1', 'resource': \"\n",
      " \"10124.0}, {'role': 'Role 1', 'resource': 11309.0}, {'role': 'Role 1', \"\n",
      " \"'resource': 11300.0}, {'role': 'Role 1', 'resource': 11302.0}, {'role': \"\n",
      " \"'Role 1', 'resource': 11319.0}, {'role': 'Role 2', 'resource': 10629.0}, \"\n",
      " \"{'role': 'Role 2', 'resource': 11339.0}, {'role': 'Role 2', 'resource': \"\n",
      " \"10972.0}, {'role': 'Role 2', 'resource': 10609.0}, {'role': 'Role 2', \"\n",
      " \"'resource': 10821.0}, {'role': 'Role 2', 'resource': 11289.0}, {'role': \"\n",
      " \"'Role 2', 'resource': 10125.0}, {'role': 'Role 2', 'resource': 10809.0}, \"\n",
      " \"{'role': 'Role 2', 'resource': 10138.0}, {'role': 'Role 3', 'resource': \"\n",
      " \"11304.0}, {'role': 'Role 3', 'resource': 10188.0}])\\n\"\n",
      " '\\n')\n"
     ]
    }
   ],
   "source": [
    "from utils import get_resource_role_map\n",
    "roles_map = get_resource_role_map(tab_all)"
   ]
  },
  {
   "cell_type": "code",
   "execution_count": 17,
   "metadata": {},
   "outputs": [
    {
     "data": {
      "text/plain": [
       "{10912.0: 'Role 1',\n",
       " 11019.0: 'Role 1',\n",
       " 11180.0: 'Role 1',\n",
       " 'NAN': 'Role 1',\n",
       " 10982.0: 'Role 1',\n",
       " 11002.0: 'Role 1',\n",
       " 11049.0: 'Role 1',\n",
       " 11122.0: 'Role 1',\n",
       " 10913.0: 'Role 1',\n",
       " 10889.0: 'Role 1',\n",
       " 11121.0: 'Role 1',\n",
       " 10939.0: 'Role 1',\n",
       " 11009.0: 'Role 1',\n",
       " 11201.0: 'Role 1',\n",
       " 11119.0: 'Role 1',\n",
       " 10861.0: 'Role 1',\n",
       " 11203.0: 'Role 1',\n",
       " 11181.0: 'Role 1',\n",
       " 11189.0: 'Role 1',\n",
       " 10899.0: 'Role 1',\n",
       " 11000.0: 'Role 1',\n",
       " 10863.0: 'Role 1',\n",
       " 11169.0: 'Role 1',\n",
       " 11179.0: 'Role 1',\n",
       " 11001.0: 'Role 1',\n",
       " 10228.0: 'Role 1',\n",
       " 10909.0: 'Role 1',\n",
       " 10789.0: 'Role 1',\n",
       " 10881.0: 'Role 1',\n",
       " 10910.0: 'Role 1',\n",
       " 10929.0: 'Role 1',\n",
       " 10931.0: 'Role 1',\n",
       " 11259.0: 'Role 1',\n",
       " 10779.0: 'Role 1',\n",
       " 10914.0: 'Role 1',\n",
       " 10933.0: 'Role 1',\n",
       " 11079.0: 'Role 1',\n",
       " 10932.0: 'Role 1',\n",
       " 10935.0: 'Role 1',\n",
       " 11254.0: 'Role 1',\n",
       " 11003.0: 'Role 1',\n",
       " 11269.0: 'Role 1',\n",
       " 112.0: 'Role 1',\n",
       " 11299.0: 'Role 1',\n",
       " 10124.0: 'Role 1',\n",
       " 11309.0: 'Role 1',\n",
       " 11300.0: 'Role 1',\n",
       " 11302.0: 'Role 1',\n",
       " 11319.0: 'Role 1',\n",
       " 10629.0: 'Role 2',\n",
       " 11339.0: 'Role 2',\n",
       " 10972.0: 'Role 2',\n",
       " 10609.0: 'Role 2',\n",
       " 10821.0: 'Role 2',\n",
       " 11289.0: 'Role 2',\n",
       " 10125.0: 'Role 2',\n",
       " 10809.0: 'Role 2',\n",
       " 10138.0: 'Role 2',\n",
       " 11304.0: 'Role 3',\n",
       " 10188.0: 'Role 3'}"
      ]
     },
     "execution_count": 17,
     "metadata": {},
     "output_type": "execute_result"
    }
   ],
   "source": [
    "roles_map = {\n",
    "    x[\"resource\"] : x[\"role\"]\n",
    "    for x in roles_map\n",
    "}\n",
    "roles_map"
   ]
  },
  {
   "cell_type": "code",
   "execution_count": 18,
   "metadata": {},
   "outputs": [],
   "source": [
    "tab_all[\"org:resource:role\"] = [roles_map[role] for role in tab_all[\"org:resource\"].values]"
   ]
  },
  {
   "cell_type": "code",
   "execution_count": 19,
   "metadata": {},
   "outputs": [],
   "source": [
    "categorical_columns.append(\"org:resource:role\")"
   ]
  },
  {
   "cell_type": "code",
   "execution_count": 20,
   "metadata": {},
   "outputs": [],
   "source": [
    "tab_all[\"org:resource\"] = [str(x) for x in tab_all[\"org:resource\"].values]"
   ]
  },
  {
   "cell_type": "code",
   "execution_count": 21,
   "metadata": {},
   "outputs": [
    {
     "data": {
      "text/html": [
       "<div>\n",
       "<style scoped>\n",
       "    .dataframe tbody tr th:only-of-type {\n",
       "        vertical-align: middle;\n",
       "    }\n",
       "\n",
       "    .dataframe tbody tr th {\n",
       "        vertical-align: top;\n",
       "    }\n",
       "\n",
       "    .dataframe thead th {\n",
       "        text-align: right;\n",
       "    }\n",
       "</style>\n",
       "<table border=\"1\" class=\"dataframe\">\n",
       "  <thead>\n",
       "    <tr style=\"text-align: right;\">\n",
       "      <th></th>\n",
       "      <th>org:resource</th>\n",
       "      <th>Activity</th>\n",
       "      <th>time:timestamp</th>\n",
       "      <th>case:REG_DATE</th>\n",
       "      <th>CaseID</th>\n",
       "      <th>case:AMOUNT_REQ</th>\n",
       "      <th>org:resource:role</th>\n",
       "    </tr>\n",
       "  </thead>\n",
       "  <tbody>\n",
       "    <tr>\n",
       "      <th>0</th>\n",
       "      <td>10912.0</td>\n",
       "      <td>W_Afhandelen leads</td>\n",
       "      <td>10.442930</td>\n",
       "      <td>10.421865</td>\n",
       "      <td>173712</td>\n",
       "      <td>10.308953</td>\n",
       "      <td>Role 1</td>\n",
       "    </tr>\n",
       "    <tr>\n",
       "      <th>1</th>\n",
       "      <td>11019.0</td>\n",
       "      <td>W_Completeren aanvraag</td>\n",
       "      <td>10.707527</td>\n",
       "      <td>10.421865</td>\n",
       "      <td>173712</td>\n",
       "      <td>10.308953</td>\n",
       "      <td>Role 1</td>\n",
       "    </tr>\n",
       "    <tr>\n",
       "      <th>2</th>\n",
       "      <td>11180.0</td>\n",
       "      <td>W_Completeren aanvraag</td>\n",
       "      <td>12.260206</td>\n",
       "      <td>10.421865</td>\n",
       "      <td>173712</td>\n",
       "      <td>10.308953</td>\n",
       "      <td>Role 1</td>\n",
       "    </tr>\n",
       "    <tr>\n",
       "      <th>3</th>\n",
       "      <td>11180.0</td>\n",
       "      <td>W_Completeren aanvraag</td>\n",
       "      <td>12.316947</td>\n",
       "      <td>10.421865</td>\n",
       "      <td>173712</td>\n",
       "      <td>10.308953</td>\n",
       "      <td>Role 1</td>\n",
       "    </tr>\n",
       "    <tr>\n",
       "      <th>4</th>\n",
       "      <td>10912.0</td>\n",
       "      <td>W_Afhandelen leads</td>\n",
       "      <td>10.454063</td>\n",
       "      <td>10.398580</td>\n",
       "      <td>173706</td>\n",
       "      <td>9.798127</td>\n",
       "      <td>Role 1</td>\n",
       "    </tr>\n",
       "  </tbody>\n",
       "</table>\n",
       "</div>"
      ],
      "text/plain": [
       "  org:resource                Activity  time:timestamp  case:REG_DATE  CaseID  \\\n",
       "0      10912.0      W_Afhandelen leads       10.442930      10.421865  173712   \n",
       "1      11019.0  W_Completeren aanvraag       10.707527      10.421865  173712   \n",
       "2      11180.0  W_Completeren aanvraag       12.260206      10.421865  173712   \n",
       "3      11180.0  W_Completeren aanvraag       12.316947      10.421865  173712   \n",
       "4      10912.0      W_Afhandelen leads       10.454063      10.398580  173706   \n",
       "\n",
       "   case:AMOUNT_REQ org:resource:role  \n",
       "0        10.308953            Role 1  \n",
       "1        10.308953            Role 1  \n",
       "2        10.308953            Role 1  \n",
       "3        10.308953            Role 1  \n",
       "4         9.798127            Role 1  "
      ]
     },
     "execution_count": 21,
     "metadata": {},
     "output_type": "execute_result"
    }
   ],
   "source": [
    "tab_all.head()"
   ]
  },
  {
   "cell_type": "code",
   "execution_count": 22,
   "metadata": {},
   "outputs": [],
   "source": [
    "tab_all.to_csv(data_dir_processed + f\"{dataset}_processed_all.csv\", index=False)"
   ]
  },
  {
   "cell_type": "markdown",
   "metadata": {},
   "source": [
    "# Split the dataset"
   ]
  },
  {
   "cell_type": "code",
   "execution_count": 23,
   "metadata": {},
   "outputs": [],
   "source": [
    "split_ratio = 2 / 3\n",
    "\n",
    "first_act_tab = (\n",
    "    tab_all.groupby(\"CaseID\").first().sort_values(\"time:timestamp\").reset_index()\n",
    ")\n",
    "first_act_tab = first_act_tab[\n",
    "    ~first_act_tab.duplicated(subset=[\"CaseID\", \"Activity\"], keep=\"first\")\n",
    "]\n",
    "first_act_tab = first_act_tab.reset_index(drop=True)\n",
    "\n",
    "list_train_valid_cases = list(\n",
    "    first_act_tab[: int(split_ratio * len(first_act_tab))][\"CaseID\"].unique()\n",
    ")\n",
    "\n",
    "list_train_cases = list_train_valid_cases[: int(len(list_train_valid_cases) * 0.8)]\n",
    "tab_train = tab_all[tab_all[\"CaseID\"].isin(list_train_cases)].reset_index(drop=True)\n",
    "tab_train.to_csv(data_dir_processed+ f\"{dataset}_processed_train.csv\", index = False)\n",
    "\n",
    "list_valid_cases = list_train_valid_cases[int(len(list_train_valid_cases) * 0.8) :]\n",
    "tab_valid = tab_all[tab_all[\"CaseID\"].isin(list_valid_cases)].reset_index(drop=True)\n",
    "tab_valid.to_csv(data_dir_processed+f\"{dataset}_processed_valid.csv\", index = False)\n",
    "\n",
    "list_test_cases = list(\n",
    "    first_act_tab[int(split_ratio * len(first_act_tab)) :][\"CaseID\"].unique()\n",
    ")\n",
    "tab_test = tab_all[tab_all[\"CaseID\"].isin(list_test_cases)].reset_index(drop=True)\n",
    "tab_test.to_csv(data_dir_processed+ f\"{dataset}_processed_test.csv\", index = False)"
   ]
  },
  {
   "cell_type": "code",
   "execution_count": 24,
   "metadata": {},
   "outputs": [
    {
     "data": {
      "text/plain": [
       "Index(['org:resource', 'Activity', 'time:timestamp', 'case:REG_DATE', 'CaseID',\n",
       "       'case:AMOUNT_REQ', 'org:resource:role'],\n",
       "      dtype='object')"
      ]
     },
     "execution_count": 24,
     "metadata": {},
     "output_type": "execute_result"
    }
   ],
   "source": [
    "tab_all.columns"
   ]
  },
  {
   "cell_type": "code",
   "execution_count": null,
   "metadata": {},
   "outputs": [],
   "source": [
    "tab_train"
   ]
  },
  {
   "cell_type": "markdown",
   "metadata": {},
   "source": [
    "### Prepare the graphs"
   ]
  },
  {
   "cell_type": "code",
   "execution_count": 25,
   "metadata": {},
   "outputs": [],
   "source": [
    "from utils import get_case_ids, is_static, get_one_hot_encoder, get_one_hot_encodings\n",
    "\n",
    "from torch import tensor, max, int64, float32\n",
    "from torch_geometric.data import HeteroData\n",
    "import numpy as np"
   ]
  },
  {
   "cell_type": "code",
   "execution_count": 26,
   "metadata": {},
   "outputs": [],
   "source": [
    "def get_node_features(dataset: pd.DataFrame, trace: pd.DataFrame, cat_features, real_features) -> dict:\n",
    "    columns_static = [c for c in trace if is_static(trace[c])]\n",
    "\n",
    "    res = {}\n",
    "\n",
    "    for key in trace:\n",
    "        values = trace[key].values\n",
    "        \n",
    "        \n",
    "        if key in cat_features:\n",
    "            onehot_encoder = get_one_hot_encoder(dataset, key)\n",
    "            if key not in columns_static:\n",
    "                res[key] = tensor(\n",
    "                    get_one_hot_encodings(onehot_encoder, values),\n",
    "                    dtype=float32,\n",
    "                    requires_grad=True\n",
    "                )\n",
    "            else:\n",
    "                res[key] = tensor(\n",
    "                    get_one_hot_encodings(onehot_encoder, np.array([values[0]])),\n",
    "                    dtype=float32,\n",
    "                    requires_grad=True\n",
    "                )\n",
    "        if key in real_features:\n",
    "            if key not in columns_static:\n",
    "                res[key] = tensor(values,  dtype=float32,requires_grad=True)\n",
    "            else:\n",
    "                res[key] = tensor([values[0]], dtype=float32,requires_grad=True)\n",
    "            res[key] = res[key].reshape(res[key].shape[0], 1)\n",
    "        \n",
    "    \n",
    "\n",
    "    return res\n"
   ]
  },
  {
   "cell_type": "code",
   "execution_count": 27,
   "metadata": {},
   "outputs": [],
   "source": [
    "\n",
    "\n",
    "def compute_edges_indexs(node_features: dict, prefix_len):\n",
    "    res = {}\n",
    "    keys = node_features.keys()\n",
    "    # indexes = [[i, j] for i in range(prefix_len) for j in range(i + 1, prefix_len)]\n",
    "    indexes = [[i, i + 1] for i in range(prefix_len-1)]\n",
    "    # activities indexes\n",
    "    for k in keys:\n",
    "        if len(node_features[k]) != 1:\n",
    "            if k == \"Activity\":\n",
    "                res[(k, \"followed_by\", k)] = indexes\n",
    "                for k2 in keys:\n",
    "                    if k2 != k:\n",
    "                        if len(node_features[k2]) == 1:\n",
    "                            res[(k, \"related_to\", k2)] = [\n",
    "                                [i, 0] for i in range(prefix_len)\n",
    "                            ]\n",
    "                        else:\n",
    "                            res[(k, \"related_to\", k2)] = [\n",
    "                                [i, i] for i in range(prefix_len)\n",
    "                            ]\n",
    "            else:\n",
    "                res[(k, \"related_to\", k)] = indexes\n",
    "\n",
    "    return res"
   ]
  },
  {
   "cell_type": "code",
   "execution_count": 28,
   "metadata": {},
   "outputs": [],
   "source": [
    "import torch\n",
    "\n",
    "from torch import cat\n",
    "\n",
    "def compute_edges_features(node_features, edges_indexes, cat_features, real_features):\n",
    "    res = {}\n",
    "\n",
    "    for k in edges_indexes:\n",
    "        if k[0] == k[2]:\n",
    "            indexes = edges_indexes[k]\n",
    "            res[k] = []\n",
    "            \n",
    "            if k[0] in cat_features:\n",
    "                for i in indexes:\n",
    "                        res[k].append(      \n",
    "                            cat(\n",
    "                                (\n",
    "                                    tensor([torch.equal(node_features[k[0]][i[0]],node_features[k[0]][i[1]])], dtype=torch.float32),\n",
    "                                    tensor([i[1] - i[0]], dtype=torch.float32),\n",
    "                                )\n",
    "                            )\n",
    "                        )\n",
    "            elif k[0] in real_features:\n",
    "                for i in indexes:\n",
    "                        res[k].append(\n",
    "                            tensor(\n",
    "                                [\n",
    "                                    node_features[k[0]][i[1]]\n",
    "                                    - node_features[k[0]][i[0]],\n",
    "                                    i[1] - i[0],\n",
    "                                ]\n",
    "                            )\n",
    "                        )\n",
    "            \n",
    "\n",
    "    return res"
   ]
  },
  {
   "cell_type": "code",
   "execution_count": 29,
   "metadata": {},
   "outputs": [],
   "source": [
    "# from pprint import pprint as print\n",
    "\n",
    "from torch import stack\n",
    "\n",
    "def build_prefixes_graph_from_trace(dataset, trace, cat_features, real_features):\n",
    "    X = []  # graphs\n",
    "   \n",
    "\n",
    "    node_features = get_node_features(dataset, trace, cat_features, real_features)\n",
    "    \n",
    "    \n",
    "    prefix_lenghts = range(2, len(trace))\n",
    "    # print(prefix_lenghts)\n",
    "    for prefix in prefix_lenghts:\n",
    "        # print(prefix)\n",
    "\n",
    "        # init node types and features\n",
    "        G = HeteroData()\n",
    "        for k in node_features:\n",
    "            G[k].x = node_features[k][:prefix]\n",
    "        \n",
    "\n",
    "        edges_indexes = compute_edges_indexs(node_features, prefix)\n",
    "\n",
    "        edge_features = compute_edges_features(node_features, edges_indexes, cat_features, real_features)\n",
    "        \n",
    "        for k in edge_features:\n",
    "            G[k].edge_attr = stack(edge_features[k])\n",
    "            \n",
    "\n",
    "\n",
    "        for k in edges_indexes:\n",
    "            ce = [[], []]\n",
    "            for i in range(len(edges_indexes[k])):\n",
    "                ce[0].append(edges_indexes[k][i][0])\n",
    "                ce[1].append(edges_indexes[k][i][1])\n",
    "            edges_indexes[k] = ce\n",
    "\n",
    "        for k in edges_indexes:\n",
    "            G[k].edge_index = tensor(edges_indexes[k], dtype=int64)\n",
    "\n",
    "        G.y = {}\n",
    "        for k in node_features:\n",
    "            if k in cat_features:\n",
    "                G.y[k] = torch.max(node_features[k][0],0)[1] if len(node_features[k]) == 1 else torch.max(node_features[k][prefix], 0)[1]\n",
    "            else:\n",
    "                G.y[k] = torch.tensor([node_features[k][prefix][0]]) if len(node_features[k]) > 1 else torch.tensor([node_features[k][0][0]])\n",
    "        \n",
    "        X.append(G)\n",
    "\n",
    "        \n",
    "    return X"
   ]
  },
  {
   "cell_type": "markdown",
   "metadata": {},
   "source": [
    "## Create the datasets"
   ]
  },
  {
   "cell_type": "code",
   "execution_count": 30,
   "metadata": {},
   "outputs": [],
   "source": [
    "case_train_ids = get_case_ids(tab_train)\n",
    "case_valid_ids = get_case_ids(tab_valid)\n",
    "case_test_ids = get_case_ids(tab_test)"
   ]
  },
  {
   "cell_type": "code",
   "execution_count": 31,
   "metadata": {},
   "outputs": [
    {
     "name": "stdout",
     "output_type": "stream",
     "text": [
      "5150\n",
      "1288\n",
      "3220\n"
     ]
    }
   ],
   "source": [
    "print(len(case_train_ids))\n",
    "print(len(case_valid_ids))\n",
    "print(len(case_test_ids))"
   ]
  },
  {
   "cell_type": "code",
   "execution_count": 32,
   "metadata": {},
   "outputs": [
    {
     "data": {
      "text/html": [
       "<div>\n",
       "<style scoped>\n",
       "    .dataframe tbody tr th:only-of-type {\n",
       "        vertical-align: middle;\n",
       "    }\n",
       "\n",
       "    .dataframe tbody tr th {\n",
       "        vertical-align: top;\n",
       "    }\n",
       "\n",
       "    .dataframe thead th {\n",
       "        text-align: right;\n",
       "    }\n",
       "</style>\n",
       "<table border=\"1\" class=\"dataframe\">\n",
       "  <thead>\n",
       "    <tr style=\"text-align: right;\">\n",
       "      <th></th>\n",
       "      <th>org:resource</th>\n",
       "      <th>Activity</th>\n",
       "      <th>time:timestamp</th>\n",
       "      <th>case:REG_DATE</th>\n",
       "      <th>case:AMOUNT_REQ</th>\n",
       "      <th>org:resource:role</th>\n",
       "    </tr>\n",
       "  </thead>\n",
       "  <tbody>\n",
       "    <tr>\n",
       "      <th>0</th>\n",
       "      <td>10912.0</td>\n",
       "      <td>W_Afhandelen leads</td>\n",
       "      <td>10.442930</td>\n",
       "      <td>10.421865</td>\n",
       "      <td>10.308953</td>\n",
       "      <td>Role 1</td>\n",
       "    </tr>\n",
       "    <tr>\n",
       "      <th>1</th>\n",
       "      <td>11019.0</td>\n",
       "      <td>W_Completeren aanvraag</td>\n",
       "      <td>10.707527</td>\n",
       "      <td>10.421865</td>\n",
       "      <td>10.308953</td>\n",
       "      <td>Role 1</td>\n",
       "    </tr>\n",
       "    <tr>\n",
       "      <th>2</th>\n",
       "      <td>11180.0</td>\n",
       "      <td>W_Completeren aanvraag</td>\n",
       "      <td>12.260206</td>\n",
       "      <td>10.421865</td>\n",
       "      <td>10.308953</td>\n",
       "      <td>Role 1</td>\n",
       "    </tr>\n",
       "    <tr>\n",
       "      <th>3</th>\n",
       "      <td>11180.0</td>\n",
       "      <td>W_Completeren aanvraag</td>\n",
       "      <td>12.316947</td>\n",
       "      <td>10.421865</td>\n",
       "      <td>10.308953</td>\n",
       "      <td>Role 1</td>\n",
       "    </tr>\n",
       "  </tbody>\n",
       "</table>\n",
       "</div>"
      ],
      "text/plain": [
       "  org:resource                Activity  time:timestamp  case:REG_DATE  \\\n",
       "0      10912.0      W_Afhandelen leads       10.442930      10.421865   \n",
       "1      11019.0  W_Completeren aanvraag       10.707527      10.421865   \n",
       "2      11180.0  W_Completeren aanvraag       12.260206      10.421865   \n",
       "3      11180.0  W_Completeren aanvraag       12.316947      10.421865   \n",
       "\n",
       "   case:AMOUNT_REQ org:resource:role  \n",
       "0        10.308953            Role 1  \n",
       "1        10.308953            Role 1  \n",
       "2        10.308953            Role 1  \n",
       "3        10.308953            Role 1  "
      ]
     },
     "execution_count": 32,
     "metadata": {},
     "output_type": "execute_result"
    }
   ],
   "source": [
    "trace = (\n",
    "        tab_train.query(f\"CaseID == {case_train_ids[0]}\")\n",
    "        .reset_index()\n",
    "        .drop(columns=\"index\")\n",
    "        .drop(columns=\"CaseID\")\n",
    "    )\n",
    "trace "
   ]
  },
  {
   "cell_type": "code",
   "execution_count": 33,
   "metadata": {},
   "outputs": [],
   "source": [
    "graphs = build_prefixes_graph_from_trace(tab_all, trace, categorical_columns, real_value_columns)"
   ]
  },
  {
   "cell_type": "code",
   "execution_count": 92,
   "metadata": {},
   "outputs": [
    {
     "data": {
      "text/plain": [
       "{'org:resource': tensor(42),\n",
       " 'Activity': tensor(2),\n",
       " 'time:timestamp': tensor([12.3169]),\n",
       " 'case:REG_DATE': tensor([10.4219]),\n",
       " 'case:AMOUNT_REQ': tensor([10.3090]),\n",
       " 'org:resource:role': tensor(0)}"
      ]
     },
     "execution_count": 92,
     "metadata": {},
     "output_type": "execute_result"
    }
   ],
   "source": [
    "graphs[1].y"
   ]
  },
  {
   "cell_type": "code",
   "execution_count": 34,
   "metadata": {},
   "outputs": [
    {
     "data": {
      "text/plain": [
       "{'org:resource': tensor([[0., 0., 0., 0., 0., 0., 0., 0., 0., 0., 0., 0., 0., 0., 0., 0., 0., 0.,\n",
       "          1., 0., 0., 0., 0., 0., 0., 0., 0., 0., 0., 0., 0., 0., 0., 0., 0., 0.,\n",
       "          0., 0., 0., 0., 0., 0., 0., 0., 0., 0., 0., 0., 0., 0., 0., 0., 0., 0.,\n",
       "          0., 0., 0., 0., 0., 0.],\n",
       "         [0., 0., 0., 0., 0., 0., 0., 0., 0., 0., 0., 0., 0., 0., 0., 0., 0., 0.,\n",
       "          0., 0., 0., 0., 0., 0., 0., 0., 0., 0., 0., 0., 0., 0., 0., 0., 1., 0.,\n",
       "          0., 0., 0., 0., 0., 0., 0., 0., 0., 0., 0., 0., 0., 0., 0., 0., 0., 0.,\n",
       "          0., 0., 0., 0., 0., 0.],\n",
       "         [0., 0., 0., 0., 0., 0., 0., 0., 0., 0., 0., 0., 0., 0., 0., 0., 0., 0.,\n",
       "          0., 0., 0., 0., 0., 0., 0., 0., 0., 0., 0., 0., 0., 0., 0., 0., 0., 0.,\n",
       "          0., 0., 0., 0., 0., 0., 1., 0., 0., 0., 0., 0., 0., 0., 0., 0., 0., 0.,\n",
       "          0., 0., 0., 0., 0., 0.]], grad_fn=<SliceBackward0>),\n",
       " 'Activity': tensor([[1., 0., 0., 0., 0., 0.],\n",
       "         [0., 0., 1., 0., 0., 0.],\n",
       "         [0., 0., 1., 0., 0., 0.]], grad_fn=<SliceBackward0>),\n",
       " 'time:timestamp': tensor([[10.4429],\n",
       "         [10.7075],\n",
       "         [12.2602]], grad_fn=<SliceBackward0>),\n",
       " 'case:REG_DATE': tensor([[10.4219]], grad_fn=<SliceBackward0>),\n",
       " 'case:AMOUNT_REQ': tensor([[10.3090]], grad_fn=<SliceBackward0>),\n",
       " 'org:resource:role': tensor([[1., 0., 0.]], grad_fn=<SliceBackward0>)}"
      ]
     },
     "execution_count": 34,
     "metadata": {},
     "output_type": "execute_result"
    }
   ],
   "source": [
    "graphs[1].x_dict"
   ]
  },
  {
   "cell_type": "code",
   "execution_count": null,
   "metadata": {},
   "outputs": [],
   "source": [
    "graphs[1].edge_items()"
   ]
  },
  {
   "cell_type": "code",
   "execution_count": 35,
   "metadata": {},
   "outputs": [
    {
     "name": "stdout",
     "output_type": "stream",
     "text": [
      "Preparing training dataset...\n"
     ]
    },
    {
     "data": {
      "application/vnd.jupyter.widget-view+json": {
       "model_id": "794c2c04618643a0836c06c980a8bd82",
       "version_major": 2,
       "version_minor": 0
      },
      "text/plain": [
       "  0%|          | 0/5150 [00:00<?, ?it/s]"
      ]
     },
     "metadata": {},
     "output_type": "display_data"
    },
    {
     "name": "stdout",
     "output_type": "stream",
     "text": [
      "Done!\n",
      "\n",
      "\n"
     ]
    }
   ],
   "source": [
    "from tqdm.notebook import tqdm\n",
    "\n",
    "\n",
    "print(\"Preparing training dataset...\")\n",
    "\n",
    "X_train = []\n",
    "\n",
    "\n",
    "for i in tqdm(range(len(case_train_ids))):\n",
    "    trace = (\n",
    "        tab_train.query(f\"CaseID == {case_train_ids[i]}\")\n",
    "        .reset_index()\n",
    "        .drop(columns=\"index\")\n",
    "        .drop(columns=\"CaseID\")\n",
    "    )\n",
    "    graphs = build_prefixes_graph_from_trace(dataset=tab_all, trace=trace, cat_features=categorical_columns, real_features=real_value_columns)\n",
    "    \n",
    "    # print(trace)\n",
    "    # print([x.x_dict for x in graphs[:2]])\n",
    "    # print(labels[:2])\n",
    "    # break\n",
    "\n",
    "    for i in range(len(graphs)):\n",
    "        X_train.append(graphs[i])\n",
    "        \n",
    "\n",
    "# Y_train = tensor(Y_train, dtype=float32)\n",
    "\n",
    "print(\"Done!\\n\\n\")"
   ]
  },
  {
   "cell_type": "code",
   "execution_count": 36,
   "metadata": {},
   "outputs": [
    {
     "name": "stdout",
     "output_type": "stream",
     "text": [
      "Preparing validation dataset...\n"
     ]
    },
    {
     "data": {
      "application/vnd.jupyter.widget-view+json": {
       "model_id": "657301e63b2e47219ef839c0685eaebf",
       "version_major": 2,
       "version_minor": 0
      },
      "text/plain": [
       "  0%|          | 0/1288 [00:00<?, ?it/s]"
      ]
     },
     "metadata": {},
     "output_type": "display_data"
    },
    {
     "name": "stdout",
     "output_type": "stream",
     "text": [
      "Done!\n",
      "\n",
      "\n"
     ]
    }
   ],
   "source": [
    "print(\"Preparing validation dataset...\")\n",
    "\n",
    "X_valid = []\n",
    "\n",
    "\n",
    "for i in tqdm(range(len(case_valid_ids))):\n",
    "    trace = (\n",
    "        tab_valid.query(f\"CaseID == {case_valid_ids[i]}\")\n",
    "        .reset_index()\n",
    "        .drop(columns=\"index\")\n",
    "        .drop(columns=\"CaseID\")\n",
    "    )\n",
    "    graphs = build_prefixes_graph_from_trace(dataset=tab_all, trace=trace,cat_features=categorical_columns, real_features=real_value_columns)\n",
    "    for i in range(len(graphs)):\n",
    "        X_valid.append(graphs[i])\n",
    "       \n",
    "\n",
    "# Y_valid = tensor(Y_valid)\n",
    "\n",
    "print(\"Done!\\n\\n\")"
   ]
  },
  {
   "cell_type": "code",
   "execution_count": 37,
   "metadata": {},
   "outputs": [
    {
     "name": "stdout",
     "output_type": "stream",
     "text": [
      "Preparing test dataset...\n"
     ]
    },
    {
     "data": {
      "application/vnd.jupyter.widget-view+json": {
       "model_id": "7119e78bb5174c7683db802a19b6cb6d",
       "version_major": 2,
       "version_minor": 0
      },
      "text/plain": [
       "  0%|          | 0/3220 [00:00<?, ?it/s]"
      ]
     },
     "metadata": {},
     "output_type": "display_data"
    },
    {
     "name": "stdout",
     "output_type": "stream",
     "text": [
      "Done!\n",
      "\n",
      "\n"
     ]
    }
   ],
   "source": [
    "print(\"Preparing test dataset...\")\n",
    "\n",
    "X_test = []\n",
    "\n",
    "\n",
    "for i in tqdm(range(len(case_test_ids))):\n",
    "    trace = (\n",
    "        tab_test.query(f\"CaseID == {case_test_ids[i]}\")\n",
    "        .reset_index()\n",
    "        .drop(columns=\"index\")\n",
    "        .drop(columns=\"CaseID\")\n",
    "    )\n",
    "    graphs = build_prefixes_graph_from_trace(dataset=tab_all, trace=trace,cat_features=categorical_columns, real_features=real_value_columns)\n",
    "    for i in range(len(graphs)):\n",
    "        X_test.append(graphs[i])\n",
    "     \n",
    "\n",
    "# Y_test = tensor(Y_test)\n",
    "\n",
    "print(\"Done!\\n\\n\")"
   ]
  },
  {
   "cell_type": "code",
   "execution_count": 1,
   "metadata": {},
   "outputs": [
    {
     "ename": "NameError",
     "evalue": "name 'X_train' is not defined",
     "output_type": "error",
     "traceback": [
      "\u001b[0;31m---------------------------------------------------------------------------\u001b[0m",
      "\u001b[0;31mNameError\u001b[0m                                 Traceback (most recent call last)",
      "Cell \u001b[0;32mIn[1], line 1\u001b[0m\n\u001b[0;32m----> 1\u001b[0m \u001b[38;5;28;01mfor\u001b[39;00m x \u001b[38;5;129;01min\u001b[39;00m \u001b[43mX_train\u001b[49m:\n\u001b[1;32m      2\u001b[0m     \u001b[38;5;28mprint\u001b[39m(x\u001b[38;5;241m.\u001b[39mx_dict)\n",
      "\u001b[0;31mNameError\u001b[0m: name 'X_train' is not defined"
     ]
    }
   ],
   "source": [
    "for x in X_train:\n",
    "    print(x.x_dict)"
   ]
  },
  {
   "cell_type": "markdown",
   "metadata": {},
   "source": [
    "### Let's Save the graph datasets"
   ]
  },
  {
   "cell_type": "code",
   "execution_count": 38,
   "metadata": {},
   "outputs": [],
   "source": [
    "import pickle\n",
    "\n",
    "with open(data_dir_graphs + dataset + \"_TRAIN_event_prediction_FINAL.pkl\", \"wb\") as f:\n",
    "    pickle.dump(X_train, f)\n",
    "with open(data_dir_graphs + dataset + \"_VALID_event_prediction_FINAL.pkl\", \"wb\") as f:\n",
    "    pickle.dump(X_valid, f)\n",
    "with open(data_dir_graphs + dataset + \"_TEST_event_prediction_FINAL.pkl\", \"wb\") as f:\n",
    "    pickle.dump(X_test, f)"
   ]
  }
 ],
 "metadata": {
  "kernelspec": {
   "display_name": "hgnn_env",
   "language": "python",
   "name": "python3"
  },
  "language_info": {
   "codemirror_mode": {
    "name": "ipython",
    "version": 3
   },
   "file_extension": ".py",
   "mimetype": "text/x-python",
   "name": "python",
   "nbconvert_exporter": "python",
   "pygments_lexer": "ipython3",
   "version": "3.10.12"
  }
 },
 "nbformat": 4,
 "nbformat_minor": 2
}
