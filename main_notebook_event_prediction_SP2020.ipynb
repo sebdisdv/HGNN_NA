{
 "cells": [
  {
   "cell_type": "code",
   "execution_count": null,
   "metadata": {},
   "outputs": [],
   "source": [
    "import torch\n",
    "import pickle\n",
    "import numpy as np\n",
    "import pandas as pd\n",
    "import os\n",
    "\n",
    "from os.path import dirname\n",
    "\n",
    "\n",
    "\n",
    "root_path = dirname(os.getcwd()) + \"/HGNN_NA\"\n",
    "\n",
    "pd.set_option(\"display.max_columns\", None)\n",
    "data_dir = root_path + \"/data/datasets/original/\"\n",
    "data_dir_processed = root_path + \"/data/datasets/processed/\"\n",
    "data_dir_graphs = root_path + \"/data/datasets/graphs/\"\n",
    "\n",
    "print(root_path, data_dir, data_dir_processed, data_dir_graphs, sep=\"\\n\")\n",
    "\n",
    "device = torch.device(\"cuda:0\" if torch.cuda.is_available() else \"cpu\")\n",
    "# device = \"cpu\""
   ]
  },
  {
   "cell_type": "code",
   "execution_count": 2,
   "metadata": {},
   "outputs": [],
   "source": [
    "dataset = \"sp2020\""
   ]
  },
  {
   "cell_type": "code",
   "execution_count": 3,
   "metadata": {},
   "outputs": [],
   "source": [
    "categorical_columns = [\n",
    "    \"REPAIR_IN_TIME_5D\",\n",
    "    \"org:resource\",\n",
    "    \"Activity\",\n",
    "    \"DEVICETYPE\",\n",
    "]\n",
    "real_value_columns = [\n",
    "    \"time:timestamp\",\n",
    "]"
   ]
  },
  {
   "cell_type": "code",
   "execution_count": null,
   "metadata": {},
   "outputs": [],
   "source": [
    "tab_all = pd.read_csv(data_dir_processed+dataset+\"_processed_all.csv\")\n",
    "tab_all.head()"
   ]
  },
  {
   "cell_type": "code",
   "execution_count": 5,
   "metadata": {},
   "outputs": [],
   "source": [
    "import random\n",
    "\n",
    "torch.manual_seed(0)\n",
    "torch.cuda.manual_seed(0)\n",
    "random.seed(0)\n",
    "np.random.seed(0)"
   ]
  },
  {
   "cell_type": "code",
   "execution_count": 6,
   "metadata": {},
   "outputs": [],
   "source": [
    "with open(data_dir_graphs + dataset + \"_TRAIN_event_prediction_FINAL.pkl\", \"rb\") as f:\n",
    "    X_train = pickle.load(f)\n",
    "with open(data_dir_graphs + dataset + \"_VALID_event_prediction_FINAL.pkl\", \"rb\") as f:\n",
    "    X_valid = pickle.load(f)\n",
    "with open(data_dir_graphs + dataset + \"_TEST_event_prediction_FINAL.pkl\", \"rb\") as f:\n",
    "    X_test = pickle.load(f)"
   ]
  },
  {
   "cell_type": "code",
   "execution_count": 7,
   "metadata": {},
   "outputs": [],
   "source": [
    "\n",
    "from torch_geometric.data import Dataset\n",
    "from torch_geometric.loader import DataLoader\n",
    "from torch_geometric.transforms import ToUndirected, NormalizeFeatures\n",
    "\n",
    "transform = ToUndirected()\n",
    "\n",
    "with torch.no_grad():\n",
    "        for i in range(len(X_train)):\n",
    "                X_train[i] = transform(X_train[i])\n",
    "        for i in range(len(X_valid)):\n",
    "                X_valid[i] = transform(X_valid[i])\n",
    "        for i in range(len(X_test)):\n",
    "                X_test[i] = transform(X_test[i])\n",
    "    \n",
    "\n",
    "\n",
    "\n",
    "\n"
   ]
  },
  {
   "cell_type": "code",
   "execution_count": 8,
   "metadata": {},
   "outputs": [],
   "source": [
    "edge_types = set()\n",
    "node_types = set()\n",
    "for i in range(len(X_train)):\n",
    "    n, edge_type = X_train[i].metadata()\n",
    "    for x in n:\n",
    "        node_types.add(x)\n",
    "    for x in edge_type:\n",
    "        edge_types.add(x)\n",
    "for i in range(len(X_valid)):\n",
    "    n, edge_type = X_valid[i].metadata()\n",
    "    for x in n:\n",
    "        node_types.add(x)\n",
    "    for x in edge_type:\n",
    "        edge_types.add(x)\n",
    "for i in range(len(X_test)):\n",
    "    n, edge_type = X_test[i].metadata()\n",
    "    for x in n:\n",
    "        node_types.add(x)\n",
    "    for x in edge_type:\n",
    "        edge_types.add(x)\n",
    "\n"
   ]
  },
  {
   "cell_type": "code",
   "execution_count": 9,
   "metadata": {},
   "outputs": [],
   "source": [
    "node_types = list(node_types)\n",
    "edge_types = list(edge_types)"
   ]
  },
  {
   "cell_type": "code",
   "execution_count": null,
   "metadata": {},
   "outputs": [],
   "source": [
    "node_types"
   ]
  },
  {
   "cell_type": "code",
   "execution_count": null,
   "metadata": {},
   "outputs": [],
   "source": [
    "edge_types"
   ]
  },
  {
   "cell_type": "code",
   "execution_count": 10,
   "metadata": {},
   "outputs": [],
   "source": [
    "def get_weights(load, key):\n",
    "    weights = []\n",
    "    \n",
    "    cl_train = [0 for _ in tab_all[key].unique()]\n",
    "    \n",
    "    print(cl_train)\n",
    "    \n",
    "    for i,x in enumerate(load):\n",
    "\n",
    "        \n",
    "        classes = x.y[key]\n",
    "\n",
    "        # print(classes)\n",
    "        \n",
    "        for c in list(classes):\n",
    "            try:\n",
    "                cl_train[c] +=1\n",
    "            except KeyError:\n",
    "                cl_train[c] = 1\n",
    "    s = sum(cl_train)\n",
    "    \n",
    "    print(cl_train)\n",
    "    \n",
    "    weights = [s/x if x > 0 else 0 for x in cl_train]\n",
    "\n",
    "    # weights = [0.7,0.7,1,0.7,0.7,0.7,0.7,0.7,0.7,0.7]\n",
    "    weights = torch.tensor(weights, device=device)\n",
    "    print(weights)\n",
    "    return weights\n",
    "    "
   ]
  },
  {
   "cell_type": "code",
   "execution_count": 11,
   "metadata": {},
   "outputs": [
    {
     "data": {
      "text/plain": [
       "{('Activity', 'followed_by', 'Activity'): 2,\n",
       " ('time:timestamp', 'related_to', 'time:timestamp'): 2}"
      ]
     },
     "execution_count": 11,
     "metadata": {},
     "output_type": "execute_result"
    }
   ],
   "source": [
    "edge_features_dims = {}\n",
    "\n",
    "for i in range(len(X_train)):\n",
    "    for k in X_train[i].edge_attr_dict.keys():\n",
    "        edge_features_dims[k] = X_train[i].edge_attr_dict[k].shape[1]\n",
    "for i in range(len(X_valid)):\n",
    "    for k in X_train[i].edge_attr_dict.keys():\n",
    "        edge_features_dims[k] = X_train[i].edge_attr_dict[k].shape[1]\n",
    "for i in range(len(X_test)):\n",
    "    for k in X_train[i].edge_attr_dict.keys():\n",
    "        edge_features_dims[k] = X_train[i].edge_attr_dict[k].shape[1]\n",
    "\n",
    "edge_features_dims"
   ]
  },
  {
   "cell_type": "code",
   "execution_count": 12,
   "metadata": {},
   "outputs": [
    {
     "name": "stdout",
     "output_type": "stream",
     "text": [
      "[0, 0, 0, 0, 0, 0, 0, 0, 0, 0, 0, 0, 0]\n",
      "[4724, 12747, 251, 6929, 3, 1, 12655, 5447, 6367, 8235, 2073, 4492, 4688]\n",
      "tensor([1.4524e+01, 5.3826e+00, 2.7335e+02, 9.9022e+00, 2.2871e+04, 6.8612e+04,\n",
      "        5.4217e+00, 1.2596e+01, 1.0776e+01, 8.3318e+00, 3.3098e+01, 1.5274e+01,\n",
      "        1.4636e+01], device='cuda:0')\n"
     ]
    }
   ],
   "source": [
    "act_weights = get_weights(DataLoader(X_train, batch_size=1024, shuffle=False), \"Activity\")\n",
    "# res_roles_weights = get_weights(DataLoader(X_train, batch_size=1024, shuffle=False), \"org:resource:role\")\n"
   ]
  },
  {
   "cell_type": "code",
   "execution_count": null,
   "metadata": {},
   "outputs": [],
   "source": [
    "from data import utils\n",
    "\n",
    "one_hot_resource = utils.get_one_hot_encoder(tab_all, \"org:resource\")\n",
    "one_hot_resource_role = utils.get_one_hot_encoder(tab_all, \"org:resource:role\")\n",
    "resources = tab_all[\"org:resource\"]\n",
    "resources_role = tab_all[\"org:resource:role\"]\n",
    "map_resource_to_role = {}\n",
    "for i in range(len(resources)):\n",
    "    map_resource_to_role[resources[i]] = resources_role[i]\n",
    "\n",
    "map_resource_to_role"
   ]
  },
  {
   "cell_type": "code",
   "execution_count": null,
   "metadata": {},
   "outputs": [],
   "source": [
    "map_resource_index = {}\n",
    "for x in tab_all[\"org:resource\"].unique():\n",
    "    map_resource_index[x] = torch.argmax(torch.tensor(utils.get_one_hot_encodings(one_hot_resource, np.array([x])))).item()\n",
    "map_resource_index"
   ]
  },
  {
   "cell_type": "code",
   "execution_count": null,
   "metadata": {},
   "outputs": [],
   "source": [
    "map_resource_role_index = {}\n",
    "for x in tab_all[\"org:resource:role\"].unique():\n",
    "    map_resource_role_index[x] = torch.argmax(torch.tensor(utils.get_one_hot_encodings(one_hot_resource_role, np.array([x])))).item()\n",
    "map_resource_role_index"
   ]
  },
  {
   "cell_type": "code",
   "execution_count": null,
   "metadata": {},
   "outputs": [],
   "source": [
    "map_resource_to_role = { map_resource_index[k] : map_resource_role_index[v] for k,v in map_resource_to_role.items()}\n",
    "map_resource_to_role"
   ]
  },
  {
   "cell_type": "markdown",
   "metadata": {},
   "source": [
    "## Hyperopt"
   ]
  },
  {
   "cell_type": "code",
   "execution_count": 13,
   "metadata": {},
   "outputs": [],
   "source": [
    "from ax.service.managed_loop import optimize"
   ]
  },
  {
   "cell_type": "code",
   "execution_count": 14,
   "metadata": {},
   "outputs": [],
   "source": [
    "from torch_geometric.nn import (\n",
    "    HeteroConv,\n",
    "    global_mean_pool,\n",
    "    GATv2Conv\n",
    ")\n",
    "from torch.nn import (\n",
    "    ModuleList,\n",
    "    Module,\n",
    "    Linear\n",
    "  )\n",
    "from typing_extensions import Self"
   ]
  },
  {
   "cell_type": "code",
   "execution_count": 15,
   "metadata": {},
   "outputs": [],
   "source": [
    "class HGNN(Module):\n",
    "\n",
    "    def __init__(self, output_cat, output_real,nodes_relations, relations_with_features, parameters) -> Self:  # type: ignore\n",
    "        super().__init__()\n",
    "\n",
    "        # List of convolutional layers\n",
    "        \n",
    "        hid = parameters[\"hid\"]\n",
    "        layers = parameters[\"layers\"]\n",
    "        aggregation = parameters[\"aggregation\"]\n",
    "        n_heads = parameters[\"heads\"]\n",
    "        \n",
    "        self.output_cat = output_cat\n",
    "        self.output_real = output_real\n",
    "        \n",
    "        self.convs = ModuleList()\n",
    "        for _ in range(layers):\n",
    "            conv = HeteroConv(\n",
    "                {\n",
    "                    relation: (\n",
    "                        GATv2Conv((-1,-1), add_self_loops=False, out_channels=hid, heads=n_heads, concat=False)\n",
    "                        if relation not in relations_with_features\n",
    "                        else GATv2Conv((-1,-1), add_self_loops=False, out_channels=hid,heads=n_heads, edge_dim=relations_with_features[relation], concat=False)\n",
    "                    )\n",
    "                    for relation in nodes_relations\n",
    "                },\n",
    "                aggr=aggregation,\n",
    "            )\n",
    "\n",
    "            self.convs.append(conv)\n",
    "\n",
    "        self.FC = {}\n",
    "        \n",
    "        for k in output_cat:\n",
    "            self.FC[k] = Linear(hid, output_cat[k], device=device)\n",
    "        for k in output_real:\n",
    "            self.FC[k] = Linear(hid, 1, device=device)\n",
    "        \n",
    "    \n",
    "        \n",
    "        \n",
    "\n",
    "    def forward(self, batch):\n",
    "\n",
    "        for i in range(len(self.convs)):\n",
    "            batch.x_dict = self.convs[i]( \n",
    "                batch.x_dict, batch.edge_index_dict, batch.edge_attr_dict\n",
    "            )\n",
    "\n",
    "            batch.x_dict = {key: x.relu() for key, x in batch.x_dict.items()}\n",
    "\n",
    "\n",
    "        output = {}\n",
    "        \n",
    "        for k in self.output_cat:\n",
    "            output[k] = global_mean_pool(batch.x_dict[k], batch[k].batch)\n",
    "            output[k] = self.FC[k](output[k])\n",
    "        for k in self.output_real:\n",
    "            output[k] = global_mean_pool(batch.x_dict[k], batch[k].batch)\n",
    "            output[k] = self.FC[k](output[k]).reshape(1,-1)[0]\n",
    "            \n",
    "\n",
    "        return output"
   ]
  },
  {
   "cell_type": "code",
   "execution_count": 16,
   "metadata": {},
   "outputs": [],
   "source": [
    "from torcheval.metrics.functional import multiclass_accuracy, multiclass_f1_score"
   ]
  },
  {
   "cell_type": "code",
   "execution_count": 17,
   "metadata": {},
   "outputs": [],
   "source": [
    "import torch.nn as nn"
   ]
  },
  {
   "cell_type": "code",
   "execution_count": 18,
   "metadata": {},
   "outputs": [],
   "source": [
    "import time"
   ]
  },
  {
   "cell_type": "code",
   "execution_count": 19,
   "metadata": {},
   "outputs": [],
   "source": [
    "from copy import deepcopy\n",
    "\n",
    "\n",
    "def train_hgnn(config, output_cat, output_real, epochs=15):\n",
    "    print(config)\n",
    "\n",
    "    net = HGNN(\n",
    "        parameters=config,\n",
    "        output_cat=output_cat,\n",
    "        output_real=output_real,\n",
    "        nodes_relations=edge_types,\n",
    "        relations_with_features=edge_features_dims,\n",
    "    )\n",
    "    net = net.to(device)\n",
    "\n",
    "    losses = {}\n",
    "\n",
    "    for k in output_cat:\n",
    "        losses[k] = (\n",
    "            nn.CrossEntropyLoss()\n",
    "            if k != \"Activity\"\n",
    "            else nn.CrossEntropyLoss(act_weights)\n",
    "        )\n",
    "    for k in output_real:\n",
    "        losses[k] = nn.L1Loss()\n",
    "\n",
    "    train_loader = DataLoader(X_train, batch_size=config[\"batch_size\"], shuffle=True)\n",
    "    valid_loader = DataLoader(X_valid, batch_size=config[\"batch_size\"], shuffle=True)\n",
    "\n",
    "    optimizer = torch.optim.Adam(net.parameters(), lr=config[\"lr\"])\n",
    "\n",
    "    best_model = None\n",
    "    best_loss = 0\n",
    "    patience = 4\n",
    "    pat_count = 0\n",
    "\n",
    "    torch.cuda.empty_cache()\n",
    "\n",
    "    for epoch in range(0, epochs):\n",
    "        start_time = time.time()\n",
    "\n",
    "        print(f\"Epoch: {epoch}\\n\")\n",
    "\n",
    "        net.train()\n",
    "        for _, x in enumerate(train_loader):\n",
    "            x = x.to(device)\n",
    "\n",
    "            labels = x.y\n",
    "\n",
    "            optimizer.zero_grad()\n",
    "            outputs = net(x)\n",
    "\n",
    "            losses_step = {k: losses[k](outputs[k], labels[k]) for k in losses}\n",
    "\n",
    "            total_loss = 0\n",
    "            for k in losses_step:\n",
    "                total_loss += losses_step[k]\n",
    "\n",
    "            total_loss.backward()\n",
    "            optimizer.step()\n",
    "\n",
    "        predictions_categorical = {k: [] for k in output_cat}\n",
    "        target_categorical = {k: [] for k in output_cat}\n",
    "\n",
    "        avg_MAE = {k: [] for k in output_real}\n",
    "\n",
    "        running_total_loss = []\n",
    "\n",
    "        net.eval()\n",
    "        with torch.no_grad():\n",
    "            for i, x in enumerate(valid_loader):\n",
    "                x = x.to(device)\n",
    "\n",
    "                labels = x.y\n",
    "\n",
    "                outputs = net(x)\n",
    "\n",
    "                losses_step = {k: losses[k](outputs[k], labels[k]) for k in losses}\n",
    "\n",
    "                running_total_loss.append(sum(list(losses_step.values())))\n",
    "\n",
    "                for k in output_cat:\n",
    "                    predictions_categorical[k].append(\n",
    "                        torch.argmax(torch.softmax(outputs[k], dim=1), 1)\n",
    "                    )\n",
    "                    target_categorical[k].append(labels[k])\n",
    "\n",
    "                for k in output_real:\n",
    "                    avg_MAE[k].append(losses_step[k])\n",
    "\n",
    "        for k in predictions_categorical:\n",
    "            predictions_categorical[k] = torch.cat(predictions_categorical[k])\n",
    "            target_categorical[k] = torch.cat(target_categorical[k])\n",
    "\n",
    "        macro_f1_activity = multiclass_f1_score(\n",
    "            predictions_categorical[\"Activity\"],\n",
    "            target_categorical[\"Activity\"],\n",
    "            num_classes=output_cat[\"Activity\"],\n",
    "            average=\"macro\",\n",
    "        )\n",
    "\n",
    "        accuracy = {\n",
    "            k: multiclass_accuracy(\n",
    "                predictions_categorical[k],\n",
    "                target_categorical[k],\n",
    "                num_classes=output_cat[k],\n",
    "            )\n",
    "            for k in output_cat\n",
    "        }\n",
    "\n",
    "        avg_MAE = {k: sum(avg_MAE[k]) / len(avg_MAE[k]) for k in avg_MAE}\n",
    "\n",
    "        val_loss = sum(running_total_loss) / len(running_total_loss)\n",
    "\n",
    "        print(f\"\\nVALIDATION\")\n",
    "        for k in accuracy:\n",
    "            (\n",
    "                print(\"{}: acc {:.4f}\".format(k, accuracy[k]))\n",
    "                if k != \"Activity\"\n",
    "                else print(\n",
    "                    \"{}: acc {:.4f} macroF1 {:.4f}\".format(\n",
    "                        k, accuracy[k], macro_f1_activity.item()\n",
    "                    )\n",
    "                )\n",
    "            )\n",
    "        for k in avg_MAE:\n",
    "            print(\"{}: MAE {:.4f}\".format(k, avg_MAE[k]))\n",
    "        print(\"TOTAL_LOSS: {:.4f}\".format(val_loss))\n",
    "        print(\"epoch time {}s\\n\".format(time.time() - start_time))\n",
    "\n",
    "        if epoch == 0:\n",
    "            best_model = deepcopy(net)\n",
    "            best_loss = val_loss\n",
    "        else:\n",
    "            if val_loss < best_loss:\n",
    "                best_loss = val_loss\n",
    "                best_model = deepcopy(net)\n",
    "                pat_count = 0\n",
    "                print(\"new best model found\")\n",
    "            if pat_count == patience:\n",
    "                print(\n",
    "                    \"Validation performance didn't improve for {} epochs. Training stops.\".format(\n",
    "                        pat_count\n",
    "                    )\n",
    "                )\n",
    "                return best_model\n",
    "        pat_count += 1\n",
    "\n",
    "    return best_model"
   ]
  },
  {
   "cell_type": "code",
   "execution_count": 20,
   "metadata": {},
   "outputs": [],
   "source": [
    "def test_hgnn(net, output_cat, output_real):\n",
    "    test_loader = DataLoader(X_train, batch_size=128, shuffle=False)\n",
    "    \n",
    "    losses = {}\n",
    "    \n",
    "    for k in output_cat:\n",
    "        losses[k] = (\n",
    "            nn.CrossEntropyLoss()\n",
    "            if k != \"Activity\"\n",
    "            else nn.CrossEntropyLoss(act_weights)\n",
    "        )\n",
    "    for k in output_real:\n",
    "        losses[k] = nn.L1Loss()\n",
    "    \n",
    "    \n",
    "    \n",
    "    \n",
    "    \n",
    "    predictions_categorical = {k: [] for k in output_cat}\n",
    "    target_categorical = {k: [] for k in output_cat}\n",
    "\n",
    "    avg_MAE = {k : [] for k in output_real}\n",
    "    \n",
    "    total_loss = []\n",
    "        \n",
    "    net.eval()\n",
    "    with torch.no_grad():\n",
    "        for i, x in enumerate(test_loader):\n",
    "            x = x.to(device)\n",
    "            \n",
    "            labels = x.y\n",
    "            \n",
    "            outputs = net(x)\n",
    "            \n",
    "     \n",
    "            losses_step = {k: losses[k](outputs[k], labels[k]).item() for k in losses}\n",
    "            total_loss.append(sum(list(losses_step.values())))\n",
    "            \n",
    "            for k in output_cat:\n",
    "                    predictions_categorical[k].append(\n",
    "                        torch.argmax(torch.softmax(outputs[k], dim=1), 1)\n",
    "                    )\n",
    "                    target_categorical[k].append(labels[k])\n",
    "            \n",
    "            \n",
    "            for k in output_real:\n",
    "                    avg_MAE[k].append(losses_step[k])\n",
    "                    \n",
    "    for k in predictions_categorical:\n",
    "            predictions_categorical[k] = torch.cat(predictions_categorical[k])\n",
    "            target_categorical[k] = torch.cat(target_categorical[k])\n",
    "               \n",
    "            \n",
    "    macro_f1_activity = multiclass_f1_score(\n",
    "            predictions_categorical[\"Activity\"],\n",
    "            target_categorical[\"Activity\"],\n",
    "            num_classes=output_cat[\"Activity\"],\n",
    "            average=\"macro\",\n",
    "        )\n",
    "            \n",
    "    accuracy = {\n",
    "            k: multiclass_accuracy(\n",
    "                predictions_categorical[k],\n",
    "                target_categorical[k],\n",
    "                num_classes=output_cat[k],\n",
    "            )\n",
    "            for k in output_cat\n",
    "        }\n",
    "    \n",
    "    #resource_to_role_acc = multiclass_accuracy(\n",
    "    #    torch.tensor([map_resource_to_role[x.item()] for x in predictions_categorical[\"org:resource\"]], device=device),\n",
    "    #    target_categorical[\"org:resource:role\"],\n",
    "    #    num_classes=output_cat[\"org:resource:role\"]\n",
    "    #)\n",
    "    \n",
    "    avg_MAE = {k : sum(avg_MAE[k]) / len(avg_MAE[k]) for k in avg_MAE}\n",
    "    \n",
    "    \n",
    "    Average_total_loss = sum(total_loss) / len(total_loss)\n",
    "    \n",
    "    res = {f\"{k}_acc\" : accuracy[k].item() for k in accuracy} | {\"MacroF1Act\" : macro_f1_activity.item()} | {f\"{k}_mae\" : avg_MAE[k] for k in avg_MAE} | {\"AVG_total_loss\" : Average_total_loss} \n",
    "    \n",
    "    print(res)\n",
    "    \n",
    "    return res"
   ]
  },
  {
   "cell_type": "code",
   "execution_count": 21,
   "metadata": {},
   "outputs": [
    {
     "data": {
      "text/plain": [
       "{'REPAIR_IN_TIME_5D': [0, 1],\n",
       " 'org:resource': ['E',\n",
       "  'G',\n",
       "  'J',\n",
       "  'L',\n",
       "  'NAN',\n",
       "  'C',\n",
       "  'H',\n",
       "  'I',\n",
       "  'K',\n",
       "  'D',\n",
       "  'B',\n",
       "  'A'],\n",
       " 'Activity': ['Creation',\n",
       "  'Letter',\n",
       "  'DeviceReceived',\n",
       "  'StockEntry',\n",
       "  'InDelivery',\n",
       "  'NoteWorkshop',\n",
       "  'Completed',\n",
       "  'NoteHotline',\n",
       "  'StatusRequest',\n",
       "  'Transmission',\n",
       "  'Approved',\n",
       "  'FreeticketCust',\n",
       "  'FreeticketComp'],\n",
       " 'DEVICETYPE': ['AB52',\n",
       "  'AB41',\n",
       "  'AB47',\n",
       "  'AB22',\n",
       "  'AB49',\n",
       "  'AB62',\n",
       "  'AB29',\n",
       "  'AB63',\n",
       "  'AB20',\n",
       "  'AB53',\n",
       "  'AB50',\n",
       "  'AB44',\n",
       "  'AB45',\n",
       "  'AB36',\n",
       "  'AB61',\n",
       "  'AB16',\n",
       "  'AB34',\n",
       "  'AB25',\n",
       "  'AB40',\n",
       "  'AB8',\n",
       "  'AC68',\n",
       "  'AB38',\n",
       "  'AB65',\n",
       "  'AB60',\n",
       "  'AB31',\n",
       "  'AB27',\n",
       "  'AB10',\n",
       "  'AB19',\n",
       "  'AB59',\n",
       "  'AB21',\n",
       "  'AB56',\n",
       "  'AB26',\n",
       "  'AB55',\n",
       "  'AB9',\n",
       "  'AB58',\n",
       "  'AB39',\n",
       "  'AB14',\n",
       "  'AB43',\n",
       "  'AB24',\n",
       "  'AO7',\n",
       "  'AB57',\n",
       "  'AB23',\n",
       "  'AB28',\n",
       "  'AB64',\n",
       "  'AB32',\n",
       "  'AB15',\n",
       "  'AB30',\n",
       "  'AF3',\n",
       "  'AB33',\n",
       "  'AG5',\n",
       "  'AB12',\n",
       "  'AB51',\n",
       "  'AB54',\n",
       "  'AB18',\n",
       "  'AB17',\n",
       "  'AB35',\n",
       "  'AB46',\n",
       "  'AB37',\n",
       "  'AB48',\n",
       "  'NAN',\n",
       "  'AB42',\n",
       "  'AG4',\n",
       "  'AB66',\n",
       "  'AB67',\n",
       "  'AB13']}"
      ]
     },
     "execution_count": 21,
     "metadata": {},
     "output_type": "execute_result"
    }
   ],
   "source": [
    "list_unique = {k : list(tab_all[k].unique()) for k in categorical_columns}\n",
    "list_unique"
   ]
  },
  {
   "cell_type": "code",
   "execution_count": 22,
   "metadata": {},
   "outputs": [
    {
     "name": "stdout",
     "output_type": "stream",
     "text": [
      "{'REPAIR_IN_TIME_5D': 2, 'org:resource': 12, 'Activity': 13, 'DEVICETYPE': 65}\n",
      "['time:timestamp']\n"
     ]
    }
   ],
   "source": [
    "outputcat = {k : len(list_unique[k]) if len(list_unique[k]) > 1 else None for k in list_unique}\n",
    "outputcat = {k : v for k,v in outputcat.items() if v != None}\n",
    "outputreal = real_value_columns\n",
    "print(outputcat)\n",
    "print(outputreal)"
   ]
  },
  {
   "cell_type": "code",
   "execution_count": 23,
   "metadata": {},
   "outputs": [],
   "source": [
    "def train_evaluate(config):\n",
    "    trained_net = train_hgnn(config, output_cat=outputcat, output_real=outputreal, epochs = 15)\n",
    "    return test_hgnn(trained_net, output_cat=outputcat, output_real=outputreal)"
   ]
  },
  {
   "cell_type": "code",
   "execution_count": 27,
   "metadata": {},
   "outputs": [],
   "source": [
    "config = {'lr': 0.005059480954002739, 'batch_size': 256, 'heads': 1, 'hid': 128, 'layers': 2, 'aggregation': 'max'}"
   ]
  },
  {
   "cell_type": "code",
   "execution_count": null,
   "metadata": {},
   "outputs": [],
   "source": []
  },
  {
   "cell_type": "code",
   "execution_count": 28,
   "metadata": {},
   "outputs": [
    {
     "name": "stdout",
     "output_type": "stream",
     "text": [
      "{'lr': 0.005059480954002739, 'batch_size': 256, 'heads': 1, 'hid': 128, 'layers': 2, 'aggregation': 'max'}\n",
      "Epoch: 0\n",
      "\n"
     ]
    },
    {
     "name": "stderr",
     "output_type": "stream",
     "text": [
      "WARNING:root:Warning: Some classes do not exist in the target. F1 scores for these classes will be cast to zeros.\n"
     ]
    },
    {
     "name": "stdout",
     "output_type": "stream",
     "text": [
      "\n",
      "VALIDATION\n",
      "REPAIR_IN_TIME_5D: acc 1.0000\n",
      "org:resource: acc 0.9837\n",
      "Activity: acc 0.6961 macroF1 0.5901\n",
      "DEVICETYPE: acc 0.9295\n",
      "time:timestamp: MAE 0.0764\n",
      "TOTAL_LOSS: 1.7777\n",
      "epoch time 33.93553280830383s\n",
      "\n",
      "Epoch: 1\n",
      "\n"
     ]
    },
    {
     "ename": "KeyboardInterrupt",
     "evalue": "",
     "output_type": "error",
     "traceback": [
      "\u001b[0;31m---------------------------------------------------------------------------\u001b[0m",
      "\u001b[0;31mKeyboardInterrupt\u001b[0m                         Traceback (most recent call last)",
      "Cell \u001b[0;32mIn[28], line 1\u001b[0m\n\u001b[0;32m----> 1\u001b[0m \u001b[43mtrain_evaluate\u001b[49m\u001b[43m(\u001b[49m\u001b[43mconfig\u001b[49m\u001b[43m)\u001b[49m\n",
      "Cell \u001b[0;32mIn[23], line 2\u001b[0m, in \u001b[0;36mtrain_evaluate\u001b[0;34m(config)\u001b[0m\n\u001b[1;32m      1\u001b[0m \u001b[38;5;28;01mdef\u001b[39;00m \u001b[38;5;21mtrain_evaluate\u001b[39m(config):\n\u001b[0;32m----> 2\u001b[0m     trained_net \u001b[38;5;241m=\u001b[39m \u001b[43mtrain_hgnn\u001b[49m\u001b[43m(\u001b[49m\u001b[43mconfig\u001b[49m\u001b[43m,\u001b[49m\u001b[43m \u001b[49m\u001b[43moutput_cat\u001b[49m\u001b[38;5;241;43m=\u001b[39;49m\u001b[43moutputcat\u001b[49m\u001b[43m,\u001b[49m\u001b[43m \u001b[49m\u001b[43moutput_real\u001b[49m\u001b[38;5;241;43m=\u001b[39;49m\u001b[43moutputreal\u001b[49m\u001b[43m,\u001b[49m\u001b[43m \u001b[49m\u001b[43mepochs\u001b[49m\u001b[43m \u001b[49m\u001b[38;5;241;43m=\u001b[39;49m\u001b[43m \u001b[49m\u001b[38;5;241;43m15\u001b[39;49m\u001b[43m)\u001b[49m\n\u001b[1;32m      3\u001b[0m     \u001b[38;5;28;01mreturn\u001b[39;00m test_hgnn(trained_net, output_cat\u001b[38;5;241m=\u001b[39moutputcat, output_real\u001b[38;5;241m=\u001b[39moutputreal)\n",
      "Cell \u001b[0;32mIn[19], line 45\u001b[0m, in \u001b[0;36mtrain_hgnn\u001b[0;34m(config, output_cat, output_real, epochs)\u001b[0m\n\u001b[1;32m     42\u001b[0m \u001b[38;5;28mprint\u001b[39m(\u001b[38;5;124mf\u001b[39m\u001b[38;5;124m\"\u001b[39m\u001b[38;5;124mEpoch: \u001b[39m\u001b[38;5;132;01m{\u001b[39;00mepoch\u001b[38;5;132;01m}\u001b[39;00m\u001b[38;5;130;01m\\n\u001b[39;00m\u001b[38;5;124m\"\u001b[39m)\n\u001b[1;32m     44\u001b[0m net\u001b[38;5;241m.\u001b[39mtrain()\n\u001b[0;32m---> 45\u001b[0m \u001b[38;5;28;01mfor\u001b[39;00m _, x \u001b[38;5;129;01min\u001b[39;00m \u001b[38;5;28menumerate\u001b[39m(train_loader):\n\u001b[1;32m     46\u001b[0m     x \u001b[38;5;241m=\u001b[39m x\u001b[38;5;241m.\u001b[39mto(device)\n\u001b[1;32m     48\u001b[0m     labels \u001b[38;5;241m=\u001b[39m x\u001b[38;5;241m.\u001b[39my\n",
      "File \u001b[0;32m~/HGNN/hgnn_env/lib/python3.10/site-packages/torch/utils/data/dataloader.py:630\u001b[0m, in \u001b[0;36m_BaseDataLoaderIter.__next__\u001b[0;34m(self)\u001b[0m\n\u001b[1;32m    627\u001b[0m \u001b[38;5;28;01mif\u001b[39;00m \u001b[38;5;28mself\u001b[39m\u001b[38;5;241m.\u001b[39m_sampler_iter \u001b[38;5;129;01mis\u001b[39;00m \u001b[38;5;28;01mNone\u001b[39;00m:\n\u001b[1;32m    628\u001b[0m     \u001b[38;5;66;03m# TODO(https://github.com/pytorch/pytorch/issues/76750)\u001b[39;00m\n\u001b[1;32m    629\u001b[0m     \u001b[38;5;28mself\u001b[39m\u001b[38;5;241m.\u001b[39m_reset()  \u001b[38;5;66;03m# type: ignore[call-arg]\u001b[39;00m\n\u001b[0;32m--> 630\u001b[0m data \u001b[38;5;241m=\u001b[39m \u001b[38;5;28;43mself\u001b[39;49m\u001b[38;5;241;43m.\u001b[39;49m\u001b[43m_next_data\u001b[49m\u001b[43m(\u001b[49m\u001b[43m)\u001b[49m\n\u001b[1;32m    631\u001b[0m \u001b[38;5;28mself\u001b[39m\u001b[38;5;241m.\u001b[39m_num_yielded \u001b[38;5;241m+\u001b[39m\u001b[38;5;241m=\u001b[39m \u001b[38;5;241m1\u001b[39m\n\u001b[1;32m    632\u001b[0m \u001b[38;5;28;01mif\u001b[39;00m \u001b[38;5;28mself\u001b[39m\u001b[38;5;241m.\u001b[39m_dataset_kind \u001b[38;5;241m==\u001b[39m _DatasetKind\u001b[38;5;241m.\u001b[39mIterable \u001b[38;5;129;01mand\u001b[39;00m \\\n\u001b[1;32m    633\u001b[0m         \u001b[38;5;28mself\u001b[39m\u001b[38;5;241m.\u001b[39m_IterableDataset_len_called \u001b[38;5;129;01mis\u001b[39;00m \u001b[38;5;129;01mnot\u001b[39;00m \u001b[38;5;28;01mNone\u001b[39;00m \u001b[38;5;129;01mand\u001b[39;00m \\\n\u001b[1;32m    634\u001b[0m         \u001b[38;5;28mself\u001b[39m\u001b[38;5;241m.\u001b[39m_num_yielded \u001b[38;5;241m>\u001b[39m \u001b[38;5;28mself\u001b[39m\u001b[38;5;241m.\u001b[39m_IterableDataset_len_called:\n",
      "File \u001b[0;32m~/HGNN/hgnn_env/lib/python3.10/site-packages/torch/utils/data/dataloader.py:673\u001b[0m, in \u001b[0;36m_SingleProcessDataLoaderIter._next_data\u001b[0;34m(self)\u001b[0m\n\u001b[1;32m    671\u001b[0m \u001b[38;5;28;01mdef\u001b[39;00m \u001b[38;5;21m_next_data\u001b[39m(\u001b[38;5;28mself\u001b[39m):\n\u001b[1;32m    672\u001b[0m     index \u001b[38;5;241m=\u001b[39m \u001b[38;5;28mself\u001b[39m\u001b[38;5;241m.\u001b[39m_next_index()  \u001b[38;5;66;03m# may raise StopIteration\u001b[39;00m\n\u001b[0;32m--> 673\u001b[0m     data \u001b[38;5;241m=\u001b[39m \u001b[38;5;28;43mself\u001b[39;49m\u001b[38;5;241;43m.\u001b[39;49m\u001b[43m_dataset_fetcher\u001b[49m\u001b[38;5;241;43m.\u001b[39;49m\u001b[43mfetch\u001b[49m\u001b[43m(\u001b[49m\u001b[43mindex\u001b[49m\u001b[43m)\u001b[49m  \u001b[38;5;66;03m# may raise StopIteration\u001b[39;00m\n\u001b[1;32m    674\u001b[0m     \u001b[38;5;28;01mif\u001b[39;00m \u001b[38;5;28mself\u001b[39m\u001b[38;5;241m.\u001b[39m_pin_memory:\n\u001b[1;32m    675\u001b[0m         data \u001b[38;5;241m=\u001b[39m _utils\u001b[38;5;241m.\u001b[39mpin_memory\u001b[38;5;241m.\u001b[39mpin_memory(data, \u001b[38;5;28mself\u001b[39m\u001b[38;5;241m.\u001b[39m_pin_memory_device)\n",
      "File \u001b[0;32m~/HGNN/hgnn_env/lib/python3.10/site-packages/torch/utils/data/_utils/fetch.py:55\u001b[0m, in \u001b[0;36m_MapDatasetFetcher.fetch\u001b[0;34m(self, possibly_batched_index)\u001b[0m\n\u001b[1;32m     53\u001b[0m \u001b[38;5;28;01melse\u001b[39;00m:\n\u001b[1;32m     54\u001b[0m     data \u001b[38;5;241m=\u001b[39m \u001b[38;5;28mself\u001b[39m\u001b[38;5;241m.\u001b[39mdataset[possibly_batched_index]\n\u001b[0;32m---> 55\u001b[0m \u001b[38;5;28;01mreturn\u001b[39;00m \u001b[38;5;28;43mself\u001b[39;49m\u001b[38;5;241;43m.\u001b[39;49m\u001b[43mcollate_fn\u001b[49m\u001b[43m(\u001b[49m\u001b[43mdata\u001b[49m\u001b[43m)\u001b[49m\n",
      "File \u001b[0;32m~/HGNN/hgnn_env/lib/python3.10/site-packages/torch_geometric/loader/dataloader.py:27\u001b[0m, in \u001b[0;36mCollater.__call__\u001b[0;34m(self, batch)\u001b[0m\n\u001b[1;32m     25\u001b[0m elem \u001b[38;5;241m=\u001b[39m batch[\u001b[38;5;241m0\u001b[39m]\n\u001b[1;32m     26\u001b[0m \u001b[38;5;28;01mif\u001b[39;00m \u001b[38;5;28misinstance\u001b[39m(elem, BaseData):\n\u001b[0;32m---> 27\u001b[0m     \u001b[38;5;28;01mreturn\u001b[39;00m \u001b[43mBatch\u001b[49m\u001b[38;5;241;43m.\u001b[39;49m\u001b[43mfrom_data_list\u001b[49m\u001b[43m(\u001b[49m\n\u001b[1;32m     28\u001b[0m \u001b[43m        \u001b[49m\u001b[43mbatch\u001b[49m\u001b[43m,\u001b[49m\n\u001b[1;32m     29\u001b[0m \u001b[43m        \u001b[49m\u001b[43mfollow_batch\u001b[49m\u001b[38;5;241;43m=\u001b[39;49m\u001b[38;5;28;43mself\u001b[39;49m\u001b[38;5;241;43m.\u001b[39;49m\u001b[43mfollow_batch\u001b[49m\u001b[43m,\u001b[49m\n\u001b[1;32m     30\u001b[0m \u001b[43m        \u001b[49m\u001b[43mexclude_keys\u001b[49m\u001b[38;5;241;43m=\u001b[39;49m\u001b[38;5;28;43mself\u001b[39;49m\u001b[38;5;241;43m.\u001b[39;49m\u001b[43mexclude_keys\u001b[49m\u001b[43m,\u001b[49m\n\u001b[1;32m     31\u001b[0m \u001b[43m    \u001b[49m\u001b[43m)\u001b[49m\n\u001b[1;32m     32\u001b[0m \u001b[38;5;28;01melif\u001b[39;00m \u001b[38;5;28misinstance\u001b[39m(elem, torch\u001b[38;5;241m.\u001b[39mTensor):\n\u001b[1;32m     33\u001b[0m     \u001b[38;5;28;01mreturn\u001b[39;00m default_collate(batch)\n",
      "File \u001b[0;32m~/HGNN/hgnn_env/lib/python3.10/site-packages/torch_geometric/data/batch.py:97\u001b[0m, in \u001b[0;36mBatch.from_data_list\u001b[0;34m(cls, data_list, follow_batch, exclude_keys)\u001b[0m\n\u001b[1;32m     82\u001b[0m \u001b[38;5;129m@classmethod\u001b[39m\n\u001b[1;32m     83\u001b[0m \u001b[38;5;28;01mdef\u001b[39;00m \u001b[38;5;21mfrom_data_list\u001b[39m(\n\u001b[1;32m     84\u001b[0m     \u001b[38;5;28mcls\u001b[39m,\n\u001b[0;32m   (...)\u001b[0m\n\u001b[1;32m     87\u001b[0m     exclude_keys: Optional[List[\u001b[38;5;28mstr\u001b[39m]] \u001b[38;5;241m=\u001b[39m \u001b[38;5;28;01mNone\u001b[39;00m,\n\u001b[1;32m     88\u001b[0m ) \u001b[38;5;241m-\u001b[39m\u001b[38;5;241m>\u001b[39m Self:\n\u001b[1;32m     89\u001b[0m \u001b[38;5;250m    \u001b[39m\u001b[38;5;124mr\u001b[39m\u001b[38;5;124;03m\"\"\"Constructs a :class:`~torch_geometric.data.Batch` object from a\u001b[39;00m\n\u001b[1;32m     90\u001b[0m \u001b[38;5;124;03m    list of :class:`~torch_geometric.data.Data` or\u001b[39;00m\n\u001b[1;32m     91\u001b[0m \u001b[38;5;124;03m    :class:`~torch_geometric.data.HeteroData` objects.\u001b[39;00m\n\u001b[0;32m   (...)\u001b[0m\n\u001b[1;32m     95\u001b[0m \u001b[38;5;124;03m    Will exclude any keys given in :obj:`exclude_keys`.\u001b[39;00m\n\u001b[1;32m     96\u001b[0m \u001b[38;5;124;03m    \"\"\"\u001b[39;00m\n\u001b[0;32m---> 97\u001b[0m     batch, slice_dict, inc_dict \u001b[38;5;241m=\u001b[39m \u001b[43mcollate\u001b[49m\u001b[43m(\u001b[49m\n\u001b[1;32m     98\u001b[0m \u001b[43m        \u001b[49m\u001b[38;5;28;43mcls\u001b[39;49m\u001b[43m,\u001b[49m\n\u001b[1;32m     99\u001b[0m \u001b[43m        \u001b[49m\u001b[43mdata_list\u001b[49m\u001b[38;5;241;43m=\u001b[39;49m\u001b[43mdata_list\u001b[49m\u001b[43m,\u001b[49m\n\u001b[1;32m    100\u001b[0m \u001b[43m        \u001b[49m\u001b[43mincrement\u001b[49m\u001b[38;5;241;43m=\u001b[39;49m\u001b[38;5;28;43;01mTrue\u001b[39;49;00m\u001b[43m,\u001b[49m\n\u001b[1;32m    101\u001b[0m \u001b[43m        \u001b[49m\u001b[43madd_batch\u001b[49m\u001b[38;5;241;43m=\u001b[39;49m\u001b[38;5;129;43;01mnot\u001b[39;49;00m\u001b[43m \u001b[49m\u001b[38;5;28;43misinstance\u001b[39;49m\u001b[43m(\u001b[49m\u001b[43mdata_list\u001b[49m\u001b[43m[\u001b[49m\u001b[38;5;241;43m0\u001b[39;49m\u001b[43m]\u001b[49m\u001b[43m,\u001b[49m\u001b[43m \u001b[49m\u001b[43mBatch\u001b[49m\u001b[43m)\u001b[49m\u001b[43m,\u001b[49m\n\u001b[1;32m    102\u001b[0m \u001b[43m        \u001b[49m\u001b[43mfollow_batch\u001b[49m\u001b[38;5;241;43m=\u001b[39;49m\u001b[43mfollow_batch\u001b[49m\u001b[43m,\u001b[49m\n\u001b[1;32m    103\u001b[0m \u001b[43m        \u001b[49m\u001b[43mexclude_keys\u001b[49m\u001b[38;5;241;43m=\u001b[39;49m\u001b[43mexclude_keys\u001b[49m\u001b[43m,\u001b[49m\n\u001b[1;32m    104\u001b[0m \u001b[43m    \u001b[49m\u001b[43m)\u001b[49m\n\u001b[1;32m    106\u001b[0m     batch\u001b[38;5;241m.\u001b[39m_num_graphs \u001b[38;5;241m=\u001b[39m \u001b[38;5;28mlen\u001b[39m(data_list)  \u001b[38;5;66;03m# type: ignore\u001b[39;00m\n\u001b[1;32m    107\u001b[0m     batch\u001b[38;5;241m.\u001b[39m_slice_dict \u001b[38;5;241m=\u001b[39m slice_dict  \u001b[38;5;66;03m# type: ignore\u001b[39;00m\n",
      "File \u001b[0;32m~/HGNN/hgnn_env/lib/python3.10/site-packages/torch_geometric/data/collate.py:109\u001b[0m, in \u001b[0;36mcollate\u001b[0;34m(cls, data_list, increment, add_batch, follow_batch, exclude_keys)\u001b[0m\n\u001b[1;32m    106\u001b[0m     \u001b[38;5;28;01mcontinue\u001b[39;00m\n\u001b[1;32m    108\u001b[0m \u001b[38;5;66;03m# Collate attributes into a unified representation:\u001b[39;00m\n\u001b[0;32m--> 109\u001b[0m value, slices, incs \u001b[38;5;241m=\u001b[39m \u001b[43m_collate\u001b[49m\u001b[43m(\u001b[49m\u001b[43mattr\u001b[49m\u001b[43m,\u001b[49m\u001b[43m \u001b[49m\u001b[43mvalues\u001b[49m\u001b[43m,\u001b[49m\u001b[43m \u001b[49m\u001b[43mdata_list\u001b[49m\u001b[43m,\u001b[49m\u001b[43m \u001b[49m\u001b[43mstores\u001b[49m\u001b[43m,\u001b[49m\n\u001b[1;32m    110\u001b[0m \u001b[43m                               \u001b[49m\u001b[43mincrement\u001b[49m\u001b[43m)\u001b[49m\n\u001b[1;32m    112\u001b[0m \u001b[38;5;66;03m# If parts of the data are already on GPU, make sure that auxiliary\u001b[39;00m\n\u001b[1;32m    113\u001b[0m \u001b[38;5;66;03m# data like `batch` or `ptr` are also created on GPU:\u001b[39;00m\n\u001b[1;32m    114\u001b[0m \u001b[38;5;28;01mif\u001b[39;00m \u001b[38;5;28misinstance\u001b[39m(value, Tensor) \u001b[38;5;129;01mand\u001b[39;00m value\u001b[38;5;241m.\u001b[39mis_cuda:\n",
      "File \u001b[0;32m~/HGNN/hgnn_env/lib/python3.10/site-packages/torch_geometric/data/collate.py:259\u001b[0m, in \u001b[0;36m_collate\u001b[0;34m(key, values, data_list, stores, increment)\u001b[0m\n\u001b[1;32m    257\u001b[0m     value_dict, slice_dict, inc_dict \u001b[38;5;241m=\u001b[39m {}, {}, {}\n\u001b[1;32m    258\u001b[0m     \u001b[38;5;28;01mfor\u001b[39;00m key \u001b[38;5;129;01min\u001b[39;00m elem\u001b[38;5;241m.\u001b[39mkeys():\n\u001b[0;32m--> 259\u001b[0m         value_dict[key], slice_dict[key], inc_dict[key] \u001b[38;5;241m=\u001b[39m \u001b[43m_collate\u001b[49m\u001b[43m(\u001b[49m\n\u001b[1;32m    260\u001b[0m \u001b[43m            \u001b[49m\u001b[43mkey\u001b[49m\u001b[43m,\u001b[49m\u001b[43m \u001b[49m\u001b[43m[\u001b[49m\u001b[43mv\u001b[49m\u001b[43m[\u001b[49m\u001b[43mkey\u001b[49m\u001b[43m]\u001b[49m\u001b[43m \u001b[49m\u001b[38;5;28;43;01mfor\u001b[39;49;00m\u001b[43m \u001b[49m\u001b[43mv\u001b[49m\u001b[43m \u001b[49m\u001b[38;5;129;43;01min\u001b[39;49;00m\u001b[43m \u001b[49m\u001b[43mvalues\u001b[49m\u001b[43m]\u001b[49m\u001b[43m,\u001b[49m\u001b[43m \u001b[49m\u001b[43mdata_list\u001b[49m\u001b[43m,\u001b[49m\u001b[43m \u001b[49m\u001b[43mstores\u001b[49m\u001b[43m,\u001b[49m\u001b[43m \u001b[49m\u001b[43mincrement\u001b[49m\u001b[43m)\u001b[49m\n\u001b[1;32m    261\u001b[0m     \u001b[38;5;28;01mreturn\u001b[39;00m value_dict, slice_dict, inc_dict\n\u001b[1;32m    263\u001b[0m \u001b[38;5;28;01melif\u001b[39;00m (\u001b[38;5;28misinstance\u001b[39m(elem, Sequence) \u001b[38;5;129;01mand\u001b[39;00m \u001b[38;5;129;01mnot\u001b[39;00m \u001b[38;5;28misinstance\u001b[39m(elem, \u001b[38;5;28mstr\u001b[39m)\n\u001b[1;32m    264\u001b[0m       \u001b[38;5;129;01mand\u001b[39;00m \u001b[38;5;28mlen\u001b[39m(elem) \u001b[38;5;241m>\u001b[39m \u001b[38;5;241m0\u001b[39m \u001b[38;5;129;01mand\u001b[39;00m \u001b[38;5;28misinstance\u001b[39m(elem[\u001b[38;5;241m0\u001b[39m], (Tensor, SparseTensor))):\n\u001b[1;32m    265\u001b[0m     \u001b[38;5;66;03m# Recursively collate elements of lists.\u001b[39;00m\n",
      "File \u001b[0;32m~/HGNN/hgnn_env/lib/python3.10/site-packages/torch_geometric/data/collate.py:165\u001b[0m, in \u001b[0;36m_collate\u001b[0;34m(key, values, data_list, stores, increment)\u001b[0m\n\u001b[1;32m    163\u001b[0m cat_dim \u001b[38;5;241m=\u001b[39m data_list[\u001b[38;5;241m0\u001b[39m]\u001b[38;5;241m.\u001b[39m__cat_dim__(key, elem, stores[\u001b[38;5;241m0\u001b[39m])\n\u001b[1;32m    164\u001b[0m \u001b[38;5;28;01mif\u001b[39;00m cat_dim \u001b[38;5;129;01mis\u001b[39;00m \u001b[38;5;28;01mNone\u001b[39;00m \u001b[38;5;129;01mor\u001b[39;00m elem\u001b[38;5;241m.\u001b[39mdim() \u001b[38;5;241m==\u001b[39m \u001b[38;5;241m0\u001b[39m:\n\u001b[0;32m--> 165\u001b[0m     values \u001b[38;5;241m=\u001b[39m [value\u001b[38;5;241m.\u001b[39munsqueeze(\u001b[38;5;241m0\u001b[39m) \u001b[38;5;28;01mfor\u001b[39;00m value \u001b[38;5;129;01min\u001b[39;00m values]\n\u001b[1;32m    166\u001b[0m sizes \u001b[38;5;241m=\u001b[39m torch\u001b[38;5;241m.\u001b[39mtensor([value\u001b[38;5;241m.\u001b[39msize(cat_dim \u001b[38;5;129;01mor\u001b[39;00m \u001b[38;5;241m0\u001b[39m) \u001b[38;5;28;01mfor\u001b[39;00m value \u001b[38;5;129;01min\u001b[39;00m values])\n\u001b[1;32m    167\u001b[0m slices \u001b[38;5;241m=\u001b[39m cumsum(sizes)\n",
      "File \u001b[0;32m~/HGNN/hgnn_env/lib/python3.10/site-packages/torch_geometric/data/collate.py:165\u001b[0m, in \u001b[0;36m<listcomp>\u001b[0;34m(.0)\u001b[0m\n\u001b[1;32m    163\u001b[0m cat_dim \u001b[38;5;241m=\u001b[39m data_list[\u001b[38;5;241m0\u001b[39m]\u001b[38;5;241m.\u001b[39m__cat_dim__(key, elem, stores[\u001b[38;5;241m0\u001b[39m])\n\u001b[1;32m    164\u001b[0m \u001b[38;5;28;01mif\u001b[39;00m cat_dim \u001b[38;5;129;01mis\u001b[39;00m \u001b[38;5;28;01mNone\u001b[39;00m \u001b[38;5;129;01mor\u001b[39;00m elem\u001b[38;5;241m.\u001b[39mdim() \u001b[38;5;241m==\u001b[39m \u001b[38;5;241m0\u001b[39m:\n\u001b[0;32m--> 165\u001b[0m     values \u001b[38;5;241m=\u001b[39m [\u001b[43mvalue\u001b[49m\u001b[38;5;241;43m.\u001b[39;49m\u001b[43munsqueeze\u001b[49m\u001b[43m(\u001b[49m\u001b[38;5;241;43m0\u001b[39;49m\u001b[43m)\u001b[49m \u001b[38;5;28;01mfor\u001b[39;00m value \u001b[38;5;129;01min\u001b[39;00m values]\n\u001b[1;32m    166\u001b[0m sizes \u001b[38;5;241m=\u001b[39m torch\u001b[38;5;241m.\u001b[39mtensor([value\u001b[38;5;241m.\u001b[39msize(cat_dim \u001b[38;5;129;01mor\u001b[39;00m \u001b[38;5;241m0\u001b[39m) \u001b[38;5;28;01mfor\u001b[39;00m value \u001b[38;5;129;01min\u001b[39;00m values])\n\u001b[1;32m    167\u001b[0m slices \u001b[38;5;241m=\u001b[39m cumsum(sizes)\n",
      "\u001b[0;31mKeyboardInterrupt\u001b[0m: "
     ]
    }
   ],
   "source": [
    "train_evaluate(config)"
   ]
  },
  {
   "cell_type": "code",
   "execution_count": null,
   "metadata": {},
   "outputs": [],
   "source": [
    "best_parameters, values, experiment, model = optimize(\n",
    "    parameters=[\n",
    "        {\"name\": \"hid\", \"type\": \"choice\", \"values\": [128], \"value_type\": \"int\", \"is_ordered\" : True,\"sort_values\":False},\n",
    "        #{\"name\": \"layers\", \"type\": \"choice\", \"values\": [2, 3, 4, 5], \"value_type\": \"int\", \"is_ordered\" : True, \"sort_values\":False},\n",
    "        {\"name\": \"layers\", \"type\": \"choice\", \"values\": [2], \"value_type\": \"int\", \"is_ordered\" : True, \"sort_values\":False},\n",
    "        {\"name\": \"lr\", \"type\": \"range\", \"bounds\": [1e-4, 1e-1], \"value_type\": \"float\", \"log_scale\": True},\n",
    "        {\"name\": \"batch_size\", \"type\": \"choice\", \"values\": [256, 1024], \"value_type\": \"int\", \"is_ordered\" : True,\"sort_values\":False}, \n",
    "        {\"name\": \"heads\", \"type\": \"choice\", \"values\": [1,2], \"value_type\": \"int\", \"is_ordered\" : True,\"sort_values\":False},\n",
    "        #{\"name\": \"heads\", \"type\": \"choice\", \"values\": [1], \"value_type\": \"int\", \"is_ordered\" : True,\"sort_values\":False},\n",
    "        \n",
    "        #{\"name\": \"aggregation\", \"type\" : \"choice\", \"values\" :[\"sum\", \"mean\", \"max\"], \"value_type\" : \"str\"}\n",
    "        {\"name\": \"aggregation\", \"type\" : \"choice\", \"values\" :[\"max\"], \"value_type\" : \"str\"},\n",
    "     \n",
    "    ],\n",
    "  \n",
    "    evaluation_function=train_evaluate,\n",
    "    objective_name='AVG_total_loss',\n",
    "    arms_per_trial=1,\n",
    "    minimize = True,\n",
    "    random_seed = 123,\n",
    "    total_trials = 20\n",
    ")\n",
    "\n",
    "print(best_parameters)\n",
    "means, covariances = values\n",
    "print(means)\n",
    "print(experiment)"
   ]
  },
  {
   "cell_type": "code",
   "execution_count": null,
   "metadata": {},
   "outputs": [],
   "source": [
    "from ax.service.utils.report_utils import exp_to_df\n",
    "\n",
    "results = exp_to_df(experiment)"
   ]
  },
  {
   "cell_type": "code",
   "execution_count": null,
   "metadata": {},
   "outputs": [],
   "source": [
    "results.sort_values(by=\"AVG_total_loss\")"
   ]
  },
  {
   "cell_type": "code",
   "execution_count": 32,
   "metadata": {},
   "outputs": [],
   "source": [
    "results = results.sort_values(by=\"AVG_total_loss\")"
   ]
  },
  {
   "cell_type": "code",
   "execution_count": 33,
   "metadata": {},
   "outputs": [],
   "source": [
    "results.to_csv(\"SP2020.csv\", sep=\",\")"
   ]
  }
 ],
 "metadata": {
  "kernelspec": {
   "display_name": "hgnn_env",
   "language": "python",
   "name": "python3"
  },
  "language_info": {
   "codemirror_mode": {
    "name": "ipython",
    "version": 3
   },
   "file_extension": ".py",
   "mimetype": "text/x-python",
   "name": "python",
   "nbconvert_exporter": "python",
   "pygments_lexer": "ipython3",
   "version": "3.10.12"
  }
 },
 "nbformat": 4,
 "nbformat_minor": 2
}
